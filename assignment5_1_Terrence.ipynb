{
  "cells": [
    {
      "cell_type": "markdown",
      "metadata": {
        "id": "n4GGMzX311oU"
      },
      "source": [
        "### Will a Customer Accept the Coupon?\n",
        "\n",
        "**Context**\n",
        "\n",
        "Imagine driving through town and a coupon is delivered to your cell phone for a restaraunt near where you are driving. Would you accept that coupon and take a short detour to the restaraunt? Would you accept the coupon but use it on a sunbsequent trip? Would you ignore the coupon entirely? What if the coupon was for a bar instead of a restaraunt? What about a coffee house? Would you accept a bar coupon with a minor passenger in the car? What about if it was just you and your partner in the car? Would weather impact the rate of acceptance? What about the time of day?\n",
        "\n",
        "Obviously, proximity to the business is a factor on whether the coupon is delivered to the driver or not, but what are the factors that determine whether a driver accepts the coupon once it is delivered to them? How would you determine whether a driver is likely to accept a coupon?\n",
        "\n",
        "**Overview**\n",
        "\n",
        "The goal of this project is to use what you know about visualizations and probability distributions to distinguish between customers who accepted a driving coupon versus those that did not.\n",
        "\n",
        "**Data**\n",
        "\n",
        "This data comes to us from the UCI Machine Learning repository and was collected via a survey on Amazon Mechanical Turk. The survey describes different driving scenarios including the destination, current time, weather, passenger, etc., and then ask the person whether he will accept the coupon if he is the driver. Answers that the user will drive there ‘right away’ or ‘later before the coupon expires’ are labeled as ‘Y = 1’ and answers ‘no, I do not want the coupon’ are labeled as ‘Y = 0’.  There are five different types of coupons -- less expensive restaurants (under \\\\$20), coffee houses, carry out & take away, bar, and more expensive restaurants (\\\\$20 - \\\\$50)."
      ]
    },
    {
      "cell_type": "markdown",
      "metadata": {
        "id": "kgLGGuea11oX"
      },
      "source": [
        "**Deliverables**\n",
        "\n",
        "Your final product should be a brief report that highlights the differences between customers who did and did not accept the coupons.  To explore the data you will utilize your knowledge of plotting, statistical summaries, and visualization using Python. You will publish your findings in a public facing github repository as your first portfolio piece.\n",
        "\n",
        "\n",
        "\n"
      ]
    },
    {
      "cell_type": "markdown",
      "metadata": {
        "id": "pf2sAGDv11oY"
      },
      "source": [
        "### Data Description\n",
        "Keep in mind that these values mentioned below are average values.\n",
        "\n",
        "The attributes of this data set include:\n",
        "1. User attributes\n",
        "    -  Gender: male, female\n",
        "    -  Age: below 21, 21 to 25, 26 to 30, etc.\n",
        "    -  Marital Status: single, married partner, unmarried partner, or widowed\n",
        "    -  Number of children: 0, 1, or more than 1\n",
        "    -  Education: high school, bachelors degree, associates degree, or graduate degree\n",
        "    -  Occupation: architecture & engineering, business & financial, etc.\n",
        "    -  Annual income: less than \\\\$12500, \\\\$12500 - \\\\$24999, \\\\$25000 - \\\\$37499, etc.\n",
        "    -  Number of times that he/she goes to a bar: 0, less than 1, 1 to 3, 4 to 8 or greater than 8\n",
        "    -  Number of times that he/she buys takeaway food: 0, less than 1, 1 to 3, 4 to 8 or greater\n",
        "    than 8\n",
        "    -  Number of times that he/she goes to a coffee house: 0, less than 1, 1 to 3, 4 to 8 or\n",
        "    greater than 8\n",
        "    -  Number of times that he/she eats at a restaurant with average expense less than \\\\$20 per\n",
        "    person: 0, less than 1, 1 to 3, 4 to 8 or greater than 8\n",
        "    -  Number of times that he/she goes to a bar: 0, less than 1, 1 to 3, 4 to 8 or greater than 8\n",
        "    \n",
        "\n",
        "2. Contextual attributes\n",
        "    - Driving destination: home, work, or no urgent destination\n",
        "    - Location of user, coupon and destination: we provide a map to show the geographical\n",
        "    location of the user, destination, and the venue, and we mark the distance between each\n",
        "    two places with time of driving. The user can see whether the venue is in the same\n",
        "    direction as the destination.\n",
        "    - Weather: sunny, rainy, or snowy\n",
        "    - Temperature: 30F, 55F, or 80F\n",
        "    - Time: 10AM, 2PM, or 6PM\n",
        "    - Passenger: alone, partner, kid(s), or friend(s)\n",
        "\n",
        "\n",
        "3. Coupon attributes\n",
        "    - time before it expires: 2 hours or one day"
      ]
    },
    {
      "cell_type": "code",
      "execution_count": 28,
      "metadata": {
        "id": "QLJfyaCc11oZ"
      },
      "outputs": [],
      "source": [
        "import matplotlib.pyplot as plt\n",
        "import seaborn as sns\n",
        "import pandas as pd\n",
        "import numpy as np"
      ]
    },
    {
      "cell_type": "markdown",
      "metadata": {
        "id": "dp8_4rMZ11oa"
      },
      "source": [
        "### Problems\n",
        "\n",
        "Use the prompts below to get started with your data analysis.  \n",
        "\n",
        "1. Read in the `coupons.csv` file.\n",
        "\n",
        "\n"
      ]
    },
    {
      "cell_type": "code",
      "execution_count": 4,
      "metadata": {
        "id": "1w3Cg2iX11oa"
      },
      "outputs": [],
      "source": [
        "df = pd.read_csv('coupons.csv')"
      ]
    },
    {
      "cell_type": "code",
      "execution_count": 5,
      "metadata": {
        "colab": {
          "base_uri": "https://localhost:8080/",
          "height": 586
        },
        "id": "Sfnx_AGB11oa",
        "outputId": "fba62b27-cd47-4364-d7f6-d02e3e02608e"
      },
      "outputs": [
        {
          "data": {
            "text/html": [
              "<div>\n",
              "<style scoped>\n",
              "    .dataframe tbody tr th:only-of-type {\n",
              "        vertical-align: middle;\n",
              "    }\n",
              "\n",
              "    .dataframe tbody tr th {\n",
              "        vertical-align: top;\n",
              "    }\n",
              "\n",
              "    .dataframe thead th {\n",
              "        text-align: right;\n",
              "    }\n",
              "</style>\n",
              "<table border=\"1\" class=\"dataframe\">\n",
              "  <thead>\n",
              "    <tr style=\"text-align: right;\">\n",
              "      <th></th>\n",
              "      <th>destination</th>\n",
              "      <th>passanger</th>\n",
              "      <th>weather</th>\n",
              "      <th>temperature</th>\n",
              "      <th>time</th>\n",
              "      <th>coupon</th>\n",
              "      <th>expiration</th>\n",
              "      <th>gender</th>\n",
              "      <th>age</th>\n",
              "      <th>maritalStatus</th>\n",
              "      <th>...</th>\n",
              "      <th>CoffeeHouse</th>\n",
              "      <th>CarryAway</th>\n",
              "      <th>RestaurantLessThan20</th>\n",
              "      <th>Restaurant20To50</th>\n",
              "      <th>toCoupon_GEQ5min</th>\n",
              "      <th>toCoupon_GEQ15min</th>\n",
              "      <th>toCoupon_GEQ25min</th>\n",
              "      <th>direction_same</th>\n",
              "      <th>direction_opp</th>\n",
              "      <th>Y</th>\n",
              "    </tr>\n",
              "  </thead>\n",
              "  <tbody>\n",
              "    <tr>\n",
              "      <th>0</th>\n",
              "      <td>No Urgent Place</td>\n",
              "      <td>Alone</td>\n",
              "      <td>Sunny</td>\n",
              "      <td>55</td>\n",
              "      <td>2PM</td>\n",
              "      <td>Restaurant(&lt;20)</td>\n",
              "      <td>1d</td>\n",
              "      <td>Female</td>\n",
              "      <td>21</td>\n",
              "      <td>Unmarried partner</td>\n",
              "      <td>...</td>\n",
              "      <td>never</td>\n",
              "      <td>NaN</td>\n",
              "      <td>4~8</td>\n",
              "      <td>1~3</td>\n",
              "      <td>1</td>\n",
              "      <td>0</td>\n",
              "      <td>0</td>\n",
              "      <td>0</td>\n",
              "      <td>1</td>\n",
              "      <td>1</td>\n",
              "    </tr>\n",
              "    <tr>\n",
              "      <th>1</th>\n",
              "      <td>No Urgent Place</td>\n",
              "      <td>Friend(s)</td>\n",
              "      <td>Sunny</td>\n",
              "      <td>80</td>\n",
              "      <td>10AM</td>\n",
              "      <td>Coffee House</td>\n",
              "      <td>2h</td>\n",
              "      <td>Female</td>\n",
              "      <td>21</td>\n",
              "      <td>Unmarried partner</td>\n",
              "      <td>...</td>\n",
              "      <td>never</td>\n",
              "      <td>NaN</td>\n",
              "      <td>4~8</td>\n",
              "      <td>1~3</td>\n",
              "      <td>1</td>\n",
              "      <td>0</td>\n",
              "      <td>0</td>\n",
              "      <td>0</td>\n",
              "      <td>1</td>\n",
              "      <td>0</td>\n",
              "    </tr>\n",
              "    <tr>\n",
              "      <th>2</th>\n",
              "      <td>No Urgent Place</td>\n",
              "      <td>Friend(s)</td>\n",
              "      <td>Sunny</td>\n",
              "      <td>80</td>\n",
              "      <td>10AM</td>\n",
              "      <td>Carry out &amp; Take away</td>\n",
              "      <td>2h</td>\n",
              "      <td>Female</td>\n",
              "      <td>21</td>\n",
              "      <td>Unmarried partner</td>\n",
              "      <td>...</td>\n",
              "      <td>never</td>\n",
              "      <td>NaN</td>\n",
              "      <td>4~8</td>\n",
              "      <td>1~3</td>\n",
              "      <td>1</td>\n",
              "      <td>1</td>\n",
              "      <td>0</td>\n",
              "      <td>0</td>\n",
              "      <td>1</td>\n",
              "      <td>1</td>\n",
              "    </tr>\n",
              "    <tr>\n",
              "      <th>3</th>\n",
              "      <td>No Urgent Place</td>\n",
              "      <td>Friend(s)</td>\n",
              "      <td>Sunny</td>\n",
              "      <td>80</td>\n",
              "      <td>2PM</td>\n",
              "      <td>Coffee House</td>\n",
              "      <td>2h</td>\n",
              "      <td>Female</td>\n",
              "      <td>21</td>\n",
              "      <td>Unmarried partner</td>\n",
              "      <td>...</td>\n",
              "      <td>never</td>\n",
              "      <td>NaN</td>\n",
              "      <td>4~8</td>\n",
              "      <td>1~3</td>\n",
              "      <td>1</td>\n",
              "      <td>1</td>\n",
              "      <td>0</td>\n",
              "      <td>0</td>\n",
              "      <td>1</td>\n",
              "      <td>0</td>\n",
              "    </tr>\n",
              "    <tr>\n",
              "      <th>4</th>\n",
              "      <td>No Urgent Place</td>\n",
              "      <td>Friend(s)</td>\n",
              "      <td>Sunny</td>\n",
              "      <td>80</td>\n",
              "      <td>2PM</td>\n",
              "      <td>Coffee House</td>\n",
              "      <td>1d</td>\n",
              "      <td>Female</td>\n",
              "      <td>21</td>\n",
              "      <td>Unmarried partner</td>\n",
              "      <td>...</td>\n",
              "      <td>never</td>\n",
              "      <td>NaN</td>\n",
              "      <td>4~8</td>\n",
              "      <td>1~3</td>\n",
              "      <td>1</td>\n",
              "      <td>1</td>\n",
              "      <td>0</td>\n",
              "      <td>0</td>\n",
              "      <td>1</td>\n",
              "      <td>0</td>\n",
              "    </tr>\n",
              "    <tr>\n",
              "      <th>5</th>\n",
              "      <td>No Urgent Place</td>\n",
              "      <td>Friend(s)</td>\n",
              "      <td>Sunny</td>\n",
              "      <td>80</td>\n",
              "      <td>6PM</td>\n",
              "      <td>Restaurant(&lt;20)</td>\n",
              "      <td>2h</td>\n",
              "      <td>Female</td>\n",
              "      <td>21</td>\n",
              "      <td>Unmarried partner</td>\n",
              "      <td>...</td>\n",
              "      <td>never</td>\n",
              "      <td>NaN</td>\n",
              "      <td>4~8</td>\n",
              "      <td>1~3</td>\n",
              "      <td>1</td>\n",
              "      <td>1</td>\n",
              "      <td>0</td>\n",
              "      <td>0</td>\n",
              "      <td>1</td>\n",
              "      <td>1</td>\n",
              "    </tr>\n",
              "    <tr>\n",
              "      <th>6</th>\n",
              "      <td>No Urgent Place</td>\n",
              "      <td>Friend(s)</td>\n",
              "      <td>Sunny</td>\n",
              "      <td>55</td>\n",
              "      <td>2PM</td>\n",
              "      <td>Carry out &amp; Take away</td>\n",
              "      <td>1d</td>\n",
              "      <td>Female</td>\n",
              "      <td>21</td>\n",
              "      <td>Unmarried partner</td>\n",
              "      <td>...</td>\n",
              "      <td>never</td>\n",
              "      <td>NaN</td>\n",
              "      <td>4~8</td>\n",
              "      <td>1~3</td>\n",
              "      <td>1</td>\n",
              "      <td>1</td>\n",
              "      <td>0</td>\n",
              "      <td>0</td>\n",
              "      <td>1</td>\n",
              "      <td>1</td>\n",
              "    </tr>\n",
              "    <tr>\n",
              "      <th>7</th>\n",
              "      <td>No Urgent Place</td>\n",
              "      <td>Kid(s)</td>\n",
              "      <td>Sunny</td>\n",
              "      <td>80</td>\n",
              "      <td>10AM</td>\n",
              "      <td>Restaurant(&lt;20)</td>\n",
              "      <td>2h</td>\n",
              "      <td>Female</td>\n",
              "      <td>21</td>\n",
              "      <td>Unmarried partner</td>\n",
              "      <td>...</td>\n",
              "      <td>never</td>\n",
              "      <td>NaN</td>\n",
              "      <td>4~8</td>\n",
              "      <td>1~3</td>\n",
              "      <td>1</td>\n",
              "      <td>1</td>\n",
              "      <td>0</td>\n",
              "      <td>0</td>\n",
              "      <td>1</td>\n",
              "      <td>1</td>\n",
              "    </tr>\n",
              "    <tr>\n",
              "      <th>8</th>\n",
              "      <td>No Urgent Place</td>\n",
              "      <td>Kid(s)</td>\n",
              "      <td>Sunny</td>\n",
              "      <td>80</td>\n",
              "      <td>10AM</td>\n",
              "      <td>Carry out &amp; Take away</td>\n",
              "      <td>2h</td>\n",
              "      <td>Female</td>\n",
              "      <td>21</td>\n",
              "      <td>Unmarried partner</td>\n",
              "      <td>...</td>\n",
              "      <td>never</td>\n",
              "      <td>NaN</td>\n",
              "      <td>4~8</td>\n",
              "      <td>1~3</td>\n",
              "      <td>1</td>\n",
              "      <td>1</td>\n",
              "      <td>0</td>\n",
              "      <td>0</td>\n",
              "      <td>1</td>\n",
              "      <td>1</td>\n",
              "    </tr>\n",
              "    <tr>\n",
              "      <th>9</th>\n",
              "      <td>No Urgent Place</td>\n",
              "      <td>Kid(s)</td>\n",
              "      <td>Sunny</td>\n",
              "      <td>80</td>\n",
              "      <td>10AM</td>\n",
              "      <td>Bar</td>\n",
              "      <td>1d</td>\n",
              "      <td>Female</td>\n",
              "      <td>21</td>\n",
              "      <td>Unmarried partner</td>\n",
              "      <td>...</td>\n",
              "      <td>never</td>\n",
              "      <td>NaN</td>\n",
              "      <td>4~8</td>\n",
              "      <td>1~3</td>\n",
              "      <td>1</td>\n",
              "      <td>1</td>\n",
              "      <td>0</td>\n",
              "      <td>0</td>\n",
              "      <td>1</td>\n",
              "      <td>0</td>\n",
              "    </tr>\n",
              "  </tbody>\n",
              "</table>\n",
              "<p>10 rows × 26 columns</p>\n",
              "</div>"
            ],
            "text/plain": [
              "       destination  passanger weather  temperature  time  \\\n",
              "0  No Urgent Place      Alone   Sunny           55   2PM   \n",
              "1  No Urgent Place  Friend(s)   Sunny           80  10AM   \n",
              "2  No Urgent Place  Friend(s)   Sunny           80  10AM   \n",
              "3  No Urgent Place  Friend(s)   Sunny           80   2PM   \n",
              "4  No Urgent Place  Friend(s)   Sunny           80   2PM   \n",
              "5  No Urgent Place  Friend(s)   Sunny           80   6PM   \n",
              "6  No Urgent Place  Friend(s)   Sunny           55   2PM   \n",
              "7  No Urgent Place     Kid(s)   Sunny           80  10AM   \n",
              "8  No Urgent Place     Kid(s)   Sunny           80  10AM   \n",
              "9  No Urgent Place     Kid(s)   Sunny           80  10AM   \n",
              "\n",
              "                  coupon expiration  gender age      maritalStatus  ...  \\\n",
              "0        Restaurant(<20)         1d  Female  21  Unmarried partner  ...   \n",
              "1           Coffee House         2h  Female  21  Unmarried partner  ...   \n",
              "2  Carry out & Take away         2h  Female  21  Unmarried partner  ...   \n",
              "3           Coffee House         2h  Female  21  Unmarried partner  ...   \n",
              "4           Coffee House         1d  Female  21  Unmarried partner  ...   \n",
              "5        Restaurant(<20)         2h  Female  21  Unmarried partner  ...   \n",
              "6  Carry out & Take away         1d  Female  21  Unmarried partner  ...   \n",
              "7        Restaurant(<20)         2h  Female  21  Unmarried partner  ...   \n",
              "8  Carry out & Take away         2h  Female  21  Unmarried partner  ...   \n",
              "9                    Bar         1d  Female  21  Unmarried partner  ...   \n",
              "\n",
              "   CoffeeHouse CarryAway RestaurantLessThan20 Restaurant20To50  \\\n",
              "0        never       NaN                  4~8              1~3   \n",
              "1        never       NaN                  4~8              1~3   \n",
              "2        never       NaN                  4~8              1~3   \n",
              "3        never       NaN                  4~8              1~3   \n",
              "4        never       NaN                  4~8              1~3   \n",
              "5        never       NaN                  4~8              1~3   \n",
              "6        never       NaN                  4~8              1~3   \n",
              "7        never       NaN                  4~8              1~3   \n",
              "8        never       NaN                  4~8              1~3   \n",
              "9        never       NaN                  4~8              1~3   \n",
              "\n",
              "  toCoupon_GEQ5min toCoupon_GEQ15min toCoupon_GEQ25min direction_same  \\\n",
              "0                1                 0                 0              0   \n",
              "1                1                 0                 0              0   \n",
              "2                1                 1                 0              0   \n",
              "3                1                 1                 0              0   \n",
              "4                1                 1                 0              0   \n",
              "5                1                 1                 0              0   \n",
              "6                1                 1                 0              0   \n",
              "7                1                 1                 0              0   \n",
              "8                1                 1                 0              0   \n",
              "9                1                 1                 0              0   \n",
              "\n",
              "  direction_opp  Y  \n",
              "0             1  1  \n",
              "1             1  0  \n",
              "2             1  1  \n",
              "3             1  0  \n",
              "4             1  0  \n",
              "5             1  1  \n",
              "6             1  1  \n",
              "7             1  1  \n",
              "8             1  1  \n",
              "9             1  0  \n",
              "\n",
              "[10 rows x 26 columns]"
            ]
          },
          "execution_count": 5,
          "metadata": {},
          "output_type": "execute_result"
        }
      ],
      "source": [
        "df.head(10)"
      ]
    },
    {
      "cell_type": "code",
      "execution_count": 6,
      "metadata": {
        "colab": {
          "base_uri": "https://localhost:8080/"
        },
        "id": "cPTUHuxmsdUn",
        "outputId": "7c170f3e-3bc4-498c-d515-2738599b6192"
      },
      "outputs": [
        {
          "data": {
            "text/plain": [
              "(12684, 26)"
            ]
          },
          "execution_count": 6,
          "metadata": {},
          "output_type": "execute_result"
        }
      ],
      "source": [
        "df.shape"
      ]
    },
    {
      "cell_type": "code",
      "execution_count": 7,
      "metadata": {
        "colab": {
          "base_uri": "https://localhost:8080/"
        },
        "id": "EJR4oFJ1tKz1",
        "outputId": "239660a7-abdb-4fc4-cac0-823d95b46467"
      },
      "outputs": [
        {
          "data": {
            "text/plain": [
              "Index(['destination', 'passanger', 'weather', 'temperature', 'time', 'coupon',\n",
              "       'expiration', 'gender', 'age', 'maritalStatus', 'has_children',\n",
              "       'education', 'occupation', 'income', 'car', 'Bar', 'CoffeeHouse',\n",
              "       'CarryAway', 'RestaurantLessThan20', 'Restaurant20To50',\n",
              "       'toCoupon_GEQ5min', 'toCoupon_GEQ15min', 'toCoupon_GEQ25min',\n",
              "       'direction_same', 'direction_opp', 'Y'],\n",
              "      dtype='object')"
            ]
          },
          "execution_count": 7,
          "metadata": {},
          "output_type": "execute_result"
        }
      ],
      "source": [
        "df.columns"
      ]
    },
    {
      "cell_type": "code",
      "execution_count": 8,
      "metadata": {
        "colab": {
          "base_uri": "https://localhost:8080/"
        },
        "id": "iHZKSxLtVUHZ",
        "outputId": "fa0ea104-27cc-4104-e8a0-e00e53584714"
      },
      "outputs": [
        {
          "name": "stdout",
          "output_type": "stream",
          "text": [
            "<class 'pandas.core.frame.DataFrame'>\n",
            "RangeIndex: 12684 entries, 0 to 12683\n",
            "Data columns (total 26 columns):\n",
            " #   Column                Non-Null Count  Dtype \n",
            "---  ------                --------------  ----- \n",
            " 0   destination           12684 non-null  object\n",
            " 1   passanger             12684 non-null  object\n",
            " 2   weather               12684 non-null  object\n",
            " 3   temperature           12684 non-null  int64 \n",
            " 4   time                  12684 non-null  object\n",
            " 5   coupon                12684 non-null  object\n",
            " 6   expiration            12684 non-null  object\n",
            " 7   gender                12684 non-null  object\n",
            " 8   age                   12684 non-null  object\n",
            " 9   maritalStatus         12684 non-null  object\n",
            " 10  has_children          12684 non-null  int64 \n",
            " 11  education             12684 non-null  object\n",
            " 12  occupation            12684 non-null  object\n",
            " 13  income                12684 non-null  object\n",
            " 14  car                   108 non-null    object\n",
            " 15  Bar                   12577 non-null  object\n",
            " 16  CoffeeHouse           12467 non-null  object\n",
            " 17  CarryAway             12533 non-null  object\n",
            " 18  RestaurantLessThan20  12554 non-null  object\n",
            " 19  Restaurant20To50      12495 non-null  object\n",
            " 20  toCoupon_GEQ5min      12684 non-null  int64 \n",
            " 21  toCoupon_GEQ15min     12684 non-null  int64 \n",
            " 22  toCoupon_GEQ25min     12684 non-null  int64 \n",
            " 23  direction_same        12684 non-null  int64 \n",
            " 24  direction_opp         12684 non-null  int64 \n",
            " 25  Y                     12684 non-null  int64 \n",
            "dtypes: int64(8), object(18)\n",
            "memory usage: 2.5+ MB\n"
          ]
        }
      ],
      "source": [
        "df.info()"
      ]
    },
    {
      "cell_type": "markdown",
      "metadata": {
        "id": "mqD4rJhY11ob"
      },
      "source": [
        "2. Investigate the dataset for missing or problematic data."
      ]
    },
    {
      "cell_type": "code",
      "execution_count": 9,
      "metadata": {
        "colab": {
          "base_uri": "https://localhost:8080/"
        },
        "id": "iogKbl0H11ob",
        "outputId": "eb08df51-d33f-4229-b868-0bfc723406d5"
      },
      "outputs": [
        {
          "data": {
            "text/plain": [
              "destination                 0\n",
              "passanger                   0\n",
              "weather                     0\n",
              "temperature                 0\n",
              "time                        0\n",
              "coupon                      0\n",
              "expiration                  0\n",
              "gender                      0\n",
              "age                         0\n",
              "maritalStatus               0\n",
              "has_children                0\n",
              "education                   0\n",
              "occupation                  0\n",
              "income                      0\n",
              "car                     12576\n",
              "Bar                       107\n",
              "CoffeeHouse               217\n",
              "CarryAway                 151\n",
              "RestaurantLessThan20      130\n",
              "Restaurant20To50          189\n",
              "toCoupon_GEQ5min            0\n",
              "toCoupon_GEQ15min           0\n",
              "toCoupon_GEQ25min           0\n",
              "direction_same              0\n",
              "direction_opp               0\n",
              "Y                           0\n",
              "dtype: int64"
            ]
          },
          "execution_count": 9,
          "metadata": {},
          "output_type": "execute_result"
        }
      ],
      "source": [
        "df.isnull().sum()"
      ]
    },
    {
      "cell_type": "code",
      "execution_count": null,
      "metadata": {
        "id": "6K94mnqgHHS9"
      },
      "outputs": [],
      "source": []
    },
    {
      "cell_type": "markdown",
      "metadata": {
        "id": "Tii35v9O11ob"
      },
      "source": [
        "3. Decide what to do about your missing data -- drop, replace, other..."
      ]
    },
    {
      "cell_type": "code",
      "execution_count": 10,
      "metadata": {
        "colab": {
          "base_uri": "https://localhost:8080/"
        },
        "id": "AFTsM7gCsp0w",
        "outputId": "35e08cc0-8474-43ad-e8eb-c00956087617"
      },
      "outputs": [
        {
          "data": {
            "text/plain": [
              "car\n",
              "Scooter and motorcycle                      22\n",
              "Mazda5                                      22\n",
              "do not drive                                22\n",
              "crossover                                   21\n",
              "Car that is too old to install Onstar :D    21\n",
              "Name: count, dtype: int64"
            ]
          },
          "execution_count": 10,
          "metadata": {},
          "output_type": "execute_result"
        }
      ],
      "source": [
        "df[df['car'].notnull()]['car'].value_counts()"
      ]
    },
    {
      "cell_type": "code",
      "execution_count": 11,
      "metadata": {
        "id": "0IZMHLaNGRi4"
      },
      "outputs": [],
      "source": [
        "#too many missing values in car column to just drop\n",
        "#fill with unknown\n",
        "df['car'] = df['car'].fillna('Unknown')"
      ]
    },
    {
      "cell_type": "code",
      "execution_count": 12,
      "metadata": {
        "colab": {
          "base_uri": "https://localhost:8080/"
        },
        "id": "qsPAgPrHtAcX",
        "outputId": "6edd0fcf-b9b5-42eb-864e-3d49dca08ed3"
      },
      "outputs": [
        {
          "data": {
            "text/plain": [
              "Bar\n",
              "never    5197\n",
              "less1    3482\n",
              "1~3      2473\n",
              "4~8      1076\n",
              "gt8       349\n",
              "Name: count, dtype: int64"
            ]
          },
          "execution_count": 12,
          "metadata": {},
          "output_type": "execute_result"
        }
      ],
      "source": [
        "df[df['Bar'].notnull()]['Bar'].value_counts()"
      ]
    },
    {
      "cell_type": "code",
      "execution_count": 13,
      "metadata": {
        "colab": {
          "base_uri": "https://localhost:8080/"
        },
        "id": "OEbqw3QrNGjV",
        "outputId": "4a98fc43-2caa-44c5-dcdf-340e57abf3ab"
      },
      "outputs": [
        {
          "data": {
            "text/plain": [
              "Y\n",
              "1    55\n",
              "0    52\n",
              "Name: count, dtype: int64"
            ]
          },
          "execution_count": 13,
          "metadata": {},
          "output_type": "execute_result"
        }
      ],
      "source": [
        "df[df['Bar'].isnull()]['Y'].value_counts()"
      ]
    },
    {
      "cell_type": "code",
      "execution_count": 14,
      "metadata": {
        "colab": {
          "base_uri": "https://localhost:8080/"
        },
        "id": "mIF3PywnLhq8",
        "outputId": "4630e4b9-da8e-4c6b-d006-d37c76100172"
      },
      "outputs": [
        {
          "data": {
            "text/plain": [
              "CoffeeHouse\n",
              "less1    3385\n",
              "1~3      3225\n",
              "never    2962\n",
              "4~8      1784\n",
              "gt8      1111\n",
              "Name: count, dtype: int64"
            ]
          },
          "execution_count": 14,
          "metadata": {},
          "output_type": "execute_result"
        }
      ],
      "source": [
        "df[df['CoffeeHouse'].notnull()]['CoffeeHouse'].value_counts()"
      ]
    },
    {
      "cell_type": "code",
      "execution_count": 15,
      "metadata": {
        "colab": {
          "base_uri": "https://localhost:8080/"
        },
        "id": "W3GBdz2QNQBC",
        "outputId": "2545dc7c-57ef-4d79-d110-eac71d8da42c"
      },
      "outputs": [
        {
          "data": {
            "text/plain": [
              "Y\n",
              "1    110\n",
              "0    107\n",
              "Name: count, dtype: int64"
            ]
          },
          "execution_count": 15,
          "metadata": {},
          "output_type": "execute_result"
        }
      ],
      "source": [
        "df[df['CoffeeHouse'].isnull()]['Y'].value_counts()"
      ]
    },
    {
      "cell_type": "code",
      "execution_count": 16,
      "metadata": {
        "colab": {
          "base_uri": "https://localhost:8080/"
        },
        "id": "IG3SgihqutGE",
        "outputId": "e905c53d-71bb-4e7b-ce27-2326b5512cd5"
      },
      "outputs": [
        {
          "data": {
            "text/plain": [
              "CarryAway\n",
              "1~3      4672\n",
              "4~8      4258\n",
              "less1    1856\n",
              "gt8      1594\n",
              "never     153\n",
              "Name: count, dtype: int64"
            ]
          },
          "execution_count": 16,
          "metadata": {},
          "output_type": "execute_result"
        }
      ],
      "source": [
        "df[df['CarryAway'].notnull()]['CarryAway'].value_counts()"
      ]
    },
    {
      "cell_type": "code",
      "execution_count": 17,
      "metadata": {
        "colab": {
          "base_uri": "https://localhost:8080/"
        },
        "id": "PbKE1finNWkK",
        "outputId": "e6f4d096-db7a-48c0-adc6-258bbc727889"
      },
      "outputs": [
        {
          "data": {
            "text/plain": [
              "Y\n",
              "1    101\n",
              "0     50\n",
              "Name: count, dtype: int64"
            ]
          },
          "execution_count": 17,
          "metadata": {},
          "output_type": "execute_result"
        }
      ],
      "source": [
        "df[df['CarryAway'].isnull()]['Y'].value_counts()"
      ]
    },
    {
      "cell_type": "code",
      "execution_count": 18,
      "metadata": {
        "colab": {
          "base_uri": "https://localhost:8080/"
        },
        "id": "Af9eUkQ8uwoF",
        "outputId": "f8a1c4e7-0f6c-48c3-8102-ed6ddf7d6e43"
      },
      "outputs": [
        {
          "data": {
            "text/plain": [
              "RestaurantLessThan20\n",
              "1~3      5376\n",
              "4~8      3580\n",
              "less1    2093\n",
              "gt8      1285\n",
              "never     220\n",
              "Name: count, dtype: int64"
            ]
          },
          "execution_count": 18,
          "metadata": {},
          "output_type": "execute_result"
        }
      ],
      "source": [
        "df[df['RestaurantLessThan20'].notnull()]['RestaurantLessThan20'].value_counts()"
      ]
    },
    {
      "cell_type": "code",
      "execution_count": 19,
      "metadata": {
        "colab": {
          "base_uri": "https://localhost:8080/"
        },
        "id": "XtJBXBrINcfP",
        "outputId": "8be9e246-f2b4-49f4-acc4-9f1913702394"
      },
      "outputs": [
        {
          "data": {
            "text/plain": [
              "Y\n",
              "1    89\n",
              "0    41\n",
              "Name: count, dtype: int64"
            ]
          },
          "execution_count": 19,
          "metadata": {},
          "output_type": "execute_result"
        }
      ],
      "source": [
        "df[df['RestaurantLessThan20'].isnull()]['Y'].value_counts()"
      ]
    },
    {
      "cell_type": "code",
      "execution_count": 20,
      "metadata": {
        "colab": {
          "base_uri": "https://localhost:8080/"
        },
        "id": "pGbdtQQIL9TD",
        "outputId": "3d781610-4266-4aa8-a0d1-13e41b85c211"
      },
      "outputs": [
        {
          "data": {
            "text/plain": [
              "Restaurant20To50\n",
              "less1    6077\n",
              "1~3      3290\n",
              "never    2136\n",
              "4~8       728\n",
              "gt8       264\n",
              "Name: count, dtype: int64"
            ]
          },
          "execution_count": 20,
          "metadata": {},
          "output_type": "execute_result"
        }
      ],
      "source": [
        "df[df['Restaurant20To50'].notnull()]['Restaurant20To50'].value_counts()"
      ]
    },
    {
      "cell_type": "code",
      "execution_count": 21,
      "metadata": {
        "colab": {
          "base_uri": "https://localhost:8080/"
        },
        "id": "dpZWwbG1NlZS",
        "outputId": "9210e0e0-5214-48f1-cb81-748c267331d6"
      },
      "outputs": [
        {
          "data": {
            "text/plain": [
              "Y\n",
              "1    105\n",
              "0     84\n",
              "Name: count, dtype: int64"
            ]
          },
          "execution_count": 21,
          "metadata": {},
          "output_type": "execute_result"
        }
      ],
      "source": [
        "df[df['Restaurant20To50'].isnull()]['Y'].value_counts()"
      ]
    },
    {
      "cell_type": "code",
      "execution_count": 22,
      "metadata": {
        "id": "6D78pdrrNqDs"
      },
      "outputs": [],
      "source": [
        "#data seems relevant to keep\n",
        "#fill all na values with uknown\n",
        "df = df.fillna('Unknown')"
      ]
    },
    {
      "cell_type": "code",
      "execution_count": null,
      "metadata": {
        "colab": {
          "base_uri": "https://localhost:8080/"
        },
        "id": "XYQKLJ0AN3a5",
        "outputId": "72124208-0ed2-4c6d-9930-c1c3c1b31257"
      },
      "outputs": [
        {
          "data": {
            "text/plain": [
              "(12684, 26)"
            ]
          },
          "execution_count": 34,
          "metadata": {},
          "output_type": "execute_result"
        }
      ],
      "source": []
    },
    {
      "cell_type": "markdown",
      "metadata": {
        "id": "1Wy0jPQI11ob"
      },
      "source": [
        "4. What proportion of the total observations chose to accept the coupon?\n",
        "\n"
      ]
    },
    {
      "cell_type": "code",
      "execution_count": 23,
      "metadata": {
        "colab": {
          "base_uri": "https://localhost:8080/"
        },
        "id": "HX13OEMD11oc",
        "outputId": "67ae2d32-0203-4220-d197-1f728900086b"
      },
      "outputs": [
        {
          "name": "stdout",
          "output_type": "stream",
          "text": [
            "Proportion of accepted coupons: 56.84%\n"
          ]
        }
      ],
      "source": [
        "accept_percentage = (df[df['Y'] == 1][['Y']].sum() / df['Y'].shape).values[0] * 100\n",
        "print('Proportion of accepted coupons: ' + str(round(accept_percentage, 2)) + '%')"
      ]
    },
    {
      "cell_type": "markdown",
      "metadata": {
        "id": "7x20T3hR11oc"
      },
      "source": [
        "5. Use a bar plot to visualize the `coupon` column."
      ]
    },
    {
      "cell_type": "code",
      "execution_count": 30,
      "metadata": {
        "colab": {
          "base_uri": "https://localhost:8080/",
          "height": 542
        },
        "id": "tDb3jema11oc",
        "outputId": "031eed64-7f33-47ac-a834-a65697393a69"
      },
      "outputs": [
        {
          "data": {
            "text/plain": [
              "([0, 1, 2, 3, 4],\n",
              " [Text(0, 0, 'Restaurant(<20)'),\n",
              "  Text(1, 0, 'Coffee House'),\n",
              "  Text(2, 0, 'Carry out & Take away'),\n",
              "  Text(3, 0, 'Bar'),\n",
              "  Text(4, 0, 'Restaurant(20-50)')])"
            ]
          },
          "execution_count": 30,
          "metadata": {},
          "output_type": "execute_result"
        },
        {
          "data": {
            "image/png": "[encoded data removed]",
            "text/plain": [
              "<Figure size 640x480 with 1 Axes>"
            ]
          },
          "metadata": {},
          "output_type": "display_data"
        }
      ],
      "source": [
        "sns.histplot(df, x='coupon')\n",
        "plt.xticks(rotation=45)"
      ]
    },
    {
      "cell_type": "markdown",
      "metadata": {
        "id": "WVdSAMmb11oc"
      },
      "source": [
        "6. Use a histogram to visualize the temperature column."
      ]
    },
    {
      "cell_type": "code",
      "execution_count": 32,
      "metadata": {
        "colab": {
          "base_uri": "https://localhost:8080/",
          "height": 542
        },
        "id": "2GY17b4111oc",
        "outputId": "117eb3f9-8c46-49a2-c677-505107de2776"
      },
      "outputs": [
        {
          "data": {
            "text/plain": [
              "<Axes: xlabel='temperature', ylabel='Count'>"
            ]
          },
          "execution_count": 32,
          "metadata": {},
          "output_type": "execute_result"
        },
        {
          "data": {
            "image/png": "[encoded data removed]",
            "text/plain": [
              "<Figure size 640x480 with 1 Axes>"
            ]
          },
          "metadata": {},
          "output_type": "display_data"
        }
      ],
      "source": [
        "sns.histplot(df, x='temperature')"
      ]
    },
    {
      "cell_type": "markdown",
      "metadata": {
        "id": "ynsnWNQg11od"
      },
      "source": [
        "**Investigating the Bar Coupons**\n",
        "\n",
        "Now, we will lead you through an exploration of just the bar related coupons.  \n",
        "\n",
        "1. Create a new `DataFrame` that contains just the bar coupons.\n"
      ]
    },
    {
      "cell_type": "code",
      "execution_count": 33,
      "metadata": {
        "colab": {
          "base_uri": "https://localhost:8080/",
          "height": 325
        },
        "id": "zQG8BXmn11od",
        "outputId": "6766ae6c-2e7e-4f03-9d02-f445e720cc03"
      },
      "outputs": [
        {
          "data": {
            "text/html": [
              "<div>\n",
              "<style scoped>\n",
              "    .dataframe tbody tr th:only-of-type {\n",
              "        vertical-align: middle;\n",
              "    }\n",
              "\n",
              "    .dataframe tbody tr th {\n",
              "        vertical-align: top;\n",
              "    }\n",
              "\n",
              "    .dataframe thead th {\n",
              "        text-align: right;\n",
              "    }\n",
              "</style>\n",
              "<table border=\"1\" class=\"dataframe\">\n",
              "  <thead>\n",
              "    <tr style=\"text-align: right;\">\n",
              "      <th></th>\n",
              "      <th>destination</th>\n",
              "      <th>passanger</th>\n",
              "      <th>weather</th>\n",
              "      <th>temperature</th>\n",
              "      <th>time</th>\n",
              "      <th>coupon</th>\n",
              "      <th>expiration</th>\n",
              "      <th>gender</th>\n",
              "      <th>age</th>\n",
              "      <th>maritalStatus</th>\n",
              "      <th>...</th>\n",
              "      <th>CoffeeHouse</th>\n",
              "      <th>CarryAway</th>\n",
              "      <th>RestaurantLessThan20</th>\n",
              "      <th>Restaurant20To50</th>\n",
              "      <th>toCoupon_GEQ5min</th>\n",
              "      <th>toCoupon_GEQ15min</th>\n",
              "      <th>toCoupon_GEQ25min</th>\n",
              "      <th>direction_same</th>\n",
              "      <th>direction_opp</th>\n",
              "      <th>Y</th>\n",
              "    </tr>\n",
              "  </thead>\n",
              "  <tbody>\n",
              "    <tr>\n",
              "      <th>9</th>\n",
              "      <td>No Urgent Place</td>\n",
              "      <td>Kid(s)</td>\n",
              "      <td>Sunny</td>\n",
              "      <td>80</td>\n",
              "      <td>10AM</td>\n",
              "      <td>Bar</td>\n",
              "      <td>1d</td>\n",
              "      <td>Female</td>\n",
              "      <td>21</td>\n",
              "      <td>Unmarried partner</td>\n",
              "      <td>...</td>\n",
              "      <td>never</td>\n",
              "      <td>Unknown</td>\n",
              "      <td>4~8</td>\n",
              "      <td>1~3</td>\n",
              "      <td>1</td>\n",
              "      <td>1</td>\n",
              "      <td>0</td>\n",
              "      <td>0</td>\n",
              "      <td>1</td>\n",
              "      <td>0</td>\n",
              "    </tr>\n",
              "    <tr>\n",
              "      <th>13</th>\n",
              "      <td>Home</td>\n",
              "      <td>Alone</td>\n",
              "      <td>Sunny</td>\n",
              "      <td>55</td>\n",
              "      <td>6PM</td>\n",
              "      <td>Bar</td>\n",
              "      <td>1d</td>\n",
              "      <td>Female</td>\n",
              "      <td>21</td>\n",
              "      <td>Unmarried partner</td>\n",
              "      <td>...</td>\n",
              "      <td>never</td>\n",
              "      <td>Unknown</td>\n",
              "      <td>4~8</td>\n",
              "      <td>1~3</td>\n",
              "      <td>1</td>\n",
              "      <td>0</td>\n",
              "      <td>0</td>\n",
              "      <td>1</td>\n",
              "      <td>0</td>\n",
              "      <td>1</td>\n",
              "    </tr>\n",
              "    <tr>\n",
              "      <th>17</th>\n",
              "      <td>Work</td>\n",
              "      <td>Alone</td>\n",
              "      <td>Sunny</td>\n",
              "      <td>55</td>\n",
              "      <td>7AM</td>\n",
              "      <td>Bar</td>\n",
              "      <td>1d</td>\n",
              "      <td>Female</td>\n",
              "      <td>21</td>\n",
              "      <td>Unmarried partner</td>\n",
              "      <td>...</td>\n",
              "      <td>never</td>\n",
              "      <td>Unknown</td>\n",
              "      <td>4~8</td>\n",
              "      <td>1~3</td>\n",
              "      <td>1</td>\n",
              "      <td>1</td>\n",
              "      <td>1</td>\n",
              "      <td>0</td>\n",
              "      <td>1</td>\n",
              "      <td>0</td>\n",
              "    </tr>\n",
              "    <tr>\n",
              "      <th>24</th>\n",
              "      <td>No Urgent Place</td>\n",
              "      <td>Friend(s)</td>\n",
              "      <td>Sunny</td>\n",
              "      <td>80</td>\n",
              "      <td>10AM</td>\n",
              "      <td>Bar</td>\n",
              "      <td>1d</td>\n",
              "      <td>Male</td>\n",
              "      <td>21</td>\n",
              "      <td>Single</td>\n",
              "      <td>...</td>\n",
              "      <td>less1</td>\n",
              "      <td>4~8</td>\n",
              "      <td>4~8</td>\n",
              "      <td>less1</td>\n",
              "      <td>1</td>\n",
              "      <td>0</td>\n",
              "      <td>0</td>\n",
              "      <td>0</td>\n",
              "      <td>1</td>\n",
              "      <td>1</td>\n",
              "    </tr>\n",
              "    <tr>\n",
              "      <th>35</th>\n",
              "      <td>Home</td>\n",
              "      <td>Alone</td>\n",
              "      <td>Sunny</td>\n",
              "      <td>55</td>\n",
              "      <td>6PM</td>\n",
              "      <td>Bar</td>\n",
              "      <td>1d</td>\n",
              "      <td>Male</td>\n",
              "      <td>21</td>\n",
              "      <td>Single</td>\n",
              "      <td>...</td>\n",
              "      <td>less1</td>\n",
              "      <td>4~8</td>\n",
              "      <td>4~8</td>\n",
              "      <td>less1</td>\n",
              "      <td>1</td>\n",
              "      <td>0</td>\n",
              "      <td>0</td>\n",
              "      <td>1</td>\n",
              "      <td>0</td>\n",
              "      <td>1</td>\n",
              "    </tr>\n",
              "  </tbody>\n",
              "</table>\n",
              "<p>5 rows × 26 columns</p>\n",
              "</div>"
            ],
            "text/plain": [
              "        destination  passanger weather  temperature  time coupon expiration  \\\n",
              "9   No Urgent Place     Kid(s)   Sunny           80  10AM    Bar         1d   \n",
              "13             Home      Alone   Sunny           55   6PM    Bar         1d   \n",
              "17             Work      Alone   Sunny           55   7AM    Bar         1d   \n",
              "24  No Urgent Place  Friend(s)   Sunny           80  10AM    Bar         1d   \n",
              "35             Home      Alone   Sunny           55   6PM    Bar         1d   \n",
              "\n",
              "    gender age      maritalStatus  ...  CoffeeHouse CarryAway  \\\n",
              "9   Female  21  Unmarried partner  ...        never   Unknown   \n",
              "13  Female  21  Unmarried partner  ...        never   Unknown   \n",
              "17  Female  21  Unmarried partner  ...        never   Unknown   \n",
              "24    Male  21             Single  ...        less1       4~8   \n",
              "35    Male  21             Single  ...        less1       4~8   \n",
              "\n",
              "   RestaurantLessThan20 Restaurant20To50 toCoupon_GEQ5min toCoupon_GEQ15min  \\\n",
              "9                   4~8              1~3                1                 1   \n",
              "13                  4~8              1~3                1                 0   \n",
              "17                  4~8              1~3                1                 1   \n",
              "24                  4~8            less1                1                 0   \n",
              "35                  4~8            less1                1                 0   \n",
              "\n",
              "   toCoupon_GEQ25min direction_same direction_opp  Y  \n",
              "9                  0              0             1  0  \n",
              "13                 0              1             0  1  \n",
              "17                 1              0             1  0  \n",
              "24                 0              0             1  1  \n",
              "35                 0              1             0  1  \n",
              "\n",
              "[5 rows x 26 columns]"
            ]
          },
          "execution_count": 33,
          "metadata": {},
          "output_type": "execute_result"
        }
      ],
      "source": [
        "coupons_bar_df = df.query('coupon == \"Bar\"')\n",
        "coupons_bar_df.head()"
      ]
    },
    {
      "cell_type": "markdown",
      "metadata": {
        "id": "4tzqd5rQ11od"
      },
      "source": [
        "2. What proportion of bar coupons were accepted?\n"
      ]
    },
    {
      "cell_type": "code",
      "execution_count": 34,
      "metadata": {
        "colab": {
          "base_uri": "https://localhost:8080/"
        },
        "id": "lIAacLjA11od",
        "outputId": "dcdc7510-6ca1-444b-c9f2-b280d814cf8a"
      },
      "outputs": [
        {
          "name": "stdout",
          "output_type": "stream",
          "text": [
            "Percentage of bar coupons accepted: 41.0%\n"
          ]
        }
      ],
      "source": [
        "coupons_bar_accept_percentage = coupons_bar_df['Y'].mean() * 100\n",
        "print('Percentage of bar coupons accepted: ' + str(round(coupons_bar_accept_percentage, 2)) + '%')"
      ]
    },
    {
      "cell_type": "markdown",
      "metadata": {
        "id": "q42avRED11od"
      },
      "source": [
        "3. Compare the acceptance rate between those who went to a bar 3 or fewer times a month to those who went more.\n"
      ]
    },
    {
      "cell_type": "code",
      "execution_count": 35,
      "metadata": {
        "colab": {
          "base_uri": "https://localhost:8080/"
        },
        "id": "QSiA6roJ11od",
        "outputId": "5093bb0a-78a9-4af5-b138-b18c748dfe7f"
      },
      "outputs": [
        {
          "data": {
            "text/plain": [
              "array(['never', 'less1', '1~3', 'gt8', 'Unknown', '4~8'], dtype=object)"
            ]
          },
          "execution_count": 35,
          "metadata": {},
          "output_type": "execute_result"
        }
      ],
      "source": [
        "#get column unique values\n",
        "coupons_bar_df['Bar'].unique()"
      ]
    },
    {
      "cell_type": "code",
      "execution_count": 36,
      "metadata": {
        "id": "9tAAsUJyvIyn"
      },
      "outputs": [],
      "source": [
        "three_or_fewer_list = ['never', 'less1', '1~3']\n",
        "more_than_three_list = ['4~8', 'gt8']"
      ]
    },
    {
      "cell_type": "code",
      "execution_count": 37,
      "metadata": {
        "colab": {
          "base_uri": "https://localhost:8080/"
        },
        "id": "H4XjZeHIko5H",
        "outputId": "90dfd21b-c9e6-4539-dbaa-f4f7fdcb62b7"
      },
      "outputs": [
        {
          "data": {
            "text/plain": [
              "array(['never', 'less1', '1~3', 'gt8', 'Unknown', '4~8'], dtype=object)"
            ]
          },
          "execution_count": 37,
          "metadata": {},
          "output_type": "execute_result"
        }
      ],
      "source": [
        "coupons_bar_df['Bar'].unique()"
      ]
    },
    {
      "cell_type": "code",
      "execution_count": 38,
      "metadata": {
        "colab": {
          "base_uri": "https://localhost:8080/"
        },
        "id": "8yVSHLeLviLO",
        "outputId": "405992ef-6671-4e4f-c540-e9b8931f265d"
      },
      "outputs": [
        {
          "name": "stdout",
          "output_type": "stream",
          "text": [
            "Acceptance rate of those who went to a bar 3 or fewer times a month: 37.06%\n",
            "Acceptance rate of those who went to a bar more than 3 times a month: 76.88%\n"
          ]
        }
      ],
      "source": [
        "coupons_accept_percentage_three_or_fewer = coupons_bar_df[coupons_bar_df['Bar'].isin(three_or_fewer_list) ]['Y'].mean() * 100\n",
        "coupons_accept_percentage_more_than_three = coupons_bar_df[coupons_bar_df['Bar'].isin(more_than_three_list) ]['Y'].mean() * 100\n",
        "print('Acceptance rate of those who went to a bar 3 or fewer times a month: ' + str(round(coupons_accept_percentage_three_or_fewer, 2)) + '%')\n",
        "print('Acceptance rate of those who went to a bar more than 3 times a month: ' + str(round(coupons_accept_percentage_more_than_three, 2)) + '%')"
      ]
    },
    {
      "cell_type": "markdown",
      "metadata": {
        "id": "jPOs_HOG11od"
      },
      "source": [
        "4. Compare the acceptance rate between drivers who go to a bar more than once a month and are over the age of 25 to the all others.  Is there a difference?\n"
      ]
    },
    {
      "cell_type": "code",
      "execution_count": 39,
      "metadata": {
        "colab": {
          "base_uri": "https://localhost:8080/"
        },
        "id": "7W03WUQQXahp",
        "outputId": "3e13fcac-ecd3-415b-8dfb-e93b87607615"
      },
      "outputs": [
        {
          "data": {
            "text/plain": [
              "array(['21', '46', '26', '31', '41', '50plus', '36', 'below21'],\n",
              "      dtype=object)"
            ]
          },
          "execution_count": 39,
          "metadata": {},
          "output_type": "execute_result"
        }
      ],
      "source": [
        "coupons_bar_df['age'].unique()"
      ]
    },
    {
      "cell_type": "code",
      "execution_count": 40,
      "metadata": {
        "id": "jQp9KIy7Xjcw"
      },
      "outputs": [],
      "source": [
        "age_greater_than_25_list = ['46', '26', '31', '41', '50plus', '36']"
      ]
    },
    {
      "cell_type": "code",
      "execution_count": 43,
      "metadata": {
        "colab": {
          "base_uri": "https://localhost:8080/"
        },
        "id": "ZNp15Ays11od",
        "outputId": "1168299c-7192-4a2b-97ad-19449022cf7d"
      },
      "outputs": [
        {
          "name": "stdout",
          "output_type": "stream",
          "text": [
            "Yes, there is a difference\n",
            "Coupon acceptance rate for drivers who go to the bar more than once a month and are over the age of 25 is: 69.52%\n",
            "Coupon acceptance rate for drivers who go to the bar less than onece a month and are under the age of 25 is: 39.33%\n"
          ]
        }
      ],
      "source": [
        "more_than_one_list = ['1~3', '4~8', 'gt8']\n",
        "more_than_one_over_25 = coupons_bar_df[(coupons_bar_df['Bar'].isin(more_than_one_list)) & (coupons_bar_df['age'].isin(age_greater_than_25_list))]\n",
        "others = coupons_bar_df[~(coupons_bar_df['Bar'].isin(more_than_one_list)) & ~(coupons_bar_df['age'].isin(age_greater_than_25_list))]\n",
        "accept_rate_more_than_one_over_25 = more_than_one_over_25['Y'].mean() * 100\n",
        "accept_rate_others = others['Y'].mean() * 100\n",
        "\n",
        "print('Yes, there is a difference')\n",
        "print('Coupon acceptance rate for drivers who go to the bar more than once a month and are over the age of 25 is: ' + str(round(accept_rate_more_than_one_over_25, 2)) + '%')\n",
        "print('Coupon acceptance rate for drivers who go to the bar less than onece a month and are under the age of 25 is: ' + str(round(accept_rate_others, 2)) + '%')"
      ]
    },
    {
      "cell_type": "markdown",
      "metadata": {
        "id": "2yJcq4XB11od"
      },
      "source": [
        "5. Use the same process to compare the acceptance rate between drivers who go to bars more than once a month and had passengers that were not a kid and had occupations other than farming, fishing, or forestry.\n"
      ]
    },
    {
      "cell_type": "code",
      "execution_count": 44,
      "metadata": {
        "colab": {
          "base_uri": "https://localhost:8080/"
        },
        "id": "AoA_Rd2611oe",
        "outputId": "b6463ec9-96d8-4425-c0d6-4ad3e6e84c01"
      },
      "outputs": [
        {
          "data": {
            "text/plain": [
              "array(['Kid(s)', 'Alone', 'Friend(s)', 'Partner'], dtype=object)"
            ]
          },
          "execution_count": 44,
          "metadata": {},
          "output_type": "execute_result"
        }
      ],
      "source": [
        "coupons_bar_df['passanger'].unique()"
      ]
    },
    {
      "cell_type": "code",
      "execution_count": 45,
      "metadata": {
        "colab": {
          "base_uri": "https://localhost:8080/"
        },
        "id": "K5o0hSdndZtr",
        "outputId": "e7cab58f-7888-412a-d37a-c8f04d40baf8"
      },
      "outputs": [
        {
          "data": {
            "text/plain": [
              "array(['Unemployed', 'Architecture & Engineering', 'Student',\n",
              "       'Education&Training&Library', 'Healthcare Support',\n",
              "       'Healthcare Practitioners & Technical', 'Sales & Related',\n",
              "       'Management', 'Arts Design Entertainment Sports & Media',\n",
              "       'Computer & Mathematical', 'Life Physical Social Science',\n",
              "       'Personal Care & Service', 'Community & Social Services',\n",
              "       'Office & Administrative Support', 'Construction & Extraction',\n",
              "       'Legal', 'Retired', 'Installation Maintenance & Repair',\n",
              "       'Transportation & Material Moving', 'Business & Financial',\n",
              "       'Protective Service', 'Food Preparation & Serving Related',\n",
              "       'Production Occupations',\n",
              "       'Building & Grounds Cleaning & Maintenance',\n",
              "       'Farming Fishing & Forestry'], dtype=object)"
            ]
          },
          "execution_count": 45,
          "metadata": {},
          "output_type": "execute_result"
        }
      ],
      "source": [
        "coupons_bar_df['occupation'].unique()"
      ]
    },
    {
      "cell_type": "code",
      "execution_count": 46,
      "metadata": {
        "colab": {
          "base_uri": "https://localhost:8080/",
          "height": 583
        },
        "id": "T9PfXfnMc0uL",
        "outputId": "94567071-93b5-49fd-d084-bbd9456993fa"
      },
      "outputs": [
        {
          "data": {
            "text/html": [
              "<div>\n",
              "<style scoped>\n",
              "    .dataframe tbody tr th:only-of-type {\n",
              "        vertical-align: middle;\n",
              "    }\n",
              "\n",
              "    .dataframe tbody tr th {\n",
              "        vertical-align: top;\n",
              "    }\n",
              "\n",
              "    .dataframe thead th {\n",
              "        text-align: right;\n",
              "    }\n",
              "</style>\n",
              "<table border=\"1\" class=\"dataframe\">\n",
              "  <thead>\n",
              "    <tr style=\"text-align: right;\">\n",
              "      <th></th>\n",
              "      <th>destination</th>\n",
              "      <th>passanger</th>\n",
              "      <th>weather</th>\n",
              "      <th>temperature</th>\n",
              "      <th>time</th>\n",
              "      <th>coupon</th>\n",
              "      <th>expiration</th>\n",
              "      <th>gender</th>\n",
              "      <th>age</th>\n",
              "      <th>maritalStatus</th>\n",
              "      <th>...</th>\n",
              "      <th>CoffeeHouse</th>\n",
              "      <th>CarryAway</th>\n",
              "      <th>RestaurantLessThan20</th>\n",
              "      <th>Restaurant20To50</th>\n",
              "      <th>toCoupon_GEQ5min</th>\n",
              "      <th>toCoupon_GEQ15min</th>\n",
              "      <th>toCoupon_GEQ25min</th>\n",
              "      <th>direction_same</th>\n",
              "      <th>direction_opp</th>\n",
              "      <th>Y</th>\n",
              "    </tr>\n",
              "  </thead>\n",
              "  <tbody>\n",
              "    <tr>\n",
              "      <th>90</th>\n",
              "      <td>No Urgent Place</td>\n",
              "      <td>Friend(s)</td>\n",
              "      <td>Sunny</td>\n",
              "      <td>80</td>\n",
              "      <td>10AM</td>\n",
              "      <td>Bar</td>\n",
              "      <td>1d</td>\n",
              "      <td>Male</td>\n",
              "      <td>21</td>\n",
              "      <td>Single</td>\n",
              "      <td>...</td>\n",
              "      <td>less1</td>\n",
              "      <td>1~3</td>\n",
              "      <td>less1</td>\n",
              "      <td>1~3</td>\n",
              "      <td>1</td>\n",
              "      <td>0</td>\n",
              "      <td>0</td>\n",
              "      <td>0</td>\n",
              "      <td>1</td>\n",
              "      <td>1</td>\n",
              "    </tr>\n",
              "    <tr>\n",
              "      <th>101</th>\n",
              "      <td>Home</td>\n",
              "      <td>Alone</td>\n",
              "      <td>Sunny</td>\n",
              "      <td>55</td>\n",
              "      <td>6PM</td>\n",
              "      <td>Bar</td>\n",
              "      <td>1d</td>\n",
              "      <td>Male</td>\n",
              "      <td>21</td>\n",
              "      <td>Single</td>\n",
              "      <td>...</td>\n",
              "      <td>less1</td>\n",
              "      <td>1~3</td>\n",
              "      <td>less1</td>\n",
              "      <td>1~3</td>\n",
              "      <td>1</td>\n",
              "      <td>0</td>\n",
              "      <td>0</td>\n",
              "      <td>1</td>\n",
              "      <td>0</td>\n",
              "      <td>1</td>\n",
              "    </tr>\n",
              "    <tr>\n",
              "      <th>105</th>\n",
              "      <td>Work</td>\n",
              "      <td>Alone</td>\n",
              "      <td>Sunny</td>\n",
              "      <td>55</td>\n",
              "      <td>7AM</td>\n",
              "      <td>Bar</td>\n",
              "      <td>1d</td>\n",
              "      <td>Male</td>\n",
              "      <td>21</td>\n",
              "      <td>Single</td>\n",
              "      <td>...</td>\n",
              "      <td>less1</td>\n",
              "      <td>1~3</td>\n",
              "      <td>less1</td>\n",
              "      <td>1~3</td>\n",
              "      <td>1</td>\n",
              "      <td>1</td>\n",
              "      <td>1</td>\n",
              "      <td>0</td>\n",
              "      <td>1</td>\n",
              "      <td>0</td>\n",
              "    </tr>\n",
              "    <tr>\n",
              "      <th>112</th>\n",
              "      <td>No Urgent Place</td>\n",
              "      <td>Friend(s)</td>\n",
              "      <td>Sunny</td>\n",
              "      <td>80</td>\n",
              "      <td>10AM</td>\n",
              "      <td>Bar</td>\n",
              "      <td>1d</td>\n",
              "      <td>Male</td>\n",
              "      <td>26</td>\n",
              "      <td>Unmarried partner</td>\n",
              "      <td>...</td>\n",
              "      <td>gt8</td>\n",
              "      <td>4~8</td>\n",
              "      <td>1~3</td>\n",
              "      <td>less1</td>\n",
              "      <td>1</td>\n",
              "      <td>0</td>\n",
              "      <td>0</td>\n",
              "      <td>0</td>\n",
              "      <td>1</td>\n",
              "      <td>1</td>\n",
              "    </tr>\n",
              "    <tr>\n",
              "      <th>123</th>\n",
              "      <td>Home</td>\n",
              "      <td>Alone</td>\n",
              "      <td>Sunny</td>\n",
              "      <td>55</td>\n",
              "      <td>6PM</td>\n",
              "      <td>Bar</td>\n",
              "      <td>1d</td>\n",
              "      <td>Male</td>\n",
              "      <td>26</td>\n",
              "      <td>Unmarried partner</td>\n",
              "      <td>...</td>\n",
              "      <td>gt8</td>\n",
              "      <td>4~8</td>\n",
              "      <td>1~3</td>\n",
              "      <td>less1</td>\n",
              "      <td>1</td>\n",
              "      <td>0</td>\n",
              "      <td>0</td>\n",
              "      <td>1</td>\n",
              "      <td>0</td>\n",
              "      <td>1</td>\n",
              "    </tr>\n",
              "    <tr>\n",
              "      <th>...</th>\n",
              "      <td>...</td>\n",
              "      <td>...</td>\n",
              "      <td>...</td>\n",
              "      <td>...</td>\n",
              "      <td>...</td>\n",
              "      <td>...</td>\n",
              "      <td>...</td>\n",
              "      <td>...</td>\n",
              "      <td>...</td>\n",
              "      <td>...</td>\n",
              "      <td>...</td>\n",
              "      <td>...</td>\n",
              "      <td>...</td>\n",
              "      <td>...</td>\n",
              "      <td>...</td>\n",
              "      <td>...</td>\n",
              "      <td>...</td>\n",
              "      <td>...</td>\n",
              "      <td>...</td>\n",
              "      <td>...</td>\n",
              "      <td>...</td>\n",
              "    </tr>\n",
              "    <tr>\n",
              "      <th>12500</th>\n",
              "      <td>Work</td>\n",
              "      <td>Alone</td>\n",
              "      <td>Snowy</td>\n",
              "      <td>30</td>\n",
              "      <td>7AM</td>\n",
              "      <td>Bar</td>\n",
              "      <td>1d</td>\n",
              "      <td>Female</td>\n",
              "      <td>26</td>\n",
              "      <td>Unmarried partner</td>\n",
              "      <td>...</td>\n",
              "      <td>never</td>\n",
              "      <td>4~8</td>\n",
              "      <td>4~8</td>\n",
              "      <td>less1</td>\n",
              "      <td>1</td>\n",
              "      <td>1</td>\n",
              "      <td>1</td>\n",
              "      <td>0</td>\n",
              "      <td>1</td>\n",
              "      <td>0</td>\n",
              "    </tr>\n",
              "    <tr>\n",
              "      <th>12525</th>\n",
              "      <td>No Urgent Place</td>\n",
              "      <td>Friend(s)</td>\n",
              "      <td>Sunny</td>\n",
              "      <td>80</td>\n",
              "      <td>10PM</td>\n",
              "      <td>Bar</td>\n",
              "      <td>1d</td>\n",
              "      <td>Male</td>\n",
              "      <td>21</td>\n",
              "      <td>Unmarried partner</td>\n",
              "      <td>...</td>\n",
              "      <td>never</td>\n",
              "      <td>gt8</td>\n",
              "      <td>4~8</td>\n",
              "      <td>1~3</td>\n",
              "      <td>1</td>\n",
              "      <td>1</td>\n",
              "      <td>0</td>\n",
              "      <td>0</td>\n",
              "      <td>1</td>\n",
              "      <td>1</td>\n",
              "    </tr>\n",
              "    <tr>\n",
              "      <th>12526</th>\n",
              "      <td>No Urgent Place</td>\n",
              "      <td>Friend(s)</td>\n",
              "      <td>Sunny</td>\n",
              "      <td>55</td>\n",
              "      <td>10PM</td>\n",
              "      <td>Bar</td>\n",
              "      <td>2h</td>\n",
              "      <td>Male</td>\n",
              "      <td>21</td>\n",
              "      <td>Unmarried partner</td>\n",
              "      <td>...</td>\n",
              "      <td>never</td>\n",
              "      <td>gt8</td>\n",
              "      <td>4~8</td>\n",
              "      <td>1~3</td>\n",
              "      <td>1</td>\n",
              "      <td>1</td>\n",
              "      <td>0</td>\n",
              "      <td>0</td>\n",
              "      <td>1</td>\n",
              "      <td>1</td>\n",
              "    </tr>\n",
              "    <tr>\n",
              "      <th>12529</th>\n",
              "      <td>No Urgent Place</td>\n",
              "      <td>Alone</td>\n",
              "      <td>Rainy</td>\n",
              "      <td>55</td>\n",
              "      <td>10AM</td>\n",
              "      <td>Bar</td>\n",
              "      <td>1d</td>\n",
              "      <td>Male</td>\n",
              "      <td>21</td>\n",
              "      <td>Unmarried partner</td>\n",
              "      <td>...</td>\n",
              "      <td>never</td>\n",
              "      <td>gt8</td>\n",
              "      <td>4~8</td>\n",
              "      <td>1~3</td>\n",
              "      <td>1</td>\n",
              "      <td>1</td>\n",
              "      <td>0</td>\n",
              "      <td>0</td>\n",
              "      <td>1</td>\n",
              "      <td>0</td>\n",
              "    </tr>\n",
              "    <tr>\n",
              "      <th>12544</th>\n",
              "      <td>Work</td>\n",
              "      <td>Alone</td>\n",
              "      <td>Snowy</td>\n",
              "      <td>30</td>\n",
              "      <td>7AM</td>\n",
              "      <td>Bar</td>\n",
              "      <td>1d</td>\n",
              "      <td>Male</td>\n",
              "      <td>21</td>\n",
              "      <td>Unmarried partner</td>\n",
              "      <td>...</td>\n",
              "      <td>never</td>\n",
              "      <td>gt8</td>\n",
              "      <td>4~8</td>\n",
              "      <td>1~3</td>\n",
              "      <td>1</td>\n",
              "      <td>1</td>\n",
              "      <td>1</td>\n",
              "      <td>0</td>\n",
              "      <td>1</td>\n",
              "      <td>0</td>\n",
              "    </tr>\n",
              "  </tbody>\n",
              "</table>\n",
              "<p>551 rows × 26 columns</p>\n",
              "</div>"
            ],
            "text/plain": [
              "           destination  passanger weather  temperature  time coupon  \\\n",
              "90     No Urgent Place  Friend(s)   Sunny           80  10AM    Bar   \n",
              "101               Home      Alone   Sunny           55   6PM    Bar   \n",
              "105               Work      Alone   Sunny           55   7AM    Bar   \n",
              "112    No Urgent Place  Friend(s)   Sunny           80  10AM    Bar   \n",
              "123               Home      Alone   Sunny           55   6PM    Bar   \n",
              "...                ...        ...     ...          ...   ...    ...   \n",
              "12500             Work      Alone   Snowy           30   7AM    Bar   \n",
              "12525  No Urgent Place  Friend(s)   Sunny           80  10PM    Bar   \n",
              "12526  No Urgent Place  Friend(s)   Sunny           55  10PM    Bar   \n",
              "12529  No Urgent Place      Alone   Rainy           55  10AM    Bar   \n",
              "12544             Work      Alone   Snowy           30   7AM    Bar   \n",
              "\n",
              "      expiration  gender age      maritalStatus  ...  CoffeeHouse CarryAway  \\\n",
              "90            1d    Male  21             Single  ...        less1       1~3   \n",
              "101           1d    Male  21             Single  ...        less1       1~3   \n",
              "105           1d    Male  21             Single  ...        less1       1~3   \n",
              "112           1d    Male  26  Unmarried partner  ...          gt8       4~8   \n",
              "123           1d    Male  26  Unmarried partner  ...          gt8       4~8   \n",
              "...          ...     ...  ..                ...  ...          ...       ...   \n",
              "12500         1d  Female  26  Unmarried partner  ...        never       4~8   \n",
              "12525         1d    Male  21  Unmarried partner  ...        never       gt8   \n",
              "12526         2h    Male  21  Unmarried partner  ...        never       gt8   \n",
              "12529         1d    Male  21  Unmarried partner  ...        never       gt8   \n",
              "12544         1d    Male  21  Unmarried partner  ...        never       gt8   \n",
              "\n",
              "      RestaurantLessThan20 Restaurant20To50 toCoupon_GEQ5min  \\\n",
              "90                   less1              1~3                1   \n",
              "101                  less1              1~3                1   \n",
              "105                  less1              1~3                1   \n",
              "112                    1~3            less1                1   \n",
              "123                    1~3            less1                1   \n",
              "...                    ...              ...              ...   \n",
              "12500                  4~8            less1                1   \n",
              "12525                  4~8              1~3                1   \n",
              "12526                  4~8              1~3                1   \n",
              "12529                  4~8              1~3                1   \n",
              "12544                  4~8              1~3                1   \n",
              "\n",
              "      toCoupon_GEQ15min toCoupon_GEQ25min direction_same direction_opp  Y  \n",
              "90                    0                 0              0             1  1  \n",
              "101                   0                 0              1             0  1  \n",
              "105                   1                 1              0             1  0  \n",
              "112                   0                 0              0             1  1  \n",
              "123                   0                 0              1             0  1  \n",
              "...                 ...               ...            ...           ... ..  \n",
              "12500                 1                 1              0             1  0  \n",
              "12525                 1                 0              0             1  1  \n",
              "12526                 1                 0              0             1  1  \n",
              "12529                 1                 0              0             1  0  \n",
              "12544                 1                 1              0             1  0  \n",
              "\n",
              "[551 rows x 26 columns]"
            ]
          },
          "execution_count": 46,
          "metadata": {},
          "output_type": "execute_result"
        }
      ],
      "source": [
        "group1 = coupons_bar_df[(coupons_bar_df['Bar'].isin(more_than_one_list)) & (coupons_bar_df['passanger'] != 'Kid(s)') & (coupons_bar_df['occupation'] != 'Farming Fishing & Forestry')]\n",
        "group1"
      ]
    },
    {
      "cell_type": "code",
      "execution_count": 47,
      "metadata": {
        "colab": {
          "base_uri": "https://localhost:8080/",
          "height": 228
        },
        "id": "MZSNUAz2d9g4",
        "outputId": "d75930b2-947f-4c5c-c34d-f923c370582e"
      },
      "outputs": [
        {
          "data": {
            "text/html": [
              "<div>\n",
              "<style scoped>\n",
              "    .dataframe tbody tr th:only-of-type {\n",
              "        vertical-align: middle;\n",
              "    }\n",
              "\n",
              "    .dataframe tbody tr th {\n",
              "        vertical-align: top;\n",
              "    }\n",
              "\n",
              "    .dataframe thead th {\n",
              "        text-align: right;\n",
              "    }\n",
              "</style>\n",
              "<table border=\"1\" class=\"dataframe\">\n",
              "  <thead>\n",
              "    <tr style=\"text-align: right;\">\n",
              "      <th></th>\n",
              "      <th>destination</th>\n",
              "      <th>passanger</th>\n",
              "      <th>weather</th>\n",
              "      <th>temperature</th>\n",
              "      <th>time</th>\n",
              "      <th>coupon</th>\n",
              "      <th>expiration</th>\n",
              "      <th>gender</th>\n",
              "      <th>age</th>\n",
              "      <th>maritalStatus</th>\n",
              "      <th>...</th>\n",
              "      <th>CoffeeHouse</th>\n",
              "      <th>CarryAway</th>\n",
              "      <th>RestaurantLessThan20</th>\n",
              "      <th>Restaurant20To50</th>\n",
              "      <th>toCoupon_GEQ5min</th>\n",
              "      <th>toCoupon_GEQ15min</th>\n",
              "      <th>toCoupon_GEQ25min</th>\n",
              "      <th>direction_same</th>\n",
              "      <th>direction_opp</th>\n",
              "      <th>Y</th>\n",
              "    </tr>\n",
              "  </thead>\n",
              "  <tbody>\n",
              "    <tr>\n",
              "      <th>8431</th>\n",
              "      <td>No Urgent Place</td>\n",
              "      <td>Kid(s)</td>\n",
              "      <td>Rainy</td>\n",
              "      <td>55</td>\n",
              "      <td>10PM</td>\n",
              "      <td>Bar</td>\n",
              "      <td>1d</td>\n",
              "      <td>Male</td>\n",
              "      <td>41</td>\n",
              "      <td>Married partner</td>\n",
              "      <td>...</td>\n",
              "      <td>never</td>\n",
              "      <td>never</td>\n",
              "      <td>1~3</td>\n",
              "      <td>never</td>\n",
              "      <td>1</td>\n",
              "      <td>1</td>\n",
              "      <td>0</td>\n",
              "      <td>0</td>\n",
              "      <td>1</td>\n",
              "      <td>0</td>\n",
              "    </tr>\n",
              "    <tr>\n",
              "      <th>8432</th>\n",
              "      <td>No Urgent Place</td>\n",
              "      <td>Kid(s)</td>\n",
              "      <td>Snowy</td>\n",
              "      <td>30</td>\n",
              "      <td>6PM</td>\n",
              "      <td>Bar</td>\n",
              "      <td>1d</td>\n",
              "      <td>Male</td>\n",
              "      <td>41</td>\n",
              "      <td>Married partner</td>\n",
              "      <td>...</td>\n",
              "      <td>never</td>\n",
              "      <td>never</td>\n",
              "      <td>1~3</td>\n",
              "      <td>never</td>\n",
              "      <td>1</td>\n",
              "      <td>1</td>\n",
              "      <td>0</td>\n",
              "      <td>0</td>\n",
              "      <td>1</td>\n",
              "      <td>0</td>\n",
              "    </tr>\n",
              "    <tr>\n",
              "      <th>9565</th>\n",
              "      <td>Home</td>\n",
              "      <td>Kid(s)</td>\n",
              "      <td>Sunny</td>\n",
              "      <td>30</td>\n",
              "      <td>6PM</td>\n",
              "      <td>Bar</td>\n",
              "      <td>2h</td>\n",
              "      <td>Male</td>\n",
              "      <td>31</td>\n",
              "      <td>Married partner</td>\n",
              "      <td>...</td>\n",
              "      <td>less1</td>\n",
              "      <td>less1</td>\n",
              "      <td>1~3</td>\n",
              "      <td>less1</td>\n",
              "      <td>1</td>\n",
              "      <td>1</td>\n",
              "      <td>0</td>\n",
              "      <td>0</td>\n",
              "      <td>1</td>\n",
              "      <td>1</td>\n",
              "    </tr>\n",
              "  </tbody>\n",
              "</table>\n",
              "<p>3 rows × 26 columns</p>\n",
              "</div>"
            ],
            "text/plain": [
              "          destination passanger weather  temperature  time coupon expiration  \\\n",
              "8431  No Urgent Place    Kid(s)   Rainy           55  10PM    Bar         1d   \n",
              "8432  No Urgent Place    Kid(s)   Snowy           30   6PM    Bar         1d   \n",
              "9565             Home    Kid(s)   Sunny           30   6PM    Bar         2h   \n",
              "\n",
              "     gender age    maritalStatus  ...  CoffeeHouse CarryAway  \\\n",
              "8431   Male  41  Married partner  ...        never     never   \n",
              "8432   Male  41  Married partner  ...        never     never   \n",
              "9565   Male  31  Married partner  ...        less1     less1   \n",
              "\n",
              "     RestaurantLessThan20 Restaurant20To50 toCoupon_GEQ5min toCoupon_GEQ15min  \\\n",
              "8431                  1~3            never                1                 1   \n",
              "8432                  1~3            never                1                 1   \n",
              "9565                  1~3            less1                1                 1   \n",
              "\n",
              "     toCoupon_GEQ25min direction_same direction_opp  Y  \n",
              "8431                 0              0             1  0  \n",
              "8432                 0              0             1  0  \n",
              "9565                 0              0             1  1  \n",
              "\n",
              "[3 rows x 26 columns]"
            ]
          },
          "execution_count": 47,
          "metadata": {},
          "output_type": "execute_result"
        }
      ],
      "source": [
        "group2 = coupons_bar_df[~(coupons_bar_df['Bar'].isin(more_than_one_list)) & ~(coupons_bar_df['passanger'] != 'Kid(s)') & ~(coupons_bar_df['occupation'] != 'Farming Fishing & Forestry')]\n",
        "group2"
      ]
    },
    {
      "cell_type": "code",
      "execution_count": 48,
      "metadata": {
        "colab": {
          "base_uri": "https://localhost:8080/"
        },
        "id": "L1alDwz4e0iJ",
        "outputId": "84a46090-bc7a-467c-e7db-7d0f29db5396"
      },
      "outputs": [
        {
          "name": "stdout",
          "output_type": "stream",
          "text": [
            "Coupon acceptance rate for drivers who go to the bar more than once a month, had passangers that were not a kid, and had an occupation other than farming, fishing, or forestry is: 71.32%\n",
            "Coupon acceptance rate for all others is: 33.33%\n"
          ]
        }
      ],
      "source": [
        "accept_rate_group1 = group1['Y'].mean() * 100\n",
        "accept_rate_group2 = group2['Y'].mean() * 100\n",
        "\n",
        "print('Coupon acceptance rate for drivers who go to the bar more than once a month, had passangers that were not a kid, and had an occupation other than farming, fishing, or forestry is: ' + str(round(accept_rate_group1, 2)) + '%')\n",
        "print('Coupon acceptance rate for all others is: ' + str(round(accept_rate_group2, 2)) + '%')"
      ]
    },
    {
      "cell_type": "markdown",
      "metadata": {
        "id": "7jHZaaLp11oe"
      },
      "source": [
        "6. Compare the acceptance rates between those drivers who:\n",
        "\n",
        "- go to bars more than once a month, had passengers that were not a kid, and were not widowed *OR*\n",
        "- go to bars more than once a month and are under the age of 30 *OR*\n",
        "- go to cheap restaurants more than 4 times a month and income is less than 50K.\n",
        "\n"
      ]
    },
    {
      "cell_type": "code",
      "execution_count": 49,
      "metadata": {
        "colab": {
          "base_uri": "https://localhost:8080/"
        },
        "id": "TXvUiqxyhjfr",
        "outputId": "413320f6-950d-4287-d5d2-1e8eaa9810f5"
      },
      "outputs": [
        {
          "data": {
            "text/plain": [
              "array(['Unmarried partner', 'Single', 'Married partner', 'Divorced',\n",
              "       'Widowed'], dtype=object)"
            ]
          },
          "execution_count": 49,
          "metadata": {},
          "output_type": "execute_result"
        }
      ],
      "source": [
        "coupons_bar_df['maritalStatus'].unique()"
      ]
    },
    {
      "cell_type": "code",
      "execution_count": 50,
      "metadata": {
        "colab": {
          "base_uri": "https://localhost:8080/"
        },
        "id": "q-waQMZbiBXD",
        "outputId": "ba7a2c81-aae6-4887-afd8-943da0db2941"
      },
      "outputs": [
        {
          "data": {
            "text/plain": [
              "array(['4~8', '1~3', 'less1', 'gt8', 'Unknown', 'never'], dtype=object)"
            ]
          },
          "execution_count": 50,
          "metadata": {},
          "output_type": "execute_result"
        }
      ],
      "source": [
        "coupons_bar_df['RestaurantLessThan20'].unique()"
      ]
    },
    {
      "cell_type": "code",
      "execution_count": 51,
      "metadata": {
        "colab": {
          "base_uri": "https://localhost:8080/"
        },
        "id": "igcUpWNZih6c",
        "outputId": "f0dec835-52e1-47f9-ffee-a5259563ade7"
      },
      "outputs": [
        {
          "data": {
            "text/plain": [
              "array(['$37500 - $49999', '$62500 - $74999', '$12500 - $24999',\n",
              "       '$75000 - $87499', '$50000 - $62499', '$25000 - $37499',\n",
              "       '$100000 or More', '$87500 - $99999', 'Less than $12500'],\n",
              "      dtype=object)"
            ]
          },
          "execution_count": 51,
          "metadata": {},
          "output_type": "execute_result"
        }
      ],
      "source": [
        "coupons_bar_df['income'].unique()"
      ]
    },
    {
      "cell_type": "code",
      "execution_count": 52,
      "metadata": {
        "colab": {
          "base_uri": "https://localhost:8080/"
        },
        "id": "xw-NsBjzkzIB",
        "outputId": "dc69bcbf-3bcf-48b8-ea54-db3fdd76b218"
      },
      "outputs": [
        {
          "data": {
            "text/plain": [
              "array(['21', '46', '26', '31', '41', '50plus', '36', 'below21'],\n",
              "      dtype=object)"
            ]
          },
          "execution_count": 52,
          "metadata": {},
          "output_type": "execute_result"
        }
      ],
      "source": [
        "coupons_bar_df['age'].unique()"
      ]
    },
    {
      "cell_type": "code",
      "execution_count": 53,
      "metadata": {
        "colab": {
          "base_uri": "https://localhost:8080/"
        },
        "id": "PpChEVMS11oe",
        "outputId": "5b7ba691-1034-461b-f32a-1e29219271d7"
      },
      "outputs": [
        {
          "name": "stdout",
          "output_type": "stream",
          "text": [
            "Coupon acceptance rate for drivers who go to bars more than once a month, had passengers that were not a kid, and were not widowed is: 71.32%\n",
            "Coupon acceptance rate for drivers who go to bars more than once a month and are under the age of 30 is: 72.17%\n",
            "Coupon acceptance rate for drivers who go to cheap restaurants more than 4 times a month and income is less than 50K is: 45.35%\n"
          ]
        }
      ],
      "source": [
        "six_group1 = coupons_bar_df[(coupons_bar_df['Bar'].isin(more_than_one_list)) & (coupons_bar_df['passanger'] != 'Kid(s)') & (coupons_bar_df['maritalStatus'] != 'Widowed')]\n",
        "six_group2 = coupons_bar_df[(coupons_bar_df['Bar'].isin(more_than_one_list)) & (coupons_bar_df['age'].isin(['21', '26', 'below21']))]\n",
        "six_group3 = coupons_bar_df[(coupons_bar_df['RestaurantLessThan20'].isin(['4~8', 'gt8'])) & (coupons_bar_df['income'].isin(['$37500 - $49999', '$12500 - $24999', '$25000 - $37499', 'Less than $12500']))]\n",
        "\n",
        "six_accept_rate_group1 = six_group1['Y'].mean() * 100\n",
        "six_accept_rate_group2 = six_group2['Y'].mean() * 100\n",
        "six_accept_rate_group3 = six_group3['Y'].mean() * 100\n",
        "\n",
        "print('Coupon acceptance rate for drivers who go to bars more than once a month, had passengers that were not a kid, and were not widowed is: ' + str(round(six_accept_rate_group1, 2)) + '%')\n",
        "print('Coupon acceptance rate for drivers who go to bars more than once a month and are under the age of 30 is: ' + str(round(six_accept_rate_group2, 2)) + '%')\n",
        "print('Coupon acceptance rate for drivers who go to cheap restaurants more than 4 times a month and income is less than 50K is: ' + str(round(six_accept_rate_group3, 2)) + '%')"
      ]
    },
    {
      "cell_type": "markdown",
      "metadata": {
        "id": "Psu4MMIa11oe"
      },
      "source": [
        "7.  Based on these observations, what do you hypothesize about drivers who accepted the bar coupons?"
      ]
    },
    {
      "cell_type": "code",
      "execution_count": null,
      "metadata": {
        "id": "QW1ycghW11oe"
      },
      "outputs": [],
      "source": []
    },
    {
      "cell_type": "markdown",
      "metadata": {
        "id": "bxrfCyEycQkq"
      },
      "source": [
        "Based on these observations, some hypotheses can be made about drivers who accept the bar coupons.\n",
        "\n",
        "Looking at the observational stats, the first thing calculation shows that drivers that go to bars more than three times a month have a higher rate of acceptance of the bar coupon at 76.88% vs 37.06% for drivers that go to bars less than 3 times a month. The hypothesis is that drivers that frequent bars more frequently will be more likely to accept bar coupons.\n",
        "\n",
        "The next obsevation adds on age. We specifically look at drivers that go to bars more than once a month who are over 25 and whose who go to a bar less than once a month and are under 25. The findings were 69.52% and 39.33% coupon acceptance rate respectively. From this the hypothesis is that the drivers who go to bars at least one time a month and are over 25 are more likely to accept bar coupons.\n",
        "\n",
        "Next we look at drivers who go to bars more than once a month and had passengers that were not a kid and had occupations other than farming, fishing, or forestry. From this, the coupon acceptance rate was 71.32%. The acceptance rate is still high so it can be hypothesized that drivers who do not have kids as passengers and do not have an occupation in farming, fishing, and forestry are more likely to accept bar coupons.\n",
        "\n",
        "Lastly we look at acceptance rate for drivers in these three categories:\n",
        "- Go to bars more than once a month, had passengers that were not a kid, and were not widowed with an acceptance rate of 71.32%.\n",
        "- Go to bars more than once a month and are under the age of 30 with an acceptance rate of 72.17%.\n",
        "- Go to cheap restaurants more than 4 times a month and income is less than 50K with an acceptance rate of 45.35%.\n",
        "From these observations, the age group of under 30 has a higher acceptance rate than previously seen with the age group of over 25. Also looking at the data for drivers who go to cheap restraunts frequently and have less than 50k income have a low acceptance rate of 45.35%.\n",
        "\n",
        "In conclusion, with the data observed, an overall hypothesis for higher acceptance rate of bar coupons is that drivers who frequent bars more than once a month, under the age of 30, who do not have a kid as a passanger, and working in an occupation that is not farming, fishing, or forestry is more likely to accept a bar coupon.\n"
      ]
    },
    {
      "cell_type": "markdown",
      "metadata": {
        "id": "9IZVqUM111oe"
      },
      "source": [
        "### Independent Investigation\n",
        "\n",
        "Using the bar coupon example as motivation, you are to explore one of the other coupon groups and try to determine the characteristics of passengers who accept the coupons.  "
      ]
    },
    {
      "cell_type": "code",
      "execution_count": 54,
      "metadata": {
        "colab": {
          "base_uri": "https://localhost:8080/"
        },
        "id": "MQ5d38AK11oe",
        "outputId": "89fd82c1-29e5-4c00-fe74-4f3adc82305d"
      },
      "outputs": [
        {
          "data": {
            "text/plain": [
              "array(['No Urgent Place', 'Home', 'Work'], dtype=object)"
            ]
          },
          "execution_count": 54,
          "metadata": {},
          "output_type": "execute_result"
        }
      ],
      "source": [
        "df['destination'].unique()"
      ]
    },
    {
      "cell_type": "code",
      "execution_count": 55,
      "metadata": {
        "colab": {
          "base_uri": "https://localhost:8080/",
          "height": 342
        },
        "id": "6tMwTCng11oe",
        "outputId": "81647c0a-1067-454a-ac57-15feaeba3159"
      },
      "outputs": [
        {
          "data": {
            "text/html": [
              "<div>\n",
              "<style scoped>\n",
              "    .dataframe tbody tr th:only-of-type {\n",
              "        vertical-align: middle;\n",
              "    }\n",
              "\n",
              "    .dataframe tbody tr th {\n",
              "        vertical-align: top;\n",
              "    }\n",
              "\n",
              "    .dataframe thead th {\n",
              "        text-align: right;\n",
              "    }\n",
              "</style>\n",
              "<table border=\"1\" class=\"dataframe\">\n",
              "  <thead>\n",
              "    <tr style=\"text-align: right;\">\n",
              "      <th></th>\n",
              "      <th>destination</th>\n",
              "      <th>passanger</th>\n",
              "      <th>weather</th>\n",
              "      <th>temperature</th>\n",
              "      <th>time</th>\n",
              "      <th>coupon</th>\n",
              "      <th>expiration</th>\n",
              "      <th>gender</th>\n",
              "      <th>age</th>\n",
              "      <th>maritalStatus</th>\n",
              "      <th>...</th>\n",
              "      <th>CoffeeHouse</th>\n",
              "      <th>CarryAway</th>\n",
              "      <th>RestaurantLessThan20</th>\n",
              "      <th>Restaurant20To50</th>\n",
              "      <th>toCoupon_GEQ5min</th>\n",
              "      <th>toCoupon_GEQ15min</th>\n",
              "      <th>toCoupon_GEQ25min</th>\n",
              "      <th>direction_same</th>\n",
              "      <th>direction_opp</th>\n",
              "      <th>Y</th>\n",
              "    </tr>\n",
              "  </thead>\n",
              "  <tbody>\n",
              "    <tr>\n",
              "      <th>1</th>\n",
              "      <td>No Urgent Place</td>\n",
              "      <td>Friend(s)</td>\n",
              "      <td>Sunny</td>\n",
              "      <td>80</td>\n",
              "      <td>10AM</td>\n",
              "      <td>Coffee House</td>\n",
              "      <td>2h</td>\n",
              "      <td>Female</td>\n",
              "      <td>21</td>\n",
              "      <td>Unmarried partner</td>\n",
              "      <td>...</td>\n",
              "      <td>never</td>\n",
              "      <td>Unknown</td>\n",
              "      <td>4~8</td>\n",
              "      <td>1~3</td>\n",
              "      <td>1</td>\n",
              "      <td>0</td>\n",
              "      <td>0</td>\n",
              "      <td>0</td>\n",
              "      <td>1</td>\n",
              "      <td>0</td>\n",
              "    </tr>\n",
              "    <tr>\n",
              "      <th>3</th>\n",
              "      <td>No Urgent Place</td>\n",
              "      <td>Friend(s)</td>\n",
              "      <td>Sunny</td>\n",
              "      <td>80</td>\n",
              "      <td>2PM</td>\n",
              "      <td>Coffee House</td>\n",
              "      <td>2h</td>\n",
              "      <td>Female</td>\n",
              "      <td>21</td>\n",
              "      <td>Unmarried partner</td>\n",
              "      <td>...</td>\n",
              "      <td>never</td>\n",
              "      <td>Unknown</td>\n",
              "      <td>4~8</td>\n",
              "      <td>1~3</td>\n",
              "      <td>1</td>\n",
              "      <td>1</td>\n",
              "      <td>0</td>\n",
              "      <td>0</td>\n",
              "      <td>1</td>\n",
              "      <td>0</td>\n",
              "    </tr>\n",
              "    <tr>\n",
              "      <th>4</th>\n",
              "      <td>No Urgent Place</td>\n",
              "      <td>Friend(s)</td>\n",
              "      <td>Sunny</td>\n",
              "      <td>80</td>\n",
              "      <td>2PM</td>\n",
              "      <td>Coffee House</td>\n",
              "      <td>1d</td>\n",
              "      <td>Female</td>\n",
              "      <td>21</td>\n",
              "      <td>Unmarried partner</td>\n",
              "      <td>...</td>\n",
              "      <td>never</td>\n",
              "      <td>Unknown</td>\n",
              "      <td>4~8</td>\n",
              "      <td>1~3</td>\n",
              "      <td>1</td>\n",
              "      <td>1</td>\n",
              "      <td>0</td>\n",
              "      <td>0</td>\n",
              "      <td>1</td>\n",
              "      <td>0</td>\n",
              "    </tr>\n",
              "    <tr>\n",
              "      <th>12</th>\n",
              "      <td>No Urgent Place</td>\n",
              "      <td>Kid(s)</td>\n",
              "      <td>Sunny</td>\n",
              "      <td>55</td>\n",
              "      <td>6PM</td>\n",
              "      <td>Coffee House</td>\n",
              "      <td>2h</td>\n",
              "      <td>Female</td>\n",
              "      <td>21</td>\n",
              "      <td>Unmarried partner</td>\n",
              "      <td>...</td>\n",
              "      <td>never</td>\n",
              "      <td>Unknown</td>\n",
              "      <td>4~8</td>\n",
              "      <td>1~3</td>\n",
              "      <td>1</td>\n",
              "      <td>1</td>\n",
              "      <td>0</td>\n",
              "      <td>0</td>\n",
              "      <td>1</td>\n",
              "      <td>1</td>\n",
              "    </tr>\n",
              "    <tr>\n",
              "      <th>15</th>\n",
              "      <td>Home</td>\n",
              "      <td>Alone</td>\n",
              "      <td>Sunny</td>\n",
              "      <td>80</td>\n",
              "      <td>6PM</td>\n",
              "      <td>Coffee House</td>\n",
              "      <td>2h</td>\n",
              "      <td>Female</td>\n",
              "      <td>21</td>\n",
              "      <td>Unmarried partner</td>\n",
              "      <td>...</td>\n",
              "      <td>never</td>\n",
              "      <td>Unknown</td>\n",
              "      <td>4~8</td>\n",
              "      <td>1~3</td>\n",
              "      <td>1</td>\n",
              "      <td>0</td>\n",
              "      <td>0</td>\n",
              "      <td>0</td>\n",
              "      <td>1</td>\n",
              "      <td>0</td>\n",
              "    </tr>\n",
              "  </tbody>\n",
              "</table>\n",
              "<p>5 rows × 26 columns</p>\n",
              "</div>"
            ],
            "text/plain": [
              "        destination  passanger weather  temperature  time        coupon  \\\n",
              "1   No Urgent Place  Friend(s)   Sunny           80  10AM  Coffee House   \n",
              "3   No Urgent Place  Friend(s)   Sunny           80   2PM  Coffee House   \n",
              "4   No Urgent Place  Friend(s)   Sunny           80   2PM  Coffee House   \n",
              "12  No Urgent Place     Kid(s)   Sunny           55   6PM  Coffee House   \n",
              "15             Home      Alone   Sunny           80   6PM  Coffee House   \n",
              "\n",
              "   expiration  gender age      maritalStatus  ...  CoffeeHouse CarryAway  \\\n",
              "1          2h  Female  21  Unmarried partner  ...        never   Unknown   \n",
              "3          2h  Female  21  Unmarried partner  ...        never   Unknown   \n",
              "4          1d  Female  21  Unmarried partner  ...        never   Unknown   \n",
              "12         2h  Female  21  Unmarried partner  ...        never   Unknown   \n",
              "15         2h  Female  21  Unmarried partner  ...        never   Unknown   \n",
              "\n",
              "   RestaurantLessThan20 Restaurant20To50 toCoupon_GEQ5min toCoupon_GEQ15min  \\\n",
              "1                   4~8              1~3                1                 0   \n",
              "3                   4~8              1~3                1                 1   \n",
              "4                   4~8              1~3                1                 1   \n",
              "12                  4~8              1~3                1                 1   \n",
              "15                  4~8              1~3                1                 0   \n",
              "\n",
              "   toCoupon_GEQ25min direction_same direction_opp  Y  \n",
              "1                  0              0             1  0  \n",
              "3                  0              0             1  0  \n",
              "4                  0              0             1  0  \n",
              "12                 0              0             1  1  \n",
              "15                 0              0             1  0  \n",
              "\n",
              "[5 rows x 26 columns]"
            ]
          },
          "execution_count": 55,
          "metadata": {},
          "output_type": "execute_result"
        }
      ],
      "source": [
        "coupons_coffee_house_df = df.query('coupon == \"Coffee House\"')\n",
        "coupons_coffee_house_df.head()"
      ]
    },
    {
      "cell_type": "code",
      "execution_count": 56,
      "metadata": {
        "colab": {
          "base_uri": "https://localhost:8080/"
        },
        "id": "KuyS0tdq11of",
        "outputId": "81dd3110-cd50-4ca8-983d-100be3f4f508"
      },
      "outputs": [
        {
          "data": {
            "text/plain": [
              "49.92492492492492"
            ]
          },
          "execution_count": 56,
          "metadata": {},
          "output_type": "execute_result"
        }
      ],
      "source": [
        "coffee_accept_rate = coupons_coffee_house_df['Y'].mean() * 100\n",
        "coffee_accept_rate"
      ]
    },
    {
      "cell_type": "code",
      "execution_count": 59,
      "metadata": {
        "colab": {
          "base_uri": "https://localhost:8080/"
        },
        "id": "1XdFHnfWxLWw",
        "outputId": "b551ad60-e96a-4299-d96c-88b9809d4679"
      },
      "outputs": [
        {
          "data": {
            "text/plain": [
              "array(['never', 'less1', '4~8', '1~3', 'gt8', 'Unknown'], dtype=object)"
            ]
          },
          "execution_count": 59,
          "metadata": {},
          "output_type": "execute_result"
        }
      ],
      "source": [
        "coupons_coffee_house_df['CoffeeHouse'].unique()"
      ]
    },
    {
      "cell_type": "code",
      "execution_count": 60,
      "metadata": {
        "id": "x8BQe8njAoRy"
      },
      "outputs": [],
      "source": [
        "more_than_three_list = ['4~8', 'gt8']\n",
        "three_or_less_list = ['never', 'less1', '1~3']"
      ]
    },
    {
      "cell_type": "code",
      "execution_count": 61,
      "metadata": {
        "colab": {
          "base_uri": "https://localhost:8080/"
        },
        "id": "nT5Ybp6dA6BL",
        "outputId": "ac60f0ff-9be7-4d6a-e119-7ad2a6aa48d8"
      },
      "outputs": [
        {
          "name": "stdout",
          "output_type": "stream",
          "text": [
            "Coupon accept rate of drivers who frequent coffee houses more than 3 times a month: 67.5%\n",
            "Coupon accept rate of drivers who frequent coffee houses 3 or less times a month: 44.94%\n"
          ]
        }
      ],
      "source": [
        "accept_rate_more_than_three = coupons_coffee_house_df[coupons_coffee_house_df['CoffeeHouse'].isin(more_than_three_list)]['Y'].mean() * 100\n",
        "accept_rate_three_or_less = coupons_coffee_house_df[coupons_coffee_house_df['CoffeeHouse'].isin(three_or_less_list)]['Y'].mean() * 100\n",
        "\n",
        "print('Coupon accept rate of drivers who frequent coffee houses more than 3 times a month: ' + str(round(accept_rate_more_than_three, 2)) + '%')\n",
        "print('Coupon accept rate of drivers who frequent coffee houses 3 or less times a month: ' + str(round(accept_rate_three_or_less, 2)) + '%')"
      ]
    },
    {
      "cell_type": "code",
      "execution_count": 62,
      "metadata": {
        "colab": {
          "base_uri": "https://localhost:8080/"
        },
        "id": "88sbFBTfCUPm",
        "outputId": "2b73adaa-6bc6-4560-e854-c367beb3ae24"
      },
      "outputs": [
        {
          "name": "stdout",
          "output_type": "stream",
          "text": [
            "Coupon accept rate of drivers who frequent coffee houses more than once a month: 66.02%\n",
            "Coupon accept rate of drivers who frequent coffee houses less than once a month: 34.62%\n"
          ]
        }
      ],
      "source": [
        "more_than_once_list = ['4~8', 'gt8', '1~3']\n",
        "less_than_once_list = ['less1', 'never']\n",
        "\n",
        "accept_rate_more_than_once = coupons_coffee_house_df[coupons_coffee_house_df['CoffeeHouse'].isin(more_than_once_list)]['Y'].mean() * 100\n",
        "accept_rate_less_than_once = coupons_coffee_house_df[coupons_coffee_house_df['CoffeeHouse'].isin(less_than_once_list)]['Y'].mean() * 100\n",
        "\n",
        "print('Coupon accept rate of drivers who frequent coffee houses more than once a month: ' + str(round(accept_rate_more_than_once, 2)) + '%')\n",
        "print('Coupon accept rate of drivers who frequent coffee houses less than once a month: ' + str(round(accept_rate_less_than_once, 2)) + '%')"
      ]
    },
    {
      "cell_type": "code",
      "execution_count": 68,
      "metadata": {
        "colab": {
          "base_uri": "https://localhost:8080/",
          "height": 542
        },
        "id": "CrykdkcJ11of",
        "outputId": "571e71aa-ebe8-4c37-ad9b-8bfeb6e576ef"
      },
      "outputs": [
        {
          "data": {
            "text/plain": [
              "<Axes: xlabel='CoffeeHouse', ylabel='Count'>"
            ]
          },
          "execution_count": 68,
          "metadata": {},
          "output_type": "execute_result"
        },
        {
          "data": {
            "image/png": "[encoded data removed]",
            "text/plain": [
              "<Figure size 640x480 with 1 Axes>"
            ]
          },
          "metadata": {},
          "output_type": "display_data"
        }
      ],
      "source": [
        "sns.histplot(coupons_coffee_house_df, x='CoffeeHouse', hue='Y')"
      ]
    },
    {
      "cell_type": "code",
      "execution_count": 64,
      "metadata": {
        "colab": {
          "base_uri": "https://localhost:8080/"
        },
        "id": "MCwWrQ_EECPM",
        "outputId": "1b8422a8-3231-4277-c9af-cb238515ed38"
      },
      "outputs": [
        {
          "data": {
            "text/plain": [
              "array(['21', '46', '26', '31', '41', '50plus', '36', 'below21'],\n",
              "      dtype=object)"
            ]
          },
          "execution_count": 64,
          "metadata": {},
          "output_type": "execute_result"
        }
      ],
      "source": [
        "coupons_coffee_house_df['age'].unique()"
      ]
    },
    {
      "cell_type": "code",
      "execution_count": 65,
      "metadata": {
        "colab": {
          "base_uri": "https://localhost:8080/"
        },
        "id": "09TUpHGF11of",
        "outputId": "2ddcdb6b-40fe-42fd-8f88-634b048d1494"
      },
      "outputs": [
        {
          "name": "stdout",
          "output_type": "stream",
          "text": [
            "Coupon accept rate of drivers who frequent coffee houses more than once a month and are 21 or older: 65.35%\n",
            "Coupon accept rate of drivers who frequent coffee houses more than once a month and under the age of 21: 76.27%\n"
          ]
        }
      ],
      "source": [
        "age_21_over_list = ['46', '26', '31', '41', '50plus', '36', '21']\n",
        "\n",
        "more_than_once_21_over = coupons_coffee_house_df[(coupons_coffee_house_df['CoffeeHouse'].isin(more_than_once_list)) & (coupons_coffee_house_df['age'].isin(age_21_over_list))]['Y'].mean() * 100\n",
        "under_21 = coupons_coffee_house_df[(coupons_coffee_house_df['CoffeeHouse'].isin(more_than_once_list)) & ~(coupons_coffee_house_df['age'].isin(age_21_over_list))]['Y'].mean() * 100\n",
        "\n",
        "print('Coupon accept rate of drivers who frequent coffee houses more than once a month and are 21 or older: ' + str(round(more_than_once_21_over, 2)) + '%')\n",
        "print('Coupon accept rate of drivers who frequent coffee houses more than once a month and under the age of 21: ' + str(round(under_21, 2)) + '%')"
      ]
    },
    {
      "cell_type": "code",
      "execution_count": 69,
      "metadata": {
        "colab": {
          "base_uri": "https://localhost:8080/",
          "height": 542
        },
        "id": "xmIbnJ_ME7xQ",
        "outputId": "9b6c3a1d-2f17-4b88-a6a8-7e33b1a92b23"
      },
      "outputs": [
        {
          "data": {
            "text/plain": [
              "<Axes: xlabel='age', ylabel='Count'>"
            ]
          },
          "execution_count": 69,
          "metadata": {},
          "output_type": "execute_result"
        },
        {
          "data": {
            "image/png": "[encoded data removed]",
            "text/plain": [
              "<Figure size 640x480 with 1 Axes>"
            ]
          },
          "metadata": {},
          "output_type": "display_data"
        }
      ],
      "source": [
        "sns.histplot(coupons_coffee_house_df, x='age', hue='Y')"
      ]
    },
    {
      "cell_type": "code",
      "execution_count": 86,
      "metadata": {
        "colab": {
          "base_uri": "https://localhost:8080/",
          "height": 542
        },
        "id": "D47hRfaLGBGF",
        "outputId": "97a82fbc-a675-4911-b209-9e298651ac60"
      },
      "outputs": [
        {
          "data": {
            "text/plain": [
              "([0,\n",
              "  1,\n",
              "  2,\n",
              "  3,\n",
              "  4,\n",
              "  5,\n",
              "  6,\n",
              "  7,\n",
              "  8,\n",
              "  9,\n",
              "  10,\n",
              "  11,\n",
              "  12,\n",
              "  13,\n",
              "  14,\n",
              "  15,\n",
              "  16,\n",
              "  17,\n",
              "  18,\n",
              "  19,\n",
              "  20,\n",
              "  21,\n",
              "  22,\n",
              "  23,\n",
              "  24],\n",
              " [Text(0, 0, 'Unemployed'),\n",
              "  Text(1, 0, 'Architecture & Engineering'),\n",
              "  Text(2, 0, 'Student'),\n",
              "  Text(3, 0, 'Education&Training&Library'),\n",
              "  Text(4, 0, 'Healthcare Support'),\n",
              "  Text(5, 0, 'Healthcare Practitioners & Technical'),\n",
              "  Text(6, 0, 'Sales & Related'),\n",
              "  Text(7, 0, 'Management'),\n",
              "  Text(8, 0, 'Arts Design Entertainment Sports & Media'),\n",
              "  Text(9, 0, 'Computer & Mathematical'),\n",
              "  Text(10, 0, 'Life Physical Social Science'),\n",
              "  Text(11, 0, 'Personal Care & Service'),\n",
              "  Text(12, 0, 'Community & Social Services'),\n",
              "  Text(13, 0, 'Office & Administrative Support'),\n",
              "  Text(14, 0, 'Construction & Extraction'),\n",
              "  Text(15, 0, 'Legal'),\n",
              "  Text(16, 0, 'Retired'),\n",
              "  Text(17, 0, 'Installation Maintenance & Repair'),\n",
              "  Text(18, 0, 'Transportation & Material Moving'),\n",
              "  Text(19, 0, 'Business & Financial'),\n",
              "  Text(20, 0, 'Protective Service'),\n",
              "  Text(21, 0, 'Food Preparation & Serving Related'),\n",
              "  Text(22, 0, 'Production Occupations'),\n",
              "  Text(23, 0, 'Building & Grounds Cleaning & Maintenance'),\n",
              "  Text(24, 0, 'Farming Fishing & Forestry')])"
            ]
          },
          "execution_count": 86,
          "metadata": {},
          "output_type": "execute_result"
        },
        {
          "data": {
            "image/png": "[encoded data removed]",
            "text/plain": [
              "<Figure size 2000x1000 with 1 Axes>"
            ]
          },
          "metadata": {},
          "output_type": "display_data"
        }
      ],
      "source": [
        "fig, ax = plt.subplots(figsize=(20, 10))\n",
        "sns.histplot(coupons_coffee_house_df, x='occupation', hue='Y', ax=ax)\n",
        "plt.xticks(rotation=90)"
      ]
    },
    {
      "cell_type": "code",
      "execution_count": 72,
      "metadata": {
        "colab": {
          "base_uri": "https://localhost:8080/"
        },
        "id": "lFwBsIwPGaQk",
        "outputId": "11d9fd6e-fd26-4cb9-9fde-2e74e51c636e"
      },
      "outputs": [
        {
          "data": {
            "text/plain": [
              "occupation\n",
              "Community & Social Services                  0.351351\n",
              "Production Occupations                       0.357143\n",
              "Legal                                        0.376812\n",
              "Sales & Related                              0.391549\n",
              "Retired                                      0.402439\n",
              "Office & Administrative Support              0.431472\n",
              "Education&Training&Library                   0.435811\n",
              "Food Preparation & Serving Related           0.445783\n",
              "Protective Service                           0.448276\n",
              "Management                                   0.456376\n",
              "Life Physical Social Science                 0.475410\n",
              "Construction & Extraction                    0.478261\n",
              "Business & Financial                         0.479452\n",
              "Personal Care & Service                      0.500000\n",
              "Computer & Mathematical                      0.503341\n",
              "Arts Design Entertainment Sports & Media     0.507177\n",
              "Unemployed                                   0.542105\n",
              "Farming Fishing & Forestry                   0.545455\n",
              "Architecture & Engineering                   0.555556\n",
              "Installation Maintenance & Repair            0.568182\n",
              "Healthcare Support                           0.615385\n",
              "Transportation & Material Moving             0.618421\n",
              "Student                                      0.625251\n",
              "Building & Grounds Cleaning & Maintenance    0.727273\n",
              "Healthcare Practitioners & Technical         0.743243\n",
              "Name: Y, dtype: float64"
            ]
          },
          "execution_count": 72,
          "metadata": {},
          "output_type": "execute_result"
        }
      ],
      "source": [
        "coupons_coffee_house_df.groupby(['occupation'])['Y'].mean().sort_values(ascending=True)"
      ]
    },
    {
      "cell_type": "code",
      "execution_count": 73,
      "metadata": {
        "colab": {
          "base_uri": "https://localhost:8080/"
        },
        "id": "SlU2aXguGwjt",
        "outputId": "c87aadf0-343e-4375-a813-35a16e9a8112"
      },
      "outputs": [
        {
          "name": "stdout",
          "output_type": "stream",
          "text": [
            "Coupon accept rate of drivers who frequent coffee houses more than once and are unemployed: 72.83%\n",
            "Coupon accept rate of drivers who frequent coffee houses more than once and are employed: 64.99%\n"
          ]
        }
      ],
      "source": [
        "more_than_once_unemployed = coupons_coffee_house_df[(coupons_coffee_house_df['CoffeeHouse'].isin(more_than_once_list)) & (coupons_coffee_house_df['occupation'].isin(['Unemployed']))]['Y'].mean() * 100\n",
        "more_than_once_employed = coupons_coffee_house_df[(coupons_coffee_house_df['CoffeeHouse'].isin(more_than_once_list)) & ~(coupons_coffee_house_df['occupation'].isin(['Unemployed']))]['Y'].mean() * 100\n",
        "\n",
        "print('Coupon accept rate of drivers who frequent coffee houses more than once and are unemployed: ' + str(round(more_than_once_unemployed, 2)) + '%')\n",
        "print('Coupon accept rate of drivers who frequent coffee houses more than once and are employed: ' + str(round(more_than_once_employed, 2)) + '%')"
      ]
    },
    {
      "cell_type": "markdown",
      "metadata": {
        "id": "geYTjG-yPf6V"
      },
      "source": [
        "Hypothesis based on these obeservations: People who frequent coffee houses at least once a month are more likely to accept coffee house coupons. People frequent coffee houses at least once a month and are under 21 are more likely to accept coffee house coupons. People who frequent coffee houses at least once a month and are unemployed are more likely to accept coffee house coupons."
      ]
    }
  ],
  "metadata": {
    "colab": {
      "provenance": []
    },
    "kernelspec": {
      "display_name": "Python 3",
      "language": "python",
      "name": "python3"
    },
    "language_info": {
      "codemirror_mode": {
        "name": "ipython",
        "version": 3
      },
      "file_extension": ".py",
      "mimetype": "text/x-python",
      "name": "python",
      "nbconvert_exporter": "python",
      "pygments_lexer": "ipython3",
      "version": "3.12.2"
    }
  },
  "nbformat": 4,
  "nbformat_minor": 0
}
