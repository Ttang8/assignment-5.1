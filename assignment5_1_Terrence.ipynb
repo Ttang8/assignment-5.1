{
  "cells": [
    {
      "cell_type": "markdown",
      "metadata": {
        "id": "n4GGMzX311oU"
      },
      "source": [
        "### Will a Customer Accept the Coupon?\n",
        "\n",
        "**Context**\n",
        "\n",
        "Imagine driving through town and a coupon is delivered to your cell phone for a restaraunt near where you are driving. Would you accept that coupon and take a short detour to the restaraunt? Would you accept the coupon but use it on a sunbsequent trip? Would you ignore the coupon entirely? What if the coupon was for a bar instead of a restaraunt? What about a coffee house? Would you accept a bar coupon with a minor passenger in the car? What about if it was just you and your partner in the car? Would weather impact the rate of acceptance? What about the time of day?\n",
        "\n",
        "Obviously, proximity to the business is a factor on whether the coupon is delivered to the driver or not, but what are the factors that determine whether a driver accepts the coupon once it is delivered to them? How would you determine whether a driver is likely to accept a coupon?\n",
        "\n",
        "**Overview**\n",
        "\n",
        "The goal of this project is to use what you know about visualizations and probability distributions to distinguish between customers who accepted a driving coupon versus those that did not.\n",
        "\n",
        "**Data**\n",
        "\n",
        "This data comes to us from the UCI Machine Learning repository and was collected via a survey on Amazon Mechanical Turk. The survey describes different driving scenarios including the destination, current time, weather, passenger, etc., and then ask the person whether he will accept the coupon if he is the driver. Answers that the user will drive there ‘right away’ or ‘later before the coupon expires’ are labeled as ‘Y = 1’ and answers ‘no, I do not want the coupon’ are labeled as ‘Y = 0’.  There are five different types of coupons -- less expensive restaurants (under \\\\$20), coffee houses, carry out & take away, bar, and more expensive restaurants (\\\\$20 - \\\\$50)."
      ]
    },
    {
      "cell_type": "markdown",
      "metadata": {
        "id": "kgLGGuea11oX"
      },
      "source": [
        "**Deliverables**\n",
        "\n",
        "Your final product should be a brief report that highlights the differences between customers who did and did not accept the coupons.  To explore the data you will utilize your knowledge of plotting, statistical summaries, and visualization using Python. You will publish your findings in a public facing github repository as your first portfolio piece.\n",
        "\n",
        "\n",
        "\n"
      ]
    },
    {
      "cell_type": "markdown",
      "metadata": {
        "id": "pf2sAGDv11oY"
      },
      "source": [
        "### Data Description\n",
        "Keep in mind that these values mentioned below are average values.\n",
        "\n",
        "The attributes of this data set include:\n",
        "1. User attributes\n",
        "    -  Gender: male, female\n",
        "    -  Age: below 21, 21 to 25, 26 to 30, etc.\n",
        "    -  Marital Status: single, married partner, unmarried partner, or widowed\n",
        "    -  Number of children: 0, 1, or more than 1\n",
        "    -  Education: high school, bachelors degree, associates degree, or graduate degree\n",
        "    -  Occupation: architecture & engineering, business & financial, etc.\n",
        "    -  Annual income: less than \\\\$12500, \\\\$12500 - \\\\$24999, \\\\$25000 - \\\\$37499, etc.\n",
        "    -  Number of times that he/she goes to a bar: 0, less than 1, 1 to 3, 4 to 8 or greater than 8\n",
        "    -  Number of times that he/she buys takeaway food: 0, less than 1, 1 to 3, 4 to 8 or greater\n",
        "    than 8\n",
        "    -  Number of times that he/she goes to a coffee house: 0, less than 1, 1 to 3, 4 to 8 or\n",
        "    greater than 8\n",
        "    -  Number of times that he/she eats at a restaurant with average expense less than \\\\$20 per\n",
        "    person: 0, less than 1, 1 to 3, 4 to 8 or greater than 8\n",
        "    -  Number of times that he/she goes to a bar: 0, less than 1, 1 to 3, 4 to 8 or greater than 8\n",
        "    \n",
        "\n",
        "2. Contextual attributes\n",
        "    - Driving destination: home, work, or no urgent destination\n",
        "    - Location of user, coupon and destination: we provide a map to show the geographical\n",
        "    location of the user, destination, and the venue, and we mark the distance between each\n",
        "    two places with time of driving. The user can see whether the venue is in the same\n",
        "    direction as the destination.\n",
        "    - Weather: sunny, rainy, or snowy\n",
        "    - Temperature: 30F, 55F, or 80F\n",
        "    - Time: 10AM, 2PM, or 6PM\n",
        "    - Passenger: alone, partner, kid(s), or friend(s)\n",
        "\n",
        "\n",
        "3. Coupon attributes\n",
        "    - time before it expires: 2 hours or one day"
      ]
    },
    {
      "cell_type": "code",
      "execution_count": 1,
      "metadata": {
        "id": "QLJfyaCc11oZ"
      },
      "outputs": [],
      "source": [
        "import matplotlib.pyplot as plt\n",
        "import seaborn as sns\n",
        "import pandas as pd\n",
        "import numpy as np\n",
        "import plotly.express as px"
      ]
    },
    {
      "cell_type": "markdown",
      "metadata": {
        "id": "dp8_4rMZ11oa"
      },
      "source": [
        "### Problems\n",
        "\n",
        "Use the prompts below to get started with your data analysis.  \n",
        "\n",
        "1. Read in the `coupons.csv` file.\n",
        "\n",
        "\n"
      ]
    },
    {
      "cell_type": "code",
      "execution_count": 2,
      "metadata": {
        "id": "1w3Cg2iX11oa"
      },
      "outputs": [],
      "source": [
        "df = pd.read_csv('coupons.csv')"
      ]
    },
    {
      "cell_type": "code",
      "execution_count": 3,
      "metadata": {
        "id": "Sfnx_AGB11oa",
        "outputId": "fba62b27-cd47-4364-d7f6-d02e3e02608e",
        "colab": {
          "base_uri": "https://localhost:8080/",
          "height": 586
        }
      },
      "outputs": [
        {
          "output_type": "execute_result",
          "data": {
            "text/plain": [
              "       destination  passanger weather  temperature  time  \\\n",
              "0  No Urgent Place      Alone   Sunny           55   2PM   \n",
              "1  No Urgent Place  Friend(s)   Sunny           80  10AM   \n",
              "2  No Urgent Place  Friend(s)   Sunny           80  10AM   \n",
              "3  No Urgent Place  Friend(s)   Sunny           80   2PM   \n",
              "4  No Urgent Place  Friend(s)   Sunny           80   2PM   \n",
              "5  No Urgent Place  Friend(s)   Sunny           80   6PM   \n",
              "6  No Urgent Place  Friend(s)   Sunny           55   2PM   \n",
              "7  No Urgent Place     Kid(s)   Sunny           80  10AM   \n",
              "8  No Urgent Place     Kid(s)   Sunny           80  10AM   \n",
              "9  No Urgent Place     Kid(s)   Sunny           80  10AM   \n",
              "\n",
              "                  coupon expiration  gender age      maritalStatus  ...  \\\n",
              "0        Restaurant(<20)         1d  Female  21  Unmarried partner  ...   \n",
              "1           Coffee House         2h  Female  21  Unmarried partner  ...   \n",
              "2  Carry out & Take away         2h  Female  21  Unmarried partner  ...   \n",
              "3           Coffee House         2h  Female  21  Unmarried partner  ...   \n",
              "4           Coffee House         1d  Female  21  Unmarried partner  ...   \n",
              "5        Restaurant(<20)         2h  Female  21  Unmarried partner  ...   \n",
              "6  Carry out & Take away         1d  Female  21  Unmarried partner  ...   \n",
              "7        Restaurant(<20)         2h  Female  21  Unmarried partner  ...   \n",
              "8  Carry out & Take away         2h  Female  21  Unmarried partner  ...   \n",
              "9                    Bar         1d  Female  21  Unmarried partner  ...   \n",
              "\n",
              "   CoffeeHouse CarryAway RestaurantLessThan20 Restaurant20To50  \\\n",
              "0        never       NaN                  4~8              1~3   \n",
              "1        never       NaN                  4~8              1~3   \n",
              "2        never       NaN                  4~8              1~3   \n",
              "3        never       NaN                  4~8              1~3   \n",
              "4        never       NaN                  4~8              1~3   \n",
              "5        never       NaN                  4~8              1~3   \n",
              "6        never       NaN                  4~8              1~3   \n",
              "7        never       NaN                  4~8              1~3   \n",
              "8        never       NaN                  4~8              1~3   \n",
              "9        never       NaN                  4~8              1~3   \n",
              "\n",
              "  toCoupon_GEQ5min toCoupon_GEQ15min toCoupon_GEQ25min direction_same  \\\n",
              "0                1                 0                 0              0   \n",
              "1                1                 0                 0              0   \n",
              "2                1                 1                 0              0   \n",
              "3                1                 1                 0              0   \n",
              "4                1                 1                 0              0   \n",
              "5                1                 1                 0              0   \n",
              "6                1                 1                 0              0   \n",
              "7                1                 1                 0              0   \n",
              "8                1                 1                 0              0   \n",
              "9                1                 1                 0              0   \n",
              "\n",
              "  direction_opp  Y  \n",
              "0             1  1  \n",
              "1             1  0  \n",
              "2             1  1  \n",
              "3             1  0  \n",
              "4             1  0  \n",
              "5             1  1  \n",
              "6             1  1  \n",
              "7             1  1  \n",
              "8             1  1  \n",
              "9             1  0  \n",
              "\n",
              "[10 rows x 26 columns]"
            ],
            "text/html": [
              "\n",
              "  <div id=\"df-da829edb-1862-4309-b204-6fda438c3061\" class=\"colab-df-container\">\n",
              "    <div>\n",
              "<style scoped>\n",
              "    .dataframe tbody tr th:only-of-type {\n",
              "        vertical-align: middle;\n",
              "    }\n",
              "\n",
              "    .dataframe tbody tr th {\n",
              "        vertical-align: top;\n",
              "    }\n",
              "\n",
              "    .dataframe thead th {\n",
              "        text-align: right;\n",
              "    }\n",
              "</style>\n",
              "<table border=\"1\" class=\"dataframe\">\n",
              "  <thead>\n",
              "    <tr style=\"text-align: right;\">\n",
              "      <th></th>\n",
              "      <th>destination</th>\n",
              "      <th>passanger</th>\n",
              "      <th>weather</th>\n",
              "      <th>temperature</th>\n",
              "      <th>time</th>\n",
              "      <th>coupon</th>\n",
              "      <th>expiration</th>\n",
              "      <th>gender</th>\n",
              "      <th>age</th>\n",
              "      <th>maritalStatus</th>\n",
              "      <th>...</th>\n",
              "      <th>CoffeeHouse</th>\n",
              "      <th>CarryAway</th>\n",
              "      <th>RestaurantLessThan20</th>\n",
              "      <th>Restaurant20To50</th>\n",
              "      <th>toCoupon_GEQ5min</th>\n",
              "      <th>toCoupon_GEQ15min</th>\n",
              "      <th>toCoupon_GEQ25min</th>\n",
              "      <th>direction_same</th>\n",
              "      <th>direction_opp</th>\n",
              "      <th>Y</th>\n",
              "    </tr>\n",
              "  </thead>\n",
              "  <tbody>\n",
              "    <tr>\n",
              "      <th>0</th>\n",
              "      <td>No Urgent Place</td>\n",
              "      <td>Alone</td>\n",
              "      <td>Sunny</td>\n",
              "      <td>55</td>\n",
              "      <td>2PM</td>\n",
              "      <td>Restaurant(&lt;20)</td>\n",
              "      <td>1d</td>\n",
              "      <td>Female</td>\n",
              "      <td>21</td>\n",
              "      <td>Unmarried partner</td>\n",
              "      <td>...</td>\n",
              "      <td>never</td>\n",
              "      <td>NaN</td>\n",
              "      <td>4~8</td>\n",
              "      <td>1~3</td>\n",
              "      <td>1</td>\n",
              "      <td>0</td>\n",
              "      <td>0</td>\n",
              "      <td>0</td>\n",
              "      <td>1</td>\n",
              "      <td>1</td>\n",
              "    </tr>\n",
              "    <tr>\n",
              "      <th>1</th>\n",
              "      <td>No Urgent Place</td>\n",
              "      <td>Friend(s)</td>\n",
              "      <td>Sunny</td>\n",
              "      <td>80</td>\n",
              "      <td>10AM</td>\n",
              "      <td>Coffee House</td>\n",
              "      <td>2h</td>\n",
              "      <td>Female</td>\n",
              "      <td>21</td>\n",
              "      <td>Unmarried partner</td>\n",
              "      <td>...</td>\n",
              "      <td>never</td>\n",
              "      <td>NaN</td>\n",
              "      <td>4~8</td>\n",
              "      <td>1~3</td>\n",
              "      <td>1</td>\n",
              "      <td>0</td>\n",
              "      <td>0</td>\n",
              "      <td>0</td>\n",
              "      <td>1</td>\n",
              "      <td>0</td>\n",
              "    </tr>\n",
              "    <tr>\n",
              "      <th>2</th>\n",
              "      <td>No Urgent Place</td>\n",
              "      <td>Friend(s)</td>\n",
              "      <td>Sunny</td>\n",
              "      <td>80</td>\n",
              "      <td>10AM</td>\n",
              "      <td>Carry out &amp; Take away</td>\n",
              "      <td>2h</td>\n",
              "      <td>Female</td>\n",
              "      <td>21</td>\n",
              "      <td>Unmarried partner</td>\n",
              "      <td>...</td>\n",
              "      <td>never</td>\n",
              "      <td>NaN</td>\n",
              "      <td>4~8</td>\n",
              "      <td>1~3</td>\n",
              "      <td>1</td>\n",
              "      <td>1</td>\n",
              "      <td>0</td>\n",
              "      <td>0</td>\n",
              "      <td>1</td>\n",
              "      <td>1</td>\n",
              "    </tr>\n",
              "    <tr>\n",
              "      <th>3</th>\n",
              "      <td>No Urgent Place</td>\n",
              "      <td>Friend(s)</td>\n",
              "      <td>Sunny</td>\n",
              "      <td>80</td>\n",
              "      <td>2PM</td>\n",
              "      <td>Coffee House</td>\n",
              "      <td>2h</td>\n",
              "      <td>Female</td>\n",
              "      <td>21</td>\n",
              "      <td>Unmarried partner</td>\n",
              "      <td>...</td>\n",
              "      <td>never</td>\n",
              "      <td>NaN</td>\n",
              "      <td>4~8</td>\n",
              "      <td>1~3</td>\n",
              "      <td>1</td>\n",
              "      <td>1</td>\n",
              "      <td>0</td>\n",
              "      <td>0</td>\n",
              "      <td>1</td>\n",
              "      <td>0</td>\n",
              "    </tr>\n",
              "    <tr>\n",
              "      <th>4</th>\n",
              "      <td>No Urgent Place</td>\n",
              "      <td>Friend(s)</td>\n",
              "      <td>Sunny</td>\n",
              "      <td>80</td>\n",
              "      <td>2PM</td>\n",
              "      <td>Coffee House</td>\n",
              "      <td>1d</td>\n",
              "      <td>Female</td>\n",
              "      <td>21</td>\n",
              "      <td>Unmarried partner</td>\n",
              "      <td>...</td>\n",
              "      <td>never</td>\n",
              "      <td>NaN</td>\n",
              "      <td>4~8</td>\n",
              "      <td>1~3</td>\n",
              "      <td>1</td>\n",
              "      <td>1</td>\n",
              "      <td>0</td>\n",
              "      <td>0</td>\n",
              "      <td>1</td>\n",
              "      <td>0</td>\n",
              "    </tr>\n",
              "    <tr>\n",
              "      <th>5</th>\n",
              "      <td>No Urgent Place</td>\n",
              "      <td>Friend(s)</td>\n",
              "      <td>Sunny</td>\n",
              "      <td>80</td>\n",
              "      <td>6PM</td>\n",
              "      <td>Restaurant(&lt;20)</td>\n",
              "      <td>2h</td>\n",
              "      <td>Female</td>\n",
              "      <td>21</td>\n",
              "      <td>Unmarried partner</td>\n",
              "      <td>...</td>\n",
              "      <td>never</td>\n",
              "      <td>NaN</td>\n",
              "      <td>4~8</td>\n",
              "      <td>1~3</td>\n",
              "      <td>1</td>\n",
              "      <td>1</td>\n",
              "      <td>0</td>\n",
              "      <td>0</td>\n",
              "      <td>1</td>\n",
              "      <td>1</td>\n",
              "    </tr>\n",
              "    <tr>\n",
              "      <th>6</th>\n",
              "      <td>No Urgent Place</td>\n",
              "      <td>Friend(s)</td>\n",
              "      <td>Sunny</td>\n",
              "      <td>55</td>\n",
              "      <td>2PM</td>\n",
              "      <td>Carry out &amp; Take away</td>\n",
              "      <td>1d</td>\n",
              "      <td>Female</td>\n",
              "      <td>21</td>\n",
              "      <td>Unmarried partner</td>\n",
              "      <td>...</td>\n",
              "      <td>never</td>\n",
              "      <td>NaN</td>\n",
              "      <td>4~8</td>\n",
              "      <td>1~3</td>\n",
              "      <td>1</td>\n",
              "      <td>1</td>\n",
              "      <td>0</td>\n",
              "      <td>0</td>\n",
              "      <td>1</td>\n",
              "      <td>1</td>\n",
              "    </tr>\n",
              "    <tr>\n",
              "      <th>7</th>\n",
              "      <td>No Urgent Place</td>\n",
              "      <td>Kid(s)</td>\n",
              "      <td>Sunny</td>\n",
              "      <td>80</td>\n",
              "      <td>10AM</td>\n",
              "      <td>Restaurant(&lt;20)</td>\n",
              "      <td>2h</td>\n",
              "      <td>Female</td>\n",
              "      <td>21</td>\n",
              "      <td>Unmarried partner</td>\n",
              "      <td>...</td>\n",
              "      <td>never</td>\n",
              "      <td>NaN</td>\n",
              "      <td>4~8</td>\n",
              "      <td>1~3</td>\n",
              "      <td>1</td>\n",
              "      <td>1</td>\n",
              "      <td>0</td>\n",
              "      <td>0</td>\n",
              "      <td>1</td>\n",
              "      <td>1</td>\n",
              "    </tr>\n",
              "    <tr>\n",
              "      <th>8</th>\n",
              "      <td>No Urgent Place</td>\n",
              "      <td>Kid(s)</td>\n",
              "      <td>Sunny</td>\n",
              "      <td>80</td>\n",
              "      <td>10AM</td>\n",
              "      <td>Carry out &amp; Take away</td>\n",
              "      <td>2h</td>\n",
              "      <td>Female</td>\n",
              "      <td>21</td>\n",
              "      <td>Unmarried partner</td>\n",
              "      <td>...</td>\n",
              "      <td>never</td>\n",
              "      <td>NaN</td>\n",
              "      <td>4~8</td>\n",
              "      <td>1~3</td>\n",
              "      <td>1</td>\n",
              "      <td>1</td>\n",
              "      <td>0</td>\n",
              "      <td>0</td>\n",
              "      <td>1</td>\n",
              "      <td>1</td>\n",
              "    </tr>\n",
              "    <tr>\n",
              "      <th>9</th>\n",
              "      <td>No Urgent Place</td>\n",
              "      <td>Kid(s)</td>\n",
              "      <td>Sunny</td>\n",
              "      <td>80</td>\n",
              "      <td>10AM</td>\n",
              "      <td>Bar</td>\n",
              "      <td>1d</td>\n",
              "      <td>Female</td>\n",
              "      <td>21</td>\n",
              "      <td>Unmarried partner</td>\n",
              "      <td>...</td>\n",
              "      <td>never</td>\n",
              "      <td>NaN</td>\n",
              "      <td>4~8</td>\n",
              "      <td>1~3</td>\n",
              "      <td>1</td>\n",
              "      <td>1</td>\n",
              "      <td>0</td>\n",
              "      <td>0</td>\n",
              "      <td>1</td>\n",
              "      <td>0</td>\n",
              "    </tr>\n",
              "  </tbody>\n",
              "</table>\n",
              "<p>10 rows × 26 columns</p>\n",
              "</div>\n",
              "    <div class=\"colab-df-buttons\">\n",
              "\n",
              "  <div class=\"colab-df-container\">\n",
              "    <button class=\"colab-df-convert\" onclick=\"convertToInteractive('df-da829edb-1862-4309-b204-6fda438c3061')\"\n",
              "            title=\"Convert this dataframe to an interactive table.\"\n",
              "            style=\"display:none;\">\n",
              "\n",
              "  <svg xmlns=\"http://www.w3.org/2000/svg\" height=\"24px\" viewBox=\"0 -960 960 960\">\n",
              "    <path d=\"M120-120v-720h720v720H120Zm60-500h600v-160H180v160Zm220 220h160v-160H400v160Zm0 220h160v-160H400v160ZM180-400h160v-160H180v160Zm440 0h160v-160H620v160ZM180-180h160v-160H180v160Zm440 0h160v-160H620v160Z\"/>\n",
              "  </svg>\n",
              "    </button>\n",
              "\n",
              "  <style>\n",
              "    .colab-df-container {\n",
              "      display:flex;\n",
              "      gap: 12px;\n",
              "    }\n",
              "\n",
              "    .colab-df-convert {\n",
              "      background-color: #E8F0FE;\n",
              "      border: none;\n",
              "      border-radius: 50%;\n",
              "      cursor: pointer;\n",
              "      display: none;\n",
              "      fill: #1967D2;\n",
              "      height: 32px;\n",
              "      padding: 0 0 0 0;\n",
              "      width: 32px;\n",
              "    }\n",
              "\n",
              "    .colab-df-convert:hover {\n",
              "      background-color: #E2EBFA;\n",
              "      box-shadow: 0px 1px 2px rgba(60, 64, 67, 0.3), 0px 1px 3px 1px rgba(60, 64, 67, 0.15);\n",
              "      fill: #174EA6;\n",
              "    }\n",
              "\n",
              "    .colab-df-buttons div {\n",
              "      margin-bottom: 4px;\n",
              "    }\n",
              "\n",
              "    [theme=dark] .colab-df-convert {\n",
              "      background-color: #3B4455;\n",
              "      fill: #D2E3FC;\n",
              "    }\n",
              "\n",
              "    [theme=dark] .colab-df-convert:hover {\n",
              "      background-color: #434B5C;\n",
              "      box-shadow: 0px 1px 3px 1px rgba(0, 0, 0, 0.15);\n",
              "      filter: drop-shadow(0px 1px 2px rgba(0, 0, 0, 0.3));\n",
              "      fill: #FFFFFF;\n",
              "    }\n",
              "  </style>\n",
              "\n",
              "    <script>\n",
              "      const buttonEl =\n",
              "        document.querySelector('#df-da829edb-1862-4309-b204-6fda438c3061 button.colab-df-convert');\n",
              "      buttonEl.style.display =\n",
              "        google.colab.kernel.accessAllowed ? 'block' : 'none';\n",
              "\n",
              "      async function convertToInteractive(key) {\n",
              "        const element = document.querySelector('#df-da829edb-1862-4309-b204-6fda438c3061');\n",
              "        const dataTable =\n",
              "          await google.colab.kernel.invokeFunction('convertToInteractive',\n",
              "                                                    [key], {});\n",
              "        if (!dataTable) return;\n",
              "\n",
              "        const docLinkHtml = 'Like what you see? Visit the ' +\n",
              "          '<a target=\"_blank\" href=https://colab.research.google.com/notebooks/data_table.ipynb>data table notebook</a>'\n",
              "          + ' to learn more about interactive tables.';\n",
              "        element.innerHTML = '';\n",
              "        dataTable['output_type'] = 'display_data';\n",
              "        await google.colab.output.renderOutput(dataTable, element);\n",
              "        const docLink = document.createElement('div');\n",
              "        docLink.innerHTML = docLinkHtml;\n",
              "        element.appendChild(docLink);\n",
              "      }\n",
              "    </script>\n",
              "  </div>\n",
              "\n",
              "\n",
              "<div id=\"df-64859a87-f163-4a3c-80e3-3ef9d3e09a68\">\n",
              "  <button class=\"colab-df-quickchart\" onclick=\"quickchart('df-64859a87-f163-4a3c-80e3-3ef9d3e09a68')\"\n",
              "            title=\"Suggest charts\"\n",
              "            style=\"display:none;\">\n",
              "\n",
              "<svg xmlns=\"http://www.w3.org/2000/svg\" height=\"24px\"viewBox=\"0 0 24 24\"\n",
              "     width=\"24px\">\n",
              "    <g>\n",
              "        <path d=\"M19 3H5c-1.1 0-2 .9-2 2v14c0 1.1.9 2 2 2h14c1.1 0 2-.9 2-2V5c0-1.1-.9-2-2-2zM9 17H7v-7h2v7zm4 0h-2V7h2v10zm4 0h-2v-4h2v4z\"/>\n",
              "    </g>\n",
              "</svg>\n",
              "  </button>\n",
              "\n",
              "<style>\n",
              "  .colab-df-quickchart {\n",
              "      --bg-color: #E8F0FE;\n",
              "      --fill-color: #1967D2;\n",
              "      --hover-bg-color: #E2EBFA;\n",
              "      --hover-fill-color: #174EA6;\n",
              "      --disabled-fill-color: #AAA;\n",
              "      --disabled-bg-color: #DDD;\n",
              "  }\n",
              "\n",
              "  [theme=dark] .colab-df-quickchart {\n",
              "      --bg-color: #3B4455;\n",
              "      --fill-color: #D2E3FC;\n",
              "      --hover-bg-color: #434B5C;\n",
              "      --hover-fill-color: #FFFFFF;\n",
              "      --disabled-bg-color: #3B4455;\n",
              "      --disabled-fill-color: #666;\n",
              "  }\n",
              "\n",
              "  .colab-df-quickchart {\n",
              "    background-color: var(--bg-color);\n",
              "    border: none;\n",
              "    border-radius: 50%;\n",
              "    cursor: pointer;\n",
              "    display: none;\n",
              "    fill: var(--fill-color);\n",
              "    height: 32px;\n",
              "    padding: 0;\n",
              "    width: 32px;\n",
              "  }\n",
              "\n",
              "  .colab-df-quickchart:hover {\n",
              "    background-color: var(--hover-bg-color);\n",
              "    box-shadow: 0 1px 2px rgba(60, 64, 67, 0.3), 0 1px 3px 1px rgba(60, 64, 67, 0.15);\n",
              "    fill: var(--button-hover-fill-color);\n",
              "  }\n",
              "\n",
              "  .colab-df-quickchart-complete:disabled,\n",
              "  .colab-df-quickchart-complete:disabled:hover {\n",
              "    background-color: var(--disabled-bg-color);\n",
              "    fill: var(--disabled-fill-color);\n",
              "    box-shadow: none;\n",
              "  }\n",
              "\n",
              "  .colab-df-spinner {\n",
              "    border: 2px solid var(--fill-color);\n",
              "    border-color: transparent;\n",
              "    border-bottom-color: var(--fill-color);\n",
              "    animation:\n",
              "      spin 1s steps(1) infinite;\n",
              "  }\n",
              "\n",
              "  @keyframes spin {\n",
              "    0% {\n",
              "      border-color: transparent;\n",
              "      border-bottom-color: var(--fill-color);\n",
              "      border-left-color: var(--fill-color);\n",
              "    }\n",
              "    20% {\n",
              "      border-color: transparent;\n",
              "      border-left-color: var(--fill-color);\n",
              "      border-top-color: var(--fill-color);\n",
              "    }\n",
              "    30% {\n",
              "      border-color: transparent;\n",
              "      border-left-color: var(--fill-color);\n",
              "      border-top-color: var(--fill-color);\n",
              "      border-right-color: var(--fill-color);\n",
              "    }\n",
              "    40% {\n",
              "      border-color: transparent;\n",
              "      border-right-color: var(--fill-color);\n",
              "      border-top-color: var(--fill-color);\n",
              "    }\n",
              "    60% {\n",
              "      border-color: transparent;\n",
              "      border-right-color: var(--fill-color);\n",
              "    }\n",
              "    80% {\n",
              "      border-color: transparent;\n",
              "      border-right-color: var(--fill-color);\n",
              "      border-bottom-color: var(--fill-color);\n",
              "    }\n",
              "    90% {\n",
              "      border-color: transparent;\n",
              "      border-bottom-color: var(--fill-color);\n",
              "    }\n",
              "  }\n",
              "</style>\n",
              "\n",
              "  <script>\n",
              "    async function quickchart(key) {\n",
              "      const quickchartButtonEl =\n",
              "        document.querySelector('#' + key + ' button');\n",
              "      quickchartButtonEl.disabled = true;  // To prevent multiple clicks.\n",
              "      quickchartButtonEl.classList.add('colab-df-spinner');\n",
              "      try {\n",
              "        const charts = await google.colab.kernel.invokeFunction(\n",
              "            'suggestCharts', [key], {});\n",
              "      } catch (error) {\n",
              "        console.error('Error during call to suggestCharts:', error);\n",
              "      }\n",
              "      quickchartButtonEl.classList.remove('colab-df-spinner');\n",
              "      quickchartButtonEl.classList.add('colab-df-quickchart-complete');\n",
              "    }\n",
              "    (() => {\n",
              "      let quickchartButtonEl =\n",
              "        document.querySelector('#df-64859a87-f163-4a3c-80e3-3ef9d3e09a68 button');\n",
              "      quickchartButtonEl.style.display =\n",
              "        google.colab.kernel.accessAllowed ? 'block' : 'none';\n",
              "    })();\n",
              "  </script>\n",
              "</div>\n",
              "\n",
              "    </div>\n",
              "  </div>\n"
            ],
            "application/vnd.google.colaboratory.intrinsic+json": {
              "type": "dataframe",
              "variable_name": "df"
            }
          },
          "metadata": {},
          "execution_count": 3
        }
      ],
      "source": [
        "df.head(10)"
      ]
    },
    {
      "cell_type": "code",
      "source": [
        "df.shape"
      ],
      "metadata": {
        "colab": {
          "base_uri": "https://localhost:8080/"
        },
        "id": "cPTUHuxmsdUn",
        "outputId": "7c170f3e-3bc4-498c-d515-2738599b6192"
      },
      "execution_count": null,
      "outputs": [
        {
          "output_type": "execute_result",
          "data": {
            "text/plain": [
              "(12684, 26)"
            ]
          },
          "metadata": {},
          "execution_count": 4
        }
      ]
    },
    {
      "cell_type": "code",
      "source": [
        "df.columns"
      ],
      "metadata": {
        "colab": {
          "base_uri": "https://localhost:8080/"
        },
        "id": "EJR4oFJ1tKz1",
        "outputId": "239660a7-abdb-4fc4-cac0-823d95b46467"
      },
      "execution_count": null,
      "outputs": [
        {
          "output_type": "execute_result",
          "data": {
            "text/plain": [
              "Index(['destination', 'passanger', 'weather', 'temperature', 'time', 'coupon',\n",
              "       'expiration', 'gender', 'age', 'maritalStatus', 'has_children',\n",
              "       'education', 'occupation', 'income', 'car', 'Bar', 'CoffeeHouse',\n",
              "       'CarryAway', 'RestaurantLessThan20', 'Restaurant20To50',\n",
              "       'toCoupon_GEQ5min', 'toCoupon_GEQ15min', 'toCoupon_GEQ25min',\n",
              "       'direction_same', 'direction_opp', 'Y'],\n",
              "      dtype='object')"
            ]
          },
          "metadata": {},
          "execution_count": 5
        }
      ]
    },
    {
      "cell_type": "code",
      "source": [
        "df.info()"
      ],
      "metadata": {
        "colab": {
          "base_uri": "https://localhost:8080/"
        },
        "id": "iHZKSxLtVUHZ",
        "outputId": "fa0ea104-27cc-4104-e8a0-e00e53584714"
      },
      "execution_count": null,
      "outputs": [
        {
          "output_type": "stream",
          "name": "stdout",
          "text": [
            "<class 'pandas.core.frame.DataFrame'>\n",
            "RangeIndex: 12684 entries, 0 to 12683\n",
            "Data columns (total 26 columns):\n",
            " #   Column                Non-Null Count  Dtype \n",
            "---  ------                --------------  ----- \n",
            " 0   destination           12684 non-null  object\n",
            " 1   passanger             12684 non-null  object\n",
            " 2   weather               12684 non-null  object\n",
            " 3   temperature           12684 non-null  int64 \n",
            " 4   time                  12684 non-null  object\n",
            " 5   coupon                12684 non-null  object\n",
            " 6   expiration            12684 non-null  object\n",
            " 7   gender                12684 non-null  object\n",
            " 8   age                   12684 non-null  object\n",
            " 9   maritalStatus         12684 non-null  object\n",
            " 10  has_children          12684 non-null  int64 \n",
            " 11  education             12684 non-null  object\n",
            " 12  occupation            12684 non-null  object\n",
            " 13  income                12684 non-null  object\n",
            " 14  car                   108 non-null    object\n",
            " 15  Bar                   12577 non-null  object\n",
            " 16  CoffeeHouse           12467 non-null  object\n",
            " 17  CarryAway             12533 non-null  object\n",
            " 18  RestaurantLessThan20  12554 non-null  object\n",
            " 19  Restaurant20To50      12495 non-null  object\n",
            " 20  toCoupon_GEQ5min      12684 non-null  int64 \n",
            " 21  toCoupon_GEQ15min     12684 non-null  int64 \n",
            " 22  toCoupon_GEQ25min     12684 non-null  int64 \n",
            " 23  direction_same        12684 non-null  int64 \n",
            " 24  direction_opp         12684 non-null  int64 \n",
            " 25  Y                     12684 non-null  int64 \n",
            "dtypes: int64(8), object(18)\n",
            "memory usage: 2.5+ MB\n"
          ]
        }
      ]
    },
    {
      "cell_type": "markdown",
      "metadata": {
        "id": "mqD4rJhY11ob"
      },
      "source": [
        "2. Investigate the dataset for missing or problematic data."
      ]
    },
    {
      "cell_type": "code",
      "execution_count": null,
      "metadata": {
        "id": "iogKbl0H11ob",
        "colab": {
          "base_uri": "https://localhost:8080/"
        },
        "outputId": "eb08df51-d33f-4229-b868-0bfc723406d5"
      },
      "outputs": [
        {
          "output_type": "execute_result",
          "data": {
            "text/plain": [
              "destination                 0\n",
              "passanger                   0\n",
              "weather                     0\n",
              "temperature                 0\n",
              "time                        0\n",
              "coupon                      0\n",
              "expiration                  0\n",
              "gender                      0\n",
              "age                         0\n",
              "maritalStatus               0\n",
              "has_children                0\n",
              "education                   0\n",
              "occupation                  0\n",
              "income                      0\n",
              "car                     12576\n",
              "Bar                       107\n",
              "CoffeeHouse               217\n",
              "CarryAway                 151\n",
              "RestaurantLessThan20      130\n",
              "Restaurant20To50          189\n",
              "toCoupon_GEQ5min            0\n",
              "toCoupon_GEQ15min           0\n",
              "toCoupon_GEQ25min           0\n",
              "direction_same              0\n",
              "direction_opp               0\n",
              "Y                           0\n",
              "dtype: int64"
            ]
          },
          "metadata": {},
          "execution_count": 7
        }
      ],
      "source": [
        "df.isnull().sum()"
      ]
    },
    {
      "cell_type": "code",
      "source": [],
      "metadata": {
        "id": "6K94mnqgHHS9"
      },
      "execution_count": null,
      "outputs": []
    },
    {
      "cell_type": "markdown",
      "metadata": {
        "id": "Tii35v9O11ob"
      },
      "source": [
        "3. Decide what to do about your missing data -- drop, replace, other..."
      ]
    },
    {
      "cell_type": "code",
      "source": [
        "df[df['car'].notnull()]['car'].value_counts()"
      ],
      "metadata": {
        "colab": {
          "base_uri": "https://localhost:8080/"
        },
        "id": "AFTsM7gCsp0w",
        "outputId": "35e08cc0-8474-43ad-e8eb-c00956087617"
      },
      "execution_count": null,
      "outputs": [
        {
          "output_type": "execute_result",
          "data": {
            "text/plain": [
              "Scooter and motorcycle                      22\n",
              "Mazda5                                      22\n",
              "do not drive                                22\n",
              "crossover                                   21\n",
              "Car that is too old to install Onstar :D    21\n",
              "Name: car, dtype: int64"
            ]
          },
          "metadata": {},
          "execution_count": 8
        }
      ]
    },
    {
      "cell_type": "code",
      "source": [
        "#too many missing values in car column to just drop\n",
        "#fill with unknown\n",
        "df['car'] = df['car'].fillna('Unknown')"
      ],
      "metadata": {
        "id": "0IZMHLaNGRi4"
      },
      "execution_count": null,
      "outputs": []
    },
    {
      "cell_type": "code",
      "source": [
        "df[df['Bar'].notnull()]['Bar'].value_counts()"
      ],
      "metadata": {
        "colab": {
          "base_uri": "https://localhost:8080/"
        },
        "id": "qsPAgPrHtAcX",
        "outputId": "6edd0fcf-b9b5-42eb-864e-3d49dca08ed3"
      },
      "execution_count": null,
      "outputs": [
        {
          "output_type": "execute_result",
          "data": {
            "text/plain": [
              "never    5197\n",
              "less1    3482\n",
              "1~3      2473\n",
              "4~8      1076\n",
              "gt8       349\n",
              "Name: Bar, dtype: int64"
            ]
          },
          "metadata": {},
          "execution_count": 11
        }
      ]
    },
    {
      "cell_type": "code",
      "source": [
        "df[df['Bar'].isnull()]['Y'].value_counts()"
      ],
      "metadata": {
        "colab": {
          "base_uri": "https://localhost:8080/"
        },
        "id": "OEbqw3QrNGjV",
        "outputId": "4a98fc43-2caa-44c5-dcdf-340e57abf3ab"
      },
      "execution_count": null,
      "outputs": [
        {
          "output_type": "execute_result",
          "data": {
            "text/plain": [
              "1    55\n",
              "0    52\n",
              "Name: Y, dtype: int64"
            ]
          },
          "metadata": {},
          "execution_count": 12
        }
      ]
    },
    {
      "cell_type": "code",
      "source": [
        "df[df['CoffeeHouse'].notnull()]['CoffeeHouse'].value_counts()"
      ],
      "metadata": {
        "colab": {
          "base_uri": "https://localhost:8080/"
        },
        "id": "mIF3PywnLhq8",
        "outputId": "4630e4b9-da8e-4c6b-d006-d37c76100172"
      },
      "execution_count": null,
      "outputs": [
        {
          "output_type": "execute_result",
          "data": {
            "text/plain": [
              "less1    3385\n",
              "1~3      3225\n",
              "never    2962\n",
              "4~8      1784\n",
              "gt8      1111\n",
              "Name: CoffeeHouse, dtype: int64"
            ]
          },
          "metadata": {},
          "execution_count": 13
        }
      ]
    },
    {
      "cell_type": "code",
      "source": [
        "df[df['CoffeeHouse'].isnull()]['Y'].value_counts()"
      ],
      "metadata": {
        "colab": {
          "base_uri": "https://localhost:8080/"
        },
        "id": "W3GBdz2QNQBC",
        "outputId": "2545dc7c-57ef-4d79-d110-eac71d8da42c"
      },
      "execution_count": null,
      "outputs": [
        {
          "output_type": "execute_result",
          "data": {
            "text/plain": [
              "1    110\n",
              "0    107\n",
              "Name: Y, dtype: int64"
            ]
          },
          "metadata": {},
          "execution_count": 14
        }
      ]
    },
    {
      "cell_type": "code",
      "source": [
        "df[df['CarryAway'].notnull()]['CarryAway'].value_counts()"
      ],
      "metadata": {
        "colab": {
          "base_uri": "https://localhost:8080/"
        },
        "id": "IG3SgihqutGE",
        "outputId": "e905c53d-71bb-4e7b-ce27-2326b5512cd5"
      },
      "execution_count": null,
      "outputs": [
        {
          "output_type": "execute_result",
          "data": {
            "text/plain": [
              "1~3      4672\n",
              "4~8      4258\n",
              "less1    1856\n",
              "gt8      1594\n",
              "never     153\n",
              "Name: CarryAway, dtype: int64"
            ]
          },
          "metadata": {},
          "execution_count": 15
        }
      ]
    },
    {
      "cell_type": "code",
      "source": [
        "df[df['CarryAway'].isnull()]['Y'].value_counts()"
      ],
      "metadata": {
        "colab": {
          "base_uri": "https://localhost:8080/"
        },
        "id": "PbKE1finNWkK",
        "outputId": "e6f4d096-db7a-48c0-adc6-258bbc727889"
      },
      "execution_count": null,
      "outputs": [
        {
          "output_type": "execute_result",
          "data": {
            "text/plain": [
              "1    101\n",
              "0     50\n",
              "Name: Y, dtype: int64"
            ]
          },
          "metadata": {},
          "execution_count": 16
        }
      ]
    },
    {
      "cell_type": "code",
      "source": [
        "df[df['RestaurantLessThan20'].notnull()]['RestaurantLessThan20'].value_counts()"
      ],
      "metadata": {
        "colab": {
          "base_uri": "https://localhost:8080/"
        },
        "id": "Af9eUkQ8uwoF",
        "outputId": "f8a1c4e7-0f6c-48c3-8102-ed6ddf7d6e43"
      },
      "execution_count": null,
      "outputs": [
        {
          "output_type": "execute_result",
          "data": {
            "text/plain": [
              "1~3      5376\n",
              "4~8      3580\n",
              "less1    2093\n",
              "gt8      1285\n",
              "never     220\n",
              "Name: RestaurantLessThan20, dtype: int64"
            ]
          },
          "metadata": {},
          "execution_count": 17
        }
      ]
    },
    {
      "cell_type": "code",
      "source": [
        "df[df['RestaurantLessThan20'].isnull()]['Y'].value_counts()"
      ],
      "metadata": {
        "colab": {
          "base_uri": "https://localhost:8080/"
        },
        "id": "XtJBXBrINcfP",
        "outputId": "8be9e246-f2b4-49f4-acc4-9f1913702394"
      },
      "execution_count": null,
      "outputs": [
        {
          "output_type": "execute_result",
          "data": {
            "text/plain": [
              "1    89\n",
              "0    41\n",
              "Name: Y, dtype: int64"
            ]
          },
          "metadata": {},
          "execution_count": 18
        }
      ]
    },
    {
      "cell_type": "code",
      "source": [
        "df[df['Restaurant20To50'].notnull()]['Restaurant20To50'].value_counts()"
      ],
      "metadata": {
        "colab": {
          "base_uri": "https://localhost:8080/"
        },
        "id": "pGbdtQQIL9TD",
        "outputId": "3d781610-4266-4aa8-a0d1-13e41b85c211"
      },
      "execution_count": null,
      "outputs": [
        {
          "output_type": "execute_result",
          "data": {
            "text/plain": [
              "less1    6077\n",
              "1~3      3290\n",
              "never    2136\n",
              "4~8       728\n",
              "gt8       264\n",
              "Name: Restaurant20To50, dtype: int64"
            ]
          },
          "metadata": {},
          "execution_count": 19
        }
      ]
    },
    {
      "cell_type": "code",
      "source": [
        "df[df['Restaurant20To50'].isnull()]['Y'].value_counts()"
      ],
      "metadata": {
        "colab": {
          "base_uri": "https://localhost:8080/"
        },
        "id": "dpZWwbG1NlZS",
        "outputId": "9210e0e0-5214-48f1-cb81-748c267331d6"
      },
      "execution_count": null,
      "outputs": [
        {
          "output_type": "execute_result",
          "data": {
            "text/plain": [
              "1    105\n",
              "0     84\n",
              "Name: Y, dtype: int64"
            ]
          },
          "metadata": {},
          "execution_count": 20
        }
      ]
    },
    {
      "cell_type": "code",
      "source": [
        "#data seems relevant to keep\n",
        "#fill all na values with uknown\n",
        "df = df.fillna('Unknown')"
      ],
      "metadata": {
        "id": "6D78pdrrNqDs"
      },
      "execution_count": 35,
      "outputs": []
    },
    {
      "cell_type": "code",
      "source": [],
      "metadata": {
        "colab": {
          "base_uri": "https://localhost:8080/"
        },
        "id": "XYQKLJ0AN3a5",
        "outputId": "72124208-0ed2-4c6d-9930-c1c3c1b31257"
      },
      "execution_count": null,
      "outputs": [
        {
          "output_type": "execute_result",
          "data": {
            "text/plain": [
              "(12684, 26)"
            ]
          },
          "metadata": {},
          "execution_count": 34
        }
      ]
    },
    {
      "cell_type": "markdown",
      "metadata": {
        "id": "1Wy0jPQI11ob"
      },
      "source": [
        "4. What proportion of the total observations chose to accept the coupon?\n",
        "\n"
      ]
    },
    {
      "cell_type": "code",
      "execution_count": null,
      "metadata": {
        "id": "HX13OEMD11oc",
        "colab": {
          "base_uri": "https://localhost:8080/"
        },
        "outputId": "67ae2d32-0203-4220-d197-1f728900086b"
      },
      "outputs": [
        {
          "output_type": "stream",
          "name": "stdout",
          "text": [
            "Proportion of accepted coupons: 56.84%\n"
          ]
        }
      ],
      "source": [
        "accept_percentage = (df[df['Y'] == 1][['Y']].sum() / df['Y'].shape).values[0] * 100\n",
        "print('Proportion of accepted coupons: ' + str(round(accept_percentage, 2)) + '%')"
      ]
    },
    {
      "cell_type": "markdown",
      "metadata": {
        "id": "7x20T3hR11oc"
      },
      "source": [
        "5. Use a bar plot to visualize the `coupon` column."
      ]
    },
    {
      "cell_type": "code",
      "execution_count": null,
      "metadata": {
        "id": "tDb3jema11oc",
        "colab": {
          "base_uri": "https://localhost:8080/",
          "height": 542
        },
        "outputId": "031eed64-7f33-47ac-a834-a65697393a69"
      },
      "outputs": [
        {
          "output_type": "display_data",
          "data": {
            "text/html": [
              "<html>\n",
              "<head><meta charset=\"utf-8\" /></head>\n",
              "<body>\n",
              "    <div>            <script src=\"https://cdnjs.cloudflare.com/ajax/libs/mathjax/2.7.5/MathJax.js?config=TeX-AMS-MML_SVG\"></script><script type=\"text/javascript\">if (window.MathJax && window.MathJax.Hub && window.MathJax.Hub.Config) {window.MathJax.Hub.Config({SVG: {font: \"STIX-Web\"}});}</script>                <script type=\"text/javascript\">window.PlotlyConfig = {MathJaxConfig: 'local'};</script>\n",
              "        <script charset=\"utf-8\" src=\"https://cdn.plot.ly/plotly-2.24.1.min.js\"></script>                <div id=\"ef0f552b-cfb9-4c49-a912-0d9690d4792e\" class=\"plotly-graph-div\" style=\"height:525px; width:100%;\"></div>            <script type=\"text/javascript\">                                    window.PLOTLYENV=window.PLOTLYENV || {};                                    if (document.getElementById(\"ef0f552b-cfb9-4c49-a912-0d9690d4792e\")) {                    Plotly.newPlot(                        \"ef0f552b-cfb9-4c49-a912-0d9690d4792e\",                        [{\"alignmentgroup\":\"True\",\"bingroup\":\"x\",\"hovertemplate\":\"Coupon=%{x}\\u003cbr\\u003ecount=%{y}\\u003cextra\\u003e\\u003c\\u002fextra\\u003e\",\"legendgroup\":\"\",\"marker\":{\"color\":\"#636efa\",\"pattern\":{\"shape\":\"\"}},\"name\":\"\",\"offsetgroup\":\"\",\"orientation\":\"v\",\"showlegend\":false,\"x\":[\"Restaurant(\\u003c20)\",\"Coffee House\",\"Carry out & Take away\",\"Coffee House\",\"Coffee House\",\"Restaurant(\\u003c20)\",\"Carry out & Take away\",\"Restaurant(\\u003c20)\",\"Carry out & Take away\",\"Bar\",\"Restaurant(\\u003c20)\",\"Restaurant(\\u003c20)\",\"Coffee House\",\"Bar\",\"Restaurant(20-50)\",\"Coffee House\",\"Coffee House\",\"Bar\",\"Restaurant(20-50)\",\"Carry out & Take away\",\"Restaurant(\\u003c20)\",\"Coffee House\",\"Restaurant(\\u003c20)\",\"Coffee House\",\"Bar\",\"Carry out & Take away\",\"Coffee House\",\"Coffee House\",\"Coffee House\",\"Restaurant(\\u003c20)\",\"Coffee House\",\"Restaurant(\\u003c20)\",\"Coffee House\",\"Carry out & Take away\",\"Coffee House\",\"Bar\",\"Restaurant(20-50)\",\"Coffee House\",\"Coffee House\",\"Bar\",\"Restaurant(20-50)\",\"Carry out & Take away\",\"Restaurant(\\u003c20)\",\"Coffee House\",\"Restaurant(\\u003c20)\",\"Coffee House\",\"Bar\",\"Carry out & Take away\",\"Coffee House\",\"Coffee House\",\"Coffee House\",\"Restaurant(\\u003c20)\",\"Coffee House\",\"Restaurant(\\u003c20)\",\"Coffee House\",\"Carry out & Take away\",\"Coffee House\",\"Bar\",\"Restaurant(20-50)\",\"Coffee House\",\"Coffee House\",\"Bar\",\"Restaurant(20-50)\",\"Carry out & Take away\",\"Restaurant(\\u003c20)\",\"Coffee House\",\"Restaurant(\\u003c20)\",\"Coffee House\",\"Carry out & Take away\",\"Coffee House\",\"Coffee House\",\"Restaurant(\\u003c20)\",\"Carry out & Take away\",\"Restaurant(\\u003c20)\",\"Carry out & Take away\",\"Bar\",\"Restaurant(\\u003c20)\",\"Restaurant(\\u003c20)\",\"Coffee House\",\"Bar\",\"Restaurant(20-50)\",\"Coffee House\",\"Coffee House\",\"Bar\",\"Restaurant(20-50)\",\"Carry out & Take away\",\"Restaurant(\\u003c20)\",\"Coffee House\",\"Restaurant(\\u003c20)\",\"Coffee House\",\"Bar\",\"Carry out & Take away\",\"Coffee House\",\"Coffee House\",\"Coffee House\",\"Restaurant(\\u003c20)\",\"Coffee House\",\"Restaurant(\\u003c20)\",\"Coffee House\",\"Carry out & Take away\",\"Coffee House\",\"Bar\",\"Restaurant(20-50)\",\"Coffee House\",\"Coffee House\",\"Bar\",\"Restaurant(20-50)\",\"Carry out & Take away\",\"Restaurant(\\u003c20)\",\"Coffee House\",\"Restaurant(\\u003c20)\",\"Coffee House\",\"Bar\",\"Carry out & Take away\",\"Coffee House\",\"Coffee House\",\"Coffee House\",\"Restaurant(\\u003c20)\",\"Coffee House\",\"Restaurant(\\u003c20)\",\"Coffee House\",\"Carry out & Take away\",\"Coffee House\",\"Bar\",\"Restaurant(20-50)\",\"Coffee House\",\"Coffee House\",\"Bar\",\"Restaurant(20-50)\",\"Carry out & Take away\",\"Restaurant(\\u003c20)\",\"Coffee House\",\"Restaurant(\\u003c20)\",\"Coffee House\",\"Carry out & Take away\",\"Coffee House\",\"Coffee House\",\"Restaurant(\\u003c20)\",\"Carry out & Take away\",\"Restaurant(\\u003c20)\",\"Carry out & Take away\",\"Bar\",\"Restaurant(\\u003c20)\",\"Restaurant(\\u003c20)\",\"Coffee House\",\"Bar\",\"Restaurant(20-50)\",\"Coffee House\",\"Coffee House\",\"Bar\",\"Restaurant(20-50)\",\"Carry out & Take away\",\"Restaurant(\\u003c20)\",\"Coffee House\",\"Restaurant(\\u003c20)\",\"Coffee House\",\"Bar\",\"Carry out & Take away\",\"Coffee House\",\"Coffee House\",\"Coffee House\",\"Restaurant(\\u003c20)\",\"Coffee House\",\"Restaurant(\\u003c20)\",\"Coffee House\",\"Carry out & Take away\",\"Coffee House\",\"Bar\",\"Restaurant(20-50)\",\"Coffee House\",\"Coffee House\",\"Bar\",\"Restaurant(20-50)\",\"Carry out & Take away\",\"Restaurant(\\u003c20)\",\"Coffee House\",\"Restaurant(\\u003c20)\",\"Coffee House\",\"Bar\",\"Carry out & Take away\",\"Coffee House\",\"Coffee House\",\"Coffee House\",\"Restaurant(\\u003c20)\",\"Coffee House\",\"Restaurant(\\u003c20)\",\"Coffee House\",\"Carry out & Take away\",\"Coffee House\",\"Bar\",\"Restaurant(20-50)\",\"Carry out & Take away\",\"Restaurant(\\u003c20)\",\"Restaurant(\\u003c20)\",\"Coffee House\",\"Bar\",\"Carry out & Take away\",\"Coffee House\",\"Coffee House\",\"Coffee House\",\"Restaurant(\\u003c20)\",\"Coffee House\",\"Restaurant(\\u003c20)\",\"Coffee House\",\"Carry out & Take away\",\"Coffee House\",\"Bar\",\"Restaurant(20-50)\",\"Coffee House\",\"Coffee House\",\"Bar\",\"Restaurant(20-50)\",\"Carry out & Take away\",\"Restaurant(\\u003c20)\",\"Coffee House\",\"Restaurant(\\u003c20)\",\"Coffee House\",\"Carry out & Take away\",\"Coffee House\",\"Coffee House\",\"Restaurant(\\u003c20)\",\"Carry out & Take away\",\"Coffee House\",\"Restaurant(20-50)\",\"Bar\",\"Coffee House\",\"Restaurant(\\u003c20)\",\"Bar\",\"Bar\",\"Restaurant(20-50)\",\"Coffee House\",\"Coffee House\",\"Bar\",\"Restaurant(20-50)\",\"Carry out & Take away\",\"Restaurant(\\u003c20)\",\"Coffee House\",\"Restaurant(\\u003c20)\",\"Coffee House\",\"Bar\",\"Carry out & Take away\",\"Coffee House\",\"Coffee House\",\"Coffee House\",\"Restaurant(\\u003c20)\",\"Coffee House\",\"Restaurant(\\u003c20)\",\"Coffee House\",\"Carry out & Take away\",\"Coffee House\",\"Bar\",\"Restaurant(20-50)\",\"Coffee House\",\"Coffee House\",\"Bar\",\"Restaurant(20-50)\",\"Carry out & Take away\",\"Restaurant(\\u003c20)\",\"Coffee House\",\"Restaurant(\\u003c20)\",\"Coffee House\",\"Carry out & Take away\",\"Coffee House\",\"Coffee House\",\"Restaurant(\\u003c20)\",\"Carry out & Take away\",\"Restaurant(\\u003c20)\",\"Carry out & Take away\",\"Bar\",\"Restaurant(\\u003c20)\",\"Restaurant(\\u003c20)\",\"Coffee House\",\"Bar\",\"Restaurant(20-50)\",\"Coffee House\",\"Coffee House\",\"Bar\",\"Restaurant(20-50)\",\"Carry out & Take away\",\"Restaurant(\\u003c20)\",\"Coffee House\",\"Restaurant(\\u003c20)\",\"Coffee House\",\"Carry out & Take away\",\"Coffee House\",\"Coffee House\",\"Restaurant(\\u003c20)\",\"Carry out & Take away\",\"Restaurant(\\u003c20)\",\"Carry out & Take away\",\"Bar\",\"Restaurant(\\u003c20)\",\"Coffee House\",\"Bar\",\"Coffee House\",\"Coffee House\",\"Bar\",\"Restaurant(20-50)\",\"Carry out & Take away\",\"Restaurant(\\u003c20)\",\"Coffee House\",\"Restaurant(\\u003c20)\",\"Coffee House\",\"Carry out & Take away\",\"Coffee House\",\"Coffee House\",\"Restaurant(\\u003c20)\",\"Carry out & Take away\",\"Restaurant(\\u003c20)\",\"Carry out & Take away\",\"Bar\",\"Restaurant(\\u003c20)\",\"Restaurant(\\u003c20)\",\"Coffee House\",\"Bar\",\"Restaurant(20-50)\",\"Coffee House\",\"Coffee House\",\"Bar\",\"Restaurant(20-50)\",\"Carry out & Take away\",\"Restaurant(\\u003c20)\",\"Coffee House\",\"Restaurant(\\u003c20)\",\"Coffee House\",\"Carry out & Take away\",\"Coffee House\",\"Coffee House\",\"Restaurant(\\u003c20)\",\"Carry out & Take away\",\"Coffee House\",\"Restaurant(20-50)\",\"Bar\",\"Coffee House\",\"Bar\",\"Restaurant(20-50)\",\"Coffee House\",\"Coffee House\",\"Bar\",\"Restaurant(20-50)\",\"Carry out & Take away\",\"Restaurant(\\u003c20)\",\"Coffee House\",\"Restaurant(\\u003c20)\",\"Coffee House\",\"Carry out & Take away\",\"Coffee House\",\"Coffee House\",\"Restaurant(\\u003c20)\",\"Carry out & Take away\",\"Restaurant(\\u003c20)\",\"Carry out & Take away\",\"Bar\",\"Restaurant(\\u003c20)\",\"Restaurant(\\u003c20)\",\"Coffee House\",\"Bar\",\"Restaurant(20-50)\",\"Coffee House\",\"Coffee House\",\"Bar\",\"Restaurant(20-50)\",\"Carry out & Take away\",\"Restaurant(\\u003c20)\",\"Coffee House\",\"Restaurant(\\u003c20)\",\"Coffee House\",\"Carry out & Take away\",\"Coffee House\",\"Coffee House\",\"Restaurant(\\u003c20)\",\"Carry out & Take away\",\"Restaurant(\\u003c20)\",\"Carry out & Take away\",\"Bar\",\"Restaurant(\\u003c20)\",\"Restaurant(\\u003c20)\",\"Coffee House\",\"Bar\",\"Restaurant(20-50)\",\"Coffee House\",\"Coffee House\",\"Bar\",\"Restaurant(20-50)\",\"Carry out & Take away\",\"Restaurant(\\u003c20)\",\"Coffee House\",\"Restaurant(\\u003c20)\",\"Coffee House\",\"Bar\",\"Carry out & Take away\",\"Coffee House\",\"Coffee House\",\"Coffee House\",\"Restaurant(\\u003c20)\",\"Coffee House\",\"Restaurant(\\u003c20)\",\"Coffee House\",\"Carry out & Take away\",\"Coffee House\",\"Bar\",\"Restaurant(20-50)\",\"Coffee House\",\"Coffee House\",\"Bar\",\"Restaurant(20-50)\",\"Carry out & Take away\",\"Restaurant(\\u003c20)\",\"Coffee House\",\"Restaurant(\\u003c20)\",\"Coffee House\",\"Carry out & Take away\",\"Coffee House\",\"Coffee House\",\"Restaurant(\\u003c20)\",\"Carry out & Take away\",\"Coffee House\",\"Restaurant(20-50)\",\"Bar\",\"Coffee House\",\"Restaurant(\\u003c20)\",\"Bar\",\"Bar\",\"Restaurant(20-50)\",\"Coffee House\",\"Coffee House\",\"Bar\",\"Restaurant(20-50)\",\"Carry out & Take away\",\"Coffee House\",\"Restaurant(\\u003c20)\",\"Coffee House\",\"Bar\",\"Carry out & Take away\",\"Coffee House\",\"Coffee House\",\"Coffee House\",\"Restaurant(\\u003c20)\",\"Coffee House\",\"Restaurant(\\u003c20)\",\"Coffee House\",\"Carry out & Take away\",\"Coffee House\",\"Bar\",\"Restaurant(20-50)\",\"Coffee House\",\"Coffee House\",\"Bar\",\"Restaurant(20-50)\",\"Carry out & Take away\",\"Restaurant(\\u003c20)\",\"Coffee House\",\"Restaurant(\\u003c20)\",\"Coffee House\",\"Bar\",\"Carry out & Take away\",\"Coffee House\",\"Coffee House\",\"Coffee House\",\"Restaurant(\\u003c20)\",\"Coffee House\",\"Restaurant(\\u003c20)\",\"Coffee House\",\"Carry out & Take away\",\"Coffee House\",\"Bar\",\"Restaurant(20-50)\",\"Coffee House\",\"Coffee House\",\"Restaurant(20-50)\",\"Carry out & Take away\",\"Restaurant(\\u003c20)\",\"Coffee House\",\"Restaurant(\\u003c20)\",\"Coffee House\",\"Bar\",\"Carry out & Take away\",\"Coffee House\",\"Coffee House\",\"Coffee House\",\"Restaurant(\\u003c20)\",\"Coffee House\",\"Restaurant(\\u003c20)\",\"Coffee House\",\"Carry out & Take away\",\"Coffee House\",\"Bar\",\"Restaurant(20-50)\",\"Coffee House\",\"Coffee House\",\"Bar\",\"Restaurant(20-50)\",\"Carry out & Take away\",\"Restaurant(\\u003c20)\",\"Coffee House\",\"Restaurant(\\u003c20)\",\"Coffee House\",\"Carry out & Take away\",\"Coffee House\",\"Coffee House\",\"Restaurant(\\u003c20)\",\"Carry out & Take away\",\"Coffee House\",\"Restaurant(20-50)\",\"Bar\",\"Coffee House\",\"Restaurant(\\u003c20)\",\"Bar\",\"Bar\",\"Restaurant(20-50)\",\"Coffee House\",\"Coffee House\",\"Bar\",\"Restaurant(20-50)\",\"Carry out & Take away\",\"Restaurant(\\u003c20)\",\"Coffee House\",\"Bar\",\"Coffee House\",\"Restaurant(\\u003c20)\",\"Coffee House\",\"Coffee House\",\"Coffee House\",\"Restaurant(\\u003c20)\",\"Coffee House\",\"Carry out & Take away\",\"Coffee House\",\"Coffee House\",\"Restaurant(\\u003c20)\",\"Carry out & Take away\",\"Restaurant(\\u003c20)\",\"Carry out & Take away\",\"Bar\",\"Restaurant(\\u003c20)\",\"Restaurant(\\u003c20)\",\"Coffee House\",\"Bar\",\"Restaurant(20-50)\",\"Coffee House\",\"Coffee House\",\"Bar\",\"Restaurant(20-50)\",\"Carry out & Take away\",\"Restaurant(\\u003c20)\",\"Coffee House\",\"Restaurant(\\u003c20)\",\"Coffee House\",\"Bar\",\"Carry out & Take away\",\"Coffee House\",\"Coffee House\",\"Coffee House\",\"Restaurant(\\u003c20)\",\"Coffee House\",\"Restaurant(\\u003c20)\",\"Coffee House\",\"Carry out & Take away\",\"Coffee House\",\"Bar\",\"Restaurant(20-50)\",\"Coffee House\",\"Coffee House\",\"Bar\",\"Restaurant(20-50)\",\"Carry out & Take away\",\"Restaurant(\\u003c20)\",\"Coffee House\",\"Restaurant(\\u003c20)\",\"Coffee House\",\"Bar\",\"Carry out & Take away\",\"Coffee House\",\"Coffee House\",\"Coffee House\",\"Restaurant(\\u003c20)\",\"Coffee House\",\"Restaurant(\\u003c20)\",\"Coffee House\",\"Carry out & Take away\",\"Coffee House\",\"Bar\",\"Restaurant(20-50)\",\"Coffee House\",\"Coffee House\",\"Bar\",\"Restaurant(20-50)\",\"Carry out & Take away\",\"Restaurant(\\u003c20)\",\"Coffee House\",\"Restaurant(\\u003c20)\",\"Coffee House\",\"Bar\",\"Carry out & Take away\",\"Coffee House\",\"Coffee House\",\"Coffee House\",\"Restaurant(\\u003c20)\",\"Coffee House\",\"Restaurant(\\u003c20)\",\"Coffee House\",\"Carry out & Take away\",\"Coffee House\",\"Bar\",\"Restaurant(20-50)\",\"Coffee House\",\"Coffee House\",\"Bar\",\"Restaurant(20-50)\",\"Carry out & Take away\",\"Restaurant(\\u003c20)\",\"Coffee House\",\"Restaurant(\\u003c20)\",\"Coffee House\",\"Carry out & Take away\",\"Coffee House\",\"Coffee House\",\"Restaurant(\\u003c20)\",\"Carry out & Take away\",\"Restaurant(\\u003c20)\",\"Carry out & Take away\",\"Bar\",\"Restaurant(\\u003c20)\",\"Restaurant(\\u003c20)\",\"Coffee House\",\"Bar\",\"Restaurant(20-50)\",\"Coffee House\",\"Coffee House\",\"Bar\",\"Restaurant(20-50)\",\"Carry out & Take away\",\"Restaurant(\\u003c20)\",\"Coffee House\",\"Restaurant(\\u003c20)\",\"Coffee House\",\"Bar\",\"Carry out & Take away\",\"Coffee House\",\"Coffee House\",\"Coffee House\",\"Restaurant(\\u003c20)\",\"Coffee House\",\"Restaurant(\\u003c20)\",\"Coffee House\",\"Carry out & Take away\",\"Coffee House\",\"Bar\",\"Restaurant(20-50)\",\"Coffee House\",\"Coffee House\",\"Bar\",\"Restaurant(20-50)\",\"Carry out & Take away\",\"Restaurant(\\u003c20)\",\"Coffee House\",\"Restaurant(\\u003c20)\",\"Coffee House\",\"Carry out & Take away\",\"Coffee House\",\"Coffee House\",\"Restaurant(\\u003c20)\",\"Carry out & Take away\",\"Coffee House\",\"Restaurant(20-50)\",\"Bar\",\"Coffee House\",\"Restaurant(\\u003c20)\",\"Bar\",\"Bar\",\"Restaurant(20-50)\",\"Coffee House\",\"Coffee House\",\"Bar\",\"Restaurant(20-50)\",\"Carry out & Take away\",\"Restaurant(\\u003c20)\",\"Coffee House\",\"Restaurant(\\u003c20)\",\"Coffee House\",\"Carry out & Take away\",\"Coffee House\",\"Coffee House\",\"Restaurant(\\u003c20)\",\"Carry out & Take away\",\"Restaurant(\\u003c20)\",\"Carry out & Take away\",\"Bar\",\"Restaurant(\\u003c20)\",\"Restaurant(\\u003c20)\",\"Coffee House\",\"Bar\",\"Restaurant(20-50)\",\"Coffee House\",\"Coffee House\",\"Bar\",\"Restaurant(20-50)\",\"Carry out & Take away\",\"Restaurant(\\u003c20)\",\"Coffee House\",\"Restaurant(\\u003c20)\",\"Coffee House\",\"Carry out & Take away\",\"Coffee House\",\"Coffee House\",\"Restaurant(\\u003c20)\",\"Carry out & Take away\",\"Coffee House\",\"Restaurant(20-50)\",\"Bar\",\"Coffee House\",\"Restaurant(\\u003c20)\",\"Bar\",\"Bar\",\"Restaurant(20-50)\",\"Coffee House\",\"Coffee House\",\"Bar\",\"Restaurant(20-50)\",\"Carry out & Take away\",\"Restaurant(\\u003c20)\",\"Coffee House\",\"Restaurant(\\u003c20)\",\"Coffee House\",\"Bar\",\"Carry out & Take away\",\"Coffee House\",\"Coffee House\",\"Coffee House\",\"Restaurant(\\u003c20)\",\"Coffee House\",\"Restaurant(\\u003c20)\",\"Coffee House\",\"Carry out & Take away\",\"Coffee House\",\"Bar\",\"Restaurant(20-50)\",\"Coffee House\",\"Coffee House\",\"Bar\",\"Restaurant(20-50)\",\"Carry out & Take away\",\"Restaurant(\\u003c20)\",\"Coffee House\",\"Restaurant(\\u003c20)\",\"Coffee House\",\"Carry out & Take away\",\"Coffee House\",\"Coffee House\",\"Restaurant(\\u003c20)\",\"Carry out & Take away\",\"Coffee House\",\"Restaurant(20-50)\",\"Bar\",\"Coffee House\",\"Restaurant(\\u003c20)\",\"Bar\",\"Bar\",\"Restaurant(20-50)\",\"Coffee House\",\"Coffee House\",\"Bar\",\"Restaurant(20-50)\",\"Carry out & Take away\",\"Restaurant(\\u003c20)\",\"Coffee House\",\"Restaurant(\\u003c20)\",\"Coffee House\",\"Bar\",\"Carry out & Take away\",\"Coffee House\",\"Coffee House\",\"Coffee House\",\"Restaurant(\\u003c20)\",\"Coffee House\",\"Restaurant(\\u003c20)\",\"Coffee House\",\"Carry out & Take away\",\"Coffee House\",\"Bar\",\"Restaurant(20-50)\",\"Coffee House\",\"Coffee House\",\"Bar\",\"Restaurant(20-50)\",\"Carry out & Take away\",\"Restaurant(\\u003c20)\",\"Coffee House\",\"Restaurant(\\u003c20)\",\"Coffee House\",\"Carry out & Take away\",\"Coffee House\",\"Coffee House\",\"Restaurant(\\u003c20)\",\"Carry out & Take away\",\"Restaurant(\\u003c20)\",\"Carry out & Take away\",\"Bar\",\"Restaurant(\\u003c20)\",\"Restaurant(\\u003c20)\",\"Coffee House\",\"Bar\",\"Restaurant(20-50)\",\"Coffee House\",\"Coffee House\",\"Bar\",\"Restaurant(20-50)\",\"Carry out & Take away\",\"Restaurant(\\u003c20)\",\"Coffee House\",\"Restaurant(\\u003c20)\",\"Coffee House\",\"Carry out & Take away\",\"Coffee House\",\"Coffee House\",\"Restaurant(\\u003c20)\",\"Carry out & Take away\",\"Restaurant(\\u003c20)\",\"Carry out & Take away\",\"Bar\",\"Restaurant(\\u003c20)\",\"Restaurant(\\u003c20)\",\"Coffee House\",\"Bar\",\"Restaurant(20-50)\",\"Coffee House\",\"Bar\",\"Restaurant(20-50)\",\"Carry out & Take away\",\"Restaurant(\\u003c20)\",\"Coffee House\",\"Restaurant(\\u003c20)\",\"Coffee House\",\"Carry out & Take away\",\"Coffee House\",\"Coffee House\",\"Restaurant(\\u003c20)\",\"Carry out & Take away\",\"Restaurant(\\u003c20)\",\"Carry out & Take away\",\"Bar\",\"Restaurant(\\u003c20)\",\"Restaurant(\\u003c20)\",\"Coffee House\",\"Bar\",\"Restaurant(20-50)\",\"Coffee House\",\"Coffee House\",\"Bar\",\"Restaurant(20-50)\",\"Carry out & Take away\",\"Restaurant(\\u003c20)\",\"Coffee House\",\"Coffee House\",\"Restaurant(20-50)\",\"Bar\",\"Coffee House\",\"Restaurant(\\u003c20)\",\"Bar\",\"Restaurant(\\u003c20)\",\"Coffee House\",\"Carry out & Take away\",\"Coffee House\",\"Coffee House\",\"Restaurant(\\u003c20)\",\"Carry out & Take away\",\"Coffee House\",\"Restaurant(20-50)\",\"Bar\",\"Coffee House\",\"Restaurant(\\u003c20)\",\"Bar\",\"Bar\",\"Restaurant(20-50)\",\"Coffee House\",\"Coffee House\",\"Bar\",\"Restaurant(20-50)\",\"Carry out & Take away\",\"Restaurant(\\u003c20)\",\"Coffee House\",\"Restaurant(\\u003c20)\",\"Coffee House\",\"Bar\",\"Carry out & Take away\",\"Coffee House\",\"Coffee House\",\"Coffee House\",\"Restaurant(\\u003c20)\",\"Coffee House\",\"Restaurant(\\u003c20)\",\"Coffee House\",\"Carry out & Take away\",\"Coffee House\",\"Bar\",\"Restaurant(20-50)\",\"Coffee House\",\"Coffee House\",\"Bar\",\"Restaurant(20-50)\",\"Carry out & Take away\",\"Restaurant(\\u003c20)\",\"Coffee House\",\"Restaurant(\\u003c20)\",\"Coffee House\",\"Carry out & Take away\",\"Coffee House\",\"Coffee House\",\"Restaurant(\\u003c20)\",\"Carry out & Take away\",\"Restaurant(\\u003c20)\",\"Carry out & Take away\",\"Bar\",\"Restaurant(\\u003c20)\",\"Restaurant(\\u003c20)\",\"Coffee House\",\"Bar\",\"Restaurant(20-50)\",\"Coffee House\",\"Coffee House\",\"Bar\",\"Restaurant(20-50)\",\"Carry out & Take away\",\"Restaurant(\\u003c20)\",\"Coffee House\",\"Restaurant(\\u003c20)\",\"Coffee House\",\"Bar\",\"Carry out & Take away\",\"Coffee House\",\"Coffee House\",\"Coffee House\",\"Restaurant(\\u003c20)\",\"Coffee House\",\"Restaurant(\\u003c20)\",\"Coffee House\",\"Carry out & Take away\",\"Coffee House\",\"Bar\",\"Restaurant(20-50)\",\"Coffee House\",\"Coffee House\",\"Bar\",\"Restaurant(20-50)\",\"Carry out & Take away\",\"Restaurant(\\u003c20)\",\"Coffee House\",\"Restaurant(\\u003c20)\",\"Coffee House\",\"Carry out & Take away\",\"Coffee House\",\"Coffee House\",\"Restaurant(\\u003c20)\",\"Carry out & Take away\",\"Coffee House\",\"Restaurant(20-50)\",\"Bar\",\"Coffee House\",\"Restaurant(\\u003c20)\",\"Bar\",\"Bar\",\"Restaurant(20-50)\",\"Coffee House\",\"Coffee House\",\"Bar\",\"Restaurant(20-50)\",\"Carry out & Take away\",\"Restaurant(\\u003c20)\",\"Coffee House\",\"Restaurant(\\u003c20)\",\"Coffee House\",\"Carry out & Take away\",\"Coffee House\",\"Coffee House\",\"Restaurant(\\u003c20)\",\"Carry out & Take away\",\"Restaurant(\\u003c20)\",\"Carry out & Take away\",\"Bar\",\"Restaurant(\\u003c20)\",\"Restaurant(\\u003c20)\",\"Coffee House\",\"Bar\",\"Restaurant(20-50)\",\"Coffee House\",\"Coffee House\",\"Bar\",\"Restaurant(20-50)\",\"Carry out & Take away\",\"Restaurant(\\u003c20)\",\"Coffee House\",\"Restaurant(\\u003c20)\",\"Coffee House\",\"Carry out & Take away\",\"Coffee House\",\"Coffee House\",\"Restaurant(\\u003c20)\",\"Carry out & Take away\",\"Restaurant(\\u003c20)\",\"Carry out & Take away\",\"Bar\",\"Restaurant(\\u003c20)\",\"Restaurant(\\u003c20)\",\"Coffee House\",\"Bar\",\"Restaurant(20-50)\",\"Coffee House\",\"Coffee House\",\"Bar\",\"Restaurant(20-50)\",\"Carry out & Take away\",\"Restaurant(\\u003c20)\",\"Coffee House\",\"Restaurant(\\u003c20)\",\"Coffee House\",\"Bar\",\"Carry out & Take away\",\"Coffee House\",\"Coffee House\",\"Coffee House\",\"Restaurant(\\u003c20)\",\"Coffee House\",\"Restaurant(\\u003c20)\",\"Coffee House\",\"Carry out & Take away\",\"Coffee House\",\"Bar\",\"Restaurant(20-50)\",\"Coffee House\",\"Coffee House\",\"Bar\",\"Restaurant(20-50)\",\"Carry out & Take away\",\"Restaurant(\\u003c20)\",\"Coffee House\",\"Restaurant(\\u003c20)\",\"Coffee House\",\"Carry out & Take away\",\"Coffee House\",\"Coffee House\",\"Restaurant(\\u003c20)\",\"Carry out & Take away\",\"Coffee House\",\"Restaurant(20-50)\",\"Bar\",\"Coffee House\",\"Restaurant(\\u003c20)\",\"Bar\",\"Bar\",\"Restaurant(20-50)\",\"Coffee House\",\"Coffee House\",\"Bar\",\"Restaurant(20-50)\",\"Carry out & Take away\",\"Restaurant(\\u003c20)\",\"Coffee House\",\"Restaurant(\\u003c20)\",\"Coffee House\",\"Carry out & Take away\",\"Coffee House\",\"Coffee House\",\"Restaurant(\\u003c20)\",\"Carry out & Take away\",\"Coffee House\",\"Restaurant(20-50)\",\"Bar\",\"Coffee House\",\"Restaurant(\\u003c20)\",\"Bar\",\"Bar\",\"Restaurant(20-50)\",\"Coffee House\",\"Coffee House\",\"Bar\",\"Restaurant(20-50)\",\"Carry out & Take away\",\"Restaurant(\\u003c20)\",\"Coffee House\",\"Restaurant(\\u003c20)\",\"Coffee House\",\"Carry out & Take away\",\"Coffee House\",\"Coffee House\",\"Restaurant(\\u003c20)\",\"Carry out & Take away\",\"Restaurant(\\u003c20)\",\"Carry out & Take away\",\"Bar\",\"Restaurant(\\u003c20)\",\"Restaurant(\\u003c20)\",\"Coffee House\",\"Bar\",\"Restaurant(20-50)\",\"Coffee House\",\"Coffee House\",\"Bar\",\"Restaurant(20-50)\",\"Carry out & Take away\",\"Restaurant(\\u003c20)\",\"Coffee House\",\"Restaurant(\\u003c20)\",\"Coffee House\",\"Carry out & Take away\",\"Coffee House\",\"Coffee House\",\"Restaurant(\\u003c20)\",\"Carry out & Take away\",\"Restaurant(\\u003c20)\",\"Carry out & Take away\",\"Bar\",\"Restaurant(\\u003c20)\",\"Restaurant(\\u003c20)\",\"Coffee House\",\"Bar\",\"Restaurant(20-50)\",\"Coffee House\",\"Coffee House\",\"Bar\",\"Restaurant(20-50)\",\"Carry out & Take away\",\"Restaurant(\\u003c20)\",\"Coffee House\",\"Restaurant(\\u003c20)\",\"Coffee House\",\"Carry out & Take away\",\"Coffee House\",\"Coffee House\",\"Restaurant(\\u003c20)\",\"Carry out & Take away\",\"Restaurant(\\u003c20)\",\"Carry out & Take away\",\"Bar\",\"Restaurant(\\u003c20)\",\"Restaurant(\\u003c20)\",\"Coffee House\",\"Bar\",\"Restaurant(20-50)\",\"Coffee House\",\"Coffee House\",\"Bar\",\"Restaurant(20-50)\",\"Carry out & Take away\",\"Restaurant(\\u003c20)\",\"Coffee House\",\"Restaurant(\\u003c20)\",\"Coffee House\",\"Carry out & Take away\",\"Coffee House\",\"Coffee House\",\"Restaurant(\\u003c20)\",\"Carry out & Take away\",\"Coffee House\",\"Restaurant(20-50)\",\"Bar\",\"Coffee House\",\"Restaurant(\\u003c20)\",\"Bar\",\"Bar\",\"Restaurant(20-50)\",\"Coffee House\",\"Coffee House\",\"Bar\",\"Restaurant(20-50)\",\"Carry out & Take away\",\"Restaurant(\\u003c20)\",\"Coffee House\",\"Coffee House\",\"Restaurant(20-50)\",\"Bar\",\"Coffee House\",\"Restaurant(\\u003c20)\",\"Bar\",\"Restaurant(\\u003c20)\",\"Coffee House\",\"Carry out & Take away\",\"Coffee House\",\"Coffee House\",\"Restaurant(\\u003c20)\",\"Carry out & Take away\",\"Restaurant(\\u003c20)\",\"Carry out & Take away\",\"Bar\",\"Restaurant(\\u003c20)\",\"Restaurant(\\u003c20)\",\"Coffee House\",\"Bar\",\"Restaurant(20-50)\",\"Coffee House\",\"Coffee House\",\"Bar\",\"Restaurant(20-50)\",\"Carry out & Take away\",\"Restaurant(\\u003c20)\",\"Coffee House\",\"Restaurant(\\u003c20)\",\"Coffee House\",\"Carry out & Take away\",\"Coffee House\",\"Coffee House\",\"Restaurant(\\u003c20)\",\"Carry out & Take away\",\"Restaurant(\\u003c20)\",\"Carry out & Take away\",\"Bar\",\"Restaurant(\\u003c20)\",\"Coffee House\",\"Bar\",\"Restaurant(20-50)\",\"Coffee House\",\"Coffee House\",\"Bar\",\"Restaurant(20-50)\",\"Carry out & Take away\",\"Restaurant(\\u003c20)\",\"Coffee House\",\"Restaurant(\\u003c20)\",\"Coffee House\",\"Bar\",\"Carry out & Take away\",\"Coffee House\",\"Coffee House\",\"Coffee House\",\"Restaurant(\\u003c20)\",\"Coffee House\",\"Restaurant(\\u003c20)\",\"Coffee House\",\"Carry out & Take away\",\"Coffee House\",\"Bar\",\"Restaurant(20-50)\",\"Coffee House\",\"Coffee House\",\"Bar\",\"Restaurant(20-50)\",\"Carry out & Take away\",\"Restaurant(\\u003c20)\",\"Coffee House\",\"Restaurant(\\u003c20)\",\"Coffee House\",\"Bar\",\"Carry out & Take away\",\"Coffee House\",\"Coffee House\",\"Coffee House\",\"Restaurant(\\u003c20)\",\"Coffee House\",\"Restaurant(\\u003c20)\",\"Coffee House\",\"Carry out & Take away\",\"Coffee House\",\"Bar\",\"Restaurant(20-50)\",\"Coffee House\",\"Coffee House\",\"Bar\",\"Restaurant(20-50)\",\"Carry out & Take away\",\"Restaurant(\\u003c20)\",\"Coffee House\",\"Restaurant(\\u003c20)\",\"Coffee House\",\"Bar\",\"Carry out & Take away\",\"Coffee House\",\"Coffee House\",\"Coffee House\",\"Restaurant(\\u003c20)\",\"Coffee House\",\"Restaurant(\\u003c20)\",\"Coffee House\",\"Carry out & Take away\",\"Coffee House\",\"Bar\",\"Restaurant(20-50)\",\"Coffee House\",\"Coffee House\",\"Bar\",\"Restaurant(20-50)\",\"Carry out & Take away\",\"Restaurant(\\u003c20)\",\"Coffee House\",\"Restaurant(\\u003c20)\",\"Coffee House\",\"Carry out & Take away\",\"Coffee House\",\"Coffee House\",\"Restaurant(\\u003c20)\",\"Carry out & Take away\",\"Coffee House\",\"Restaurant(20-50)\",\"Bar\",\"Coffee House\",\"Restaurant(\\u003c20)\",\"Bar\",\"Bar\",\"Restaurant(20-50)\",\"Coffee House\",\"Coffee House\",\"Bar\",\"Restaurant(20-50)\",\"Carry out & Take away\",\"Restaurant(\\u003c20)\",\"Coffee House\",\"Restaurant(\\u003c20)\",\"Coffee House\",\"Carry out & Take away\",\"Coffee House\",\"Coffee House\",\"Restaurant(\\u003c20)\",\"Carry out & Take away\",\"Coffee House\",\"Restaurant(20-50)\",\"Bar\",\"Coffee House\",\"Restaurant(\\u003c20)\",\"Bar\",\"Bar\",\"Restaurant(20-50)\",\"Coffee House\",\"Coffee House\",\"Bar\",\"Restaurant(20-50)\",\"Carry out & Take away\",\"Restaurant(\\u003c20)\",\"Coffee House\",\"Restaurant(\\u003c20)\",\"Coffee House\",\"Bar\",\"Carry out & Take away\",\"Coffee House\",\"Coffee House\",\"Coffee House\",\"Restaurant(\\u003c20)\",\"Coffee House\",\"Restaurant(\\u003c20)\",\"Coffee House\",\"Carry out & Take away\",\"Coffee House\",\"Bar\",\"Restaurant(20-50)\",\"Coffee House\",\"Coffee House\",\"Bar\",\"Restaurant(20-50)\",\"Carry out & Take away\",\"Restaurant(\\u003c20)\",\"Coffee House\",\"Restaurant(\\u003c20)\",\"Coffee House\",\"Carry out & Take away\",\"Coffee House\",\"Coffee House\",\"Restaurant(\\u003c20)\",\"Carry out & Take away\",\"Coffee House\",\"Restaurant(20-50)\",\"Bar\",\"Coffee House\",\"Restaurant(\\u003c20)\",\"Bar\",\"Bar\",\"Restaurant(20-50)\",\"Coffee House\",\"Coffee House\",\"Bar\",\"Restaurant(20-50)\",\"Carry out & Take away\",\"Restaurant(\\u003c20)\",\"Coffee House\",\"Restaurant(\\u003c20)\",\"Coffee House\",\"Carry out & Take away\",\"Coffee House\",\"Coffee House\",\"Restaurant(\\u003c20)\",\"Carry out & Take away\",\"Coffee House\",\"Restaurant(20-50)\",\"Bar\",\"Coffee House\",\"Restaurant(\\u003c20)\",\"Bar\",\"Bar\",\"Restaurant(20-50)\",\"Coffee House\",\"Coffee House\",\"Bar\",\"Restaurant(20-50)\",\"Carry out & Take away\",\"Restaurant(\\u003c20)\",\"Coffee House\",\"Restaurant(\\u003c20)\",\"Coffee House\",\"Bar\",\"Carry out & Take away\",\"Coffee House\",\"Coffee House\",\"Coffee House\",\"Restaurant(\\u003c20)\",\"Coffee House\",\"Restaurant(\\u003c20)\",\"Coffee House\",\"Carry out & Take away\",\"Coffee House\",\"Bar\",\"Restaurant(20-50)\",\"Coffee House\",\"Coffee House\",\"Bar\",\"Restaurant(20-50)\",\"Carry out & Take away\",\"Restaurant(\\u003c20)\",\"Coffee House\",\"Restaurant(\\u003c20)\",\"Coffee House\",\"Carry out & Take away\",\"Coffee House\",\"Coffee House\",\"Restaurant(\\u003c20)\",\"Carry out & Take away\",\"Restaurant(\\u003c20)\",\"Carry out & Take away\",\"Bar\",\"Restaurant(\\u003c20)\",\"Restaurant(\\u003c20)\",\"Coffee House\",\"Bar\",\"Restaurant(20-50)\",\"Coffee House\",\"Coffee House\",\"Bar\",\"Restaurant(20-50)\",\"Carry out & Take away\",\"Restaurant(\\u003c20)\",\"Coffee House\",\"Restaurant(\\u003c20)\",\"Coffee House\",\"Bar\",\"Carry out & Take away\",\"Coffee House\",\"Coffee House\",\"Coffee House\",\"Restaurant(\\u003c20)\",\"Coffee House\",\"Restaurant(\\u003c20)\",\"Coffee House\",\"Carry out & Take away\",\"Coffee House\",\"Bar\",\"Restaurant(20-50)\",\"Coffee House\",\"Coffee House\",\"Bar\",\"Restaurant(20-50)\",\"Carry out & Take away\",\"Restaurant(\\u003c20)\",\"Coffee House\",\"Restaurant(\\u003c20)\",\"Coffee House\",\"Carry out & Take away\",\"Coffee House\",\"Coffee House\",\"Restaurant(\\u003c20)\",\"Carry out & Take away\",\"Restaurant(\\u003c20)\",\"Carry out & Take away\",\"Bar\",\"Restaurant(\\u003c20)\",\"Restaurant(\\u003c20)\",\"Coffee House\",\"Bar\",\"Restaurant(20-50)\",\"Coffee House\",\"Coffee House\",\"Bar\",\"Restaurant(20-50)\",\"Carry out & Take away\",\"Restaurant(\\u003c20)\",\"Coffee House\",\"Restaurant(\\u003c20)\",\"Coffee House\",\"Carry out & Take away\",\"Coffee House\",\"Coffee House\",\"Restaurant(\\u003c20)\",\"Carry out & Take away\",\"Coffee House\",\"Restaurant(20-50)\",\"Bar\",\"Coffee House\",\"Restaurant(\\u003c20)\",\"Bar\",\"Bar\",\"Restaurant(20-50)\",\"Coffee House\",\"Coffee House\",\"Bar\",\"Restaurant(20-50)\",\"Carry out & Take away\",\"Restaurant(\\u003c20)\",\"Coffee House\",\"Restaurant(\\u003c20)\",\"Coffee House\",\"Carry out & Take away\",\"Coffee House\",\"Coffee House\",\"Restaurant(\\u003c20)\",\"Carry out & Take away\",\"Coffee House\",\"Restaurant(20-50)\",\"Bar\",\"Coffee House\",\"Restaurant(\\u003c20)\",\"Bar\",\"Bar\",\"Restaurant(20-50)\",\"Coffee House\",\"Coffee House\",\"Bar\",\"Restaurant(20-50)\",\"Carry out & Take away\",\"Restaurant(\\u003c20)\",\"Coffee House\",\"Restaurant(\\u003c20)\",\"Coffee House\",\"Carry out & Take away\",\"Coffee House\",\"Coffee House\",\"Restaurant(\\u003c20)\",\"Carry out & Take away\",\"Restaurant(\\u003c20)\",\"Carry out & Take away\",\"Bar\",\"Restaurant(\\u003c20)\",\"Restaurant(\\u003c20)\",\"Coffee House\",\"Bar\",\"Restaurant(20-50)\",\"Coffee House\",\"Coffee House\",\"Bar\",\"Restaurant(20-50)\",\"Carry out & Take away\",\"Restaurant(\\u003c20)\",\"Coffee House\",\"Restaurant(\\u003c20)\",\"Coffee House\",\"Bar\",\"Carry out & Take away\",\"Coffee House\",\"Coffee House\",\"Coffee House\",\"Restaurant(\\u003c20)\",\"Coffee House\",\"Restaurant(\\u003c20)\",\"Coffee House\",\"Carry out & Take away\",\"Coffee House\",\"Bar\",\"Restaurant(20-50)\",\"Coffee House\",\"Coffee House\",\"Bar\",\"Restaurant(20-50)\",\"Carry out & Take away\",\"Restaurant(\\u003c20)\",\"Coffee House\",\"Restaurant(\\u003c20)\",\"Coffee House\",\"Bar\",\"Carry out & Take away\",\"Coffee House\",\"Coffee House\",\"Coffee House\",\"Restaurant(\\u003c20)\",\"Coffee House\",\"Restaurant(\\u003c20)\",\"Coffee House\",\"Carry out & Take away\",\"Coffee House\",\"Bar\",\"Restaurant(20-50)\",\"Coffee House\",\"Coffee House\",\"Bar\",\"Restaurant(20-50)\",\"Carry out & Take away\",\"Restaurant(\\u003c20)\",\"Coffee House\",\"Restaurant(\\u003c20)\",\"Coffee House\",\"Carry out & Take away\",\"Coffee House\",\"Coffee House\",\"Restaurant(\\u003c20)\",\"Carry out & Take away\",\"Restaurant(\\u003c20)\",\"Carry out & Take away\",\"Bar\",\"Restaurant(\\u003c20)\",\"Restaurant(\\u003c20)\",\"Coffee House\",\"Bar\",\"Restaurant(20-50)\",\"Coffee House\",\"Coffee House\",\"Bar\",\"Restaurant(20-50)\",\"Carry out & Take away\",\"Restaurant(\\u003c20)\",\"Coffee House\",\"Restaurant(\\u003c20)\",\"Coffee House\",\"Bar\",\"Carry out & Take away\",\"Coffee House\",\"Coffee House\",\"Coffee House\",\"Restaurant(\\u003c20)\",\"Coffee House\",\"Restaurant(\\u003c20)\",\"Coffee House\",\"Carry out & Take away\",\"Coffee House\",\"Bar\",\"Restaurant(20-50)\",\"Coffee House\",\"Coffee House\",\"Bar\",\"Restaurant(20-50)\",\"Carry out & Take away\",\"Restaurant(\\u003c20)\",\"Coffee House\",\"Restaurant(\\u003c20)\",\"Coffee House\",\"Carry out & Take away\",\"Coffee House\",\"Coffee House\",\"Restaurant(\\u003c20)\",\"Carry out & Take away\",\"Restaurant(\\u003c20)\",\"Carry out & Take away\",\"Bar\",\"Restaurant(\\u003c20)\",\"Restaurant(\\u003c20)\",\"Coffee House\",\"Bar\",\"Restaurant(20-50)\",\"Coffee House\",\"Coffee House\",\"Bar\",\"Restaurant(20-50)\",\"Carry out & Take away\",\"Restaurant(\\u003c20)\",\"Coffee House\",\"Restaurant(\\u003c20)\",\"Coffee House\",\"Carry out & Take away\",\"Coffee House\",\"Coffee House\",\"Restaurant(\\u003c20)\",\"Carry out & Take away\",\"Restaurant(\\u003c20)\",\"Carry out & Take away\",\"Bar\",\"Restaurant(\\u003c20)\",\"Restaurant(\\u003c20)\",\"Coffee House\",\"Bar\",\"Restaurant(20-50)\",\"Coffee House\",\"Coffee House\",\"Bar\",\"Restaurant(20-50)\",\"Carry out & Take away\",\"Restaurant(\\u003c20)\",\"Coffee House\",\"Restaurant(\\u003c20)\",\"Coffee House\",\"Bar\",\"Carry out & Take away\",\"Coffee House\",\"Coffee House\",\"Coffee House\",\"Restaurant(\\u003c20)\",\"Coffee House\",\"Restaurant(\\u003c20)\",\"Coffee House\",\"Carry out & Take away\",\"Coffee House\",\"Bar\",\"Restaurant(20-50)\",\"Coffee House\",\"Coffee House\",\"Bar\",\"Restaurant(20-50)\",\"Carry out & Take away\",\"Restaurant(\\u003c20)\",\"Coffee House\",\"Restaurant(\\u003c20)\",\"Coffee House\",\"Carry out & Take away\",\"Coffee House\",\"Coffee House\",\"Restaurant(\\u003c20)\",\"Carry out & Take away\",\"Restaurant(\\u003c20)\",\"Carry out & Take away\",\"Bar\",\"Restaurant(\\u003c20)\",\"Restaurant(\\u003c20)\",\"Coffee House\",\"Bar\",\"Restaurant(20-50)\",\"Coffee House\",\"Coffee House\",\"Bar\",\"Restaurant(20-50)\",\"Carry out & Take away\",\"Restaurant(\\u003c20)\",\"Coffee House\",\"Restaurant(\\u003c20)\",\"Coffee House\",\"Carry out & Take away\",\"Coffee House\",\"Coffee House\",\"Restaurant(\\u003c20)\",\"Carry out & Take away\",\"Coffee House\",\"Restaurant(20-50)\",\"Bar\",\"Coffee House\",\"Restaurant(\\u003c20)\",\"Bar\",\"Bar\",\"Restaurant(20-50)\",\"Coffee House\",\"Coffee House\",\"Bar\",\"Restaurant(20-50)\",\"Carry out & Take away\",\"Restaurant(\\u003c20)\",\"Coffee House\",\"Restaurant(\\u003c20)\",\"Coffee House\",\"Bar\",\"Carry out & Take away\",\"Coffee House\",\"Coffee House\",\"Coffee House\",\"Restaurant(\\u003c20)\",\"Coffee House\",\"Restaurant(\\u003c20)\",\"Coffee House\",\"Carry out & Take away\",\"Coffee House\",\"Bar\",\"Restaurant(20-50)\",\"Coffee House\",\"Coffee House\",\"Bar\",\"Restaurant(20-50)\",\"Carry out & Take away\",\"Restaurant(\\u003c20)\",\"Coffee House\",\"Restaurant(\\u003c20)\",\"Coffee House\",\"Carry out & Take away\",\"Coffee House\",\"Coffee House\",\"Restaurant(\\u003c20)\",\"Carry out & Take away\",\"Coffee House\",\"Restaurant(20-50)\",\"Bar\",\"Coffee House\",\"Restaurant(\\u003c20)\",\"Bar\",\"Bar\",\"Restaurant(20-50)\",\"Coffee House\",\"Coffee House\",\"Bar\",\"Restaurant(20-50)\",\"Carry out & Take away\",\"Restaurant(\\u003c20)\",\"Coffee House\",\"Restaurant(\\u003c20)\",\"Coffee House\",\"Carry out & Take away\",\"Coffee House\",\"Coffee House\",\"Restaurant(\\u003c20)\",\"Carry out & Take away\",\"Restaurant(\\u003c20)\",\"Carry out & Take away\",\"Bar\",\"Restaurant(\\u003c20)\",\"Restaurant(\\u003c20)\",\"Coffee House\",\"Bar\",\"Restaurant(20-50)\",\"Coffee House\",\"Coffee House\",\"Bar\",\"Restaurant(20-50)\",\"Carry out & Take away\",\"Restaurant(\\u003c20)\",\"Coffee House\",\"Restaurant(\\u003c20)\",\"Coffee House\",\"Carry out & Take away\",\"Coffee House\",\"Coffee House\",\"Restaurant(\\u003c20)\",\"Carry out & Take away\",\"Restaurant(\\u003c20)\",\"Carry out & Take away\",\"Bar\",\"Restaurant(\\u003c20)\",\"Restaurant(\\u003c20)\",\"Coffee House\",\"Bar\",\"Restaurant(20-50)\",\"Coffee House\",\"Coffee House\",\"Bar\",\"Restaurant(20-50)\",\"Carry out & Take away\",\"Restaurant(\\u003c20)\",\"Coffee House\",\"Restaurant(\\u003c20)\",\"Coffee House\",\"Bar\",\"Carry out & Take away\",\"Coffee House\",\"Coffee House\",\"Coffee House\",\"Restaurant(\\u003c20)\",\"Coffee House\",\"Restaurant(\\u003c20)\",\"Coffee House\",\"Carry out & Take away\",\"Coffee House\",\"Bar\",\"Restaurant(20-50)\",\"Coffee House\",\"Coffee House\",\"Bar\",\"Restaurant(20-50)\",\"Carry out & Take away\",\"Restaurant(\\u003c20)\",\"Coffee House\",\"Restaurant(\\u003c20)\",\"Coffee House\",\"Bar\",\"Carry out & Take away\",\"Coffee House\",\"Coffee House\",\"Coffee House\",\"Restaurant(\\u003c20)\",\"Coffee House\",\"Restaurant(\\u003c20)\",\"Coffee House\",\"Carry out & Take away\",\"Coffee House\",\"Bar\",\"Restaurant(20-50)\",\"Coffee House\",\"Coffee House\",\"Bar\",\"Restaurant(20-50)\",\"Carry out & Take away\",\"Restaurant(\\u003c20)\",\"Coffee House\",\"Restaurant(\\u003c20)\",\"Coffee House\",\"Bar\",\"Carry out & Take away\",\"Coffee House\",\"Coffee House\",\"Coffee House\",\"Restaurant(\\u003c20)\",\"Coffee House\",\"Restaurant(\\u003c20)\",\"Coffee House\",\"Carry out & Take away\",\"Coffee House\",\"Bar\",\"Restaurant(20-50)\",\"Coffee House\",\"Coffee House\",\"Bar\",\"Restaurant(20-50)\",\"Carry out & Take away\",\"Restaurant(\\u003c20)\",\"Coffee House\",\"Restaurant(\\u003c20)\",\"Coffee House\",\"Bar\",\"Carry out & Take away\",\"Coffee House\",\"Coffee House\",\"Coffee House\",\"Restaurant(\\u003c20)\",\"Coffee House\",\"Restaurant(\\u003c20)\",\"Coffee House\",\"Carry out & Take away\",\"Coffee House\",\"Bar\",\"Restaurant(20-50)\",\"Coffee House\",\"Coffee House\",\"Bar\",\"Restaurant(20-50)\",\"Carry out & Take away\",\"Restaurant(\\u003c20)\",\"Coffee House\",\"Restaurant(\\u003c20)\",\"Coffee House\",\"Bar\",\"Carry out & Take away\",\"Coffee House\",\"Coffee House\",\"Coffee House\",\"Restaurant(\\u003c20)\",\"Coffee House\",\"Restaurant(\\u003c20)\",\"Coffee House\",\"Carry out & Take away\",\"Coffee House\",\"Bar\",\"Restaurant(20-50)\",\"Coffee House\",\"Coffee House\",\"Bar\",\"Restaurant(20-50)\",\"Carry out & Take away\",\"Restaurant(\\u003c20)\",\"Coffee House\",\"Restaurant(\\u003c20)\",\"Coffee House\",\"Carry out & Take away\",\"Coffee House\",\"Coffee House\",\"Restaurant(\\u003c20)\",\"Carry out & Take away\",\"Restaurant(\\u003c20)\",\"Carry out & Take away\",\"Bar\",\"Restaurant(\\u003c20)\",\"Restaurant(\\u003c20)\",\"Coffee House\",\"Bar\",\"Restaurant(20-50)\",\"Coffee House\",\"Coffee House\",\"Bar\",\"Restaurant(20-50)\",\"Carry out & Take away\",\"Restaurant(\\u003c20)\",\"Coffee House\",\"Restaurant(\\u003c20)\",\"Coffee House\",\"Carry out & Take away\",\"Coffee House\",\"Coffee House\",\"Restaurant(\\u003c20)\",\"Carry out & Take away\",\"Restaurant(\\u003c20)\",\"Carry out & Take away\",\"Bar\",\"Restaurant(\\u003c20)\",\"Restaurant(\\u003c20)\",\"Coffee House\",\"Bar\",\"Restaurant(20-50)\",\"Coffee House\",\"Coffee House\",\"Bar\",\"Restaurant(20-50)\",\"Carry out & Take away\",\"Restaurant(\\u003c20)\",\"Coffee House\",\"Restaurant(\\u003c20)\",\"Coffee House\",\"Carry out & Take away\",\"Coffee House\",\"Coffee House\",\"Restaurant(\\u003c20)\",\"Carry out & Take away\",\"Coffee House\",\"Restaurant(20-50)\",\"Bar\",\"Coffee House\",\"Restaurant(\\u003c20)\",\"Bar\",\"Bar\",\"Restaurant(20-50)\",\"Coffee House\",\"Coffee House\",\"Bar\",\"Restaurant(20-50)\",\"Carry out & Take away\",\"Restaurant(\\u003c20)\",\"Coffee House\",\"Restaurant(\\u003c20)\",\"Coffee House\",\"Carry out & Take away\",\"Coffee House\",\"Coffee House\",\"Restaurant(\\u003c20)\",\"Carry out & Take away\",\"Coffee House\",\"Restaurant(20-50)\",\"Bar\",\"Coffee House\",\"Restaurant(\\u003c20)\",\"Bar\",\"Bar\",\"Restaurant(20-50)\",\"Coffee House\",\"Coffee House\",\"Bar\",\"Restaurant(20-50)\",\"Carry out & Take away\",\"Restaurant(\\u003c20)\",\"Coffee House\",\"Restaurant(\\u003c20)\",\"Coffee House\",\"Carry out & Take away\",\"Coffee House\",\"Coffee House\",\"Restaurant(\\u003c20)\",\"Carry out & Take away\",\"Restaurant(\\u003c20)\",\"Carry out & Take away\",\"Bar\",\"Restaurant(\\u003c20)\",\"Restaurant(\\u003c20)\",\"Coffee House\",\"Bar\",\"Restaurant(20-50)\",\"Coffee House\",\"Coffee House\",\"Bar\",\"Restaurant(20-50)\",\"Carry out & Take away\",\"Restaurant(\\u003c20)\",\"Coffee House\",\"Restaurant(\\u003c20)\",\"Coffee House\",\"Carry out & Take away\",\"Coffee House\",\"Coffee House\",\"Restaurant(\\u003c20)\",\"Carry out & Take away\",\"Restaurant(\\u003c20)\",\"Carry out & Take away\",\"Bar\",\"Restaurant(\\u003c20)\",\"Restaurant(\\u003c20)\",\"Coffee House\",\"Bar\",\"Restaurant(20-50)\",\"Coffee House\",\"Coffee House\",\"Bar\",\"Restaurant(20-50)\",\"Carry out & Take away\",\"Restaurant(\\u003c20)\",\"Coffee House\",\"Restaurant(\\u003c20)\",\"Coffee House\",\"Carry out & Take away\",\"Coffee House\",\"Coffee House\",\"Restaurant(\\u003c20)\",\"Carry out & Take away\",\"Restaurant(\\u003c20)\",\"Carry out & Take away\",\"Bar\",\"Restaurant(\\u003c20)\",\"Restaurant(\\u003c20)\",\"Coffee House\",\"Bar\",\"Restaurant(20-50)\",\"Coffee House\",\"Coffee House\",\"Bar\",\"Restaurant(20-50)\",\"Carry out & Take away\",\"Restaurant(\\u003c20)\",\"Coffee House\",\"Restaurant(\\u003c20)\",\"Coffee House\",\"Bar\",\"Carry out & Take away\",\"Coffee House\",\"Coffee House\",\"Coffee House\",\"Restaurant(\\u003c20)\",\"Coffee House\",\"Restaurant(\\u003c20)\",\"Coffee House\",\"Carry out & Take away\",\"Coffee House\",\"Bar\",\"Restaurant(20-50)\",\"Coffee House\",\"Coffee House\",\"Bar\",\"Restaurant(20-50)\",\"Carry out & Take away\",\"Restaurant(\\u003c20)\",\"Coffee House\",\"Restaurant(\\u003c20)\",\"Coffee House\",\"Bar\",\"Carry out & Take away\",\"Coffee House\",\"Coffee House\",\"Coffee House\",\"Restaurant(\\u003c20)\",\"Coffee House\",\"Restaurant(\\u003c20)\",\"Coffee House\",\"Carry out & Take away\",\"Coffee House\",\"Bar\",\"Restaurant(20-50)\",\"Coffee House\",\"Coffee House\",\"Bar\",\"Restaurant(20-50)\",\"Carry out & Take away\",\"Restaurant(\\u003c20)\",\"Coffee House\",\"Restaurant(\\u003c20)\",\"Coffee House\",\"Carry out & Take away\",\"Coffee House\",\"Coffee House\",\"Restaurant(\\u003c20)\",\"Carry out & Take away\",\"Restaurant(\\u003c20)\",\"Carry out & Take away\",\"Bar\",\"Restaurant(\\u003c20)\",\"Restaurant(\\u003c20)\",\"Coffee House\",\"Bar\",\"Restaurant(20-50)\",\"Coffee House\",\"Coffee House\",\"Bar\",\"Restaurant(20-50)\",\"Carry out & Take away\",\"Restaurant(\\u003c20)\",\"Coffee House\",\"Restaurant(\\u003c20)\",\"Coffee House\",\"Bar\",\"Carry out & Take away\",\"Coffee House\",\"Coffee House\",\"Coffee House\",\"Restaurant(\\u003c20)\",\"Coffee House\",\"Restaurant(\\u003c20)\",\"Coffee House\",\"Carry out & Take away\",\"Coffee House\",\"Bar\",\"Restaurant(20-50)\",\"Coffee House\",\"Coffee House\",\"Bar\",\"Restaurant(20-50)\",\"Carry out & Take away\",\"Restaurant(\\u003c20)\",\"Coffee House\",\"Restaurant(\\u003c20)\",\"Coffee House\",\"Bar\",\"Carry out & Take away\",\"Coffee House\",\"Coffee House\",\"Coffee House\",\"Restaurant(\\u003c20)\",\"Coffee House\",\"Restaurant(\\u003c20)\",\"Coffee House\",\"Carry out & Take away\",\"Coffee House\",\"Bar\",\"Restaurant(20-50)\",\"Coffee House\",\"Coffee House\",\"Bar\",\"Restaurant(20-50)\",\"Carry out & Take away\",\"Restaurant(\\u003c20)\",\"Coffee House\",\"Restaurant(\\u003c20)\",\"Coffee House\",\"Carry out & Take away\",\"Coffee House\",\"Coffee House\",\"Restaurant(\\u003c20)\",\"Carry out & Take away\",\"Coffee House\",\"Restaurant(20-50)\",\"Bar\",\"Coffee House\",\"Restaurant(\\u003c20)\",\"Bar\",\"Bar\",\"Restaurant(20-50)\",\"Coffee House\",\"Coffee House\",\"Bar\",\"Restaurant(20-50)\",\"Carry out & Take away\",\"Restaurant(\\u003c20)\",\"Coffee House\",\"Restaurant(\\u003c20)\",\"Coffee House\",\"Carry out & Take away\",\"Coffee House\",\"Coffee House\",\"Restaurant(\\u003c20)\",\"Carry out & Take away\",\"Coffee House\",\"Restaurant(20-50)\",\"Bar\",\"Coffee House\",\"Restaurant(\\u003c20)\",\"Bar\",\"Bar\",\"Restaurant(20-50)\",\"Coffee House\",\"Coffee House\",\"Bar\",\"Restaurant(20-50)\",\"Carry out & Take away\",\"Restaurant(\\u003c20)\",\"Coffee House\",\"Restaurant(\\u003c20)\",\"Coffee House\",\"Bar\",\"Carry out & Take away\",\"Coffee House\",\"Coffee House\",\"Coffee House\",\"Restaurant(\\u003c20)\",\"Coffee House\",\"Restaurant(\\u003c20)\",\"Coffee House\",\"Carry out & Take away\",\"Coffee House\",\"Bar\",\"Restaurant(20-50)\",\"Coffee House\",\"Coffee House\",\"Bar\",\"Restaurant(20-50)\",\"Carry out & Take away\",\"Restaurant(\\u003c20)\",\"Coffee House\",\"Restaurant(\\u003c20)\",\"Coffee House\",\"Bar\",\"Carry out & Take away\",\"Coffee House\",\"Coffee House\",\"Coffee House\",\"Restaurant(\\u003c20)\",\"Coffee House\",\"Restaurant(\\u003c20)\",\"Coffee House\",\"Carry out & Take away\",\"Coffee House\",\"Bar\",\"Restaurant(20-50)\",\"Coffee House\",\"Coffee House\",\"Bar\",\"Restaurant(20-50)\",\"Carry out & Take away\",\"Restaurant(\\u003c20)\",\"Coffee House\",\"Restaurant(\\u003c20)\",\"Coffee House\",\"Carry out & Take away\",\"Coffee House\",\"Coffee House\",\"Restaurant(\\u003c20)\",\"Carry out & Take away\",\"Coffee House\",\"Restaurant(20-50)\",\"Bar\",\"Coffee House\",\"Restaurant(\\u003c20)\",\"Bar\",\"Bar\",\"Restaurant(20-50)\",\"Coffee House\",\"Coffee House\",\"Bar\",\"Restaurant(20-50)\",\"Carry out & Take away\",\"Restaurant(\\u003c20)\",\"Coffee House\",\"Restaurant(\\u003c20)\",\"Coffee House\",\"Bar\",\"Carry out & Take away\",\"Coffee House\",\"Coffee House\",\"Restaurant(\\u003c20)\",\"Coffee House\",\"Restaurant(\\u003c20)\",\"Coffee House\",\"Carry out & Take away\",\"Coffee House\",\"Bar\",\"Restaurant(20-50)\",\"Coffee House\",\"Coffee House\",\"Bar\",\"Restaurant(20-50)\",\"Carry out & Take away\",\"Restaurant(\\u003c20)\",\"Coffee House\",\"Restaurant(\\u003c20)\",\"Coffee House\",\"Carry out & Take away\",\"Coffee House\",\"Coffee House\",\"Restaurant(\\u003c20)\",\"Carry out & Take away\",\"Restaurant(\\u003c20)\",\"Carry out & Take away\",\"Bar\",\"Restaurant(\\u003c20)\",\"Restaurant(\\u003c20)\",\"Coffee House\",\"Bar\",\"Restaurant(20-50)\",\"Coffee House\",\"Coffee House\",\"Bar\",\"Restaurant(20-50)\",\"Carry out & Take away\",\"Restaurant(\\u003c20)\",\"Coffee House\",\"Restaurant(\\u003c20)\",\"Coffee House\",\"Bar\",\"Carry out & Take away\",\"Coffee House\",\"Coffee House\",\"Coffee House\",\"Restaurant(\\u003c20)\",\"Coffee House\",\"Restaurant(\\u003c20)\",\"Coffee House\",\"Carry out & Take away\",\"Coffee House\",\"Bar\",\"Restaurant(20-50)\",\"Coffee House\",\"Coffee House\",\"Bar\",\"Restaurant(20-50)\",\"Carry out & Take away\",\"Restaurant(\\u003c20)\",\"Coffee House\",\"Bar\",\"Coffee House\",\"Restaurant(\\u003c20)\",\"Coffee House\",\"Coffee House\",\"Coffee House\",\"Restaurant(\\u003c20)\",\"Coffee House\",\"Carry out & Take away\",\"Coffee House\",\"Coffee House\",\"Restaurant(\\u003c20)\",\"Carry out & Take away\",\"Restaurant(\\u003c20)\",\"Carry out & Take away\",\"Bar\",\"Restaurant(\\u003c20)\",\"Restaurant(\\u003c20)\",\"Coffee House\",\"Bar\",\"Restaurant(20-50)\",\"Coffee House\",\"Coffee House\",\"Bar\",\"Restaurant(20-50)\",\"Carry out & Take away\",\"Restaurant(\\u003c20)\",\"Coffee House\",\"Restaurant(\\u003c20)\",\"Coffee House\",\"Bar\",\"Carry out & Take away\",\"Coffee House\",\"Coffee House\",\"Coffee House\",\"Restaurant(\\u003c20)\",\"Coffee House\",\"Restaurant(\\u003c20)\",\"Coffee House\",\"Carry out & Take away\",\"Coffee House\",\"Bar\",\"Restaurant(20-50)\",\"Coffee House\",\"Coffee House\",\"Bar\",\"Restaurant(20-50)\",\"Carry out & Take away\",\"Restaurant(\\u003c20)\",\"Coffee House\",\"Restaurant(\\u003c20)\",\"Coffee House\",\"Carry out & Take away\",\"Coffee House\",\"Coffee House\",\"Restaurant(\\u003c20)\",\"Carry out & Take away\",\"Coffee House\",\"Restaurant(20-50)\",\"Bar\",\"Coffee House\",\"Restaurant(\\u003c20)\",\"Bar\",\"Bar\",\"Restaurant(20-50)\",\"Coffee House\",\"Coffee House\",\"Bar\",\"Restaurant(20-50)\",\"Carry out & Take away\",\"Restaurant(\\u003c20)\",\"Coffee House\",\"Restaurant(\\u003c20)\",\"Coffee House\",\"Carry out & Take away\",\"Coffee House\",\"Coffee House\",\"Restaurant(\\u003c20)\",\"Carry out & Take away\",\"Coffee House\",\"Restaurant(20-50)\",\"Bar\",\"Coffee House\",\"Restaurant(\\u003c20)\",\"Bar\",\"Bar\",\"Restaurant(20-50)\",\"Coffee House\",\"Coffee House\",\"Bar\",\"Restaurant(20-50)\",\"Carry out & Take away\",\"Restaurant(\\u003c20)\",\"Coffee House\",\"Restaurant(\\u003c20)\",\"Coffee House\",\"Bar\",\"Carry out & Take away\",\"Coffee House\",\"Coffee House\",\"Coffee House\",\"Coffee House\",\"Restaurant(\\u003c20)\",\"Coffee House\",\"Carry out & Take away\",\"Coffee House\",\"Bar\",\"Restaurant(20-50)\",\"Coffee House\",\"Bar\",\"Restaurant(20-50)\",\"Carry out & Take away\",\"Restaurant(\\u003c20)\",\"Coffee House\",\"Restaurant(\\u003c20)\",\"Coffee House\",\"Bar\",\"Carry out & Take away\",\"Coffee House\",\"Coffee House\",\"Coffee House\",\"Restaurant(\\u003c20)\",\"Coffee House\",\"Restaurant(\\u003c20)\",\"Coffee House\",\"Carry out & Take away\",\"Coffee House\",\"Bar\",\"Restaurant(20-50)\",\"Coffee House\",\"Coffee House\",\"Bar\",\"Restaurant(20-50)\",\"Carry out & Take away\",\"Restaurant(\\u003c20)\",\"Coffee House\",\"Restaurant(\\u003c20)\",\"Coffee House\",\"Carry out & Take away\",\"Coffee House\",\"Coffee House\",\"Restaurant(\\u003c20)\",\"Carry out & Take away\",\"Restaurant(\\u003c20)\",\"Carry out & Take away\",\"Bar\",\"Restaurant(\\u003c20)\",\"Restaurant(\\u003c20)\",\"Coffee House\",\"Bar\",\"Restaurant(20-50)\",\"Coffee House\",\"Coffee House\",\"Bar\",\"Restaurant(20-50)\",\"Carry out & Take away\",\"Restaurant(\\u003c20)\",\"Coffee House\",\"Restaurant(\\u003c20)\",\"Coffee House\",\"Bar\",\"Carry out & Take away\",\"Coffee House\",\"Coffee House\",\"Coffee House\",\"Restaurant(\\u003c20)\",\"Coffee House\",\"Restaurant(\\u003c20)\",\"Coffee House\",\"Carry out & Take away\",\"Coffee House\",\"Bar\",\"Restaurant(20-50)\",\"Coffee House\",\"Coffee House\",\"Bar\",\"Restaurant(20-50)\",\"Carry out & Take away\",\"Restaurant(\\u003c20)\",\"Coffee House\",\"Restaurant(\\u003c20)\",\"Coffee House\",\"Carry out & Take away\",\"Coffee House\",\"Coffee House\",\"Restaurant(\\u003c20)\",\"Carry out & Take away\",\"Restaurant(\\u003c20)\",\"Carry out & Take away\",\"Bar\",\"Restaurant(\\u003c20)\",\"Restaurant(\\u003c20)\",\"Coffee House\",\"Bar\",\"Restaurant(20-50)\",\"Coffee House\",\"Coffee House\",\"Bar\",\"Restaurant(20-50)\",\"Carry out & Take away\",\"Restaurant(\\u003c20)\",\"Coffee House\",\"Restaurant(\\u003c20)\",\"Coffee House\",\"Bar\",\"Carry out & Take away\",\"Coffee House\",\"Coffee House\",\"Coffee House\",\"Restaurant(\\u003c20)\",\"Coffee House\",\"Restaurant(\\u003c20)\",\"Coffee House\",\"Carry out & Take away\",\"Coffee House\",\"Bar\",\"Restaurant(20-50)\",\"Coffee House\",\"Coffee House\",\"Bar\",\"Restaurant(20-50)\",\"Carry out & Take away\",\"Restaurant(\\u003c20)\",\"Coffee House\",\"Restaurant(\\u003c20)\",\"Coffee House\",\"Carry out & Take away\",\"Coffee House\",\"Coffee House\",\"Restaurant(\\u003c20)\",\"Carry out & Take away\",\"Restaurant(\\u003c20)\",\"Carry out & Take away\",\"Bar\",\"Restaurant(\\u003c20)\",\"Restaurant(\\u003c20)\",\"Coffee House\",\"Bar\",\"Restaurant(20-50)\",\"Coffee House\",\"Coffee House\",\"Bar\",\"Restaurant(20-50)\",\"Carry out & Take away\",\"Coffee House\",\"Restaurant(\\u003c20)\",\"Coffee House\",\"Carry out & Take away\",\"Coffee House\",\"Coffee House\",\"Restaurant(\\u003c20)\",\"Carry out & Take away\",\"Restaurant(\\u003c20)\",\"Carry out & Take away\",\"Bar\",\"Restaurant(\\u003c20)\",\"Restaurant(\\u003c20)\",\"Coffee House\",\"Bar\",\"Restaurant(20-50)\",\"Coffee House\",\"Coffee House\",\"Bar\",\"Restaurant(20-50)\",\"Carry out & Take away\",\"Restaurant(\\u003c20)\",\"Coffee House\",\"Restaurant(\\u003c20)\",\"Coffee House\",\"Carry out & Take away\",\"Coffee House\",\"Coffee House\",\"Restaurant(\\u003c20)\",\"Carry out & Take away\",\"Restaurant(\\u003c20)\",\"Carry out & Take away\",\"Bar\",\"Restaurant(\\u003c20)\",\"Coffee House\",\"Bar\",\"Restaurant(20-50)\",\"Coffee House\",\"Coffee House\",\"Bar\",\"Restaurant(20-50)\",\"Carry out & Take away\",\"Restaurant(\\u003c20)\",\"Coffee House\",\"Restaurant(\\u003c20)\",\"Coffee House\",\"Carry out & Take away\",\"Coffee House\",\"Coffee House\",\"Restaurant(\\u003c20)\",\"Carry out & Take away\",\"Coffee House\",\"Restaurant(20-50)\",\"Bar\",\"Coffee House\",\"Restaurant(\\u003c20)\",\"Bar\",\"Bar\",\"Restaurant(20-50)\",\"Coffee House\",\"Coffee House\",\"Bar\",\"Restaurant(20-50)\",\"Carry out & Take away\",\"Restaurant(\\u003c20)\",\"Coffee House\",\"Restaurant(\\u003c20)\",\"Coffee House\",\"Carry out & Take away\",\"Coffee House\",\"Coffee House\",\"Restaurant(\\u003c20)\",\"Carry out & Take away\",\"Restaurant(\\u003c20)\",\"Carry out & Take away\",\"Bar\",\"Restaurant(\\u003c20)\",\"Restaurant(\\u003c20)\",\"Coffee House\",\"Bar\",\"Restaurant(20-50)\",\"Coffee House\",\"Coffee House\",\"Bar\",\"Restaurant(20-50)\",\"Carry out & Take away\",\"Restaurant(\\u003c20)\",\"Coffee House\",\"Restaurant(\\u003c20)\",\"Coffee House\",\"Bar\",\"Carry out & Take away\",\"Coffee House\",\"Coffee House\",\"Coffee House\",\"Restaurant(\\u003c20)\",\"Coffee House\",\"Restaurant(\\u003c20)\",\"Coffee House\",\"Carry out & Take away\",\"Coffee House\",\"Bar\",\"Restaurant(20-50)\",\"Coffee House\",\"Coffee House\",\"Bar\",\"Restaurant(20-50)\",\"Carry out & Take away\",\"Restaurant(\\u003c20)\",\"Coffee House\",\"Restaurant(\\u003c20)\",\"Coffee House\",\"Bar\",\"Carry out & Take away\",\"Coffee House\",\"Coffee House\",\"Coffee House\",\"Restaurant(\\u003c20)\",\"Coffee House\",\"Restaurant(\\u003c20)\",\"Coffee House\",\"Carry out & Take away\",\"Coffee House\",\"Bar\",\"Restaurant(20-50)\",\"Coffee House\",\"Coffee House\",\"Bar\",\"Restaurant(20-50)\",\"Carry out & Take away\",\"Restaurant(\\u003c20)\",\"Coffee House\",\"Restaurant(\\u003c20)\",\"Coffee House\",\"Carry out & Take away\",\"Coffee House\",\"Coffee House\",\"Restaurant(\\u003c20)\",\"Carry out & Take away\",\"Restaurant(\\u003c20)\",\"Carry out & Take away\",\"Bar\",\"Restaurant(\\u003c20)\",\"Restaurant(\\u003c20)\",\"Coffee House\",\"Bar\",\"Restaurant(20-50)\",\"Coffee House\",\"Coffee House\",\"Bar\",\"Restaurant(20-50)\",\"Carry out & Take away\",\"Restaurant(\\u003c20)\",\"Coffee House\",\"Restaurant(\\u003c20)\",\"Coffee House\",\"Bar\",\"Carry out & Take away\",\"Coffee House\",\"Coffee House\",\"Coffee House\",\"Restaurant(\\u003c20)\",\"Coffee House\",\"Restaurant(\\u003c20)\",\"Coffee House\",\"Carry out & Take away\",\"Coffee House\",\"Bar\",\"Restaurant(20-50)\",\"Coffee House\",\"Coffee House\",\"Bar\",\"Restaurant(20-50)\",\"Carry out & Take away\",\"Restaurant(\\u003c20)\",\"Coffee House\",\"Restaurant(\\u003c20)\",\"Coffee House\",\"Bar\",\"Carry out & Take away\",\"Coffee House\",\"Coffee House\",\"Coffee House\",\"Restaurant(\\u003c20)\",\"Coffee House\",\"Restaurant(\\u003c20)\",\"Coffee House\",\"Carry out & Take away\",\"Coffee House\",\"Bar\",\"Restaurant(20-50)\",\"Coffee House\",\"Coffee House\",\"Bar\",\"Restaurant(20-50)\",\"Carry out & Take away\",\"Restaurant(\\u003c20)\",\"Coffee House\",\"Restaurant(\\u003c20)\",\"Coffee House\",\"Carry out & Take away\",\"Coffee House\",\"Coffee House\",\"Restaurant(\\u003c20)\",\"Carry out & Take away\",\"Restaurant(\\u003c20)\",\"Carry out & Take away\",\"Bar\",\"Restaurant(\\u003c20)\",\"Restaurant(\\u003c20)\",\"Coffee House\",\"Bar\",\"Restaurant(20-50)\",\"Coffee House\",\"Coffee House\",\"Bar\",\"Restaurant(20-50)\",\"Carry out & Take away\",\"Restaurant(\\u003c20)\",\"Coffee House\",\"Restaurant(\\u003c20)\",\"Coffee House\",\"Bar\",\"Carry out & Take away\",\"Coffee House\",\"Coffee House\",\"Coffee House\",\"Restaurant(\\u003c20)\",\"Coffee House\",\"Restaurant(\\u003c20)\",\"Coffee House\",\"Carry out & Take away\",\"Coffee House\",\"Bar\",\"Restaurant(20-50)\",\"Coffee House\",\"Coffee House\",\"Bar\",\"Restaurant(20-50)\",\"Carry out & Take away\",\"Restaurant(\\u003c20)\",\"Coffee House\",\"Restaurant(\\u003c20)\",\"Carry out & Take away\",\"Bar\",\"Restaurant(\\u003c20)\",\"Restaurant(\\u003c20)\",\"Coffee House\",\"Restaurant(\\u003c20)\",\"Coffee House\",\"Carry out & Take away\",\"Coffee House\",\"Coffee House\",\"Restaurant(\\u003c20)\",\"Carry out & Take away\",\"Restaurant(\\u003c20)\",\"Carry out & Take away\",\"Bar\",\"Restaurant(\\u003c20)\",\"Restaurant(\\u003c20)\",\"Coffee House\",\"Bar\",\"Restaurant(20-50)\",\"Coffee House\",\"Coffee House\",\"Bar\",\"Restaurant(20-50)\",\"Carry out & Take away\",\"Restaurant(\\u003c20)\",\"Coffee House\",\"Restaurant(\\u003c20)\",\"Coffee House\",\"Bar\",\"Carry out & Take away\",\"Coffee House\",\"Coffee House\",\"Coffee House\",\"Restaurant(\\u003c20)\",\"Coffee House\",\"Restaurant(\\u003c20)\",\"Coffee House\",\"Carry out & Take away\",\"Coffee House\",\"Bar\",\"Restaurant(20-50)\",\"Coffee House\",\"Coffee House\",\"Bar\",\"Restaurant(20-50)\",\"Carry out & Take away\",\"Restaurant(\\u003c20)\",\"Coffee House\",\"Restaurant(\\u003c20)\",\"Coffee House\",\"Carry out & Take away\",\"Coffee House\",\"Coffee House\",\"Restaurant(\\u003c20)\",\"Carry out & Take away\",\"Restaurant(\\u003c20)\",\"Carry out & Take away\",\"Bar\",\"Restaurant(\\u003c20)\",\"Restaurant(\\u003c20)\",\"Coffee House\",\"Bar\",\"Restaurant(20-50)\",\"Coffee House\",\"Coffee House\",\"Bar\",\"Restaurant(20-50)\",\"Carry out & Take away\",\"Restaurant(\\u003c20)\",\"Coffee House\",\"Restaurant(\\u003c20)\",\"Coffee House\",\"Carry out & Take away\",\"Coffee House\",\"Coffee House\",\"Restaurant(\\u003c20)\",\"Carry out & Take away\",\"Restaurant(\\u003c20)\",\"Carry out & Take away\",\"Bar\",\"Restaurant(\\u003c20)\",\"Restaurant(\\u003c20)\",\"Coffee House\",\"Bar\",\"Restaurant(20-50)\",\"Coffee House\",\"Coffee House\",\"Bar\",\"Restaurant(20-50)\",\"Carry out & Take away\",\"Restaurant(\\u003c20)\",\"Coffee House\",\"Restaurant(\\u003c20)\",\"Coffee House\",\"Carry out & Take away\",\"Coffee House\",\"Coffee House\",\"Restaurant(\\u003c20)\",\"Carry out & Take away\",\"Restaurant(\\u003c20)\",\"Carry out & Take away\",\"Bar\",\"Restaurant(\\u003c20)\",\"Restaurant(\\u003c20)\",\"Coffee House\",\"Bar\",\"Restaurant(20-50)\",\"Coffee House\",\"Coffee House\",\"Bar\",\"Restaurant(20-50)\",\"Carry out & Take away\",\"Restaurant(\\u003c20)\",\"Coffee House\",\"Restaurant(\\u003c20)\",\"Coffee House\",\"Bar\",\"Carry out & Take away\",\"Coffee House\",\"Coffee House\",\"Coffee House\",\"Restaurant(\\u003c20)\",\"Coffee House\",\"Restaurant(\\u003c20)\",\"Coffee House\",\"Carry out & Take away\",\"Coffee House\",\"Bar\",\"Restaurant(20-50)\",\"Coffee House\",\"Coffee House\",\"Bar\",\"Restaurant(20-50)\",\"Carry out & Take away\",\"Restaurant(\\u003c20)\",\"Coffee House\",\"Restaurant(\\u003c20)\",\"Coffee House\",\"Carry out & Take away\",\"Coffee House\",\"Coffee House\",\"Restaurant(\\u003c20)\",\"Carry out & Take away\",\"Restaurant(\\u003c20)\",\"Carry out & Take away\",\"Bar\",\"Restaurant(\\u003c20)\",\"Restaurant(\\u003c20)\",\"Coffee House\",\"Bar\",\"Restaurant(20-50)\",\"Coffee House\",\"Coffee House\",\"Bar\",\"Restaurant(20-50)\",\"Carry out & Take away\",\"Restaurant(\\u003c20)\",\"Coffee House\",\"Restaurant(\\u003c20)\",\"Coffee House\",\"Bar\",\"Carry out & Take away\",\"Coffee House\",\"Coffee House\",\"Coffee House\",\"Restaurant(\\u003c20)\",\"Coffee House\",\"Restaurant(\\u003c20)\",\"Coffee House\",\"Carry out & Take away\",\"Coffee House\",\"Bar\",\"Restaurant(20-50)\",\"Coffee House\",\"Coffee House\",\"Bar\",\"Restaurant(20-50)\",\"Carry out & Take away\",\"Restaurant(\\u003c20)\",\"Coffee House\",\"Restaurant(\\u003c20)\",\"Coffee House\",\"Carry out & Take away\",\"Coffee House\",\"Coffee House\",\"Restaurant(\\u003c20)\",\"Carry out & Take away\",\"Restaurant(\\u003c20)\",\"Carry out & Take away\",\"Bar\",\"Restaurant(\\u003c20)\",\"Restaurant(\\u003c20)\",\"Coffee House\",\"Bar\",\"Restaurant(20-50)\",\"Coffee House\",\"Coffee House\",\"Bar\",\"Restaurant(20-50)\",\"Carry out & Take away\",\"Restaurant(\\u003c20)\",\"Coffee House\",\"Restaurant(\\u003c20)\",\"Coffee House\",\"Bar\",\"Carry out & Take away\",\"Coffee House\",\"Coffee House\",\"Coffee House\",\"Restaurant(\\u003c20)\",\"Coffee House\",\"Restaurant(\\u003c20)\",\"Coffee House\",\"Carry out & Take away\",\"Coffee House\",\"Bar\",\"Restaurant(20-50)\",\"Coffee House\",\"Coffee House\",\"Bar\",\"Restaurant(20-50)\",\"Carry out & Take away\",\"Restaurant(\\u003c20)\",\"Coffee House\",\"Restaurant(\\u003c20)\",\"Coffee House\",\"Carry out & Take away\",\"Coffee House\",\"Coffee House\",\"Restaurant(\\u003c20)\",\"Carry out & Take away\",\"Restaurant(\\u003c20)\",\"Carry out & Take away\",\"Bar\",\"Restaurant(\\u003c20)\",\"Restaurant(\\u003c20)\",\"Coffee House\",\"Bar\",\"Restaurant(20-50)\",\"Coffee House\",\"Coffee House\",\"Bar\",\"Restaurant(20-50)\",\"Carry out & Take away\",\"Restaurant(\\u003c20)\",\"Coffee House\",\"Restaurant(\\u003c20)\",\"Coffee House\",\"Bar\",\"Carry out & Take away\",\"Coffee House\",\"Coffee House\",\"Coffee House\",\"Restaurant(\\u003c20)\",\"Coffee House\",\"Restaurant(\\u003c20)\",\"Coffee House\",\"Carry out & Take away\",\"Coffee House\",\"Coffee House\",\"Bar\",\"Restaurant(20-50)\",\"Coffee House\",\"Coffee House\",\"Bar\",\"Restaurant(20-50)\",\"Carry out & Take away\",\"Restaurant(\\u003c20)\",\"Coffee House\",\"Bar\",\"Coffee House\",\"Restaurant(\\u003c20)\",\"Coffee House\",\"Coffee House\",\"Coffee House\",\"Restaurant(\\u003c20)\",\"Coffee House\",\"Carry out & Take away\",\"Coffee House\",\"Coffee House\",\"Restaurant(\\u003c20)\",\"Carry out & Take away\",\"Restaurant(\\u003c20)\",\"Carry out & Take away\",\"Bar\",\"Restaurant(\\u003c20)\",\"Restaurant(\\u003c20)\",\"Coffee House\",\"Bar\",\"Restaurant(20-50)\",\"Coffee House\",\"Coffee House\",\"Restaurant(20-50)\",\"Carry out & Take away\",\"Restaurant(\\u003c20)\",\"Coffee House\",\"Restaurant(\\u003c20)\",\"Coffee House\",\"Carry out & Take away\",\"Coffee House\",\"Coffee House\",\"Restaurant(\\u003c20)\",\"Carry out & Take away\",\"Coffee House\",\"Restaurant(20-50)\",\"Bar\",\"Coffee House\",\"Restaurant(\\u003c20)\",\"Bar\",\"Bar\",\"Restaurant(20-50)\",\"Coffee House\",\"Coffee House\",\"Bar\",\"Restaurant(20-50)\",\"Carry out & Take away\",\"Restaurant(\\u003c20)\",\"Coffee House\",\"Restaurant(\\u003c20)\",\"Carry out & Take away\",\"Coffee House\",\"Coffee House\",\"Restaurant(\\u003c20)\",\"Carry out & Take away\",\"Coffee House\",\"Restaurant(20-50)\",\"Bar\",\"Coffee House\",\"Restaurant(\\u003c20)\",\"Bar\",\"Bar\",\"Restaurant(20-50)\",\"Coffee House\",\"Bar\",\"Restaurant(20-50)\",\"Carry out & Take away\",\"Restaurant(\\u003c20)\",\"Coffee House\",\"Restaurant(\\u003c20)\",\"Coffee House\",\"Carry out & Take away\",\"Coffee House\",\"Coffee House\",\"Restaurant(\\u003c20)\",\"Carry out & Take away\",\"Restaurant(\\u003c20)\",\"Carry out & Take away\",\"Bar\",\"Restaurant(\\u003c20)\",\"Restaurant(\\u003c20)\",\"Coffee House\",\"Bar\",\"Restaurant(20-50)\",\"Coffee House\",\"Coffee House\",\"Bar\",\"Restaurant(20-50)\",\"Carry out & Take away\",\"Restaurant(\\u003c20)\",\"Coffee House\",\"Restaurant(\\u003c20)\",\"Coffee House\",\"Bar\",\"Carry out & Take away\",\"Coffee House\",\"Coffee House\",\"Coffee House\",\"Restaurant(\\u003c20)\",\"Coffee House\",\"Restaurant(\\u003c20)\",\"Coffee House\",\"Carry out & Take away\",\"Coffee House\",\"Bar\",\"Restaurant(20-50)\",\"Coffee House\",\"Coffee House\",\"Bar\",\"Restaurant(20-50)\",\"Carry out & Take away\",\"Restaurant(\\u003c20)\",\"Coffee House\",\"Restaurant(\\u003c20)\",\"Coffee House\",\"Carry out & Take away\",\"Coffee House\",\"Coffee House\",\"Restaurant(\\u003c20)\",\"Carry out & Take away\",\"Restaurant(\\u003c20)\",\"Carry out & Take away\",\"Bar\",\"Restaurant(\\u003c20)\",\"Restaurant(\\u003c20)\",\"Coffee House\",\"Bar\",\"Restaurant(20-50)\",\"Coffee House\",\"Coffee House\",\"Bar\",\"Restaurant(20-50)\",\"Carry out & Take away\",\"Restaurant(\\u003c20)\",\"Coffee House\",\"Restaurant(\\u003c20)\",\"Coffee House\",\"Carry out & Take away\",\"Coffee House\",\"Coffee House\",\"Restaurant(\\u003c20)\",\"Carry out & Take away\",\"Coffee House\",\"Restaurant(20-50)\",\"Bar\",\"Coffee House\",\"Restaurant(\\u003c20)\",\"Bar\",\"Bar\",\"Restaurant(20-50)\",\"Coffee House\",\"Coffee House\",\"Bar\",\"Restaurant(20-50)\",\"Carry out & Take away\",\"Restaurant(\\u003c20)\",\"Coffee House\",\"Restaurant(\\u003c20)\",\"Coffee House\",\"Bar\",\"Carry out & Take away\",\"Coffee House\",\"Coffee House\",\"Coffee House\",\"Restaurant(\\u003c20)\",\"Coffee House\",\"Restaurant(\\u003c20)\",\"Coffee House\",\"Carry out & Take away\",\"Coffee House\",\"Bar\",\"Restaurant(20-50)\",\"Coffee House\",\"Coffee House\",\"Bar\",\"Restaurant(20-50)\",\"Carry out & Take away\",\"Restaurant(\\u003c20)\",\"Coffee House\",\"Restaurant(\\u003c20)\",\"Coffee House\",\"Carry out & Take away\",\"Coffee House\",\"Coffee House\",\"Restaurant(\\u003c20)\",\"Carry out & Take away\",\"Bar\",\"Restaurant(20-50)\",\"Coffee House\",\"Coffee House\",\"Bar\",\"Restaurant(20-50)\",\"Carry out & Take away\",\"Restaurant(\\u003c20)\",\"Coffee House\",\"Restaurant(\\u003c20)\",\"Coffee House\",\"Carry out & Take away\",\"Coffee House\",\"Coffee House\",\"Restaurant(\\u003c20)\",\"Carry out & Take away\",\"Restaurant(\\u003c20)\",\"Carry out & Take away\",\"Bar\",\"Restaurant(\\u003c20)\",\"Restaurant(\\u003c20)\",\"Coffee House\",\"Bar\",\"Restaurant(20-50)\",\"Coffee House\",\"Coffee House\",\"Bar\",\"Restaurant(20-50)\",\"Carry out & Take away\",\"Restaurant(\\u003c20)\",\"Coffee House\",\"Bar\",\"Coffee House\",\"Restaurant(\\u003c20)\",\"Coffee House\",\"Coffee House\",\"Coffee House\",\"Restaurant(\\u003c20)\",\"Coffee House\",\"Bar\",\"Carry out & Take away\",\"Coffee House\",\"Coffee House\",\"Coffee House\",\"Restaurant(\\u003c20)\",\"Coffee House\",\"Restaurant(\\u003c20)\",\"Coffee House\",\"Carry out & Take away\",\"Coffee House\",\"Bar\",\"Restaurant(20-50)\",\"Coffee House\",\"Coffee House\",\"Bar\",\"Restaurant(20-50)\",\"Carry out & Take away\",\"Restaurant(\\u003c20)\",\"Coffee House\",\"Restaurant(\\u003c20)\",\"Coffee House\",\"Carry out & Take away\",\"Coffee House\",\"Coffee House\",\"Restaurant(\\u003c20)\",\"Carry out & Take away\",\"Coffee House\",\"Restaurant(20-50)\",\"Bar\",\"Coffee House\",\"Restaurant(\\u003c20)\",\"Bar\",\"Bar\",\"Restaurant(20-50)\",\"Coffee House\",\"Coffee House\",\"Bar\",\"Restaurant(20-50)\",\"Carry out & Take away\",\"Restaurant(\\u003c20)\",\"Coffee House\",\"Restaurant(\\u003c20)\",\"Coffee House\",\"Carry out & Take away\",\"Coffee House\",\"Coffee House\",\"Restaurant(\\u003c20)\",\"Carry out & Take away\",\"Coffee House\",\"Restaurant(20-50)\",\"Bar\",\"Coffee House\",\"Restaurant(\\u003c20)\",\"Bar\",\"Bar\",\"Restaurant(20-50)\",\"Coffee House\",\"Coffee House\",\"Bar\",\"Restaurant(20-50)\",\"Carry out & Take away\",\"Restaurant(\\u003c20)\",\"Coffee House\",\"Restaurant(\\u003c20)\",\"Coffee House\",\"Bar\",\"Carry out & Take away\",\"Coffee House\",\"Coffee House\",\"Coffee House\",\"Restaurant(\\u003c20)\",\"Coffee House\",\"Restaurant(\\u003c20)\",\"Coffee House\",\"Carry out & Take away\",\"Coffee House\",\"Bar\",\"Restaurant(20-50)\",\"Coffee House\",\"Coffee House\",\"Bar\",\"Restaurant(20-50)\",\"Carry out & Take away\",\"Restaurant(\\u003c20)\",\"Coffee House\",\"Restaurant(\\u003c20)\",\"Coffee House\",\"Bar\",\"Carry out & Take away\",\"Coffee House\",\"Coffee House\",\"Coffee House\",\"Restaurant(\\u003c20)\",\"Coffee House\",\"Restaurant(\\u003c20)\",\"Coffee House\",\"Carry out & Take away\",\"Coffee House\",\"Bar\",\"Restaurant(20-50)\",\"Coffee House\",\"Coffee House\",\"Bar\",\"Restaurant(20-50)\",\"Carry out & Take away\",\"Restaurant(\\u003c20)\",\"Coffee House\",\"Restaurant(\\u003c20)\",\"Coffee House\",\"Carry out & Take away\",\"Coffee House\",\"Coffee House\",\"Restaurant(\\u003c20)\",\"Carry out & Take away\",\"Restaurant(\\u003c20)\",\"Carry out & Take away\",\"Bar\",\"Restaurant(\\u003c20)\",\"Restaurant(\\u003c20)\",\"Coffee House\",\"Bar\",\"Restaurant(20-50)\",\"Coffee House\",\"Coffee House\",\"Bar\",\"Restaurant(20-50)\",\"Carry out & Take away\",\"Restaurant(\\u003c20)\",\"Coffee House\",\"Restaurant(\\u003c20)\",\"Coffee House\",\"Carry out & Take away\",\"Coffee House\",\"Coffee House\",\"Restaurant(\\u003c20)\",\"Carry out & Take away\",\"Restaurant(\\u003c20)\",\"Carry out & Take away\",\"Bar\",\"Restaurant(\\u003c20)\",\"Restaurant(\\u003c20)\",\"Coffee House\",\"Bar\",\"Restaurant(20-50)\",\"Coffee House\",\"Coffee House\",\"Bar\",\"Restaurant(20-50)\",\"Carry out & Take away\",\"Restaurant(\\u003c20)\",\"Coffee House\",\"Restaurant(\\u003c20)\",\"Coffee House\",\"Carry out & Take away\",\"Coffee House\",\"Coffee House\",\"Restaurant(\\u003c20)\",\"Carry out & Take away\",\"Coffee House\",\"Restaurant(20-50)\",\"Bar\",\"Coffee House\",\"Restaurant(\\u003c20)\",\"Bar\",\"Bar\",\"Restaurant(20-50)\",\"Coffee House\",\"Coffee House\",\"Bar\",\"Restaurant(20-50)\",\"Carry out & Take away\",\"Restaurant(\\u003c20)\",\"Coffee House\",\"Restaurant(\\u003c20)\",\"Coffee House\",\"Bar\",\"Carry out & Take away\",\"Coffee House\",\"Coffee House\",\"Coffee House\",\"Restaurant(\\u003c20)\",\"Coffee House\",\"Restaurant(\\u003c20)\",\"Coffee House\",\"Carry out & Take away\",\"Coffee House\",\"Bar\",\"Restaurant(20-50)\",\"Coffee House\",\"Coffee House\",\"Bar\",\"Restaurant(20-50)\",\"Carry out & Take away\",\"Restaurant(\\u003c20)\",\"Coffee House\",\"Restaurant(\\u003c20)\",\"Coffee House\",\"Bar\",\"Carry out & Take away\",\"Coffee House\",\"Coffee House\",\"Coffee House\",\"Restaurant(\\u003c20)\",\"Coffee House\",\"Restaurant(\\u003c20)\",\"Coffee House\",\"Carry out & Take away\",\"Coffee House\",\"Bar\",\"Restaurant(20-50)\",\"Coffee House\",\"Coffee House\",\"Bar\",\"Restaurant(20-50)\",\"Carry out & Take away\",\"Restaurant(\\u003c20)\",\"Coffee House\",\"Restaurant(\\u003c20)\",\"Coffee House\",\"Carry out & Take away\",\"Coffee House\",\"Coffee House\",\"Restaurant(\\u003c20)\",\"Carry out & Take away\",\"Coffee House\",\"Restaurant(20-50)\",\"Bar\",\"Coffee House\",\"Restaurant(\\u003c20)\",\"Bar\",\"Bar\",\"Restaurant(20-50)\",\"Coffee House\",\"Coffee House\",\"Bar\",\"Restaurant(20-50)\",\"Carry out & Take away\",\"Restaurant(\\u003c20)\",\"Coffee House\",\"Restaurant(\\u003c20)\",\"Coffee House\",\"Bar\",\"Carry out & Take away\",\"Coffee House\",\"Coffee House\",\"Coffee House\",\"Restaurant(\\u003c20)\",\"Coffee House\",\"Restaurant(\\u003c20)\",\"Coffee House\",\"Carry out & Take away\",\"Coffee House\",\"Bar\",\"Restaurant(20-50)\",\"Coffee House\",\"Coffee House\",\"Bar\",\"Restaurant(20-50)\",\"Carry out & Take away\",\"Restaurant(\\u003c20)\",\"Coffee House\",\"Restaurant(\\u003c20)\",\"Coffee House\",\"Bar\",\"Carry out & Take away\",\"Coffee House\",\"Coffee House\",\"Coffee House\",\"Restaurant(\\u003c20)\",\"Coffee House\",\"Restaurant(\\u003c20)\",\"Coffee House\",\"Carry out & Take away\",\"Coffee House\",\"Bar\",\"Restaurant(20-50)\",\"Coffee House\",\"Coffee House\",\"Bar\",\"Restaurant(20-50)\",\"Carry out & Take away\",\"Restaurant(\\u003c20)\",\"Coffee House\",\"Restaurant(\\u003c20)\",\"Coffee House\",\"Carry out & Take away\",\"Coffee House\",\"Coffee House\",\"Restaurant(\\u003c20)\",\"Carry out & Take away\",\"Restaurant(\\u003c20)\",\"Carry out & Take away\",\"Bar\",\"Restaurant(\\u003c20)\",\"Restaurant(\\u003c20)\",\"Coffee House\",\"Bar\",\"Restaurant(20-50)\",\"Coffee House\",\"Coffee House\",\"Bar\",\"Restaurant(20-50)\",\"Carry out & Take away\",\"Restaurant(\\u003c20)\",\"Coffee House\",\"Restaurant(\\u003c20)\",\"Coffee House\",\"Carry out & Take away\",\"Coffee House\",\"Coffee House\",\"Restaurant(\\u003c20)\",\"Carry out & Take away\",\"Coffee House\",\"Restaurant(20-50)\",\"Bar\",\"Coffee House\",\"Restaurant(\\u003c20)\",\"Bar\",\"Bar\",\"Restaurant(20-50)\",\"Coffee House\",\"Coffee House\",\"Bar\",\"Restaurant(20-50)\",\"Carry out & Take away\",\"Restaurant(\\u003c20)\",\"Coffee House\",\"Restaurant(\\u003c20)\",\"Coffee House\",\"Carry out & Take away\",\"Coffee House\",\"Coffee House\",\"Restaurant(\\u003c20)\",\"Carry out & Take away\",\"Coffee House\",\"Restaurant(20-50)\",\"Bar\",\"Coffee House\",\"Restaurant(\\u003c20)\",\"Bar\",\"Bar\",\"Restaurant(20-50)\",\"Coffee House\",\"Coffee House\",\"Bar\",\"Restaurant(20-50)\",\"Carry out & Take away\",\"Restaurant(\\u003c20)\",\"Coffee House\",\"Restaurant(\\u003c20)\",\"Coffee House\",\"Bar\",\"Carry out & Take away\",\"Coffee House\",\"Coffee House\",\"Coffee House\",\"Restaurant(\\u003c20)\",\"Coffee House\",\"Restaurant(\\u003c20)\",\"Coffee House\",\"Carry out & Take away\",\"Coffee House\",\"Bar\",\"Restaurant(20-50)\",\"Coffee House\",\"Coffee House\",\"Bar\",\"Restaurant(20-50)\",\"Carry out & Take away\",\"Restaurant(\\u003c20)\",\"Coffee House\",\"Restaurant(\\u003c20)\",\"Coffee House\",\"Carry out & Take away\",\"Coffee House\",\"Coffee House\",\"Restaurant(\\u003c20)\",\"Carry out & Take away\",\"Coffee House\",\"Restaurant(20-50)\",\"Bar\",\"Coffee House\",\"Restaurant(\\u003c20)\",\"Bar\",\"Bar\",\"Restaurant(20-50)\",\"Coffee House\",\"Coffee House\",\"Bar\",\"Restaurant(20-50)\",\"Carry out & Take away\",\"Restaurant(\\u003c20)\",\"Coffee House\",\"Restaurant(\\u003c20)\",\"Coffee House\",\"Carry out & Take away\",\"Coffee House\",\"Coffee House\",\"Restaurant(\\u003c20)\",\"Carry out & Take away\",\"Restaurant(\\u003c20)\",\"Carry out & Take away\",\"Bar\",\"Restaurant(\\u003c20)\",\"Restaurant(\\u003c20)\",\"Coffee House\",\"Bar\",\"Restaurant(20-50)\",\"Coffee House\",\"Coffee House\",\"Bar\",\"Restaurant(20-50)\",\"Carry out & Take away\",\"Restaurant(\\u003c20)\",\"Coffee House\",\"Restaurant(\\u003c20)\",\"Coffee House\",\"Bar\",\"Carry out & Take away\",\"Coffee House\",\"Coffee House\",\"Coffee House\",\"Restaurant(\\u003c20)\",\"Coffee House\",\"Restaurant(\\u003c20)\",\"Coffee House\",\"Carry out & Take away\",\"Coffee House\",\"Bar\",\"Restaurant(20-50)\",\"Coffee House\",\"Coffee House\",\"Bar\",\"Restaurant(20-50)\",\"Carry out & Take away\",\"Restaurant(\\u003c20)\",\"Coffee House\",\"Restaurant(\\u003c20)\",\"Coffee House\",\"Carry out & Take away\",\"Coffee House\",\"Coffee House\",\"Restaurant(\\u003c20)\",\"Carry out & Take away\",\"Coffee House\",\"Restaurant(20-50)\",\"Bar\",\"Coffee House\",\"Restaurant(\\u003c20)\",\"Bar\",\"Bar\",\"Restaurant(20-50)\",\"Coffee House\",\"Coffee House\",\"Bar\",\"Restaurant(20-50)\",\"Carry out & Take away\",\"Restaurant(\\u003c20)\",\"Coffee House\",\"Restaurant(\\u003c20)\",\"Coffee House\",\"Carry out & Take away\",\"Coffee House\",\"Coffee House\",\"Restaurant(\\u003c20)\",\"Carry out & Take away\",\"Restaurant(\\u003c20)\",\"Carry out & Take away\",\"Bar\",\"Restaurant(\\u003c20)\",\"Restaurant(\\u003c20)\",\"Coffee House\",\"Bar\",\"Restaurant(20-50)\",\"Coffee House\",\"Coffee House\",\"Bar\",\"Restaurant(20-50)\",\"Carry out & Take away\",\"Restaurant(\\u003c20)\",\"Coffee House\",\"Restaurant(\\u003c20)\",\"Coffee House\",\"Bar\",\"Carry out & Take away\",\"Coffee House\",\"Coffee House\",\"Coffee House\",\"Restaurant(\\u003c20)\",\"Coffee House\",\"Restaurant(\\u003c20)\",\"Coffee House\",\"Carry out & Take away\",\"Coffee House\",\"Bar\",\"Restaurant(20-50)\",\"Coffee House\",\"Coffee House\",\"Bar\",\"Restaurant(20-50)\",\"Carry out & Take away\",\"Restaurant(\\u003c20)\",\"Coffee House\",\"Restaurant(\\u003c20)\",\"Coffee House\",\"Carry out & Take away\",\"Coffee House\",\"Coffee House\",\"Restaurant(\\u003c20)\",\"Carry out & Take away\",\"Coffee House\",\"Restaurant(20-50)\",\"Bar\",\"Coffee House\",\"Restaurant(\\u003c20)\",\"Bar\",\"Bar\",\"Restaurant(20-50)\",\"Coffee House\",\"Coffee House\",\"Bar\",\"Restaurant(20-50)\",\"Carry out & Take away\",\"Restaurant(\\u003c20)\",\"Coffee House\",\"Restaurant(\\u003c20)\",\"Coffee House\",\"Bar\",\"Carry out & Take away\",\"Coffee House\",\"Coffee House\",\"Coffee House\",\"Restaurant(\\u003c20)\",\"Coffee House\",\"Restaurant(\\u003c20)\",\"Coffee House\",\"Carry out & Take away\",\"Coffee House\",\"Bar\",\"Restaurant(20-50)\",\"Coffee House\",\"Coffee House\",\"Bar\",\"Restaurant(20-50)\",\"Carry out & Take away\",\"Restaurant(\\u003c20)\",\"Coffee House\",\"Restaurant(\\u003c20)\",\"Coffee House\",\"Bar\",\"Carry out & Take away\",\"Coffee House\",\"Coffee House\",\"Coffee House\",\"Restaurant(\\u003c20)\",\"Coffee House\",\"Restaurant(\\u003c20)\",\"Coffee House\",\"Carry out & Take away\",\"Coffee House\",\"Bar\",\"Restaurant(20-50)\",\"Coffee House\",\"Coffee House\",\"Bar\",\"Restaurant(20-50)\",\"Carry out & Take away\",\"Restaurant(\\u003c20)\",\"Coffee House\",\"Restaurant(\\u003c20)\",\"Coffee House\",\"Carry out & Take away\",\"Coffee House\",\"Coffee House\",\"Restaurant(\\u003c20)\",\"Carry out & Take away\",\"Restaurant(\\u003c20)\",\"Carry out & Take away\",\"Bar\",\"Restaurant(\\u003c20)\",\"Restaurant(\\u003c20)\",\"Coffee House\",\"Bar\",\"Restaurant(20-50)\",\"Coffee House\",\"Coffee House\",\"Bar\",\"Restaurant(20-50)\",\"Carry out & Take away\",\"Restaurant(\\u003c20)\",\"Coffee House\",\"Restaurant(\\u003c20)\",\"Coffee House\",\"Bar\",\"Carry out & Take away\",\"Coffee House\",\"Coffee House\",\"Coffee House\",\"Restaurant(\\u003c20)\",\"Coffee House\",\"Restaurant(\\u003c20)\",\"Coffee House\",\"Carry out & Take away\",\"Coffee House\",\"Bar\",\"Restaurant(20-50)\",\"Coffee House\",\"Coffee House\",\"Bar\",\"Restaurant(20-50)\",\"Carry out & Take away\",\"Restaurant(\\u003c20)\",\"Coffee House\",\"Restaurant(\\u003c20)\",\"Coffee House\",\"Bar\",\"Carry out & Take away\",\"Coffee House\",\"Coffee House\",\"Coffee House\",\"Restaurant(\\u003c20)\",\"Coffee House\",\"Restaurant(\\u003c20)\",\"Coffee House\",\"Carry out & Take away\",\"Coffee House\",\"Bar\",\"Restaurant(20-50)\",\"Coffee House\",\"Coffee House\",\"Bar\",\"Restaurant(20-50)\",\"Carry out & Take away\",\"Restaurant(\\u003c20)\",\"Coffee House\",\"Bar\",\"Coffee House\",\"Restaurant(\\u003c20)\",\"Restaurant(\\u003c20)\",\"Coffee House\",\"Restaurant(\\u003c20)\",\"Carry out & Take away\",\"Bar\",\"Restaurant(\\u003c20)\",\"Coffee House\",\"Coffee House\",\"Coffee House\",\"Coffee House\",\"Restaurant(\\u003c20)\",\"Coffee House\",\"Restaurant(\\u003c20)\",\"Carry out & Take away\",\"Coffee House\",\"Coffee House\",\"Carry out & Take away\",\"Carry out & Take away\",\"Coffee House\",\"Bar\",\"Coffee House\",\"Restaurant(\\u003c20)\",\"Restaurant(\\u003c20)\",\"Coffee House\",\"Coffee House\",\"Restaurant(20-50)\",\"Coffee House\",\"Coffee House\",\"Restaurant(\\u003c20)\",\"Bar\",\"Coffee House\",\"Coffee House\",\"Restaurant(\\u003c20)\",\"Coffee House\",\"Restaurant(\\u003c20)\",\"Carry out & Take away\",\"Coffee House\",\"Coffee House\",\"Carry out & Take away\",\"Carry out & Take away\",\"Coffee House\",\"Bar\",\"Coffee House\",\"Restaurant(\\u003c20)\",\"Restaurant(\\u003c20)\",\"Coffee House\",\"Coffee House\",\"Restaurant(20-50)\",\"Coffee House\",\"Coffee House\",\"Restaurant(\\u003c20)\",\"Bar\",\"Coffee House\",\"Coffee House\",\"Restaurant(\\u003c20)\",\"Coffee House\",\"Restaurant(\\u003c20)\",\"Carry out & Take away\",\"Coffee House\",\"Coffee House\",\"Carry out & Take away\",\"Carry out & Take away\",\"Coffee House\",\"Bar\",\"Coffee House\",\"Restaurant(\\u003c20)\",\"Restaurant(\\u003c20)\",\"Coffee House\",\"Restaurant(\\u003c20)\",\"Carry out & Take away\",\"Bar\",\"Restaurant(\\u003c20)\",\"Coffee House\",\"Coffee House\",\"Coffee House\",\"Coffee House\",\"Restaurant(\\u003c20)\",\"Coffee House\",\"Restaurant(\\u003c20)\",\"Carry out & Take away\",\"Coffee House\",\"Coffee House\",\"Carry out & Take away\",\"Carry out & Take away\",\"Coffee House\",\"Bar\",\"Coffee House\",\"Restaurant(\\u003c20)\",\"Restaurant(\\u003c20)\",\"Coffee House\",\"Coffee House\",\"Restaurant(20-50)\",\"Coffee House\",\"Coffee House\",\"Restaurant(\\u003c20)\",\"Bar\",\"Coffee House\",\"Coffee House\",\"Restaurant(\\u003c20)\",\"Coffee House\",\"Restaurant(\\u003c20)\",\"Carry out & Take away\",\"Coffee House\",\"Coffee House\",\"Carry out & Take away\",\"Carry out & Take away\",\"Coffee House\",\"Bar\",\"Coffee House\",\"Restaurant(\\u003c20)\",\"Restaurant(\\u003c20)\",\"Coffee House\",\"Restaurant(\\u003c20)\",\"Carry out & Take away\",\"Bar\",\"Restaurant(\\u003c20)\",\"Coffee House\",\"Coffee House\",\"Coffee House\",\"Coffee House\",\"Restaurant(\\u003c20)\",\"Coffee House\",\"Restaurant(\\u003c20)\",\"Carry out & Take away\",\"Coffee House\",\"Coffee House\",\"Carry out & Take away\",\"Carry out & Take away\",\"Coffee House\",\"Coffee House\",\"Restaurant(\\u003c20)\",\"Restaurant(\\u003c20)\",\"Coffee House\",\"Restaurant(\\u003c20)\",\"Carry out & Take away\",\"Bar\",\"Restaurant(\\u003c20)\",\"Coffee House\",\"Coffee House\",\"Coffee House\",\"Coffee House\",\"Restaurant(\\u003c20)\",\"Coffee House\",\"Restaurant(\\u003c20)\",\"Carry out & Take away\",\"Coffee House\",\"Coffee House\",\"Carry out & Take away\",\"Carry out & Take away\",\"Coffee House\",\"Bar\",\"Coffee House\",\"Restaurant(\\u003c20)\",\"Restaurant(\\u003c20)\",\"Coffee House\",\"Coffee House\",\"Restaurant(20-50)\",\"Coffee House\",\"Coffee House\",\"Restaurant(\\u003c20)\",\"Bar\",\"Coffee House\",\"Coffee House\",\"Restaurant(\\u003c20)\",\"Coffee House\",\"Restaurant(\\u003c20)\",\"Carry out & Take away\",\"Coffee House\",\"Coffee House\",\"Carry out & Take away\",\"Carry out & Take away\",\"Coffee House\",\"Bar\",\"Coffee House\",\"Restaurant(\\u003c20)\",\"Restaurant(\\u003c20)\",\"Coffee House\",\"Restaurant(\\u003c20)\",\"Restaurant(20-50)\",\"Coffee House\",\"Coffee House\",\"Carry out & Take away\",\"Restaurant(\\u003c20)\",\"Coffee House\",\"Restaurant(\\u003c20)\",\"Carry out & Take away\",\"Bar\",\"Coffee House\",\"Coffee House\",\"Restaurant(20-50)\",\"Carry out & Take away\",\"Carry out & Take away\",\"Carry out & Take away\",\"Coffee House\",\"Bar\",\"Coffee House\",\"Restaurant(\\u003c20)\",\"Restaurant(\\u003c20)\",\"Coffee House\",\"Coffee House\",\"Restaurant(20-50)\",\"Coffee House\",\"Coffee House\",\"Restaurant(\\u003c20)\",\"Bar\",\"Coffee House\",\"Coffee House\",\"Restaurant(\\u003c20)\",\"Coffee House\",\"Restaurant(\\u003c20)\",\"Carry out & Take away\",\"Coffee House\",\"Coffee House\",\"Carry out & Take away\",\"Carry out & Take away\",\"Coffee House\",\"Bar\",\"Coffee House\",\"Restaurant(\\u003c20)\",\"Restaurant(\\u003c20)\",\"Coffee House\",\"Restaurant(\\u003c20)\",\"Restaurant(20-50)\",\"Coffee House\",\"Coffee House\",\"Carry out & Take away\",\"Restaurant(\\u003c20)\",\"Coffee House\",\"Restaurant(\\u003c20)\",\"Carry out & Take away\",\"Bar\",\"Coffee House\",\"Coffee House\",\"Restaurant(20-50)\",\"Carry out & Take away\",\"Carry out & Take away\",\"Carry out & Take away\",\"Coffee House\",\"Bar\",\"Coffee House\",\"Restaurant(\\u003c20)\",\"Restaurant(\\u003c20)\",\"Coffee House\",\"Restaurant(\\u003c20)\",\"Restaurant(20-50)\",\"Coffee House\",\"Coffee House\",\"Carry out & Take away\",\"Restaurant(\\u003c20)\",\"Coffee House\",\"Restaurant(\\u003c20)\",\"Carry out & Take away\",\"Bar\",\"Coffee House\",\"Coffee House\",\"Restaurant(20-50)\",\"Carry out & Take away\",\"Carry out & Take away\",\"Carry out & Take away\",\"Coffee House\",\"Bar\",\"Coffee House\",\"Restaurant(\\u003c20)\",\"Restaurant(\\u003c20)\",\"Coffee House\",\"Restaurant(\\u003c20)\",\"Restaurant(20-50)\",\"Coffee House\",\"Coffee House\",\"Carry out & Take away\",\"Restaurant(\\u003c20)\",\"Coffee House\",\"Restaurant(\\u003c20)\",\"Carry out & Take away\",\"Bar\",\"Coffee House\",\"Coffee House\",\"Restaurant(20-50)\",\"Carry out & Take away\",\"Carry out & Take away\",\"Carry out & Take away\",\"Coffee House\",\"Bar\",\"Coffee House\",\"Restaurant(\\u003c20)\",\"Restaurant(\\u003c20)\",\"Coffee House\",\"Coffee House\",\"Restaurant(20-50)\",\"Coffee House\",\"Coffee House\",\"Restaurant(\\u003c20)\",\"Bar\",\"Coffee House\",\"Coffee House\",\"Restaurant(\\u003c20)\",\"Coffee House\",\"Restaurant(\\u003c20)\",\"Carry out & Take away\",\"Coffee House\",\"Coffee House\",\"Carry out & Take away\",\"Carry out & Take away\",\"Coffee House\",\"Bar\",\"Coffee House\",\"Restaurant(\\u003c20)\",\"Restaurant(\\u003c20)\",\"Coffee House\",\"Restaurant(\\u003c20)\",\"Restaurant(20-50)\",\"Coffee House\",\"Coffee House\",\"Carry out & Take away\",\"Restaurant(\\u003c20)\",\"Coffee House\",\"Restaurant(\\u003c20)\",\"Carry out & Take away\",\"Bar\",\"Coffee House\",\"Coffee House\",\"Restaurant(20-50)\",\"Carry out & Take away\",\"Carry out & Take away\",\"Carry out & Take away\",\"Coffee House\",\"Bar\",\"Coffee House\",\"Restaurant(\\u003c20)\",\"Restaurant(\\u003c20)\",\"Coffee House\",\"Coffee House\",\"Coffee House\",\"Restaurant(\\u003c20)\",\"Bar\",\"Coffee House\",\"Coffee House\",\"Restaurant(\\u003c20)\",\"Coffee House\",\"Restaurant(\\u003c20)\",\"Carry out & Take away\",\"Coffee House\",\"Carry out & Take away\",\"Carry out & Take away\",\"Coffee House\",\"Bar\",\"Coffee House\",\"Restaurant(\\u003c20)\",\"Restaurant(\\u003c20)\",\"Coffee House\",\"Coffee House\",\"Restaurant(20-50)\",\"Coffee House\",\"Coffee House\",\"Restaurant(\\u003c20)\",\"Bar\",\"Coffee House\",\"Coffee House\",\"Restaurant(\\u003c20)\",\"Coffee House\",\"Restaurant(\\u003c20)\",\"Carry out & Take away\",\"Coffee House\",\"Coffee House\",\"Carry out & Take away\",\"Carry out & Take away\",\"Coffee House\",\"Bar\",\"Coffee House\",\"Restaurant(\\u003c20)\",\"Restaurant(\\u003c20)\",\"Coffee House\",\"Coffee House\",\"Restaurant(20-50)\",\"Coffee House\",\"Coffee House\",\"Restaurant(\\u003c20)\",\"Bar\",\"Coffee House\",\"Coffee House\",\"Restaurant(\\u003c20)\",\"Coffee House\",\"Restaurant(\\u003c20)\",\"Carry out & Take away\",\"Coffee House\",\"Coffee House\",\"Carry out & Take away\",\"Carry out & Take away\",\"Coffee House\",\"Bar\",\"Coffee House\",\"Restaurant(\\u003c20)\",\"Restaurant(\\u003c20)\",\"Coffee House\",\"Restaurant(\\u003c20)\",\"Restaurant(20-50)\",\"Coffee House\",\"Coffee House\",\"Carry out & Take away\",\"Restaurant(\\u003c20)\",\"Coffee House\",\"Restaurant(\\u003c20)\",\"Carry out & Take away\",\"Bar\",\"Coffee House\",\"Coffee House\",\"Restaurant(20-50)\",\"Carry out & Take away\",\"Carry out & Take away\",\"Carry out & Take away\",\"Coffee House\",\"Bar\",\"Coffee House\",\"Restaurant(\\u003c20)\",\"Restaurant(\\u003c20)\",\"Coffee House\",\"Coffee House\",\"Restaurant(20-50)\",\"Coffee House\",\"Coffee House\",\"Restaurant(\\u003c20)\",\"Bar\",\"Coffee House\",\"Coffee House\",\"Restaurant(\\u003c20)\",\"Coffee House\",\"Restaurant(\\u003c20)\",\"Carry out & Take away\",\"Coffee House\",\"Coffee House\",\"Carry out & Take away\",\"Carry out & Take away\",\"Coffee House\",\"Bar\",\"Coffee House\",\"Restaurant(\\u003c20)\",\"Restaurant(\\u003c20)\",\"Coffee House\",\"Coffee House\",\"Restaurant(20-50)\",\"Coffee House\",\"Coffee House\",\"Restaurant(\\u003c20)\",\"Bar\",\"Coffee House\",\"Coffee House\",\"Restaurant(\\u003c20)\",\"Coffee House\",\"Restaurant(\\u003c20)\",\"Carry out & Take away\",\"Coffee House\",\"Coffee House\",\"Carry out & Take away\",\"Carry out & Take away\",\"Coffee House\",\"Bar\",\"Coffee House\",\"Restaurant(\\u003c20)\",\"Restaurant(\\u003c20)\",\"Coffee House\",\"Restaurant(\\u003c20)\",\"Restaurant(20-50)\",\"Coffee House\",\"Coffee House\",\"Carry out & Take away\",\"Restaurant(\\u003c20)\",\"Coffee House\",\"Restaurant(\\u003c20)\",\"Carry out & Take away\",\"Bar\",\"Coffee House\",\"Coffee House\",\"Restaurant(20-50)\",\"Carry out & Take away\",\"Carry out & Take away\",\"Carry out & Take away\",\"Coffee House\",\"Bar\",\"Coffee House\",\"Restaurant(\\u003c20)\",\"Restaurant(\\u003c20)\",\"Coffee House\",\"Restaurant(\\u003c20)\",\"Coffee House\",\"Restaurant(20-50)\",\"Coffee House\",\"Coffee House\",\"Carry out & Take away\",\"Restaurant(\\u003c20)\",\"Coffee House\",\"Restaurant(\\u003c20)\",\"Carry out & Take away\",\"Bar\",\"Coffee House\",\"Coffee House\",\"Restaurant(20-50)\",\"Carry out & Take away\",\"Carry out & Take away\",\"Carry out & Take away\",\"Coffee House\",\"Bar\",\"Coffee House\",\"Restaurant(\\u003c20)\",\"Restaurant(\\u003c20)\",\"Coffee House\",\"Coffee House\",\"Restaurant(20-50)\",\"Coffee House\",\"Coffee House\",\"Restaurant(\\u003c20)\",\"Bar\",\"Coffee House\",\"Coffee House\",\"Restaurant(\\u003c20)\",\"Coffee House\",\"Restaurant(\\u003c20)\",\"Carry out & Take away\",\"Coffee House\",\"Coffee House\",\"Carry out & Take away\",\"Carry out & Take away\",\"Coffee House\",\"Bar\",\"Coffee House\",\"Restaurant(\\u003c20)\",\"Restaurant(\\u003c20)\",\"Coffee House\",\"Restaurant(\\u003c20)\",\"Carry out & Take away\",\"Bar\",\"Restaurant(\\u003c20)\",\"Coffee House\",\"Coffee House\",\"Coffee House\",\"Coffee House\",\"Restaurant(\\u003c20)\",\"Coffee House\",\"Restaurant(\\u003c20)\",\"Carry out & Take away\",\"Coffee House\",\"Coffee House\",\"Carry out & Take away\",\"Carry out & Take away\",\"Coffee House\",\"Bar\",\"Coffee House\",\"Restaurant(\\u003c20)\",\"Restaurant(\\u003c20)\",\"Coffee House\",\"Restaurant(\\u003c20)\",\"Carry out & Take away\",\"Bar\",\"Restaurant(\\u003c20)\",\"Coffee House\",\"Coffee House\",\"Coffee House\",\"Coffee House\",\"Restaurant(\\u003c20)\",\"Coffee House\",\"Restaurant(\\u003c20)\",\"Carry out & Take away\",\"Coffee House\",\"Coffee House\",\"Carry out & Take away\",\"Carry out & Take away\",\"Coffee House\",\"Bar\",\"Coffee House\",\"Restaurant(\\u003c20)\",\"Restaurant(\\u003c20)\",\"Coffee House\",\"Coffee House\",\"Restaurant(20-50)\",\"Coffee House\",\"Coffee House\",\"Restaurant(\\u003c20)\",\"Bar\",\"Coffee House\",\"Coffee House\",\"Coffee House\",\"Restaurant(\\u003c20)\",\"Carry out & Take away\",\"Coffee House\",\"Coffee House\",\"Carry out & Take away\",\"Carry out & Take away\",\"Carry out & Take away\",\"Coffee House\",\"Bar\",\"Coffee House\",\"Restaurant(\\u003c20)\",\"Restaurant(\\u003c20)\",\"Coffee House\",\"Coffee House\",\"Restaurant(20-50)\",\"Coffee House\",\"Coffee House\",\"Restaurant(\\u003c20)\",\"Bar\",\"Coffee House\",\"Coffee House\",\"Restaurant(\\u003c20)\",\"Coffee House\",\"Restaurant(\\u003c20)\",\"Carry out & Take away\",\"Coffee House\",\"Coffee House\",\"Carry out & Take away\",\"Carry out & Take away\",\"Coffee House\",\"Bar\",\"Coffee House\",\"Restaurant(\\u003c20)\",\"Restaurant(\\u003c20)\",\"Coffee House\",\"Restaurant(\\u003c20)\",\"Restaurant(20-50)\",\"Coffee House\",\"Coffee House\",\"Carry out & Take away\",\"Restaurant(\\u003c20)\",\"Coffee House\",\"Restaurant(\\u003c20)\",\"Carry out & Take away\",\"Bar\",\"Coffee House\",\"Coffee House\",\"Restaurant(20-50)\",\"Carry out & Take away\",\"Carry out & Take away\",\"Carry out & Take away\",\"Coffee House\",\"Bar\",\"Coffee House\",\"Restaurant(\\u003c20)\",\"Restaurant(\\u003c20)\",\"Coffee House\",\"Restaurant(\\u003c20)\",\"Restaurant(20-50)\",\"Coffee House\",\"Coffee House\",\"Carry out & Take away\",\"Restaurant(\\u003c20)\",\"Coffee House\",\"Restaurant(\\u003c20)\",\"Carry out & Take away\",\"Bar\",\"Coffee House\",\"Coffee House\",\"Restaurant(20-50)\",\"Carry out & Take away\",\"Carry out & Take away\",\"Carry out & Take away\",\"Coffee House\",\"Bar\",\"Coffee House\",\"Restaurant(\\u003c20)\",\"Restaurant(\\u003c20)\",\"Coffee House\",\"Coffee House\",\"Restaurant(20-50)\",\"Coffee House\",\"Coffee House\",\"Restaurant(\\u003c20)\",\"Bar\",\"Coffee House\",\"Coffee House\",\"Restaurant(\\u003c20)\",\"Coffee House\",\"Restaurant(\\u003c20)\",\"Carry out & Take away\",\"Coffee House\",\"Coffee House\",\"Carry out & Take away\",\"Carry out & Take away\",\"Coffee House\",\"Bar\",\"Coffee House\",\"Restaurant(\\u003c20)\",\"Restaurant(\\u003c20)\",\"Coffee House\",\"Restaurant(\\u003c20)\",\"Carry out & Take away\",\"Bar\",\"Restaurant(\\u003c20)\",\"Coffee House\",\"Coffee House\",\"Coffee House\",\"Coffee House\",\"Restaurant(\\u003c20)\",\"Coffee House\",\"Restaurant(\\u003c20)\",\"Carry out & Take away\",\"Coffee House\",\"Coffee House\",\"Carry out & Take away\",\"Carry out & Take away\",\"Coffee House\",\"Bar\",\"Coffee House\",\"Restaurant(\\u003c20)\",\"Restaurant(\\u003c20)\",\"Coffee House\",\"Coffee House\",\"Restaurant(20-50)\",\"Coffee House\",\"Coffee House\",\"Restaurant(\\u003c20)\",\"Bar\",\"Coffee House\",\"Coffee House\",\"Restaurant(\\u003c20)\",\"Coffee House\",\"Restaurant(\\u003c20)\",\"Carry out & Take away\",\"Coffee House\",\"Coffee House\",\"Carry out & Take away\",\"Carry out & Take away\",\"Coffee House\",\"Bar\",\"Coffee House\",\"Restaurant(\\u003c20)\",\"Restaurant(\\u003c20)\",\"Coffee House\",\"Restaurant(\\u003c20)\",\"Coffee House\",\"Coffee House\",\"Carry out & Take away\",\"Restaurant(\\u003c20)\",\"Coffee House\",\"Restaurant(\\u003c20)\",\"Carry out & Take away\",\"Bar\",\"Coffee House\",\"Coffee House\",\"Restaurant(20-50)\",\"Carry out & Take away\",\"Carry out & Take away\",\"Carry out & Take away\",\"Coffee House\",\"Bar\",\"Coffee House\",\"Restaurant(\\u003c20)\",\"Restaurant(\\u003c20)\",\"Coffee House\",\"Restaurant(\\u003c20)\",\"Restaurant(20-50)\",\"Coffee House\",\"Coffee House\",\"Carry out & Take away\",\"Restaurant(\\u003c20)\",\"Coffee House\",\"Restaurant(\\u003c20)\",\"Carry out & Take away\",\"Bar\",\"Coffee House\",\"Coffee House\",\"Restaurant(20-50)\",\"Carry out & Take away\",\"Carry out & Take away\",\"Carry out & Take away\",\"Coffee House\",\"Bar\",\"Coffee House\",\"Restaurant(\\u003c20)\",\"Restaurant(\\u003c20)\",\"Coffee House\",\"Coffee House\",\"Restaurant(20-50)\",\"Coffee House\",\"Coffee House\",\"Restaurant(\\u003c20)\",\"Bar\",\"Coffee House\",\"Coffee House\",\"Restaurant(\\u003c20)\",\"Coffee House\",\"Restaurant(\\u003c20)\",\"Carry out & Take away\",\"Coffee House\",\"Coffee House\",\"Carry out & Take away\",\"Carry out & Take away\",\"Coffee House\",\"Bar\",\"Coffee House\",\"Restaurant(\\u003c20)\",\"Restaurant(\\u003c20)\",\"Coffee House\",\"Restaurant(\\u003c20)\",\"Restaurant(20-50)\",\"Coffee House\",\"Coffee House\",\"Carry out & Take away\",\"Restaurant(\\u003c20)\",\"Coffee House\",\"Restaurant(\\u003c20)\",\"Carry out & Take away\",\"Bar\",\"Coffee House\",\"Coffee House\",\"Restaurant(20-50)\",\"Carry out & Take away\",\"Carry out & Take away\",\"Carry out & Take away\",\"Coffee House\",\"Bar\",\"Coffee House\",\"Restaurant(\\u003c20)\",\"Restaurant(\\u003c20)\",\"Coffee House\",\"Restaurant(\\u003c20)\",\"Restaurant(20-50)\",\"Coffee House\",\"Coffee House\",\"Carry out & Take away\",\"Restaurant(\\u003c20)\",\"Coffee House\",\"Restaurant(\\u003c20)\",\"Carry out & Take away\",\"Bar\",\"Coffee House\",\"Coffee House\",\"Restaurant(20-50)\",\"Carry out & Take away\",\"Carry out & Take away\",\"Carry out & Take away\",\"Coffee House\",\"Bar\",\"Coffee House\",\"Restaurant(\\u003c20)\",\"Restaurant(\\u003c20)\",\"Coffee House\",\"Restaurant(\\u003c20)\",\"Restaurant(20-50)\",\"Coffee House\",\"Coffee House\",\"Carry out & Take away\",\"Restaurant(\\u003c20)\",\"Coffee House\",\"Restaurant(\\u003c20)\",\"Carry out & Take away\",\"Bar\",\"Coffee House\",\"Coffee House\",\"Restaurant(20-50)\",\"Carry out & Take away\",\"Carry out & Take away\",\"Carry out & Take away\",\"Coffee House\",\"Bar\",\"Coffee House\",\"Restaurant(\\u003c20)\",\"Restaurant(\\u003c20)\",\"Coffee House\",\"Restaurant(\\u003c20)\",\"Restaurant(20-50)\",\"Coffee House\",\"Coffee House\",\"Carry out & Take away\",\"Restaurant(\\u003c20)\",\"Coffee House\",\"Restaurant(\\u003c20)\",\"Carry out & Take away\",\"Bar\",\"Coffee House\",\"Coffee House\",\"Restaurant(20-50)\",\"Carry out & Take away\",\"Carry out & Take away\",\"Carry out & Take away\",\"Coffee House\",\"Bar\",\"Coffee House\",\"Restaurant(\\u003c20)\",\"Restaurant(\\u003c20)\",\"Coffee House\",\"Restaurant(\\u003c20)\",\"Carry out & Take away\",\"Bar\",\"Restaurant(\\u003c20)\",\"Coffee House\",\"Coffee House\",\"Coffee House\",\"Coffee House\",\"Restaurant(\\u003c20)\",\"Coffee House\",\"Restaurant(\\u003c20)\",\"Carry out & Take away\",\"Coffee House\",\"Coffee House\",\"Carry out & Take away\",\"Carry out & Take away\",\"Coffee House\",\"Bar\",\"Coffee House\",\"Restaurant(\\u003c20)\",\"Restaurant(\\u003c20)\",\"Coffee House\",\"Restaurant(\\u003c20)\",\"Carry out & Take away\",\"Bar\",\"Restaurant(\\u003c20)\",\"Coffee House\",\"Coffee House\",\"Coffee House\",\"Coffee House\",\"Restaurant(\\u003c20)\",\"Coffee House\",\"Restaurant(\\u003c20)\",\"Carry out & Take away\",\"Coffee House\",\"Coffee House\",\"Carry out & Take away\",\"Carry out & Take away\",\"Coffee House\",\"Bar\",\"Coffee House\",\"Restaurant(\\u003c20)\",\"Restaurant(\\u003c20)\",\"Coffee House\",\"Restaurant(\\u003c20)\",\"Carry out & Take away\",\"Bar\",\"Restaurant(\\u003c20)\",\"Coffee House\",\"Coffee House\",\"Coffee House\",\"Coffee House\",\"Restaurant(\\u003c20)\",\"Coffee House\",\"Restaurant(\\u003c20)\",\"Carry out & Take away\",\"Coffee House\",\"Coffee House\",\"Carry out & Take away\",\"Carry out & Take away\",\"Coffee House\",\"Bar\",\"Coffee House\",\"Restaurant(\\u003c20)\",\"Restaurant(\\u003c20)\",\"Coffee House\",\"Restaurant(\\u003c20)\",\"Restaurant(20-50)\",\"Coffee House\",\"Coffee House\",\"Carry out & Take away\",\"Restaurant(\\u003c20)\",\"Coffee House\",\"Restaurant(\\u003c20)\",\"Carry out & Take away\",\"Bar\",\"Coffee House\",\"Coffee House\",\"Restaurant(20-50)\",\"Carry out & Take away\",\"Carry out & Take away\",\"Carry out & Take away\",\"Coffee House\",\"Bar\",\"Coffee House\",\"Restaurant(\\u003c20)\",\"Restaurant(\\u003c20)\",\"Coffee House\",\"Restaurant(\\u003c20)\",\"Coffee House\",\"Coffee House\",\"Carry out & Take away\",\"Restaurant(\\u003c20)\",\"Coffee House\",\"Restaurant(\\u003c20)\",\"Carry out & Take away\",\"Bar\",\"Coffee House\",\"Coffee House\",\"Restaurant(20-50)\",\"Carry out & Take away\",\"Carry out & Take away\",\"Carry out & Take away\",\"Coffee House\",\"Bar\",\"Coffee House\",\"Restaurant(\\u003c20)\",\"Restaurant(\\u003c20)\",\"Coffee House\",\"Restaurant(\\u003c20)\",\"Restaurant(20-50)\",\"Coffee House\",\"Coffee House\",\"Carry out & Take away\",\"Restaurant(\\u003c20)\",\"Coffee House\",\"Restaurant(\\u003c20)\",\"Carry out & Take away\",\"Bar\",\"Coffee House\",\"Coffee House\",\"Restaurant(20-50)\",\"Carry out & Take away\",\"Carry out & Take away\",\"Carry out & Take away\",\"Coffee House\",\"Bar\",\"Coffee House\",\"Restaurant(\\u003c20)\",\"Restaurant(\\u003c20)\",\"Coffee House\",\"Coffee House\",\"Restaurant(20-50)\",\"Coffee House\",\"Coffee House\",\"Restaurant(\\u003c20)\",\"Bar\",\"Coffee House\",\"Coffee House\",\"Restaurant(\\u003c20)\",\"Coffee House\",\"Restaurant(\\u003c20)\",\"Carry out & Take away\",\"Coffee House\",\"Coffee House\",\"Carry out & Take away\",\"Carry out & Take away\",\"Coffee House\",\"Bar\",\"Coffee House\",\"Restaurant(\\u003c20)\",\"Restaurant(\\u003c20)\",\"Coffee House\",\"Restaurant(\\u003c20)\",\"Coffee House\",\"Restaurant(20-50)\",\"Coffee House\",\"Coffee House\",\"Restaurant(\\u003c20)\",\"Bar\",\"Restaurant(\\u003c20)\",\"Carry out & Take away\",\"Bar\",\"Restaurant(\\u003c20)\",\"Coffee House\",\"Coffee House\",\"Restaurant(20-50)\",\"Coffee House\",\"Coffee House\",\"Carry out & Take away\",\"Restaurant(\\u003c20)\",\"Coffee House\",\"Restaurant(\\u003c20)\",\"Carry out & Take away\",\"Bar\",\"Coffee House\",\"Coffee House\",\"Restaurant(20-50)\",\"Carry out & Take away\",\"Carry out & Take away\",\"Carry out & Take away\",\"Coffee House\",\"Bar\",\"Coffee House\",\"Restaurant(\\u003c20)\",\"Restaurant(\\u003c20)\",\"Coffee House\",\"Coffee House\",\"Restaurant(20-50)\",\"Coffee House\",\"Coffee House\",\"Restaurant(\\u003c20)\",\"Bar\",\"Coffee House\",\"Coffee House\",\"Restaurant(\\u003c20)\",\"Coffee House\",\"Restaurant(\\u003c20)\",\"Carry out & Take away\",\"Coffee House\",\"Coffee House\",\"Carry out & Take away\",\"Carry out & Take away\",\"Coffee House\",\"Bar\",\"Coffee House\",\"Restaurant(\\u003c20)\",\"Restaurant(\\u003c20)\",\"Coffee House\",\"Restaurant(\\u003c20)\",\"Restaurant(20-50)\",\"Coffee House\",\"Coffee House\",\"Carry out & Take away\",\"Restaurant(\\u003c20)\",\"Coffee House\",\"Restaurant(\\u003c20)\",\"Carry out & Take away\",\"Bar\",\"Coffee House\",\"Coffee House\",\"Restaurant(20-50)\",\"Carry out & Take away\",\"Carry out & Take away\",\"Carry out & Take away\",\"Coffee House\",\"Bar\",\"Coffee House\",\"Restaurant(\\u003c20)\",\"Restaurant(\\u003c20)\",\"Coffee House\",\"Restaurant(\\u003c20)\",\"Restaurant(20-50)\",\"Coffee House\",\"Coffee House\",\"Carry out & Take away\",\"Restaurant(\\u003c20)\",\"Coffee House\",\"Restaurant(\\u003c20)\",\"Carry out & Take away\",\"Bar\",\"Coffee House\",\"Coffee House\",\"Restaurant(20-50)\",\"Carry out & Take away\",\"Carry out & Take away\",\"Carry out & Take away\",\"Coffee House\",\"Bar\",\"Coffee House\",\"Restaurant(\\u003c20)\",\"Restaurant(\\u003c20)\",\"Coffee House\",\"Restaurant(\\u003c20)\",\"Restaurant(20-50)\",\"Coffee House\",\"Coffee House\",\"Carry out & Take away\",\"Restaurant(\\u003c20)\",\"Coffee House\",\"Restaurant(\\u003c20)\",\"Carry out & Take away\",\"Bar\",\"Coffee House\",\"Coffee House\",\"Restaurant(20-50)\",\"Carry out & Take away\",\"Carry out & Take away\",\"Carry out & Take away\",\"Coffee House\",\"Bar\",\"Coffee House\",\"Restaurant(\\u003c20)\",\"Restaurant(\\u003c20)\",\"Coffee House\",\"Coffee House\",\"Restaurant(20-50)\",\"Coffee House\",\"Coffee House\",\"Restaurant(\\u003c20)\",\"Bar\",\"Coffee House\",\"Coffee House\",\"Restaurant(\\u003c20)\",\"Coffee House\",\"Restaurant(\\u003c20)\",\"Carry out & Take away\",\"Coffee House\",\"Coffee House\",\"Carry out & Take away\",\"Carry out & Take away\",\"Coffee House\",\"Bar\",\"Coffee House\",\"Restaurant(\\u003c20)\",\"Restaurant(\\u003c20)\",\"Coffee House\",\"Restaurant(\\u003c20)\",\"Restaurant(20-50)\",\"Coffee House\",\"Coffee House\",\"Carry out & Take away\",\"Restaurant(\\u003c20)\",\"Coffee House\",\"Restaurant(\\u003c20)\",\"Carry out & Take away\",\"Bar\",\"Coffee House\",\"Coffee House\",\"Restaurant(20-50)\",\"Carry out & Take away\",\"Carry out & Take away\",\"Carry out & Take away\",\"Coffee House\",\"Bar\",\"Coffee House\",\"Restaurant(\\u003c20)\",\"Restaurant(\\u003c20)\",\"Coffee House\",\"Restaurant(\\u003c20)\",\"Carry out & Take away\",\"Bar\",\"Restaurant(\\u003c20)\",\"Coffee House\",\"Coffee House\",\"Coffee House\",\"Coffee House\",\"Restaurant(\\u003c20)\",\"Coffee House\",\"Restaurant(\\u003c20)\",\"Carry out & Take away\",\"Coffee House\",\"Coffee House\",\"Carry out & Take away\",\"Carry out & Take away\",\"Coffee House\",\"Bar\",\"Coffee House\",\"Restaurant(\\u003c20)\",\"Restaurant(\\u003c20)\",\"Coffee House\",\"Restaurant(\\u003c20)\",\"Carry out & Take away\",\"Bar\",\"Restaurant(\\u003c20)\",\"Coffee House\",\"Coffee House\",\"Coffee House\",\"Coffee House\",\"Restaurant(\\u003c20)\",\"Coffee House\",\"Restaurant(\\u003c20)\",\"Carry out & Take away\",\"Coffee House\",\"Coffee House\",\"Carry out & Take away\",\"Carry out & Take away\",\"Coffee House\",\"Bar\",\"Coffee House\",\"Restaurant(\\u003c20)\",\"Restaurant(\\u003c20)\",\"Coffee House\",\"Coffee House\",\"Restaurant(20-50)\",\"Coffee House\",\"Coffee House\",\"Restaurant(\\u003c20)\",\"Bar\",\"Coffee House\",\"Coffee House\",\"Restaurant(\\u003c20)\",\"Coffee House\",\"Restaurant(\\u003c20)\",\"Carry out & Take away\",\"Coffee House\",\"Coffee House\",\"Carry out & Take away\",\"Carry out & Take away\",\"Coffee House\",\"Bar\",\"Coffee House\",\"Restaurant(\\u003c20)\",\"Restaurant(\\u003c20)\",\"Coffee House\",\"Restaurant(\\u003c20)\",\"Carry out & Take away\",\"Bar\",\"Restaurant(\\u003c20)\",\"Coffee House\",\"Coffee House\",\"Coffee House\",\"Coffee House\",\"Restaurant(\\u003c20)\",\"Coffee House\",\"Restaurant(\\u003c20)\",\"Carry out & Take away\",\"Coffee House\",\"Coffee House\",\"Carry out & Take away\",\"Carry out & Take away\",\"Coffee House\",\"Bar\",\"Coffee House\",\"Restaurant(\\u003c20)\",\"Restaurant(\\u003c20)\",\"Coffee House\",\"Coffee House\",\"Restaurant(20-50)\",\"Coffee House\",\"Coffee House\",\"Restaurant(\\u003c20)\",\"Bar\",\"Coffee House\",\"Coffee House\",\"Restaurant(\\u003c20)\",\"Coffee House\",\"Restaurant(\\u003c20)\",\"Carry out & Take away\",\"Coffee House\",\"Coffee House\",\"Carry out & Take away\",\"Carry out & Take away\",\"Coffee House\",\"Bar\",\"Coffee House\",\"Restaurant(\\u003c20)\",\"Restaurant(\\u003c20)\",\"Coffee House\",\"Coffee House\",\"Restaurant(20-50)\",\"Coffee House\",\"Coffee House\",\"Restaurant(\\u003c20)\",\"Bar\",\"Coffee House\",\"Coffee House\",\"Restaurant(\\u003c20)\",\"Coffee House\",\"Restaurant(\\u003c20)\",\"Carry out & Take away\",\"Coffee House\",\"Coffee House\",\"Carry out & Take away\",\"Carry out & Take away\",\"Coffee House\",\"Bar\",\"Coffee House\",\"Restaurant(\\u003c20)\",\"Restaurant(\\u003c20)\",\"Coffee House\",\"Coffee House\",\"Restaurant(20-50)\",\"Coffee House\",\"Coffee House\",\"Restaurant(\\u003c20)\",\"Bar\",\"Coffee House\",\"Coffee House\",\"Restaurant(\\u003c20)\",\"Coffee House\",\"Restaurant(\\u003c20)\",\"Carry out & Take away\",\"Coffee House\",\"Coffee House\",\"Carry out & Take away\",\"Carry out & Take away\",\"Coffee House\",\"Bar\",\"Coffee House\",\"Restaurant(\\u003c20)\",\"Restaurant(\\u003c20)\",\"Coffee House\",\"Coffee House\",\"Restaurant(20-50)\",\"Coffee House\",\"Coffee House\",\"Restaurant(\\u003c20)\",\"Bar\",\"Coffee House\",\"Coffee House\",\"Restaurant(\\u003c20)\",\"Coffee House\",\"Restaurant(\\u003c20)\",\"Carry out & Take away\",\"Coffee House\",\"Coffee House\",\"Carry out & Take away\",\"Carry out & Take away\",\"Coffee House\",\"Bar\",\"Coffee House\",\"Restaurant(\\u003c20)\",\"Restaurant(\\u003c20)\",\"Coffee House\",\"Restaurant(\\u003c20)\",\"Restaurant(20-50)\",\"Coffee House\",\"Coffee House\",\"Carry out & Take away\",\"Restaurant(\\u003c20)\",\"Coffee House\",\"Restaurant(\\u003c20)\",\"Carry out & Take away\",\"Bar\",\"Coffee House\",\"Coffee House\",\"Restaurant(20-50)\",\"Carry out & Take away\",\"Carry out & Take away\",\"Carry out & Take away\",\"Coffee House\",\"Bar\",\"Coffee House\",\"Restaurant(\\u003c20)\",\"Restaurant(\\u003c20)\",\"Coffee House\",\"Coffee House\",\"Restaurant(20-50)\",\"Coffee House\",\"Coffee House\",\"Restaurant(\\u003c20)\",\"Bar\",\"Coffee House\",\"Coffee House\",\"Restaurant(\\u003c20)\",\"Coffee House\",\"Restaurant(\\u003c20)\",\"Carry out & Take away\",\"Coffee House\",\"Coffee House\",\"Carry out & Take away\",\"Carry out & Take away\",\"Coffee House\",\"Bar\",\"Coffee House\",\"Restaurant(\\u003c20)\",\"Restaurant(\\u003c20)\",\"Coffee House\",\"Restaurant(\\u003c20)\",\"Restaurant(20-50)\",\"Coffee House\",\"Coffee House\",\"Carry out & Take away\",\"Restaurant(\\u003c20)\",\"Coffee House\",\"Restaurant(\\u003c20)\",\"Carry out & Take away\",\"Bar\",\"Coffee House\",\"Coffee House\",\"Restaurant(20-50)\",\"Carry out & Take away\",\"Carry out & Take away\",\"Carry out & Take away\",\"Coffee House\",\"Bar\",\"Coffee House\",\"Restaurant(\\u003c20)\",\"Restaurant(\\u003c20)\",\"Coffee House\",\"Restaurant(\\u003c20)\",\"Restaurant(20-50)\",\"Coffee House\",\"Coffee House\",\"Carry out & Take away\",\"Restaurant(\\u003c20)\",\"Coffee House\",\"Restaurant(\\u003c20)\",\"Carry out & Take away\",\"Bar\",\"Coffee House\",\"Coffee House\",\"Restaurant(20-50)\",\"Carry out & Take away\",\"Carry out & Take away\",\"Carry out & Take away\",\"Coffee House\",\"Bar\",\"Coffee House\",\"Restaurant(\\u003c20)\",\"Restaurant(\\u003c20)\",\"Coffee House\",\"Restaurant(\\u003c20)\",\"Restaurant(20-50)\",\"Coffee House\",\"Coffee House\",\"Carry out & Take away\",\"Restaurant(\\u003c20)\",\"Coffee House\",\"Restaurant(\\u003c20)\",\"Carry out & Take away\",\"Coffee House\",\"Coffee House\",\"Restaurant(20-50)\",\"Carry out & Take away\",\"Carry out & Take away\",\"Carry out & Take away\",\"Coffee House\",\"Bar\",\"Coffee House\",\"Restaurant(\\u003c20)\",\"Restaurant(\\u003c20)\",\"Coffee House\",\"Restaurant(\\u003c20)\",\"Restaurant(20-50)\",\"Coffee House\",\"Coffee House\",\"Carry out & Take away\",\"Restaurant(\\u003c20)\",\"Coffee House\",\"Restaurant(\\u003c20)\",\"Carry out & Take away\",\"Bar\",\"Coffee House\",\"Coffee House\",\"Restaurant(20-50)\",\"Carry out & Take away\",\"Carry out & Take away\",\"Carry out & Take away\",\"Coffee House\",\"Bar\",\"Coffee House\",\"Restaurant(\\u003c20)\",\"Restaurant(\\u003c20)\",\"Coffee House\",\"Coffee House\",\"Restaurant(20-50)\",\"Coffee House\",\"Coffee House\",\"Restaurant(\\u003c20)\",\"Bar\",\"Coffee House\",\"Coffee House\",\"Restaurant(\\u003c20)\",\"Coffee House\",\"Restaurant(\\u003c20)\",\"Carry out & Take away\",\"Coffee House\",\"Coffee House\",\"Carry out & Take away\",\"Carry out & Take away\",\"Coffee House\",\"Bar\",\"Coffee House\",\"Restaurant(\\u003c20)\",\"Restaurant(\\u003c20)\",\"Coffee House\",\"Restaurant(\\u003c20)\",\"Restaurant(20-50)\",\"Coffee House\",\"Coffee House\",\"Carry out & Take away\",\"Restaurant(\\u003c20)\",\"Coffee House\",\"Restaurant(\\u003c20)\",\"Carry out & Take away\",\"Bar\",\"Coffee House\",\"Coffee House\",\"Restaurant(20-50)\",\"Carry out & Take away\",\"Carry out & Take away\",\"Carry out & Take away\",\"Coffee House\",\"Bar\",\"Coffee House\",\"Restaurant(\\u003c20)\",\"Restaurant(\\u003c20)\",\"Coffee House\",\"Restaurant(\\u003c20)\",\"Carry out & Take away\",\"Bar\",\"Restaurant(\\u003c20)\",\"Coffee House\",\"Coffee House\",\"Coffee House\",\"Coffee House\",\"Restaurant(\\u003c20)\",\"Coffee House\",\"Restaurant(\\u003c20)\",\"Carry out & Take away\",\"Coffee House\",\"Coffee House\",\"Carry out & Take away\",\"Coffee House\",\"Bar\",\"Coffee House\",\"Restaurant(\\u003c20)\",\"Restaurant(\\u003c20)\",\"Coffee House\",\"Restaurant(\\u003c20)\",\"Carry out & Take away\",\"Bar\",\"Restaurant(\\u003c20)\",\"Coffee House\",\"Coffee House\",\"Coffee House\",\"Coffee House\",\"Restaurant(\\u003c20)\",\"Coffee House\",\"Restaurant(\\u003c20)\",\"Carry out & Take away\",\"Coffee House\",\"Coffee House\",\"Carry out & Take away\",\"Carry out & Take away\",\"Coffee House\",\"Bar\",\"Coffee House\",\"Restaurant(\\u003c20)\",\"Restaurant(\\u003c20)\",\"Coffee House\",\"Restaurant(\\u003c20)\",\"Restaurant(20-50)\",\"Coffee House\",\"Coffee House\",\"Carry out & Take away\",\"Restaurant(\\u003c20)\",\"Coffee House\",\"Restaurant(\\u003c20)\",\"Carry out & Take away\",\"Bar\",\"Coffee House\",\"Coffee House\",\"Restaurant(20-50)\",\"Carry out & Take away\",\"Carry out & Take away\",\"Carry out & Take away\",\"Coffee House\",\"Bar\",\"Coffee House\",\"Restaurant(\\u003c20)\",\"Restaurant(\\u003c20)\",\"Coffee House\",\"Restaurant(\\u003c20)\",\"Restaurant(20-50)\",\"Coffee House\",\"Coffee House\",\"Carry out & Take away\",\"Restaurant(\\u003c20)\",\"Coffee House\",\"Restaurant(\\u003c20)\",\"Carry out & Take away\",\"Bar\",\"Coffee House\",\"Coffee House\",\"Restaurant(20-50)\",\"Carry out & Take away\",\"Carry out & Take away\",\"Carry out & Take away\",\"Coffee House\",\"Bar\",\"Coffee House\",\"Restaurant(\\u003c20)\",\"Restaurant(\\u003c20)\",\"Coffee House\",\"Restaurant(\\u003c20)\",\"Restaurant(20-50)\",\"Coffee House\",\"Coffee House\",\"Carry out & Take away\",\"Restaurant(\\u003c20)\",\"Coffee House\",\"Restaurant(\\u003c20)\",\"Carry out & Take away\",\"Bar\",\"Coffee House\",\"Coffee House\",\"Restaurant(20-50)\",\"Carry out & Take away\",\"Carry out & Take away\",\"Carry out & Take away\",\"Coffee House\",\"Bar\",\"Coffee House\",\"Restaurant(\\u003c20)\",\"Restaurant(\\u003c20)\",\"Coffee House\",\"Restaurant(\\u003c20)\",\"Restaurant(20-50)\",\"Coffee House\",\"Coffee House\",\"Carry out & Take away\",\"Restaurant(\\u003c20)\",\"Coffee House\",\"Restaurant(\\u003c20)\",\"Carry out & Take away\",\"Bar\",\"Coffee House\",\"Coffee House\",\"Restaurant(20-50)\",\"Carry out & Take away\",\"Carry out & Take away\",\"Carry out & Take away\",\"Coffee House\",\"Bar\",\"Coffee House\",\"Restaurant(\\u003c20)\",\"Restaurant(\\u003c20)\",\"Coffee House\",\"Restaurant(\\u003c20)\",\"Restaurant(20-50)\",\"Coffee House\",\"Coffee House\",\"Carry out & Take away\",\"Restaurant(\\u003c20)\",\"Coffee House\",\"Restaurant(\\u003c20)\",\"Carry out & Take away\",\"Bar\",\"Coffee House\",\"Coffee House\",\"Restaurant(20-50)\",\"Carry out & Take away\",\"Carry out & Take away\",\"Carry out & Take away\",\"Coffee House\",\"Bar\",\"Coffee House\",\"Restaurant(\\u003c20)\",\"Restaurant(\\u003c20)\",\"Coffee House\",\"Coffee House\",\"Restaurant(20-50)\",\"Coffee House\",\"Coffee House\",\"Restaurant(\\u003c20)\",\"Bar\",\"Coffee House\",\"Coffee House\",\"Restaurant(\\u003c20)\",\"Coffee House\",\"Restaurant(\\u003c20)\",\"Carry out & Take away\",\"Coffee House\",\"Coffee House\",\"Carry out & Take away\",\"Carry out & Take away\",\"Coffee House\",\"Bar\",\"Coffee House\",\"Restaurant(\\u003c20)\",\"Restaurant(\\u003c20)\",\"Coffee House\",\"Restaurant(\\u003c20)\",\"Restaurant(20-50)\",\"Coffee House\",\"Coffee House\",\"Carry out & Take away\",\"Restaurant(\\u003c20)\",\"Coffee House\",\"Restaurant(\\u003c20)\",\"Carry out & Take away\",\"Bar\",\"Coffee House\",\"Coffee House\",\"Restaurant(20-50)\",\"Carry out & Take away\",\"Carry out & Take away\",\"Carry out & Take away\",\"Coffee House\",\"Bar\",\"Coffee House\",\"Restaurant(\\u003c20)\",\"Restaurant(\\u003c20)\",\"Coffee House\",\"Restaurant(\\u003c20)\",\"Carry out & Take away\",\"Bar\",\"Restaurant(\\u003c20)\",\"Coffee House\",\"Coffee House\",\"Coffee House\",\"Coffee House\",\"Restaurant(\\u003c20)\",\"Coffee House\",\"Restaurant(\\u003c20)\",\"Carry out & Take away\",\"Coffee House\",\"Coffee House\",\"Carry out & Take away\",\"Carry out & Take away\",\"Coffee House\",\"Bar\",\"Coffee House\",\"Restaurant(\\u003c20)\",\"Restaurant(\\u003c20)\",\"Coffee House\",\"Restaurant(\\u003c20)\",\"Restaurant(20-50)\",\"Coffee House\",\"Coffee House\",\"Carry out & Take away\",\"Restaurant(\\u003c20)\",\"Coffee House\",\"Restaurant(\\u003c20)\",\"Carry out & Take away\",\"Bar\",\"Coffee House\",\"Coffee House\",\"Restaurant(20-50)\",\"Carry out & Take away\",\"Carry out & Take away\",\"Carry out & Take away\",\"Coffee House\",\"Bar\",\"Coffee House\",\"Restaurant(\\u003c20)\",\"Restaurant(\\u003c20)\",\"Coffee House\",\"Coffee House\",\"Restaurant(20-50)\",\"Coffee House\",\"Coffee House\",\"Restaurant(\\u003c20)\",\"Bar\",\"Coffee House\",\"Coffee House\",\"Restaurant(\\u003c20)\",\"Coffee House\",\"Restaurant(\\u003c20)\",\"Carry out & Take away\",\"Coffee House\",\"Coffee House\",\"Carry out & Take away\",\"Carry out & Take away\",\"Coffee House\",\"Bar\",\"Coffee House\",\"Restaurant(\\u003c20)\",\"Restaurant(\\u003c20)\",\"Coffee House\",\"Restaurant(\\u003c20)\",\"Carry out & Take away\",\"Bar\",\"Restaurant(\\u003c20)\",\"Coffee House\",\"Coffee House\",\"Coffee House\",\"Coffee House\",\"Restaurant(\\u003c20)\",\"Coffee House\",\"Restaurant(\\u003c20)\",\"Carry out & Take away\",\"Coffee House\",\"Coffee House\",\"Carry out & Take away\",\"Carry out & Take away\",\"Coffee House\",\"Bar\",\"Coffee House\",\"Restaurant(\\u003c20)\",\"Restaurant(\\u003c20)\",\"Coffee House\",\"Restaurant(\\u003c20)\",\"Restaurant(20-50)\",\"Coffee House\",\"Coffee House\",\"Carry out & Take away\",\"Restaurant(\\u003c20)\",\"Coffee House\",\"Restaurant(\\u003c20)\",\"Carry out & Take away\",\"Bar\",\"Coffee House\",\"Coffee House\",\"Restaurant(20-50)\",\"Carry out & Take away\",\"Carry out & Take away\",\"Carry out & Take away\",\"Coffee House\",\"Bar\",\"Coffee House\",\"Restaurant(\\u003c20)\",\"Restaurant(\\u003c20)\",\"Coffee House\",\"Coffee House\",\"Restaurant(20-50)\",\"Coffee House\",\"Coffee House\",\"Restaurant(\\u003c20)\",\"Bar\",\"Coffee House\",\"Coffee House\",\"Restaurant(\\u003c20)\",\"Coffee House\",\"Restaurant(\\u003c20)\",\"Carry out & Take away\",\"Coffee House\",\"Coffee House\",\"Carry out & Take away\",\"Carry out & Take away\",\"Coffee House\",\"Bar\",\"Coffee House\",\"Restaurant(\\u003c20)\",\"Restaurant(\\u003c20)\",\"Coffee House\",\"Restaurant(\\u003c20)\",\"Carry out & Take away\",\"Bar\",\"Restaurant(\\u003c20)\",\"Coffee House\",\"Coffee House\",\"Coffee House\",\"Coffee House\",\"Restaurant(\\u003c20)\",\"Coffee House\",\"Restaurant(\\u003c20)\",\"Carry out & Take away\",\"Coffee House\",\"Coffee House\",\"Carry out & Take away\",\"Carry out & Take away\",\"Coffee House\",\"Bar\",\"Coffee House\",\"Restaurant(\\u003c20)\",\"Restaurant(\\u003c20)\",\"Coffee House\",\"Restaurant(\\u003c20)\",\"Carry out & Take away\",\"Bar\",\"Restaurant(\\u003c20)\",\"Coffee House\",\"Coffee House\",\"Coffee House\",\"Coffee House\",\"Restaurant(\\u003c20)\",\"Coffee House\",\"Restaurant(\\u003c20)\",\"Carry out & Take away\",\"Coffee House\",\"Coffee House\",\"Carry out & Take away\",\"Carry out & Take away\",\"Coffee House\",\"Bar\",\"Coffee House\",\"Restaurant(\\u003c20)\",\"Restaurant(\\u003c20)\",\"Coffee House\",\"Restaurant(\\u003c20)\",\"Restaurant(20-50)\",\"Coffee House\",\"Coffee House\",\"Carry out & Take away\",\"Restaurant(\\u003c20)\",\"Coffee House\",\"Restaurant(\\u003c20)\",\"Carry out & Take away\",\"Bar\",\"Coffee House\",\"Coffee House\",\"Restaurant(20-50)\",\"Carry out & Take away\",\"Carry out & Take away\",\"Carry out & Take away\",\"Coffee House\",\"Bar\",\"Coffee House\",\"Restaurant(\\u003c20)\",\"Restaurant(\\u003c20)\",\"Coffee House\",\"Coffee House\",\"Restaurant(20-50)\",\"Coffee House\",\"Coffee House\",\"Restaurant(\\u003c20)\",\"Bar\",\"Coffee House\",\"Coffee House\",\"Restaurant(\\u003c20)\",\"Coffee House\",\"Restaurant(\\u003c20)\",\"Carry out & Take away\",\"Coffee House\",\"Coffee House\",\"Carry out & Take away\",\"Carry out & Take away\",\"Coffee House\",\"Bar\",\"Coffee House\",\"Restaurant(\\u003c20)\",\"Restaurant(\\u003c20)\",\"Coffee House\",\"Coffee House\",\"Restaurant(20-50)\",\"Coffee House\",\"Coffee House\",\"Restaurant(\\u003c20)\",\"Bar\",\"Coffee House\",\"Coffee House\",\"Restaurant(\\u003c20)\",\"Coffee House\",\"Restaurant(\\u003c20)\",\"Carry out & Take away\",\"Coffee House\",\"Coffee House\",\"Carry out & Take away\",\"Coffee House\",\"Bar\",\"Coffee House\",\"Restaurant(\\u003c20)\",\"Restaurant(\\u003c20)\",\"Coffee House\",\"Restaurant(\\u003c20)\",\"Restaurant(20-50)\",\"Coffee House\",\"Coffee House\",\"Carry out & Take away\",\"Restaurant(\\u003c20)\",\"Coffee House\",\"Restaurant(\\u003c20)\",\"Carry out & Take away\",\"Bar\",\"Coffee House\",\"Coffee House\",\"Restaurant(20-50)\",\"Carry out & Take away\",\"Carry out & Take away\",\"Carry out & Take away\",\"Coffee House\",\"Bar\",\"Coffee House\",\"Restaurant(\\u003c20)\",\"Restaurant(\\u003c20)\",\"Coffee House\",\"Restaurant(\\u003c20)\",\"Restaurant(20-50)\",\"Coffee House\",\"Coffee House\",\"Carry out & Take away\",\"Restaurant(\\u003c20)\",\"Coffee House\",\"Restaurant(\\u003c20)\",\"Carry out & Take away\",\"Bar\",\"Coffee House\",\"Coffee House\",\"Restaurant(20-50)\",\"Carry out & Take away\",\"Carry out & Take away\",\"Carry out & Take away\",\"Coffee House\",\"Bar\",\"Coffee House\",\"Restaurant(\\u003c20)\",\"Restaurant(\\u003c20)\",\"Coffee House\",\"Coffee House\",\"Restaurant(20-50)\",\"Coffee House\",\"Coffee House\",\"Restaurant(\\u003c20)\",\"Bar\",\"Coffee House\",\"Coffee House\",\"Restaurant(\\u003c20)\",\"Coffee House\",\"Restaurant(\\u003c20)\",\"Carry out & Take away\",\"Coffee House\",\"Coffee House\",\"Carry out & Take away\",\"Carry out & Take away\",\"Coffee House\",\"Bar\",\"Coffee House\",\"Restaurant(\\u003c20)\",\"Restaurant(\\u003c20)\",\"Coffee House\",\"Restaurant(\\u003c20)\",\"Restaurant(20-50)\",\"Coffee House\",\"Coffee House\",\"Carry out & Take away\",\"Restaurant(\\u003c20)\",\"Coffee House\",\"Restaurant(\\u003c20)\",\"Carry out & Take away\",\"Bar\",\"Coffee House\",\"Coffee House\",\"Restaurant(20-50)\",\"Carry out & Take away\",\"Carry out & Take away\",\"Carry out & Take away\",\"Coffee House\",\"Bar\",\"Coffee House\",\"Restaurant(\\u003c20)\",\"Restaurant(\\u003c20)\",\"Coffee House\",\"Restaurant(\\u003c20)\",\"Restaurant(20-50)\",\"Coffee House\",\"Coffee House\",\"Carry out & Take away\",\"Restaurant(\\u003c20)\",\"Coffee House\",\"Restaurant(\\u003c20)\",\"Carry out & Take away\",\"Bar\",\"Coffee House\",\"Coffee House\",\"Restaurant(20-50)\",\"Carry out & Take away\",\"Carry out & Take away\",\"Carry out & Take away\",\"Coffee House\",\"Bar\",\"Coffee House\",\"Restaurant(\\u003c20)\",\"Restaurant(\\u003c20)\",\"Coffee House\",\"Coffee House\",\"Restaurant(20-50)\",\"Coffee House\",\"Coffee House\",\"Restaurant(\\u003c20)\",\"Bar\",\"Coffee House\",\"Coffee House\",\"Restaurant(\\u003c20)\",\"Coffee House\",\"Restaurant(\\u003c20)\",\"Carry out & Take away\",\"Coffee House\",\"Coffee House\",\"Carry out & Take away\",\"Carry out & Take away\",\"Coffee House\",\"Bar\",\"Coffee House\",\"Restaurant(\\u003c20)\",\"Restaurant(\\u003c20)\",\"Coffee House\",\"Coffee House\",\"Restaurant(20-50)\",\"Coffee House\",\"Coffee House\",\"Restaurant(\\u003c20)\",\"Bar\",\"Coffee House\",\"Coffee House\",\"Restaurant(\\u003c20)\",\"Coffee House\",\"Restaurant(\\u003c20)\",\"Carry out & Take away\",\"Coffee House\",\"Coffee House\",\"Carry out & Take away\",\"Carry out & Take away\",\"Coffee House\",\"Bar\",\"Coffee House\",\"Restaurant(\\u003c20)\",\"Restaurant(\\u003c20)\",\"Coffee House\",\"Restaurant(\\u003c20)\",\"Coffee House\",\"Restaurant(20-50)\",\"Coffee House\",\"Coffee House\",\"Restaurant(\\u003c20)\",\"Bar\",\"Restaurant(\\u003c20)\",\"Carry out & Take away\",\"Bar\",\"Restaurant(\\u003c20)\",\"Coffee House\",\"Coffee House\",\"Restaurant(20-50)\",\"Coffee House\",\"Coffee House\",\"Carry out & Take away\",\"Restaurant(\\u003c20)\",\"Coffee House\",\"Restaurant(\\u003c20)\",\"Carry out & Take away\",\"Bar\",\"Coffee House\",\"Coffee House\",\"Restaurant(20-50)\",\"Carry out & Take away\",\"Carry out & Take away\",\"Carry out & Take away\",\"Coffee House\",\"Bar\",\"Coffee House\",\"Restaurant(\\u003c20)\",\"Restaurant(\\u003c20)\",\"Coffee House\",\"Coffee House\",\"Restaurant(20-50)\",\"Coffee House\",\"Coffee House\",\"Restaurant(\\u003c20)\",\"Bar\",\"Coffee House\",\"Coffee House\",\"Restaurant(\\u003c20)\",\"Coffee House\",\"Restaurant(\\u003c20)\",\"Carry out & Take away\",\"Coffee House\",\"Coffee House\",\"Carry out & Take away\",\"Carry out & Take away\",\"Coffee House\",\"Bar\",\"Coffee House\",\"Restaurant(\\u003c20)\",\"Restaurant(\\u003c20)\",\"Coffee House\",\"Coffee House\",\"Restaurant(20-50)\",\"Coffee House\",\"Coffee House\",\"Restaurant(\\u003c20)\",\"Bar\",\"Coffee House\",\"Coffee House\",\"Restaurant(\\u003c20)\",\"Coffee House\",\"Restaurant(\\u003c20)\",\"Carry out & Take away\",\"Coffee House\",\"Coffee House\",\"Carry out & Take away\",\"Carry out & Take away\",\"Coffee House\",\"Bar\",\"Coffee House\",\"Restaurant(\\u003c20)\",\"Restaurant(\\u003c20)\",\"Coffee House\",\"Restaurant(\\u003c20)\",\"Carry out & Take away\",\"Bar\",\"Restaurant(\\u003c20)\",\"Coffee House\",\"Coffee House\",\"Coffee House\",\"Coffee House\",\"Restaurant(\\u003c20)\",\"Coffee House\",\"Restaurant(\\u003c20)\",\"Carry out & Take away\",\"Coffee House\",\"Coffee House\",\"Carry out & Take away\",\"Carry out & Take away\",\"Coffee House\",\"Bar\",\"Coffee House\",\"Restaurant(\\u003c20)\",\"Restaurant(\\u003c20)\",\"Coffee House\",\"Restaurant(\\u003c20)\",\"Restaurant(20-50)\",\"Coffee House\",\"Coffee House\",\"Carry out & Take away\",\"Restaurant(\\u003c20)\",\"Coffee House\",\"Restaurant(\\u003c20)\",\"Carry out & Take away\",\"Bar\",\"Coffee House\",\"Coffee House\",\"Restaurant(20-50)\",\"Carry out & Take away\",\"Carry out & Take away\",\"Carry out & Take away\",\"Coffee House\",\"Bar\",\"Coffee House\",\"Restaurant(\\u003c20)\",\"Restaurant(\\u003c20)\",\"Coffee House\",\"Coffee House\",\"Restaurant(20-50)\",\"Coffee House\",\"Coffee House\",\"Restaurant(\\u003c20)\",\"Bar\",\"Coffee House\",\"Coffee House\",\"Restaurant(\\u003c20)\",\"Coffee House\",\"Restaurant(\\u003c20)\",\"Carry out & Take away\",\"Coffee House\",\"Coffee House\",\"Carry out & Take away\",\"Carry out & Take away\",\"Coffee House\",\"Bar\",\"Coffee House\",\"Restaurant(\\u003c20)\",\"Restaurant(\\u003c20)\",\"Coffee House\",\"Coffee House\",\"Restaurant(20-50)\",\"Coffee House\",\"Coffee House\",\"Restaurant(\\u003c20)\",\"Bar\",\"Coffee House\",\"Coffee House\",\"Restaurant(\\u003c20)\",\"Coffee House\",\"Restaurant(\\u003c20)\",\"Carry out & Take away\",\"Coffee House\",\"Coffee House\",\"Carry out & Take away\",\"Carry out & Take away\",\"Coffee House\",\"Bar\",\"Coffee House\",\"Restaurant(\\u003c20)\",\"Restaurant(\\u003c20)\",\"Coffee House\",\"Restaurant(\\u003c20)\",\"Restaurant(20-50)\",\"Coffee House\",\"Coffee House\",\"Carry out & Take away\",\"Restaurant(\\u003c20)\",\"Coffee House\",\"Restaurant(\\u003c20)\",\"Carry out & Take away\",\"Bar\",\"Coffee House\",\"Coffee House\",\"Restaurant(20-50)\",\"Carry out & Take away\",\"Carry out & Take away\",\"Carry out & Take away\",\"Coffee House\",\"Bar\",\"Coffee House\",\"Restaurant(\\u003c20)\",\"Restaurant(\\u003c20)\",\"Coffee House\",\"Restaurant(\\u003c20)\",\"Restaurant(20-50)\",\"Coffee House\",\"Coffee House\",\"Carry out & Take away\",\"Restaurant(\\u003c20)\",\"Coffee House\",\"Restaurant(\\u003c20)\",\"Carry out & Take away\",\"Bar\",\"Coffee House\",\"Coffee House\",\"Restaurant(20-50)\",\"Carry out & Take away\",\"Carry out & Take away\",\"Carry out & Take away\",\"Coffee House\",\"Bar\",\"Coffee House\",\"Restaurant(\\u003c20)\",\"Restaurant(\\u003c20)\",\"Coffee House\",\"Coffee House\",\"Restaurant(20-50)\",\"Coffee House\",\"Coffee House\",\"Restaurant(\\u003c20)\",\"Bar\",\"Coffee House\",\"Coffee House\",\"Restaurant(\\u003c20)\",\"Coffee House\",\"Restaurant(\\u003c20)\",\"Carry out & Take away\",\"Coffee House\",\"Coffee House\",\"Carry out & Take away\",\"Carry out & Take away\",\"Coffee House\",\"Bar\",\"Coffee House\",\"Restaurant(\\u003c20)\",\"Restaurant(\\u003c20)\",\"Coffee House\",\"Coffee House\",\"Coffee House\",\"Coffee House\",\"Restaurant(\\u003c20)\",\"Coffee House\",\"Restaurant(\\u003c20)\",\"Carry out & Take away\",\"Coffee House\",\"Coffee House\",\"Carry out & Take away\",\"Carry out & Take away\",\"Coffee House\",\"Bar\",\"Coffee House\",\"Restaurant(\\u003c20)\",\"Restaurant(\\u003c20)\",\"Coffee House\",\"Restaurant(\\u003c20)\",\"Restaurant(20-50)\",\"Coffee House\",\"Coffee House\",\"Carry out & Take away\",\"Restaurant(\\u003c20)\",\"Coffee House\",\"Restaurant(\\u003c20)\",\"Carry out & Take away\",\"Bar\",\"Coffee House\",\"Coffee House\",\"Restaurant(20-50)\",\"Carry out & Take away\",\"Carry out & Take away\",\"Carry out & Take away\",\"Coffee House\",\"Bar\",\"Coffee House\",\"Restaurant(\\u003c20)\",\"Restaurant(\\u003c20)\",\"Coffee House\",\"Restaurant(\\u003c20)\",\"Carry out & Take away\",\"Bar\",\"Restaurant(\\u003c20)\",\"Coffee House\",\"Coffee House\",\"Coffee House\",\"Coffee House\",\"Restaurant(\\u003c20)\",\"Coffee House\",\"Restaurant(\\u003c20)\",\"Carry out & Take away\",\"Coffee House\",\"Coffee House\",\"Carry out & Take away\",\"Carry out & Take away\",\"Coffee House\",\"Bar\",\"Coffee House\",\"Restaurant(\\u003c20)\",\"Restaurant(\\u003c20)\",\"Coffee House\",\"Restaurant(\\u003c20)\",\"Restaurant(20-50)\",\"Coffee House\",\"Coffee House\",\"Carry out & Take away\",\"Restaurant(\\u003c20)\",\"Coffee House\",\"Restaurant(\\u003c20)\",\"Carry out & Take away\",\"Bar\",\"Coffee House\",\"Coffee House\",\"Restaurant(20-50)\",\"Carry out & Take away\",\"Carry out & Take away\",\"Carry out & Take away\",\"Coffee House\",\"Bar\",\"Coffee House\",\"Restaurant(\\u003c20)\",\"Restaurant(\\u003c20)\",\"Coffee House\",\"Restaurant(\\u003c20)\",\"Restaurant(20-50)\",\"Coffee House\",\"Coffee House\",\"Carry out & Take away\",\"Restaurant(\\u003c20)\",\"Coffee House\",\"Restaurant(\\u003c20)\",\"Carry out & Take away\",\"Bar\",\"Coffee House\",\"Coffee House\",\"Restaurant(20-50)\",\"Carry out & Take away\",\"Carry out & Take away\",\"Carry out & Take away\",\"Coffee House\",\"Bar\",\"Coffee House\",\"Restaurant(\\u003c20)\",\"Restaurant(\\u003c20)\",\"Coffee House\",\"Restaurant(\\u003c20)\",\"Restaurant(20-50)\",\"Coffee House\",\"Coffee House\",\"Carry out & Take away\",\"Restaurant(\\u003c20)\",\"Coffee House\",\"Restaurant(\\u003c20)\",\"Carry out & Take away\",\"Bar\",\"Coffee House\",\"Coffee House\",\"Restaurant(20-50)\",\"Carry out & Take away\",\"Carry out & Take away\",\"Carry out & Take away\",\"Coffee House\",\"Bar\",\"Coffee House\",\"Restaurant(\\u003c20)\",\"Restaurant(\\u003c20)\",\"Coffee House\",\"Restaurant(\\u003c20)\",\"Carry out & Take away\",\"Bar\",\"Restaurant(\\u003c20)\",\"Coffee House\",\"Coffee House\",\"Coffee House\",\"Coffee House\",\"Restaurant(\\u003c20)\",\"Coffee House\",\"Restaurant(\\u003c20)\",\"Carry out & Take away\",\"Coffee House\",\"Coffee House\",\"Carry out & Take away\",\"Carry out & Take away\",\"Coffee House\",\"Bar\",\"Coffee House\",\"Restaurant(\\u003c20)\",\"Restaurant(\\u003c20)\",\"Coffee House\",\"Restaurant(\\u003c20)\",\"Restaurant(20-50)\",\"Coffee House\",\"Coffee House\",\"Carry out & Take away\",\"Restaurant(\\u003c20)\",\"Coffee House\",\"Restaurant(\\u003c20)\",\"Carry out & Take away\",\"Bar\",\"Coffee House\",\"Coffee House\",\"Restaurant(20-50)\",\"Carry out & Take away\",\"Carry out & Take away\",\"Coffee House\",\"Bar\",\"Coffee House\",\"Restaurant(\\u003c20)\",\"Restaurant(\\u003c20)\",\"Coffee House\",\"Restaurant(\\u003c20)\",\"Restaurant(20-50)\",\"Coffee House\",\"Coffee House\",\"Carry out & Take away\",\"Restaurant(\\u003c20)\",\"Coffee House\",\"Restaurant(\\u003c20)\",\"Carry out & Take away\",\"Bar\",\"Coffee House\",\"Coffee House\",\"Restaurant(20-50)\",\"Carry out & Take away\",\"Carry out & Take away\",\"Carry out & Take away\",\"Coffee House\",\"Bar\",\"Coffee House\",\"Restaurant(\\u003c20)\",\"Restaurant(\\u003c20)\",\"Coffee House\",\"Coffee House\",\"Restaurant(20-50)\",\"Coffee House\",\"Coffee House\",\"Restaurant(\\u003c20)\",\"Bar\",\"Coffee House\",\"Coffee House\",\"Restaurant(\\u003c20)\",\"Coffee House\",\"Restaurant(\\u003c20)\",\"Carry out & Take away\",\"Coffee House\",\"Coffee House\",\"Carry out & Take away\",\"Carry out & Take away\",\"Coffee House\",\"Coffee House\",\"Carry out & Take away\",\"Coffee House\",\"Restaurant(20-50)\",\"Coffee House\",\"Restaurant(20-50)\",\"Restaurant(\\u003c20)\",\"Coffee House\",\"Coffee House\",\"Coffee House\",\"Restaurant(20-50)\",\"Bar\",\"Restaurant(20-50)\",\"Coffee House\",\"Coffee House\",\"Carry out & Take away\",\"Coffee House\",\"Bar\",\"Coffee House\",\"Bar\",\"Bar\",\"Restaurant(\\u003c20)\",\"Coffee House\",\"Carry out & Take away\",\"Coffee House\",\"Restaurant(20-50)\",\"Coffee House\",\"Restaurant(20-50)\",\"Restaurant(\\u003c20)\",\"Coffee House\",\"Coffee House\",\"Coffee House\",\"Restaurant(20-50)\",\"Bar\",\"Restaurant(20-50)\",\"Coffee House\",\"Coffee House\",\"Carry out & Take away\",\"Coffee House\",\"Bar\",\"Coffee House\",\"Bar\",\"Bar\",\"Restaurant(\\u003c20)\",\"Coffee House\",\"Coffee House\",\"Coffee House\",\"Carry out & Take away\",\"Restaurant(20-50)\",\"Restaurant(\\u003c20)\",\"Coffee House\",\"Coffee House\",\"Restaurant(\\u003c20)\",\"Coffee House\",\"Carry out & Take away\",\"Coffee House\",\"Bar\",\"Coffee House\",\"Bar\",\"Restaurant(\\u003c20)\",\"Bar\",\"Carry out & Take away\",\"Restaurant(\\u003c20)\",\"Restaurant(\\u003c20)\",\"Coffee House\",\"Coffee House\",\"Restaurant(20-50)\",\"Restaurant(\\u003c20)\",\"Restaurant(\\u003c20)\",\"Restaurant(20-50)\",\"Carry out & Take away\",\"Bar\",\"Coffee House\",\"Bar\",\"Coffee House\",\"Bar\",\"Coffee House\",\"Coffee House\",\"Bar\",\"Carry out & Take away\",\"Coffee House\",\"Bar\",\"Coffee House\",\"Bar\",\"Bar\",\"Restaurant(\\u003c20)\",\"Coffee House\",\"Coffee House\",\"Coffee House\",\"Carry out & Take away\",\"Restaurant(20-50)\",\"Restaurant(\\u003c20)\",\"Coffee House\",\"Coffee House\",\"Bar\",\"Restaurant(\\u003c20)\",\"Coffee House\",\"Coffee House\",\"Carry out & Take away\",\"Coffee House\",\"Bar\",\"Coffee House\",\"Bar\",\"Restaurant(\\u003c20)\",\"Bar\",\"Carry out & Take away\",\"Restaurant(\\u003c20)\",\"Restaurant(\\u003c20)\",\"Coffee House\",\"Coffee House\",\"Coffee House\",\"Carry out & Take away\",\"Restaurant(20-50)\",\"Restaurant(\\u003c20)\",\"Coffee House\",\"Coffee House\",\"Bar\",\"Restaurant(\\u003c20)\",\"Coffee House\",\"Coffee House\",\"Carry out & Take away\",\"Coffee House\",\"Bar\",\"Coffee House\",\"Bar\",\"Restaurant(\\u003c20)\",\"Bar\",\"Carry out & Take away\",\"Restaurant(\\u003c20)\",\"Restaurant(\\u003c20)\",\"Coffee House\",\"Carry out & Take away\",\"Coffee House\",\"Restaurant(20-50)\",\"Coffee House\",\"Restaurant(20-50)\",\"Restaurant(\\u003c20)\",\"Coffee House\",\"Coffee House\",\"Coffee House\",\"Restaurant(20-50)\",\"Bar\",\"Restaurant(20-50)\",\"Coffee House\",\"Coffee House\",\"Carry out & Take away\",\"Coffee House\",\"Bar\",\"Coffee House\",\"Bar\",\"Bar\",\"Restaurant(\\u003c20)\",\"Coffee House\",\"Coffee House\",\"Coffee House\",\"Carry out & Take away\",\"Restaurant(20-50)\",\"Restaurant(\\u003c20)\",\"Coffee House\",\"Coffee House\",\"Bar\",\"Restaurant(\\u003c20)\",\"Coffee House\",\"Coffee House\",\"Carry out & Take away\",\"Coffee House\",\"Bar\",\"Coffee House\",\"Bar\",\"Restaurant(\\u003c20)\",\"Bar\",\"Carry out & Take away\",\"Restaurant(\\u003c20)\",\"Restaurant(\\u003c20)\",\"Coffee House\",\"Coffee House\",\"Restaurant(20-50)\",\"Restaurant(\\u003c20)\",\"Restaurant(\\u003c20)\",\"Restaurant(20-50)\",\"Carry out & Take away\",\"Bar\",\"Coffee House\",\"Bar\",\"Coffee House\",\"Bar\",\"Coffee House\",\"Coffee House\",\"Bar\",\"Carry out & Take away\",\"Coffee House\",\"Bar\",\"Coffee House\",\"Bar\",\"Bar\",\"Restaurant(\\u003c20)\",\"Coffee House\",\"Carry out & Take away\",\"Coffee House\",\"Restaurant(20-50)\",\"Coffee House\",\"Restaurant(20-50)\",\"Restaurant(\\u003c20)\",\"Coffee House\",\"Coffee House\",\"Coffee House\",\"Restaurant(20-50)\",\"Bar\",\"Restaurant(20-50)\",\"Coffee House\",\"Coffee House\",\"Carry out & Take away\",\"Coffee House\",\"Bar\",\"Coffee House\",\"Bar\",\"Bar\",\"Restaurant(\\u003c20)\",\"Coffee House\",\"Coffee House\",\"Restaurant(20-50)\",\"Restaurant(\\u003c20)\",\"Restaurant(\\u003c20)\",\"Restaurant(20-50)\",\"Carry out & Take away\",\"Bar\",\"Coffee House\",\"Bar\",\"Coffee House\",\"Bar\",\"Coffee House\",\"Coffee House\",\"Bar\",\"Carry out & Take away\",\"Coffee House\",\"Bar\",\"Coffee House\",\"Bar\",\"Bar\",\"Restaurant(\\u003c20)\",\"Coffee House\",\"Carry out & Take away\",\"Coffee House\",\"Restaurant(20-50)\",\"Coffee House\",\"Restaurant(20-50)\",\"Restaurant(\\u003c20)\",\"Coffee House\",\"Coffee House\",\"Coffee House\",\"Restaurant(20-50)\",\"Bar\",\"Restaurant(20-50)\",\"Coffee House\",\"Coffee House\",\"Carry out & Take away\",\"Coffee House\",\"Bar\",\"Coffee House\",\"Bar\",\"Bar\",\"Restaurant(\\u003c20)\",\"Coffee House\",\"Carry out & Take away\",\"Coffee House\",\"Restaurant(20-50)\",\"Coffee House\",\"Restaurant(20-50)\",\"Restaurant(\\u003c20)\",\"Coffee House\",\"Coffee House\",\"Coffee House\",\"Restaurant(20-50)\",\"Bar\",\"Restaurant(20-50)\",\"Coffee House\",\"Coffee House\",\"Carry out & Take away\",\"Coffee House\",\"Bar\",\"Coffee House\",\"Bar\",\"Bar\",\"Restaurant(\\u003c20)\",\"Coffee House\",\"Coffee House\",\"Coffee House\",\"Carry out & Take away\",\"Restaurant(20-50)\",\"Restaurant(\\u003c20)\",\"Coffee House\",\"Coffee House\",\"Bar\",\"Restaurant(\\u003c20)\",\"Coffee House\",\"Coffee House\",\"Carry out & Take away\",\"Coffee House\",\"Bar\",\"Coffee House\",\"Bar\",\"Restaurant(\\u003c20)\",\"Carry out & Take away\",\"Restaurant(\\u003c20)\",\"Restaurant(\\u003c20)\",\"Coffee House\",\"Coffee House\",\"Restaurant(20-50)\",\"Restaurant(\\u003c20)\",\"Restaurant(\\u003c20)\",\"Restaurant(20-50)\",\"Carry out & Take away\",\"Bar\",\"Coffee House\",\"Bar\",\"Coffee House\",\"Bar\",\"Coffee House\",\"Coffee House\",\"Bar\",\"Carry out & Take away\",\"Coffee House\",\"Bar\",\"Coffee House\",\"Bar\",\"Bar\",\"Restaurant(\\u003c20)\",\"Coffee House\",\"Coffee House\",\"Restaurant(20-50)\",\"Coffee House\",\"Restaurant(\\u003c20)\",\"Bar\",\"Carry out & Take away\",\"Carry out & Take away\",\"Restaurant(\\u003c20)\",\"Bar\",\"Carry out & Take away\",\"Restaurant(\\u003c20)\",\"Coffee House\",\"Carry out & Take away\",\"Coffee House\",\"Restaurant(20-50)\",\"Coffee House\",\"Bar\",\"Restaurant(\\u003c20)\",\"Restaurant(\\u003c20)\",\"Restaurant(20-50)\",\"Restaurant(\\u003c20)\",\"Carry out & Take away\",\"Bar\",\"Bar\",\"Coffee House\",\"Coffee House\",\"Restaurant(20-50)\",\"Coffee House\",\"Restaurant(\\u003c20)\",\"Bar\",\"Carry out & Take away\",\"Carry out & Take away\",\"Restaurant(20-50)\",\"Coffee House\",\"Carry out & Take away\",\"Coffee House\",\"Restaurant(20-50)\",\"Bar\",\"Carry out & Take away\",\"Restaurant(\\u003c20)\",\"Restaurant(\\u003c20)\",\"Restaurant(20-50)\",\"Restaurant(\\u003c20)\",\"Coffee House\",\"Coffee House\",\"Restaurant(20-50)\",\"Coffee House\",\"Restaurant(\\u003c20)\",\"Bar\",\"Carry out & Take away\",\"Carry out & Take away\",\"Restaurant(\\u003c20)\",\"Bar\",\"Carry out & Take away\",\"Restaurant(\\u003c20)\",\"Coffee House\",\"Carry out & Take away\",\"Coffee House\",\"Restaurant(20-50)\",\"Coffee House\",\"Bar\",\"Restaurant(\\u003c20)\",\"Restaurant(\\u003c20)\",\"Restaurant(20-50)\",\"Restaurant(\\u003c20)\",\"Carry out & Take away\",\"Bar\",\"Bar\",\"Coffee House\",\"Coffee House\",\"Restaurant(20-50)\",\"Coffee House\",\"Restaurant(\\u003c20)\",\"Bar\",\"Carry out & Take away\",\"Carry out & Take away\",\"Restaurant(20-50)\",\"Coffee House\",\"Carry out & Take away\",\"Coffee House\",\"Restaurant(20-50)\",\"Bar\",\"Carry out & Take away\",\"Restaurant(\\u003c20)\",\"Restaurant(\\u003c20)\",\"Restaurant(20-50)\",\"Restaurant(\\u003c20)\",\"Carry out & Take away\",\"Bar\",\"Bar\",\"Coffee House\",\"Coffee House\",\"Restaurant(20-50)\",\"Coffee House\",\"Restaurant(\\u003c20)\",\"Bar\",\"Carry out & Take away\",\"Carry out & Take away\",\"Restaurant(20-50)\",\"Coffee House\",\"Carry out & Take away\",\"Coffee House\",\"Restaurant(20-50)\",\"Bar\",\"Carry out & Take away\",\"Restaurant(\\u003c20)\",\"Restaurant(\\u003c20)\",\"Restaurant(20-50)\",\"Restaurant(\\u003c20)\",\"Coffee House\",\"Restaurant(\\u003c20)\",\"Coffee House\",\"Restaurant(20-50)\",\"Coffee House\",\"Coffee House\",\"Carry out & Take away\",\"Restaurant(\\u003c20)\",\"Bar\",\"Carry out & Take away\",\"Carry out & Take away\",\"Coffee House\",\"Carry out & Take away\",\"Coffee House\",\"Coffee House\",\"Restaurant(20-50)\",\"Bar\",\"Restaurant(\\u003c20)\",\"Restaurant(20-50)\",\"Restaurant(\\u003c20)\",\"Restaurant(20-50)\",\"Restaurant(\\u003c20)\",\"Coffee House\",\"Coffee House\",\"Restaurant(20-50)\",\"Coffee House\",\"Restaurant(\\u003c20)\",\"Bar\",\"Carry out & Take away\",\"Carry out & Take away\",\"Restaurant(\\u003c20)\",\"Bar\",\"Carry out & Take away\",\"Restaurant(\\u003c20)\",\"Coffee House\",\"Carry out & Take away\",\"Coffee House\",\"Restaurant(20-50)\",\"Coffee House\",\"Bar\",\"Restaurant(\\u003c20)\",\"Restaurant(\\u003c20)\",\"Restaurant(20-50)\",\"Restaurant(\\u003c20)\",\"Coffee House\",\"Coffee House\",\"Restaurant(20-50)\",\"Coffee House\",\"Restaurant(\\u003c20)\",\"Bar\",\"Carry out & Take away\",\"Carry out & Take away\",\"Restaurant(\\u003c20)\",\"Bar\",\"Carry out & Take away\",\"Restaurant(\\u003c20)\",\"Coffee House\",\"Carry out & Take away\",\"Coffee House\",\"Restaurant(20-50)\",\"Coffee House\",\"Bar\",\"Restaurant(\\u003c20)\",\"Restaurant(\\u003c20)\",\"Restaurant(20-50)\",\"Restaurant(\\u003c20)\",\"Coffee House\",\"Restaurant(\\u003c20)\",\"Coffee House\",\"Restaurant(20-50)\",\"Coffee House\",\"Coffee House\",\"Carry out & Take away\",\"Restaurant(\\u003c20)\",\"Bar\",\"Carry out & Take away\",\"Carry out & Take away\",\"Coffee House\",\"Carry out & Take away\",\"Coffee House\",\"Coffee House\",\"Restaurant(20-50)\",\"Bar\",\"Restaurant(\\u003c20)\",\"Restaurant(20-50)\",\"Restaurant(\\u003c20)\",\"Restaurant(20-50)\",\"Restaurant(\\u003c20)\",\"Coffee House\",\"Coffee House\",\"Restaurant(20-50)\",\"Coffee House\",\"Restaurant(\\u003c20)\",\"Bar\",\"Carry out & Take away\",\"Carry out & Take away\",\"Restaurant(\\u003c20)\",\"Bar\",\"Carry out & Take away\",\"Restaurant(\\u003c20)\",\"Coffee House\",\"Carry out & Take away\",\"Coffee House\",\"Restaurant(20-50)\",\"Coffee House\",\"Bar\",\"Restaurant(\\u003c20)\",\"Restaurant(\\u003c20)\",\"Restaurant(20-50)\",\"Restaurant(\\u003c20)\",\"Carry out & Take away\",\"Bar\",\"Bar\",\"Coffee House\",\"Coffee House\",\"Restaurant(20-50)\",\"Coffee House\",\"Restaurant(\\u003c20)\",\"Bar\",\"Carry out & Take away\",\"Carry out & Take away\",\"Restaurant(20-50)\",\"Coffee House\",\"Carry out & Take away\",\"Coffee House\",\"Restaurant(20-50)\",\"Bar\",\"Carry out & Take away\",\"Restaurant(\\u003c20)\",\"Restaurant(\\u003c20)\",\"Restaurant(20-50)\",\"Restaurant(\\u003c20)\",\"Carry out & Take away\",\"Bar\",\"Bar\",\"Coffee House\",\"Coffee House\",\"Restaurant(20-50)\",\"Coffee House\",\"Restaurant(\\u003c20)\",\"Bar\",\"Carry out & Take away\",\"Carry out & Take away\",\"Restaurant(20-50)\",\"Coffee House\",\"Carry out & Take away\",\"Coffee House\",\"Restaurant(20-50)\",\"Bar\",\"Carry out & Take away\",\"Restaurant(\\u003c20)\",\"Restaurant(\\u003c20)\",\"Restaurant(20-50)\",\"Restaurant(\\u003c20)\",\"Coffee House\",\"Restaurant(\\u003c20)\",\"Coffee House\",\"Restaurant(20-50)\",\"Coffee House\",\"Coffee House\",\"Carry out & Take away\",\"Restaurant(\\u003c20)\",\"Bar\",\"Carry out & Take away\",\"Carry out & Take away\",\"Coffee House\",\"Carry out & Take away\",\"Coffee House\",\"Coffee House\",\"Restaurant(20-50)\",\"Bar\",\"Restaurant(\\u003c20)\",\"Restaurant(20-50)\",\"Restaurant(\\u003c20)\",\"Restaurant(20-50)\",\"Restaurant(\\u003c20)\",\"Carry out & Take away\",\"Bar\",\"Bar\",\"Coffee House\",\"Coffee House\",\"Restaurant(20-50)\",\"Coffee House\",\"Restaurant(\\u003c20)\",\"Bar\",\"Carry out & Take away\",\"Carry out & Take away\",\"Restaurant(20-50)\",\"Coffee House\",\"Carry out & Take away\",\"Coffee House\",\"Restaurant(20-50)\",\"Bar\",\"Carry out & Take away\",\"Restaurant(\\u003c20)\",\"Restaurant(\\u003c20)\",\"Restaurant(20-50)\",\"Restaurant(\\u003c20)\",\"Carry out & Take away\",\"Bar\",\"Bar\",\"Coffee House\",\"Coffee House\",\"Restaurant(20-50)\",\"Coffee House\",\"Restaurant(\\u003c20)\",\"Bar\",\"Carry out & Take away\",\"Carry out & Take away\",\"Restaurant(20-50)\",\"Coffee House\",\"Carry out & Take away\",\"Coffee House\",\"Restaurant(20-50)\",\"Bar\",\"Carry out & Take away\",\"Restaurant(\\u003c20)\",\"Restaurant(\\u003c20)\",\"Restaurant(20-50)\",\"Restaurant(\\u003c20)\",\"Carry out & Take away\",\"Bar\",\"Bar\",\"Coffee House\",\"Coffee House\",\"Restaurant(20-50)\",\"Coffee House\",\"Restaurant(\\u003c20)\",\"Bar\",\"Carry out & Take away\",\"Carry out & Take away\",\"Restaurant(20-50)\",\"Coffee House\",\"Carry out & Take away\",\"Coffee House\",\"Restaurant(20-50)\",\"Bar\",\"Carry out & Take away\",\"Restaurant(\\u003c20)\",\"Restaurant(\\u003c20)\",\"Restaurant(20-50)\",\"Restaurant(\\u003c20)\",\"Coffee House\",\"Coffee House\",\"Restaurant(20-50)\",\"Coffee House\",\"Restaurant(\\u003c20)\",\"Bar\",\"Carry out & Take away\",\"Carry out & Take away\",\"Restaurant(\\u003c20)\",\"Bar\",\"Carry out & Take away\",\"Restaurant(\\u003c20)\",\"Coffee House\",\"Carry out & Take away\",\"Coffee House\",\"Restaurant(20-50)\",\"Coffee House\",\"Bar\",\"Restaurant(\\u003c20)\",\"Restaurant(\\u003c20)\",\"Restaurant(20-50)\",\"Restaurant(\\u003c20)\",\"Coffee House\",\"Coffee House\",\"Restaurant(20-50)\",\"Coffee House\",\"Restaurant(\\u003c20)\",\"Bar\",\"Carry out & Take away\",\"Carry out & Take away\",\"Restaurant(\\u003c20)\",\"Bar\",\"Carry out & Take away\",\"Restaurant(\\u003c20)\",\"Coffee House\",\"Carry out & Take away\",\"Coffee House\",\"Restaurant(20-50)\",\"Coffee House\",\"Bar\",\"Restaurant(\\u003c20)\",\"Restaurant(\\u003c20)\",\"Restaurant(20-50)\",\"Restaurant(\\u003c20)\",\"Coffee House\",\"Restaurant(\\u003c20)\",\"Coffee House\",\"Restaurant(20-50)\",\"Coffee House\",\"Coffee House\",\"Carry out & Take away\",\"Restaurant(\\u003c20)\",\"Bar\",\"Carry out & Take away\",\"Carry out & Take away\",\"Coffee House\",\"Carry out & Take away\",\"Coffee House\",\"Coffee House\",\"Restaurant(20-50)\",\"Bar\",\"Restaurant(\\u003c20)\",\"Restaurant(20-50)\",\"Restaurant(\\u003c20)\",\"Restaurant(20-50)\",\"Restaurant(\\u003c20)\",\"Carry out & Take away\",\"Bar\",\"Bar\",\"Coffee House\",\"Coffee House\",\"Restaurant(20-50)\",\"Coffee House\",\"Restaurant(\\u003c20)\",\"Bar\",\"Carry out & Take away\",\"Carry out & Take away\",\"Restaurant(20-50)\",\"Coffee House\",\"Carry out & Take away\",\"Coffee House\",\"Restaurant(20-50)\",\"Bar\",\"Carry out & Take away\",\"Restaurant(\\u003c20)\",\"Restaurant(\\u003c20)\",\"Restaurant(20-50)\",\"Restaurant(\\u003c20)\",\"Coffee House\",\"Coffee House\",\"Restaurant(20-50)\",\"Coffee House\",\"Restaurant(\\u003c20)\",\"Bar\",\"Carry out & Take away\",\"Carry out & Take away\",\"Restaurant(\\u003c20)\",\"Bar\",\"Carry out & Take away\",\"Restaurant(\\u003c20)\",\"Coffee House\",\"Carry out & Take away\",\"Coffee House\",\"Restaurant(20-50)\",\"Coffee House\",\"Bar\",\"Restaurant(\\u003c20)\",\"Restaurant(\\u003c20)\",\"Restaurant(20-50)\",\"Restaurant(\\u003c20)\",\"Coffee House\",\"Coffee House\",\"Restaurant(20-50)\",\"Coffee House\",\"Restaurant(\\u003c20)\",\"Bar\",\"Carry out & Take away\",\"Carry out & Take away\",\"Restaurant(\\u003c20)\",\"Bar\",\"Carry out & Take away\",\"Restaurant(\\u003c20)\",\"Coffee House\",\"Carry out & Take away\",\"Coffee House\",\"Restaurant(20-50)\",\"Coffee House\",\"Bar\",\"Restaurant(\\u003c20)\",\"Restaurant(\\u003c20)\",\"Restaurant(20-50)\",\"Restaurant(\\u003c20)\",\"Carry out & Take away\",\"Bar\",\"Bar\",\"Coffee House\",\"Coffee House\",\"Restaurant(20-50)\",\"Coffee House\",\"Restaurant(\\u003c20)\",\"Bar\",\"Carry out & Take away\",\"Carry out & Take away\",\"Restaurant(20-50)\",\"Coffee House\",\"Carry out & Take away\",\"Coffee House\",\"Restaurant(20-50)\",\"Bar\",\"Carry out & Take away\",\"Restaurant(\\u003c20)\",\"Restaurant(\\u003c20)\",\"Restaurant(20-50)\",\"Restaurant(\\u003c20)\",\"Coffee House\",\"Restaurant(\\u003c20)\",\"Coffee House\",\"Restaurant(20-50)\",\"Coffee House\",\"Coffee House\",\"Carry out & Take away\",\"Restaurant(\\u003c20)\",\"Bar\",\"Carry out & Take away\",\"Carry out & Take away\",\"Coffee House\",\"Carry out & Take away\",\"Coffee House\",\"Coffee House\",\"Restaurant(20-50)\",\"Bar\",\"Restaurant(\\u003c20)\",\"Restaurant(20-50)\",\"Restaurant(\\u003c20)\",\"Restaurant(20-50)\",\"Restaurant(\\u003c20)\",\"Carry out & Take away\",\"Bar\",\"Bar\",\"Coffee House\",\"Coffee House\",\"Restaurant(20-50)\",\"Coffee House\",\"Restaurant(\\u003c20)\",\"Bar\",\"Carry out & Take away\",\"Carry out & Take away\",\"Restaurant(20-50)\",\"Coffee House\",\"Carry out & Take away\",\"Coffee House\",\"Restaurant(20-50)\",\"Bar\",\"Carry out & Take away\",\"Restaurant(\\u003c20)\",\"Restaurant(\\u003c20)\",\"Restaurant(20-50)\",\"Restaurant(\\u003c20)\",\"Carry out & Take away\",\"Bar\",\"Bar\",\"Coffee House\",\"Coffee House\",\"Restaurant(20-50)\",\"Coffee House\",\"Restaurant(\\u003c20)\",\"Bar\",\"Carry out & Take away\",\"Carry out & Take away\",\"Restaurant(20-50)\",\"Coffee House\",\"Carry out & Take away\",\"Coffee House\",\"Restaurant(20-50)\",\"Bar\",\"Carry out & Take away\",\"Restaurant(\\u003c20)\",\"Restaurant(\\u003c20)\",\"Restaurant(20-50)\",\"Restaurant(\\u003c20)\",\"Coffee House\",\"Restaurant(\\u003c20)\",\"Coffee House\",\"Restaurant(20-50)\",\"Coffee House\",\"Coffee House\",\"Carry out & Take away\",\"Restaurant(\\u003c20)\",\"Bar\",\"Carry out & Take away\",\"Carry out & Take away\",\"Coffee House\",\"Carry out & Take away\",\"Coffee House\",\"Coffee House\",\"Restaurant(20-50)\",\"Bar\",\"Restaurant(\\u003c20)\",\"Restaurant(20-50)\",\"Restaurant(\\u003c20)\",\"Restaurant(20-50)\",\"Restaurant(\\u003c20)\",\"Carry out & Take away\",\"Bar\",\"Bar\",\"Coffee House\",\"Coffee House\",\"Restaurant(20-50)\",\"Coffee House\",\"Restaurant(\\u003c20)\",\"Bar\",\"Carry out & Take away\",\"Carry out & Take away\",\"Restaurant(20-50)\",\"Coffee House\",\"Carry out & Take away\",\"Coffee House\",\"Restaurant(20-50)\",\"Bar\",\"Carry out & Take away\",\"Restaurant(\\u003c20)\",\"Restaurant(\\u003c20)\",\"Restaurant(20-50)\",\"Restaurant(\\u003c20)\",\"Coffee House\",\"Restaurant(\\u003c20)\",\"Coffee House\",\"Restaurant(20-50)\",\"Coffee House\",\"Coffee House\",\"Carry out & Take away\",\"Restaurant(\\u003c20)\",\"Bar\",\"Carry out & Take away\",\"Carry out & Take away\",\"Coffee House\",\"Restaurant(\\u003c20)\",\"Bar\",\"Carry out & Take away\",\"Restaurant(\\u003c20)\",\"Coffee House\",\"Restaurant(20-50)\",\"Carry out & Take away\",\"Coffee House\",\"Coffee House\",\"Restaurant(20-50)\",\"Coffee House\",\"Bar\",\"Restaurant(\\u003c20)\",\"Restaurant(20-50)\",\"Restaurant(\\u003c20)\",\"Restaurant(20-50)\",\"Restaurant(\\u003c20)\",\"Carry out & Take away\",\"Bar\",\"Bar\",\"Restaurant(20-50)\",\"Coffee House\",\"Carry out & Take away\",\"Coffee House\",\"Coffee House\",\"Restaurant(20-50)\",\"Coffee House\",\"Restaurant(\\u003c20)\",\"Bar\",\"Carry out & Take away\",\"Carry out & Take away\",\"Restaurant(\\u003c20)\",\"Bar\",\"Carry out & Take away\",\"Restaurant(\\u003c20)\",\"Coffee House\",\"Carry out & Take away\",\"Coffee House\",\"Restaurant(20-50)\",\"Coffee House\",\"Bar\",\"Restaurant(\\u003c20)\",\"Restaurant(\\u003c20)\",\"Restaurant(20-50)\",\"Restaurant(\\u003c20)\",\"Coffee House\",\"Coffee House\",\"Restaurant(20-50)\",\"Coffee House\",\"Restaurant(\\u003c20)\",\"Bar\",\"Carry out & Take away\",\"Carry out & Take away\",\"Carry out & Take away\",\"Coffee House\",\"Restaurant(20-50)\",\"Coffee House\",\"Bar\",\"Restaurant(\\u003c20)\",\"Restaurant(\\u003c20)\",\"Restaurant(20-50)\",\"Restaurant(\\u003c20)\",\"Carry out & Take away\",\"Bar\",\"Bar\",\"Coffee House\",\"Coffee House\",\"Restaurant(20-50)\",\"Coffee House\",\"Restaurant(\\u003c20)\",\"Bar\",\"Carry out & Take away\",\"Carry out & Take away\",\"Restaurant(20-50)\",\"Coffee House\",\"Carry out & Take away\",\"Coffee House\",\"Restaurant(20-50)\",\"Bar\",\"Carry out & Take away\",\"Restaurant(\\u003c20)\",\"Restaurant(\\u003c20)\",\"Restaurant(20-50)\",\"Restaurant(\\u003c20)\",\"Coffee House\",\"Coffee House\",\"Restaurant(20-50)\",\"Coffee House\",\"Restaurant(\\u003c20)\",\"Bar\",\"Carry out & Take away\",\"Carry out & Take away\",\"Restaurant(\\u003c20)\",\"Bar\",\"Carry out & Take away\",\"Coffee House\",\"Carry out & Take away\",\"Coffee House\",\"Restaurant(20-50)\",\"Coffee House\",\"Bar\",\"Restaurant(\\u003c20)\",\"Restaurant(\\u003c20)\",\"Restaurant(20-50)\",\"Coffee House\",\"Coffee House\",\"Restaurant(20-50)\",\"Coffee House\",\"Restaurant(\\u003c20)\",\"Bar\",\"Carry out & Take away\",\"Carry out & Take away\",\"Restaurant(\\u003c20)\",\"Bar\",\"Carry out & Take away\",\"Restaurant(\\u003c20)\",\"Coffee House\",\"Carry out & Take away\",\"Coffee House\",\"Restaurant(20-50)\",\"Coffee House\",\"Bar\",\"Restaurant(\\u003c20)\",\"Restaurant(\\u003c20)\",\"Restaurant(20-50)\",\"Restaurant(\\u003c20)\",\"Coffee House\",\"Restaurant(\\u003c20)\",\"Coffee House\",\"Restaurant(20-50)\",\"Coffee House\",\"Coffee House\",\"Carry out & Take away\",\"Restaurant(\\u003c20)\",\"Bar\",\"Carry out & Take away\",\"Carry out & Take away\",\"Coffee House\",\"Carry out & Take away\",\"Coffee House\",\"Coffee House\",\"Restaurant(20-50)\",\"Bar\",\"Restaurant(\\u003c20)\",\"Restaurant(20-50)\",\"Restaurant(\\u003c20)\",\"Restaurant(20-50)\",\"Restaurant(\\u003c20)\",\"Coffee House\",\"Coffee House\",\"Restaurant(20-50)\",\"Coffee House\",\"Restaurant(\\u003c20)\",\"Bar\",\"Carry out & Take away\",\"Carry out & Take away\",\"Restaurant(\\u003c20)\",\"Bar\",\"Carry out & Take away\",\"Restaurant(\\u003c20)\",\"Coffee House\",\"Carry out & Take away\",\"Coffee House\",\"Restaurant(20-50)\",\"Coffee House\",\"Bar\",\"Restaurant(\\u003c20)\",\"Restaurant(\\u003c20)\",\"Restaurant(20-50)\",\"Restaurant(\\u003c20)\",\"Coffee House\",\"Restaurant(\\u003c20)\",\"Coffee House\",\"Restaurant(20-50)\",\"Coffee House\",\"Coffee House\",\"Carry out & Take away\",\"Restaurant(\\u003c20)\",\"Bar\",\"Carry out & Take away\",\"Carry out & Take away\",\"Coffee House\",\"Carry out & Take away\",\"Coffee House\",\"Coffee House\",\"Restaurant(20-50)\",\"Bar\",\"Restaurant(\\u003c20)\",\"Restaurant(20-50)\",\"Restaurant(\\u003c20)\",\"Restaurant(20-50)\",\"Restaurant(\\u003c20)\",\"Coffee House\",\"Coffee House\",\"Restaurant(20-50)\",\"Coffee House\",\"Restaurant(\\u003c20)\",\"Bar\",\"Carry out & Take away\",\"Carry out & Take away\",\"Restaurant(\\u003c20)\",\"Bar\",\"Carry out & Take away\",\"Restaurant(\\u003c20)\",\"Coffee House\",\"Carry out & Take away\",\"Coffee House\",\"Restaurant(20-50)\",\"Coffee House\",\"Bar\",\"Restaurant(\\u003c20)\",\"Restaurant(\\u003c20)\",\"Restaurant(20-50)\",\"Restaurant(\\u003c20)\",\"Coffee House\",\"Coffee House\",\"Restaurant(20-50)\",\"Coffee House\",\"Restaurant(\\u003c20)\",\"Bar\",\"Carry out & Take away\",\"Carry out & Take away\",\"Restaurant(\\u003c20)\",\"Bar\",\"Carry out & Take away\",\"Restaurant(\\u003c20)\",\"Coffee House\",\"Carry out & Take away\",\"Coffee House\",\"Restaurant(20-50)\",\"Coffee House\",\"Bar\",\"Restaurant(\\u003c20)\",\"Restaurant(\\u003c20)\",\"Restaurant(20-50)\",\"Restaurant(\\u003c20)\",\"Coffee House\",\"Restaurant(\\u003c20)\",\"Coffee House\",\"Restaurant(20-50)\",\"Coffee House\",\"Coffee House\",\"Carry out & Take away\",\"Restaurant(\\u003c20)\",\"Bar\",\"Carry out & Take away\",\"Carry out & Take away\",\"Coffee House\",\"Carry out & Take away\",\"Coffee House\",\"Coffee House\",\"Restaurant(20-50)\",\"Bar\",\"Restaurant(\\u003c20)\",\"Restaurant(20-50)\",\"Restaurant(\\u003c20)\",\"Restaurant(20-50)\",\"Restaurant(\\u003c20)\",\"Coffee House\",\"Coffee House\",\"Restaurant(20-50)\",\"Coffee House\",\"Restaurant(\\u003c20)\",\"Bar\",\"Carry out & Take away\",\"Carry out & Take away\",\"Bar\",\"Carry out & Take away\",\"Restaurant(\\u003c20)\",\"Coffee House\",\"Carry out & Take away\",\"Coffee House\",\"Restaurant(20-50)\",\"Coffee House\",\"Bar\",\"Restaurant(\\u003c20)\",\"Restaurant(\\u003c20)\",\"Restaurant(20-50)\",\"Restaurant(\\u003c20)\",\"Coffee House\",\"Restaurant(\\u003c20)\",\"Coffee House\",\"Restaurant(20-50)\",\"Coffee House\",\"Coffee House\",\"Carry out & Take away\",\"Restaurant(\\u003c20)\",\"Bar\",\"Carry out & Take away\",\"Carry out & Take away\",\"Coffee House\",\"Carry out & Take away\",\"Coffee House\",\"Coffee House\",\"Restaurant(20-50)\",\"Bar\",\"Restaurant(\\u003c20)\",\"Restaurant(20-50)\",\"Restaurant(\\u003c20)\",\"Restaurant(20-50)\",\"Restaurant(\\u003c20)\",\"Coffee House\",\"Coffee House\",\"Restaurant(20-50)\",\"Coffee House\",\"Restaurant(\\u003c20)\",\"Bar\",\"Carry out & Take away\",\"Carry out & Take away\",\"Restaurant(\\u003c20)\",\"Bar\",\"Carry out & Take away\",\"Restaurant(\\u003c20)\",\"Coffee House\",\"Carry out & Take away\",\"Coffee House\",\"Restaurant(20-50)\",\"Coffee House\",\"Bar\",\"Restaurant(\\u003c20)\",\"Restaurant(\\u003c20)\",\"Restaurant(20-50)\",\"Restaurant(\\u003c20)\",\"Coffee House\",\"Restaurant(\\u003c20)\",\"Coffee House\",\"Restaurant(20-50)\",\"Coffee House\",\"Coffee House\",\"Carry out & Take away\",\"Restaurant(\\u003c20)\",\"Bar\",\"Carry out & Take away\",\"Carry out & Take away\",\"Coffee House\",\"Carry out & Take away\",\"Coffee House\",\"Coffee House\",\"Restaurant(20-50)\",\"Bar\",\"Restaurant(\\u003c20)\",\"Restaurant(20-50)\",\"Restaurant(\\u003c20)\",\"Restaurant(20-50)\",\"Restaurant(\\u003c20)\",\"Carry out & Take away\",\"Bar\",\"Bar\",\"Coffee House\",\"Coffee House\",\"Restaurant(20-50)\",\"Coffee House\",\"Restaurant(\\u003c20)\",\"Bar\",\"Carry out & Take away\",\"Carry out & Take away\",\"Restaurant(20-50)\",\"Coffee House\",\"Carry out & Take away\",\"Coffee House\",\"Restaurant(20-50)\",\"Bar\",\"Carry out & Take away\",\"Restaurant(\\u003c20)\",\"Restaurant(\\u003c20)\",\"Restaurant(20-50)\",\"Restaurant(\\u003c20)\",\"Coffee House\",\"Coffee House\",\"Restaurant(20-50)\",\"Coffee House\",\"Restaurant(\\u003c20)\",\"Bar\",\"Carry out & Take away\",\"Carry out & Take away\",\"Restaurant(\\u003c20)\",\"Bar\",\"Carry out & Take away\",\"Restaurant(\\u003c20)\",\"Coffee House\",\"Carry out & Take away\",\"Coffee House\",\"Restaurant(20-50)\",\"Coffee House\",\"Bar\",\"Restaurant(\\u003c20)\",\"Restaurant(\\u003c20)\",\"Restaurant(20-50)\",\"Restaurant(\\u003c20)\",\"Coffee House\",\"Restaurant(\\u003c20)\",\"Coffee House\",\"Restaurant(20-50)\",\"Coffee House\",\"Coffee House\",\"Carry out & Take away\",\"Restaurant(\\u003c20)\",\"Bar\",\"Carry out & Take away\",\"Carry out & Take away\",\"Coffee House\",\"Carry out & Take away\",\"Coffee House\",\"Coffee House\",\"Restaurant(20-50)\",\"Bar\",\"Restaurant(\\u003c20)\",\"Restaurant(20-50)\",\"Restaurant(\\u003c20)\",\"Restaurant(20-50)\",\"Restaurant(\\u003c20)\",\"Carry out & Take away\",\"Bar\",\"Bar\",\"Coffee House\",\"Coffee House\",\"Restaurant(20-50)\",\"Coffee House\",\"Restaurant(\\u003c20)\",\"Bar\",\"Carry out & Take away\",\"Carry out & Take away\",\"Restaurant(20-50)\",\"Coffee House\",\"Carry out & Take away\",\"Coffee House\",\"Restaurant(20-50)\",\"Bar\",\"Carry out & Take away\",\"Restaurant(\\u003c20)\",\"Restaurant(\\u003c20)\",\"Restaurant(20-50)\",\"Restaurant(\\u003c20)\",\"Carry out & Take away\",\"Bar\",\"Bar\",\"Coffee House\",\"Coffee House\",\"Restaurant(20-50)\",\"Coffee House\",\"Restaurant(\\u003c20)\",\"Bar\",\"Carry out & Take away\",\"Carry out & Take away\",\"Restaurant(20-50)\",\"Coffee House\",\"Carry out & Take away\",\"Coffee House\",\"Restaurant(20-50)\",\"Bar\",\"Carry out & Take away\",\"Restaurant(\\u003c20)\",\"Restaurant(\\u003c20)\",\"Restaurant(20-50)\",\"Restaurant(\\u003c20)\",\"Coffee House\",\"Coffee House\",\"Restaurant(20-50)\",\"Coffee House\",\"Restaurant(\\u003c20)\",\"Bar\",\"Carry out & Take away\",\"Carry out & Take away\",\"Restaurant(\\u003c20)\",\"Bar\",\"Carry out & Take away\",\"Restaurant(\\u003c20)\",\"Coffee House\",\"Carry out & Take away\",\"Coffee House\",\"Restaurant(20-50)\",\"Coffee House\",\"Bar\",\"Restaurant(\\u003c20)\",\"Restaurant(\\u003c20)\",\"Restaurant(20-50)\",\"Restaurant(\\u003c20)\",\"Coffee House\",\"Restaurant(\\u003c20)\",\"Coffee House\",\"Restaurant(20-50)\",\"Coffee House\",\"Coffee House\",\"Carry out & Take away\",\"Restaurant(\\u003c20)\",\"Bar\",\"Carry out & Take away\",\"Carry out & Take away\",\"Coffee House\",\"Carry out & Take away\",\"Coffee House\",\"Coffee House\",\"Restaurant(20-50)\",\"Bar\",\"Restaurant(\\u003c20)\",\"Restaurant(20-50)\",\"Restaurant(\\u003c20)\",\"Restaurant(20-50)\",\"Restaurant(\\u003c20)\",\"Coffee House\",\"Restaurant(\\u003c20)\",\"Coffee House\",\"Restaurant(20-50)\",\"Coffee House\",\"Coffee House\",\"Carry out & Take away\",\"Restaurant(\\u003c20)\",\"Bar\",\"Carry out & Take away\",\"Carry out & Take away\",\"Coffee House\",\"Carry out & Take away\",\"Coffee House\",\"Coffee House\",\"Restaurant(20-50)\",\"Bar\",\"Restaurant(\\u003c20)\",\"Restaurant(20-50)\",\"Restaurant(\\u003c20)\",\"Restaurant(20-50)\",\"Restaurant(\\u003c20)\",\"Coffee House\",\"Restaurant(\\u003c20)\",\"Coffee House\",\"Restaurant(20-50)\",\"Coffee House\",\"Coffee House\",\"Carry out & Take away\",\"Restaurant(\\u003c20)\",\"Bar\",\"Carry out & Take away\",\"Carry out & Take away\",\"Coffee House\",\"Carry out & Take away\",\"Coffee House\",\"Coffee House\",\"Restaurant(20-50)\",\"Bar\",\"Restaurant(\\u003c20)\",\"Restaurant(20-50)\",\"Restaurant(\\u003c20)\",\"Restaurant(20-50)\",\"Restaurant(\\u003c20)\",\"Carry out & Take away\",\"Bar\",\"Bar\",\"Coffee House\",\"Coffee House\",\"Restaurant(20-50)\",\"Coffee House\",\"Restaurant(\\u003c20)\",\"Bar\",\"Carry out & Take away\",\"Carry out & Take away\",\"Restaurant(20-50)\",\"Coffee House\",\"Carry out & Take away\",\"Coffee House\",\"Restaurant(20-50)\",\"Bar\",\"Carry out & Take away\",\"Restaurant(\\u003c20)\",\"Restaurant(\\u003c20)\",\"Restaurant(20-50)\",\"Restaurant(\\u003c20)\",\"Carry out & Take away\",\"Bar\",\"Bar\",\"Coffee House\",\"Coffee House\",\"Restaurant(20-50)\",\"Coffee House\",\"Restaurant(\\u003c20)\",\"Bar\",\"Carry out & Take away\",\"Carry out & Take away\",\"Restaurant(20-50)\",\"Coffee House\",\"Carry out & Take away\",\"Coffee House\",\"Restaurant(20-50)\",\"Bar\",\"Carry out & Take away\",\"Restaurant(\\u003c20)\",\"Restaurant(\\u003c20)\",\"Restaurant(20-50)\",\"Restaurant(\\u003c20)\",\"Coffee House\",\"Restaurant(\\u003c20)\",\"Coffee House\",\"Restaurant(20-50)\",\"Coffee House\",\"Coffee House\",\"Carry out & Take away\",\"Restaurant(\\u003c20)\",\"Bar\",\"Carry out & Take away\",\"Carry out & Take away\",\"Coffee House\",\"Carry out & Take away\",\"Coffee House\",\"Coffee House\",\"Restaurant(20-50)\",\"Bar\",\"Restaurant(\\u003c20)\",\"Restaurant(20-50)\",\"Restaurant(\\u003c20)\",\"Restaurant(20-50)\",\"Restaurant(\\u003c20)\",\"Coffee House\",\"Coffee House\",\"Restaurant(20-50)\",\"Coffee House\",\"Restaurant(\\u003c20)\",\"Bar\",\"Carry out & Take away\",\"Carry out & Take away\",\"Restaurant(\\u003c20)\",\"Bar\",\"Carry out & Take away\",\"Restaurant(\\u003c20)\",\"Coffee House\",\"Carry out & Take away\",\"Coffee House\",\"Restaurant(20-50)\",\"Coffee House\",\"Bar\",\"Restaurant(\\u003c20)\",\"Restaurant(\\u003c20)\",\"Restaurant(20-50)\",\"Coffee House\",\"Coffee House\",\"Restaurant(20-50)\",\"Coffee House\",\"Restaurant(\\u003c20)\",\"Bar\",\"Carry out & Take away\",\"Carry out & Take away\",\"Restaurant(\\u003c20)\",\"Bar\",\"Carry out & Take away\",\"Restaurant(\\u003c20)\",\"Coffee House\",\"Carry out & Take away\",\"Coffee House\",\"Restaurant(20-50)\",\"Coffee House\",\"Bar\",\"Restaurant(\\u003c20)\",\"Restaurant(\\u003c20)\",\"Restaurant(20-50)\",\"Restaurant(\\u003c20)\",\"Carry out & Take away\",\"Bar\",\"Bar\",\"Coffee House\",\"Coffee House\",\"Restaurant(20-50)\",\"Coffee House\",\"Restaurant(\\u003c20)\",\"Bar\",\"Carry out & Take away\",\"Carry out & Take away\",\"Restaurant(20-50)\",\"Coffee House\",\"Carry out & Take away\",\"Coffee House\",\"Restaurant(20-50)\",\"Bar\",\"Carry out & Take away\",\"Restaurant(\\u003c20)\",\"Restaurant(\\u003c20)\",\"Restaurant(20-50)\",\"Restaurant(\\u003c20)\",\"Coffee House\",\"Restaurant(\\u003c20)\",\"Coffee House\",\"Restaurant(20-50)\",\"Coffee House\",\"Coffee House\",\"Carry out & Take away\",\"Restaurant(\\u003c20)\",\"Bar\",\"Carry out & Take away\",\"Carry out & Take away\",\"Coffee House\",\"Carry out & Take away\",\"Coffee House\",\"Coffee House\",\"Restaurant(20-50)\",\"Bar\",\"Restaurant(\\u003c20)\",\"Restaurant(20-50)\",\"Restaurant(\\u003c20)\",\"Restaurant(20-50)\",\"Restaurant(\\u003c20)\",\"Carry out & Take away\",\"Bar\",\"Bar\",\"Coffee House\",\"Coffee House\",\"Restaurant(20-50)\",\"Coffee House\",\"Restaurant(\\u003c20)\",\"Bar\",\"Carry out & Take away\",\"Carry out & Take away\",\"Restaurant(20-50)\",\"Coffee House\",\"Carry out & Take away\",\"Coffee House\",\"Restaurant(20-50)\",\"Bar\",\"Carry out & Take away\",\"Restaurant(\\u003c20)\",\"Restaurant(\\u003c20)\",\"Restaurant(20-50)\",\"Restaurant(\\u003c20)\",\"Carry out & Take away\",\"Bar\",\"Bar\",\"Coffee House\",\"Coffee House\",\"Restaurant(20-50)\",\"Coffee House\",\"Restaurant(\\u003c20)\",\"Bar\",\"Carry out & Take away\",\"Carry out & Take away\",\"Restaurant(20-50)\",\"Coffee House\",\"Carry out & Take away\",\"Coffee House\",\"Restaurant(20-50)\",\"Bar\",\"Carry out & Take away\",\"Restaurant(\\u003c20)\",\"Restaurant(\\u003c20)\",\"Restaurant(20-50)\",\"Restaurant(\\u003c20)\",\"Coffee House\",\"Restaurant(\\u003c20)\",\"Coffee House\",\"Restaurant(20-50)\",\"Coffee House\",\"Carry out & Take away\",\"Restaurant(\\u003c20)\",\"Bar\",\"Carry out & Take away\",\"Carry out & Take away\",\"Coffee House\",\"Carry out & Take away\",\"Coffee House\",\"Coffee House\",\"Restaurant(20-50)\",\"Bar\",\"Restaurant(\\u003c20)\",\"Restaurant(20-50)\",\"Restaurant(\\u003c20)\",\"Restaurant(20-50)\",\"Restaurant(\\u003c20)\",\"Coffee House\",\"Coffee House\",\"Restaurant(20-50)\",\"Coffee House\",\"Restaurant(\\u003c20)\",\"Bar\",\"Carry out & Take away\",\"Carry out & Take away\",\"Restaurant(\\u003c20)\",\"Bar\",\"Carry out & Take away\",\"Restaurant(\\u003c20)\",\"Coffee House\",\"Carry out & Take away\",\"Coffee House\",\"Restaurant(20-50)\",\"Coffee House\",\"Bar\",\"Restaurant(\\u003c20)\",\"Restaurant(\\u003c20)\",\"Restaurant(20-50)\",\"Restaurant(\\u003c20)\",\"Carry out & Take away\",\"Bar\",\"Bar\",\"Coffee House\",\"Coffee House\",\"Restaurant(20-50)\",\"Coffee House\",\"Restaurant(\\u003c20)\",\"Bar\",\"Carry out & Take away\",\"Carry out & Take away\",\"Restaurant(20-50)\",\"Coffee House\",\"Carry out & Take away\",\"Coffee House\",\"Restaurant(20-50)\",\"Bar\",\"Carry out & Take away\",\"Restaurant(\\u003c20)\",\"Restaurant(\\u003c20)\",\"Restaurant(20-50)\",\"Restaurant(\\u003c20)\",\"Coffee House\",\"Coffee House\",\"Restaurant(20-50)\",\"Coffee House\",\"Restaurant(\\u003c20)\",\"Bar\",\"Carry out & Take away\",\"Carry out & Take away\",\"Restaurant(\\u003c20)\",\"Bar\",\"Carry out & Take away\",\"Restaurant(\\u003c20)\",\"Coffee House\",\"Carry out & Take away\",\"Coffee House\",\"Restaurant(20-50)\",\"Coffee House\",\"Bar\",\"Restaurant(\\u003c20)\",\"Restaurant(\\u003c20)\",\"Restaurant(20-50)\",\"Restaurant(\\u003c20)\",\"Carry out & Take away\",\"Bar\",\"Bar\",\"Coffee House\",\"Coffee House\",\"Restaurant(20-50)\",\"Coffee House\",\"Restaurant(\\u003c20)\",\"Bar\",\"Carry out & Take away\",\"Carry out & Take away\",\"Restaurant(20-50)\",\"Coffee House\",\"Carry out & Take away\",\"Coffee House\",\"Restaurant(20-50)\",\"Bar\",\"Carry out & Take away\",\"Restaurant(\\u003c20)\",\"Restaurant(\\u003c20)\",\"Restaurant(20-50)\",\"Restaurant(\\u003c20)\",\"Coffee House\",\"Restaurant(\\u003c20)\",\"Coffee House\",\"Restaurant(20-50)\",\"Coffee House\",\"Coffee House\",\"Carry out & Take away\",\"Restaurant(\\u003c20)\",\"Bar\",\"Carry out & Take away\",\"Carry out & Take away\",\"Coffee House\",\"Carry out & Take away\",\"Coffee House\",\"Coffee House\",\"Restaurant(20-50)\",\"Bar\",\"Restaurant(\\u003c20)\",\"Restaurant(20-50)\",\"Restaurant(\\u003c20)\",\"Restaurant(20-50)\",\"Restaurant(\\u003c20)\",\"Coffee House\",\"Coffee House\",\"Restaurant(20-50)\",\"Coffee House\",\"Restaurant(\\u003c20)\",\"Bar\",\"Carry out & Take away\",\"Carry out & Take away\",\"Restaurant(\\u003c20)\",\"Bar\",\"Carry out & Take away\",\"Restaurant(\\u003c20)\",\"Coffee House\",\"Carry out & Take away\",\"Coffee House\",\"Restaurant(20-50)\",\"Coffee House\",\"Bar\",\"Restaurant(\\u003c20)\",\"Restaurant(\\u003c20)\",\"Restaurant(20-50)\",\"Restaurant(\\u003c20)\",\"Carry out & Take away\",\"Bar\",\"Bar\",\"Coffee House\",\"Coffee House\",\"Restaurant(20-50)\",\"Coffee House\",\"Restaurant(\\u003c20)\",\"Bar\",\"Carry out & Take away\",\"Carry out & Take away\",\"Coffee House\",\"Carry out & Take away\",\"Coffee House\",\"Restaurant(20-50)\",\"Bar\",\"Carry out & Take away\",\"Restaurant(\\u003c20)\",\"Restaurant(\\u003c20)\",\"Restaurant(20-50)\",\"Restaurant(\\u003c20)\",\"Carry out & Take away\",\"Bar\",\"Bar\",\"Coffee House\",\"Coffee House\",\"Restaurant(20-50)\",\"Coffee House\",\"Restaurant(\\u003c20)\",\"Bar\",\"Carry out & Take away\",\"Carry out & Take away\",\"Restaurant(20-50)\",\"Coffee House\",\"Carry out & Take away\",\"Coffee House\",\"Restaurant(20-50)\",\"Bar\",\"Carry out & Take away\",\"Restaurant(\\u003c20)\",\"Restaurant(\\u003c20)\",\"Restaurant(20-50)\",\"Restaurant(\\u003c20)\",\"Coffee House\",\"Restaurant(\\u003c20)\",\"Coffee House\",\"Restaurant(20-50)\",\"Coffee House\",\"Coffee House\",\"Carry out & Take away\",\"Restaurant(\\u003c20)\",\"Bar\",\"Carry out & Take away\",\"Carry out & Take away\",\"Coffee House\",\"Carry out & Take away\",\"Coffee House\",\"Coffee House\",\"Restaurant(20-50)\",\"Bar\",\"Restaurant(\\u003c20)\",\"Restaurant(20-50)\",\"Restaurant(\\u003c20)\",\"Restaurant(20-50)\",\"Restaurant(\\u003c20)\",\"Carry out & Take away\",\"Bar\",\"Bar\",\"Coffee House\",\"Coffee House\",\"Restaurant(20-50)\",\"Coffee House\",\"Restaurant(\\u003c20)\",\"Bar\",\"Carry out & Take away\",\"Carry out & Take away\",\"Restaurant(20-50)\",\"Coffee House\",\"Carry out & Take away\",\"Coffee House\",\"Restaurant(20-50)\",\"Bar\",\"Carry out & Take away\",\"Restaurant(\\u003c20)\",\"Restaurant(\\u003c20)\",\"Restaurant(20-50)\",\"Restaurant(\\u003c20)\",\"Carry out & Take away\",\"Bar\",\"Bar\",\"Coffee House\",\"Coffee House\",\"Restaurant(20-50)\",\"Coffee House\",\"Restaurant(\\u003c20)\",\"Bar\",\"Carry out & Take away\",\"Carry out & Take away\",\"Restaurant(20-50)\",\"Coffee House\",\"Carry out & Take away\",\"Coffee House\",\"Restaurant(20-50)\",\"Bar\",\"Carry out & Take away\",\"Restaurant(\\u003c20)\",\"Restaurant(\\u003c20)\",\"Restaurant(20-50)\",\"Restaurant(\\u003c20)\",\"Coffee House\",\"Coffee House\",\"Restaurant(20-50)\",\"Coffee House\",\"Restaurant(\\u003c20)\",\"Bar\",\"Carry out & Take away\",\"Carry out & Take away\",\"Restaurant(\\u003c20)\",\"Bar\",\"Carry out & Take away\",\"Restaurant(\\u003c20)\",\"Coffee House\",\"Carry out & Take away\",\"Coffee House\",\"Restaurant(20-50)\",\"Coffee House\",\"Bar\",\"Restaurant(\\u003c20)\",\"Restaurant(\\u003c20)\",\"Restaurant(20-50)\",\"Restaurant(\\u003c20)\",\"Carry out & Take away\",\"Bar\",\"Bar\",\"Coffee House\",\"Coffee House\",\"Restaurant(20-50)\",\"Coffee House\",\"Restaurant(\\u003c20)\",\"Bar\",\"Carry out & Take away\",\"Carry out & Take away\",\"Restaurant(20-50)\",\"Coffee House\",\"Carry out & Take away\",\"Coffee House\",\"Restaurant(20-50)\",\"Bar\",\"Carry out & Take away\",\"Restaurant(\\u003c20)\",\"Restaurant(\\u003c20)\",\"Restaurant(20-50)\",\"Restaurant(\\u003c20)\",\"Coffee House\",\"Coffee House\",\"Restaurant(20-50)\",\"Coffee House\",\"Restaurant(\\u003c20)\",\"Bar\",\"Carry out & Take away\",\"Carry out & Take away\",\"Restaurant(\\u003c20)\",\"Bar\",\"Carry out & Take away\",\"Restaurant(\\u003c20)\",\"Coffee House\",\"Carry out & Take away\",\"Coffee House\",\"Restaurant(20-50)\",\"Coffee House\",\"Bar\",\"Restaurant(\\u003c20)\",\"Restaurant(\\u003c20)\",\"Restaurant(20-50)\",\"Restaurant(\\u003c20)\",\"Carry out & Take away\",\"Bar\",\"Bar\",\"Coffee House\",\"Coffee House\",\"Restaurant(20-50)\",\"Coffee House\",\"Restaurant(\\u003c20)\",\"Bar\",\"Carry out & Take away\",\"Carry out & Take away\",\"Restaurant(20-50)\",\"Coffee House\",\"Carry out & Take away\",\"Coffee House\",\"Restaurant(20-50)\",\"Bar\",\"Carry out & Take away\",\"Restaurant(\\u003c20)\",\"Restaurant(\\u003c20)\",\"Restaurant(20-50)\",\"Restaurant(\\u003c20)\",\"Coffee House\",\"Coffee House\",\"Restaurant(20-50)\",\"Coffee House\",\"Restaurant(\\u003c20)\",\"Bar\",\"Carry out & Take away\",\"Carry out & Take away\",\"Restaurant(\\u003c20)\",\"Bar\",\"Carry out & Take away\",\"Restaurant(\\u003c20)\",\"Coffee House\",\"Carry out & Take away\",\"Coffee House\",\"Restaurant(20-50)\",\"Coffee House\",\"Bar\",\"Restaurant(\\u003c20)\",\"Restaurant(\\u003c20)\",\"Restaurant(20-50)\",\"Restaurant(\\u003c20)\",\"Coffee House\",\"Restaurant(\\u003c20)\",\"Coffee House\",\"Restaurant(20-50)\",\"Coffee House\",\"Coffee House\",\"Carry out & Take away\",\"Restaurant(\\u003c20)\",\"Bar\",\"Carry out & Take away\",\"Carry out & Take away\",\"Coffee House\",\"Carry out & Take away\",\"Coffee House\",\"Coffee House\",\"Restaurant(20-50)\",\"Bar\",\"Restaurant(\\u003c20)\",\"Restaurant(20-50)\",\"Restaurant(\\u003c20)\",\"Restaurant(20-50)\",\"Restaurant(\\u003c20)\",\"Coffee House\",\"Restaurant(\\u003c20)\",\"Coffee House\",\"Restaurant(20-50)\",\"Coffee House\",\"Coffee House\",\"Carry out & Take away\",\"Restaurant(\\u003c20)\",\"Bar\",\"Carry out & Take away\",\"Carry out & Take away\",\"Coffee House\",\"Carry out & Take away\",\"Coffee House\",\"Coffee House\",\"Restaurant(20-50)\",\"Bar\",\"Restaurant(\\u003c20)\",\"Restaurant(20-50)\",\"Restaurant(\\u003c20)\",\"Restaurant(20-50)\",\"Restaurant(\\u003c20)\",\"Coffee House\",\"Coffee House\",\"Restaurant(20-50)\",\"Coffee House\",\"Restaurant(\\u003c20)\",\"Bar\",\"Carry out & Take away\",\"Carry out & Take away\",\"Restaurant(\\u003c20)\",\"Bar\",\"Carry out & Take away\",\"Restaurant(\\u003c20)\",\"Coffee House\",\"Carry out & Take away\",\"Coffee House\",\"Restaurant(20-50)\",\"Coffee House\",\"Bar\",\"Restaurant(\\u003c20)\",\"Restaurant(\\u003c20)\",\"Restaurant(20-50)\",\"Restaurant(\\u003c20)\",\"Coffee House\",\"Coffee House\",\"Restaurant(20-50)\",\"Coffee House\",\"Restaurant(\\u003c20)\",\"Bar\",\"Carry out & Take away\",\"Carry out & Take away\",\"Restaurant(\\u003c20)\",\"Bar\",\"Carry out & Take away\",\"Restaurant(\\u003c20)\",\"Coffee House\",\"Carry out & Take away\",\"Coffee House\",\"Restaurant(20-50)\",\"Coffee House\",\"Bar\",\"Restaurant(\\u003c20)\",\"Restaurant(\\u003c20)\",\"Restaurant(20-50)\",\"Restaurant(\\u003c20)\",\"Carry out & Take away\",\"Bar\",\"Bar\",\"Coffee House\",\"Coffee House\",\"Restaurant(20-50)\",\"Coffee House\",\"Restaurant(\\u003c20)\",\"Bar\",\"Carry out & Take away\",\"Carry out & Take away\",\"Restaurant(20-50)\",\"Coffee House\",\"Carry out & Take away\",\"Coffee House\",\"Restaurant(20-50)\",\"Bar\",\"Carry out & Take away\",\"Restaurant(\\u003c20)\",\"Restaurant(\\u003c20)\",\"Restaurant(20-50)\",\"Restaurant(\\u003c20)\",\"Coffee House\",\"Coffee House\",\"Restaurant(20-50)\",\"Coffee House\",\"Restaurant(\\u003c20)\",\"Bar\",\"Carry out & Take away\",\"Carry out & Take away\",\"Restaurant(\\u003c20)\",\"Bar\",\"Carry out & Take away\",\"Restaurant(\\u003c20)\",\"Coffee House\",\"Carry out & Take away\",\"Coffee House\",\"Restaurant(20-50)\",\"Coffee House\",\"Bar\",\"Restaurant(\\u003c20)\",\"Restaurant(20-50)\",\"Restaurant(\\u003c20)\",\"Coffee House\",\"Coffee House\",\"Restaurant(20-50)\",\"Coffee House\",\"Restaurant(\\u003c20)\",\"Bar\",\"Carry out & Take away\",\"Carry out & Take away\",\"Restaurant(\\u003c20)\",\"Bar\",\"Carry out & Take away\",\"Restaurant(\\u003c20)\",\"Coffee House\",\"Carry out & Take away\",\"Coffee House\",\"Restaurant(20-50)\",\"Coffee House\",\"Bar\",\"Restaurant(\\u003c20)\",\"Restaurant(\\u003c20)\",\"Restaurant(20-50)\",\"Restaurant(\\u003c20)\",\"Carry out & Take away\",\"Bar\",\"Bar\",\"Coffee House\",\"Coffee House\",\"Restaurant(20-50)\",\"Coffee House\",\"Restaurant(\\u003c20)\",\"Bar\",\"Carry out & Take away\",\"Carry out & Take away\",\"Restaurant(20-50)\",\"Coffee House\",\"Carry out & Take away\",\"Coffee House\",\"Restaurant(20-50)\",\"Bar\",\"Carry out & Take away\",\"Restaurant(\\u003c20)\",\"Restaurant(\\u003c20)\",\"Restaurant(20-50)\",\"Restaurant(\\u003c20)\",\"Coffee House\",\"Coffee House\",\"Carry out & Take away\",\"Coffee House\",\"Bar\",\"Restaurant(20-50)\",\"Bar\",\"Restaurant(\\u003c20)\",\"Carry out & Take away\",\"Restaurant(\\u003c20)\",\"Bar\",\"Restaurant(\\u003c20)\",\"Bar\",\"Restaurant(\\u003c20)\",\"Restaurant(20-50)\",\"Coffee House\",\"Bar\",\"Carry out & Take away\",\"Carry out & Take away\",\"Coffee House\",\"Bar\",\"Carry out & Take away\",\"Coffee House\",\"Coffee House\",\"Carry out & Take away\",\"Coffee House\",\"Bar\",\"Restaurant(\\u003c20)\",\"Coffee House\",\"Coffee House\",\"Restaurant(20-50)\",\"Restaurant(20-50)\",\"Carry out & Take away\",\"Bar\",\"Carry out & Take away\",\"Restaurant(\\u003c20)\",\"Bar\",\"Restaurant(\\u003c20)\",\"Restaurant(20-50)\",\"Bar\",\"Carry out & Take away\",\"Coffee House\",\"Bar\",\"Carry out & Take away\",\"Coffee House\",\"Restaurant(20-50)\",\"Coffee House\",\"Restaurant(\\u003c20)\",\"Carry out & Take away\",\"Restaurant(20-50)\",\"Carry out & Take away\",\"Coffee House\",\"Bar\",\"Restaurant(\\u003c20)\",\"Restaurant(20-50)\",\"Carry out & Take away\",\"Restaurant(\\u003c20)\",\"Bar\",\"Restaurant(\\u003c20)\",\"Restaurant(20-50)\",\"Bar\",\"Carry out & Take away\",\"Coffee House\",\"Restaurant(\\u003c20)\",\"Bar\",\"Carry out & Take away\",\"Coffee House\",\"Coffee House\",\"Carry out & Take away\",\"Coffee House\",\"Bar\",\"Restaurant(20-50)\",\"Bar\",\"Restaurant(\\u003c20)\",\"Carry out & Take away\",\"Restaurant(\\u003c20)\",\"Bar\",\"Restaurant(\\u003c20)\",\"Bar\",\"Restaurant(\\u003c20)\",\"Restaurant(20-50)\",\"Coffee House\",\"Bar\",\"Carry out & Take away\",\"Carry out & Take away\",\"Coffee House\",\"Bar\",\"Carry out & Take away\",\"Coffee House\",\"Restaurant(20-50)\",\"Coffee House\",\"Restaurant(\\u003c20)\",\"Carry out & Take away\",\"Restaurant(20-50)\",\"Carry out & Take away\",\"Coffee House\",\"Bar\",\"Restaurant(\\u003c20)\",\"Restaurant(20-50)\",\"Carry out & Take away\",\"Restaurant(\\u003c20)\",\"Bar\",\"Restaurant(\\u003c20)\",\"Restaurant(20-50)\",\"Bar\",\"Carry out & Take away\",\"Coffee House\",\"Restaurant(\\u003c20)\",\"Bar\",\"Carry out & Take away\",\"Coffee House\",\"Coffee House\",\"Carry out & Take away\",\"Coffee House\",\"Bar\",\"Restaurant(\\u003c20)\",\"Coffee House\",\"Coffee House\",\"Restaurant(20-50)\",\"Restaurant(20-50)\",\"Carry out & Take away\",\"Bar\",\"Carry out & Take away\",\"Restaurant(\\u003c20)\",\"Bar\",\"Restaurant(\\u003c20)\",\"Restaurant(20-50)\",\"Bar\",\"Carry out & Take away\",\"Coffee House\",\"Bar\",\"Carry out & Take away\",\"Coffee House\",\"Coffee House\",\"Carry out & Take away\",\"Coffee House\",\"Bar\",\"Restaurant(\\u003c20)\",\"Coffee House\",\"Coffee House\",\"Restaurant(20-50)\",\"Restaurant(20-50)\",\"Carry out & Take away\",\"Bar\",\"Carry out & Take away\",\"Restaurant(\\u003c20)\",\"Bar\",\"Restaurant(\\u003c20)\",\"Restaurant(20-50)\",\"Bar\",\"Carry out & Take away\",\"Coffee House\",\"Bar\",\"Carry out & Take away\",\"Coffee House\",\"Coffee House\",\"Carry out & Take away\",\"Coffee House\",\"Bar\",\"Restaurant(\\u003c20)\",\"Coffee House\",\"Coffee House\",\"Restaurant(20-50)\",\"Restaurant(20-50)\",\"Carry out & Take away\",\"Bar\",\"Carry out & Take away\",\"Restaurant(\\u003c20)\",\"Bar\",\"Restaurant(\\u003c20)\",\"Restaurant(20-50)\",\"Bar\",\"Carry out & Take away\",\"Coffee House\",\"Bar\",\"Carry out & Take away\",\"Coffee House\",\"Restaurant(20-50)\",\"Coffee House\",\"Restaurant(\\u003c20)\",\"Carry out & Take away\",\"Restaurant(20-50)\",\"Carry out & Take away\",\"Coffee House\",\"Bar\",\"Restaurant(\\u003c20)\",\"Restaurant(20-50)\",\"Carry out & Take away\",\"Restaurant(\\u003c20)\",\"Bar\",\"Restaurant(\\u003c20)\",\"Restaurant(20-50)\",\"Bar\",\"Carry out & Take away\",\"Coffee House\",\"Restaurant(\\u003c20)\",\"Bar\",\"Carry out & Take away\",\"Coffee House\",\"Restaurant(20-50)\",\"Coffee House\",\"Restaurant(\\u003c20)\",\"Carry out & Take away\",\"Restaurant(20-50)\",\"Carry out & Take away\",\"Coffee House\",\"Bar\",\"Restaurant(\\u003c20)\",\"Restaurant(20-50)\",\"Carry out & Take away\",\"Restaurant(\\u003c20)\",\"Bar\",\"Restaurant(\\u003c20)\",\"Restaurant(20-50)\",\"Bar\",\"Carry out & Take away\",\"Coffee House\",\"Restaurant(\\u003c20)\",\"Bar\",\"Carry out & Take away\",\"Coffee House\",\"Coffee House\",\"Carry out & Take away\",\"Coffee House\",\"Bar\",\"Restaurant(\\u003c20)\",\"Coffee House\",\"Coffee House\",\"Restaurant(20-50)\",\"Restaurant(20-50)\",\"Carry out & Take away\",\"Bar\",\"Carry out & Take away\",\"Restaurant(\\u003c20)\",\"Bar\",\"Restaurant(\\u003c20)\",\"Restaurant(20-50)\",\"Bar\",\"Carry out & Take away\",\"Coffee House\",\"Bar\",\"Carry out & Take away\",\"Coffee House\",\"Coffee House\",\"Carry out & Take away\",\"Coffee House\",\"Bar\",\"Restaurant(\\u003c20)\",\"Coffee House\",\"Coffee House\",\"Restaurant(20-50)\",\"Restaurant(20-50)\",\"Carry out & Take away\",\"Bar\",\"Carry out & Take away\",\"Restaurant(\\u003c20)\",\"Bar\",\"Restaurant(\\u003c20)\",\"Restaurant(20-50)\",\"Bar\",\"Carry out & Take away\",\"Coffee House\",\"Bar\",\"Carry out & Take away\",\"Coffee House\",\"Coffee House\",\"Carry out & Take away\",\"Coffee House\",\"Bar\",\"Restaurant(\\u003c20)\",\"Coffee House\",\"Coffee House\",\"Restaurant(20-50)\",\"Restaurant(20-50)\",\"Carry out & Take away\",\"Bar\",\"Carry out & Take away\",\"Restaurant(\\u003c20)\",\"Bar\",\"Restaurant(\\u003c20)\",\"Restaurant(20-50)\",\"Bar\",\"Carry out & Take away\",\"Coffee House\",\"Bar\",\"Carry out & Take away\",\"Coffee House\",\"Coffee House\",\"Carry out & Take away\",\"Coffee House\",\"Bar\",\"Restaurant(20-50)\",\"Bar\",\"Restaurant(\\u003c20)\",\"Coffee House\",\"Coffee House\",\"Restaurant(20-50)\",\"Restaurant(20-50)\",\"Carry out & Take away\",\"Bar\",\"Carry out & Take away\",\"Restaurant(\\u003c20)\",\"Bar\",\"Restaurant(\\u003c20)\",\"Bar\",\"Restaurant(\\u003c20)\",\"Restaurant(20-50)\",\"Coffee House\",\"Bar\",\"Carry out & Take away\",\"Carry out & Take away\",\"Coffee House\",\"Bar\",\"Carry out & Take away\",\"Coffee House\",\"Restaurant(20-50)\",\"Coffee House\",\"Restaurant(\\u003c20)\",\"Carry out & Take away\",\"Restaurant(20-50)\",\"Carry out & Take away\",\"Coffee House\",\"Bar\",\"Restaurant(\\u003c20)\",\"Restaurant(20-50)\",\"Carry out & Take away\",\"Restaurant(\\u003c20)\",\"Bar\",\"Restaurant(\\u003c20)\",\"Restaurant(20-50)\",\"Bar\",\"Carry out & Take away\",\"Coffee House\",\"Restaurant(\\u003c20)\",\"Bar\",\"Carry out & Take away\",\"Coffee House\",\"Restaurant(20-50)\",\"Coffee House\",\"Restaurant(\\u003c20)\",\"Carry out & Take away\",\"Restaurant(20-50)\",\"Carry out & Take away\",\"Coffee House\",\"Bar\",\"Restaurant(\\u003c20)\",\"Restaurant(20-50)\",\"Carry out & Take away\",\"Restaurant(\\u003c20)\",\"Bar\",\"Restaurant(\\u003c20)\",\"Restaurant(20-50)\",\"Bar\",\"Carry out & Take away\",\"Coffee House\",\"Restaurant(\\u003c20)\",\"Bar\",\"Carry out & Take away\",\"Coffee House\",\"Restaurant(20-50)\",\"Coffee House\",\"Restaurant(\\u003c20)\",\"Carry out & Take away\",\"Restaurant(20-50)\",\"Carry out & Take away\",\"Coffee House\",\"Bar\",\"Restaurant(\\u003c20)\",\"Restaurant(20-50)\",\"Carry out & Take away\",\"Restaurant(\\u003c20)\",\"Bar\",\"Restaurant(\\u003c20)\",\"Restaurant(20-50)\",\"Bar\",\"Carry out & Take away\",\"Coffee House\",\"Restaurant(\\u003c20)\",\"Bar\",\"Carry out & Take away\",\"Coffee House\",\"Coffee House\",\"Carry out & Take away\",\"Coffee House\",\"Bar\",\"Restaurant(20-50)\",\"Bar\",\"Restaurant(\\u003c20)\",\"Carry out & Take away\",\"Restaurant(\\u003c20)\",\"Bar\",\"Restaurant(\\u003c20)\",\"Bar\",\"Restaurant(\\u003c20)\",\"Restaurant(20-50)\",\"Coffee House\",\"Bar\",\"Carry out & Take away\",\"Carry out & Take away\",\"Coffee House\",\"Bar\",\"Carry out & Take away\",\"Coffee House\",\"Coffee House\",\"Carry out & Take away\",\"Coffee House\",\"Bar\",\"Restaurant(20-50)\",\"Bar\",\"Restaurant(\\u003c20)\",\"Carry out & Take away\",\"Restaurant(\\u003c20)\",\"Bar\",\"Restaurant(\\u003c20)\",\"Bar\",\"Restaurant(\\u003c20)\",\"Restaurant(20-50)\",\"Coffee House\",\"Bar\",\"Carry out & Take away\",\"Carry out & Take away\",\"Coffee House\",\"Bar\",\"Carry out & Take away\",\"Coffee House\",\"Restaurant(20-50)\",\"Coffee House\",\"Restaurant(\\u003c20)\",\"Carry out & Take away\",\"Restaurant(20-50)\",\"Carry out & Take away\",\"Coffee House\",\"Bar\",\"Restaurant(\\u003c20)\",\"Restaurant(20-50)\",\"Carry out & Take away\",\"Restaurant(\\u003c20)\",\"Bar\",\"Restaurant(\\u003c20)\",\"Restaurant(20-50)\",\"Bar\",\"Carry out & Take away\",\"Coffee House\",\"Restaurant(\\u003c20)\",\"Bar\",\"Carry out & Take away\",\"Coffee House\",\"Coffee House\",\"Carry out & Take away\",\"Coffee House\",\"Bar\",\"Restaurant(20-50)\",\"Bar\",\"Restaurant(\\u003c20)\",\"Carry out & Take away\",\"Restaurant(\\u003c20)\",\"Bar\",\"Restaurant(\\u003c20)\",\"Bar\",\"Restaurant(\\u003c20)\",\"Restaurant(20-50)\",\"Coffee House\",\"Bar\",\"Carry out & Take away\",\"Carry out & Take away\",\"Coffee House\",\"Bar\",\"Carry out & Take away\",\"Coffee House\",\"Restaurant(20-50)\",\"Coffee House\",\"Restaurant(\\u003c20)\",\"Carry out & Take away\",\"Restaurant(20-50)\",\"Carry out & Take away\",\"Coffee House\",\"Bar\",\"Restaurant(\\u003c20)\",\"Restaurant(20-50)\",\"Carry out & Take away\",\"Restaurant(\\u003c20)\",\"Bar\",\"Restaurant(\\u003c20)\",\"Restaurant(20-50)\",\"Bar\",\"Carry out & Take away\",\"Coffee House\",\"Restaurant(\\u003c20)\",\"Bar\",\"Carry out & Take away\",\"Coffee House\",\"Restaurant(20-50)\",\"Coffee House\",\"Restaurant(\\u003c20)\",\"Carry out & Take away\",\"Restaurant(20-50)\",\"Carry out & Take away\",\"Coffee House\",\"Bar\",\"Restaurant(\\u003c20)\",\"Restaurant(20-50)\",\"Carry out & Take away\",\"Restaurant(\\u003c20)\",\"Bar\",\"Restaurant(\\u003c20)\",\"Restaurant(20-50)\",\"Bar\",\"Carry out & Take away\",\"Coffee House\",\"Restaurant(\\u003c20)\",\"Bar\",\"Carry out & Take away\",\"Coffee House\",\"Restaurant(20-50)\",\"Coffee House\",\"Restaurant(\\u003c20)\",\"Carry out & Take away\",\"Restaurant(20-50)\",\"Carry out & Take away\",\"Coffee House\",\"Bar\",\"Restaurant(\\u003c20)\",\"Restaurant(20-50)\",\"Carry out & Take away\",\"Restaurant(\\u003c20)\",\"Bar\",\"Restaurant(\\u003c20)\",\"Restaurant(20-50)\",\"Bar\",\"Carry out & Take away\",\"Coffee House\",\"Restaurant(\\u003c20)\",\"Bar\",\"Carry out & Take away\",\"Coffee House\",\"Restaurant(20-50)\",\"Coffee House\",\"Restaurant(\\u003c20)\",\"Carry out & Take away\",\"Restaurant(20-50)\",\"Carry out & Take away\",\"Coffee House\",\"Bar\",\"Restaurant(\\u003c20)\",\"Restaurant(20-50)\",\"Carry out & Take away\",\"Restaurant(\\u003c20)\",\"Bar\",\"Restaurant(\\u003c20)\",\"Restaurant(20-50)\",\"Bar\",\"Carry out & Take away\",\"Coffee House\",\"Restaurant(\\u003c20)\",\"Bar\",\"Carry out & Take away\",\"Coffee House\",\"Restaurant(20-50)\",\"Coffee House\",\"Restaurant(\\u003c20)\",\"Carry out & Take away\",\"Restaurant(20-50)\",\"Carry out & Take away\",\"Coffee House\",\"Bar\",\"Restaurant(\\u003c20)\",\"Restaurant(20-50)\",\"Carry out & Take away\",\"Restaurant(\\u003c20)\",\"Bar\",\"Restaurant(\\u003c20)\",\"Restaurant(20-50)\",\"Bar\",\"Carry out & Take away\",\"Coffee House\",\"Restaurant(\\u003c20)\",\"Bar\",\"Carry out & Take away\",\"Coffee House\",\"Restaurant(20-50)\",\"Coffee House\",\"Restaurant(\\u003c20)\",\"Carry out & Take away\",\"Restaurant(20-50)\",\"Carry out & Take away\",\"Coffee House\",\"Bar\",\"Restaurant(\\u003c20)\",\"Restaurant(20-50)\",\"Carry out & Take away\",\"Restaurant(\\u003c20)\",\"Bar\",\"Restaurant(\\u003c20)\",\"Restaurant(20-50)\",\"Bar\",\"Carry out & Take away\",\"Coffee House\",\"Restaurant(\\u003c20)\",\"Bar\",\"Carry out & Take away\",\"Coffee House\",\"Restaurant(20-50)\",\"Coffee House\",\"Restaurant(\\u003c20)\",\"Carry out & Take away\",\"Restaurant(20-50)\",\"Carry out & Take away\",\"Coffee House\",\"Bar\",\"Restaurant(\\u003c20)\",\"Restaurant(20-50)\",\"Carry out & Take away\",\"Restaurant(\\u003c20)\",\"Bar\",\"Restaurant(\\u003c20)\",\"Restaurant(20-50)\",\"Bar\",\"Carry out & Take away\",\"Coffee House\",\"Restaurant(\\u003c20)\",\"Bar\",\"Carry out & Take away\",\"Coffee House\",\"Coffee House\",\"Carry out & Take away\",\"Coffee House\",\"Bar\",\"Restaurant(20-50)\",\"Restaurant(\\u003c20)\",\"Carry out & Take away\",\"Restaurant(\\u003c20)\",\"Bar\",\"Restaurant(\\u003c20)\",\"Bar\",\"Restaurant(20-50)\",\"Coffee House\",\"Bar\",\"Carry out & Take away\",\"Carry out & Take away\",\"Coffee House\",\"Bar\",\"Carry out & Take away\",\"Coffee House\",\"Coffee House\",\"Carry out & Take away\",\"Coffee House\",\"Bar\",\"Restaurant(\\u003c20)\",\"Coffee House\",\"Coffee House\",\"Restaurant(20-50)\",\"Restaurant(20-50)\",\"Carry out & Take away\",\"Bar\",\"Carry out & Take away\",\"Restaurant(\\u003c20)\",\"Bar\",\"Restaurant(\\u003c20)\",\"Restaurant(20-50)\",\"Bar\",\"Carry out & Take away\",\"Coffee House\",\"Bar\",\"Carry out & Take away\",\"Coffee House\",\"Restaurant(20-50)\",\"Coffee House\",\"Restaurant(\\u003c20)\",\"Carry out & Take away\",\"Restaurant(20-50)\",\"Carry out & Take away\",\"Coffee House\",\"Bar\",\"Restaurant(\\u003c20)\",\"Restaurant(20-50)\",\"Carry out & Take away\",\"Restaurant(\\u003c20)\",\"Bar\",\"Restaurant(\\u003c20)\",\"Restaurant(20-50)\",\"Bar\",\"Carry out & Take away\",\"Coffee House\",\"Restaurant(\\u003c20)\",\"Bar\",\"Carry out & Take away\",\"Coffee House\",\"Coffee House\",\"Carry out & Take away\",\"Coffee House\",\"Bar\",\"Restaurant(20-50)\",\"Bar\",\"Restaurant(\\u003c20)\",\"Carry out & Take away\",\"Restaurant(\\u003c20)\",\"Bar\",\"Restaurant(\\u003c20)\",\"Bar\",\"Restaurant(\\u003c20)\",\"Restaurant(20-50)\",\"Coffee House\",\"Bar\",\"Carry out & Take away\",\"Carry out & Take away\",\"Coffee House\",\"Bar\",\"Carry out & Take away\",\"Coffee House\",\"Coffee House\",\"Carry out & Take away\",\"Coffee House\",\"Bar\",\"Restaurant(20-50)\",\"Bar\",\"Restaurant(\\u003c20)\",\"Carry out & Take away\",\"Restaurant(\\u003c20)\",\"Bar\",\"Restaurant(\\u003c20)\",\"Bar\",\"Restaurant(\\u003c20)\",\"Restaurant(20-50)\",\"Coffee House\",\"Bar\",\"Carry out & Take away\",\"Carry out & Take away\",\"Coffee House\",\"Bar\",\"Carry out & Take away\",\"Coffee House\",\"Coffee House\",\"Carry out & Take away\",\"Coffee House\",\"Bar\",\"Restaurant(\\u003c20)\",\"Coffee House\",\"Coffee House\",\"Restaurant(20-50)\",\"Restaurant(20-50)\",\"Carry out & Take away\",\"Bar\",\"Carry out & Take away\",\"Restaurant(\\u003c20)\",\"Bar\",\"Restaurant(\\u003c20)\",\"Restaurant(20-50)\",\"Bar\",\"Carry out & Take away\",\"Coffee House\",\"Bar\",\"Carry out & Take away\",\"Coffee House\",\"Coffee House\",\"Carry out & Take away\",\"Coffee House\",\"Bar\",\"Restaurant(\\u003c20)\",\"Coffee House\",\"Coffee House\",\"Restaurant(20-50)\",\"Restaurant(20-50)\",\"Carry out & Take away\",\"Bar\",\"Carry out & Take away\",\"Restaurant(\\u003c20)\",\"Bar\",\"Restaurant(\\u003c20)\",\"Restaurant(20-50)\",\"Bar\",\"Carry out & Take away\",\"Coffee House\",\"Bar\",\"Carry out & Take away\",\"Coffee House\",\"Coffee House\",\"Carry out & Take away\",\"Coffee House\",\"Bar\",\"Restaurant(20-50)\",\"Bar\",\"Restaurant(\\u003c20)\",\"Carry out & Take away\",\"Restaurant(\\u003c20)\",\"Bar\",\"Restaurant(\\u003c20)\",\"Bar\",\"Restaurant(\\u003c20)\",\"Restaurant(20-50)\",\"Coffee House\",\"Bar\",\"Carry out & Take away\",\"Carry out & Take away\",\"Coffee House\",\"Bar\",\"Carry out & Take away\",\"Coffee House\",\"Restaurant(20-50)\",\"Coffee House\",\"Restaurant(\\u003c20)\",\"Carry out & Take away\",\"Restaurant(20-50)\",\"Carry out & Take away\",\"Coffee House\",\"Bar\",\"Restaurant(\\u003c20)\",\"Restaurant(20-50)\",\"Carry out & Take away\",\"Restaurant(\\u003c20)\",\"Bar\",\"Restaurant(\\u003c20)\",\"Restaurant(20-50)\",\"Bar\",\"Carry out & Take away\",\"Coffee House\",\"Restaurant(\\u003c20)\",\"Bar\",\"Carry out & Take away\",\"Coffee House\",\"Restaurant(20-50)\",\"Coffee House\",\"Restaurant(\\u003c20)\",\"Carry out & Take away\",\"Restaurant(20-50)\",\"Carry out & Take away\",\"Coffee House\",\"Bar\",\"Restaurant(\\u003c20)\",\"Restaurant(20-50)\",\"Carry out & Take away\",\"Restaurant(\\u003c20)\",\"Bar\",\"Restaurant(\\u003c20)\",\"Restaurant(20-50)\",\"Bar\",\"Carry out & Take away\",\"Coffee House\",\"Restaurant(\\u003c20)\",\"Bar\",\"Carry out & Take away\",\"Coffee House\",\"Restaurant(20-50)\",\"Coffee House\",\"Restaurant(\\u003c20)\",\"Carry out & Take away\",\"Restaurant(20-50)\",\"Carry out & Take away\",\"Coffee House\",\"Bar\",\"Restaurant(\\u003c20)\",\"Restaurant(20-50)\",\"Carry out & Take away\",\"Restaurant(\\u003c20)\",\"Bar\",\"Restaurant(20-50)\",\"Bar\",\"Carry out & Take away\",\"Coffee House\",\"Restaurant(\\u003c20)\",\"Bar\",\"Carry out & Take away\",\"Coffee House\",\"Coffee House\",\"Carry out & Take away\",\"Coffee House\",\"Bar\",\"Restaurant(20-50)\",\"Bar\",\"Restaurant(\\u003c20)\",\"Carry out & Take away\",\"Restaurant(\\u003c20)\",\"Bar\",\"Restaurant(\\u003c20)\",\"Bar\",\"Restaurant(\\u003c20)\",\"Restaurant(20-50)\",\"Coffee House\",\"Bar\",\"Carry out & Take away\",\"Carry out & Take away\",\"Coffee House\",\"Bar\",\"Carry out & Take away\",\"Coffee House\",\"Restaurant(20-50)\",\"Coffee House\",\"Restaurant(\\u003c20)\",\"Carry out & Take away\",\"Restaurant(20-50)\",\"Carry out & Take away\",\"Coffee House\",\"Bar\",\"Restaurant(\\u003c20)\",\"Restaurant(20-50)\",\"Carry out & Take away\",\"Restaurant(\\u003c20)\",\"Bar\",\"Restaurant(\\u003c20)\",\"Restaurant(20-50)\",\"Bar\",\"Carry out & Take away\",\"Carry out & Take away\",\"Coffee House\",\"Restaurant(\\u003c20)\",\"Bar\",\"Carry out & Take away\",\"Coffee House\",\"Restaurant(20-50)\",\"Coffee House\",\"Restaurant(\\u003c20)\",\"Carry out & Take away\",\"Restaurant(20-50)\",\"Carry out & Take away\",\"Bar\",\"Restaurant(\\u003c20)\",\"Restaurant(20-50)\",\"Carry out & Take away\",\"Restaurant(\\u003c20)\",\"Bar\",\"Restaurant(\\u003c20)\",\"Restaurant(20-50)\",\"Bar\",\"Carry out & Take away\",\"Coffee House\",\"Restaurant(\\u003c20)\",\"Bar\",\"Carry out & Take away\",\"Coffee House\",\"Coffee House\",\"Carry out & Take away\",\"Coffee House\",\"Bar\",\"Restaurant(\\u003c20)\",\"Coffee House\",\"Coffee House\",\"Restaurant(20-50)\",\"Restaurant(20-50)\",\"Carry out & Take away\",\"Bar\",\"Carry out & Take away\",\"Restaurant(\\u003c20)\",\"Bar\",\"Restaurant(\\u003c20)\",\"Restaurant(20-50)\",\"Bar\",\"Carry out & Take away\",\"Coffee House\",\"Bar\",\"Carry out & Take away\",\"Coffee House\",\"Restaurant(20-50)\",\"Coffee House\",\"Restaurant(\\u003c20)\",\"Carry out & Take away\",\"Restaurant(20-50)\",\"Carry out & Take away\",\"Coffee House\",\"Bar\",\"Restaurant(\\u003c20)\",\"Restaurant(20-50)\",\"Carry out & Take away\",\"Restaurant(\\u003c20)\",\"Bar\",\"Restaurant(\\u003c20)\",\"Restaurant(20-50)\",\"Bar\",\"Carry out & Take away\",\"Coffee House\",\"Restaurant(\\u003c20)\",\"Bar\",\"Carry out & Take away\",\"Coffee House\",\"Coffee House\",\"Carry out & Take away\",\"Bar\",\"Restaurant(20-50)\",\"Bar\",\"Restaurant(\\u003c20)\",\"Bar\",\"Restaurant(\\u003c20)\",\"Bar\",\"Restaurant(\\u003c20)\",\"Coffee House\",\"Bar\",\"Carry out & Take away\",\"Coffee House\",\"Bar\",\"Carry out & Take away\",\"Coffee House\",\"Coffee House\",\"Carry out & Take away\",\"Coffee House\",\"Bar\",\"Restaurant(20-50)\",\"Bar\",\"Restaurant(\\u003c20)\",\"Carry out & Take away\",\"Restaurant(\\u003c20)\",\"Bar\",\"Restaurant(\\u003c20)\",\"Bar\",\"Restaurant(\\u003c20)\",\"Restaurant(20-50)\",\"Coffee House\",\"Bar\",\"Carry out & Take away\",\"Carry out & Take away\",\"Coffee House\",\"Bar\",\"Carry out & Take away\",\"Coffee House\",\"Coffee House\",\"Carry out & Take away\",\"Coffee House\",\"Bar\",\"Restaurant(20-50)\",\"Bar\",\"Restaurant(\\u003c20)\",\"Carry out & Take away\",\"Restaurant(\\u003c20)\",\"Bar\",\"Restaurant(\\u003c20)\",\"Bar\",\"Restaurant(\\u003c20)\",\"Restaurant(20-50)\",\"Coffee House\",\"Bar\",\"Carry out & Take away\",\"Carry out & Take away\",\"Coffee House\",\"Bar\",\"Carry out & Take away\",\"Coffee House\",\"Restaurant(20-50)\",\"Coffee House\",\"Restaurant(\\u003c20)\",\"Carry out & Take away\",\"Restaurant(20-50)\",\"Carry out & Take away\",\"Coffee House\",\"Bar\",\"Restaurant(\\u003c20)\",\"Restaurant(20-50)\",\"Carry out & Take away\",\"Restaurant(\\u003c20)\",\"Bar\",\"Restaurant(\\u003c20)\",\"Restaurant(20-50)\",\"Bar\",\"Carry out & Take away\",\"Coffee House\",\"Restaurant(\\u003c20)\",\"Bar\",\"Carry out & Take away\",\"Coffee House\",\"Restaurant(20-50)\",\"Coffee House\",\"Restaurant(\\u003c20)\",\"Carry out & Take away\",\"Restaurant(20-50)\",\"Carry out & Take away\",\"Coffee House\",\"Bar\",\"Restaurant(\\u003c20)\",\"Restaurant(20-50)\",\"Carry out & Take away\",\"Restaurant(\\u003c20)\",\"Bar\",\"Restaurant(\\u003c20)\",\"Restaurant(20-50)\",\"Bar\",\"Carry out & Take away\",\"Coffee House\",\"Restaurant(\\u003c20)\",\"Bar\",\"Carry out & Take away\",\"Coffee House\",\"Coffee House\",\"Carry out & Take away\",\"Coffee House\",\"Bar\",\"Restaurant(20-50)\",\"Bar\",\"Restaurant(\\u003c20)\",\"Carry out & Take away\",\"Restaurant(\\u003c20)\",\"Bar\",\"Restaurant(\\u003c20)\",\"Bar\",\"Restaurant(\\u003c20)\",\"Restaurant(20-50)\",\"Coffee House\",\"Bar\",\"Carry out & Take away\",\"Carry out & Take away\",\"Coffee House\",\"Bar\",\"Carry out & Take away\",\"Coffee House\",\"Restaurant(20-50)\",\"Coffee House\",\"Restaurant(\\u003c20)\",\"Carry out & Take away\",\"Restaurant(20-50)\",\"Carry out & Take away\",\"Coffee House\",\"Bar\",\"Restaurant(\\u003c20)\",\"Restaurant(20-50)\",\"Carry out & Take away\",\"Restaurant(\\u003c20)\",\"Bar\",\"Restaurant(\\u003c20)\",\"Restaurant(20-50)\",\"Bar\",\"Carry out & Take away\",\"Coffee House\",\"Restaurant(\\u003c20)\",\"Bar\",\"Carry out & Take away\",\"Coffee House\",\"Restaurant(20-50)\",\"Coffee House\",\"Restaurant(\\u003c20)\",\"Carry out & Take away\",\"Restaurant(20-50)\",\"Carry out & Take away\",\"Coffee House\",\"Bar\",\"Restaurant(\\u003c20)\",\"Restaurant(20-50)\",\"Carry out & Take away\",\"Restaurant(\\u003c20)\",\"Bar\",\"Restaurant(\\u003c20)\",\"Restaurant(20-50)\",\"Bar\",\"Carry out & Take away\",\"Coffee House\",\"Restaurant(\\u003c20)\",\"Bar\",\"Carry out & Take away\",\"Coffee House\",\"Coffee House\",\"Carry out & Take away\",\"Coffee House\",\"Bar\",\"Restaurant(20-50)\",\"Bar\",\"Restaurant(\\u003c20)\",\"Carry out & Take away\",\"Restaurant(\\u003c20)\",\"Bar\",\"Restaurant(\\u003c20)\",\"Bar\",\"Restaurant(\\u003c20)\",\"Restaurant(20-50)\",\"Coffee House\",\"Bar\",\"Carry out & Take away\",\"Carry out & Take away\",\"Coffee House\",\"Bar\",\"Carry out & Take away\",\"Coffee House\",\"Restaurant(20-50)\",\"Coffee House\",\"Restaurant(\\u003c20)\",\"Carry out & Take away\",\"Restaurant(20-50)\",\"Carry out & Take away\",\"Coffee House\",\"Bar\",\"Restaurant(\\u003c20)\",\"Restaurant(20-50)\",\"Carry out & Take away\",\"Restaurant(\\u003c20)\",\"Bar\",\"Restaurant(\\u003c20)\",\"Restaurant(20-50)\",\"Bar\",\"Carry out & Take away\",\"Coffee House\",\"Restaurant(\\u003c20)\",\"Bar\",\"Carry out & Take away\",\"Coffee House\",\"Restaurant(20-50)\",\"Coffee House\",\"Restaurant(\\u003c20)\",\"Carry out & Take away\",\"Restaurant(20-50)\",\"Carry out & Take away\",\"Coffee House\",\"Bar\",\"Restaurant(\\u003c20)\",\"Restaurant(20-50)\",\"Carry out & Take away\",\"Restaurant(\\u003c20)\",\"Bar\",\"Restaurant(\\u003c20)\",\"Restaurant(20-50)\",\"Bar\",\"Carry out & Take away\",\"Coffee House\",\"Restaurant(\\u003c20)\",\"Bar\",\"Carry out & Take away\",\"Coffee House\",\"Coffee House\",\"Carry out & Take away\",\"Coffee House\",\"Bar\",\"Restaurant(20-50)\",\"Bar\",\"Restaurant(\\u003c20)\",\"Carry out & Take away\",\"Restaurant(\\u003c20)\",\"Bar\",\"Restaurant(\\u003c20)\",\"Bar\",\"Restaurant(\\u003c20)\",\"Restaurant(20-50)\",\"Coffee House\",\"Bar\",\"Carry out & Take away\",\"Carry out & Take away\",\"Coffee House\",\"Bar\",\"Carry out & Take away\",\"Coffee House\",\"Restaurant(20-50)\",\"Coffee House\",\"Restaurant(\\u003c20)\",\"Carry out & Take away\",\"Restaurant(20-50)\",\"Carry out & Take away\",\"Coffee House\",\"Bar\",\"Restaurant(\\u003c20)\",\"Restaurant(20-50)\",\"Carry out & Take away\",\"Restaurant(\\u003c20)\",\"Bar\",\"Restaurant(\\u003c20)\",\"Restaurant(20-50)\",\"Bar\",\"Carry out & Take away\",\"Coffee House\",\"Restaurant(\\u003c20)\",\"Bar\",\"Carry out & Take away\",\"Coffee House\",\"Restaurant(20-50)\",\"Coffee House\",\"Restaurant(\\u003c20)\",\"Carry out & Take away\",\"Restaurant(20-50)\",\"Carry out & Take away\",\"Coffee House\",\"Bar\",\"Restaurant(\\u003c20)\",\"Restaurant(20-50)\",\"Carry out & Take away\",\"Restaurant(\\u003c20)\",\"Bar\",\"Restaurant(\\u003c20)\",\"Restaurant(20-50)\",\"Bar\",\"Carry out & Take away\",\"Coffee House\",\"Restaurant(\\u003c20)\",\"Bar\",\"Carry out & Take away\",\"Coffee House\",\"Coffee House\",\"Carry out & Take away\",\"Coffee House\",\"Bar\",\"Restaurant(\\u003c20)\",\"Coffee House\",\"Coffee House\",\"Restaurant(20-50)\",\"Restaurant(20-50)\",\"Carry out & Take away\",\"Bar\",\"Carry out & Take away\",\"Restaurant(\\u003c20)\",\"Bar\",\"Restaurant(\\u003c20)\",\"Restaurant(20-50)\",\"Bar\",\"Carry out & Take away\",\"Coffee House\",\"Bar\",\"Carry out & Take away\",\"Coffee House\",\"Coffee House\",\"Carry out & Take away\",\"Coffee House\",\"Bar\",\"Restaurant(20-50)\",\"Bar\",\"Restaurant(\\u003c20)\",\"Carry out & Take away\",\"Restaurant(\\u003c20)\",\"Bar\",\"Restaurant(\\u003c20)\",\"Bar\",\"Restaurant(\\u003c20)\",\"Restaurant(20-50)\",\"Coffee House\",\"Bar\",\"Carry out & Take away\",\"Carry out & Take away\",\"Coffee House\",\"Bar\",\"Carry out & Take away\",\"Coffee House\",\"Coffee House\",\"Carry out & Take away\",\"Coffee House\",\"Bar\",\"Restaurant(20-50)\",\"Bar\",\"Restaurant(\\u003c20)\",\"Carry out & Take away\",\"Restaurant(\\u003c20)\",\"Bar\",\"Restaurant(\\u003c20)\",\"Bar\",\"Restaurant(\\u003c20)\",\"Restaurant(20-50)\",\"Coffee House\",\"Bar\",\"Carry out & Take away\",\"Carry out & Take away\",\"Coffee House\",\"Bar\",\"Carry out & Take away\",\"Coffee House\",\"Coffee House\",\"Carry out & Take away\",\"Coffee House\",\"Bar\",\"Restaurant(\\u003c20)\",\"Coffee House\",\"Coffee House\",\"Restaurant(20-50)\",\"Restaurant(20-50)\",\"Carry out & Take away\",\"Bar\",\"Carry out & Take away\",\"Restaurant(\\u003c20)\",\"Bar\",\"Restaurant(\\u003c20)\",\"Restaurant(20-50)\",\"Bar\",\"Carry out & Take away\",\"Coffee House\",\"Bar\",\"Carry out & Take away\",\"Coffee House\",\"Coffee House\",\"Carry out & Take away\",\"Restaurant(20-50)\",\"Carry out & Take away\",\"Coffee House\",\"Bar\",\"Restaurant(\\u003c20)\",\"Restaurant(20-50)\",\"Carry out & Take away\",\"Restaurant(\\u003c20)\",\"Bar\",\"Restaurant(\\u003c20)\",\"Restaurant(20-50)\",\"Bar\",\"Carry out & Take away\",\"Coffee House\",\"Restaurant(\\u003c20)\",\"Bar\",\"Carry out & Take away\",\"Coffee House\",\"Coffee House\",\"Carry out & Take away\",\"Coffee House\",\"Bar\",\"Restaurant(20-50)\",\"Bar\",\"Restaurant(\\u003c20)\",\"Carry out & Take away\",\"Restaurant(\\u003c20)\",\"Bar\",\"Restaurant(\\u003c20)\",\"Bar\",\"Restaurant(\\u003c20)\",\"Restaurant(20-50)\",\"Coffee House\",\"Bar\",\"Carry out & Take away\",\"Carry out & Take away\",\"Coffee House\",\"Bar\",\"Carry out & Take away\",\"Coffee House\",\"Coffee House\",\"Carry out & Take away\",\"Coffee House\",\"Bar\",\"Restaurant(20-50)\",\"Bar\",\"Restaurant(\\u003c20)\",\"Carry out & Take away\",\"Restaurant(\\u003c20)\",\"Bar\",\"Restaurant(\\u003c20)\",\"Bar\",\"Restaurant(\\u003c20)\",\"Restaurant(20-50)\",\"Coffee House\",\"Bar\",\"Carry out & Take away\",\"Carry out & Take away\",\"Coffee House\",\"Bar\",\"Carry out & Take away\",\"Coffee House\",\"Coffee House\",\"Carry out & Take away\",\"Coffee House\",\"Bar\",\"Restaurant(\\u003c20)\",\"Coffee House\",\"Coffee House\",\"Restaurant(20-50)\",\"Restaurant(20-50)\",\"Carry out & Take away\",\"Bar\",\"Carry out & Take away\",\"Restaurant(\\u003c20)\",\"Bar\",\"Restaurant(\\u003c20)\",\"Restaurant(20-50)\",\"Bar\",\"Carry out & Take away\",\"Coffee House\",\"Bar\",\"Carry out & Take away\",\"Coffee House\",\"Restaurant(20-50)\",\"Coffee House\",\"Restaurant(\\u003c20)\",\"Carry out & Take away\",\"Restaurant(20-50)\",\"Carry out & Take away\",\"Coffee House\",\"Bar\",\"Restaurant(\\u003c20)\",\"Restaurant(20-50)\",\"Carry out & Take away\",\"Restaurant(\\u003c20)\",\"Bar\",\"Restaurant(\\u003c20)\",\"Restaurant(20-50)\",\"Bar\",\"Carry out & Take away\",\"Coffee House\",\"Restaurant(\\u003c20)\",\"Bar\",\"Carry out & Take away\",\"Coffee House\",\"Coffee House\",\"Carry out & Take away\",\"Coffee House\",\"Bar\",\"Restaurant(\\u003c20)\",\"Coffee House\",\"Coffee House\",\"Restaurant(20-50)\",\"Restaurant(20-50)\",\"Carry out & Take away\",\"Bar\",\"Carry out & Take away\",\"Restaurant(\\u003c20)\",\"Bar\",\"Restaurant(\\u003c20)\",\"Restaurant(20-50)\",\"Bar\",\"Carry out & Take away\",\"Coffee House\",\"Bar\",\"Carry out & Take away\",\"Coffee House\",\"Coffee House\",\"Carry out & Take away\",\"Coffee House\",\"Bar\",\"Restaurant(\\u003c20)\",\"Coffee House\",\"Coffee House\",\"Restaurant(20-50)\",\"Restaurant(20-50)\",\"Carry out & Take away\",\"Bar\",\"Carry out & Take away\",\"Restaurant(\\u003c20)\",\"Bar\",\"Restaurant(\\u003c20)\",\"Restaurant(20-50)\",\"Bar\",\"Carry out & Take away\",\"Coffee House\",\"Bar\",\"Carry out & Take away\",\"Coffee House\",\"Restaurant(20-50)\",\"Coffee House\",\"Restaurant(\\u003c20)\",\"Carry out & Take away\",\"Restaurant(20-50)\",\"Carry out & Take away\",\"Coffee House\",\"Bar\",\"Restaurant(\\u003c20)\",\"Restaurant(20-50)\",\"Carry out & Take away\",\"Restaurant(\\u003c20)\",\"Bar\",\"Restaurant(\\u003c20)\",\"Restaurant(20-50)\",\"Bar\",\"Carry out & Take away\",\"Coffee House\",\"Restaurant(\\u003c20)\",\"Bar\",\"Carry out & Take away\",\"Coffee House\",\"Coffee House\",\"Carry out & Take away\",\"Coffee House\",\"Bar\",\"Restaurant(20-50)\",\"Bar\",\"Restaurant(\\u003c20)\",\"Carry out & Take away\",\"Restaurant(\\u003c20)\",\"Bar\",\"Restaurant(\\u003c20)\",\"Bar\",\"Restaurant(\\u003c20)\",\"Restaurant(20-50)\",\"Coffee House\",\"Bar\",\"Carry out & Take away\",\"Carry out & Take away\",\"Coffee House\",\"Bar\",\"Carry out & Take away\",\"Coffee House\",\"Coffee House\",\"Carry out & Take away\",\"Coffee House\",\"Bar\",\"Restaurant(\\u003c20)\",\"Coffee House\",\"Coffee House\",\"Restaurant(20-50)\",\"Restaurant(20-50)\",\"Carry out & Take away\",\"Bar\",\"Carry out & Take away\",\"Restaurant(\\u003c20)\",\"Bar\",\"Restaurant(\\u003c20)\",\"Restaurant(20-50)\",\"Bar\",\"Carry out & Take away\",\"Coffee House\",\"Bar\",\"Carry out & Take away\",\"Coffee House\",\"Coffee House\",\"Carry out & Take away\",\"Bar\",\"Restaurant(20-50)\",\"Bar\",\"Restaurant(\\u003c20)\",\"Carry out & Take away\",\"Restaurant(\\u003c20)\",\"Bar\",\"Restaurant(\\u003c20)\",\"Bar\",\"Restaurant(\\u003c20)\",\"Restaurant(20-50)\",\"Coffee House\",\"Bar\",\"Carry out & Take away\",\"Carry out & Take away\",\"Coffee House\",\"Bar\",\"Carry out & Take away\",\"Coffee House\",\"Restaurant(20-50)\",\"Coffee House\",\"Restaurant(\\u003c20)\",\"Carry out & Take away\",\"Restaurant(20-50)\",\"Carry out & Take away\",\"Coffee House\",\"Bar\",\"Restaurant(\\u003c20)\",\"Restaurant(20-50)\",\"Carry out & Take away\",\"Restaurant(\\u003c20)\",\"Bar\",\"Restaurant(\\u003c20)\",\"Restaurant(20-50)\",\"Bar\",\"Carry out & Take away\",\"Coffee House\",\"Restaurant(\\u003c20)\",\"Bar\",\"Carry out & Take away\",\"Coffee House\",\"Coffee House\",\"Carry out & Take away\",\"Coffee House\",\"Bar\",\"Restaurant(\\u003c20)\",\"Coffee House\",\"Coffee House\",\"Restaurant(20-50)\",\"Restaurant(20-50)\",\"Carry out & Take away\",\"Bar\",\"Carry out & Take away\",\"Restaurant(\\u003c20)\",\"Bar\",\"Restaurant(\\u003c20)\",\"Restaurant(20-50)\",\"Bar\",\"Carry out & Take away\",\"Coffee House\",\"Bar\",\"Carry out & Take away\",\"Coffee House\",\"Coffee House\",\"Carry out & Take away\",\"Coffee House\",\"Bar\",\"Restaurant(\\u003c20)\",\"Carry out & Take away\",\"Restaurant(\\u003c20)\",\"Bar\",\"Restaurant(\\u003c20)\",\"Restaurant(20-50)\",\"Bar\",\"Carry out & Take away\",\"Carry out & Take away\",\"Coffee House\",\"Bar\",\"Carry out & Take away\",\"Coffee House\",\"Restaurant(20-50)\",\"Coffee House\",\"Restaurant(\\u003c20)\",\"Carry out & Take away\",\"Restaurant(20-50)\",\"Carry out & Take away\",\"Coffee House\",\"Bar\",\"Restaurant(\\u003c20)\",\"Restaurant(20-50)\",\"Carry out & Take away\",\"Restaurant(\\u003c20)\",\"Bar\",\"Restaurant(\\u003c20)\",\"Restaurant(20-50)\",\"Bar\",\"Carry out & Take away\",\"Coffee House\",\"Restaurant(\\u003c20)\",\"Bar\",\"Carry out & Take away\",\"Coffee House\",\"Coffee House\",\"Carry out & Take away\",\"Coffee House\",\"Bar\",\"Restaurant(\\u003c20)\",\"Coffee House\",\"Coffee House\",\"Restaurant(20-50)\",\"Restaurant(20-50)\",\"Carry out & Take away\",\"Bar\",\"Carry out & Take away\",\"Restaurant(\\u003c20)\",\"Bar\",\"Restaurant(\\u003c20)\",\"Restaurant(20-50)\",\"Bar\",\"Carry out & Take away\",\"Coffee House\",\"Bar\",\"Carry out & Take away\",\"Coffee House\",\"Coffee House\",\"Carry out & Take away\",\"Coffee House\",\"Bar\",\"Restaurant(\\u003c20)\",\"Coffee House\",\"Carry out & Take away\",\"Restaurant(\\u003c20)\",\"Bar\",\"Restaurant(\\u003c20)\",\"Restaurant(20-50)\",\"Bar\",\"Carry out & Take away\",\"Coffee House\",\"Bar\",\"Carry out & Take away\",\"Coffee House\",\"Restaurant(20-50)\",\"Coffee House\",\"Restaurant(\\u003c20)\",\"Carry out & Take away\",\"Restaurant(20-50)\",\"Carry out & Take away\",\"Coffee House\",\"Bar\",\"Restaurant(\\u003c20)\",\"Restaurant(20-50)\",\"Carry out & Take away\",\"Restaurant(\\u003c20)\",\"Bar\",\"Restaurant(\\u003c20)\",\"Restaurant(20-50)\",\"Bar\",\"Carry out & Take away\",\"Coffee House\",\"Restaurant(\\u003c20)\",\"Bar\",\"Carry out & Take away\",\"Coffee House\",\"Coffee House\",\"Carry out & Take away\",\"Coffee House\",\"Bar\",\"Restaurant(\\u003c20)\",\"Coffee House\",\"Coffee House\",\"Restaurant(20-50)\",\"Restaurant(20-50)\",\"Carry out & Take away\",\"Bar\",\"Carry out & Take away\",\"Restaurant(\\u003c20)\",\"Bar\",\"Restaurant(\\u003c20)\",\"Restaurant(20-50)\",\"Bar\",\"Carry out & Take away\",\"Coffee House\",\"Bar\",\"Carry out & Take away\",\"Coffee House\",\"Coffee House\",\"Restaurant(20-50)\",\"Restaurant(20-50)\",\"Carry out & Take away\",\"Bar\",\"Coffee House\",\"Restaurant(20-50)\",\"Coffee House\",\"Restaurant(\\u003c20)\",\"Carry out & Take away\",\"Restaurant(20-50)\",\"Carry out & Take away\",\"Coffee House\",\"Bar\",\"Restaurant(\\u003c20)\",\"Restaurant(20-50)\",\"Carry out & Take away\",\"Restaurant(\\u003c20)\",\"Bar\",\"Restaurant(\\u003c20)\",\"Restaurant(20-50)\",\"Bar\",\"Carry out & Take away\",\"Coffee House\",\"Restaurant(\\u003c20)\",\"Bar\",\"Carry out & Take away\",\"Coffee House\",\"Restaurant(20-50)\",\"Coffee House\",\"Restaurant(\\u003c20)\",\"Carry out & Take away\",\"Restaurant(20-50)\",\"Carry out & Take away\",\"Coffee House\",\"Bar\",\"Restaurant(\\u003c20)\",\"Restaurant(20-50)\",\"Carry out & Take away\",\"Restaurant(\\u003c20)\",\"Bar\",\"Restaurant(\\u003c20)\",\"Restaurant(20-50)\",\"Bar\",\"Carry out & Take away\",\"Coffee House\",\"Restaurant(\\u003c20)\",\"Bar\",\"Carry out & Take away\",\"Coffee House\",\"Coffee House\",\"Carry out & Take away\",\"Coffee House\",\"Bar\",\"Restaurant(20-50)\",\"Bar\",\"Restaurant(\\u003c20)\",\"Carry out & Take away\",\"Restaurant(\\u003c20)\",\"Bar\",\"Restaurant(\\u003c20)\",\"Bar\",\"Restaurant(\\u003c20)\",\"Restaurant(20-50)\",\"Coffee House\",\"Bar\",\"Carry out & Take away\",\"Carry out & Take away\",\"Coffee House\",\"Bar\",\"Carry out & Take away\",\"Coffee House\",\"Coffee House\",\"Carry out & Take away\",\"Coffee House\",\"Bar\",\"Restaurant(\\u003c20)\",\"Coffee House\",\"Coffee House\",\"Restaurant(20-50)\",\"Restaurant(20-50)\",\"Carry out & Take away\",\"Bar\",\"Carry out & Take away\",\"Restaurant(\\u003c20)\",\"Bar\",\"Restaurant(\\u003c20)\",\"Restaurant(20-50)\",\"Bar\",\"Carry out & Take away\",\"Coffee House\",\"Bar\",\"Carry out & Take away\",\"Coffee House\",\"Carry out & Take away\",\"Coffee House\",\"Bar\",\"Restaurant(\\u003c20)\",\"Restaurant(20-50)\",\"Carry out & Take away\",\"Restaurant(\\u003c20)\",\"Bar\",\"Restaurant(\\u003c20)\",\"Restaurant(20-50)\",\"Bar\",\"Carry out & Take away\",\"Coffee House\",\"Bar\",\"Carry out & Take away\",\"Coffee House\",\"Coffee House\",\"Carry out & Take away\",\"Coffee House\",\"Bar\",\"Restaurant(\\u003c20)\",\"Coffee House\",\"Coffee House\",\"Restaurant(20-50)\",\"Restaurant(20-50)\",\"Carry out & Take away\",\"Bar\",\"Carry out & Take away\",\"Restaurant(\\u003c20)\",\"Bar\",\"Restaurant(\\u003c20)\",\"Restaurant(20-50)\",\"Bar\",\"Carry out & Take away\",\"Coffee House\",\"Bar\",\"Carry out & Take away\",\"Coffee House\",\"Coffee House\",\"Carry out & Take away\",\"Coffee House\",\"Bar\",\"Restaurant(\\u003c20)\",\"Restaurant(20-50)\",\"Carry out & Take away\",\"Restaurant(\\u003c20)\",\"Bar\",\"Restaurant(\\u003c20)\",\"Restaurant(20-50)\",\"Bar\",\"Carry out & Take away\",\"Coffee House\",\"Bar\",\"Carry out & Take away\",\"Coffee House\",\"Coffee House\",\"Carry out & Take away\",\"Coffee House\",\"Bar\",\"Restaurant(\\u003c20)\",\"Carry out & Take away\",\"Restaurant(\\u003c20)\",\"Restaurant(\\u003c20)\",\"Restaurant(20-50)\",\"Carry out & Take away\",\"Coffee House\",\"Bar\",\"Carry out & Take away\",\"Coffee House\",\"Coffee House\",\"Carry out & Take away\",\"Coffee House\",\"Bar\",\"Restaurant(20-50)\",\"Bar\",\"Restaurant(\\u003c20)\",\"Carry out & Take away\",\"Restaurant(\\u003c20)\",\"Bar\",\"Restaurant(\\u003c20)\",\"Bar\",\"Restaurant(\\u003c20)\",\"Restaurant(20-50)\",\"Coffee House\",\"Bar\",\"Carry out & Take away\",\"Carry out & Take away\",\"Coffee House\",\"Bar\",\"Carry out & Take away\",\"Restaurant(\\u003c20)\",\"Bar\",\"Bar\",\"Carry out & Take away\",\"Restaurant(\\u003c20)\",\"Bar\",\"Carry out & Take away\",\"Restaurant(\\u003c20)\",\"Restaurant(\\u003c20)\",\"Carry out & Take away\",\"Carry out & Take away\",\"Coffee House\",\"Coffee House\",\"Carry out & Take away\",\"Restaurant(20-50)\",\"Restaurant(20-50)\",\"Restaurant(\\u003c20)\",\"Carry out & Take away\",\"Coffee House\",\"Restaurant(\\u003c20)\",\"Bar\",\"Restaurant(20-50)\",\"Restaurant(\\u003c20)\",\"Bar\",\"Bar\",\"Carry out & Take away\",\"Restaurant(\\u003c20)\",\"Bar\",\"Carry out & Take away\",\"Restaurant(\\u003c20)\",\"Restaurant(\\u003c20)\",\"Carry out & Take away\",\"Carry out & Take away\",\"Coffee House\",\"Coffee House\",\"Carry out & Take away\",\"Restaurant(20-50)\",\"Restaurant(20-50)\",\"Restaurant(\\u003c20)\",\"Carry out & Take away\",\"Coffee House\",\"Restaurant(\\u003c20)\",\"Bar\",\"Restaurant(20-50)\",\"Restaurant(20-50)\",\"Bar\",\"Restaurant(\\u003c20)\",\"Restaurant(\\u003c20)\",\"Restaurant(\\u003c20)\",\"Carry out & Take away\",\"Restaurant(\\u003c20)\",\"Bar\",\"Bar\",\"Carry out & Take away\",\"Restaurant(\\u003c20)\",\"Bar\",\"Carry out & Take away\",\"Restaurant(\\u003c20)\",\"Restaurant(\\u003c20)\",\"Carry out & Take away\",\"Carry out & Take away\",\"Coffee House\",\"Coffee House\",\"Carry out & Take away\",\"Restaurant(20-50)\",\"Restaurant(20-50)\",\"Restaurant(\\u003c20)\",\"Carry out & Take away\",\"Coffee House\",\"Restaurant(\\u003c20)\",\"Bar\",\"Restaurant(20-50)\",\"Restaurant(20-50)\",\"Bar\",\"Restaurant(\\u003c20)\",\"Bar\",\"Bar\",\"Carry out & Take away\",\"Restaurant(\\u003c20)\",\"Bar\",\"Carry out & Take away\",\"Restaurant(\\u003c20)\",\"Restaurant(\\u003c20)\",\"Restaurant(20-50)\",\"Bar\",\"Restaurant(\\u003c20)\",\"Restaurant(\\u003c20)\",\"Restaurant(20-50)\",\"Restaurant(20-50)\",\"Bar\",\"Carry out & Take away\",\"Carry out & Take away\",\"Coffee House\",\"Coffee House\",\"Carry out & Take away\",\"Restaurant(20-50)\",\"Restaurant(20-50)\",\"Restaurant(\\u003c20)\",\"Restaurant(\\u003c20)\",\"Carry out & Take away\",\"Restaurant(\\u003c20)\",\"Carry out & Take away\",\"Coffee House\",\"Restaurant(\\u003c20)\",\"Bar\",\"Restaurant(20-50)\",\"Restaurant(\\u003c20)\",\"Bar\",\"Bar\",\"Carry out & Take away\",\"Restaurant(\\u003c20)\",\"Bar\",\"Restaurant(\\u003c20)\",\"Restaurant(20-50)\",\"Bar\",\"Restaurant(\\u003c20)\",\"Carry out & Take away\",\"Carry out & Take away\",\"Coffee House\",\"Coffee House\",\"Restaurant(20-50)\",\"Restaurant(\\u003c20)\",\"Restaurant(\\u003c20)\",\"Carry out & Take away\",\"Carry out & Take away\",\"Coffee House\",\"Bar\",\"Restaurant(20-50)\",\"Restaurant(\\u003c20)\",\"Bar\",\"Bar\",\"Carry out & Take away\",\"Restaurant(\\u003c20)\",\"Bar\",\"Restaurant(\\u003c20)\",\"Restaurant(20-50)\",\"Bar\",\"Restaurant(\\u003c20)\",\"Carry out & Take away\",\"Carry out & Take away\",\"Coffee House\",\"Coffee House\",\"Restaurant(20-50)\",\"Restaurant(\\u003c20)\",\"Restaurant(\\u003c20)\",\"Carry out & Take away\",\"Carry out & Take away\",\"Coffee House\",\"Bar\",\"Restaurant(20-50)\",\"Restaurant(20-50)\",\"Bar\",\"Restaurant(\\u003c20)\",\"Bar\",\"Bar\",\"Carry out & Take away\",\"Restaurant(\\u003c20)\",\"Bar\",\"Restaurant(\\u003c20)\",\"Restaurant(\\u003c20)\",\"Restaurant(20-50)\",\"Restaurant(20-50)\",\"Bar\",\"Carry out & Take away\",\"Carry out & Take away\",\"Coffee House\",\"Coffee House\",\"Restaurant(20-50)\",\"Carry out & Take away\",\"Coffee House\",\"Bar\",\"Restaurant(20-50)\",\"Restaurant(20-50)\",\"Bar\",\"Restaurant(\\u003c20)\",\"Bar\",\"Bar\",\"Carry out & Take away\",\"Restaurant(\\u003c20)\",\"Bar\",\"Restaurant(\\u003c20)\",\"Restaurant(\\u003c20)\",\"Restaurant(20-50)\",\"Restaurant(20-50)\",\"Bar\",\"Carry out & Take away\",\"Carry out & Take away\",\"Coffee House\",\"Coffee House\",\"Restaurant(20-50)\",\"Carry out & Take away\",\"Coffee House\",\"Bar\",\"Restaurant(20-50)\",\"Restaurant(\\u003c20)\",\"Bar\",\"Bar\",\"Carry out & Take away\",\"Restaurant(\\u003c20)\",\"Bar\",\"Carry out & Take away\",\"Restaurant(\\u003c20)\",\"Restaurant(\\u003c20)\",\"Carry out & Take away\",\"Carry out & Take away\",\"Coffee House\",\"Coffee House\",\"Carry out & Take away\",\"Restaurant(20-50)\",\"Restaurant(20-50)\",\"Restaurant(\\u003c20)\",\"Carry out & Take away\",\"Coffee House\",\"Restaurant(\\u003c20)\",\"Bar\",\"Restaurant(20-50)\",\"Restaurant(\\u003c20)\",\"Bar\",\"Bar\",\"Carry out & Take away\",\"Restaurant(\\u003c20)\",\"Bar\",\"Carry out & Take away\",\"Restaurant(\\u003c20)\",\"Restaurant(\\u003c20)\",\"Carry out & Take away\",\"Carry out & Take away\",\"Coffee House\",\"Coffee House\",\"Carry out & Take away\",\"Restaurant(20-50)\",\"Restaurant(20-50)\",\"Restaurant(\\u003c20)\",\"Carry out & Take away\",\"Coffee House\",\"Restaurant(\\u003c20)\",\"Bar\",\"Restaurant(20-50)\",\"Restaurant(\\u003c20)\",\"Bar\",\"Bar\",\"Carry out & Take away\",\"Restaurant(\\u003c20)\",\"Bar\",\"Carry out & Take away\",\"Restaurant(\\u003c20)\",\"Restaurant(\\u003c20)\",\"Carry out & Take away\",\"Carry out & Take away\",\"Coffee House\",\"Coffee House\",\"Carry out & Take away\",\"Restaurant(20-50)\",\"Restaurant(20-50)\",\"Restaurant(\\u003c20)\",\"Carry out & Take away\",\"Coffee House\",\"Restaurant(\\u003c20)\",\"Bar\",\"Restaurant(20-50)\",\"Restaurant(\\u003c20)\",\"Bar\",\"Bar\",\"Carry out & Take away\",\"Restaurant(\\u003c20)\",\"Bar\",\"Carry out & Take away\",\"Restaurant(\\u003c20)\",\"Restaurant(\\u003c20)\",\"Carry out & Take away\",\"Carry out & Take away\",\"Coffee House\",\"Coffee House\",\"Carry out & Take away\",\"Restaurant(20-50)\",\"Restaurant(20-50)\",\"Restaurant(\\u003c20)\",\"Carry out & Take away\",\"Coffee House\",\"Restaurant(\\u003c20)\",\"Bar\",\"Restaurant(20-50)\",\"Restaurant(20-50)\",\"Bar\",\"Restaurant(\\u003c20)\",\"Bar\",\"Bar\",\"Carry out & Take away\",\"Restaurant(\\u003c20)\",\"Bar\",\"Restaurant(\\u003c20)\",\"Restaurant(\\u003c20)\",\"Restaurant(20-50)\",\"Restaurant(20-50)\",\"Bar\",\"Carry out & Take away\",\"Carry out & Take away\",\"Coffee House\",\"Coffee House\",\"Restaurant(20-50)\",\"Carry out & Take away\",\"Coffee House\",\"Bar\",\"Restaurant(20-50)\",\"Restaurant(\\u003c20)\",\"Bar\",\"Bar\",\"Carry out & Take away\",\"Restaurant(\\u003c20)\",\"Bar\",\"Carry out & Take away\",\"Restaurant(\\u003c20)\",\"Restaurant(\\u003c20)\",\"Carry out & Take away\",\"Carry out & Take away\",\"Coffee House\",\"Coffee House\",\"Carry out & Take away\",\"Restaurant(20-50)\",\"Restaurant(20-50)\",\"Restaurant(\\u003c20)\",\"Carry out & Take away\",\"Coffee House\",\"Restaurant(\\u003c20)\",\"Bar\",\"Restaurant(20-50)\",\"Restaurant(\\u003c20)\",\"Bar\",\"Bar\",\"Carry out & Take away\",\"Restaurant(\\u003c20)\",\"Bar\",\"Carry out & Take away\",\"Restaurant(\\u003c20)\",\"Restaurant(\\u003c20)\",\"Carry out & Take away\",\"Carry out & Take away\",\"Coffee House\",\"Coffee House\",\"Carry out & Take away\",\"Restaurant(20-50)\",\"Restaurant(20-50)\",\"Restaurant(\\u003c20)\",\"Carry out & Take away\",\"Coffee House\",\"Restaurant(\\u003c20)\",\"Bar\",\"Restaurant(20-50)\",\"Restaurant(\\u003c20)\",\"Bar\",\"Bar\",\"Carry out & Take away\",\"Restaurant(\\u003c20)\",\"Bar\",\"Carry out & Take away\",\"Restaurant(\\u003c20)\",\"Restaurant(\\u003c20)\",\"Carry out & Take away\",\"Carry out & Take away\",\"Coffee House\",\"Coffee House\",\"Carry out & Take away\",\"Restaurant(20-50)\",\"Restaurant(20-50)\",\"Restaurant(\\u003c20)\",\"Carry out & Take away\",\"Coffee House\",\"Restaurant(\\u003c20)\",\"Bar\",\"Restaurant(20-50)\",\"Restaurant(20-50)\",\"Bar\",\"Restaurant(\\u003c20)\",\"Bar\",\"Bar\",\"Carry out & Take away\",\"Restaurant(\\u003c20)\",\"Bar\",\"Restaurant(\\u003c20)\",\"Restaurant(\\u003c20)\",\"Restaurant(20-50)\",\"Restaurant(20-50)\",\"Bar\",\"Carry out & Take away\",\"Carry out & Take away\",\"Coffee House\",\"Coffee House\",\"Restaurant(20-50)\",\"Carry out & Take away\",\"Coffee House\",\"Bar\",\"Restaurant(20-50)\",\"Restaurant(\\u003c20)\",\"Bar\",\"Bar\",\"Carry out & Take away\",\"Restaurant(\\u003c20)\",\"Bar\",\"Carry out & Take away\",\"Restaurant(\\u003c20)\",\"Restaurant(\\u003c20)\",\"Carry out & Take away\",\"Carry out & Take away\",\"Coffee House\",\"Coffee House\",\"Carry out & Take away\",\"Restaurant(20-50)\",\"Restaurant(20-50)\",\"Restaurant(\\u003c20)\",\"Carry out & Take away\",\"Coffee House\",\"Restaurant(\\u003c20)\",\"Bar\",\"Restaurant(20-50)\",\"Restaurant(\\u003c20)\",\"Bar\",\"Bar\",\"Carry out & Take away\",\"Restaurant(\\u003c20)\",\"Bar\",\"Carry out & Take away\",\"Restaurant(\\u003c20)\",\"Restaurant(\\u003c20)\",\"Carry out & Take away\",\"Carry out & Take away\",\"Coffee House\",\"Coffee House\",\"Carry out & Take away\",\"Restaurant(20-50)\",\"Restaurant(20-50)\",\"Restaurant(\\u003c20)\",\"Carry out & Take away\",\"Coffee House\",\"Restaurant(\\u003c20)\",\"Bar\",\"Restaurant(20-50)\",\"Restaurant(\\u003c20)\",\"Bar\",\"Bar\",\"Carry out & Take away\",\"Restaurant(\\u003c20)\",\"Bar\",\"Restaurant(\\u003c20)\",\"Restaurant(20-50)\",\"Bar\",\"Restaurant(\\u003c20)\",\"Carry out & Take away\",\"Carry out & Take away\",\"Coffee House\",\"Coffee House\",\"Restaurant(20-50)\",\"Restaurant(\\u003c20)\",\"Restaurant(\\u003c20)\",\"Carry out & Take away\",\"Carry out & Take away\",\"Coffee House\",\"Bar\",\"Restaurant(20-50)\",\"Restaurant(20-50)\",\"Bar\",\"Restaurant(\\u003c20)\",\"Bar\",\"Bar\",\"Carry out & Take away\",\"Restaurant(\\u003c20)\",\"Bar\",\"Restaurant(\\u003c20)\",\"Restaurant(\\u003c20)\",\"Restaurant(20-50)\",\"Restaurant(20-50)\",\"Bar\",\"Carry out & Take away\",\"Carry out & Take away\",\"Coffee House\",\"Coffee House\",\"Restaurant(20-50)\",\"Carry out & Take away\",\"Coffee House\",\"Bar\",\"Restaurant(20-50)\",\"Restaurant(\\u003c20)\",\"Bar\",\"Bar\",\"Carry out & Take away\",\"Restaurant(\\u003c20)\",\"Bar\",\"Carry out & Take away\",\"Restaurant(\\u003c20)\",\"Restaurant(\\u003c20)\",\"Carry out & Take away\",\"Carry out & Take away\",\"Coffee House\",\"Coffee House\",\"Carry out & Take away\",\"Restaurant(20-50)\",\"Restaurant(20-50)\",\"Restaurant(\\u003c20)\",\"Carry out & Take away\",\"Coffee House\",\"Restaurant(\\u003c20)\",\"Bar\",\"Restaurant(20-50)\",\"Restaurant(\\u003c20)\",\"Bar\",\"Bar\",\"Carry out & Take away\",\"Restaurant(\\u003c20)\",\"Bar\",\"Carry out & Take away\",\"Restaurant(\\u003c20)\",\"Restaurant(\\u003c20)\",\"Carry out & Take away\",\"Carry out & Take away\",\"Coffee House\",\"Coffee House\",\"Carry out & Take away\",\"Restaurant(20-50)\",\"Restaurant(20-50)\",\"Restaurant(\\u003c20)\",\"Carry out & Take away\",\"Coffee House\",\"Restaurant(\\u003c20)\",\"Bar\",\"Restaurant(20-50)\",\"Restaurant(\\u003c20)\",\"Bar\",\"Bar\",\"Carry out & Take away\",\"Restaurant(\\u003c20)\",\"Bar\",\"Restaurant(\\u003c20)\",\"Restaurant(20-50)\",\"Bar\",\"Restaurant(\\u003c20)\",\"Carry out & Take away\",\"Carry out & Take away\",\"Coffee House\",\"Coffee House\",\"Restaurant(20-50)\",\"Restaurant(\\u003c20)\",\"Restaurant(\\u003c20)\",\"Carry out & Take away\",\"Carry out & Take away\",\"Coffee House\",\"Bar\",\"Restaurant(20-50)\",\"Restaurant(\\u003c20)\",\"Bar\",\"Bar\",\"Carry out & Take away\",\"Restaurant(\\u003c20)\",\"Bar\",\"Carry out & Take away\",\"Restaurant(\\u003c20)\",\"Restaurant(\\u003c20)\",\"Carry out & Take away\",\"Carry out & Take away\",\"Coffee House\",\"Coffee House\",\"Carry out & Take away\",\"Restaurant(20-50)\",\"Restaurant(20-50)\",\"Restaurant(\\u003c20)\",\"Carry out & Take away\",\"Coffee House\",\"Restaurant(\\u003c20)\",\"Bar\",\"Restaurant(20-50)\",\"Restaurant(\\u003c20)\",\"Bar\",\"Bar\",\"Carry out & Take away\",\"Restaurant(\\u003c20)\",\"Bar\",\"Carry out & Take away\",\"Restaurant(\\u003c20)\",\"Restaurant(\\u003c20)\",\"Carry out & Take away\",\"Carry out & Take away\",\"Coffee House\",\"Coffee House\",\"Carry out & Take away\",\"Restaurant(20-50)\",\"Restaurant(20-50)\",\"Restaurant(\\u003c20)\",\"Carry out & Take away\",\"Coffee House\",\"Restaurant(\\u003c20)\",\"Bar\",\"Restaurant(20-50)\",\"Restaurant(20-50)\",\"Bar\",\"Restaurant(\\u003c20)\",\"Bar\",\"Bar\",\"Carry out & Take away\",\"Restaurant(\\u003c20)\",\"Bar\",\"Restaurant(\\u003c20)\",\"Restaurant(\\u003c20)\",\"Restaurant(20-50)\",\"Restaurant(20-50)\",\"Bar\",\"Carry out & Take away\",\"Carry out & Take away\",\"Coffee House\",\"Coffee House\",\"Restaurant(20-50)\",\"Carry out & Take away\",\"Coffee House\",\"Bar\",\"Restaurant(20-50)\",\"Restaurant(\\u003c20)\",\"Bar\",\"Bar\",\"Carry out & Take away\",\"Restaurant(\\u003c20)\",\"Bar\",\"Restaurant(\\u003c20)\",\"Restaurant(20-50)\",\"Bar\",\"Restaurant(\\u003c20)\",\"Carry out & Take away\",\"Carry out & Take away\",\"Coffee House\",\"Coffee House\",\"Restaurant(20-50)\",\"Restaurant(\\u003c20)\",\"Restaurant(\\u003c20)\",\"Carry out & Take away\",\"Carry out & Take away\",\"Coffee House\",\"Bar\",\"Restaurant(20-50)\",\"Restaurant(\\u003c20)\",\"Bar\",\"Bar\",\"Carry out & Take away\",\"Restaurant(\\u003c20)\",\"Bar\",\"Restaurant(\\u003c20)\",\"Restaurant(20-50)\",\"Bar\",\"Restaurant(\\u003c20)\",\"Carry out & Take away\",\"Carry out & Take away\",\"Coffee House\",\"Coffee House\",\"Restaurant(20-50)\",\"Restaurant(\\u003c20)\",\"Restaurant(\\u003c20)\",\"Carry out & Take away\",\"Carry out & Take away\",\"Coffee House\",\"Bar\",\"Restaurant(20-50)\",\"Restaurant(\\u003c20)\",\"Bar\",\"Bar\",\"Carry out & Take away\",\"Restaurant(\\u003c20)\",\"Bar\",\"Restaurant(\\u003c20)\",\"Restaurant(20-50)\",\"Bar\",\"Restaurant(\\u003c20)\",\"Carry out & Take away\",\"Carry out & Take away\",\"Coffee House\",\"Coffee House\",\"Restaurant(20-50)\",\"Restaurant(\\u003c20)\",\"Restaurant(\\u003c20)\",\"Carry out & Take away\",\"Carry out & Take away\",\"Coffee House\",\"Bar\",\"Restaurant(20-50)\",\"Restaurant(20-50)\",\"Bar\",\"Restaurant(\\u003c20)\",\"Bar\",\"Bar\",\"Carry out & Take away\",\"Restaurant(\\u003c20)\",\"Bar\",\"Restaurant(\\u003c20)\",\"Restaurant(\\u003c20)\",\"Restaurant(20-50)\",\"Bar\",\"Carry out & Take away\",\"Carry out & Take away\",\"Coffee House\",\"Coffee House\",\"Restaurant(20-50)\",\"Carry out & Take away\",\"Coffee House\",\"Bar\",\"Restaurant(20-50)\",\"Restaurant(\\u003c20)\",\"Bar\",\"Bar\",\"Carry out & Take away\",\"Restaurant(\\u003c20)\",\"Bar\",\"Restaurant(\\u003c20)\",\"Restaurant(20-50)\",\"Bar\",\"Restaurant(\\u003c20)\",\"Carry out & Take away\",\"Carry out & Take away\",\"Coffee House\",\"Coffee House\",\"Restaurant(20-50)\",\"Restaurant(\\u003c20)\",\"Restaurant(\\u003c20)\",\"Carry out & Take away\",\"Carry out & Take away\",\"Coffee House\",\"Bar\",\"Restaurant(20-50)\",\"Restaurant(\\u003c20)\",\"Bar\",\"Bar\",\"Carry out & Take away\",\"Restaurant(\\u003c20)\",\"Bar\",\"Carry out & Take away\",\"Restaurant(\\u003c20)\",\"Restaurant(\\u003c20)\",\"Carry out & Take away\",\"Carry out & Take away\",\"Coffee House\",\"Coffee House\",\"Carry out & Take away\",\"Restaurant(20-50)\",\"Restaurant(20-50)\",\"Restaurant(\\u003c20)\",\"Carry out & Take away\",\"Coffee House\",\"Restaurant(\\u003c20)\",\"Bar\",\"Restaurant(20-50)\",\"Restaurant(\\u003c20)\",\"Bar\",\"Bar\",\"Carry out & Take away\",\"Restaurant(\\u003c20)\",\"Bar\",\"Carry out & Take away\",\"Restaurant(\\u003c20)\",\"Restaurant(\\u003c20)\",\"Carry out & Take away\",\"Carry out & Take away\",\"Coffee House\",\"Coffee House\",\"Carry out & Take away\",\"Restaurant(20-50)\",\"Restaurant(20-50)\",\"Restaurant(\\u003c20)\",\"Carry out & Take away\",\"Coffee House\",\"Restaurant(\\u003c20)\",\"Bar\",\"Restaurant(20-50)\",\"Restaurant(20-50)\",\"Bar\",\"Restaurant(\\u003c20)\",\"Restaurant(20-50)\",\"Restaurant(20-50)\",\"Bar\",\"Restaurant(20-50)\",\"Bar\",\"Restaurant(\\u003c20)\",\"Bar\",\"Bar\",\"Carry out & Take away\",\"Restaurant(\\u003c20)\",\"Bar\",\"Restaurant(\\u003c20)\",\"Restaurant(\\u003c20)\",\"Restaurant(20-50)\",\"Restaurant(20-50)\",\"Bar\",\"Carry out & Take away\",\"Carry out & Take away\",\"Coffee House\",\"Coffee House\",\"Restaurant(20-50)\",\"Carry out & Take away\",\"Coffee House\",\"Bar\",\"Restaurant(20-50)\",\"Restaurant(\\u003c20)\",\"Bar\",\"Bar\",\"Carry out & Take away\",\"Restaurant(\\u003c20)\",\"Bar\",\"Restaurant(\\u003c20)\",\"Restaurant(20-50)\",\"Bar\",\"Restaurant(\\u003c20)\",\"Carry out & Take away\",\"Carry out & Take away\",\"Coffee House\",\"Coffee House\",\"Restaurant(20-50)\",\"Restaurant(\\u003c20)\",\"Restaurant(\\u003c20)\",\"Carry out & Take away\",\"Carry out & Take away\",\"Coffee House\",\"Bar\",\"Restaurant(20-50)\",\"Restaurant(\\u003c20)\",\"Bar\",\"Bar\",\"Carry out & Take away\",\"Restaurant(\\u003c20)\",\"Bar\",\"Carry out & Take away\",\"Restaurant(\\u003c20)\",\"Restaurant(\\u003c20)\",\"Carry out & Take away\",\"Carry out & Take away\",\"Coffee House\",\"Coffee House\",\"Carry out & Take away\",\"Restaurant(20-50)\",\"Restaurant(20-50)\",\"Restaurant(\\u003c20)\",\"Carry out & Take away\",\"Coffee House\",\"Restaurant(\\u003c20)\",\"Bar\",\"Restaurant(20-50)\",\"Restaurant(20-50)\",\"Bar\",\"Restaurant(\\u003c20)\",\"Bar\",\"Bar\",\"Carry out & Take away\",\"Restaurant(\\u003c20)\",\"Bar\",\"Restaurant(\\u003c20)\",\"Restaurant(\\u003c20)\",\"Restaurant(20-50)\",\"Restaurant(20-50)\",\"Bar\",\"Carry out & Take away\",\"Carry out & Take away\",\"Coffee House\",\"Coffee House\",\"Restaurant(20-50)\",\"Carry out & Take away\",\"Coffee House\",\"Bar\",\"Restaurant(20-50)\",\"Restaurant(\\u003c20)\",\"Bar\",\"Bar\",\"Carry out & Take away\",\"Restaurant(\\u003c20)\",\"Bar\",\"Carry out & Take away\",\"Restaurant(\\u003c20)\",\"Restaurant(\\u003c20)\",\"Carry out & Take away\",\"Coffee House\",\"Coffee House\",\"Carry out & Take away\",\"Restaurant(20-50)\",\"Restaurant(20-50)\",\"Restaurant(\\u003c20)\",\"Carry out & Take away\",\"Coffee House\",\"Restaurant(\\u003c20)\",\"Bar\",\"Restaurant(20-50)\",\"Restaurant(20-50)\",\"Bar\",\"Restaurant(\\u003c20)\",\"Bar\",\"Bar\",\"Carry out & Take away\",\"Restaurant(\\u003c20)\",\"Bar\",\"Carry out & Take away\",\"Restaurant(\\u003c20)\",\"Restaurant(\\u003c20)\",\"Restaurant(20-50)\",\"Bar\",\"Restaurant(\\u003c20)\",\"Restaurant(\\u003c20)\",\"Restaurant(20-50)\",\"Restaurant(20-50)\",\"Bar\",\"Carry out & Take away\",\"Carry out & Take away\",\"Coffee House\",\"Coffee House\",\"Carry out & Take away\",\"Restaurant(20-50)\",\"Restaurant(20-50)\",\"Restaurant(\\u003c20)\",\"Restaurant(\\u003c20)\",\"Carry out & Take away\",\"Restaurant(\\u003c20)\",\"Carry out & Take away\",\"Coffee House\",\"Restaurant(\\u003c20)\",\"Bar\",\"Restaurant(20-50)\",\"Restaurant(20-50)\",\"Bar\",\"Restaurant(\\u003c20)\",\"Bar\",\"Bar\",\"Carry out & Take away\",\"Restaurant(\\u003c20)\",\"Bar\",\"Restaurant(\\u003c20)\",\"Restaurant(\\u003c20)\",\"Restaurant(20-50)\",\"Restaurant(20-50)\",\"Bar\",\"Carry out & Take away\",\"Carry out & Take away\",\"Coffee House\",\"Coffee House\",\"Carry out & Take away\",\"Restaurant(20-50)\",\"Carry out & Take away\",\"Coffee House\",\"Bar\",\"Restaurant(20-50)\",\"Restaurant(\\u003c20)\",\"Bar\",\"Bar\",\"Carry out & Take away\",\"Restaurant(\\u003c20)\",\"Bar\",\"Carry out & Take away\",\"Restaurant(\\u003c20)\",\"Restaurant(\\u003c20)\",\"Carry out & Take away\",\"Carry out & Take away\",\"Coffee House\",\"Coffee House\",\"Carry out & Take away\",\"Restaurant(20-50)\",\"Restaurant(20-50)\",\"Restaurant(\\u003c20)\",\"Carry out & Take away\",\"Coffee House\",\"Restaurant(\\u003c20)\",\"Bar\",\"Restaurant(20-50)\",\"Restaurant(\\u003c20)\",\"Bar\",\"Bar\",\"Carry out & Take away\",\"Restaurant(\\u003c20)\",\"Bar\",\"Restaurant(\\u003c20)\",\"Restaurant(20-50)\",\"Bar\",\"Restaurant(\\u003c20)\",\"Carry out & Take away\",\"Carry out & Take away\",\"Coffee House\",\"Coffee House\",\"Restaurant(20-50)\",\"Restaurant(\\u003c20)\",\"Restaurant(\\u003c20)\",\"Carry out & Take away\",\"Carry out & Take away\",\"Coffee House\",\"Bar\",\"Restaurant(20-50)\",\"Restaurant(\\u003c20)\",\"Bar\",\"Bar\",\"Carry out & Take away\",\"Restaurant(\\u003c20)\",\"Bar\",\"Carry out & Take away\",\"Restaurant(\\u003c20)\",\"Restaurant(\\u003c20)\",\"Carry out & Take away\",\"Carry out & Take away\",\"Coffee House\",\"Coffee House\",\"Carry out & Take away\",\"Restaurant(20-50)\",\"Restaurant(20-50)\",\"Restaurant(\\u003c20)\",\"Carry out & Take away\",\"Coffee House\",\"Restaurant(\\u003c20)\",\"Bar\",\"Restaurant(20-50)\",\"Restaurant(20-50)\",\"Bar\",\"Restaurant(\\u003c20)\",\"Bar\",\"Bar\",\"Carry out & Take away\",\"Restaurant(\\u003c20)\",\"Bar\",\"Restaurant(\\u003c20)\",\"Restaurant(\\u003c20)\",\"Restaurant(20-50)\",\"Restaurant(20-50)\",\"Bar\",\"Carry out & Take away\",\"Carry out & Take away\",\"Coffee House\",\"Coffee House\",\"Restaurant(20-50)\",\"Carry out & Take away\",\"Coffee House\",\"Bar\",\"Restaurant(20-50)\",\"Restaurant(20-50)\",\"Bar\",\"Restaurant(\\u003c20)\",\"Bar\",\"Bar\",\"Carry out & Take away\",\"Restaurant(\\u003c20)\",\"Bar\",\"Restaurant(\\u003c20)\",\"Restaurant(\\u003c20)\",\"Restaurant(20-50)\",\"Restaurant(20-50)\",\"Bar\",\"Carry out & Take away\",\"Carry out & Take away\",\"Coffee House\",\"Coffee House\",\"Restaurant(20-50)\",\"Carry out & Take away\",\"Coffee House\",\"Bar\",\"Restaurant(20-50)\",\"Restaurant(\\u003c20)\",\"Bar\",\"Bar\",\"Carry out & Take away\",\"Restaurant(\\u003c20)\",\"Bar\",\"Restaurant(\\u003c20)\",\"Restaurant(20-50)\",\"Bar\",\"Restaurant(\\u003c20)\",\"Carry out & Take away\",\"Carry out & Take away\",\"Coffee House\",\"Coffee House\",\"Restaurant(20-50)\",\"Restaurant(\\u003c20)\",\"Restaurant(\\u003c20)\",\"Carry out & Take away\",\"Carry out & Take away\",\"Coffee House\",\"Bar\",\"Restaurant(20-50)\",\"Restaurant(\\u003c20)\",\"Bar\",\"Bar\",\"Carry out & Take away\",\"Restaurant(\\u003c20)\",\"Bar\",\"Restaurant(\\u003c20)\",\"Restaurant(20-50)\",\"Bar\",\"Restaurant(\\u003c20)\",\"Carry out & Take away\",\"Carry out & Take away\",\"Coffee House\",\"Coffee House\",\"Restaurant(20-50)\",\"Restaurant(\\u003c20)\",\"Restaurant(\\u003c20)\",\"Carry out & Take away\",\"Carry out & Take away\",\"Coffee House\",\"Bar\",\"Restaurant(20-50)\",\"Restaurant(20-50)\",\"Bar\",\"Restaurant(\\u003c20)\",\"Bar\",\"Bar\",\"Carry out & Take away\",\"Restaurant(\\u003c20)\",\"Bar\",\"Restaurant(\\u003c20)\",\"Restaurant(\\u003c20)\",\"Restaurant(20-50)\",\"Restaurant(20-50)\",\"Bar\",\"Carry out & Take away\",\"Carry out & Take away\",\"Coffee House\",\"Coffee House\",\"Restaurant(20-50)\",\"Carry out & Take away\",\"Coffee House\",\"Bar\",\"Restaurant(20-50)\",\"Restaurant(\\u003c20)\",\"Bar\",\"Bar\",\"Carry out & Take away\",\"Restaurant(\\u003c20)\",\"Bar\",\"Carry out & Take away\",\"Restaurant(\\u003c20)\",\"Restaurant(\\u003c20)\",\"Carry out & Take away\",\"Carry out & Take away\",\"Coffee House\",\"Coffee House\",\"Carry out & Take away\",\"Restaurant(20-50)\",\"Restaurant(20-50)\",\"Restaurant(\\u003c20)\",\"Carry out & Take away\",\"Coffee House\",\"Restaurant(\\u003c20)\",\"Bar\",\"Restaurant(20-50)\",\"Restaurant(\\u003c20)\",\"Bar\",\"Bar\",\"Carry out & Take away\",\"Restaurant(\\u003c20)\",\"Bar\",\"Carry out & Take away\",\"Restaurant(\\u003c20)\",\"Restaurant(\\u003c20)\",\"Carry out & Take away\",\"Carry out & Take away\",\"Coffee House\",\"Coffee House\",\"Carry out & Take away\",\"Restaurant(20-50)\",\"Restaurant(\\u003c20)\",\"Carry out & Take away\",\"Coffee House\",\"Restaurant(\\u003c20)\",\"Bar\",\"Restaurant(20-50)\",\"Restaurant(\\u003c20)\",\"Bar\",\"Bar\",\"Carry out & Take away\",\"Restaurant(\\u003c20)\",\"Bar\",\"Restaurant(\\u003c20)\",\"Restaurant(20-50)\",\"Bar\",\"Restaurant(\\u003c20)\",\"Carry out & Take away\",\"Carry out & Take away\",\"Coffee House\",\"Coffee House\",\"Restaurant(20-50)\",\"Restaurant(\\u003c20)\",\"Restaurant(\\u003c20)\",\"Carry out & Take away\",\"Carry out & Take away\",\"Coffee House\",\"Bar\",\"Restaurant(20-50)\",\"Restaurant(20-50)\",\"Bar\",\"Restaurant(\\u003c20)\",\"Bar\",\"Bar\",\"Carry out & Take away\",\"Restaurant(\\u003c20)\",\"Bar\",\"Restaurant(\\u003c20)\",\"Restaurant(\\u003c20)\",\"Restaurant(20-50)\",\"Restaurant(20-50)\",\"Bar\",\"Carry out & Take away\",\"Carry out & Take away\",\"Coffee House\",\"Coffee House\",\"Restaurant(20-50)\",\"Carry out & Take away\",\"Coffee House\",\"Bar\",\"Restaurant(20-50)\",\"Restaurant(20-50)\",\"Bar\",\"Restaurant(\\u003c20)\",\"Bar\",\"Bar\",\"Carry out & Take away\",\"Restaurant(\\u003c20)\",\"Bar\",\"Restaurant(\\u003c20)\",\"Restaurant(\\u003c20)\",\"Restaurant(20-50)\",\"Restaurant(20-50)\",\"Bar\",\"Carry out & Take away\",\"Carry out & Take away\",\"Coffee House\",\"Coffee House\",\"Restaurant(20-50)\",\"Carry out & Take away\",\"Coffee House\",\"Bar\",\"Restaurant(20-50)\",\"Restaurant(\\u003c20)\",\"Bar\",\"Bar\",\"Carry out & Take away\",\"Restaurant(\\u003c20)\",\"Bar\",\"Restaurant(\\u003c20)\",\"Restaurant(20-50)\",\"Bar\",\"Restaurant(\\u003c20)\",\"Carry out & Take away\",\"Carry out & Take away\",\"Coffee House\",\"Coffee House\",\"Restaurant(20-50)\",\"Restaurant(\\u003c20)\",\"Restaurant(\\u003c20)\",\"Carry out & Take away\",\"Carry out & Take away\",\"Coffee House\",\"Bar\",\"Restaurant(20-50)\",\"Restaurant(\\u003c20)\",\"Bar\",\"Bar\",\"Carry out & Take away\",\"Restaurant(\\u003c20)\",\"Bar\",\"Carry out & Take away\",\"Restaurant(\\u003c20)\",\"Restaurant(\\u003c20)\",\"Carry out & Take away\",\"Carry out & Take away\",\"Coffee House\",\"Coffee House\",\"Carry out & Take away\",\"Restaurant(20-50)\",\"Restaurant(20-50)\",\"Restaurant(\\u003c20)\",\"Carry out & Take away\",\"Coffee House\",\"Restaurant(\\u003c20)\",\"Bar\",\"Restaurant(20-50)\",\"Restaurant(20-50)\",\"Bar\",\"Restaurant(\\u003c20)\",\"Bar\",\"Bar\",\"Carry out & Take away\",\"Restaurant(\\u003c20)\",\"Bar\",\"Restaurant(\\u003c20)\",\"Restaurant(\\u003c20)\",\"Restaurant(20-50)\",\"Restaurant(20-50)\",\"Bar\",\"Carry out & Take away\",\"Carry out & Take away\",\"Coffee House\",\"Coffee House\",\"Restaurant(20-50)\",\"Carry out & Take away\",\"Coffee House\",\"Bar\",\"Restaurant(20-50)\",\"Restaurant(20-50)\",\"Bar\",\"Restaurant(\\u003c20)\",\"Bar\",\"Bar\",\"Carry out & Take away\",\"Restaurant(\\u003c20)\",\"Bar\",\"Restaurant(\\u003c20)\",\"Restaurant(\\u003c20)\",\"Restaurant(20-50)\",\"Restaurant(20-50)\",\"Bar\",\"Carry out & Take away\",\"Carry out & Take away\",\"Coffee House\",\"Coffee House\",\"Restaurant(20-50)\",\"Carry out & Take away\",\"Coffee House\",\"Bar\",\"Restaurant(20-50)\",\"Restaurant(\\u003c20)\",\"Bar\",\"Bar\",\"Carry out & Take away\",\"Restaurant(\\u003c20)\",\"Bar\",\"Restaurant(\\u003c20)\",\"Restaurant(20-50)\",\"Bar\",\"Restaurant(\\u003c20)\",\"Carry out & Take away\",\"Carry out & Take away\",\"Coffee House\",\"Coffee House\",\"Restaurant(20-50)\",\"Restaurant(\\u003c20)\",\"Restaurant(\\u003c20)\",\"Carry out & Take away\",\"Carry out & Take away\",\"Coffee House\",\"Bar\",\"Restaurant(20-50)\",\"Restaurant(\\u003c20)\",\"Bar\",\"Bar\",\"Carry out & Take away\",\"Restaurant(\\u003c20)\",\"Bar\",\"Restaurant(\\u003c20)\",\"Restaurant(20-50)\",\"Bar\",\"Restaurant(\\u003c20)\",\"Carry out & Take away\",\"Carry out & Take away\",\"Coffee House\",\"Coffee House\",\"Restaurant(20-50)\",\"Restaurant(\\u003c20)\",\"Restaurant(\\u003c20)\",\"Carry out & Take away\",\"Carry out & Take away\",\"Coffee House\",\"Bar\",\"Restaurant(20-50)\",\"Restaurant(\\u003c20)\",\"Bar\",\"Bar\",\"Carry out & Take away\",\"Restaurant(\\u003c20)\",\"Bar\",\"Restaurant(\\u003c20)\",\"Restaurant(20-50)\",\"Bar\",\"Restaurant(\\u003c20)\",\"Carry out & Take away\",\"Carry out & Take away\",\"Coffee House\",\"Coffee House\",\"Restaurant(20-50)\",\"Restaurant(\\u003c20)\",\"Restaurant(\\u003c20)\",\"Carry out & Take away\",\"Carry out & Take away\",\"Coffee House\",\"Bar\",\"Restaurant(20-50)\",\"Restaurant(\\u003c20)\",\"Bar\",\"Bar\",\"Carry out & Take away\",\"Restaurant(\\u003c20)\",\"Bar\",\"Carry out & Take away\",\"Restaurant(\\u003c20)\",\"Restaurant(\\u003c20)\",\"Carry out & Take away\",\"Carry out & Take away\",\"Coffee House\",\"Coffee House\",\"Carry out & Take away\",\"Restaurant(20-50)\",\"Restaurant(20-50)\",\"Restaurant(\\u003c20)\",\"Carry out & Take away\",\"Coffee House\",\"Bar\",\"Restaurant(20-50)\",\"Restaurant(\\u003c20)\",\"Bar\",\"Bar\",\"Carry out & Take away\",\"Restaurant(\\u003c20)\",\"Bar\",\"Carry out & Take away\",\"Restaurant(\\u003c20)\",\"Restaurant(\\u003c20)\",\"Carry out & Take away\",\"Carry out & Take away\",\"Coffee House\",\"Coffee House\",\"Carry out & Take away\",\"Restaurant(20-50)\",\"Restaurant(20-50)\",\"Restaurant(\\u003c20)\",\"Carry out & Take away\",\"Coffee House\",\"Restaurant(\\u003c20)\",\"Bar\",\"Restaurant(20-50)\",\"Restaurant(20-50)\",\"Bar\",\"Restaurant(\\u003c20)\",\"Bar\",\"Bar\",\"Carry out & Take away\",\"Restaurant(\\u003c20)\",\"Bar\",\"Restaurant(\\u003c20)\",\"Restaurant(\\u003c20)\",\"Restaurant(20-50)\",\"Restaurant(20-50)\",\"Bar\",\"Carry out & Take away\",\"Carry out & Take away\",\"Coffee House\",\"Coffee House\",\"Restaurant(20-50)\",\"Carry out & Take away\",\"Coffee House\",\"Bar\",\"Restaurant(20-50)\",\"Restaurant(\\u003c20)\",\"Bar\",\"Bar\",\"Carry out & Take away\",\"Restaurant(\\u003c20)\",\"Bar\",\"Restaurant(\\u003c20)\",\"Restaurant(20-50)\",\"Bar\",\"Restaurant(\\u003c20)\",\"Carry out & Take away\",\"Carry out & Take away\",\"Coffee House\",\"Coffee House\",\"Restaurant(20-50)\",\"Restaurant(\\u003c20)\",\"Restaurant(\\u003c20)\",\"Carry out & Take away\",\"Carry out & Take away\",\"Coffee House\",\"Bar\",\"Restaurant(20-50)\",\"Restaurant(\\u003c20)\",\"Bar\",\"Bar\",\"Carry out & Take away\",\"Restaurant(\\u003c20)\",\"Bar\",\"Restaurant(\\u003c20)\",\"Restaurant(20-50)\",\"Bar\",\"Restaurant(\\u003c20)\",\"Carry out & Take away\",\"Carry out & Take away\",\"Coffee House\",\"Coffee House\",\"Restaurant(20-50)\",\"Restaurant(\\u003c20)\",\"Restaurant(\\u003c20)\",\"Carry out & Take away\",\"Carry out & Take away\",\"Coffee House\",\"Bar\",\"Restaurant(20-50)\",\"Restaurant(\\u003c20)\",\"Bar\",\"Bar\",\"Carry out & Take away\",\"Restaurant(\\u003c20)\",\"Bar\",\"Carry out & Take away\",\"Restaurant(\\u003c20)\",\"Restaurant(\\u003c20)\",\"Carry out & Take away\",\"Carry out & Take away\",\"Coffee House\",\"Coffee House\",\"Carry out & Take away\",\"Restaurant(20-50)\",\"Restaurant(20-50)\",\"Restaurant(\\u003c20)\",\"Carry out & Take away\",\"Coffee House\",\"Restaurant(\\u003c20)\",\"Bar\",\"Restaurant(20-50)\",\"Restaurant(\\u003c20)\",\"Bar\",\"Bar\",\"Carry out & Take away\",\"Restaurant(\\u003c20)\",\"Bar\",\"Carry out & Take away\",\"Restaurant(\\u003c20)\",\"Restaurant(\\u003c20)\",\"Carry out & Take away\",\"Carry out & Take away\",\"Coffee House\",\"Coffee House\",\"Carry out & Take away\",\"Restaurant(20-50)\",\"Restaurant(20-50)\",\"Restaurant(\\u003c20)\",\"Carry out & Take away\",\"Coffee House\",\"Restaurant(\\u003c20)\",\"Bar\",\"Restaurant(20-50)\",\"Restaurant(\\u003c20)\",\"Bar\",\"Bar\",\"Carry out & Take away\",\"Restaurant(\\u003c20)\",\"Bar\",\"Restaurant(\\u003c20)\",\"Restaurant(20-50)\",\"Bar\",\"Restaurant(\\u003c20)\",\"Carry out & Take away\",\"Carry out & Take away\",\"Coffee House\",\"Coffee House\",\"Restaurant(20-50)\",\"Restaurant(\\u003c20)\",\"Restaurant(\\u003c20)\",\"Carry out & Take away\",\"Carry out & Take away\",\"Coffee House\",\"Bar\",\"Restaurant(20-50)\",\"Restaurant(20-50)\",\"Bar\",\"Restaurant(\\u003c20)\",\"Bar\",\"Bar\",\"Carry out & Take away\",\"Restaurant(\\u003c20)\",\"Bar\",\"Restaurant(\\u003c20)\",\"Restaurant(\\u003c20)\",\"Restaurant(20-50)\",\"Bar\",\"Carry out & Take away\",\"Carry out & Take away\",\"Coffee House\",\"Coffee House\",\"Restaurant(20-50)\",\"Carry out & Take away\",\"Coffee House\",\"Bar\",\"Restaurant(20-50)\",\"Restaurant(\\u003c20)\",\"Bar\",\"Bar\",\"Carry out & Take away\",\"Restaurant(\\u003c20)\",\"Bar\",\"Carry out & Take away\",\"Restaurant(\\u003c20)\",\"Restaurant(\\u003c20)\",\"Carry out & Take away\",\"Carry out & Take away\",\"Coffee House\",\"Coffee House\",\"Carry out & Take away\",\"Restaurant(20-50)\",\"Restaurant(20-50)\",\"Restaurant(\\u003c20)\",\"Carry out & Take away\",\"Coffee House\",\"Restaurant(\\u003c20)\",\"Bar\",\"Restaurant(20-50)\",\"Restaurant(\\u003c20)\",\"Bar\",\"Bar\",\"Carry out & Take away\",\"Restaurant(\\u003c20)\",\"Bar\",\"Carry out & Take away\",\"Restaurant(\\u003c20)\",\"Restaurant(\\u003c20)\",\"Carry out & Take away\",\"Carry out & Take away\",\"Coffee House\",\"Coffee House\",\"Carry out & Take away\",\"Restaurant(20-50)\",\"Restaurant(20-50)\",\"Restaurant(\\u003c20)\",\"Carry out & Take away\",\"Coffee House\",\"Restaurant(\\u003c20)\",\"Bar\",\"Restaurant(20-50)\",\"Restaurant(20-50)\",\"Bar\",\"Restaurant(\\u003c20)\",\"Bar\",\"Bar\",\"Carry out & Take away\",\"Restaurant(\\u003c20)\",\"Bar\",\"Restaurant(\\u003c20)\",\"Restaurant(\\u003c20)\",\"Restaurant(20-50)\",\"Restaurant(20-50)\",\"Bar\",\"Carry out & Take away\",\"Carry out & Take away\",\"Coffee House\",\"Coffee House\",\"Restaurant(20-50)\",\"Carry out & Take away\",\"Coffee House\",\"Bar\",\"Restaurant(20-50)\",\"Restaurant(20-50)\",\"Bar\",\"Restaurant(\\u003c20)\",\"Bar\",\"Bar\",\"Carry out & Take away\",\"Restaurant(\\u003c20)\",\"Bar\",\"Restaurant(\\u003c20)\",\"Restaurant(\\u003c20)\",\"Restaurant(20-50)\",\"Restaurant(20-50)\",\"Bar\",\"Carry out & Take away\",\"Carry out & Take away\",\"Coffee House\",\"Coffee House\",\"Restaurant(20-50)\",\"Carry out & Take away\",\"Coffee House\",\"Bar\",\"Restaurant(20-50)\",\"Restaurant(20-50)\",\"Bar\",\"Restaurant(\\u003c20)\",\"Bar\",\"Bar\",\"Carry out & Take away\",\"Restaurant(\\u003c20)\",\"Bar\",\"Restaurant(\\u003c20)\",\"Restaurant(\\u003c20)\",\"Restaurant(20-50)\",\"Restaurant(20-50)\",\"Bar\",\"Carry out & Take away\",\"Carry out & Take away\",\"Coffee House\",\"Coffee House\",\"Restaurant(20-50)\",\"Carry out & Take away\",\"Coffee House\",\"Bar\",\"Restaurant(20-50)\",\"Restaurant(\\u003c20)\",\"Bar\",\"Bar\",\"Carry out & Take away\",\"Restaurant(\\u003c20)\",\"Bar\",\"Carry out & Take away\",\"Restaurant(\\u003c20)\",\"Restaurant(\\u003c20)\",\"Carry out & Take away\",\"Carry out & Take away\",\"Coffee House\",\"Coffee House\",\"Carry out & Take away\",\"Restaurant(20-50)\",\"Restaurant(20-50)\",\"Restaurant(\\u003c20)\",\"Carry out & Take away\",\"Coffee House\",\"Restaurant(\\u003c20)\",\"Bar\",\"Restaurant(20-50)\",\"Restaurant(\\u003c20)\",\"Bar\",\"Bar\",\"Carry out & Take away\",\"Restaurant(\\u003c20)\",\"Bar\",\"Restaurant(\\u003c20)\",\"Restaurant(20-50)\",\"Bar\",\"Restaurant(\\u003c20)\",\"Carry out & Take away\",\"Carry out & Take away\",\"Coffee House\",\"Coffee House\",\"Restaurant(20-50)\",\"Restaurant(\\u003c20)\",\"Restaurant(\\u003c20)\",\"Carry out & Take away\",\"Carry out & Take away\",\"Coffee House\",\"Bar\",\"Restaurant(20-50)\",\"Restaurant(\\u003c20)\",\"Bar\",\"Bar\",\"Carry out & Take away\",\"Restaurant(\\u003c20)\",\"Bar\",\"Restaurant(\\u003c20)\",\"Restaurant(20-50)\",\"Bar\",\"Restaurant(\\u003c20)\",\"Carry out & Take away\",\"Carry out & Take away\",\"Coffee House\",\"Coffee House\",\"Restaurant(20-50)\",\"Restaurant(\\u003c20)\",\"Restaurant(\\u003c20)\",\"Carry out & Take away\",\"Carry out & Take away\",\"Coffee House\",\"Bar\",\"Restaurant(20-50)\",\"Restaurant(\\u003c20)\",\"Bar\",\"Bar\",\"Carry out & Take away\",\"Restaurant(\\u003c20)\",\"Bar\",\"Carry out & Take away\",\"Restaurant(\\u003c20)\",\"Restaurant(\\u003c20)\",\"Carry out & Take away\",\"Carry out & Take away\",\"Coffee House\",\"Coffee House\",\"Carry out & Take away\",\"Restaurant(20-50)\",\"Restaurant(20-50)\",\"Restaurant(\\u003c20)\",\"Carry out & Take away\",\"Coffee House\",\"Restaurant(\\u003c20)\",\"Bar\",\"Restaurant(20-50)\",\"Restaurant(\\u003c20)\",\"Bar\",\"Bar\",\"Carry out & Take away\",\"Restaurant(\\u003c20)\",\"Bar\",\"Restaurant(\\u003c20)\",\"Restaurant(20-50)\",\"Bar\",\"Restaurant(\\u003c20)\",\"Carry out & Take away\",\"Carry out & Take away\",\"Coffee House\",\"Coffee House\",\"Restaurant(20-50)\",\"Restaurant(\\u003c20)\",\"Restaurant(\\u003c20)\",\"Carry out & Take away\",\"Carry out & Take away\",\"Coffee House\",\"Bar\",\"Restaurant(20-50)\",\"Restaurant(\\u003c20)\",\"Bar\",\"Bar\",\"Carry out & Take away\",\"Restaurant(\\u003c20)\",\"Bar\",\"Carry out & Take away\",\"Restaurant(\\u003c20)\",\"Restaurant(\\u003c20)\",\"Carry out & Take away\",\"Carry out & Take away\",\"Coffee House\",\"Coffee House\",\"Carry out & Take away\",\"Restaurant(20-50)\",\"Restaurant(20-50)\",\"Restaurant(\\u003c20)\",\"Carry out & Take away\",\"Coffee House\",\"Restaurant(\\u003c20)\",\"Bar\",\"Restaurant(20-50)\",\"Restaurant(\\u003c20)\",\"Bar\",\"Bar\",\"Carry out & Take away\",\"Restaurant(\\u003c20)\",\"Bar\",\"Carry out & Take away\",\"Restaurant(\\u003c20)\",\"Restaurant(\\u003c20)\",\"Carry out & Take away\",\"Carry out & Take away\",\"Coffee House\",\"Coffee House\",\"Carry out & Take away\",\"Restaurant(20-50)\",\"Restaurant(20-50)\",\"Restaurant(\\u003c20)\",\"Carry out & Take away\",\"Coffee House\",\"Restaurant(\\u003c20)\",\"Bar\",\"Restaurant(20-50)\",\"Restaurant(\\u003c20)\",\"Bar\",\"Bar\",\"Carry out & Take away\",\"Restaurant(\\u003c20)\",\"Bar\",\"Restaurant(\\u003c20)\",\"Restaurant(20-50)\",\"Bar\",\"Restaurant(\\u003c20)\",\"Carry out & Take away\",\"Carry out & Take away\",\"Coffee House\",\"Coffee House\",\"Restaurant(20-50)\",\"Restaurant(\\u003c20)\",\"Restaurant(\\u003c20)\",\"Carry out & Take away\",\"Carry out & Take away\",\"Coffee House\",\"Bar\",\"Restaurant(20-50)\",\"Restaurant(20-50)\",\"Bar\",\"Restaurant(\\u003c20)\",\"Restaurant(20-50)\",\"Restaurant(20-50)\",\"Bar\",\"Restaurant(20-50)\",\"Bar\",\"Restaurant(\\u003c20)\",\"Bar\",\"Bar\",\"Carry out & Take away\",\"Restaurant(\\u003c20)\",\"Bar\",\"Restaurant(\\u003c20)\",\"Restaurant(\\u003c20)\",\"Restaurant(20-50)\",\"Restaurant(20-50)\",\"Bar\",\"Carry out & Take away\",\"Carry out & Take away\",\"Coffee House\",\"Coffee House\",\"Restaurant(20-50)\",\"Carry out & Take away\",\"Coffee House\",\"Bar\",\"Restaurant(20-50)\",\"Restaurant(\\u003c20)\",\"Bar\",\"Bar\",\"Carry out & Take away\",\"Restaurant(\\u003c20)\",\"Bar\",\"Restaurant(\\u003c20)\",\"Restaurant(20-50)\",\"Bar\",\"Restaurant(\\u003c20)\",\"Carry out & Take away\",\"Carry out & Take away\",\"Coffee House\",\"Coffee House\",\"Restaurant(20-50)\",\"Restaurant(\\u003c20)\",\"Restaurant(\\u003c20)\",\"Carry out & Take away\",\"Carry out & Take away\",\"Coffee House\",\"Bar\",\"Restaurant(20-50)\"],\"xaxis\":\"x\",\"yaxis\":\"y\",\"type\":\"histogram\"}],                        {\"template\":{\"data\":{\"histogram2dcontour\":[{\"type\":\"histogram2dcontour\",\"colorbar\":{\"outlinewidth\":0,\"ticks\":\"\"},\"colorscale\":[[0.0,\"#0d0887\"],[0.1111111111111111,\"#46039f\"],[0.2222222222222222,\"#7201a8\"],[0.3333333333333333,\"#9c179e\"],[0.4444444444444444,\"#bd3786\"],[0.5555555555555556,\"#d8576b\"],[0.6666666666666666,\"#ed7953\"],[0.7777777777777778,\"#fb9f3a\"],[0.8888888888888888,\"#fdca26\"],[1.0,\"#f0f921\"]]}],\"choropleth\":[{\"type\":\"choropleth\",\"colorbar\":{\"outlinewidth\":0,\"ticks\":\"\"}}],\"histogram2d\":[{\"type\":\"histogram2d\",\"colorbar\":{\"outlinewidth\":0,\"ticks\":\"\"},\"colorscale\":[[0.0,\"#0d0887\"],[0.1111111111111111,\"#46039f\"],[0.2222222222222222,\"#7201a8\"],[0.3333333333333333,\"#9c179e\"],[0.4444444444444444,\"#bd3786\"],[0.5555555555555556,\"#d8576b\"],[0.6666666666666666,\"#ed7953\"],[0.7777777777777778,\"#fb9f3a\"],[0.8888888888888888,\"#fdca26\"],[1.0,\"#f0f921\"]]}],\"heatmap\":[{\"type\":\"heatmap\",\"colorbar\":{\"outlinewidth\":0,\"ticks\":\"\"},\"colorscale\":[[0.0,\"#0d0887\"],[0.1111111111111111,\"#46039f\"],[0.2222222222222222,\"#7201a8\"],[0.3333333333333333,\"#9c179e\"],[0.4444444444444444,\"#bd3786\"],[0.5555555555555556,\"#d8576b\"],[0.6666666666666666,\"#ed7953\"],[0.7777777777777778,\"#fb9f3a\"],[0.8888888888888888,\"#fdca26\"],[1.0,\"#f0f921\"]]}],\"heatmapgl\":[{\"type\":\"heatmapgl\",\"colorbar\":{\"outlinewidth\":0,\"ticks\":\"\"},\"colorscale\":[[0.0,\"#0d0887\"],[0.1111111111111111,\"#46039f\"],[0.2222222222222222,\"#7201a8\"],[0.3333333333333333,\"#9c179e\"],[0.4444444444444444,\"#bd3786\"],[0.5555555555555556,\"#d8576b\"],[0.6666666666666666,\"#ed7953\"],[0.7777777777777778,\"#fb9f3a\"],[0.8888888888888888,\"#fdca26\"],[1.0,\"#f0f921\"]]}],\"contourcarpet\":[{\"type\":\"contourcarpet\",\"colorbar\":{\"outlinewidth\":0,\"ticks\":\"\"}}],\"contour\":[{\"type\":\"contour\",\"colorbar\":{\"outlinewidth\":0,\"ticks\":\"\"},\"colorscale\":[[0.0,\"#0d0887\"],[0.1111111111111111,\"#46039f\"],[0.2222222222222222,\"#7201a8\"],[0.3333333333333333,\"#9c179e\"],[0.4444444444444444,\"#bd3786\"],[0.5555555555555556,\"#d8576b\"],[0.6666666666666666,\"#ed7953\"],[0.7777777777777778,\"#fb9f3a\"],[0.8888888888888888,\"#fdca26\"],[1.0,\"#f0f921\"]]}],\"surface\":[{\"type\":\"surface\",\"colorbar\":{\"outlinewidth\":0,\"ticks\":\"\"},\"colorscale\":[[0.0,\"#0d0887\"],[0.1111111111111111,\"#46039f\"],[0.2222222222222222,\"#7201a8\"],[0.3333333333333333,\"#9c179e\"],[0.4444444444444444,\"#bd3786\"],[0.5555555555555556,\"#d8576b\"],[0.6666666666666666,\"#ed7953\"],[0.7777777777777778,\"#fb9f3a\"],[0.8888888888888888,\"#fdca26\"],[1.0,\"#f0f921\"]]}],\"mesh3d\":[{\"type\":\"mesh3d\",\"colorbar\":{\"outlinewidth\":0,\"ticks\":\"\"}}],\"scatter\":[{\"fillpattern\":{\"fillmode\":\"overlay\",\"size\":10,\"solidity\":0.2},\"type\":\"scatter\"}],\"parcoords\":[{\"type\":\"parcoords\",\"line\":{\"colorbar\":{\"outlinewidth\":0,\"ticks\":\"\"}}}],\"scatterpolargl\":[{\"type\":\"scatterpolargl\",\"marker\":{\"colorbar\":{\"outlinewidth\":0,\"ticks\":\"\"}}}],\"bar\":[{\"error_x\":{\"color\":\"#2a3f5f\"},\"error_y\":{\"color\":\"#2a3f5f\"},\"marker\":{\"line\":{\"color\":\"#E5ECF6\",\"width\":0.5},\"pattern\":{\"fillmode\":\"overlay\",\"size\":10,\"solidity\":0.2}},\"type\":\"bar\"}],\"scattergeo\":[{\"type\":\"scattergeo\",\"marker\":{\"colorbar\":{\"outlinewidth\":0,\"ticks\":\"\"}}}],\"scatterpolar\":[{\"type\":\"scatterpolar\",\"marker\":{\"colorbar\":{\"outlinewidth\":0,\"ticks\":\"\"}}}],\"histogram\":[{\"marker\":{\"pattern\":{\"fillmode\":\"overlay\",\"size\":10,\"solidity\":0.2}},\"type\":\"histogram\"}],\"scattergl\":[{\"type\":\"scattergl\",\"marker\":{\"colorbar\":{\"outlinewidth\":0,\"ticks\":\"\"}}}],\"scatter3d\":[{\"type\":\"scatter3d\",\"line\":{\"colorbar\":{\"outlinewidth\":0,\"ticks\":\"\"}},\"marker\":{\"colorbar\":{\"outlinewidth\":0,\"ticks\":\"\"}}}],\"scattermapbox\":[{\"type\":\"scattermapbox\",\"marker\":{\"colorbar\":{\"outlinewidth\":0,\"ticks\":\"\"}}}],\"scatterternary\":[{\"type\":\"scatterternary\",\"marker\":{\"colorbar\":{\"outlinewidth\":0,\"ticks\":\"\"}}}],\"scattercarpet\":[{\"type\":\"scattercarpet\",\"marker\":{\"colorbar\":{\"outlinewidth\":0,\"ticks\":\"\"}}}],\"carpet\":[{\"aaxis\":{\"endlinecolor\":\"#2a3f5f\",\"gridcolor\":\"white\",\"linecolor\":\"white\",\"minorgridcolor\":\"white\",\"startlinecolor\":\"#2a3f5f\"},\"baxis\":{\"endlinecolor\":\"#2a3f5f\",\"gridcolor\":\"white\",\"linecolor\":\"white\",\"minorgridcolor\":\"white\",\"startlinecolor\":\"#2a3f5f\"},\"type\":\"carpet\"}],\"table\":[{\"cells\":{\"fill\":{\"color\":\"#EBF0F8\"},\"line\":{\"color\":\"white\"}},\"header\":{\"fill\":{\"color\":\"#C8D4E3\"},\"line\":{\"color\":\"white\"}},\"type\":\"table\"}],\"barpolar\":[{\"marker\":{\"line\":{\"color\":\"#E5ECF6\",\"width\":0.5},\"pattern\":{\"fillmode\":\"overlay\",\"size\":10,\"solidity\":0.2}},\"type\":\"barpolar\"}],\"pie\":[{\"automargin\":true,\"type\":\"pie\"}]},\"layout\":{\"autotypenumbers\":\"strict\",\"colorway\":[\"#636efa\",\"#EF553B\",\"#00cc96\",\"#ab63fa\",\"#FFA15A\",\"#19d3f3\",\"#FF6692\",\"#B6E880\",\"#FF97FF\",\"#FECB52\"],\"font\":{\"color\":\"#2a3f5f\"},\"hovermode\":\"closest\",\"hoverlabel\":{\"align\":\"left\"},\"paper_bgcolor\":\"white\",\"plot_bgcolor\":\"#E5ECF6\",\"polar\":{\"bgcolor\":\"#E5ECF6\",\"angularaxis\":{\"gridcolor\":\"white\",\"linecolor\":\"white\",\"ticks\":\"\"},\"radialaxis\":{\"gridcolor\":\"white\",\"linecolor\":\"white\",\"ticks\":\"\"}},\"ternary\":{\"bgcolor\":\"#E5ECF6\",\"aaxis\":{\"gridcolor\":\"white\",\"linecolor\":\"white\",\"ticks\":\"\"},\"baxis\":{\"gridcolor\":\"white\",\"linecolor\":\"white\",\"ticks\":\"\"},\"caxis\":{\"gridcolor\":\"white\",\"linecolor\":\"white\",\"ticks\":\"\"}},\"coloraxis\":{\"colorbar\":{\"outlinewidth\":0,\"ticks\":\"\"}},\"colorscale\":{\"sequential\":[[0.0,\"#0d0887\"],[0.1111111111111111,\"#46039f\"],[0.2222222222222222,\"#7201a8\"],[0.3333333333333333,\"#9c179e\"],[0.4444444444444444,\"#bd3786\"],[0.5555555555555556,\"#d8576b\"],[0.6666666666666666,\"#ed7953\"],[0.7777777777777778,\"#fb9f3a\"],[0.8888888888888888,\"#fdca26\"],[1.0,\"#f0f921\"]],\"sequentialminus\":[[0.0,\"#0d0887\"],[0.1111111111111111,\"#46039f\"],[0.2222222222222222,\"#7201a8\"],[0.3333333333333333,\"#9c179e\"],[0.4444444444444444,\"#bd3786\"],[0.5555555555555556,\"#d8576b\"],[0.6666666666666666,\"#ed7953\"],[0.7777777777777778,\"#fb9f3a\"],[0.8888888888888888,\"#fdca26\"],[1.0,\"#f0f921\"]],\"diverging\":[[0,\"#8e0152\"],[0.1,\"#c51b7d\"],[0.2,\"#de77ae\"],[0.3,\"#f1b6da\"],[0.4,\"#fde0ef\"],[0.5,\"#f7f7f7\"],[0.6,\"#e6f5d0\"],[0.7,\"#b8e186\"],[0.8,\"#7fbc41\"],[0.9,\"#4d9221\"],[1,\"#276419\"]]},\"xaxis\":{\"gridcolor\":\"white\",\"linecolor\":\"white\",\"ticks\":\"\",\"title\":{\"standoff\":15},\"zerolinecolor\":\"white\",\"automargin\":true,\"zerolinewidth\":2},\"yaxis\":{\"gridcolor\":\"white\",\"linecolor\":\"white\",\"ticks\":\"\",\"title\":{\"standoff\":15},\"zerolinecolor\":\"white\",\"automargin\":true,\"zerolinewidth\":2},\"scene\":{\"xaxis\":{\"backgroundcolor\":\"#E5ECF6\",\"gridcolor\":\"white\",\"linecolor\":\"white\",\"showbackground\":true,\"ticks\":\"\",\"zerolinecolor\":\"white\",\"gridwidth\":2},\"yaxis\":{\"backgroundcolor\":\"#E5ECF6\",\"gridcolor\":\"white\",\"linecolor\":\"white\",\"showbackground\":true,\"ticks\":\"\",\"zerolinecolor\":\"white\",\"gridwidth\":2},\"zaxis\":{\"backgroundcolor\":\"#E5ECF6\",\"gridcolor\":\"white\",\"linecolor\":\"white\",\"showbackground\":true,\"ticks\":\"\",\"zerolinecolor\":\"white\",\"gridwidth\":2}},\"shapedefaults\":{\"line\":{\"color\":\"#2a3f5f\"}},\"annotationdefaults\":{\"arrowcolor\":\"#2a3f5f\",\"arrowhead\":0,\"arrowwidth\":1},\"geo\":{\"bgcolor\":\"white\",\"landcolor\":\"#E5ECF6\",\"subunitcolor\":\"white\",\"showland\":true,\"showlakes\":true,\"lakecolor\":\"white\"},\"title\":{\"x\":0.05},\"mapbox\":{\"style\":\"light\"}}},\"xaxis\":{\"anchor\":\"y\",\"domain\":[0.0,1.0],\"title\":{\"text\":\"Coupon\"}},\"yaxis\":{\"anchor\":\"x\",\"domain\":[0.0,1.0],\"title\":{\"text\":\"Frequency\"}},\"legend\":{\"tracegroupgap\":0},\"title\":{\"text\":\"Frequency by Coupon Category\"},\"barmode\":\"relative\"},                        {\"responsive\": true}                    ).then(function(){\n",
              "                            \n",
              "var gd = document.getElementById('ef0f552b-cfb9-4c49-a912-0d9690d4792e');\n",
              "var x = new MutationObserver(function (mutations, observer) {{\n",
              "        var display = window.getComputedStyle(gd).display;\n",
              "        if (!display || display === 'none') {{\n",
              "            console.log([gd, 'removed!']);\n",
              "            Plotly.purge(gd);\n",
              "            observer.disconnect();\n",
              "        }}\n",
              "}});\n",
              "\n",
              "// Listen for the removal of the full notebook cells\n",
              "var notebookContainer = gd.closest('#notebook-container');\n",
              "if (notebookContainer) {{\n",
              "    x.observe(notebookContainer, {childList: true});\n",
              "}}\n",
              "\n",
              "// Listen for the clearing of the current output cell\n",
              "var outputEl = gd.closest('.output');\n",
              "if (outputEl) {{\n",
              "    x.observe(outputEl, {childList: true});\n",
              "}}\n",
              "\n",
              "                        })                };                            </script>        </div>\n",
              "</body>\n",
              "</html>"
            ]
          },
          "metadata": {}
        }
      ],
      "source": [
        "fig1 = px.histogram(df, x='coupon', title='Frequency by Coupon Category', labels={'coupon': 'Coupon'})\n",
        "fig1.update_yaxes(title ='Frequency')\n",
        "fig1.show()"
      ]
    },
    {
      "cell_type": "markdown",
      "metadata": {
        "id": "WVdSAMmb11oc"
      },
      "source": [
        "6. Use a histogram to visualize the temperature column."
      ]
    },
    {
      "cell_type": "code",
      "execution_count": null,
      "metadata": {
        "id": "2GY17b4111oc",
        "colab": {
          "base_uri": "https://localhost:8080/",
          "height": 542
        },
        "outputId": "117eb3f9-8c46-49a2-c677-505107de2776"
      },
      "outputs": [
        {
          "output_type": "display_data",
          "data": {
            "text/html": [
              "<html>\n",
              "<head><meta charset=\"utf-8\" /></head>\n",
              "<body>\n",
              "    <div>            <script src=\"https://cdnjs.cloudflare.com/ajax/libs/mathjax/2.7.5/MathJax.js?config=TeX-AMS-MML_SVG\"></script><script type=\"text/javascript\">if (window.MathJax && window.MathJax.Hub && window.MathJax.Hub.Config) {window.MathJax.Hub.Config({SVG: {font: \"STIX-Web\"}});}</script>                <script type=\"text/javascript\">window.PlotlyConfig = {MathJaxConfig: 'local'};</script>\n",
              "        <script charset=\"utf-8\" src=\"https://cdn.plot.ly/plotly-2.24.1.min.js\"></script>                <div id=\"901c7523-5305-4685-8136-72501a472f2e\" class=\"plotly-graph-div\" style=\"height:525px; width:100%;\"></div>            <script type=\"text/javascript\">                                    window.PLOTLYENV=window.PLOTLYENV || {};                                    if (document.getElementById(\"901c7523-5305-4685-8136-72501a472f2e\")) {                    Plotly.newPlot(                        \"901c7523-5305-4685-8136-72501a472f2e\",                        [{\"alignmentgroup\":\"True\",\"bingroup\":\"x\",\"hovertemplate\":\"Temperature=%{x}\\u003cbr\\u003ecount=%{y}\\u003cextra\\u003e\\u003c\\u002fextra\\u003e\",\"legendgroup\":\"\",\"marker\":{\"color\":\"#636efa\",\"pattern\":{\"shape\":\"\"}},\"name\":\"\",\"offsetgroup\":\"\",\"orientation\":\"v\",\"showlegend\":false,\"x\":[55,80,80,80,80,80,55,80,80,80,80,55,55,55,55,80,55,55,80,80,55,55,55,80,80,80,80,80,80,80,80,80,55,55,55,55,55,80,55,55,80,80,55,55,55,80,80,80,80,80,80,80,80,80,55,55,55,55,55,80,55,55,80,80,55,55,55,80,80,80,80,80,55,80,80,80,80,55,55,55,55,80,55,55,80,80,55,55,55,80,80,80,80,80,80,80,80,80,55,55,55,55,55,80,55,55,80,80,55,55,55,80,80,80,80,80,80,80,80,80,55,55,55,55,55,80,55,55,80,80,55,55,55,80,80,80,80,80,55,80,80,80,80,55,55,55,55,80,55,55,80,80,55,55,55,80,80,80,80,80,80,80,80,80,55,55,55,55,55,80,55,55,80,80,55,55,55,80,80,80,80,80,80,80,80,80,55,55,80,55,80,80,55,55,80,80,80,80,80,80,80,80,80,55,55,55,55,55,80,55,55,80,80,55,55,55,80,80,80,80,80,55,80,80,80,80,80,80,55,55,80,55,55,80,80,55,55,55,80,80,80,80,80,80,80,80,80,55,55,55,55,55,80,55,55,80,80,55,55,55,80,80,80,80,80,55,80,80,80,80,55,55,55,55,80,55,55,80,80,55,55,55,80,80,80,80,80,55,80,80,80,55,55,55,80,55,55,80,80,55,55,55,80,80,80,80,80,55,80,80,80,80,55,55,55,55,80,55,55,80,80,55,55,55,80,80,80,80,80,55,80,80,80,80,55,55,80,55,55,80,80,55,55,55,80,80,80,80,80,55,80,80,80,80,55,55,55,55,80,55,55,80,80,55,55,55,80,80,80,80,80,55,80,80,80,80,55,55,55,55,80,55,55,80,80,55,55,55,80,80,80,80,80,80,80,80,80,55,55,55,55,55,80,55,55,80,80,55,55,55,80,80,80,80,80,55,80,80,80,80,80,80,55,55,80,55,55,80,80,55,55,80,80,80,80,80,80,80,80,80,55,55,55,55,55,80,55,55,80,80,55,55,55,80,80,80,80,80,80,80,80,80,55,55,55,55,55,80,55,80,80,55,55,55,80,80,80,80,80,80,80,80,80,55,55,55,55,55,80,55,55,80,80,55,55,55,80,80,80,80,80,55,80,80,80,80,80,80,55,55,80,55,55,80,80,55,55,80,80,80,80,55,55,55,80,80,80,80,80,55,80,80,80,80,55,55,55,55,80,55,55,80,80,55,55,55,80,80,80,80,80,80,80,80,80,55,55,55,55,55,80,55,55,80,80,55,55,55,80,80,80,80,80,80,80,80,80,55,55,55,55,55,80,55,55,80,80,55,55,55,80,80,80,80,80,80,80,80,80,55,55,55,55,55,80,55,55,80,80,55,55,55,80,80,80,80,80,55,80,80,80,80,55,55,55,55,80,55,55,80,80,55,55,55,80,80,80,80,80,80,80,80,80,55,55,55,55,55,80,55,55,80,80,55,55,55,80,80,80,80,80,55,80,80,80,80,80,80,55,55,80,55,55,80,80,55,55,55,80,80,80,80,80,55,80,80,80,80,55,55,55,55,80,55,55,80,80,55,55,55,80,80,80,80,80,55,80,80,80,80,80,80,55,55,80,55,55,80,80,55,55,55,80,80,80,80,80,80,80,80,80,55,55,55,55,55,80,55,55,80,80,55,55,55,80,80,80,80,80,55,80,80,80,80,80,80,55,55,80,55,55,80,80,55,55,55,80,80,80,80,80,80,80,80,80,55,55,55,55,55,80,55,55,80,80,55,55,55,80,80,80,80,80,55,80,80,80,80,55,55,55,55,80,55,55,80,80,55,55,55,80,80,80,80,80,55,80,80,80,80,55,55,55,55,55,55,80,80,55,55,55,80,80,80,80,80,55,80,80,80,80,55,55,55,55,80,55,55,80,80,55,55,80,80,80,80,80,80,55,80,80,80,80,80,55,80,80,80,80,80,80,55,55,80,55,55,80,80,55,55,55,80,80,80,80,80,80,80,80,80,55,55,55,55,55,80,55,55,80,80,55,55,55,80,80,80,80,80,55,80,80,80,80,55,55,55,55,80,55,55,80,80,55,55,55,80,80,80,80,80,80,80,80,80,55,55,55,55,55,80,55,55,80,80,55,55,55,80,80,80,80,80,55,80,80,80,80,80,80,55,55,80,55,55,80,80,55,55,55,80,80,80,80,80,55,80,80,80,80,55,55,55,55,80,55,55,80,80,55,55,55,80,80,80,80,80,55,80,80,80,80,55,55,55,55,80,55,55,80,80,55,55,55,80,80,80,80,80,80,80,80,80,55,55,55,55,55,80,55,55,80,80,55,55,55,80,80,80,80,80,55,80,80,80,80,80,80,55,55,80,55,55,80,80,55,55,55,80,80,80,80,80,55,80,80,80,80,80,80,55,55,80,55,55,80,80,55,55,55,80,80,80,80,80,55,80,80,80,80,55,55,55,55,80,55,55,80,80,55,55,55,80,80,80,80,80,55,80,80,80,80,55,55,55,55,80,55,55,80,80,55,55,55,80,80,80,80,80,55,80,80,80,80,55,55,55,55,80,55,55,80,80,55,55,55,80,80,80,80,80,55,80,80,80,80,80,80,55,55,80,55,55,80,80,55,55,80,80,80,80,80,80,55,80,80,80,80,80,55,80,80,80,80,55,55,55,55,80,55,55,80,80,55,55,55,80,80,80,80,80,55,80,80,80,80,55,55,55,80,55,55,80,80,55,55,55,80,80,80,80,80,80,80,80,80,55,55,55,55,55,80,55,55,80,80,55,55,55,80,80,80,80,80,80,80,80,80,55,55,55,55,55,80,55,55,80,80,55,55,55,80,80,80,80,80,80,80,80,80,55,55,55,55,55,80,55,55,80,80,55,55,55,80,80,80,80,80,55,80,80,80,80,80,80,55,55,80,55,55,80,80,55,55,55,80,80,80,80,80,55,80,80,80,80,80,80,55,55,80,55,55,80,80,55,55,55,80,80,80,80,80,80,80,80,80,55,55,55,55,55,80,55,55,80,80,55,55,55,80,80,80,80,80,55,80,80,80,80,80,80,55,55,80,55,55,80,80,55,55,55,80,80,80,80,80,55,80,80,80,80,80,80,55,55,80,55,55,80,80,55,55,55,80,80,80,80,80,80,80,80,80,55,55,55,55,55,80,55,55,80,80,55,55,55,80,80,80,80,80,55,80,80,80,80,55,55,55,55,80,55,55,80,80,55,55,55,80,80,80,80,80,80,80,80,80,55,55,55,55,55,80,55,55,80,80,55,55,55,80,80,80,80,80,55,80,80,80,80,55,55,55,55,80,55,55,80,80,55,55,55,80,80,80,80,80,55,80,80,80,80,80,80,55,55,80,55,55,80,80,55,55,55,80,80,80,80,80,55,80,80,80,80,80,80,55,55,80,55,55,80,80,55,55,55,80,80,80,80,80,55,80,80,80,80,55,55,55,55,80,55,55,80,80,55,55,55,80,80,80,80,80,80,80,80,80,55,55,55,55,55,80,55,55,80,80,55,55,55,80,80,80,80,80,80,80,80,80,55,55,55,55,55,80,55,55,80,80,55,55,55,80,80,80,80,80,55,80,80,80,80,55,55,55,55,80,55,55,80,80,55,55,55,80,80,80,80,80,80,80,80,80,55,55,55,55,55,80,55,55,80,80,55,55,55,80,80,80,80,80,55,80,80,80,80,55,55,55,55,80,55,55,80,80,55,55,55,80,80,80,80,80,55,80,80,80,80,55,55,55,55,80,55,55,80,80,55,55,55,80,80,80,80,80,80,80,80,80,55,55,55,55,55,80,55,55,80,80,55,55,55,80,80,80,80,80,55,80,80,80,80,55,55,55,55,80,55,55,80,80,55,55,55,80,80,80,80,80,55,80,80,80,80,80,80,55,55,80,55,55,80,80,55,55,55,80,80,80,80,80,80,80,80,80,55,55,55,55,55,80,55,55,80,80,55,55,55,80,80,80,80,80,55,80,80,80,80,80,80,55,55,80,55,55,80,80,55,55,55,80,80,80,80,80,55,80,80,80,80,55,55,55,55,80,55,55,80,80,55,55,55,80,80,80,80,80,55,80,80,80,80,55,55,55,55,80,55,55,80,80,55,55,55,80,80,80,80,80,80,80,80,80,55,55,55,55,55,80,55,55,80,80,55,55,55,80,80,80,80,80,80,80,80,80,55,55,55,55,55,80,55,55,80,80,55,55,55,80,80,80,80,80,80,80,80,80,55,55,55,55,55,80,55,55,80,80,55,55,55,80,80,80,80,80,80,80,80,80,55,55,55,55,55,80,55,55,80,80,55,55,55,80,80,80,80,80,80,80,80,80,55,55,55,55,55,80,55,55,80,80,55,55,55,80,80,80,80,80,55,80,80,80,80,55,55,55,55,80,55,55,80,80,55,55,55,80,80,80,80,80,55,80,80,80,80,55,55,55,55,80,55,55,80,80,55,55,55,80,80,80,80,80,55,80,80,80,80,80,80,55,55,80,55,55,80,80,55,55,55,80,80,80,80,80,55,80,80,80,80,80,80,55,55,80,55,55,80,80,55,55,55,80,80,80,80,80,55,80,80,80,80,55,55,55,55,80,55,55,80,80,55,55,55,80,80,80,80,80,55,80,80,80,80,55,55,55,55,80,55,55,80,80,55,55,55,80,80,80,80,80,55,80,80,80,80,55,55,55,55,80,55,55,80,80,55,55,55,80,80,80,80,80,80,80,80,80,55,55,55,55,55,80,55,55,80,80,55,55,55,80,80,80,80,80,80,80,80,80,55,55,55,55,55,80,55,55,80,80,55,55,55,80,80,80,80,80,55,80,80,80,80,55,55,55,55,80,55,55,80,80,55,55,55,80,80,80,80,80,80,80,80,80,55,55,55,55,55,80,55,55,80,80,55,55,55,80,80,80,80,80,80,80,80,80,55,55,55,55,55,80,55,55,80,80,55,55,55,80,80,80,80,80,55,80,80,80,80,80,80,55,55,80,55,55,80,80,55,55,55,80,80,80,80,80,55,80,80,80,80,80,80,55,55,80,55,55,80,80,55,55,55,80,80,80,80,80,80,80,80,80,55,55,55,55,55,80,55,55,80,80,55,55,55,80,80,80,80,80,80,80,80,80,55,55,55,55,55,80,55,55,80,80,55,55,55,80,80,80,80,80,55,80,80,80,80,80,80,55,55,80,55,55,80,80,55,55,55,80,80,80,80,80,80,80,80,55,55,55,55,55,80,55,55,80,80,55,55,55,80,80,80,80,80,55,80,80,80,80,55,55,55,55,80,55,55,80,80,55,55,55,80,80,80,80,80,80,80,80,80,55,55,55,55,55,80,55,55,80,80,55,55,80,80,80,80,55,55,55,80,80,80,80,80,55,80,80,80,80,55,55,55,55,80,55,55,80,80,55,55,55,80,80,80,80,80,80,80,80,80,55,55,55,55,55,80,55,55,80,80,55,55,55,80,80,80,80,80,55,80,80,80,80,80,80,55,55,80,55,55,80,80,55,55,55,80,80,80,80,80,55,80,80,80,80,80,80,55,55,80,55,55,80,80,55,55,55,80,80,80,80,80,80,80,80,55,55,55,55,55,80,55,80,80,55,55,55,80,80,80,80,80,80,80,80,80,55,55,55,55,55,80,55,55,80,80,55,55,55,80,80,80,80,80,55,80,80,80,80,55,55,55,55,80,55,55,80,80,55,55,55,80,80,80,80,80,80,80,80,80,55,55,55,55,55,80,55,55,80,80,55,55,55,80,80,80,80,80,55,80,80,80,80,55,55,55,55,80,55,55,80,80,55,55,55,80,80,80,80,80,80,80,80,80,55,55,55,55,55,80,55,55,80,80,55,55,55,80,80,80,80,80,55,80,80,80,80,55,55,55,55,80,55,55,80,80,55,55,80,80,80,80,80,55,80,80,80,80,55,55,55,55,80,55,55,80,80,55,55,55,80,80,80,80,80,55,80,80,80,55,55,55,55,80,55,55,80,80,55,55,55,80,80,80,80,80,55,80,80,80,80,80,80,55,55,80,55,55,80,80,55,55,55,80,80,80,80,80,55,80,80,80,80,55,55,55,55,80,55,55,80,80,55,55,55,80,80,80,80,80,80,80,80,80,55,55,55,55,55,80,55,55,80,80,55,55,55,80,80,80,80,80,80,80,80,80,55,55,55,55,55,80,55,55,80,80,55,55,55,80,80,80,80,80,55,80,80,80,80,55,55,55,55,80,55,55,80,80,55,55,55,80,80,80,80,80,80,80,80,80,55,55,55,55,55,80,55,55,80,80,55,55,55,80,80,80,80,80,80,80,80,80,55,55,55,55,55,80,55,55,80,80,55,55,55,80,80,80,80,80,55,80,80,80,80,55,55,55,55,80,55,55,80,80,55,55,55,80,80,80,80,80,80,80,80,80,55,55,55,55,55,80,55,55,80,80,55,55,80,80,80,80,55,55,55,80,80,80,80,80,55,80,80,80,80,55,55,55,55,80,55,55,80,80,55,55,55,80,80,80,80,80,80,80,80,80,55,55,55,55,55,80,55,55,80,80,55,55,55,80,80,80,80,80,55,80,80,80,80,55,55,55,55,80,55,55,80,80,55,55,55,80,80,80,80,80,55,80,80,80,80,55,55,55,55,80,55,55,80,80,55,55,55,80,80,80,80,80,55,80,80,80,80,55,55,55,55,80,55,55,80,80,55,55,55,80,80,80,80,80,80,80,80,80,55,55,55,55,55,80,55,55,80,80,55,55,55,80,80,80,80,80,55,80,80,80,80,55,55,55,55,80,55,55,80,80,55,55,55,80,80,80,80,80,80,80,80,80,55,55,55,55,55,80,55,55,80,80,55,55,55,80,80,80,80,80,55,80,80,80,80,55,55,55,55,80,55,55,80,80,55,55,55,80,80,80,80,80,80,80,80,80,55,55,55,55,55,80,55,55,80,80,55,55,55,80,80,80,80,80,55,80,80,80,80,55,55,55,55,80,55,55,80,80,55,55,55,80,80,80,80,80,80,80,80,80,55,55,80,55,55,55,80,55,55,80,80,55,55,80,80,80,80,55,55,55,80,80,80,80,80,55,80,80,80,80,55,55,55,55,80,55,80,80,55,55,55,80,80,80,80,80,55,80,80,80,80,80,80,55,55,80,55,55,80,80,55,55,55,80,80,80,80,55,80,80,80,80,80,80,55,55,80,55,80,80,55,55,55,80,80,80,80,80,55,80,80,80,80,55,55,55,55,80,55,55,80,80,55,55,55,80,80,80,80,80,80,80,80,80,55,55,55,55,55,80,55,55,80,80,55,55,55,80,80,80,80,80,55,80,80,80,80,55,55,55,55,80,55,55,80,80,55,55,55,80,80,80,80,80,55,80,80,80,80,80,80,55,55,80,55,55,80,80,55,55,55,80,80,80,80,80,80,80,80,80,55,55,55,55,55,80,55,55,80,80,55,55,55,80,80,80,80,80,55,55,55,80,55,55,80,80,55,55,55,80,80,80,80,80,55,80,80,80,80,55,55,55,55,80,55,55,80,80,55,55,80,80,80,80,55,55,55,80,80,80,80,80,80,80,80,80,55,55,55,55,55,80,55,55,80,80,55,55,55,80,80,80,80,80,55,80,80,80,80,80,80,55,55,80,55,55,80,80,55,55,55,80,80,80,80,80,55,80,80,80,80,80,80,55,55,80,55,55,80,80,55,55,55,80,80,80,80,80,80,80,80,80,55,55,55,55,55,80,55,55,80,80,55,55,55,80,80,80,80,80,80,80,80,80,55,55,55,55,55,80,55,55,80,80,55,55,55,80,80,80,80,80,55,80,80,80,80,55,55,55,55,80,55,55,80,80,55,55,55,80,80,80,80,80,55,80,80,80,80,55,55,55,55,80,55,55,80,80,55,55,55,80,80,80,80,80,55,80,80,80,80,80,80,55,55,80,55,55,80,80,55,55,55,80,80,80,80,80,80,80,80,80,55,55,55,55,55,80,55,55,80,80,55,55,55,80,80,80,80,80,80,80,80,80,55,55,55,55,55,80,55,55,80,80,55,55,55,80,80,80,80,80,55,80,80,80,80,80,80,55,55,80,55,55,80,80,55,55,55,80,80,80,80,80,80,80,80,80,55,55,55,55,55,80,55,55,80,80,55,55,55,80,80,80,80,80,80,80,80,80,55,55,55,55,55,80,55,55,80,80,55,55,55,80,80,80,80,80,55,80,80,80,80,55,55,55,55,80,55,55,80,80,55,55,55,80,80,80,80,80,55,80,80,80,80,80,80,55,55,80,55,55,80,80,55,55,55,80,80,80,80,80,55,80,80,80,80,80,80,55,55,80,55,55,80,80,55,55,55,80,80,80,80,80,80,80,80,80,55,55,55,55,55,80,55,55,80,80,55,55,55,80,80,80,80,80,55,80,80,80,80,80,80,55,55,80,55,55,80,80,55,55,55,80,80,80,80,80,55,80,80,80,80,55,55,55,55,80,55,55,80,80,55,55,55,80,80,80,80,80,80,80,80,80,55,55,55,55,55,80,55,55,80,80,55,55,55,80,80,80,80,80,55,80,80,80,80,80,80,55,55,80,55,55,80,80,55,55,55,80,80,80,80,80,55,80,80,80,80,55,55,55,55,80,55,55,80,80,55,55,55,80,80,80,80,80,80,80,80,80,55,55,55,55,55,80,55,55,80,80,55,55,55,80,80,80,80,80,55,80,80,80,80,80,80,55,55,80,55,55,80,80,55,55,55,80,80,80,80,80,80,80,80,80,55,55,55,55,55,80,55,55,80,80,55,55,55,80,80,80,80,80,80,80,80,80,55,55,55,55,55,80,55,55,80,80,55,55,55,80,80,80,80,80,55,80,80,80,80,55,55,55,55,80,55,55,80,80,55,55,55,80,80,80,80,80,80,80,80,80,55,55,55,55,55,80,55,55,80,80,55,55,55,80,80,80,80,80,80,80,80,80,55,55,55,55,55,80,55,55,80,80,55,55,80,80,80,80,55,80,80,80,80,55,55,80,80,80,80,80,80,80,80,80,80,55,80,80,80,80,55,80,80,80,80,80,80,80,80,80,80,80,80,80,80,80,80,55,80,80,80,80,55,80,80,80,80,80,80,80,80,80,80,80,80,80,80,80,80,55,80,80,80,80,55,80,80,80,80,55,55,80,80,80,80,80,80,80,80,80,80,55,80,80,80,80,55,80,80,80,80,80,80,80,80,80,80,80,80,80,80,80,80,55,80,80,80,80,55,80,80,80,80,55,55,80,80,80,80,80,80,80,80,80,80,55,80,80,80,55,80,80,80,80,55,55,80,80,80,80,80,80,80,80,80,80,55,80,80,80,80,55,80,80,80,80,80,80,80,80,80,80,80,80,80,80,80,80,55,80,80,80,80,55,80,55,80,80,55,80,80,80,80,80,80,80,80,80,80,80,55,80,80,80,80,55,80,80,80,80,80,80,80,80,80,80,80,80,80,80,80,80,55,80,80,80,80,55,80,55,80,80,55,80,80,80,80,80,80,80,80,80,80,80,55,80,80,80,80,55,80,55,80,80,55,80,80,80,80,80,80,80,80,80,80,80,55,80,80,80,80,55,80,55,80,80,55,80,80,80,80,80,80,80,80,80,80,80,55,80,80,80,80,55,80,80,80,80,80,80,80,80,80,80,80,80,80,80,80,80,55,80,80,80,80,55,80,55,80,80,55,80,80,80,80,80,80,80,80,80,80,80,55,80,80,80,80,55,80,80,80,80,80,80,80,80,80,80,80,80,80,55,80,80,80,80,55,80,80,80,80,80,80,80,80,80,80,80,80,80,80,80,80,55,80,80,80,80,55,80,80,80,80,80,80,80,80,80,80,80,80,80,80,80,80,55,80,80,80,80,55,80,55,80,80,55,80,80,80,80,80,80,80,80,80,80,80,55,80,80,80,80,55,80,80,80,80,80,80,80,80,80,80,80,80,80,80,80,80,55,80,80,80,80,55,80,80,80,80,80,80,80,80,80,80,80,80,80,80,80,80,55,80,80,80,80,55,80,55,80,80,55,80,80,80,80,80,80,80,80,80,80,80,55,80,80,80,80,55,80,80,55,80,80,55,80,80,80,80,80,80,80,80,80,80,80,55,80,80,80,80,55,80,80,80,80,80,80,80,80,80,80,80,80,80,80,80,80,55,80,80,80,80,55,80,80,80,80,55,55,80,80,80,80,80,80,80,80,80,80,55,80,80,80,80,55,80,80,80,80,55,55,80,80,80,80,80,80,80,80,80,80,55,80,80,80,80,55,80,80,80,80,80,80,80,80,80,80,80,80,80,80,80,80,55,80,80,80,80,55,80,80,80,80,80,80,80,80,80,80,80,80,80,80,80,80,55,80,80,80,80,55,80,55,80,80,55,80,80,80,80,80,80,80,80,80,80,80,55,80,80,80,80,55,80,55,80,80,55,80,80,80,80,80,80,80,80,80,80,80,55,80,80,80,80,55,80,80,80,80,80,80,80,80,80,80,80,80,80,80,80,80,55,80,80,80,80,55,80,80,80,80,55,55,80,80,80,80,80,80,80,80,80,80,55,80,80,80,80,55,80,80,80,80,80,80,80,80,80,80,80,80,80,80,80,80,55,80,80,80,80,55,80,80,80,55,80,80,80,80,80,80,80,80,80,80,80,55,80,80,80,80,55,80,55,80,80,55,80,80,80,80,80,80,80,80,80,80,80,55,80,80,80,80,55,80,80,80,80,80,80,80,80,80,80,80,80,80,80,80,80,55,80,80,80,80,55,80,55,80,80,55,80,80,80,80,80,80,80,80,80,80,80,55,80,80,80,80,55,80,55,80,80,55,80,80,80,80,80,80,80,80,80,80,80,55,80,80,80,80,55,80,55,80,80,55,80,80,80,80,80,80,80,80,80,80,80,55,80,80,80,80,55,80,55,80,80,55,80,80,80,80,80,80,80,80,80,80,80,55,80,80,80,80,55,80,80,80,80,55,55,80,80,80,80,80,80,80,80,80,80,55,80,80,80,80,55,80,80,80,80,55,55,80,80,80,80,80,80,80,80,80,80,55,80,80,80,80,55,80,80,80,80,55,55,80,80,80,80,80,80,80,80,80,80,55,80,80,80,80,55,80,55,80,80,55,80,80,80,80,80,80,80,80,80,80,80,55,80,80,80,80,55,80,80,80,55,80,80,80,80,80,80,80,80,80,80,80,55,80,80,80,80,55,80,55,80,80,55,80,80,80,80,80,80,80,80,80,80,80,55,80,80,80,80,55,80,80,80,80,80,80,80,80,80,80,80,80,80,80,80,80,55,80,80,80,80,55,80,80,80,80,80,80,80,80,80,80,80,55,55,55,80,80,55,80,80,80,80,80,80,80,80,80,80,80,55,80,80,80,80,55,80,80,80,80,80,80,80,80,80,80,80,80,80,80,80,80,55,80,80,80,80,55,80,55,80,80,55,80,80,80,80,80,80,80,80,80,80,80,55,80,80,80,80,55,80,55,80,80,55,80,80,80,80,80,80,80,80,80,80,80,55,80,80,80,80,55,80,55,80,80,55,80,80,80,80,80,80,80,80,80,80,80,55,80,80,80,80,55,80,80,80,80,80,80,80,80,80,80,80,80,80,80,80,80,55,80,80,80,80,55,80,55,80,80,55,80,80,80,80,80,80,80,80,80,80,80,55,80,80,80,80,55,80,80,80,80,55,55,80,80,80,80,80,80,80,80,80,80,55,80,80,80,80,55,80,80,80,80,55,55,80,80,80,80,80,80,80,80,80,80,55,80,80,80,80,55,80,80,80,80,80,80,80,80,80,80,80,80,80,80,80,80,55,80,80,80,80,55,80,80,80,80,55,55,80,80,80,80,80,80,80,80,80,80,55,80,80,80,80,55,80,80,80,80,80,80,80,80,80,80,80,80,80,80,80,80,55,80,80,80,80,55,80,80,80,80,80,80,80,80,80,80,80,80,80,80,80,80,55,80,80,80,80,55,80,80,80,80,80,80,80,80,80,80,80,80,80,80,80,80,55,80,80,80,80,55,80,80,80,80,80,80,80,80,80,80,80,80,80,80,80,80,55,80,80,80,80,55,80,55,80,80,55,80,80,80,80,80,80,80,80,80,80,80,55,80,80,80,80,55,80,80,80,80,80,80,80,80,80,80,80,80,80,80,80,80,55,80,80,80,80,55,80,55,80,80,55,80,80,80,80,80,80,80,80,80,80,80,55,80,80,80,80,55,80,55,80,80,55,80,80,80,80,80,80,80,80,80,80,80,55,80,80,80,80,55,80,55,80,80,55,80,80,80,80,80,80,80,80,80,80,55,80,80,80,80,55,80,55,80,80,55,80,80,80,80,80,80,80,80,80,80,80,55,80,80,80,80,55,80,80,80,80,80,80,80,80,80,80,80,80,80,80,80,80,55,80,80,80,80,55,80,55,80,80,55,80,80,80,80,80,80,80,80,80,80,80,55,80,80,80,80,55,80,80,80,80,55,55,80,80,80,80,80,80,80,80,80,55,80,80,80,80,55,80,80,80,80,55,55,80,80,80,80,80,80,80,80,80,80,55,80,80,80,80,55,80,55,80,80,55,80,80,80,80,80,80,80,80,80,80,80,55,80,80,80,80,55,80,55,80,80,55,80,80,80,80,80,80,80,80,80,80,80,55,80,80,80,80,55,80,55,80,80,55,80,80,80,80,80,80,80,80,80,80,80,55,80,80,80,80,55,80,55,80,80,55,80,80,80,80,80,80,80,80,80,80,80,55,80,80,80,80,55,80,55,80,80,55,80,80,80,80,80,80,80,80,80,80,80,55,80,80,80,80,55,80,80,80,80,80,80,80,80,80,80,80,80,80,80,80,80,55,80,80,80,80,55,80,55,80,80,55,80,80,80,80,80,80,80,80,80,80,80,55,80,80,80,80,55,80,80,80,80,55,55,80,80,80,80,80,80,80,80,80,80,55,80,80,80,80,55,80,55,80,80,55,80,80,80,80,80,80,80,80,80,80,80,55,80,80,80,80,55,80,80,80,80,80,80,80,80,80,80,80,80,80,80,80,80,55,80,80,80,80,55,80,80,80,80,55,55,80,80,80,80,80,80,80,80,80,80,55,80,80,80,80,55,80,55,80,80,55,80,80,80,80,80,80,80,80,80,80,80,55,80,80,80,80,55,80,80,80,80,80,80,80,80,80,80,80,80,80,80,80,80,55,80,80,80,80,55,80,80,80,80,55,55,80,80,80,80,80,80,80,80,80,80,55,80,80,80,80,55,80,80,80,80,55,55,80,80,80,80,80,80,80,80,80,80,55,80,80,80,80,55,80,55,80,80,55,80,80,80,80,80,80,80,80,80,80,80,55,80,80,80,80,55,80,80,80,80,80,80,80,80,80,80,80,80,80,80,80,80,55,80,80,80,80,55,80,80,80,80,80,80,80,80,80,80,80,80,80,80,80,55,80,80,80,80,55,80,55,80,80,55,80,80,80,80,80,80,80,80,80,80,80,55,80,80,80,80,55,80,55,80,80,55,80,80,80,80,80,80,80,80,80,80,80,55,80,80,80,80,55,80,80,80,80,80,80,80,80,80,80,80,80,80,80,80,80,55,80,80,80,80,55,80,55,80,80,55,80,80,80,80,80,80,80,80,80,80,80,55,80,80,80,80,55,80,55,80,80,55,80,80,80,80,80,80,80,80,80,80,80,55,80,80,80,80,55,80,80,80,80,80,80,80,80,80,80,80,80,80,80,80,80,55,80,80,80,80,55,80,80,80,80,80,80,80,80,80,80,80,80,80,80,80,80,55,80,80,80,80,55,80,80,80,80,80,80,80,80,80,80,80,55,55,55,80,80,55,80,80,80,80,80,80,80,80,80,80,80,55,80,80,80,80,55,80,80,80,80,80,80,80,80,80,80,80,80,80,80,80,80,55,80,80,80,80,55,80,80,80,80,80,80,80,80,80,80,80,80,80,80,80,80,55,80,80,80,80,55,80,80,80,80,55,55,80,80,80,80,80,80,80,80,80,80,55,80,80,80,80,55,80,55,80,80,55,80,80,80,80,80,80,80,80,80,80,80,55,80,80,80,80,55,80,80,80,80,80,80,80,80,80,80,80,80,80,80,80,80,55,80,80,80,80,55,80,80,80,80,80,80,80,80,80,80,80,80,80,80,80,80,55,80,80,80,80,55,80,55,80,80,55,80,80,80,80,80,80,80,80,80,80,80,55,80,80,80,80,55,80,55,80,80,55,80,80,80,80,80,80,80,80,80,80,80,55,80,80,80,80,55,80,80,80,80,80,80,80,80,80,80,80,80,80,80,80,80,55,80,80,80,80,55,80,80,80,80,80,80,80,80,80,80,80,55,80,80,80,80,55,80,55,80,80,55,80,80,80,80,80,80,80,80,80,80,80,55,80,80,80,80,55,80,80,80,80,55,55,80,80,80,80,80,80,80,80,80,80,55,80,80,80,80,55,80,55,80,80,55,80,80,80,80,80,80,80,80,80,80,80,55,80,80,80,80,55,80,55,80,80,55,80,80,80,80,80,80,80,80,80,80,80,55,80,80,80,80,55,80,55,80,80,55,80,80,80,80,80,80,80,80,80,80,80,55,80,80,80,80,55,80,80,80,80,55,55,80,80,80,80,80,80,80,80,80,80,55,80,80,80,80,55,80,55,80,80,55,80,80,80,80,80,80,80,80,80,80,55,80,80,80,80,55,80,55,80,80,55,80,80,80,80,80,80,80,80,80,80,80,55,80,80,80,80,55,80,80,80,80,80,80,80,80,80,80,80,80,80,80,80,80,55,55,55,55,80,30,55,55,80,80,55,55,55,30,80,30,80,55,55,80,30,55,30,55,55,55,80,30,55,55,80,80,55,55,55,30,80,30,80,55,55,80,30,55,30,80,55,30,55,55,55,80,55,55,80,80,55,55,80,30,30,55,30,30,80,55,30,55,55,80,55,55,30,80,55,55,55,80,30,55,80,55,55,80,30,55,30,80,55,30,55,55,55,80,55,55,55,80,30,80,55,55,80,30,30,55,30,30,80,80,55,30,55,55,55,80,55,55,55,80,30,80,55,55,80,30,30,55,30,30,80,55,55,55,80,30,55,55,80,80,55,55,55,30,80,30,80,55,55,80,30,55,30,80,55,30,55,55,55,80,55,55,55,80,30,80,55,55,80,30,30,55,30,30,80,55,30,55,55,80,55,55,30,80,55,55,55,80,30,55,80,55,55,80,30,55,30,55,55,55,80,30,55,55,80,80,55,55,55,30,80,30,80,55,55,80,30,55,30,55,30,55,55,80,55,55,30,80,55,55,55,80,30,55,80,55,55,80,30,55,30,55,55,55,80,30,55,55,80,80,55,55,55,30,80,30,80,55,55,80,30,55,30,55,55,55,80,30,55,55,80,80,55,55,55,30,80,30,80,55,55,80,30,55,30,80,55,30,55,55,55,80,55,55,55,80,30,80,55,55,80,30,30,30,30,80,55,30,55,55,80,55,55,30,80,55,55,55,80,30,55,80,55,55,80,30,55,30,80,55,80,80,30,55,30,30,80,30,55,55,30,30,30,30,80,80,55,30,30,80,55,55,30,80,55,80,80,30,55,30,30,80,55,30,30,30,80,30,55,30,30,80,80,55,80,80,30,55,30,30,80,30,55,55,30,30,30,30,80,80,55,30,30,80,55,55,30,80,55,80,80,30,55,30,30,80,55,30,30,30,80,30,55,30,30,80,55,55,30,80,55,80,80,30,55,30,30,80,55,30,30,30,80,30,55,30,30,80,80,80,55,80,80,55,55,30,55,30,30,80,30,55,30,30,80,55,55,30,30,80,80,55,80,80,30,55,30,30,80,30,55,55,30,30,30,30,80,80,55,30,30,80,80,55,80,80,30,55,30,30,80,30,55,55,30,30,30,30,80,80,55,30,30,80,80,80,55,80,80,55,55,30,55,30,30,80,30,55,30,30,80,55,55,30,30,80,80,55,80,80,30,55,30,30,80,30,55,55,30,30,30,30,80,80,55,30,30,80,55,55,30,80,55,80,80,30,55,30,30,80,55,30,30,30,80,30,55,30,30,80,55,55,30,80,55,80,80,30,55,30,30,80,55,30,30,30,80,30,55,30,30,80,80,80,55,80,80,55,55,30,55,30,30,80,30,55,30,30,80,55,55,30,30,80,55,55,30,80,55,80,80,30,55,30,30,80,55,30,30,30,80,30,55,30,30,80,55,55,30,80,55,80,80,30,55,30,30,80,55,30,30,30,80,30,55,30,30,80,55,55,30,80,55,80,80,30,55,30,30,80,55,30,30,30,80,30,55,30,30,80,80,55,80,80,30,55,30,30,80,30,55,55,30,30,30,30,80,80,55,30,30,80,80,55,80,80,30,55,30,30,80,30,55,55,30,30,30,30,80,80,55,30,30,80,80,80,55,80,80,55,55,30,55,30,30,80,30,55,30,30,80,55,55,30,30,80,55,55,30,80,55,80,80,30,55,30,30,80,55,30,30,30,80,30,55,30,30,80,80,55,80,80,30,55,30,30,80,30,55,55,30,30,30,30,80,80,55,30,30,80,80,55,80,80,30,55,30,30,80,30,55,55,30,30,30,30,80,80,55,30,30,80,55,55,30,80,55,80,80,30,55,30,30,80,55,30,30,30,80,30,55,30,30,80,80,80,55,80,80,55,55,30,55,30,30,80,30,55,30,30,80,55,55,30,30,80,55,55,30,80,55,80,80,30,55,30,30,80,55,30,30,30,80,30,55,30,30,80,55,55,30,80,55,80,80,30,55,30,30,80,55,30,30,30,80,30,55,30,30,80,80,80,55,80,80,55,55,30,55,30,30,80,30,55,30,30,80,55,55,30,30,80,55,55,30,80,55,80,80,30,55,30,30,80,55,30,30,30,80,30,55,30,30,80,80,80,55,80,80,55,55,30,55,30,30,80,80,30,55,55,30,80,30,55,30,30,80,80,55,55,30,30,80,55,55,30,80,55,30,80,55,80,80,30,55,30,30,80,30,55,55,30,30,30,30,80,80,55,30,30,80,80,55,80,80,30,55,30,30,30,30,30,80,80,55,30,30,80,55,55,30,80,55,80,80,30,55,30,30,80,55,30,30,30,80,30,55,30,30,80,80,55,80,80,30,55,30,30,80,30,55,30,30,30,30,80,80,55,30,30,80,55,80,80,30,55,30,30,80,30,55,55,30,30,30,30,80,80,55,30,30,80,80,80,55,80,80,55,55,30,55,30,30,80,30,55,30,30,80,55,55,30,30,80,80,55,80,80,30,55,30,30,80,30,55,55,30,30,30,30,80,80,55,30,30,80,80,80,55,80,80,55,55,30,55,30,30,80,30,55,30,30,80,55,55,30,30,80,80,55,80,80,30,55,30,30,80,30,55,55,30,30,30,30,80,80,55,30,30,80,80,55,80,80,30,55,30,30,80,30,55,55,30,30,30,30,80,80,55,30,30,80,80,80,55,80,80,55,55,30,55,30,30,80,30,55,30,30,80,55,55,30,30,80,80,55,80,80,30,55,30,30,30,55,55,30,30,30,30,80,80,55,30,30,80,80,80,55,80,80,55,55,30,55,30,30,80,30,55,30,30,80,55,55,30,30,80,80,55,80,80,30,55,30,30,80,30,55,55,30,30,30,30,80,80,55,30,30,80,80,80,55,80,80,55,55,30,55,30,30,80,30,55,30,30,80,55,55,30,30,80,55,55,30,80,55,80,80,30,55,30,30,80,55,30,30,30,80,30,55,30,30,80,80,55,80,80,30,55,30,30,80,30,55,55,30,30,30,30,80,80,55,30,30,80,80,80,55,80,80,55,55,30,55,30,30,80,30,55,30,30,80,55,55,30,30,80,55,55,30,80,55,80,80,30,55,30,30,80,55,30,30,30,80,30,55,30,30,80,55,55,30,80,55,80,80,30,55,30,30,80,55,30,30,30,80,30,55,30,30,80,80,55,80,80,30,55,30,30,80,30,55,55,30,30,30,30,80,80,55,30,30,80,80,80,55,80,80,55,55,30,55,30,30,80,30,55,30,30,80,55,55,30,30,80,80,80,55,80,80,55,55,30,55,30,30,80,30,55,30,30,80,55,55,30,30,80,80,80,55,80,80,55,55,30,55,30,30,80,30,55,30,30,80,55,55,30,30,80,55,55,30,80,55,80,80,30,55,30,30,80,55,30,30,30,80,30,55,30,30,80,55,55,30,80,55,80,80,30,55,30,30,80,55,30,30,30,80,30,55,30,30,80,80,80,55,80,80,55,55,30,55,30,30,80,30,55,30,30,80,55,55,30,30,80,80,55,80,80,30,55,30,30,80,30,55,55,30,30,30,30,80,80,55,30,30,80,55,80,80,30,55,30,30,80,30,55,55,30,30,30,30,80,80,55,30,30,80,55,55,30,80,55,80,80,30,55,30,30,80,55,30,30,30,80,30,55,30,30,80,80,80,55,80,80,55,55,30,55,30,30,80,30,55,30,30,80,55,55,30,30,80,55,55,30,80,55,80,80,30,55,30,30,80,55,30,30,30,80,30,55,30,30,80,55,55,30,80,55,80,80,30,55,30,30,80,55,30,30,30,80,30,55,30,30,80,80,80,55,80,80,55,30,55,30,30,80,30,55,30,30,80,55,55,30,30,80,80,55,80,80,30,55,30,30,80,30,55,55,30,30,30,30,80,80,55,30,30,80,55,55,30,80,55,80,80,30,55,30,30,80,55,30,30,30,80,30,55,30,30,80,80,55,80,80,30,55,30,30,80,30,55,55,30,30,30,30,80,80,55,30,30,80,55,55,30,80,55,80,80,30,55,30,30,80,55,30,30,30,80,30,55,30,30,80,80,80,55,80,80,55,55,30,55,30,30,80,30,55,30,30,80,55,55,30,30,80,80,55,80,80,30,55,30,30,80,30,55,55,30,30,30,30,80,80,55,30,30,80,55,55,30,80,55,80,80,30,55,30,30,55,30,30,30,80,30,55,30,30,80,55,55,30,80,55,80,80,30,55,30,30,80,55,30,30,30,80,30,55,30,30,80,80,80,55,80,80,55,55,30,55,30,30,80,30,55,30,30,80,55,55,30,30,80,55,55,30,80,55,80,80,30,55,30,30,80,55,30,30,30,80,30,55,30,30,80,55,55,30,80,55,80,80,30,55,30,30,80,55,30,30,30,80,30,55,30,30,80,80,55,80,80,30,55,30,30,80,30,55,55,30,30,30,30,80,80,55,30,30,80,55,55,30,80,55,80,80,30,55,30,30,80,55,30,30,30,80,30,55,30,30,80,80,55,80,80,30,55,30,30,80,30,55,55,30,30,30,30,80,80,55,30,30,80,55,55,30,80,55,80,80,30,55,30,30,80,55,30,30,30,80,30,55,30,30,80,80,55,80,80,30,55,30,30,80,30,55,55,30,30,30,30,80,80,55,30,30,80,80,80,55,80,80,55,55,30,55,30,30,80,30,55,30,30,80,55,55,30,30,80,80,80,55,80,80,55,55,30,55,30,30,80,30,55,30,30,80,55,55,30,30,80,80,55,80,80,30,55,30,30,80,30,55,55,30,30,30,30,80,80,55,30,30,80,80,55,80,80,30,55,30,30,80,30,55,55,30,30,30,30,80,80,55,30,30,80,55,55,30,80,55,80,80,30,55,30,30,80,55,30,30,30,80,30,55,30,30,80,80,55,80,80,30,55,30,30,80,30,55,55,30,30,30,30,80,80,55,30,80,80,55,80,80,30,55,30,30,80,30,55,55,30,30,30,30,80,80,55,30,30,80,55,55,30,80,55,80,80,30,55,30,30,80,55,30,30,30,80,30,55,30,30,80,80,80,30,55,30,80,55,80,80,80,55,30,55,30,80,55,30,30,55,80,55,30,80,80,30,55,30,80,80,80,80,80,80,30,80,80,55,30,80,30,55,80,55,30,80,80,80,55,30,55,30,55,30,80,30,80,80,55,30,80,30,55,80,80,55,30,80,80,30,55,30,80,55,80,80,80,55,30,55,30,80,55,30,30,55,80,55,30,80,80,80,55,30,55,30,55,30,80,30,80,80,55,30,80,30,55,80,80,55,30,80,80,30,55,30,80,80,80,80,80,80,30,80,80,55,30,80,30,55,80,55,30,80,80,30,55,30,80,80,80,80,80,80,30,80,80,55,30,80,30,55,80,55,30,80,80,30,55,30,80,80,80,80,80,80,30,80,80,55,30,80,30,55,80,55,30,80,80,80,55,30,55,30,55,30,80,30,80,80,55,30,80,30,55,80,80,55,30,80,80,80,55,30,55,30,55,30,80,30,80,80,55,30,80,30,55,80,80,55,30,80,80,30,55,30,80,80,80,80,80,80,30,80,80,55,30,80,30,55,80,55,30,80,80,30,55,30,80,80,80,80,80,80,30,80,80,55,30,80,30,55,80,55,30,80,80,30,55,30,80,80,80,80,80,80,30,80,80,55,30,80,30,55,80,55,30,80,80,30,55,30,80,55,80,80,80,80,80,80,30,80,80,55,30,55,30,80,55,30,30,55,80,55,30,80,80,80,55,30,55,30,55,30,80,30,80,80,55,30,80,30,55,80,80,55,30,80,80,80,55,30,55,30,55,30,80,30,80,80,55,30,80,30,55,80,80,55,30,80,80,80,55,30,55,30,55,30,80,30,80,80,55,30,80,30,55,80,80,55,30,80,80,30,55,30,80,55,80,80,80,55,30,55,30,80,55,30,30,55,80,55,30,80,80,30,55,30,80,55,80,80,80,55,30,55,30,80,55,30,30,55,80,55,30,80,80,80,55,30,55,30,55,30,80,30,80,80,55,30,80,30,55,80,80,55,30,80,80,30,55,30,80,55,80,80,80,55,30,55,30,80,55,30,30,55,80,55,30,80,80,80,55,30,55,30,55,30,80,30,80,80,55,30,80,30,55,80,80,55,30,80,80,80,55,30,55,30,55,30,80,30,80,80,55,30,80,30,55,80,80,55,30,80,80,80,55,30,55,30,55,30,80,30,80,80,55,30,80,30,55,80,80,55,30,80,80,80,55,30,55,30,55,30,80,30,80,80,55,30,80,30,55,80,80,55,30,80,80,80,55,30,55,30,55,30,80,30,80,80,55,30,80,30,55,80,80,55,30,80,80,80,55,30,55,30,55,30,80,30,80,80,55,30,80,30,55,80,80,55,30,80,80,80,55,30,55,30,55,30,80,30,80,80,55,30,80,30,55,80,80,55,30,80,80,30,55,30,80,80,80,80,55,30,55,80,55,30,30,55,80,55,30,80,80,30,55,30,80,80,80,80,80,80,30,80,80,55,30,80,30,55,80,55,30,80,80,80,55,30,55,30,55,30,80,30,80,80,55,30,80,30,55,80,80,55,30,80,80,30,55,30,80,55,80,80,80,55,30,55,30,80,55,30,30,55,80,55,30,80,80,30,55,30,80,55,80,80,80,55,30,55,30,80,55,30,30,55,80,55,30,80,80,30,55,30,80,80,80,80,80,80,30,80,80,55,30,80,30,55,80,55,30,80,80,30,55,30,80,80,80,80,80,80,30,80,80,55,30,80,30,55,80,55,30,80,80,30,55,30,80,55,80,80,80,55,30,55,30,80,55,30,30,55,80,55,30,80,80,80,55,30,55,30,55,30,80,30,80,80,55,30,80,30,55,80,80,55,30,80,80,80,55,30,55,30,55,30,80,30,80,80,55,30,80,30,55,80,80,55,30,80,80,80,55,30,55,30,55,30,80,30,80,80,55,80,30,55,80,80,55,30,80,80,30,55,30,80,55,80,80,80,55,30,55,30,80,55,30,30,55,80,55,30,80,80,80,55,30,55,30,55,30,80,30,80,80,55,30,80,30,30,55,80,80,55,30,80,80,80,55,30,55,30,30,80,30,80,80,55,30,80,30,55,80,80,55,30,80,80,30,55,30,80,80,80,80,80,80,30,80,80,55,30,80,30,55,80,55,30,80,80,80,55,30,55,30,55,30,80,30,80,80,55,30,80,30,55,80,80,55,30,80,80,30,30,80,55,80,55,30,55,30,55,30,30,80,55,30,80,80,30,55,30,80,55,80,80,80,55,30,55,30,80,55,30,30,55,80,55,30,80,80,30,55,30,80,55,80,80,80,55,30,55,30,80,55,30,30,55,80,55,30,80,80,80,55,30,55,30,55,30,80,30,80,80,55,30,80,30,55,80,80,55,30,80,80,80,55,30,55,30,55,30,80,30,80,80,55,30,80,30,55,80,80,55,30,80,80,30,55,30,80,55,80,80,80,55,30,55,30,80,55,30,30,55,80,55,30,80,80,80,55,30,55,30,55,30,80,30,80,80,55,30,80,30,55,80,80,55,30,80,80,80,55,30,55,30,55,30,80,30,80,80,55,30,80,30,55,80,80,55,30,80,80,30,55,30,80,55,80,80,80,55,30,55,30,80,55,30,30,55,80,55,30,80,80,80,55,30,55,30,55,30,80,30,80,80,55,30,80,30,55,80,80,55,30,80,80,80,55,30,55,30,55,30,80,30,80,80,55,30,80,30,55,80,80,55,30,80,80,30,55,30,80,55,80,80,80,55,30,55,30,80,55,30,30,55,80,55,30,80,80,80,55,30,55,30,55,30,80,30,80,80,55,30,80,30,55,80,80,55,30,80,80,80,55,30,55,30,55,30,80,30,80,80,55,30,80,30,55,80,80,55,30,80,80,30,55,30,80,80,80,80,80,80,30,80,80,55,30,80,30,55,80,55,30,80,80,30,55,30,80,55,80,80,80,55,30,55,30,80,55,30,30,55,80,55,30,80,80,30,55,30,80,55,80,80,80,55,30,55,30,80,55,30,30,55,80,55,30,80,80,30,55,30,80,80,80,80,80,80,30,80,80,55,30,80,30,55,80,55,30,80,80,30,55,30,55,30,80,30,80,80,55,30,80,30,55,80,80,55,30,80,80,30,55,30,80,55,80,80,80,55,30,55,30,80,55,30,30,55,80,55,30,80,80,30,55,30,80,55,80,80,80,55,30,55,30,80,55,30,30,55,80,55,30,80,80,30,55,30,80,80,80,80,80,80,30,80,80,55,30,80,30,55,80,55,30,80,80,80,55,30,55,30,55,30,80,30,80,80,55,30,80,30,55,80,80,55,30,80,80,30,55,30,80,80,80,80,80,80,30,80,80,55,30,80,30,55,80,55,30,80,80,30,55,30,80,80,80,80,80,80,30,80,80,55,30,80,30,55,80,55,30,80,80,80,55,30,55,30,55,30,80,30,80,80,55,30,80,30,55,80,80,55,30,80,80,30,55,30,80,55,80,80,80,55,30,55,30,80,55,30,30,55,80,55,30,80,80,30,55,30,80,80,80,80,80,80,30,80,80,55,30,80,30,55,80,55,30,80,80,30,30,80,55,80,80,80,55,30,55,30,80,55,30,30,55,80,55,30,80,80,80,55,30,55,30,55,30,80,30,80,80,55,30,80,30,55,80,80,55,30,80,80,30,55,30,80,80,80,80,80,80,30,80,80,55,30,80,30,55,80,55,30,80,80,30,55,30,80,80,80,55,30,80,30,30,55,80,55,30,80,80,80,55,30,55,30,55,30,80,30,80,80,55,30,80,30,55,80,80,55,30,80,80,30,55,30,80,80,80,80,80,80,30,80,80,55,30,80,30,55,80,55,30,80,80,30,55,30,80,80,80,80,55,30,80,30,55,80,55,30,80,80,80,55,30,55,30,55,30,80,30,80,80,55,30,80,30,55,80,80,55,30,80,80,30,55,30,80,80,80,80,80,80,30,80,80,55,30,80,30,55,80,55,30,80,80,80,80,80,30,80,80,80,55,30,55,30,55,30,80,30,80,80,55,30,80,30,55,80,80,55,30,80,80,80,55,30,55,30,55,30,80,30,80,80,55,30,80,30,55,80,80,55,30,80,80,30,55,30,80,55,80,80,80,55,30,55,30,80,55,30,30,55,80,55,30,80,80,30,55,30,80,80,80,80,80,80,30,80,80,55,30,80,30,55,80,55,30,80,30,55,30,80,80,80,80,55,30,80,30,55,80,55,30,80,80,30,55,30,80,80,80,80,80,80,30,80,80,55,30,80,30,55,80,55,30,80,80,30,55,30,80,80,80,80,55,30,80,30,55,80,55,30,80,80,30,55,30,80,80,80,30,80,55,80,55,30,80,80,30,55,30,80,55,80,80,80,55,30,55,30,80,55,30,30,55,80,55,30,80,80,55,30,30,55,55,80,30,80,30,55,30,30,80,80,55,55,30,30,30,80,80,80,55,30,30,55,55,80,30,80,30,55,30,30,80,80,55,55,30,30,30,80,30,55,30,30,30,55,80,80,55,30,30,55,55,80,30,80,30,55,30,30,80,80,55,55,30,30,30,80,30,30,80,80,55,30,30,55,55,80,30,30,55,30,55,55,55,30,80,30,55,30,30,80,80,30,30,55,55,55,30,30,30,80,80,80,55,30,30,55,80,30,55,30,80,30,55,30,80,30,30,55,55,30,30,80,80,80,55,30,30,55,80,30,55,30,80,30,55,30,80,30,30,55,55,30,30,80,30,30,80,80,55,30,30,55,80,55,55,55,30,80,30,55,30,80,55,30,30,80,30,30,80,80,55,30,30,55,80,55,55,55,30,80,30,55,30,80,55,30,30,80,80,80,55,30,30,55,55,80,30,80,30,55,30,30,80,80,55,55,30,30,30,80,80,80,55,30,30,55,55,80,30,80,30,55,30,30,80,80,55,55,30,30,30,80,80,80,55,30,30,55,55,80,30,80,30,55,30,30,80,80,55,55,30,30,30,80,80,80,55,30,30,55,55,80,30,80,30,55,30,30,80,80,55,55,30,30,30,80,30,30,80,80,55,30,30,55,80,55,55,55,30,80,30,55,30,80,55,30,30,80,80,80,55,30,30,55,55,80,30,80,30,55,30,30,80,80,55,55,30,30,30,80,80,80,55,30,30,55,55,80,30,80,30,55,30,30,80,80,55,55,30,30,30,80,80,80,55,30,30,55,55,80,30,80,30,55,30,30,80,80,55,55,30,30,30,80,30,30,80,80,55,30,30,55,80,55,55,55,30,80,30,55,30,80,55,30,30,80,80,80,55,30,30,55,55,80,30,80,30,55,30,30,80,80,55,55,30,30,30,80,80,80,55,30,30,55,55,80,30,80,30,55,30,30,80,80,55,55,30,30,30,80,80,80,55,30,30,55,80,30,55,30,80,30,55,30,80,30,30,55,55,30,30,80,30,30,80,80,55,30,30,55,80,55,55,55,30,80,30,55,30,80,55,30,30,80,80,80,55,30,30,55,55,80,30,80,30,55,30,30,80,80,55,55,30,30,30,80,80,80,55,30,30,55,55,80,30,80,30,55,30,30,80,80,55,55,30,30,30,80,80,80,55,30,30,55,80,30,55,30,80,30,55,30,80,30,30,55,55,30,30,80,80,80,55,30,30,55,55,80,30,80,30,55,30,30,80,80,55,55,30,30,30,80,80,80,55,30,30,55,55,80,30,80,30,55,30,30,80,80,55,55,30,30,30,80,30,30,80,80,55,30,30,55,80,55,55,55,30,80,30,55,30,80,55,30,30,80,80,80,55,30,30,55,80,30,55,30,80,30,55,30,80,30,30,55,55,30,30,80,80,80,55,30,30,55,80,30,55,30,80,30,55,30,80,30,30,55,55,30,30,80,80,80,55,30,30,55,80,30,55,30,80,30,55,30,80,30,30,55,55,30,30,80,30,30,80,80,55,30,30,55,80,55,55,30,80,30,55,30,80,55,30,30,80,80,80,55,30,30,55,80,30,55,30,80,30,55,30,80,30,30,55,55,30,30,80,80,80,55,30,30,55,55,80,30,80,30,55,30,30,80,80,55,55,30,30,30,80,80,80,55,30,30,55,55,80,30,80,30,55,30,30,80,80,55,55,30,30,30,80,30,30,55,55,55,30,30,30,80,80,55,30,30,55,80,55,55,55,30,80,30,55,30,80,55,30,30,80,80,80,55,30,30,55,80,30,55,30,80,30,55,30,80,30,30,55,55,30,30,80,80,80,55,30,30,55,55,80,30,80,30,55,30,30,80,80,55,55,30,30,30,80,30,30,80,80,55,30,30,55,80,55,55,55,30,80,30,55,30,80,55,30,30,80,80,80,55,30,30,55,55,80,30,80,55,30,30,80,80,55,55,30,30,30,80,30,30,80,80,55,30,30,55,55,80,30,30,55,30,55,55,55,30,80,30,55,30,30,80,80,30,30,55,55,55,30,30,30,80,30,30,80,80,55,30,30,55,80,55,55,55,30,80,30,55,30,30,80,55,30,30,80,80,80,55,30,30,55,55,80,30,80,30,55,30,30,80,80,55,55,30,30,30,80,80,80,55,30,30,55,80,30,55,30,80,30,55,30,80,30,30,55,55,30,30,80,80,80,55,30,30,55,55,80,30,80,30,55,30,30,80,80,55,55,30,30,30,80,30,30,80,80,55,30,30,55,80,55,55,55,30,80,30,55,30,80,55,30,30,80,30,30,80,80,55,30,30,55,80,55,55,55,30,80,30,55,30,80,55,30,30,80,80,80,55,30,30,55,80,30,55,30,80,30,55,30,80,30,30,55,55,30,30,80,80,80,55,30,30,55,80,30,55,30,80,30,55,30,80,30,30,55,55,30,30,80,30,30,80,80,55,30,30,55,80,55,55,55,30,80,30,55,30,80,55,30,30,80,80,80,55,30,30,55,55,80,30,80,30,55,30,30,80,80,55,55,30,30,30,80,80,80,55,30,30,55,55,80,30,80,30,55,30,30,80,55,55,30,30,30,80,80,80,55,30,30,55,80,30,55,30,80,30,55,30,80,30,30,55,55,30,30,80,30,30,80,80,55,30,30,55,80,55,55,55,30,80,30,55,30,80,55,30,30,80,30,30,80,80,55,30,30,55,80,55,55,55,30,80,30,55,30,80,55,30,30,80,80,80,55,30,30,55,80,30,55,30,80,30,55,30,80,30,30,55,55,30,30,80,80,80,55,30,30,55,55,80,30,80,30,55,30,30,80,80,55,55,30,30,30,80,30,30,80,80,55,30,30,55,80,55,55,55,30,80,30,55,30,80,55,30,30,80,30,30,80,80,55,30,30,55,80,55,55,55,30,80,30,55,30,80,55,30,30,80,80,80,55,30,30,55,80,30,55,30,80,30,55,30,80,30,30,55,55,30,30,80,80,80,55,30,30,55,80,30,55,30,80,30,55,30,80,30,30,55,55,30,30,80,80,80,55,30,30,55,80,30,55,30,80,30,55,30,80,30,30,55,55,30,30,80,80,80,55,30,30,55,55,80,30,80,30,55,30,30,80,80,55,55,30,30,80,80,80,55,30,30,55,55,80,30,80,30,55,30,30,80,80,55,55,30,30,30,80,30,30,80,80,55,30,30,55,80,55,55,55,30,80,30,55,30,80,55,30,30,80,80,80,55,30,30,55,80,30,55,30,80,30,55,30,80,30,30,55,55,30,30,80,80,80,55,30,30,55,80,30,55,30,80,30,55,30,80,30,30,55,55,30,30,80,80,80,55,30,30,55,55,80,30,80,30,55,30,30,80,80,55,55,30,30,30,80,80,80,55,30,30,55,55,80,30,80,30,55,30,30,80,80,55,55,30,30,30,80,80,80,55,30,30,55,80,30,55,30,80,30,55,30,80,30,30,55,55,30,30,80,30,30,80,80,55,30,30,55,80,55,55,30,80,30,55,30,80,55,30,30,80,80,80,55,30,30,55,55,80,30,80,30,55,30,30,80,80,55,55,30,30,30,80,80,80,55,30,30,55,55,80,30,80,30,55,30,30,80,80,55,55,30,30,30,80,30,30,80,80,55,30,30,55,80,55,55,55,30,80,30,55,30,80,55,30,30,80,30,30,80,80,55,30,30,55,80,55,55,55,30,80,30,55,30,80,55,30,30,80,30,30,80,80,55,30,30,55,80,55,55,55,30,80,30,55,30,80,55,30,30,80,80,80,55,30,30,55,55,80,30,80,30,55,30,30,80,80,55,55,30,30,30,80,80,80,55,30,30,55,80,30,55,30,80,30,55,30,80,30,30,55,55,30,30,80,80,80,55,30,30,55,80,30,55,30,80,30,55,30,80,30,30,55,55,30,30,80,80,80,55,30,30,55,55,80,30,80,30,55,30,30,80,80,55,55,30,30,30,80,80,80,55,30,30,55,80,30,55,30,80,30,55,30,80,30,30,55,55,30,30,80,80,80,55,30,30,55,55,80,30,80,30,55,30,30,80,80,55,55,30,30,30,80,80,80,55,30,30,55,55,80,30,80,30,55,30,30,80,80,55,55,30,30,30,80,80,80,55,30,30,55,80,30,55,30,80,30,55,30,80,30,30,55,55,30,30,80,30,30,55,55,55,30,30,30,80,80,55,30,30,55,80,55,55,55,30,80,30,55,30,80,55,30,30,80,80,80,55,30,30,55,80,30,55,30,80,30,55,30,80,30,30,55,55,30,30,80],\"xaxis\":\"x\",\"yaxis\":\"y\",\"type\":\"histogram\"}],                        {\"template\":{\"data\":{\"histogram2dcontour\":[{\"type\":\"histogram2dcontour\",\"colorbar\":{\"outlinewidth\":0,\"ticks\":\"\"},\"colorscale\":[[0.0,\"#0d0887\"],[0.1111111111111111,\"#46039f\"],[0.2222222222222222,\"#7201a8\"],[0.3333333333333333,\"#9c179e\"],[0.4444444444444444,\"#bd3786\"],[0.5555555555555556,\"#d8576b\"],[0.6666666666666666,\"#ed7953\"],[0.7777777777777778,\"#fb9f3a\"],[0.8888888888888888,\"#fdca26\"],[1.0,\"#f0f921\"]]}],\"choropleth\":[{\"type\":\"choropleth\",\"colorbar\":{\"outlinewidth\":0,\"ticks\":\"\"}}],\"histogram2d\":[{\"type\":\"histogram2d\",\"colorbar\":{\"outlinewidth\":0,\"ticks\":\"\"},\"colorscale\":[[0.0,\"#0d0887\"],[0.1111111111111111,\"#46039f\"],[0.2222222222222222,\"#7201a8\"],[0.3333333333333333,\"#9c179e\"],[0.4444444444444444,\"#bd3786\"],[0.5555555555555556,\"#d8576b\"],[0.6666666666666666,\"#ed7953\"],[0.7777777777777778,\"#fb9f3a\"],[0.8888888888888888,\"#fdca26\"],[1.0,\"#f0f921\"]]}],\"heatmap\":[{\"type\":\"heatmap\",\"colorbar\":{\"outlinewidth\":0,\"ticks\":\"\"},\"colorscale\":[[0.0,\"#0d0887\"],[0.1111111111111111,\"#46039f\"],[0.2222222222222222,\"#7201a8\"],[0.3333333333333333,\"#9c179e\"],[0.4444444444444444,\"#bd3786\"],[0.5555555555555556,\"#d8576b\"],[0.6666666666666666,\"#ed7953\"],[0.7777777777777778,\"#fb9f3a\"],[0.8888888888888888,\"#fdca26\"],[1.0,\"#f0f921\"]]}],\"heatmapgl\":[{\"type\":\"heatmapgl\",\"colorbar\":{\"outlinewidth\":0,\"ticks\":\"\"},\"colorscale\":[[0.0,\"#0d0887\"],[0.1111111111111111,\"#46039f\"],[0.2222222222222222,\"#7201a8\"],[0.3333333333333333,\"#9c179e\"],[0.4444444444444444,\"#bd3786\"],[0.5555555555555556,\"#d8576b\"],[0.6666666666666666,\"#ed7953\"],[0.7777777777777778,\"#fb9f3a\"],[0.8888888888888888,\"#fdca26\"],[1.0,\"#f0f921\"]]}],\"contourcarpet\":[{\"type\":\"contourcarpet\",\"colorbar\":{\"outlinewidth\":0,\"ticks\":\"\"}}],\"contour\":[{\"type\":\"contour\",\"colorbar\":{\"outlinewidth\":0,\"ticks\":\"\"},\"colorscale\":[[0.0,\"#0d0887\"],[0.1111111111111111,\"#46039f\"],[0.2222222222222222,\"#7201a8\"],[0.3333333333333333,\"#9c179e\"],[0.4444444444444444,\"#bd3786\"],[0.5555555555555556,\"#d8576b\"],[0.6666666666666666,\"#ed7953\"],[0.7777777777777778,\"#fb9f3a\"],[0.8888888888888888,\"#fdca26\"],[1.0,\"#f0f921\"]]}],\"surface\":[{\"type\":\"surface\",\"colorbar\":{\"outlinewidth\":0,\"ticks\":\"\"},\"colorscale\":[[0.0,\"#0d0887\"],[0.1111111111111111,\"#46039f\"],[0.2222222222222222,\"#7201a8\"],[0.3333333333333333,\"#9c179e\"],[0.4444444444444444,\"#bd3786\"],[0.5555555555555556,\"#d8576b\"],[0.6666666666666666,\"#ed7953\"],[0.7777777777777778,\"#fb9f3a\"],[0.8888888888888888,\"#fdca26\"],[1.0,\"#f0f921\"]]}],\"mesh3d\":[{\"type\":\"mesh3d\",\"colorbar\":{\"outlinewidth\":0,\"ticks\":\"\"}}],\"scatter\":[{\"fillpattern\":{\"fillmode\":\"overlay\",\"size\":10,\"solidity\":0.2},\"type\":\"scatter\"}],\"parcoords\":[{\"type\":\"parcoords\",\"line\":{\"colorbar\":{\"outlinewidth\":0,\"ticks\":\"\"}}}],\"scatterpolargl\":[{\"type\":\"scatterpolargl\",\"marker\":{\"colorbar\":{\"outlinewidth\":0,\"ticks\":\"\"}}}],\"bar\":[{\"error_x\":{\"color\":\"#2a3f5f\"},\"error_y\":{\"color\":\"#2a3f5f\"},\"marker\":{\"line\":{\"color\":\"#E5ECF6\",\"width\":0.5},\"pattern\":{\"fillmode\":\"overlay\",\"size\":10,\"solidity\":0.2}},\"type\":\"bar\"}],\"scattergeo\":[{\"type\":\"scattergeo\",\"marker\":{\"colorbar\":{\"outlinewidth\":0,\"ticks\":\"\"}}}],\"scatterpolar\":[{\"type\":\"scatterpolar\",\"marker\":{\"colorbar\":{\"outlinewidth\":0,\"ticks\":\"\"}}}],\"histogram\":[{\"marker\":{\"pattern\":{\"fillmode\":\"overlay\",\"size\":10,\"solidity\":0.2}},\"type\":\"histogram\"}],\"scattergl\":[{\"type\":\"scattergl\",\"marker\":{\"colorbar\":{\"outlinewidth\":0,\"ticks\":\"\"}}}],\"scatter3d\":[{\"type\":\"scatter3d\",\"line\":{\"colorbar\":{\"outlinewidth\":0,\"ticks\":\"\"}},\"marker\":{\"colorbar\":{\"outlinewidth\":0,\"ticks\":\"\"}}}],\"scattermapbox\":[{\"type\":\"scattermapbox\",\"marker\":{\"colorbar\":{\"outlinewidth\":0,\"ticks\":\"\"}}}],\"scatterternary\":[{\"type\":\"scatterternary\",\"marker\":{\"colorbar\":{\"outlinewidth\":0,\"ticks\":\"\"}}}],\"scattercarpet\":[{\"type\":\"scattercarpet\",\"marker\":{\"colorbar\":{\"outlinewidth\":0,\"ticks\":\"\"}}}],\"carpet\":[{\"aaxis\":{\"endlinecolor\":\"#2a3f5f\",\"gridcolor\":\"white\",\"linecolor\":\"white\",\"minorgridcolor\":\"white\",\"startlinecolor\":\"#2a3f5f\"},\"baxis\":{\"endlinecolor\":\"#2a3f5f\",\"gridcolor\":\"white\",\"linecolor\":\"white\",\"minorgridcolor\":\"white\",\"startlinecolor\":\"#2a3f5f\"},\"type\":\"carpet\"}],\"table\":[{\"cells\":{\"fill\":{\"color\":\"#EBF0F8\"},\"line\":{\"color\":\"white\"}},\"header\":{\"fill\":{\"color\":\"#C8D4E3\"},\"line\":{\"color\":\"white\"}},\"type\":\"table\"}],\"barpolar\":[{\"marker\":{\"line\":{\"color\":\"#E5ECF6\",\"width\":0.5},\"pattern\":{\"fillmode\":\"overlay\",\"size\":10,\"solidity\":0.2}},\"type\":\"barpolar\"}],\"pie\":[{\"automargin\":true,\"type\":\"pie\"}]},\"layout\":{\"autotypenumbers\":\"strict\",\"colorway\":[\"#636efa\",\"#EF553B\",\"#00cc96\",\"#ab63fa\",\"#FFA15A\",\"#19d3f3\",\"#FF6692\",\"#B6E880\",\"#FF97FF\",\"#FECB52\"],\"font\":{\"color\":\"#2a3f5f\"},\"hovermode\":\"closest\",\"hoverlabel\":{\"align\":\"left\"},\"paper_bgcolor\":\"white\",\"plot_bgcolor\":\"#E5ECF6\",\"polar\":{\"bgcolor\":\"#E5ECF6\",\"angularaxis\":{\"gridcolor\":\"white\",\"linecolor\":\"white\",\"ticks\":\"\"},\"radialaxis\":{\"gridcolor\":\"white\",\"linecolor\":\"white\",\"ticks\":\"\"}},\"ternary\":{\"bgcolor\":\"#E5ECF6\",\"aaxis\":{\"gridcolor\":\"white\",\"linecolor\":\"white\",\"ticks\":\"\"},\"baxis\":{\"gridcolor\":\"white\",\"linecolor\":\"white\",\"ticks\":\"\"},\"caxis\":{\"gridcolor\":\"white\",\"linecolor\":\"white\",\"ticks\":\"\"}},\"coloraxis\":{\"colorbar\":{\"outlinewidth\":0,\"ticks\":\"\"}},\"colorscale\":{\"sequential\":[[0.0,\"#0d0887\"],[0.1111111111111111,\"#46039f\"],[0.2222222222222222,\"#7201a8\"],[0.3333333333333333,\"#9c179e\"],[0.4444444444444444,\"#bd3786\"],[0.5555555555555556,\"#d8576b\"],[0.6666666666666666,\"#ed7953\"],[0.7777777777777778,\"#fb9f3a\"],[0.8888888888888888,\"#fdca26\"],[1.0,\"#f0f921\"]],\"sequentialminus\":[[0.0,\"#0d0887\"],[0.1111111111111111,\"#46039f\"],[0.2222222222222222,\"#7201a8\"],[0.3333333333333333,\"#9c179e\"],[0.4444444444444444,\"#bd3786\"],[0.5555555555555556,\"#d8576b\"],[0.6666666666666666,\"#ed7953\"],[0.7777777777777778,\"#fb9f3a\"],[0.8888888888888888,\"#fdca26\"],[1.0,\"#f0f921\"]],\"diverging\":[[0,\"#8e0152\"],[0.1,\"#c51b7d\"],[0.2,\"#de77ae\"],[0.3,\"#f1b6da\"],[0.4,\"#fde0ef\"],[0.5,\"#f7f7f7\"],[0.6,\"#e6f5d0\"],[0.7,\"#b8e186\"],[0.8,\"#7fbc41\"],[0.9,\"#4d9221\"],[1,\"#276419\"]]},\"xaxis\":{\"gridcolor\":\"white\",\"linecolor\":\"white\",\"ticks\":\"\",\"title\":{\"standoff\":15},\"zerolinecolor\":\"white\",\"automargin\":true,\"zerolinewidth\":2},\"yaxis\":{\"gridcolor\":\"white\",\"linecolor\":\"white\",\"ticks\":\"\",\"title\":{\"standoff\":15},\"zerolinecolor\":\"white\",\"automargin\":true,\"zerolinewidth\":2},\"scene\":{\"xaxis\":{\"backgroundcolor\":\"#E5ECF6\",\"gridcolor\":\"white\",\"linecolor\":\"white\",\"showbackground\":true,\"ticks\":\"\",\"zerolinecolor\":\"white\",\"gridwidth\":2},\"yaxis\":{\"backgroundcolor\":\"#E5ECF6\",\"gridcolor\":\"white\",\"linecolor\":\"white\",\"showbackground\":true,\"ticks\":\"\",\"zerolinecolor\":\"white\",\"gridwidth\":2},\"zaxis\":{\"backgroundcolor\":\"#E5ECF6\",\"gridcolor\":\"white\",\"linecolor\":\"white\",\"showbackground\":true,\"ticks\":\"\",\"zerolinecolor\":\"white\",\"gridwidth\":2}},\"shapedefaults\":{\"line\":{\"color\":\"#2a3f5f\"}},\"annotationdefaults\":{\"arrowcolor\":\"#2a3f5f\",\"arrowhead\":0,\"arrowwidth\":1},\"geo\":{\"bgcolor\":\"white\",\"landcolor\":\"#E5ECF6\",\"subunitcolor\":\"white\",\"showland\":true,\"showlakes\":true,\"lakecolor\":\"white\"},\"title\":{\"x\":0.05},\"mapbox\":{\"style\":\"light\"}}},\"xaxis\":{\"anchor\":\"y\",\"domain\":[0.0,1.0],\"title\":{\"text\":\"Temperature\"}},\"yaxis\":{\"anchor\":\"x\",\"domain\":[0.0,1.0],\"title\":{\"text\":\"Frequency\"}},\"legend\":{\"tracegroupgap\":0},\"title\":{\"text\":\"Frequency by Temperature\"},\"barmode\":\"relative\"},                        {\"responsive\": true}                    ).then(function(){\n",
              "                            \n",
              "var gd = document.getElementById('901c7523-5305-4685-8136-72501a472f2e');\n",
              "var x = new MutationObserver(function (mutations, observer) {{\n",
              "        var display = window.getComputedStyle(gd).display;\n",
              "        if (!display || display === 'none') {{\n",
              "            console.log([gd, 'removed!']);\n",
              "            Plotly.purge(gd);\n",
              "            observer.disconnect();\n",
              "        }}\n",
              "}});\n",
              "\n",
              "// Listen for the removal of the full notebook cells\n",
              "var notebookContainer = gd.closest('#notebook-container');\n",
              "if (notebookContainer) {{\n",
              "    x.observe(notebookContainer, {childList: true});\n",
              "}}\n",
              "\n",
              "// Listen for the clearing of the current output cell\n",
              "var outputEl = gd.closest('.output');\n",
              "if (outputEl) {{\n",
              "    x.observe(outputEl, {childList: true});\n",
              "}}\n",
              "\n",
              "                        })                };                            </script>        </div>\n",
              "</body>\n",
              "</html>"
            ]
          },
          "metadata": {}
        }
      ],
      "source": [
        "fig2 = px.histogram(df, x='temperature', title='Frequency by Temperature', labels={'temperature': 'Temperature'})\n",
        "fig2.update_yaxes(title ='Frequency')\n",
        "fig2.show()"
      ]
    },
    {
      "cell_type": "markdown",
      "metadata": {
        "id": "ynsnWNQg11od"
      },
      "source": [
        "**Investigating the Bar Coupons**\n",
        "\n",
        "Now, we will lead you through an exploration of just the bar related coupons.  \n",
        "\n",
        "1. Create a new `DataFrame` that contains just the bar coupons.\n"
      ]
    },
    {
      "cell_type": "code",
      "execution_count": null,
      "metadata": {
        "id": "zQG8BXmn11od",
        "colab": {
          "base_uri": "https://localhost:8080/",
          "height": 325
        },
        "outputId": "6766ae6c-2e7e-4f03-9d02-f445e720cc03"
      },
      "outputs": [
        {
          "output_type": "execute_result",
          "data": {
            "text/plain": [
              "        destination  passanger weather  temperature  time coupon expiration  \\\n",
              "9   No Urgent Place     Kid(s)   Sunny           80  10AM    Bar         1d   \n",
              "13             Home      Alone   Sunny           55   6PM    Bar         1d   \n",
              "17             Work      Alone   Sunny           55   7AM    Bar         1d   \n",
              "24  No Urgent Place  Friend(s)   Sunny           80  10AM    Bar         1d   \n",
              "35             Home      Alone   Sunny           55   6PM    Bar         1d   \n",
              "\n",
              "    gender age      maritalStatus  ...  CoffeeHouse CarryAway  \\\n",
              "9   Female  21  Unmarried partner  ...        never   Unknown   \n",
              "13  Female  21  Unmarried partner  ...        never   Unknown   \n",
              "17  Female  21  Unmarried partner  ...        never   Unknown   \n",
              "24    Male  21             Single  ...        less1       4~8   \n",
              "35    Male  21             Single  ...        less1       4~8   \n",
              "\n",
              "   RestaurantLessThan20 Restaurant20To50 toCoupon_GEQ5min toCoupon_GEQ15min  \\\n",
              "9                   4~8              1~3                1                 1   \n",
              "13                  4~8              1~3                1                 0   \n",
              "17                  4~8              1~3                1                 1   \n",
              "24                  4~8            less1                1                 0   \n",
              "35                  4~8            less1                1                 0   \n",
              "\n",
              "   toCoupon_GEQ25min direction_same direction_opp  Y  \n",
              "9                  0              0             1  0  \n",
              "13                 0              1             0  1  \n",
              "17                 1              0             1  0  \n",
              "24                 0              0             1  1  \n",
              "35                 0              1             0  1  \n",
              "\n",
              "[5 rows x 26 columns]"
            ],
            "text/html": [
              "\n",
              "  <div id=\"df-0c38b642-ddb0-457e-84ba-c7a0afc75136\" class=\"colab-df-container\">\n",
              "    <div>\n",
              "<style scoped>\n",
              "    .dataframe tbody tr th:only-of-type {\n",
              "        vertical-align: middle;\n",
              "    }\n",
              "\n",
              "    .dataframe tbody tr th {\n",
              "        vertical-align: top;\n",
              "    }\n",
              "\n",
              "    .dataframe thead th {\n",
              "        text-align: right;\n",
              "    }\n",
              "</style>\n",
              "<table border=\"1\" class=\"dataframe\">\n",
              "  <thead>\n",
              "    <tr style=\"text-align: right;\">\n",
              "      <th></th>\n",
              "      <th>destination</th>\n",
              "      <th>passanger</th>\n",
              "      <th>weather</th>\n",
              "      <th>temperature</th>\n",
              "      <th>time</th>\n",
              "      <th>coupon</th>\n",
              "      <th>expiration</th>\n",
              "      <th>gender</th>\n",
              "      <th>age</th>\n",
              "      <th>maritalStatus</th>\n",
              "      <th>...</th>\n",
              "      <th>CoffeeHouse</th>\n",
              "      <th>CarryAway</th>\n",
              "      <th>RestaurantLessThan20</th>\n",
              "      <th>Restaurant20To50</th>\n",
              "      <th>toCoupon_GEQ5min</th>\n",
              "      <th>toCoupon_GEQ15min</th>\n",
              "      <th>toCoupon_GEQ25min</th>\n",
              "      <th>direction_same</th>\n",
              "      <th>direction_opp</th>\n",
              "      <th>Y</th>\n",
              "    </tr>\n",
              "  </thead>\n",
              "  <tbody>\n",
              "    <tr>\n",
              "      <th>9</th>\n",
              "      <td>No Urgent Place</td>\n",
              "      <td>Kid(s)</td>\n",
              "      <td>Sunny</td>\n",
              "      <td>80</td>\n",
              "      <td>10AM</td>\n",
              "      <td>Bar</td>\n",
              "      <td>1d</td>\n",
              "      <td>Female</td>\n",
              "      <td>21</td>\n",
              "      <td>Unmarried partner</td>\n",
              "      <td>...</td>\n",
              "      <td>never</td>\n",
              "      <td>Unknown</td>\n",
              "      <td>4~8</td>\n",
              "      <td>1~3</td>\n",
              "      <td>1</td>\n",
              "      <td>1</td>\n",
              "      <td>0</td>\n",
              "      <td>0</td>\n",
              "      <td>1</td>\n",
              "      <td>0</td>\n",
              "    </tr>\n",
              "    <tr>\n",
              "      <th>13</th>\n",
              "      <td>Home</td>\n",
              "      <td>Alone</td>\n",
              "      <td>Sunny</td>\n",
              "      <td>55</td>\n",
              "      <td>6PM</td>\n",
              "      <td>Bar</td>\n",
              "      <td>1d</td>\n",
              "      <td>Female</td>\n",
              "      <td>21</td>\n",
              "      <td>Unmarried partner</td>\n",
              "      <td>...</td>\n",
              "      <td>never</td>\n",
              "      <td>Unknown</td>\n",
              "      <td>4~8</td>\n",
              "      <td>1~3</td>\n",
              "      <td>1</td>\n",
              "      <td>0</td>\n",
              "      <td>0</td>\n",
              "      <td>1</td>\n",
              "      <td>0</td>\n",
              "      <td>1</td>\n",
              "    </tr>\n",
              "    <tr>\n",
              "      <th>17</th>\n",
              "      <td>Work</td>\n",
              "      <td>Alone</td>\n",
              "      <td>Sunny</td>\n",
              "      <td>55</td>\n",
              "      <td>7AM</td>\n",
              "      <td>Bar</td>\n",
              "      <td>1d</td>\n",
              "      <td>Female</td>\n",
              "      <td>21</td>\n",
              "      <td>Unmarried partner</td>\n",
              "      <td>...</td>\n",
              "      <td>never</td>\n",
              "      <td>Unknown</td>\n",
              "      <td>4~8</td>\n",
              "      <td>1~3</td>\n",
              "      <td>1</td>\n",
              "      <td>1</td>\n",
              "      <td>1</td>\n",
              "      <td>0</td>\n",
              "      <td>1</td>\n",
              "      <td>0</td>\n",
              "    </tr>\n",
              "    <tr>\n",
              "      <th>24</th>\n",
              "      <td>No Urgent Place</td>\n",
              "      <td>Friend(s)</td>\n",
              "      <td>Sunny</td>\n",
              "      <td>80</td>\n",
              "      <td>10AM</td>\n",
              "      <td>Bar</td>\n",
              "      <td>1d</td>\n",
              "      <td>Male</td>\n",
              "      <td>21</td>\n",
              "      <td>Single</td>\n",
              "      <td>...</td>\n",
              "      <td>less1</td>\n",
              "      <td>4~8</td>\n",
              "      <td>4~8</td>\n",
              "      <td>less1</td>\n",
              "      <td>1</td>\n",
              "      <td>0</td>\n",
              "      <td>0</td>\n",
              "      <td>0</td>\n",
              "      <td>1</td>\n",
              "      <td>1</td>\n",
              "    </tr>\n",
              "    <tr>\n",
              "      <th>35</th>\n",
              "      <td>Home</td>\n",
              "      <td>Alone</td>\n",
              "      <td>Sunny</td>\n",
              "      <td>55</td>\n",
              "      <td>6PM</td>\n",
              "      <td>Bar</td>\n",
              "      <td>1d</td>\n",
              "      <td>Male</td>\n",
              "      <td>21</td>\n",
              "      <td>Single</td>\n",
              "      <td>...</td>\n",
              "      <td>less1</td>\n",
              "      <td>4~8</td>\n",
              "      <td>4~8</td>\n",
              "      <td>less1</td>\n",
              "      <td>1</td>\n",
              "      <td>0</td>\n",
              "      <td>0</td>\n",
              "      <td>1</td>\n",
              "      <td>0</td>\n",
              "      <td>1</td>\n",
              "    </tr>\n",
              "  </tbody>\n",
              "</table>\n",
              "<p>5 rows × 26 columns</p>\n",
              "</div>\n",
              "    <div class=\"colab-df-buttons\">\n",
              "\n",
              "  <div class=\"colab-df-container\">\n",
              "    <button class=\"colab-df-convert\" onclick=\"convertToInteractive('df-0c38b642-ddb0-457e-84ba-c7a0afc75136')\"\n",
              "            title=\"Convert this dataframe to an interactive table.\"\n",
              "            style=\"display:none;\">\n",
              "\n",
              "  <svg xmlns=\"http://www.w3.org/2000/svg\" height=\"24px\" viewBox=\"0 -960 960 960\">\n",
              "    <path d=\"M120-120v-720h720v720H120Zm60-500h600v-160H180v160Zm220 220h160v-160H400v160Zm0 220h160v-160H400v160ZM180-400h160v-160H180v160Zm440 0h160v-160H620v160ZM180-180h160v-160H180v160Zm440 0h160v-160H620v160Z\"/>\n",
              "  </svg>\n",
              "    </button>\n",
              "\n",
              "  <style>\n",
              "    .colab-df-container {\n",
              "      display:flex;\n",
              "      gap: 12px;\n",
              "    }\n",
              "\n",
              "    .colab-df-convert {\n",
              "      background-color: #E8F0FE;\n",
              "      border: none;\n",
              "      border-radius: 50%;\n",
              "      cursor: pointer;\n",
              "      display: none;\n",
              "      fill: #1967D2;\n",
              "      height: 32px;\n",
              "      padding: 0 0 0 0;\n",
              "      width: 32px;\n",
              "    }\n",
              "\n",
              "    .colab-df-convert:hover {\n",
              "      background-color: #E2EBFA;\n",
              "      box-shadow: 0px 1px 2px rgba(60, 64, 67, 0.3), 0px 1px 3px 1px rgba(60, 64, 67, 0.15);\n",
              "      fill: #174EA6;\n",
              "    }\n",
              "\n",
              "    .colab-df-buttons div {\n",
              "      margin-bottom: 4px;\n",
              "    }\n",
              "\n",
              "    [theme=dark] .colab-df-convert {\n",
              "      background-color: #3B4455;\n",
              "      fill: #D2E3FC;\n",
              "    }\n",
              "\n",
              "    [theme=dark] .colab-df-convert:hover {\n",
              "      background-color: #434B5C;\n",
              "      box-shadow: 0px 1px 3px 1px rgba(0, 0, 0, 0.15);\n",
              "      filter: drop-shadow(0px 1px 2px rgba(0, 0, 0, 0.3));\n",
              "      fill: #FFFFFF;\n",
              "    }\n",
              "  </style>\n",
              "\n",
              "    <script>\n",
              "      const buttonEl =\n",
              "        document.querySelector('#df-0c38b642-ddb0-457e-84ba-c7a0afc75136 button.colab-df-convert');\n",
              "      buttonEl.style.display =\n",
              "        google.colab.kernel.accessAllowed ? 'block' : 'none';\n",
              "\n",
              "      async function convertToInteractive(key) {\n",
              "        const element = document.querySelector('#df-0c38b642-ddb0-457e-84ba-c7a0afc75136');\n",
              "        const dataTable =\n",
              "          await google.colab.kernel.invokeFunction('convertToInteractive',\n",
              "                                                    [key], {});\n",
              "        if (!dataTable) return;\n",
              "\n",
              "        const docLinkHtml = 'Like what you see? Visit the ' +\n",
              "          '<a target=\"_blank\" href=https://colab.research.google.com/notebooks/data_table.ipynb>data table notebook</a>'\n",
              "          + ' to learn more about interactive tables.';\n",
              "        element.innerHTML = '';\n",
              "        dataTable['output_type'] = 'display_data';\n",
              "        await google.colab.output.renderOutput(dataTable, element);\n",
              "        const docLink = document.createElement('div');\n",
              "        docLink.innerHTML = docLinkHtml;\n",
              "        element.appendChild(docLink);\n",
              "      }\n",
              "    </script>\n",
              "  </div>\n",
              "\n",
              "\n",
              "<div id=\"df-24d8a15d-57a1-4590-ba9d-7c367429792d\">\n",
              "  <button class=\"colab-df-quickchart\" onclick=\"quickchart('df-24d8a15d-57a1-4590-ba9d-7c367429792d')\"\n",
              "            title=\"Suggest charts\"\n",
              "            style=\"display:none;\">\n",
              "\n",
              "<svg xmlns=\"http://www.w3.org/2000/svg\" height=\"24px\"viewBox=\"0 0 24 24\"\n",
              "     width=\"24px\">\n",
              "    <g>\n",
              "        <path d=\"M19 3H5c-1.1 0-2 .9-2 2v14c0 1.1.9 2 2 2h14c1.1 0 2-.9 2-2V5c0-1.1-.9-2-2-2zM9 17H7v-7h2v7zm4 0h-2V7h2v10zm4 0h-2v-4h2v4z\"/>\n",
              "    </g>\n",
              "</svg>\n",
              "  </button>\n",
              "\n",
              "<style>\n",
              "  .colab-df-quickchart {\n",
              "      --bg-color: #E8F0FE;\n",
              "      --fill-color: #1967D2;\n",
              "      --hover-bg-color: #E2EBFA;\n",
              "      --hover-fill-color: #174EA6;\n",
              "      --disabled-fill-color: #AAA;\n",
              "      --disabled-bg-color: #DDD;\n",
              "  }\n",
              "\n",
              "  [theme=dark] .colab-df-quickchart {\n",
              "      --bg-color: #3B4455;\n",
              "      --fill-color: #D2E3FC;\n",
              "      --hover-bg-color: #434B5C;\n",
              "      --hover-fill-color: #FFFFFF;\n",
              "      --disabled-bg-color: #3B4455;\n",
              "      --disabled-fill-color: #666;\n",
              "  }\n",
              "\n",
              "  .colab-df-quickchart {\n",
              "    background-color: var(--bg-color);\n",
              "    border: none;\n",
              "    border-radius: 50%;\n",
              "    cursor: pointer;\n",
              "    display: none;\n",
              "    fill: var(--fill-color);\n",
              "    height: 32px;\n",
              "    padding: 0;\n",
              "    width: 32px;\n",
              "  }\n",
              "\n",
              "  .colab-df-quickchart:hover {\n",
              "    background-color: var(--hover-bg-color);\n",
              "    box-shadow: 0 1px 2px rgba(60, 64, 67, 0.3), 0 1px 3px 1px rgba(60, 64, 67, 0.15);\n",
              "    fill: var(--button-hover-fill-color);\n",
              "  }\n",
              "\n",
              "  .colab-df-quickchart-complete:disabled,\n",
              "  .colab-df-quickchart-complete:disabled:hover {\n",
              "    background-color: var(--disabled-bg-color);\n",
              "    fill: var(--disabled-fill-color);\n",
              "    box-shadow: none;\n",
              "  }\n",
              "\n",
              "  .colab-df-spinner {\n",
              "    border: 2px solid var(--fill-color);\n",
              "    border-color: transparent;\n",
              "    border-bottom-color: var(--fill-color);\n",
              "    animation:\n",
              "      spin 1s steps(1) infinite;\n",
              "  }\n",
              "\n",
              "  @keyframes spin {\n",
              "    0% {\n",
              "      border-color: transparent;\n",
              "      border-bottom-color: var(--fill-color);\n",
              "      border-left-color: var(--fill-color);\n",
              "    }\n",
              "    20% {\n",
              "      border-color: transparent;\n",
              "      border-left-color: var(--fill-color);\n",
              "      border-top-color: var(--fill-color);\n",
              "    }\n",
              "    30% {\n",
              "      border-color: transparent;\n",
              "      border-left-color: var(--fill-color);\n",
              "      border-top-color: var(--fill-color);\n",
              "      border-right-color: var(--fill-color);\n",
              "    }\n",
              "    40% {\n",
              "      border-color: transparent;\n",
              "      border-right-color: var(--fill-color);\n",
              "      border-top-color: var(--fill-color);\n",
              "    }\n",
              "    60% {\n",
              "      border-color: transparent;\n",
              "      border-right-color: var(--fill-color);\n",
              "    }\n",
              "    80% {\n",
              "      border-color: transparent;\n",
              "      border-right-color: var(--fill-color);\n",
              "      border-bottom-color: var(--fill-color);\n",
              "    }\n",
              "    90% {\n",
              "      border-color: transparent;\n",
              "      border-bottom-color: var(--fill-color);\n",
              "    }\n",
              "  }\n",
              "</style>\n",
              "\n",
              "  <script>\n",
              "    async function quickchart(key) {\n",
              "      const quickchartButtonEl =\n",
              "        document.querySelector('#' + key + ' button');\n",
              "      quickchartButtonEl.disabled = true;  // To prevent multiple clicks.\n",
              "      quickchartButtonEl.classList.add('colab-df-spinner');\n",
              "      try {\n",
              "        const charts = await google.colab.kernel.invokeFunction(\n",
              "            'suggestCharts', [key], {});\n",
              "      } catch (error) {\n",
              "        console.error('Error during call to suggestCharts:', error);\n",
              "      }\n",
              "      quickchartButtonEl.classList.remove('colab-df-spinner');\n",
              "      quickchartButtonEl.classList.add('colab-df-quickchart-complete');\n",
              "    }\n",
              "    (() => {\n",
              "      let quickchartButtonEl =\n",
              "        document.querySelector('#df-24d8a15d-57a1-4590-ba9d-7c367429792d button');\n",
              "      quickchartButtonEl.style.display =\n",
              "        google.colab.kernel.accessAllowed ? 'block' : 'none';\n",
              "    })();\n",
              "  </script>\n",
              "</div>\n",
              "\n",
              "    </div>\n",
              "  </div>\n"
            ],
            "application/vnd.google.colaboratory.intrinsic+json": {
              "type": "dataframe",
              "variable_name": "coupons_bar_df"
            }
          },
          "metadata": {},
          "execution_count": 32
        }
      ],
      "source": [
        "coupons_bar_df = df.query('coupon == \"Bar\"')\n",
        "coupons_bar_df.head()"
      ]
    },
    {
      "cell_type": "markdown",
      "metadata": {
        "id": "4tzqd5rQ11od"
      },
      "source": [
        "2. What proportion of bar coupons were accepted?\n"
      ]
    },
    {
      "cell_type": "code",
      "execution_count": null,
      "metadata": {
        "id": "lIAacLjA11od",
        "colab": {
          "base_uri": "https://localhost:8080/"
        },
        "outputId": "dcdc7510-6ca1-444b-c9f2-b280d814cf8a"
      },
      "outputs": [
        {
          "output_type": "stream",
          "name": "stdout",
          "text": [
            "Percentage of bar coupons accepted: 41.0%\n"
          ]
        }
      ],
      "source": [
        "coupons_bar_accept_percentage = coupons_bar_df['Y'].mean() * 100\n",
        "print('Percentage of bar coupons accepted: ' + str(round(coupons_bar_accept_percentage, 2)) + '%')"
      ]
    },
    {
      "cell_type": "markdown",
      "metadata": {
        "id": "q42avRED11od"
      },
      "source": [
        "3. Compare the acceptance rate between those who went to a bar 3 or fewer times a month to those who went more.\n"
      ]
    },
    {
      "cell_type": "code",
      "execution_count": null,
      "metadata": {
        "id": "QSiA6roJ11od",
        "colab": {
          "base_uri": "https://localhost:8080/"
        },
        "outputId": "5093bb0a-78a9-4af5-b138-b18c748dfe7f"
      },
      "outputs": [
        {
          "output_type": "execute_result",
          "data": {
            "text/plain": [
              "array(['never', 'less1', '1~3', 'gt8', 'Unknown', '4~8'], dtype=object)"
            ]
          },
          "metadata": {},
          "execution_count": 43
        }
      ],
      "source": [
        "#get column unique values\n",
        "coupons_bar_df['Bar'].unique()"
      ]
    },
    {
      "cell_type": "code",
      "source": [
        "three_or_fewer_list = ['never', 'less1', '1~3']\n",
        "more_than_three_list = ['4~8', 'gt8']"
      ],
      "metadata": {
        "id": "9tAAsUJyvIyn"
      },
      "execution_count": null,
      "outputs": []
    },
    {
      "cell_type": "code",
      "source": [
        "coupons_bar_df['Bar'].unique()"
      ],
      "metadata": {
        "colab": {
          "base_uri": "https://localhost:8080/"
        },
        "id": "H4XjZeHIko5H",
        "outputId": "90dfd21b-c9e6-4539-dbaa-f4f7fdcb62b7"
      },
      "execution_count": null,
      "outputs": [
        {
          "output_type": "execute_result",
          "data": {
            "text/plain": [
              "array(['never', 'less1', '1~3', 'gt8', 'Unknown', '4~8'], dtype=object)"
            ]
          },
          "metadata": {},
          "execution_count": 36
        }
      ]
    },
    {
      "cell_type": "code",
      "source": [
        "coupons_accept_percentage_three_or_fewer = coupons_bar_df[coupons_bar_df['Bar'].isin(three_or_fewer_list) ]['Y'].mean() * 100\n",
        "coupons_accept_percentage_more_than_three = coupons_bar_df[coupons_bar_df['Bar'].isin(more_than_three_list) ]['Y'].mean() * 100\n",
        "print('Acceptance rate of those who went to a bar 3 or fewer times a month: ' + str(round(coupons_accept_percentage_three_or_fewer, 2)) + '%')\n",
        "print('Acceptance rate of those who went to a bar more than 3 times a month: ' + str(round(coupons_accept_percentage_more_than_three, 2)) + '%')"
      ],
      "metadata": {
        "colab": {
          "base_uri": "https://localhost:8080/"
        },
        "id": "8yVSHLeLviLO",
        "outputId": "405992ef-6671-4e4f-c540-e9b8931f265d"
      },
      "execution_count": null,
      "outputs": [
        {
          "output_type": "stream",
          "name": "stdout",
          "text": [
            "Acceptance rate of those who went to a bar 3 or fewer times a month: 37.06%\n",
            "Acceptance rate of those who went to a bar more than 3 times a month: 76.88%\n"
          ]
        }
      ]
    },
    {
      "cell_type": "markdown",
      "metadata": {
        "id": "jPOs_HOG11od"
      },
      "source": [
        "4. Compare the acceptance rate between drivers who go to a bar more than once a month and are over the age of 25 to the all others.  Is there a difference?\n"
      ]
    },
    {
      "cell_type": "code",
      "source": [
        "coupons_bar_df['age'].unique()"
      ],
      "metadata": {
        "colab": {
          "base_uri": "https://localhost:8080/"
        },
        "id": "7W03WUQQXahp",
        "outputId": "3e13fcac-ecd3-415b-8dfb-e93b87607615"
      },
      "execution_count": null,
      "outputs": [
        {
          "output_type": "execute_result",
          "data": {
            "text/plain": [
              "array(['21', '46', '26', '31', '41', '50plus', '36', 'below21'],\n",
              "      dtype=object)"
            ]
          },
          "metadata": {},
          "execution_count": 45
        }
      ]
    },
    {
      "cell_type": "code",
      "source": [
        "age_greater_than_25_list = ['46', '26', '31', '41', '50plus', '36']"
      ],
      "metadata": {
        "id": "jQp9KIy7Xjcw"
      },
      "execution_count": null,
      "outputs": []
    },
    {
      "cell_type": "code",
      "execution_count": null,
      "metadata": {
        "id": "ZNp15Ays11od",
        "colab": {
          "base_uri": "https://localhost:8080/"
        },
        "outputId": "1168299c-7192-4a2b-97ad-19449022cf7d"
      },
      "outputs": [
        {
          "output_type": "stream",
          "name": "stdout",
          "text": [
            "Yes, there is a difference\n",
            "Coupon acceptance rate for drivers who go to the bar more than once a month and are over the age of 25 is: 69.52%\n",
            "Coupon acceptance rate for drivers who go to the bar less than onece a month and are under the age of 25 is: 39.33%\n"
          ]
        }
      ],
      "source": [
        "more_than_one_list = ['1~3', '4~8', 'gt8']\n",
        "more_than_one_over_25 = coupons_bar_df[(coupons_bar_df['Bar'].isin(more_than_one_list)) & (coupons_bar_df['age'].isin(age_greater_than_25_list))]\n",
        "others = coupons_bar_df[~(coupons_bar_df['Bar'].isin(more_than_one_list)) & ~(coupons_bar_df['age'].isin(age_greater_than_25_list))]\n",
        "accept_rate_more_than_one_over_25 = more_than_one_over_25['Y'].mean() * 100\n",
        "accept_rate_others = others['Y'].mean() * 100\n",
        "\n",
        "print('Yes, there is a difference')\n",
        "print('Coupon acceptance rate for drivers who go to the bar more than once a month and are over the age of 25 is: ' + str(round(accept_rate_more_than_one_over_25, 2)) + '%')\n",
        "print('Coupon acceptance rate for drivers who go to the bar less than onece a month and are under the age of 25 is: ' + str(round(accept_rate_others, 2)) + '%')"
      ]
    },
    {
      "cell_type": "markdown",
      "metadata": {
        "id": "2yJcq4XB11od"
      },
      "source": [
        "5. Use the same process to compare the acceptance rate between drivers who go to bars more than once a month and had passengers that were not a kid and had occupations other than farming, fishing, or forestry.\n"
      ]
    },
    {
      "cell_type": "code",
      "execution_count": null,
      "metadata": {
        "id": "AoA_Rd2611oe",
        "colab": {
          "base_uri": "https://localhost:8080/"
        },
        "outputId": "b6463ec9-96d8-4425-c0d6-4ad3e6e84c01"
      },
      "outputs": [
        {
          "output_type": "execute_result",
          "data": {
            "text/plain": [
              "array(['Kid(s)', 'Alone', 'Friend(s)', 'Partner'], dtype=object)"
            ]
          },
          "metadata": {},
          "execution_count": 50
        }
      ],
      "source": [
        "coupons_bar_df['passanger'].unique()"
      ]
    },
    {
      "cell_type": "code",
      "source": [
        "coupons_bar_df['occupation'].unique()"
      ],
      "metadata": {
        "colab": {
          "base_uri": "https://localhost:8080/"
        },
        "id": "K5o0hSdndZtr",
        "outputId": "e7cab58f-7888-412a-d37a-c8f04d40baf8"
      },
      "execution_count": null,
      "outputs": [
        {
          "output_type": "execute_result",
          "data": {
            "text/plain": [
              "array(['Unemployed', 'Architecture & Engineering', 'Student',\n",
              "       'Education&Training&Library', 'Healthcare Support',\n",
              "       'Healthcare Practitioners & Technical', 'Sales & Related',\n",
              "       'Management', 'Arts Design Entertainment Sports & Media',\n",
              "       'Computer & Mathematical', 'Life Physical Social Science',\n",
              "       'Personal Care & Service', 'Community & Social Services',\n",
              "       'Office & Administrative Support', 'Construction & Extraction',\n",
              "       'Legal', 'Retired', 'Installation Maintenance & Repair',\n",
              "       'Transportation & Material Moving', 'Business & Financial',\n",
              "       'Protective Service', 'Food Preparation & Serving Related',\n",
              "       'Production Occupations',\n",
              "       'Building & Grounds Cleaning & Maintenance',\n",
              "       'Farming Fishing & Forestry'], dtype=object)"
            ]
          },
          "metadata": {},
          "execution_count": 51
        }
      ]
    },
    {
      "cell_type": "code",
      "source": [
        "group1 = coupons_bar_df[(coupons_bar_df['Bar'].isin(more_than_one_list)) & (coupons_bar_df['passanger'] != 'Kid(s)') & (coupons_bar_df['occupation'] != 'Farming Fishing & Forestry')]\n",
        "group1"
      ],
      "metadata": {
        "colab": {
          "base_uri": "https://localhost:8080/",
          "height": 583
        },
        "id": "T9PfXfnMc0uL",
        "outputId": "94567071-93b5-49fd-d084-bbd9456993fa"
      },
      "execution_count": null,
      "outputs": [
        {
          "output_type": "execute_result",
          "data": {
            "text/plain": [
              "           destination  passanger weather  temperature  time coupon  \\\n",
              "90     No Urgent Place  Friend(s)   Sunny           80  10AM    Bar   \n",
              "101               Home      Alone   Sunny           55   6PM    Bar   \n",
              "105               Work      Alone   Sunny           55   7AM    Bar   \n",
              "112    No Urgent Place  Friend(s)   Sunny           80  10AM    Bar   \n",
              "123               Home      Alone   Sunny           55   6PM    Bar   \n",
              "...                ...        ...     ...          ...   ...    ...   \n",
              "12500             Work      Alone   Snowy           30   7AM    Bar   \n",
              "12525  No Urgent Place  Friend(s)   Sunny           80  10PM    Bar   \n",
              "12526  No Urgent Place  Friend(s)   Sunny           55  10PM    Bar   \n",
              "12529  No Urgent Place      Alone   Rainy           55  10AM    Bar   \n",
              "12544             Work      Alone   Snowy           30   7AM    Bar   \n",
              "\n",
              "      expiration  gender age      maritalStatus  ...  CoffeeHouse CarryAway  \\\n",
              "90            1d    Male  21             Single  ...        less1       1~3   \n",
              "101           1d    Male  21             Single  ...        less1       1~3   \n",
              "105           1d    Male  21             Single  ...        less1       1~3   \n",
              "112           1d    Male  26  Unmarried partner  ...          gt8       4~8   \n",
              "123           1d    Male  26  Unmarried partner  ...          gt8       4~8   \n",
              "...          ...     ...  ..                ...  ...          ...       ...   \n",
              "12500         1d  Female  26  Unmarried partner  ...        never       4~8   \n",
              "12525         1d    Male  21  Unmarried partner  ...        never       gt8   \n",
              "12526         2h    Male  21  Unmarried partner  ...        never       gt8   \n",
              "12529         1d    Male  21  Unmarried partner  ...        never       gt8   \n",
              "12544         1d    Male  21  Unmarried partner  ...        never       gt8   \n",
              "\n",
              "      RestaurantLessThan20 Restaurant20To50 toCoupon_GEQ5min  \\\n",
              "90                   less1              1~3                1   \n",
              "101                  less1              1~3                1   \n",
              "105                  less1              1~3                1   \n",
              "112                    1~3            less1                1   \n",
              "123                    1~3            less1                1   \n",
              "...                    ...              ...              ...   \n",
              "12500                  4~8            less1                1   \n",
              "12525                  4~8              1~3                1   \n",
              "12526                  4~8              1~3                1   \n",
              "12529                  4~8              1~3                1   \n",
              "12544                  4~8              1~3                1   \n",
              "\n",
              "      toCoupon_GEQ15min toCoupon_GEQ25min direction_same direction_opp  Y  \n",
              "90                    0                 0              0             1  1  \n",
              "101                   0                 0              1             0  1  \n",
              "105                   1                 1              0             1  0  \n",
              "112                   0                 0              0             1  1  \n",
              "123                   0                 0              1             0  1  \n",
              "...                 ...               ...            ...           ... ..  \n",
              "12500                 1                 1              0             1  0  \n",
              "12525                 1                 0              0             1  1  \n",
              "12526                 1                 0              0             1  1  \n",
              "12529                 1                 0              0             1  0  \n",
              "12544                 1                 1              0             1  0  \n",
              "\n",
              "[551 rows x 26 columns]"
            ],
            "text/html": [
              "\n",
              "  <div id=\"df-9c1c5413-563e-4817-a50a-970581728500\" class=\"colab-df-container\">\n",
              "    <div>\n",
              "<style scoped>\n",
              "    .dataframe tbody tr th:only-of-type {\n",
              "        vertical-align: middle;\n",
              "    }\n",
              "\n",
              "    .dataframe tbody tr th {\n",
              "        vertical-align: top;\n",
              "    }\n",
              "\n",
              "    .dataframe thead th {\n",
              "        text-align: right;\n",
              "    }\n",
              "</style>\n",
              "<table border=\"1\" class=\"dataframe\">\n",
              "  <thead>\n",
              "    <tr style=\"text-align: right;\">\n",
              "      <th></th>\n",
              "      <th>destination</th>\n",
              "      <th>passanger</th>\n",
              "      <th>weather</th>\n",
              "      <th>temperature</th>\n",
              "      <th>time</th>\n",
              "      <th>coupon</th>\n",
              "      <th>expiration</th>\n",
              "      <th>gender</th>\n",
              "      <th>age</th>\n",
              "      <th>maritalStatus</th>\n",
              "      <th>...</th>\n",
              "      <th>CoffeeHouse</th>\n",
              "      <th>CarryAway</th>\n",
              "      <th>RestaurantLessThan20</th>\n",
              "      <th>Restaurant20To50</th>\n",
              "      <th>toCoupon_GEQ5min</th>\n",
              "      <th>toCoupon_GEQ15min</th>\n",
              "      <th>toCoupon_GEQ25min</th>\n",
              "      <th>direction_same</th>\n",
              "      <th>direction_opp</th>\n",
              "      <th>Y</th>\n",
              "    </tr>\n",
              "  </thead>\n",
              "  <tbody>\n",
              "    <tr>\n",
              "      <th>90</th>\n",
              "      <td>No Urgent Place</td>\n",
              "      <td>Friend(s)</td>\n",
              "      <td>Sunny</td>\n",
              "      <td>80</td>\n",
              "      <td>10AM</td>\n",
              "      <td>Bar</td>\n",
              "      <td>1d</td>\n",
              "      <td>Male</td>\n",
              "      <td>21</td>\n",
              "      <td>Single</td>\n",
              "      <td>...</td>\n",
              "      <td>less1</td>\n",
              "      <td>1~3</td>\n",
              "      <td>less1</td>\n",
              "      <td>1~3</td>\n",
              "      <td>1</td>\n",
              "      <td>0</td>\n",
              "      <td>0</td>\n",
              "      <td>0</td>\n",
              "      <td>1</td>\n",
              "      <td>1</td>\n",
              "    </tr>\n",
              "    <tr>\n",
              "      <th>101</th>\n",
              "      <td>Home</td>\n",
              "      <td>Alone</td>\n",
              "      <td>Sunny</td>\n",
              "      <td>55</td>\n",
              "      <td>6PM</td>\n",
              "      <td>Bar</td>\n",
              "      <td>1d</td>\n",
              "      <td>Male</td>\n",
              "      <td>21</td>\n",
              "      <td>Single</td>\n",
              "      <td>...</td>\n",
              "      <td>less1</td>\n",
              "      <td>1~3</td>\n",
              "      <td>less1</td>\n",
              "      <td>1~3</td>\n",
              "      <td>1</td>\n",
              "      <td>0</td>\n",
              "      <td>0</td>\n",
              "      <td>1</td>\n",
              "      <td>0</td>\n",
              "      <td>1</td>\n",
              "    </tr>\n",
              "    <tr>\n",
              "      <th>105</th>\n",
              "      <td>Work</td>\n",
              "      <td>Alone</td>\n",
              "      <td>Sunny</td>\n",
              "      <td>55</td>\n",
              "      <td>7AM</td>\n",
              "      <td>Bar</td>\n",
              "      <td>1d</td>\n",
              "      <td>Male</td>\n",
              "      <td>21</td>\n",
              "      <td>Single</td>\n",
              "      <td>...</td>\n",
              "      <td>less1</td>\n",
              "      <td>1~3</td>\n",
              "      <td>less1</td>\n",
              "      <td>1~3</td>\n",
              "      <td>1</td>\n",
              "      <td>1</td>\n",
              "      <td>1</td>\n",
              "      <td>0</td>\n",
              "      <td>1</td>\n",
              "      <td>0</td>\n",
              "    </tr>\n",
              "    <tr>\n",
              "      <th>112</th>\n",
              "      <td>No Urgent Place</td>\n",
              "      <td>Friend(s)</td>\n",
              "      <td>Sunny</td>\n",
              "      <td>80</td>\n",
              "      <td>10AM</td>\n",
              "      <td>Bar</td>\n",
              "      <td>1d</td>\n",
              "      <td>Male</td>\n",
              "      <td>26</td>\n",
              "      <td>Unmarried partner</td>\n",
              "      <td>...</td>\n",
              "      <td>gt8</td>\n",
              "      <td>4~8</td>\n",
              "      <td>1~3</td>\n",
              "      <td>less1</td>\n",
              "      <td>1</td>\n",
              "      <td>0</td>\n",
              "      <td>0</td>\n",
              "      <td>0</td>\n",
              "      <td>1</td>\n",
              "      <td>1</td>\n",
              "    </tr>\n",
              "    <tr>\n",
              "      <th>123</th>\n",
              "      <td>Home</td>\n",
              "      <td>Alone</td>\n",
              "      <td>Sunny</td>\n",
              "      <td>55</td>\n",
              "      <td>6PM</td>\n",
              "      <td>Bar</td>\n",
              "      <td>1d</td>\n",
              "      <td>Male</td>\n",
              "      <td>26</td>\n",
              "      <td>Unmarried partner</td>\n",
              "      <td>...</td>\n",
              "      <td>gt8</td>\n",
              "      <td>4~8</td>\n",
              "      <td>1~3</td>\n",
              "      <td>less1</td>\n",
              "      <td>1</td>\n",
              "      <td>0</td>\n",
              "      <td>0</td>\n",
              "      <td>1</td>\n",
              "      <td>0</td>\n",
              "      <td>1</td>\n",
              "    </tr>\n",
              "    <tr>\n",
              "      <th>...</th>\n",
              "      <td>...</td>\n",
              "      <td>...</td>\n",
              "      <td>...</td>\n",
              "      <td>...</td>\n",
              "      <td>...</td>\n",
              "      <td>...</td>\n",
              "      <td>...</td>\n",
              "      <td>...</td>\n",
              "      <td>...</td>\n",
              "      <td>...</td>\n",
              "      <td>...</td>\n",
              "      <td>...</td>\n",
              "      <td>...</td>\n",
              "      <td>...</td>\n",
              "      <td>...</td>\n",
              "      <td>...</td>\n",
              "      <td>...</td>\n",
              "      <td>...</td>\n",
              "      <td>...</td>\n",
              "      <td>...</td>\n",
              "      <td>...</td>\n",
              "    </tr>\n",
              "    <tr>\n",
              "      <th>12500</th>\n",
              "      <td>Work</td>\n",
              "      <td>Alone</td>\n",
              "      <td>Snowy</td>\n",
              "      <td>30</td>\n",
              "      <td>7AM</td>\n",
              "      <td>Bar</td>\n",
              "      <td>1d</td>\n",
              "      <td>Female</td>\n",
              "      <td>26</td>\n",
              "      <td>Unmarried partner</td>\n",
              "      <td>...</td>\n",
              "      <td>never</td>\n",
              "      <td>4~8</td>\n",
              "      <td>4~8</td>\n",
              "      <td>less1</td>\n",
              "      <td>1</td>\n",
              "      <td>1</td>\n",
              "      <td>1</td>\n",
              "      <td>0</td>\n",
              "      <td>1</td>\n",
              "      <td>0</td>\n",
              "    </tr>\n",
              "    <tr>\n",
              "      <th>12525</th>\n",
              "      <td>No Urgent Place</td>\n",
              "      <td>Friend(s)</td>\n",
              "      <td>Sunny</td>\n",
              "      <td>80</td>\n",
              "      <td>10PM</td>\n",
              "      <td>Bar</td>\n",
              "      <td>1d</td>\n",
              "      <td>Male</td>\n",
              "      <td>21</td>\n",
              "      <td>Unmarried partner</td>\n",
              "      <td>...</td>\n",
              "      <td>never</td>\n",
              "      <td>gt8</td>\n",
              "      <td>4~8</td>\n",
              "      <td>1~3</td>\n",
              "      <td>1</td>\n",
              "      <td>1</td>\n",
              "      <td>0</td>\n",
              "      <td>0</td>\n",
              "      <td>1</td>\n",
              "      <td>1</td>\n",
              "    </tr>\n",
              "    <tr>\n",
              "      <th>12526</th>\n",
              "      <td>No Urgent Place</td>\n",
              "      <td>Friend(s)</td>\n",
              "      <td>Sunny</td>\n",
              "      <td>55</td>\n",
              "      <td>10PM</td>\n",
              "      <td>Bar</td>\n",
              "      <td>2h</td>\n",
              "      <td>Male</td>\n",
              "      <td>21</td>\n",
              "      <td>Unmarried partner</td>\n",
              "      <td>...</td>\n",
              "      <td>never</td>\n",
              "      <td>gt8</td>\n",
              "      <td>4~8</td>\n",
              "      <td>1~3</td>\n",
              "      <td>1</td>\n",
              "      <td>1</td>\n",
              "      <td>0</td>\n",
              "      <td>0</td>\n",
              "      <td>1</td>\n",
              "      <td>1</td>\n",
              "    </tr>\n",
              "    <tr>\n",
              "      <th>12529</th>\n",
              "      <td>No Urgent Place</td>\n",
              "      <td>Alone</td>\n",
              "      <td>Rainy</td>\n",
              "      <td>55</td>\n",
              "      <td>10AM</td>\n",
              "      <td>Bar</td>\n",
              "      <td>1d</td>\n",
              "      <td>Male</td>\n",
              "      <td>21</td>\n",
              "      <td>Unmarried partner</td>\n",
              "      <td>...</td>\n",
              "      <td>never</td>\n",
              "      <td>gt8</td>\n",
              "      <td>4~8</td>\n",
              "      <td>1~3</td>\n",
              "      <td>1</td>\n",
              "      <td>1</td>\n",
              "      <td>0</td>\n",
              "      <td>0</td>\n",
              "      <td>1</td>\n",
              "      <td>0</td>\n",
              "    </tr>\n",
              "    <tr>\n",
              "      <th>12544</th>\n",
              "      <td>Work</td>\n",
              "      <td>Alone</td>\n",
              "      <td>Snowy</td>\n",
              "      <td>30</td>\n",
              "      <td>7AM</td>\n",
              "      <td>Bar</td>\n",
              "      <td>1d</td>\n",
              "      <td>Male</td>\n",
              "      <td>21</td>\n",
              "      <td>Unmarried partner</td>\n",
              "      <td>...</td>\n",
              "      <td>never</td>\n",
              "      <td>gt8</td>\n",
              "      <td>4~8</td>\n",
              "      <td>1~3</td>\n",
              "      <td>1</td>\n",
              "      <td>1</td>\n",
              "      <td>1</td>\n",
              "      <td>0</td>\n",
              "      <td>1</td>\n",
              "      <td>0</td>\n",
              "    </tr>\n",
              "  </tbody>\n",
              "</table>\n",
              "<p>551 rows × 26 columns</p>\n",
              "</div>\n",
              "    <div class=\"colab-df-buttons\">\n",
              "\n",
              "  <div class=\"colab-df-container\">\n",
              "    <button class=\"colab-df-convert\" onclick=\"convertToInteractive('df-9c1c5413-563e-4817-a50a-970581728500')\"\n",
              "            title=\"Convert this dataframe to an interactive table.\"\n",
              "            style=\"display:none;\">\n",
              "\n",
              "  <svg xmlns=\"http://www.w3.org/2000/svg\" height=\"24px\" viewBox=\"0 -960 960 960\">\n",
              "    <path d=\"M120-120v-720h720v720H120Zm60-500h600v-160H180v160Zm220 220h160v-160H400v160Zm0 220h160v-160H400v160ZM180-400h160v-160H180v160Zm440 0h160v-160H620v160ZM180-180h160v-160H180v160Zm440 0h160v-160H620v160Z\"/>\n",
              "  </svg>\n",
              "    </button>\n",
              "\n",
              "  <style>\n",
              "    .colab-df-container {\n",
              "      display:flex;\n",
              "      gap: 12px;\n",
              "    }\n",
              "\n",
              "    .colab-df-convert {\n",
              "      background-color: #E8F0FE;\n",
              "      border: none;\n",
              "      border-radius: 50%;\n",
              "      cursor: pointer;\n",
              "      display: none;\n",
              "      fill: #1967D2;\n",
              "      height: 32px;\n",
              "      padding: 0 0 0 0;\n",
              "      width: 32px;\n",
              "    }\n",
              "\n",
              "    .colab-df-convert:hover {\n",
              "      background-color: #E2EBFA;\n",
              "      box-shadow: 0px 1px 2px rgba(60, 64, 67, 0.3), 0px 1px 3px 1px rgba(60, 64, 67, 0.15);\n",
              "      fill: #174EA6;\n",
              "    }\n",
              "\n",
              "    .colab-df-buttons div {\n",
              "      margin-bottom: 4px;\n",
              "    }\n",
              "\n",
              "    [theme=dark] .colab-df-convert {\n",
              "      background-color: #3B4455;\n",
              "      fill: #D2E3FC;\n",
              "    }\n",
              "\n",
              "    [theme=dark] .colab-df-convert:hover {\n",
              "      background-color: #434B5C;\n",
              "      box-shadow: 0px 1px 3px 1px rgba(0, 0, 0, 0.15);\n",
              "      filter: drop-shadow(0px 1px 2px rgba(0, 0, 0, 0.3));\n",
              "      fill: #FFFFFF;\n",
              "    }\n",
              "  </style>\n",
              "\n",
              "    <script>\n",
              "      const buttonEl =\n",
              "        document.querySelector('#df-9c1c5413-563e-4817-a50a-970581728500 button.colab-df-convert');\n",
              "      buttonEl.style.display =\n",
              "        google.colab.kernel.accessAllowed ? 'block' : 'none';\n",
              "\n",
              "      async function convertToInteractive(key) {\n",
              "        const element = document.querySelector('#df-9c1c5413-563e-4817-a50a-970581728500');\n",
              "        const dataTable =\n",
              "          await google.colab.kernel.invokeFunction('convertToInteractive',\n",
              "                                                    [key], {});\n",
              "        if (!dataTable) return;\n",
              "\n",
              "        const docLinkHtml = 'Like what you see? Visit the ' +\n",
              "          '<a target=\"_blank\" href=https://colab.research.google.com/notebooks/data_table.ipynb>data table notebook</a>'\n",
              "          + ' to learn more about interactive tables.';\n",
              "        element.innerHTML = '';\n",
              "        dataTable['output_type'] = 'display_data';\n",
              "        await google.colab.output.renderOutput(dataTable, element);\n",
              "        const docLink = document.createElement('div');\n",
              "        docLink.innerHTML = docLinkHtml;\n",
              "        element.appendChild(docLink);\n",
              "      }\n",
              "    </script>\n",
              "  </div>\n",
              "\n",
              "\n",
              "<div id=\"df-f2ed9aa3-0f5a-4725-9a53-de66faddadf2\">\n",
              "  <button class=\"colab-df-quickchart\" onclick=\"quickchart('df-f2ed9aa3-0f5a-4725-9a53-de66faddadf2')\"\n",
              "            title=\"Suggest charts\"\n",
              "            style=\"display:none;\">\n",
              "\n",
              "<svg xmlns=\"http://www.w3.org/2000/svg\" height=\"24px\"viewBox=\"0 0 24 24\"\n",
              "     width=\"24px\">\n",
              "    <g>\n",
              "        <path d=\"M19 3H5c-1.1 0-2 .9-2 2v14c0 1.1.9 2 2 2h14c1.1 0 2-.9 2-2V5c0-1.1-.9-2-2-2zM9 17H7v-7h2v7zm4 0h-2V7h2v10zm4 0h-2v-4h2v4z\"/>\n",
              "    </g>\n",
              "</svg>\n",
              "  </button>\n",
              "\n",
              "<style>\n",
              "  .colab-df-quickchart {\n",
              "      --bg-color: #E8F0FE;\n",
              "      --fill-color: #1967D2;\n",
              "      --hover-bg-color: #E2EBFA;\n",
              "      --hover-fill-color: #174EA6;\n",
              "      --disabled-fill-color: #AAA;\n",
              "      --disabled-bg-color: #DDD;\n",
              "  }\n",
              "\n",
              "  [theme=dark] .colab-df-quickchart {\n",
              "      --bg-color: #3B4455;\n",
              "      --fill-color: #D2E3FC;\n",
              "      --hover-bg-color: #434B5C;\n",
              "      --hover-fill-color: #FFFFFF;\n",
              "      --disabled-bg-color: #3B4455;\n",
              "      --disabled-fill-color: #666;\n",
              "  }\n",
              "\n",
              "  .colab-df-quickchart {\n",
              "    background-color: var(--bg-color);\n",
              "    border: none;\n",
              "    border-radius: 50%;\n",
              "    cursor: pointer;\n",
              "    display: none;\n",
              "    fill: var(--fill-color);\n",
              "    height: 32px;\n",
              "    padding: 0;\n",
              "    width: 32px;\n",
              "  }\n",
              "\n",
              "  .colab-df-quickchart:hover {\n",
              "    background-color: var(--hover-bg-color);\n",
              "    box-shadow: 0 1px 2px rgba(60, 64, 67, 0.3), 0 1px 3px 1px rgba(60, 64, 67, 0.15);\n",
              "    fill: var(--button-hover-fill-color);\n",
              "  }\n",
              "\n",
              "  .colab-df-quickchart-complete:disabled,\n",
              "  .colab-df-quickchart-complete:disabled:hover {\n",
              "    background-color: var(--disabled-bg-color);\n",
              "    fill: var(--disabled-fill-color);\n",
              "    box-shadow: none;\n",
              "  }\n",
              "\n",
              "  .colab-df-spinner {\n",
              "    border: 2px solid var(--fill-color);\n",
              "    border-color: transparent;\n",
              "    border-bottom-color: var(--fill-color);\n",
              "    animation:\n",
              "      spin 1s steps(1) infinite;\n",
              "  }\n",
              "\n",
              "  @keyframes spin {\n",
              "    0% {\n",
              "      border-color: transparent;\n",
              "      border-bottom-color: var(--fill-color);\n",
              "      border-left-color: var(--fill-color);\n",
              "    }\n",
              "    20% {\n",
              "      border-color: transparent;\n",
              "      border-left-color: var(--fill-color);\n",
              "      border-top-color: var(--fill-color);\n",
              "    }\n",
              "    30% {\n",
              "      border-color: transparent;\n",
              "      border-left-color: var(--fill-color);\n",
              "      border-top-color: var(--fill-color);\n",
              "      border-right-color: var(--fill-color);\n",
              "    }\n",
              "    40% {\n",
              "      border-color: transparent;\n",
              "      border-right-color: var(--fill-color);\n",
              "      border-top-color: var(--fill-color);\n",
              "    }\n",
              "    60% {\n",
              "      border-color: transparent;\n",
              "      border-right-color: var(--fill-color);\n",
              "    }\n",
              "    80% {\n",
              "      border-color: transparent;\n",
              "      border-right-color: var(--fill-color);\n",
              "      border-bottom-color: var(--fill-color);\n",
              "    }\n",
              "    90% {\n",
              "      border-color: transparent;\n",
              "      border-bottom-color: var(--fill-color);\n",
              "    }\n",
              "  }\n",
              "</style>\n",
              "\n",
              "  <script>\n",
              "    async function quickchart(key) {\n",
              "      const quickchartButtonEl =\n",
              "        document.querySelector('#' + key + ' button');\n",
              "      quickchartButtonEl.disabled = true;  // To prevent multiple clicks.\n",
              "      quickchartButtonEl.classList.add('colab-df-spinner');\n",
              "      try {\n",
              "        const charts = await google.colab.kernel.invokeFunction(\n",
              "            'suggestCharts', [key], {});\n",
              "      } catch (error) {\n",
              "        console.error('Error during call to suggestCharts:', error);\n",
              "      }\n",
              "      quickchartButtonEl.classList.remove('colab-df-spinner');\n",
              "      quickchartButtonEl.classList.add('colab-df-quickchart-complete');\n",
              "    }\n",
              "    (() => {\n",
              "      let quickchartButtonEl =\n",
              "        document.querySelector('#df-f2ed9aa3-0f5a-4725-9a53-de66faddadf2 button');\n",
              "      quickchartButtonEl.style.display =\n",
              "        google.colab.kernel.accessAllowed ? 'block' : 'none';\n",
              "    })();\n",
              "  </script>\n",
              "</div>\n",
              "\n",
              "  <div id=\"id_8a1394e4-2a04-4969-9ff6-1317603e9bcb\">\n",
              "    <style>\n",
              "      .colab-df-generate {\n",
              "        background-color: #E8F0FE;\n",
              "        border: none;\n",
              "        border-radius: 50%;\n",
              "        cursor: pointer;\n",
              "        display: none;\n",
              "        fill: #1967D2;\n",
              "        height: 32px;\n",
              "        padding: 0 0 0 0;\n",
              "        width: 32px;\n",
              "      }\n",
              "\n",
              "      .colab-df-generate:hover {\n",
              "        background-color: #E2EBFA;\n",
              "        box-shadow: 0px 1px 2px rgba(60, 64, 67, 0.3), 0px 1px 3px 1px rgba(60, 64, 67, 0.15);\n",
              "        fill: #174EA6;\n",
              "      }\n",
              "\n",
              "      [theme=dark] .colab-df-generate {\n",
              "        background-color: #3B4455;\n",
              "        fill: #D2E3FC;\n",
              "      }\n",
              "\n",
              "      [theme=dark] .colab-df-generate:hover {\n",
              "        background-color: #434B5C;\n",
              "        box-shadow: 0px 1px 3px 1px rgba(0, 0, 0, 0.15);\n",
              "        filter: drop-shadow(0px 1px 2px rgba(0, 0, 0, 0.3));\n",
              "        fill: #FFFFFF;\n",
              "      }\n",
              "    </style>\n",
              "    <button class=\"colab-df-generate\" onclick=\"generateWithVariable('group1')\"\n",
              "            title=\"Generate code using this dataframe.\"\n",
              "            style=\"display:none;\">\n",
              "\n",
              "  <svg xmlns=\"http://www.w3.org/2000/svg\" height=\"24px\"viewBox=\"0 0 24 24\"\n",
              "       width=\"24px\">\n",
              "    <path d=\"M7,19H8.4L18.45,9,17,7.55,7,17.6ZM5,21V16.75L18.45,3.32a2,2,0,0,1,2.83,0l1.4,1.43a1.91,1.91,0,0,1,.58,1.4,1.91,1.91,0,0,1-.58,1.4L9.25,21ZM18.45,9,17,7.55Zm-12,3A5.31,5.31,0,0,0,4.9,8.1,5.31,5.31,0,0,0,1,6.5,5.31,5.31,0,0,0,4.9,4.9,5.31,5.31,0,0,0,6.5,1,5.31,5.31,0,0,0,8.1,4.9,5.31,5.31,0,0,0,12,6.5,5.46,5.46,0,0,0,6.5,12Z\"/>\n",
              "  </svg>\n",
              "    </button>\n",
              "    <script>\n",
              "      (() => {\n",
              "      const buttonEl =\n",
              "        document.querySelector('#id_8a1394e4-2a04-4969-9ff6-1317603e9bcb button.colab-df-generate');\n",
              "      buttonEl.style.display =\n",
              "        google.colab.kernel.accessAllowed ? 'block' : 'none';\n",
              "\n",
              "      buttonEl.onclick = () => {\n",
              "        google.colab.notebook.generateWithVariable('group1');\n",
              "      }\n",
              "      })();\n",
              "    </script>\n",
              "  </div>\n",
              "\n",
              "    </div>\n",
              "  </div>\n"
            ],
            "application/vnd.google.colaboratory.intrinsic+json": {
              "type": "dataframe",
              "variable_name": "group1"
            }
          },
          "metadata": {},
          "execution_count": 52
        }
      ]
    },
    {
      "cell_type": "code",
      "source": [
        "group2 = coupons_bar_df[~(coupons_bar_df['Bar'].isin(more_than_one_list)) & ~(coupons_bar_df['passanger'] != 'Kid(s)') & ~(coupons_bar_df['occupation'] != 'Farming Fishing & Forestry')]\n",
        "group2"
      ],
      "metadata": {
        "colab": {
          "base_uri": "https://localhost:8080/",
          "height": 228
        },
        "id": "MZSNUAz2d9g4",
        "outputId": "d75930b2-947f-4c5c-c34d-f923c370582e"
      },
      "execution_count": null,
      "outputs": [
        {
          "output_type": "execute_result",
          "data": {
            "text/plain": [
              "          destination passanger weather  temperature  time coupon expiration  \\\n",
              "8431  No Urgent Place    Kid(s)   Rainy           55  10PM    Bar         1d   \n",
              "8432  No Urgent Place    Kid(s)   Snowy           30   6PM    Bar         1d   \n",
              "9565             Home    Kid(s)   Sunny           30   6PM    Bar         2h   \n",
              "\n",
              "     gender age    maritalStatus  ...  CoffeeHouse CarryAway  \\\n",
              "8431   Male  41  Married partner  ...        never     never   \n",
              "8432   Male  41  Married partner  ...        never     never   \n",
              "9565   Male  31  Married partner  ...        less1     less1   \n",
              "\n",
              "     RestaurantLessThan20 Restaurant20To50 toCoupon_GEQ5min toCoupon_GEQ15min  \\\n",
              "8431                  1~3            never                1                 1   \n",
              "8432                  1~3            never                1                 1   \n",
              "9565                  1~3            less1                1                 1   \n",
              "\n",
              "     toCoupon_GEQ25min direction_same direction_opp  Y  \n",
              "8431                 0              0             1  0  \n",
              "8432                 0              0             1  0  \n",
              "9565                 0              0             1  1  \n",
              "\n",
              "[3 rows x 26 columns]"
            ],
            "text/html": [
              "\n",
              "  <div id=\"df-7020235d-bc64-4dee-8b42-e4f6cf9e7cb3\" class=\"colab-df-container\">\n",
              "    <div>\n",
              "<style scoped>\n",
              "    .dataframe tbody tr th:only-of-type {\n",
              "        vertical-align: middle;\n",
              "    }\n",
              "\n",
              "    .dataframe tbody tr th {\n",
              "        vertical-align: top;\n",
              "    }\n",
              "\n",
              "    .dataframe thead th {\n",
              "        text-align: right;\n",
              "    }\n",
              "</style>\n",
              "<table border=\"1\" class=\"dataframe\">\n",
              "  <thead>\n",
              "    <tr style=\"text-align: right;\">\n",
              "      <th></th>\n",
              "      <th>destination</th>\n",
              "      <th>passanger</th>\n",
              "      <th>weather</th>\n",
              "      <th>temperature</th>\n",
              "      <th>time</th>\n",
              "      <th>coupon</th>\n",
              "      <th>expiration</th>\n",
              "      <th>gender</th>\n",
              "      <th>age</th>\n",
              "      <th>maritalStatus</th>\n",
              "      <th>...</th>\n",
              "      <th>CoffeeHouse</th>\n",
              "      <th>CarryAway</th>\n",
              "      <th>RestaurantLessThan20</th>\n",
              "      <th>Restaurant20To50</th>\n",
              "      <th>toCoupon_GEQ5min</th>\n",
              "      <th>toCoupon_GEQ15min</th>\n",
              "      <th>toCoupon_GEQ25min</th>\n",
              "      <th>direction_same</th>\n",
              "      <th>direction_opp</th>\n",
              "      <th>Y</th>\n",
              "    </tr>\n",
              "  </thead>\n",
              "  <tbody>\n",
              "    <tr>\n",
              "      <th>8431</th>\n",
              "      <td>No Urgent Place</td>\n",
              "      <td>Kid(s)</td>\n",
              "      <td>Rainy</td>\n",
              "      <td>55</td>\n",
              "      <td>10PM</td>\n",
              "      <td>Bar</td>\n",
              "      <td>1d</td>\n",
              "      <td>Male</td>\n",
              "      <td>41</td>\n",
              "      <td>Married partner</td>\n",
              "      <td>...</td>\n",
              "      <td>never</td>\n",
              "      <td>never</td>\n",
              "      <td>1~3</td>\n",
              "      <td>never</td>\n",
              "      <td>1</td>\n",
              "      <td>1</td>\n",
              "      <td>0</td>\n",
              "      <td>0</td>\n",
              "      <td>1</td>\n",
              "      <td>0</td>\n",
              "    </tr>\n",
              "    <tr>\n",
              "      <th>8432</th>\n",
              "      <td>No Urgent Place</td>\n",
              "      <td>Kid(s)</td>\n",
              "      <td>Snowy</td>\n",
              "      <td>30</td>\n",
              "      <td>6PM</td>\n",
              "      <td>Bar</td>\n",
              "      <td>1d</td>\n",
              "      <td>Male</td>\n",
              "      <td>41</td>\n",
              "      <td>Married partner</td>\n",
              "      <td>...</td>\n",
              "      <td>never</td>\n",
              "      <td>never</td>\n",
              "      <td>1~3</td>\n",
              "      <td>never</td>\n",
              "      <td>1</td>\n",
              "      <td>1</td>\n",
              "      <td>0</td>\n",
              "      <td>0</td>\n",
              "      <td>1</td>\n",
              "      <td>0</td>\n",
              "    </tr>\n",
              "    <tr>\n",
              "      <th>9565</th>\n",
              "      <td>Home</td>\n",
              "      <td>Kid(s)</td>\n",
              "      <td>Sunny</td>\n",
              "      <td>30</td>\n",
              "      <td>6PM</td>\n",
              "      <td>Bar</td>\n",
              "      <td>2h</td>\n",
              "      <td>Male</td>\n",
              "      <td>31</td>\n",
              "      <td>Married partner</td>\n",
              "      <td>...</td>\n",
              "      <td>less1</td>\n",
              "      <td>less1</td>\n",
              "      <td>1~3</td>\n",
              "      <td>less1</td>\n",
              "      <td>1</td>\n",
              "      <td>1</td>\n",
              "      <td>0</td>\n",
              "      <td>0</td>\n",
              "      <td>1</td>\n",
              "      <td>1</td>\n",
              "    </tr>\n",
              "  </tbody>\n",
              "</table>\n",
              "<p>3 rows × 26 columns</p>\n",
              "</div>\n",
              "    <div class=\"colab-df-buttons\">\n",
              "\n",
              "  <div class=\"colab-df-container\">\n",
              "    <button class=\"colab-df-convert\" onclick=\"convertToInteractive('df-7020235d-bc64-4dee-8b42-e4f6cf9e7cb3')\"\n",
              "            title=\"Convert this dataframe to an interactive table.\"\n",
              "            style=\"display:none;\">\n",
              "\n",
              "  <svg xmlns=\"http://www.w3.org/2000/svg\" height=\"24px\" viewBox=\"0 -960 960 960\">\n",
              "    <path d=\"M120-120v-720h720v720H120Zm60-500h600v-160H180v160Zm220 220h160v-160H400v160Zm0 220h160v-160H400v160ZM180-400h160v-160H180v160Zm440 0h160v-160H620v160ZM180-180h160v-160H180v160Zm440 0h160v-160H620v160Z\"/>\n",
              "  </svg>\n",
              "    </button>\n",
              "\n",
              "  <style>\n",
              "    .colab-df-container {\n",
              "      display:flex;\n",
              "      gap: 12px;\n",
              "    }\n",
              "\n",
              "    .colab-df-convert {\n",
              "      background-color: #E8F0FE;\n",
              "      border: none;\n",
              "      border-radius: 50%;\n",
              "      cursor: pointer;\n",
              "      display: none;\n",
              "      fill: #1967D2;\n",
              "      height: 32px;\n",
              "      padding: 0 0 0 0;\n",
              "      width: 32px;\n",
              "    }\n",
              "\n",
              "    .colab-df-convert:hover {\n",
              "      background-color: #E2EBFA;\n",
              "      box-shadow: 0px 1px 2px rgba(60, 64, 67, 0.3), 0px 1px 3px 1px rgba(60, 64, 67, 0.15);\n",
              "      fill: #174EA6;\n",
              "    }\n",
              "\n",
              "    .colab-df-buttons div {\n",
              "      margin-bottom: 4px;\n",
              "    }\n",
              "\n",
              "    [theme=dark] .colab-df-convert {\n",
              "      background-color: #3B4455;\n",
              "      fill: #D2E3FC;\n",
              "    }\n",
              "\n",
              "    [theme=dark] .colab-df-convert:hover {\n",
              "      background-color: #434B5C;\n",
              "      box-shadow: 0px 1px 3px 1px rgba(0, 0, 0, 0.15);\n",
              "      filter: drop-shadow(0px 1px 2px rgba(0, 0, 0, 0.3));\n",
              "      fill: #FFFFFF;\n",
              "    }\n",
              "  </style>\n",
              "\n",
              "    <script>\n",
              "      const buttonEl =\n",
              "        document.querySelector('#df-7020235d-bc64-4dee-8b42-e4f6cf9e7cb3 button.colab-df-convert');\n",
              "      buttonEl.style.display =\n",
              "        google.colab.kernel.accessAllowed ? 'block' : 'none';\n",
              "\n",
              "      async function convertToInteractive(key) {\n",
              "        const element = document.querySelector('#df-7020235d-bc64-4dee-8b42-e4f6cf9e7cb3');\n",
              "        const dataTable =\n",
              "          await google.colab.kernel.invokeFunction('convertToInteractive',\n",
              "                                                    [key], {});\n",
              "        if (!dataTable) return;\n",
              "\n",
              "        const docLinkHtml = 'Like what you see? Visit the ' +\n",
              "          '<a target=\"_blank\" href=https://colab.research.google.com/notebooks/data_table.ipynb>data table notebook</a>'\n",
              "          + ' to learn more about interactive tables.';\n",
              "        element.innerHTML = '';\n",
              "        dataTable['output_type'] = 'display_data';\n",
              "        await google.colab.output.renderOutput(dataTable, element);\n",
              "        const docLink = document.createElement('div');\n",
              "        docLink.innerHTML = docLinkHtml;\n",
              "        element.appendChild(docLink);\n",
              "      }\n",
              "    </script>\n",
              "  </div>\n",
              "\n",
              "\n",
              "<div id=\"df-6d5b6890-25bd-407e-a3ee-4a2ce0616597\">\n",
              "  <button class=\"colab-df-quickchart\" onclick=\"quickchart('df-6d5b6890-25bd-407e-a3ee-4a2ce0616597')\"\n",
              "            title=\"Suggest charts\"\n",
              "            style=\"display:none;\">\n",
              "\n",
              "<svg xmlns=\"http://www.w3.org/2000/svg\" height=\"24px\"viewBox=\"0 0 24 24\"\n",
              "     width=\"24px\">\n",
              "    <g>\n",
              "        <path d=\"M19 3H5c-1.1 0-2 .9-2 2v14c0 1.1.9 2 2 2h14c1.1 0 2-.9 2-2V5c0-1.1-.9-2-2-2zM9 17H7v-7h2v7zm4 0h-2V7h2v10zm4 0h-2v-4h2v4z\"/>\n",
              "    </g>\n",
              "</svg>\n",
              "  </button>\n",
              "\n",
              "<style>\n",
              "  .colab-df-quickchart {\n",
              "      --bg-color: #E8F0FE;\n",
              "      --fill-color: #1967D2;\n",
              "      --hover-bg-color: #E2EBFA;\n",
              "      --hover-fill-color: #174EA6;\n",
              "      --disabled-fill-color: #AAA;\n",
              "      --disabled-bg-color: #DDD;\n",
              "  }\n",
              "\n",
              "  [theme=dark] .colab-df-quickchart {\n",
              "      --bg-color: #3B4455;\n",
              "      --fill-color: #D2E3FC;\n",
              "      --hover-bg-color: #434B5C;\n",
              "      --hover-fill-color: #FFFFFF;\n",
              "      --disabled-bg-color: #3B4455;\n",
              "      --disabled-fill-color: #666;\n",
              "  }\n",
              "\n",
              "  .colab-df-quickchart {\n",
              "    background-color: var(--bg-color);\n",
              "    border: none;\n",
              "    border-radius: 50%;\n",
              "    cursor: pointer;\n",
              "    display: none;\n",
              "    fill: var(--fill-color);\n",
              "    height: 32px;\n",
              "    padding: 0;\n",
              "    width: 32px;\n",
              "  }\n",
              "\n",
              "  .colab-df-quickchart:hover {\n",
              "    background-color: var(--hover-bg-color);\n",
              "    box-shadow: 0 1px 2px rgba(60, 64, 67, 0.3), 0 1px 3px 1px rgba(60, 64, 67, 0.15);\n",
              "    fill: var(--button-hover-fill-color);\n",
              "  }\n",
              "\n",
              "  .colab-df-quickchart-complete:disabled,\n",
              "  .colab-df-quickchart-complete:disabled:hover {\n",
              "    background-color: var(--disabled-bg-color);\n",
              "    fill: var(--disabled-fill-color);\n",
              "    box-shadow: none;\n",
              "  }\n",
              "\n",
              "  .colab-df-spinner {\n",
              "    border: 2px solid var(--fill-color);\n",
              "    border-color: transparent;\n",
              "    border-bottom-color: var(--fill-color);\n",
              "    animation:\n",
              "      spin 1s steps(1) infinite;\n",
              "  }\n",
              "\n",
              "  @keyframes spin {\n",
              "    0% {\n",
              "      border-color: transparent;\n",
              "      border-bottom-color: var(--fill-color);\n",
              "      border-left-color: var(--fill-color);\n",
              "    }\n",
              "    20% {\n",
              "      border-color: transparent;\n",
              "      border-left-color: var(--fill-color);\n",
              "      border-top-color: var(--fill-color);\n",
              "    }\n",
              "    30% {\n",
              "      border-color: transparent;\n",
              "      border-left-color: var(--fill-color);\n",
              "      border-top-color: var(--fill-color);\n",
              "      border-right-color: var(--fill-color);\n",
              "    }\n",
              "    40% {\n",
              "      border-color: transparent;\n",
              "      border-right-color: var(--fill-color);\n",
              "      border-top-color: var(--fill-color);\n",
              "    }\n",
              "    60% {\n",
              "      border-color: transparent;\n",
              "      border-right-color: var(--fill-color);\n",
              "    }\n",
              "    80% {\n",
              "      border-color: transparent;\n",
              "      border-right-color: var(--fill-color);\n",
              "      border-bottom-color: var(--fill-color);\n",
              "    }\n",
              "    90% {\n",
              "      border-color: transparent;\n",
              "      border-bottom-color: var(--fill-color);\n",
              "    }\n",
              "  }\n",
              "</style>\n",
              "\n",
              "  <script>\n",
              "    async function quickchart(key) {\n",
              "      const quickchartButtonEl =\n",
              "        document.querySelector('#' + key + ' button');\n",
              "      quickchartButtonEl.disabled = true;  // To prevent multiple clicks.\n",
              "      quickchartButtonEl.classList.add('colab-df-spinner');\n",
              "      try {\n",
              "        const charts = await google.colab.kernel.invokeFunction(\n",
              "            'suggestCharts', [key], {});\n",
              "      } catch (error) {\n",
              "        console.error('Error during call to suggestCharts:', error);\n",
              "      }\n",
              "      quickchartButtonEl.classList.remove('colab-df-spinner');\n",
              "      quickchartButtonEl.classList.add('colab-df-quickchart-complete');\n",
              "    }\n",
              "    (() => {\n",
              "      let quickchartButtonEl =\n",
              "        document.querySelector('#df-6d5b6890-25bd-407e-a3ee-4a2ce0616597 button');\n",
              "      quickchartButtonEl.style.display =\n",
              "        google.colab.kernel.accessAllowed ? 'block' : 'none';\n",
              "    })();\n",
              "  </script>\n",
              "</div>\n",
              "\n",
              "  <div id=\"id_49b82388-561c-47cb-a122-748a40aa6791\">\n",
              "    <style>\n",
              "      .colab-df-generate {\n",
              "        background-color: #E8F0FE;\n",
              "        border: none;\n",
              "        border-radius: 50%;\n",
              "        cursor: pointer;\n",
              "        display: none;\n",
              "        fill: #1967D2;\n",
              "        height: 32px;\n",
              "        padding: 0 0 0 0;\n",
              "        width: 32px;\n",
              "      }\n",
              "\n",
              "      .colab-df-generate:hover {\n",
              "        background-color: #E2EBFA;\n",
              "        box-shadow: 0px 1px 2px rgba(60, 64, 67, 0.3), 0px 1px 3px 1px rgba(60, 64, 67, 0.15);\n",
              "        fill: #174EA6;\n",
              "      }\n",
              "\n",
              "      [theme=dark] .colab-df-generate {\n",
              "        background-color: #3B4455;\n",
              "        fill: #D2E3FC;\n",
              "      }\n",
              "\n",
              "      [theme=dark] .colab-df-generate:hover {\n",
              "        background-color: #434B5C;\n",
              "        box-shadow: 0px 1px 3px 1px rgba(0, 0, 0, 0.15);\n",
              "        filter: drop-shadow(0px 1px 2px rgba(0, 0, 0, 0.3));\n",
              "        fill: #FFFFFF;\n",
              "      }\n",
              "    </style>\n",
              "    <button class=\"colab-df-generate\" onclick=\"generateWithVariable('group2')\"\n",
              "            title=\"Generate code using this dataframe.\"\n",
              "            style=\"display:none;\">\n",
              "\n",
              "  <svg xmlns=\"http://www.w3.org/2000/svg\" height=\"24px\"viewBox=\"0 0 24 24\"\n",
              "       width=\"24px\">\n",
              "    <path d=\"M7,19H8.4L18.45,9,17,7.55,7,17.6ZM5,21V16.75L18.45,3.32a2,2,0,0,1,2.83,0l1.4,1.43a1.91,1.91,0,0,1,.58,1.4,1.91,1.91,0,0,1-.58,1.4L9.25,21ZM18.45,9,17,7.55Zm-12,3A5.31,5.31,0,0,0,4.9,8.1,5.31,5.31,0,0,0,1,6.5,5.31,5.31,0,0,0,4.9,4.9,5.31,5.31,0,0,0,6.5,1,5.31,5.31,0,0,0,8.1,4.9,5.31,5.31,0,0,0,12,6.5,5.46,5.46,0,0,0,6.5,12Z\"/>\n",
              "  </svg>\n",
              "    </button>\n",
              "    <script>\n",
              "      (() => {\n",
              "      const buttonEl =\n",
              "        document.querySelector('#id_49b82388-561c-47cb-a122-748a40aa6791 button.colab-df-generate');\n",
              "      buttonEl.style.display =\n",
              "        google.colab.kernel.accessAllowed ? 'block' : 'none';\n",
              "\n",
              "      buttonEl.onclick = () => {\n",
              "        google.colab.notebook.generateWithVariable('group2');\n",
              "      }\n",
              "      })();\n",
              "    </script>\n",
              "  </div>\n",
              "\n",
              "    </div>\n",
              "  </div>\n"
            ],
            "application/vnd.google.colaboratory.intrinsic+json": {
              "type": "dataframe",
              "variable_name": "group2"
            }
          },
          "metadata": {},
          "execution_count": 53
        }
      ]
    },
    {
      "cell_type": "code",
      "source": [
        "accept_rate_group1 = group1['Y'].mean() * 100\n",
        "accept_rate_group2 = group2['Y'].mean() * 100\n",
        "\n",
        "print('Coupon acceptance rate for drivers who go to the bar more than once a month, had passangers that were not a kid, and had an occupation other than farming, fishing, or forestry is: ' + str(round(accept_rate_group1, 2)) + '%')\n",
        "print('Coupon acceptance rate for all others is: ' + str(round(accept_rate_group2, 2)) + '%')"
      ],
      "metadata": {
        "colab": {
          "base_uri": "https://localhost:8080/"
        },
        "id": "L1alDwz4e0iJ",
        "outputId": "84a46090-bc7a-467c-e7db-7d0f29db5396"
      },
      "execution_count": null,
      "outputs": [
        {
          "output_type": "stream",
          "name": "stdout",
          "text": [
            "Coupon acceptance rate for drivers who go to the bar more than once a month, had passangers that were not a kid, and had an occupation other than farming, fishing, or forestry is: 71.32%\n",
            "Coupon acceptance rate for all others is: 33.33%\n"
          ]
        }
      ]
    },
    {
      "cell_type": "markdown",
      "metadata": {
        "id": "7jHZaaLp11oe"
      },
      "source": [
        "6. Compare the acceptance rates between those drivers who:\n",
        "\n",
        "- go to bars more than once a month, had passengers that were not a kid, and were not widowed *OR*\n",
        "- go to bars more than once a month and are under the age of 30 *OR*\n",
        "- go to cheap restaurants more than 4 times a month and income is less than 50K.\n",
        "\n"
      ]
    },
    {
      "cell_type": "code",
      "source": [
        "coupons_bar_df['maritalStatus'].unique()"
      ],
      "metadata": {
        "colab": {
          "base_uri": "https://localhost:8080/"
        },
        "id": "TXvUiqxyhjfr",
        "outputId": "413320f6-950d-4287-d5d2-1e8eaa9810f5"
      },
      "execution_count": null,
      "outputs": [
        {
          "output_type": "execute_result",
          "data": {
            "text/plain": [
              "array(['Unmarried partner', 'Single', 'Married partner', 'Divorced',\n",
              "       'Widowed'], dtype=object)"
            ]
          },
          "metadata": {},
          "execution_count": 55
        }
      ]
    },
    {
      "cell_type": "code",
      "source": [
        "coupons_bar_df['RestaurantLessThan20'].unique()"
      ],
      "metadata": {
        "colab": {
          "base_uri": "https://localhost:8080/"
        },
        "id": "q-waQMZbiBXD",
        "outputId": "ba7a2c81-aae6-4887-afd8-943da0db2941"
      },
      "execution_count": null,
      "outputs": [
        {
          "output_type": "execute_result",
          "data": {
            "text/plain": [
              "array(['4~8', '1~3', 'less1', 'gt8', 'Unknown', 'never'], dtype=object)"
            ]
          },
          "metadata": {},
          "execution_count": 56
        }
      ]
    },
    {
      "cell_type": "code",
      "source": [
        "coupons_bar_df['income'].unique()"
      ],
      "metadata": {
        "colab": {
          "base_uri": "https://localhost:8080/"
        },
        "id": "igcUpWNZih6c",
        "outputId": "f0dec835-52e1-47f9-ffee-a5259563ade7"
      },
      "execution_count": null,
      "outputs": [
        {
          "output_type": "execute_result",
          "data": {
            "text/plain": [
              "array(['$37500 - $49999', '$62500 - $74999', '$12500 - $24999',\n",
              "       '$75000 - $87499', '$50000 - $62499', '$25000 - $37499',\n",
              "       '$100000 or More', '$87500 - $99999', 'Less than $12500'],\n",
              "      dtype=object)"
            ]
          },
          "metadata": {},
          "execution_count": 57
        }
      ]
    },
    {
      "cell_type": "code",
      "source": [
        "coupons_bar_df['age'].unique()"
      ],
      "metadata": {
        "colab": {
          "base_uri": "https://localhost:8080/"
        },
        "id": "xw-NsBjzkzIB",
        "outputId": "dc69bcbf-3bcf-48b8-ea54-db3fdd76b218"
      },
      "execution_count": null,
      "outputs": [
        {
          "output_type": "execute_result",
          "data": {
            "text/plain": [
              "array(['21', '46', '26', '31', '41', '50plus', '36', 'below21'],\n",
              "      dtype=object)"
            ]
          },
          "metadata": {},
          "execution_count": 58
        }
      ]
    },
    {
      "cell_type": "code",
      "execution_count": null,
      "metadata": {
        "id": "PpChEVMS11oe",
        "colab": {
          "base_uri": "https://localhost:8080/"
        },
        "outputId": "5b7ba691-1034-461b-f32a-1e29219271d7"
      },
      "outputs": [
        {
          "output_type": "stream",
          "name": "stdout",
          "text": [
            "Coupon acceptance rate for drivers who go to bars more than once a month, had passengers that were not a kid, and were not widowed is: 71.32%\n",
            "Coupon acceptance rate for drivers who go to bars more than once a month and are under the age of 30 is: 72.17%\n",
            "Coupon acceptance rate for drivers who go to cheap restaurants more than 4 times a month and income is less than 50K is: 45.35%\n"
          ]
        }
      ],
      "source": [
        "six_group1 = coupons_bar_df[(coupons_bar_df['Bar'].isin(more_than_one_list)) & (coupons_bar_df['passanger'] != 'Kid(s)') & (coupons_bar_df['maritalStatus'] != 'Widowed')]\n",
        "six_group2 = coupons_bar_df[(coupons_bar_df['Bar'].isin(more_than_one_list)) & (coupons_bar_df['age'].isin(['21', '26', 'below21']))]\n",
        "six_group3 = coupons_bar_df[(coupons_bar_df['RestaurantLessThan20'].isin(['4~8', 'gt8'])) & (coupons_bar_df['income'].isin(['$37500 - $49999', '$12500 - $24999', '$25000 - $37499', 'Less than $12500']))]\n",
        "\n",
        "six_accept_rate_group1 = six_group1['Y'].mean() * 100\n",
        "six_accept_rate_group2 = six_group2['Y'].mean() * 100\n",
        "six_accept_rate_group3 = six_group3['Y'].mean() * 100\n",
        "\n",
        "print('Coupon acceptance rate for drivers who go to bars more than once a month, had passengers that were not a kid, and were not widowed is: ' + str(round(six_accept_rate_group1, 2)) + '%')\n",
        "print('Coupon acceptance rate for drivers who go to bars more than once a month and are under the age of 30 is: ' + str(round(six_accept_rate_group2, 2)) + '%')\n",
        "print('Coupon acceptance rate for drivers who go to cheap restaurants more than 4 times a month and income is less than 50K is: ' + str(round(six_accept_rate_group3, 2)) + '%')"
      ]
    },
    {
      "cell_type": "markdown",
      "metadata": {
        "id": "Psu4MMIa11oe"
      },
      "source": [
        "7.  Based on these observations, what do you hypothesize about drivers who accepted the bar coupons?"
      ]
    },
    {
      "cell_type": "code",
      "execution_count": null,
      "metadata": {
        "id": "QW1ycghW11oe"
      },
      "outputs": [],
      "source": []
    },
    {
      "cell_type": "markdown",
      "source": [
        "Based on these observations, some hypotheses can be made about drivers who accept the bar coupons.\n",
        "\n",
        "Looking at the observational stats, the first thing calculation shows that drivers that go to bars more than three times a month have a higher rate of acceptance of the bar coupon at 76.88% vs 37.06% for drivers that go to bars less than 3 times a month. The hypothesis is that drivers that frequent bars more frequently will be more likely to accept bar coupons.\n",
        "\n",
        "The next obsevation adds on age. We specifically look at drivers that go to bars more than once a month who are over 25 and whose who go to a bar less than once a month and are under 25. The findings were 69.52% and 39.33% coupon acceptance rate respectively. From this the hypothesis is that the drivers who go to bars at least one time a month and are over 25 are more likely to accept bar coupons.\n",
        "\n",
        "Next we look at drivers who go to bars more than once a month and had passengers that were not a kid and had occupations other than farming, fishing, or forestry. From this, the coupon acceptance rate was 71.32%. The acceptance rate is still high so it can be hypothesized that drivers who do not have kids as passengers and do not have an occupation in farming, fishing, and forestry are more likely to accept bar coupons.\n",
        "\n",
        "Lastly we look at acceptance rate for drivers in these three categories:\n",
        "- Go to bars more than once a month, had passengers that were not a kid, and were not widowed with an acceptance rate of 71.32%.\n",
        "- Go to bars more than once a month and are under the age of 30 with an acceptance rate of 72.17%.\n",
        "- Go to cheap restaurants more than 4 times a month and income is less than 50K with an acceptance rate of 45.35%.\n",
        "From these observations, the age group of under 30 has a higher acceptance rate than previously seen with the age group of over 25. Also looking at the data for drivers who go to cheap restraunts frequently and have less than 50k income have a low acceptance rate of 45.35%.\n",
        "\n",
        "In conclusion, with the data observed, an overall hypothesis for higher acceptance rate of bar coupons is that drivers who frequent bars more than once a month, under the age of 30, who do not have a kid as a passanger, and working in an occupation that is not farming, fishing, or forestry is more likely to accept a bar coupon.\n"
      ],
      "metadata": {
        "id": "bxrfCyEycQkq"
      }
    },
    {
      "cell_type": "markdown",
      "metadata": {
        "id": "9IZVqUM111oe"
      },
      "source": [
        "### Independent Investigation\n",
        "\n",
        "Using the bar coupon example as motivation, you are to explore one of the other coupon groups and try to determine the characteristics of passengers who accept the coupons.  "
      ]
    },
    {
      "cell_type": "code",
      "execution_count": 37,
      "metadata": {
        "id": "MQ5d38AK11oe",
        "colab": {
          "base_uri": "https://localhost:8080/"
        },
        "outputId": "89fd82c1-29e5-4c00-fe74-4f3adc82305d"
      },
      "outputs": [
        {
          "output_type": "execute_result",
          "data": {
            "text/plain": [
              "array(['No Urgent Place', 'Home', 'Work'], dtype=object)"
            ]
          },
          "metadata": {},
          "execution_count": 37
        }
      ],
      "source": [
        "df['destination'].unique()"
      ]
    },
    {
      "cell_type": "code",
      "execution_count": 38,
      "metadata": {
        "id": "6tMwTCng11oe",
        "colab": {
          "base_uri": "https://localhost:8080/",
          "height": 342
        },
        "outputId": "81647c0a-1067-454a-ac57-15feaeba3159"
      },
      "outputs": [
        {
          "output_type": "execute_result",
          "data": {
            "text/plain": [
              "        destination  passanger weather  temperature  time        coupon  \\\n",
              "1   No Urgent Place  Friend(s)   Sunny           80  10AM  Coffee House   \n",
              "3   No Urgent Place  Friend(s)   Sunny           80   2PM  Coffee House   \n",
              "4   No Urgent Place  Friend(s)   Sunny           80   2PM  Coffee House   \n",
              "12  No Urgent Place     Kid(s)   Sunny           55   6PM  Coffee House   \n",
              "15             Home      Alone   Sunny           80   6PM  Coffee House   \n",
              "\n",
              "   expiration  gender age      maritalStatus  ...  CoffeeHouse CarryAway  \\\n",
              "1          2h  Female  21  Unmarried partner  ...        never   Unknown   \n",
              "3          2h  Female  21  Unmarried partner  ...        never   Unknown   \n",
              "4          1d  Female  21  Unmarried partner  ...        never   Unknown   \n",
              "12         2h  Female  21  Unmarried partner  ...        never   Unknown   \n",
              "15         2h  Female  21  Unmarried partner  ...        never   Unknown   \n",
              "\n",
              "   RestaurantLessThan20 Restaurant20To50 toCoupon_GEQ5min toCoupon_GEQ15min  \\\n",
              "1                   4~8              1~3                1                 0   \n",
              "3                   4~8              1~3                1                 1   \n",
              "4                   4~8              1~3                1                 1   \n",
              "12                  4~8              1~3                1                 1   \n",
              "15                  4~8              1~3                1                 0   \n",
              "\n",
              "   toCoupon_GEQ25min direction_same direction_opp  Y  \n",
              "1                  0              0             1  0  \n",
              "3                  0              0             1  0  \n",
              "4                  0              0             1  0  \n",
              "12                 0              0             1  1  \n",
              "15                 0              0             1  0  \n",
              "\n",
              "[5 rows x 26 columns]"
            ],
            "text/html": [
              "\n",
              "  <div id=\"df-c1d0d486-25b6-4e01-8d30-947391938acb\" class=\"colab-df-container\">\n",
              "    <div>\n",
              "<style scoped>\n",
              "    .dataframe tbody tr th:only-of-type {\n",
              "        vertical-align: middle;\n",
              "    }\n",
              "\n",
              "    .dataframe tbody tr th {\n",
              "        vertical-align: top;\n",
              "    }\n",
              "\n",
              "    .dataframe thead th {\n",
              "        text-align: right;\n",
              "    }\n",
              "</style>\n",
              "<table border=\"1\" class=\"dataframe\">\n",
              "  <thead>\n",
              "    <tr style=\"text-align: right;\">\n",
              "      <th></th>\n",
              "      <th>destination</th>\n",
              "      <th>passanger</th>\n",
              "      <th>weather</th>\n",
              "      <th>temperature</th>\n",
              "      <th>time</th>\n",
              "      <th>coupon</th>\n",
              "      <th>expiration</th>\n",
              "      <th>gender</th>\n",
              "      <th>age</th>\n",
              "      <th>maritalStatus</th>\n",
              "      <th>...</th>\n",
              "      <th>CoffeeHouse</th>\n",
              "      <th>CarryAway</th>\n",
              "      <th>RestaurantLessThan20</th>\n",
              "      <th>Restaurant20To50</th>\n",
              "      <th>toCoupon_GEQ5min</th>\n",
              "      <th>toCoupon_GEQ15min</th>\n",
              "      <th>toCoupon_GEQ25min</th>\n",
              "      <th>direction_same</th>\n",
              "      <th>direction_opp</th>\n",
              "      <th>Y</th>\n",
              "    </tr>\n",
              "  </thead>\n",
              "  <tbody>\n",
              "    <tr>\n",
              "      <th>1</th>\n",
              "      <td>No Urgent Place</td>\n",
              "      <td>Friend(s)</td>\n",
              "      <td>Sunny</td>\n",
              "      <td>80</td>\n",
              "      <td>10AM</td>\n",
              "      <td>Coffee House</td>\n",
              "      <td>2h</td>\n",
              "      <td>Female</td>\n",
              "      <td>21</td>\n",
              "      <td>Unmarried partner</td>\n",
              "      <td>...</td>\n",
              "      <td>never</td>\n",
              "      <td>Unknown</td>\n",
              "      <td>4~8</td>\n",
              "      <td>1~3</td>\n",
              "      <td>1</td>\n",
              "      <td>0</td>\n",
              "      <td>0</td>\n",
              "      <td>0</td>\n",
              "      <td>1</td>\n",
              "      <td>0</td>\n",
              "    </tr>\n",
              "    <tr>\n",
              "      <th>3</th>\n",
              "      <td>No Urgent Place</td>\n",
              "      <td>Friend(s)</td>\n",
              "      <td>Sunny</td>\n",
              "      <td>80</td>\n",
              "      <td>2PM</td>\n",
              "      <td>Coffee House</td>\n",
              "      <td>2h</td>\n",
              "      <td>Female</td>\n",
              "      <td>21</td>\n",
              "      <td>Unmarried partner</td>\n",
              "      <td>...</td>\n",
              "      <td>never</td>\n",
              "      <td>Unknown</td>\n",
              "      <td>4~8</td>\n",
              "      <td>1~3</td>\n",
              "      <td>1</td>\n",
              "      <td>1</td>\n",
              "      <td>0</td>\n",
              "      <td>0</td>\n",
              "      <td>1</td>\n",
              "      <td>0</td>\n",
              "    </tr>\n",
              "    <tr>\n",
              "      <th>4</th>\n",
              "      <td>No Urgent Place</td>\n",
              "      <td>Friend(s)</td>\n",
              "      <td>Sunny</td>\n",
              "      <td>80</td>\n",
              "      <td>2PM</td>\n",
              "      <td>Coffee House</td>\n",
              "      <td>1d</td>\n",
              "      <td>Female</td>\n",
              "      <td>21</td>\n",
              "      <td>Unmarried partner</td>\n",
              "      <td>...</td>\n",
              "      <td>never</td>\n",
              "      <td>Unknown</td>\n",
              "      <td>4~8</td>\n",
              "      <td>1~3</td>\n",
              "      <td>1</td>\n",
              "      <td>1</td>\n",
              "      <td>0</td>\n",
              "      <td>0</td>\n",
              "      <td>1</td>\n",
              "      <td>0</td>\n",
              "    </tr>\n",
              "    <tr>\n",
              "      <th>12</th>\n",
              "      <td>No Urgent Place</td>\n",
              "      <td>Kid(s)</td>\n",
              "      <td>Sunny</td>\n",
              "      <td>55</td>\n",
              "      <td>6PM</td>\n",
              "      <td>Coffee House</td>\n",
              "      <td>2h</td>\n",
              "      <td>Female</td>\n",
              "      <td>21</td>\n",
              "      <td>Unmarried partner</td>\n",
              "      <td>...</td>\n",
              "      <td>never</td>\n",
              "      <td>Unknown</td>\n",
              "      <td>4~8</td>\n",
              "      <td>1~3</td>\n",
              "      <td>1</td>\n",
              "      <td>1</td>\n",
              "      <td>0</td>\n",
              "      <td>0</td>\n",
              "      <td>1</td>\n",
              "      <td>1</td>\n",
              "    </tr>\n",
              "    <tr>\n",
              "      <th>15</th>\n",
              "      <td>Home</td>\n",
              "      <td>Alone</td>\n",
              "      <td>Sunny</td>\n",
              "      <td>80</td>\n",
              "      <td>6PM</td>\n",
              "      <td>Coffee House</td>\n",
              "      <td>2h</td>\n",
              "      <td>Female</td>\n",
              "      <td>21</td>\n",
              "      <td>Unmarried partner</td>\n",
              "      <td>...</td>\n",
              "      <td>never</td>\n",
              "      <td>Unknown</td>\n",
              "      <td>4~8</td>\n",
              "      <td>1~3</td>\n",
              "      <td>1</td>\n",
              "      <td>0</td>\n",
              "      <td>0</td>\n",
              "      <td>0</td>\n",
              "      <td>1</td>\n",
              "      <td>0</td>\n",
              "    </tr>\n",
              "  </tbody>\n",
              "</table>\n",
              "<p>5 rows × 26 columns</p>\n",
              "</div>\n",
              "    <div class=\"colab-df-buttons\">\n",
              "\n",
              "  <div class=\"colab-df-container\">\n",
              "    <button class=\"colab-df-convert\" onclick=\"convertToInteractive('df-c1d0d486-25b6-4e01-8d30-947391938acb')\"\n",
              "            title=\"Convert this dataframe to an interactive table.\"\n",
              "            style=\"display:none;\">\n",
              "\n",
              "  <svg xmlns=\"http://www.w3.org/2000/svg\" height=\"24px\" viewBox=\"0 -960 960 960\">\n",
              "    <path d=\"M120-120v-720h720v720H120Zm60-500h600v-160H180v160Zm220 220h160v-160H400v160Zm0 220h160v-160H400v160ZM180-400h160v-160H180v160Zm440 0h160v-160H620v160ZM180-180h160v-160H180v160Zm440 0h160v-160H620v160Z\"/>\n",
              "  </svg>\n",
              "    </button>\n",
              "\n",
              "  <style>\n",
              "    .colab-df-container {\n",
              "      display:flex;\n",
              "      gap: 12px;\n",
              "    }\n",
              "\n",
              "    .colab-df-convert {\n",
              "      background-color: #E8F0FE;\n",
              "      border: none;\n",
              "      border-radius: 50%;\n",
              "      cursor: pointer;\n",
              "      display: none;\n",
              "      fill: #1967D2;\n",
              "      height: 32px;\n",
              "      padding: 0 0 0 0;\n",
              "      width: 32px;\n",
              "    }\n",
              "\n",
              "    .colab-df-convert:hover {\n",
              "      background-color: #E2EBFA;\n",
              "      box-shadow: 0px 1px 2px rgba(60, 64, 67, 0.3), 0px 1px 3px 1px rgba(60, 64, 67, 0.15);\n",
              "      fill: #174EA6;\n",
              "    }\n",
              "\n",
              "    .colab-df-buttons div {\n",
              "      margin-bottom: 4px;\n",
              "    }\n",
              "\n",
              "    [theme=dark] .colab-df-convert {\n",
              "      background-color: #3B4455;\n",
              "      fill: #D2E3FC;\n",
              "    }\n",
              "\n",
              "    [theme=dark] .colab-df-convert:hover {\n",
              "      background-color: #434B5C;\n",
              "      box-shadow: 0px 1px 3px 1px rgba(0, 0, 0, 0.15);\n",
              "      filter: drop-shadow(0px 1px 2px rgba(0, 0, 0, 0.3));\n",
              "      fill: #FFFFFF;\n",
              "    }\n",
              "  </style>\n",
              "\n",
              "    <script>\n",
              "      const buttonEl =\n",
              "        document.querySelector('#df-c1d0d486-25b6-4e01-8d30-947391938acb button.colab-df-convert');\n",
              "      buttonEl.style.display =\n",
              "        google.colab.kernel.accessAllowed ? 'block' : 'none';\n",
              "\n",
              "      async function convertToInteractive(key) {\n",
              "        const element = document.querySelector('#df-c1d0d486-25b6-4e01-8d30-947391938acb');\n",
              "        const dataTable =\n",
              "          await google.colab.kernel.invokeFunction('convertToInteractive',\n",
              "                                                    [key], {});\n",
              "        if (!dataTable) return;\n",
              "\n",
              "        const docLinkHtml = 'Like what you see? Visit the ' +\n",
              "          '<a target=\"_blank\" href=https://colab.research.google.com/notebooks/data_table.ipynb>data table notebook</a>'\n",
              "          + ' to learn more about interactive tables.';\n",
              "        element.innerHTML = '';\n",
              "        dataTable['output_type'] = 'display_data';\n",
              "        await google.colab.output.renderOutput(dataTable, element);\n",
              "        const docLink = document.createElement('div');\n",
              "        docLink.innerHTML = docLinkHtml;\n",
              "        element.appendChild(docLink);\n",
              "      }\n",
              "    </script>\n",
              "  </div>\n",
              "\n",
              "\n",
              "<div id=\"df-cea0f56f-934a-48ed-b17f-c27d77318304\">\n",
              "  <button class=\"colab-df-quickchart\" onclick=\"quickchart('df-cea0f56f-934a-48ed-b17f-c27d77318304')\"\n",
              "            title=\"Suggest charts\"\n",
              "            style=\"display:none;\">\n",
              "\n",
              "<svg xmlns=\"http://www.w3.org/2000/svg\" height=\"24px\"viewBox=\"0 0 24 24\"\n",
              "     width=\"24px\">\n",
              "    <g>\n",
              "        <path d=\"M19 3H5c-1.1 0-2 .9-2 2v14c0 1.1.9 2 2 2h14c1.1 0 2-.9 2-2V5c0-1.1-.9-2-2-2zM9 17H7v-7h2v7zm4 0h-2V7h2v10zm4 0h-2v-4h2v4z\"/>\n",
              "    </g>\n",
              "</svg>\n",
              "  </button>\n",
              "\n",
              "<style>\n",
              "  .colab-df-quickchart {\n",
              "      --bg-color: #E8F0FE;\n",
              "      --fill-color: #1967D2;\n",
              "      --hover-bg-color: #E2EBFA;\n",
              "      --hover-fill-color: #174EA6;\n",
              "      --disabled-fill-color: #AAA;\n",
              "      --disabled-bg-color: #DDD;\n",
              "  }\n",
              "\n",
              "  [theme=dark] .colab-df-quickchart {\n",
              "      --bg-color: #3B4455;\n",
              "      --fill-color: #D2E3FC;\n",
              "      --hover-bg-color: #434B5C;\n",
              "      --hover-fill-color: #FFFFFF;\n",
              "      --disabled-bg-color: #3B4455;\n",
              "      --disabled-fill-color: #666;\n",
              "  }\n",
              "\n",
              "  .colab-df-quickchart {\n",
              "    background-color: var(--bg-color);\n",
              "    border: none;\n",
              "    border-radius: 50%;\n",
              "    cursor: pointer;\n",
              "    display: none;\n",
              "    fill: var(--fill-color);\n",
              "    height: 32px;\n",
              "    padding: 0;\n",
              "    width: 32px;\n",
              "  }\n",
              "\n",
              "  .colab-df-quickchart:hover {\n",
              "    background-color: var(--hover-bg-color);\n",
              "    box-shadow: 0 1px 2px rgba(60, 64, 67, 0.3), 0 1px 3px 1px rgba(60, 64, 67, 0.15);\n",
              "    fill: var(--button-hover-fill-color);\n",
              "  }\n",
              "\n",
              "  .colab-df-quickchart-complete:disabled,\n",
              "  .colab-df-quickchart-complete:disabled:hover {\n",
              "    background-color: var(--disabled-bg-color);\n",
              "    fill: var(--disabled-fill-color);\n",
              "    box-shadow: none;\n",
              "  }\n",
              "\n",
              "  .colab-df-spinner {\n",
              "    border: 2px solid var(--fill-color);\n",
              "    border-color: transparent;\n",
              "    border-bottom-color: var(--fill-color);\n",
              "    animation:\n",
              "      spin 1s steps(1) infinite;\n",
              "  }\n",
              "\n",
              "  @keyframes spin {\n",
              "    0% {\n",
              "      border-color: transparent;\n",
              "      border-bottom-color: var(--fill-color);\n",
              "      border-left-color: var(--fill-color);\n",
              "    }\n",
              "    20% {\n",
              "      border-color: transparent;\n",
              "      border-left-color: var(--fill-color);\n",
              "      border-top-color: var(--fill-color);\n",
              "    }\n",
              "    30% {\n",
              "      border-color: transparent;\n",
              "      border-left-color: var(--fill-color);\n",
              "      border-top-color: var(--fill-color);\n",
              "      border-right-color: var(--fill-color);\n",
              "    }\n",
              "    40% {\n",
              "      border-color: transparent;\n",
              "      border-right-color: var(--fill-color);\n",
              "      border-top-color: var(--fill-color);\n",
              "    }\n",
              "    60% {\n",
              "      border-color: transparent;\n",
              "      border-right-color: var(--fill-color);\n",
              "    }\n",
              "    80% {\n",
              "      border-color: transparent;\n",
              "      border-right-color: var(--fill-color);\n",
              "      border-bottom-color: var(--fill-color);\n",
              "    }\n",
              "    90% {\n",
              "      border-color: transparent;\n",
              "      border-bottom-color: var(--fill-color);\n",
              "    }\n",
              "  }\n",
              "</style>\n",
              "\n",
              "  <script>\n",
              "    async function quickchart(key) {\n",
              "      const quickchartButtonEl =\n",
              "        document.querySelector('#' + key + ' button');\n",
              "      quickchartButtonEl.disabled = true;  // To prevent multiple clicks.\n",
              "      quickchartButtonEl.classList.add('colab-df-spinner');\n",
              "      try {\n",
              "        const charts = await google.colab.kernel.invokeFunction(\n",
              "            'suggestCharts', [key], {});\n",
              "      } catch (error) {\n",
              "        console.error('Error during call to suggestCharts:', error);\n",
              "      }\n",
              "      quickchartButtonEl.classList.remove('colab-df-spinner');\n",
              "      quickchartButtonEl.classList.add('colab-df-quickchart-complete');\n",
              "    }\n",
              "    (() => {\n",
              "      let quickchartButtonEl =\n",
              "        document.querySelector('#df-cea0f56f-934a-48ed-b17f-c27d77318304 button');\n",
              "      quickchartButtonEl.style.display =\n",
              "        google.colab.kernel.accessAllowed ? 'block' : 'none';\n",
              "    })();\n",
              "  </script>\n",
              "</div>\n",
              "\n",
              "    </div>\n",
              "  </div>\n"
            ],
            "application/vnd.google.colaboratory.intrinsic+json": {
              "type": "dataframe",
              "variable_name": "coupons_coffee_house_df"
            }
          },
          "metadata": {},
          "execution_count": 38
        }
      ],
      "source": [
        "coupons_coffee_house_df = df.query('coupon == \"Coffee House\"')\n",
        "coupons_coffee_house_df.head()"
      ]
    },
    {
      "cell_type": "code",
      "execution_count": 39,
      "metadata": {
        "id": "KuyS0tdq11of",
        "colab": {
          "base_uri": "https://localhost:8080/"
        },
        "outputId": "81dd3110-cd50-4ca8-983d-100be3f4f508"
      },
      "outputs": [
        {
          "output_type": "execute_result",
          "data": {
            "text/plain": [
              "49.92492492492492"
            ]
          },
          "metadata": {},
          "execution_count": 39
        }
      ],
      "source": [
        "coffee_accept_rate = coupons_coffee_house_df['Y'].mean() * 100\n",
        "coffee_accept_rate"
      ]
    },
    {
      "cell_type": "code",
      "source": [
        "coupons_coffee_house_df['time'].unique()"
      ],
      "metadata": {
        "colab": {
          "base_uri": "https://localhost:8080/"
        },
        "id": "wOrlLAP1wSQ0",
        "outputId": "ca082805-cdf9-47e6-994d-2805332dcaf1"
      },
      "execution_count": 40,
      "outputs": [
        {
          "output_type": "execute_result",
          "data": {
            "text/plain": [
              "array(['10AM', '2PM', '6PM', '7AM', '10PM'], dtype=object)"
            ]
          },
          "metadata": {},
          "execution_count": 40
        }
      ]
    },
    {
      "cell_type": "code",
      "source": [],
      "metadata": {
        "id": "oG30m-27yVSb"
      },
      "execution_count": null,
      "outputs": []
    },
    {
      "cell_type": "code",
      "source": [
        "before_noon_list = ['10AM', '7AM']\n",
        "afternoon_list = ['2PM', '6PM','10PM']"
      ],
      "metadata": {
        "id": "xHOn5g8IwdOk"
      },
      "execution_count": 41,
      "outputs": []
    },
    {
      "cell_type": "code",
      "source": [
        "before_noon = coupons_coffee_house_df[coupons_coffee_house_df['time'].isin(before_noon_list)]\n",
        "before_noon['Y'].mean()\n",
        "after_noon = coupons_coffee_house_df[coupons_coffee_house_df['time'].isin(afternoon_list)]\n",
        "after_noon['Y'].mean()\n",
        "before_noon['Y'].mean()"
      ],
      "metadata": {
        "colab": {
          "base_uri": "https://localhost:8080/"
        },
        "id": "zQ3P8T83r7qI",
        "outputId": "ac36143b-3406-48f1-d192-b7a1618de733"
      },
      "execution_count": 42,
      "outputs": [
        {
          "output_type": "execute_result",
          "data": {
            "text/plain": [
              "0.5424944812362031"
            ]
          },
          "metadata": {},
          "execution_count": 42
        }
      ]
    },
    {
      "cell_type": "code",
      "source": [
        "coupons_coffee_house_df['CoffeeHouse'].unique()"
      ],
      "metadata": {
        "colab": {
          "base_uri": "https://localhost:8080/"
        },
        "id": "1XdFHnfWxLWw",
        "outputId": "b551ad60-e96a-4299-d96c-88b9809d4679"
      },
      "execution_count": 43,
      "outputs": [
        {
          "output_type": "execute_result",
          "data": {
            "text/plain": [
              "array(['never', 'less1', '4~8', '1~3', 'gt8', 'Unknown'], dtype=object)"
            ]
          },
          "metadata": {},
          "execution_count": 43
        }
      ]
    },
    {
      "cell_type": "code",
      "source": [
        "more_than_three_list = ['4~8', 'gt8']\n",
        "three_or_less_list = ['never', 'less1', '1~3']"
      ],
      "metadata": {
        "id": "x8BQe8njAoRy"
      },
      "execution_count": 49,
      "outputs": []
    },
    {
      "cell_type": "code",
      "source": [
        "accept_rate_more_than_three = coupons_coffee_house_df[coupons_coffee_house_df['CoffeeHouse'].isin(more_than_three_list)]['Y'].mean() * 100\n",
        "accept_rate_three_or_less = coupons_coffee_house_df[coupons_coffee_house_df['CoffeeHouse'].isin(three_or_less_list)]['Y'].mean() * 100\n",
        "\n",
        "print('Coupon accept rate of drivers who frequent coffee houses more than 3 times a month: ' + str(round(accept_rate_more_than_three, 2)) + '%')\n",
        "print('Coupon accept rate of drivers who frequent coffee houses 3 or less times a month: ' + str(round(accept_rate_three_or_less, 2)) + '%')"
      ],
      "metadata": {
        "colab": {
          "base_uri": "https://localhost:8080/"
        },
        "id": "nT5Ybp6dA6BL",
        "outputId": "ac60f0ff-9be7-4d6a-e119-7ad2a6aa48d8"
      },
      "execution_count": 53,
      "outputs": [
        {
          "output_type": "stream",
          "name": "stdout",
          "text": [
            "Coupon accept rate of drivers who frequent coffee houses more than 3 times a month: 67.5%\n",
            "Coupon accept rate of drivers who frequent coffee houses 3 or less times a month: 44.94%\n"
          ]
        }
      ]
    },
    {
      "cell_type": "code",
      "source": [
        "more_than_once_list = ['4~8', 'gt8', '1~3']\n",
        "less_than_once_list = ['less1', 'never']\n",
        "\n",
        "accept_rate_more_than_once = coupons_coffee_house_df[coupons_coffee_house_df['CoffeeHouse'].isin(more_than_once_list)]['Y'].mean() * 100\n",
        "accept_rate_less_than_once = coupons_coffee_house_df[coupons_coffee_house_df['CoffeeHouse'].isin(less_than_once_list)]['Y'].mean() * 100\n",
        "\n",
        "print('Coupon accept rate of drivers who frequent coffee houses more than once a month: ' + str(round(accept_rate_more_than_once, 2)) + '%')\n",
        "print('Coupon accept rate of drivers who frequent coffee houses less than once a month: ' + str(round(accept_rate_less_than_once, 2)) + '%')"
      ],
      "metadata": {
        "colab": {
          "base_uri": "https://localhost:8080/"
        },
        "id": "88sbFBTfCUPm",
        "outputId": "2b73adaa-6bc6-4560-e854-c367beb3ae24"
      },
      "execution_count": 55,
      "outputs": [
        {
          "output_type": "stream",
          "name": "stdout",
          "text": [
            "Coupon accept rate of drivers who frequent coffee houses more than once a month: 66.02%\n",
            "Coupon accept rate of drivers who frequent coffee houses less than once a month: 34.62%\n"
          ]
        }
      ]
    },
    {
      "cell_type": "code",
      "execution_count": 57,
      "metadata": {
        "id": "CrykdkcJ11of",
        "colab": {
          "base_uri": "https://localhost:8080/",
          "height": 542
        },
        "outputId": "571e71aa-ebe8-4c37-ad9b-8bfeb6e576ef"
      },
      "outputs": [
        {
          "output_type": "display_data",
          "data": {
            "text/html": [
              "<html>\n",
              "<head><meta charset=\"utf-8\" /></head>\n",
              "<body>\n",
              "    <div>            <script src=\"https://cdnjs.cloudflare.com/ajax/libs/mathjax/2.7.5/MathJax.js?config=TeX-AMS-MML_SVG\"></script><script type=\"text/javascript\">if (window.MathJax && window.MathJax.Hub && window.MathJax.Hub.Config) {window.MathJax.Hub.Config({SVG: {font: \"STIX-Web\"}});}</script>                <script type=\"text/javascript\">window.PlotlyConfig = {MathJaxConfig: 'local'};</script>\n",
              "        <script charset=\"utf-8\" src=\"https://cdn.plot.ly/plotly-2.24.1.min.js\"></script>                <div id=\"09f5dd41-511e-4b74-b9fe-891560cf9f72\" class=\"plotly-graph-div\" style=\"height:525px; width:100%;\"></div>            <script type=\"text/javascript\">                                    window.PLOTLYENV=window.PLOTLYENV || {};                                    if (document.getElementById(\"09f5dd41-511e-4b74-b9fe-891560cf9f72\")) {                    Plotly.newPlot(                        \"09f5dd41-511e-4b74-b9fe-891560cf9f72\",                        [{\"alignmentgroup\":\"True\",\"bingroup\":\"x\",\"hovertemplate\":\"Y=0\\u003cbr\\u003eCoffeeHouse=%{x}\\u003cbr\\u003ecount=%{y}\\u003cextra\\u003e\\u003c\\u002fextra\\u003e\",\"legendgroup\":\"0\",\"marker\":{\"color\":\"#636efa\",\"pattern\":{\"shape\":\"\"}},\"name\":\"0\",\"offsetgroup\":\"0\",\"orientation\":\"v\",\"showlegend\":true,\"texttemplate\":\"%{value}\",\"x\":[\"never\",\"never\",\"never\",\"never\",\"less1\",\"less1\",\"less1\",\"less1\",\"less1\",\"less1\",\"less1\",\"less1\",\"less1\",\"less1\",\"4~8\",\"4~8\",\"4~8\",\"4~8\",\"4~8\",\"1~3\",\"1~3\",\"1~3\",\"gt8\",\"gt8\",\"gt8\",\"gt8\",\"gt8\",\"less1\",\"less1\",\"less1\",\"less1\",\"gt8\",\"gt8\",\"gt8\",\"gt8\",\"gt8\",\"gt8\",\"gt8\",\"gt8\",\"never\",\"never\",\"never\",\"never\",\"never\",\"never\",\"never\",\"never\",\"never\",\"never\",\"1~3\",\"1~3\",\"never\",\"never\",\"never\",\"never\",\"less1\",\"less1\",\"less1\",\"less1\",\"less1\",\"1~3\",\"1~3\",\"1~3\",\"1~3\",\"1~3\",\"1~3\",\"less1\",\"less1\",\"less1\",\"1~3\",\"1~3\",\"1~3\",\"1~3\",\"less1\",\"less1\",\"less1\",\"less1\",\"never\",\"never\",\"never\",\"never\",\"never\",\"never\",\"never\",\"never\",\"never\",\"never\",\"less1\",\"less1\",\"less1\",\"less1\",\"1~3\",\"1~3\",\"1~3\",\"1~3\",\"1~3\",\"1~3\",\"gt8\",\"gt8\",\"gt8\",\"1~3\",\"Unknown\",\"Unknown\",\"Unknown\",\"Unknown\",\"Unknown\",\"Unknown\",\"Unknown\",\"Unknown\",\"Unknown\",\"1~3\",\"1~3\",\"1~3\",\"less1\",\"less1\",\"less1\",\"less1\",\"less1\",\"less1\",\"less1\",\"never\",\"never\",\"never\",\"never\",\"never\",\"never\",\"never\",\"never\",\"never\",\"never\",\"gt8\",\"1~3\",\"1~3\",\"1~3\",\"1~3\",\"1~3\",\"never\",\"never\",\"never\",\"never\",\"never\",\"never\",\"never\",\"never\",\"1~3\",\"1~3\",\"1~3\",\"1~3\",\"1~3\",\"1~3\",\"never\",\"never\",\"never\",\"never\",\"never\",\"never\",\"never\",\"never\",\"never\",\"never\",\"never\",\"never\",\"never\",\"1~3\",\"1~3\",\"1~3\",\"1~3\",\"less1\",\"less1\",\"less1\",\"less1\",\"less1\",\"less1\",\"1~3\",\"never\",\"never\",\"never\",\"never\",\"never\",\"1~3\",\"1~3\",\"1~3\",\"1~3\",\"1~3\",\"less1\",\"less1\",\"less1\",\"less1\",\"4~8\",\"4~8\",\"4~8\",\"4~8\",\"less1\",\"less1\",\"less1\",\"less1\",\"less1\",\"less1\",\"never\",\"never\",\"never\",\"never\",\"never\",\"never\",\"4~8\",\"4~8\",\"4~8\",\"4~8\",\"4~8\",\"4~8\",\"4~8\",\"never\",\"never\",\"never\",\"never\",\"never\",\"never\",\"never\",\"never\",\"1~3\",\"1~3\",\"1~3\",\"1~3\",\"1~3\",\"1~3\",\"1~3\",\"1~3\",\"1~3\",\"1~3\",\"1~3\",\"less1\",\"less1\",\"less1\",\"less1\",\"1~3\",\"1~3\",\"1~3\",\"less1\",\"less1\",\"less1\",\"less1\",\"less1\",\"Unknown\",\"gt8\",\"gt8\",\"gt8\",\"gt8\",\"gt8\",\"gt8\",\"Unknown\",\"Unknown\",\"Unknown\",\"Unknown\",\"Unknown\",\"Unknown\",\"Unknown\",\"1~3\",\"1~3\",\"1~3\",\"4~8\",\"4~8\",\"4~8\",\"4~8\",\"4~8\",\"never\",\"never\",\"never\",\"never\",\"never\",\"never\",\"never\",\"never\",\"4~8\",\"4~8\",\"4~8\",\"4~8\",\"4~8\",\"4~8\",\"4~8\",\"1~3\",\"less1\",\"less1\",\"less1\",\"less1\",\"less1\",\"4~8\",\"4~8\",\"4~8\",\"less1\",\"less1\",\"less1\",\"less1\",\"less1\",\"gt8\",\"gt8\",\"gt8\",\"gt8\",\"gt8\",\"never\",\"never\",\"never\",\"never\",\"never\",\"never\",\"never\",\"never\",\"never\",\"never\",\"1~3\",\"1~3\",\"1~3\",\"1~3\",\"1~3\",\"less1\",\"less1\",\"less1\",\"less1\",\"less1\",\"less1\",\"less1\",\"less1\",\"less1\",\"less1\",\"less1\",\"never\",\"never\",\"never\",\"never\",\"never\",\"never\",\"never\",\"never\",\"never\",\"never\",\"1~3\",\"1~3\",\"1~3\",\"1~3\",\"4~8\",\"4~8\",\"never\",\"never\",\"never\",\"never\",\"never\",\"never\",\"never\",\"less1\",\"less1\",\"less1\",\"less1\",\"less1\",\"less1\",\"less1\",\"less1\",\"less1\",\"less1\",\"less1\",\"less1\",\"less1\",\"less1\",\"less1\",\"less1\",\"less1\",\"1~3\",\"1~3\",\"1~3\",\"1~3\",\"1~3\",\"1~3\",\"less1\",\"less1\",\"less1\",\"less1\",\"less1\",\"less1\",\"never\",\"never\",\"never\",\"never\",\"less1\",\"less1\",\"1~3\",\"1~3\",\"1~3\",\"1~3\",\"1~3\",\"1~3\",\"4~8\",\"4~8\",\"4~8\",\"4~8\",\"4~8\",\"4~8\",\"1~3\",\"1~3\",\"1~3\",\"1~3\",\"1~3\",\"never\",\"never\",\"never\",\"never\",\"never\",\"never\",\"never\",\"never\",\"never\",\"never\",\"1~3\",\"1~3\",\"1~3\",\"1~3\",\"gt8\",\"gt8\",\"gt8\",\"gt8\",\"gt8\",\"gt8\",\"gt8\",\"gt8\",\"1~3\",\"1~3\",\"1~3\",\"1~3\",\"1~3\",\"4~8\",\"gt8\",\"gt8\",\"less1\",\"less1\",\"less1\",\"less1\",\"less1\",\"less1\",\"less1\",\"less1\",\"never\",\"never\",\"never\",\"never\",\"never\",\"never\",\"less1\",\"less1\",\"less1\",\"less1\",\"less1\",\"less1\",\"less1\",\"never\",\"never\",\"never\",\"never\",\"never\",\"never\",\"never\",\"never\",\"never\",\"never\",\"less1\",\"less1\",\"less1\",\"less1\",\"gt8\",\"gt8\",\"1~3\",\"1~3\",\"1~3\",\"1~3\",\"1~3\",\"1~3\",\"1~3\",\"1~3\",\"1~3\",\"1~3\",\"1~3\",\"1~3\",\"1~3\",\"less1\",\"less1\",\"less1\",\"less1\",\"less1\",\"less1\",\"less1\",\"less1\",\"less1\",\"less1\",\"Unknown\",\"Unknown\",\"Unknown\",\"never\",\"never\",\"never\",\"never\",\"never\",\"never\",\"never\",\"4~8\",\"4~8\",\"gt8\",\"gt8\",\"less1\",\"less1\",\"less1\",\"never\",\"never\",\"never\",\"never\",\"never\",\"never\",\"never\",\"never\",\"less1\",\"4~8\",\"less1\",\"less1\",\"less1\",\"less1\",\"less1\",\"less1\",\"1~3\",\"1~3\",\"1~3\",\"1~3\",\"1~3\",\"1~3\",\"never\",\"never\",\"never\",\"never\",\"never\",\"never\",\"never\",\"1~3\",\"less1\",\"1~3\",\"1~3\",\"1~3\",\"1~3\",\"1~3\",\"1~3\",\"1~3\",\"1~3\",\"1~3\",\"1~3\",\"1~3\",\"never\",\"never\",\"never\",\"never\",\"never\",\"never\",\"never\",\"never\",\"never\",\"never\",\"never\",\"never\",\"never\",\"never\",\"never\",\"never\",\"never\",\"less1\",\"less1\",\"1~3\",\"never\",\"never\",\"never\",\"never\",\"never\",\"never\",\"never\",\"less1\",\"less1\",\"less1\",\"less1\",\"less1\",\"less1\",\"less1\",\"Unknown\",\"1~3\",\"1~3\",\"1~3\",\"1~3\",\"less1\",\"less1\",\"less1\",\"less1\",\"less1\",\"less1\",\"less1\",\"less1\",\"less1\",\"less1\",\"less1\",\"less1\",\"4~8\",\"4~8\",\"4~8\",\"4~8\",\"4~8\",\"4~8\",\"never\",\"never\",\"never\",\"never\",\"never\",\"never\",\"never\",\"never\",\"never\",\"never\",\"never\",\"never\",\"never\",\"never\",\"never\",\"never\",\"never\",\"gt8\",\"gt8\",\"gt8\",\"gt8\",\"gt8\",\"gt8\",\"gt8\",\"gt8\",\"gt8\",\"gt8\",\"gt8\",\"less1\",\"less1\",\"less1\",\"less1\",\"less1\",\"less1\",\"less1\",\"less1\",\"less1\",\"less1\",\"less1\",\"Unknown\",\"1~3\",\"1~3\",\"1~3\",\"1~3\",\"never\",\"never\",\"never\",\"never\",\"never\",\"never\",\"never\",\"never\",\"never\",\"never\",\"never\",\"never\",\"never\",\"never\",\"less1\",\"less1\",\"less1\",\"less1\",\"less1\",\"less1\",\"less1\",\"less1\",\"less1\",\"less1\",\"less1\",\"less1\",\"less1\",\"4~8\",\"4~8\",\"4~8\",\"4~8\",\"4~8\",\"4~8\",\"4~8\",\"4~8\",\"4~8\",\"4~8\",\"less1\",\"less1\",\"less1\",\"less1\",\"less1\",\"less1\",\"Unknown\",\"never\",\"never\",\"never\",\"less1\",\"less1\",\"less1\",\"less1\",\"less1\",\"4~8\",\"4~8\",\"less1\",\"less1\",\"less1\",\"less1\",\"1~3\",\"1~3\",\"1~3\",\"1~3\",\"1~3\",\"never\",\"never\",\"never\",\"never\",\"never\",\"never\",\"less1\",\"less1\",\"less1\",\"less1\",\"4~8\",\"4~8\",\"4~8\",\"4~8\",\"1~3\",\"1~3\",\"1~3\",\"1~3\",\"1~3\",\"4~8\",\"4~8\",\"less1\",\"less1\",\"less1\",\"less1\",\"less1\",\"less1\",\"less1\",\"less1\",\"less1\",\"4~8\",\"1~3\",\"1~3\",\"1~3\",\"1~3\",\"1~3\",\"1~3\",\"less1\",\"less1\",\"less1\",\"less1\",\"less1\",\"less1\",\"less1\",\"4~8\",\"4~8\",\"4~8\",\"4~8\",\"1~3\",\"1~3\",\"1~3\",\"never\",\"never\",\"never\",\"never\",\"never\",\"never\",\"never\",\"never\",\"never\",\"never\",\"never\",\"never\",\"never\",\"never\",\"4~8\",\"4~8\",\"4~8\",\"4~8\",\"4~8\",\"4~8\",\"4~8\",\"4~8\",\"4~8\",\"4~8\",\"1~3\",\"1~3\",\"1~3\",\"never\",\"never\",\"never\",\"never\",\"never\",\"never\",\"never\",\"never\",\"never\",\"never\",\"never\",\"never\",\"never\",\"never\",\"never\",\"never\",\"never\",\"never\",\"never\",\"never\",\"1~3\",\"1~3\",\"1~3\",\"1~3\",\"1~3\",\"1~3\",\"1~3\",\"1~3\",\"1~3\",\"1~3\",\"1~3\",\"1~3\",\"1~3\",\"1~3\",\"1~3\",\"1~3\",\"1~3\",\"gt8\",\"gt8\",\"gt8\",\"4~8\",\"4~8\",\"never\",\"never\",\"never\",\"never\",\"never\",\"never\",\"never\",\"never\",\"never\",\"never\",\"never\",\"never\",\"never\",\"never\",\"never\",\"never\",\"never\",\"never\",\"never\",\"never\",\"never\",\"less1\",\"less1\",\"less1\",\"less1\",\"less1\",\"less1\",\"less1\",\"less1\",\"less1\",\"less1\",\"never\",\"never\",\"never\",\"never\",\"never\",\"never\",\"never\",\"never\",\"never\",\"never\",\"never\",\"never\",\"never\",\"never\",\"never\",\"never\",\"never\",\"never\",\"never\",\"never\",\"never\",\"never\",\"never\",\"never\",\"never\",\"never\",\"never\",\"never\",\"less1\",\"less1\",\"less1\",\"less1\",\"less1\",\"less1\",\"4~8\",\"4~8\",\"4~8\",\"4~8\",\"4~8\",\"never\",\"never\",\"never\",\"never\",\"never\",\"never\",\"never\",\"never\",\"4~8\",\"never\",\"never\",\"never\",\"never\",\"never\",\"never\",\"less1\",\"less1\",\"less1\",\"less1\",\"less1\",\"less1\",\"less1\",\"less1\",\"never\",\"never\",\"never\",\"never\",\"never\",\"never\",\"never\",\"never\",\"never\",\"never\",\"never\",\"1~3\",\"1~3\",\"1~3\",\"1~3\",\"1~3\",\"never\",\"never\",\"never\",\"never\",\"never\",\"never\",\"never\",\"never\",\"never\",\"never\",\"never\",\"never\",\"never\",\"never\",\"never\",\"never\",\"never\",\"gt8\",\"never\",\"never\",\"never\",\"never\",\"never\",\"never\",\"never\",\"never\",\"less1\",\"less1\",\"gt8\",\"gt8\",\"gt8\",\"less1\",\"less1\",\"less1\",\"less1\",\"less1\",\"less1\",\"1~3\",\"1~3\",\"1~3\",\"1~3\",\"1~3\",\"1~3\",\"never\",\"never\",\"never\",\"never\",\"never\",\"never\",\"never\",\"never\",\"never\",\"never\",\"never\",\"4~8\",\"4~8\",\"1~3\",\"1~3\",\"1~3\",\"1~3\",\"1~3\",\"1~3\",\"1~3\",\"1~3\",\"never\",\"never\",\"never\",\"never\",\"never\",\"never\",\"never\",\"never\",\"never\",\"never\",\"never\",\"never\",\"never\",\"never\",\"never\",\"never\",\"never\",\"never\",\"never\",\"never\",\"never\",\"never\",\"less1\",\"less1\",\"less1\",\"less1\",\"less1\",\"less1\",\"less1\",\"never\",\"never\",\"never\",\"never\",\"1~3\",\"1~3\",\"1~3\",\"1~3\",\"1~3\",\"never\",\"never\",\"never\",\"never\",\"never\",\"never\",\"1~3\",\"never\",\"never\",\"never\",\"never\",\"never\",\"never\",\"never\",\"never\",\"never\",\"never\",\"never\",\"never\",\"never\",\"never\",\"never\",\"never\",\"never\",\"never\",\"4~8\",\"4~8\",\"never\",\"never\",\"never\",\"never\",\"never\",\"never\",\"never\",\"never\",\"never\",\"never\",\"never\",\"never\",\"never\",\"never\",\"never\",\"1~3\",\"1~3\",\"1~3\",\"1~3\",\"never\",\"never\",\"never\",\"never\",\"never\",\"never\",\"never\",\"never\",\"never\",\"never\",\"never\",\"never\",\"never\",\"never\",\"1~3\",\"1~3\",\"1~3\",\"never\",\"never\",\"never\",\"never\",\"never\",\"never\",\"never\",\"never\",\"never\",\"never\",\"never\",\"never\",\"never\",\"never\",\"never\",\"never\",\"never\",\"never\",\"1~3\",\"1~3\",\"1~3\",\"1~3\",\"1~3\",\"less1\",\"less1\",\"less1\",\"less1\",\"less1\",\"less1\",\"less1\",\"less1\",\"less1\",\"less1\",\"less1\",\"4~8\",\"less1\",\"less1\",\"less1\",\"less1\",\"less1\",\"less1\",\"less1\",\"less1\",\"less1\",\"less1\",\"less1\",\"less1\",\"less1\",\"less1\",\"less1\",\"less1\",\"less1\",\"less1\",\"1~3\",\"1~3\",\"1~3\",\"1~3\",\"1~3\",\"1~3\",\"1~3\",\"1~3\",\"1~3\",\"1~3\",\"1~3\",\"1~3\",\"1~3\",\"1~3\",\"1~3\",\"1~3\",\"1~3\",\"Unknown\",\"Unknown\",\"Unknown\",\"never\",\"never\",\"never\",\"never\",\"never\",\"never\",\"never\",\"never\",\"never\",\"never\",\"never\",\"never\",\"never\",\"less1\",\"less1\",\"less1\",\"less1\",\"less1\",\"less1\",\"less1\",\"less1\",\"less1\",\"less1\",\"less1\",\"less1\",\"less1\",\"less1\",\"less1\",\"less1\",\"less1\",\"less1\",\"less1\",\"less1\",\"less1\",\"less1\",\"less1\",\"less1\",\"less1\",\"less1\",\"1~3\",\"less1\",\"less1\",\"less1\",\"less1\",\"less1\",\"less1\",\"less1\",\"less1\",\"less1\",\"less1\",\"1~3\",\"1~3\",\"1~3\",\"4~8\",\"4~8\",\"less1\",\"less1\",\"less1\",\"less1\",\"less1\",\"less1\",\"less1\",\"1~3\",\"1~3\",\"1~3\",\"1~3\",\"1~3\",\"1~3\",\"1~3\",\"less1\",\"less1\",\"less1\",\"less1\",\"less1\",\"less1\",\"less1\",\"less1\",\"less1\",\"less1\",\"less1\",\"less1\",\"less1\",\"less1\",\"less1\",\"less1\",\"less1\",\"less1\",\"less1\",\"less1\",\"4~8\",\"4~8\",\"less1\",\"less1\",\"less1\",\"less1\",\"less1\",\"less1\",\"less1\",\"less1\",\"less1\",\"less1\",\"never\",\"never\",\"never\",\"never\",\"never\",\"never\",\"never\",\"never\",\"never\",\"never\",\"1~3\",\"less1\",\"less1\",\"less1\",\"less1\",\"less1\",\"less1\",\"less1\",\"less1\",\"less1\",\"less1\",\"less1\",\"less1\",\"less1\",\"never\",\"never\",\"never\",\"never\",\"never\",\"never\",\"1~3\",\"1~3\",\"1~3\",\"less1\",\"less1\",\"less1\",\"less1\",\"less1\",\"less1\",\"less1\",\"less1\",\"less1\",\"less1\",\"less1\",\"less1\",\"less1\",\"less1\",\"less1\",\"less1\",\"less1\",\"less1\",\"less1\",\"never\",\"never\",\"never\",\"never\",\"never\",\"never\",\"never\",\"never\",\"never\",\"never\",\"never\",\"never\",\"never\",\"never\",\"less1\",\"less1\",\"less1\",\"less1\",\"less1\",\"1~3\",\"1~3\",\"1~3\",\"1~3\",\"less1\",\"less1\",\"less1\",\"less1\",\"less1\",\"less1\",\"4~8\",\"4~8\",\"1~3\",\"1~3\",\"1~3\",\"less1\",\"less1\",\"less1\",\"less1\",\"less1\",\"less1\",\"4~8\",\"4~8\",\"4~8\",\"gt8\",\"gt8\",\"gt8\",\"gt8\",\"gt8\",\"gt8\",\"gt8\",\"gt8\",\"gt8\",\"gt8\",\"gt8\",\"gt8\",\"gt8\",\"never\",\"never\",\"never\",\"never\",\"never\",\"never\",\"never\",\"never\",\"never\",\"never\",\"never\",\"never\",\"never\",\"less1\",\"never\",\"never\",\"never\",\"never\",\"never\",\"never\",\"never\",\"never\",\"4~8\",\"1~3\",\"1~3\",\"1~3\",\"1~3\",\"1~3\",\"1~3\",\"1~3\",\"1~3\",\"1~3\",\"1~3\",\"Unknown\",\"Unknown\",\"Unknown\",\"Unknown\",\"Unknown\",\"never\",\"never\",\"never\",\"never\",\"never\",\"never\",\"never\",\"never\",\"never\",\"1~3\",\"1~3\",\"4~8\",\"1~3\",\"1~3\",\"1~3\",\"gt8\",\"gt8\",\"gt8\",\"gt8\",\"1~3\",\"1~3\",\"1~3\",\"1~3\",\"4~8\",\"4~8\",\"less1\",\"less1\",\"less1\",\"1~3\",\"less1\",\"less1\",\"less1\",\"less1\",\"less1\",\"never\",\"never\",\"never\",\"never\",\"never\",\"4~8\",\"1~3\",\"less1\",\"less1\",\"never\",\"never\",\"never\",\"1~3\",\"1~3\",\"4~8\",\"4~8\",\"less1\",\"less1\",\"less1\",\"less1\",\"less1\",\"less1\",\"less1\",\"less1\",\"less1\",\"less1\",\"less1\",\"never\",\"never\",\"never\",\"never\",\"1~3\",\"never\",\"never\",\"never\",\"never\",\"never\",\"never\",\"never\",\"never\",\"never\",\"never\",\"never\",\"less1\",\"less1\",\"less1\",\"less1\",\"less1\",\"less1\",\"less1\",\"less1\",\"Unknown\",\"1~3\",\"1~3\",\"1~3\",\"less1\",\"less1\",\"less1\",\"4~8\",\"4~8\",\"4~8\",\"never\",\"never\",\"never\",\"never\",\"never\",\"never\",\"never\",\"less1\",\"less1\",\"less1\",\"less1\",\"never\",\"1~3\",\"1~3\",\"1~3\",\"1~3\",\"1~3\",\"1~3\",\"1~3\",\"1~3\",\"never\",\"never\",\"never\",\"never\",\"never\",\"less1\",\"less1\",\"less1\",\"less1\",\"4~8\",\"4~8\",\"4~8\",\"4~8\",\"never\",\"never\",\"never\",\"never\",\"1~3\",\"1~3\",\"1~3\",\"1~3\",\"1~3\",\"gt8\",\"1~3\",\"1~3\",\"1~3\",\"1~3\",\"4~8\",\"4~8\",\"less1\",\"gt8\",\"4~8\",\"4~8\",\"4~8\",\"4~8\",\"4~8\",\"less1\",\"never\",\"never\",\"never\",\"never\",\"never\",\"never\",\"1~3\",\"less1\",\"less1\",\"never\",\"never\",\"never\",\"never\",\"never\",\"never\",\"never\",\"less1\",\"less1\",\"never\",\"never\",\"never\",\"never\",\"never\",\"never\",\"never\",\"less1\",\"less1\",\"less1\",\"4~8\",\"4~8\",\"4~8\",\"4~8\",\"4~8\",\"4~8\",\"4~8\",\"never\",\"never\",\"never\",\"never\",\"never\",\"never\",\"never\",\"never\",\"never\",\"less1\",\"less1\",\"1~3\",\"1~3\",\"4~8\",\"never\",\"never\",\"never\",\"never\",\"never\",\"never\",\"4~8\",\"1~3\",\"1~3\",\"1~3\",\"never\",\"never\",\"never\",\"never\",\"never\",\"gt8\",\"gt8\",\"gt8\",\"gt8\",\"1~3\",\"1~3\",\"1~3\",\"never\",\"never\",\"never\",\"never\",\"1~3\",\"1~3\",\"1~3\",\"1~3\",\"1~3\",\"4~8\",\"4~8\",\"4~8\",\"4~8\",\"less1\",\"never\",\"never\",\"never\",\"1~3\",\"1~3\",\"less1\",\"less1\",\"less1\",\"less1\",\"less1\",\"less1\",\"1~3\",\"1~3\",\"1~3\",\"1~3\",\"1~3\",\"1~3\",\"1~3\",\"1~3\",\"1~3\",\"Unknown\",\"Unknown\",\"never\",\"never\",\"less1\",\"1~3\",\"1~3\",\"less1\",\"less1\",\"less1\",\"less1\",\"less1\",\"never\",\"never\",\"never\",\"never\",\"never\",\"never\",\"gt8\",\"never\",\"less1\",\"never\",\"never\",\"never\",\"never\",\"never\",\"never\",\"never\",\"never\",\"never\",\"never\",\"never\",\"never\",\"never\",\"never\",\"gt8\",\"gt8\",\"gt8\",\"gt8\",\"less1\",\"less1\",\"less1\",\"1~3\",\"1~3\",\"never\",\"never\",\"never\",\"never\",\"never\",\"never\",\"never\",\"never\",\"less1\",\"less1\",\"1~3\",\"never\",\"never\",\"never\",\"never\",\"1~3\",\"1~3\",\"1~3\",\"1~3\",\"1~3\",\"never\",\"never\",\"never\",\"never\",\"never\",\"4~8\",\"4~8\",\"never\",\"never\",\"1~3\",\"less1\",\"less1\",\"never\",\"never\",\"never\",\"never\",\"1~3\",\"4~8\",\"4~8\",\"4~8\",\"never\",\"never\",\"never\",\"4~8\",\"less1\",\"less1\",\"less1\",\"never\",\"4~8\",\"4~8\",\"4~8\",\"4~8\",\"gt8\",\"gt8\",\"1~3\",\"1~3\",\"1~3\",\"less1\",\"less1\",\"never\",\"never\",\"never\",\"never\",\"never\",\"less1\",\"less1\",\"never\",\"never\",\"never\",\"never\",\"less1\",\"less1\",\"gt8\",\"gt8\",\"gt8\",\"gt8\",\"less1\",\"4~8\",\"4~8\",\"less1\",\"less1\",\"less1\",\"less1\",\"less1\",\"less1\",\"gt8\",\"less1\",\"less1\",\"1~3\",\"1~3\",\"4~8\",\"4~8\",\"never\",\"never\",\"never\",\"never\",\"never\",\"4~8\",\"never\",\"never\",\"less1\",\"never\",\"never\",\"never\",\"1~3\",\"1~3\",\"1~3\",\"never\",\"never\",\"never\",\"never\",\"never\",\"never\",\"4~8\",\"less1\",\"less1\",\"less1\",\"less1\",\"less1\",\"gt8\",\"1~3\",\"4~8\",\"4~8\",\"4~8\",\"gt8\",\"4~8\",\"4~8\",\"1~3\",\"1~3\",\"never\",\"never\",\"never\",\"1~3\",\"less1\",\"less1\",\"never\",\"never\",\"never\",\"1~3\",\"never\",\"never\",\"4~8\",\"4~8\",\"4~8\",\"4~8\",\"4~8\",\"gt8\",\"gt8\",\"gt8\",\"gt8\",\"never\",\"never\",\"never\",\"less1\",\"less1\",\"4~8\",\"4~8\",\"1~3\",\"1~3\",\"less1\",\"less1\",\"1~3\",\"less1\",\"less1\",\"1~3\",\"1~3\",\"1~3\",\"1~3\",\"gt8\",\"gt8\",\"gt8\",\"1~3\",\"1~3\",\"1~3\",\"gt8\",\"gt8\",\"gt8\",\"never\",\"never\",\"less1\",\"less1\",\"less1\",\"less1\",\"gt8\",\"gt8\",\"less1\",\"less1\",\"less1\",\"gt8\",\"gt8\",\"less1\",\"less1\",\"less1\",\"less1\",\"less1\",\"less1\",\"Unknown\",\"Unknown\",\"1~3\",\"1~3\",\"never\",\"never\",\"never\",\"less1\",\"less1\",\"less1\",\"less1\",\"1~3\",\"1~3\",\"less1\",\"less1\",\"1~3\",\"less1\",\"less1\",\"less1\",\"never\",\"never\",\"never\",\"never\",\"1~3\",\"1~3\",\"never\",\"never\",\"never\",\"less1\",\"less1\",\"gt8\",\"gt8\",\"gt8\",\"gt8\",\"1~3\",\"1~3\",\"gt8\",\"gt8\",\"never\",\"never\",\"never\",\"never\",\"never\",\"never\",\"never\",\"4~8\",\"4~8\",\"less1\",\"less1\",\"Unknown\",\"Unknown\",\"Unknown\",\"less1\",\"less1\",\"less1\",\"less1\",\"less1\",\"never\",\"never\",\"never\",\"never\",\"never\",\"never\",\"never\",\"never\",\"never\",\"less1\",\"less1\",\"never\",\"never\",\"less1\",\"4~8\",\"never\",\"never\",\"never\",\"never\",\"never\",\"never\"],\"xaxis\":\"x\",\"yaxis\":\"y\",\"type\":\"histogram\"},{\"alignmentgroup\":\"True\",\"bingroup\":\"x\",\"hovertemplate\":\"Y=1\\u003cbr\\u003eCoffeeHouse=%{x}\\u003cbr\\u003ecount=%{y}\\u003cextra\\u003e\\u003c\\u002fextra\\u003e\",\"legendgroup\":\"1\",\"marker\":{\"color\":\"#EF553B\",\"pattern\":{\"shape\":\"\"}},\"name\":\"1\",\"offsetgroup\":\"1\",\"orientation\":\"v\",\"showlegend\":true,\"texttemplate\":\"%{value}\",\"x\":[\"never\",\"never\",\"never\",\"4~8\",\"4~8\",\"4~8\",\"4~8\",\"4~8\",\"1~3\",\"1~3\",\"1~3\",\"1~3\",\"less1\",\"less1\",\"less1\",\"less1\",\"less1\",\"less1\",\"less1\",\"less1\",\"less1\",\"less1\",\"gt8\",\"gt8\",\"gt8\",\"gt8\",\"gt8\",\"less1\",\"less1\",\"less1\",\"gt8\",\"gt8\",\"1~3\",\"1~3\",\"1~3\",\"1~3\",\"1~3\",\"1~3\",\"1~3\",\"1~3\",\"1~3\",\"1~3\",\"1~3\",\"1~3\",\"1~3\",\"never\",\"never\",\"never\",\"never\",\"never\",\"never\",\"less1\",\"less1\",\"gt8\",\"gt8\",\"gt8\",\"gt8\",\"gt8\",\"gt8\",\"gt8\",\"1~3\",\"less1\",\"less1\",\"less1\",\"less1\",\"less1\",\"1~3\",\"1~3\",\"1~3\",\"less1\",\"less1\",\"less1\",\"less1\",\"less1\",\"less1\",\"less1\",\"1~3\",\"1~3\",\"1~3\",\"1~3\",\"gt8\",\"gt8\",\"gt8\",\"gt8\",\"gt8\",\"gt8\",\"gt8\",\"1~3\",\"1~3\",\"1~3\",\"1~3\",\"1~3\",\"1~3\",\"1~3\",\"1~3\",\"1~3\",\"Unknown\",\"Unknown\",\"Unknown\",\"1~3\",\"1~3\",\"1~3\",\"1~3\",\"less1\",\"less1\",\"less1\",\"gt8\",\"gt8\",\"gt8\",\"gt8\",\"gt8\",\"gt8\",\"gt8\",\"gt8\",\"gt8\",\"gt8\",\"gt8\",\"gt8\",\"gt8\",\"gt8\",\"gt8\",\"gt8\",\"1~3\",\"1~3\",\"1~3\",\"1~3\",\"1~3\",\"1~3\",\"never\",\"never\",\"never\",\"never\",\"never\",\"1~3\",\"1~3\",\"1~3\",\"1~3\",\"1~3\",\"1~3\",\"1~3\",\"1~3\",\"1~3\",\"1~3\",\"1~3\",\"1~3\",\"1~3\",\"1~3\",\"less1\",\"1~3\",\"1~3\",\"1~3\",\"1~3\",\"1~3\",\"never\",\"never\",\"Unknown\",\"Unknown\",\"1~3\",\"1~3\",\"1~3\",\"less1\",\"less1\",\"less1\",\"less1\",\"less1\",\"less1\",\"never\",\"never\",\"never\",\"never\",\"never\",\"never\",\"never\",\"4~8\",\"4~8\",\"4~8\",\"4~8\",\"4~8\",\"4~8\",\"less1\",\"less1\",\"less1\",\"less1\",\"less1\",\"less1\",\"less1\",\"less1\",\"less1\",\"never\",\"4~8\",\"4~8\",\"4~8\",\"1~3\",\"1~3\",\"1~3\",\"1~3\",\"less1\",\"less1\",\"less1\",\"1~3\",\"1~3\",\"1~3\",\"1~3\",\"less1\",\"less1\",\"less1\",\"Unknown\",\"gt8\",\"1~3\",\"1~3\",\"1~3\",\"1~3\",\"1~3\",\"1~3\",\"1~3\",\"4~8\",\"4~8\",\"4~8\",\"4~8\",\"4~8\",\"never\",\"never\",\"4~8\",\"1~3\",\"1~3\",\"1~3\",\"1~3\",\"1~3\",\"1~3\",\"1~3\",\"less1\",\"less1\",\"less1\",\"less1\",\"less1\",\"4~8\",\"4~8\",\"4~8\",\"4~8\",\"4~8\",\"less1\",\"less1\",\"less1\",\"less1\",\"less1\",\"less1\",\"less1\",\"less1\",\"less1\",\"less1\",\"less1\",\"less1\",\"less1\",\"gt8\",\"gt8\",\"1~3\",\"1~3\",\"1~3\",\"1~3\",\"1~3\",\"1~3\",\"1~3\",\"1~3\",\"1~3\",\"1~3\",\"less1\",\"less1\",\"less1\",\"1~3\",\"1~3\",\"1~3\",\"1~3\",\"1~3\",\"1~3\",\"1~3\",\"less1\",\"less1\",\"less1\",\"less1\",\"1~3\",\"1~3\",\"1~3\",\"1~3\",\"1~3\",\"1~3\",\"1~3\",\"1~3\",\"1~3\",\"1~3\",\"1~3\",\"1~3\",\"1~3\",\"4~8\",\"4~8\",\"4~8\",\"4~8\",\"4~8\",\"less1\",\"less1\",\"less1\",\"less1\",\"less1\",\"less1\",\"less1\",\"less1\",\"1~3\",\"1~3\",\"1~3\",\"1~3\",\"1~3\",\"1~3\",\"1~3\",\"1~3\",\"1~3\",\"1~3\",\"1~3\",\"1~3\",\"less1\",\"less1\",\"less1\",\"less1\",\"less1\",\"less1\",\"less1\",\"less1\",\"1~3\",\"1~3\",\"1~3\",\"1~3\",\"1~3\",\"1~3\",\"1~3\",\"1~3\",\"1~3\",\"1~3\",\"never\",\"never\",\"never\",\"never\",\"never\",\"never\",\"less1\",\"less1\",\"less1\",\"less1\",\"less1\",\"less1\",\"less1\",\"less1\",\"1~3\",\"1~3\",\"1~3\",\"1~3\",\"1~3\",\"1~3\",\"1~3\",\"1~3\",\"1~3\",\"1~3\",\"1~3\",\"1~3\",\"1~3\",\"1~3\",\"4~8\",\"1~3\",\"1~3\",\"never\",\"never\",\"never\",\"never\",\"never\",\"never\",\"1~3\",\"1~3\",\"1~3\",\"gt8\",\"gt8\",\"gt8\",\"gt8\",\"gt8\",\"gt8\",\"1~3\",\"1~3\",\"1~3\",\"1~3\",\"1~3\",\"1~3\",\"1~3\",\"1~3\",\"1~3\",\"1~3\",\"1~3\",\"1~3\",\"1~3\",\"1~3\",\"1~3\",\"4~8\",\"4~8\",\"4~8\",\"4~8\",\"4~8\",\"4~8\",\"gt8\",\"gt8\",\"gt8\",\"gt8\",\"gt8\",\"gt8\",\"gt8\",\"gt8\",\"less1\",\"less1\",\"never\",\"never\",\"less1\",\"less1\",\"less1\",\"less1\",\"less1\",\"less1\",\"less1\",\"gt8\",\"gt8\",\"gt8\",\"gt8\",\"gt8\",\"gt8\",\"1~3\",\"1~3\",\"1~3\",\"Unknown\",\"4~8\",\"4~8\",\"4~8\",\"4~8\",\"4~8\",\"4~8\",\"4~8\",\"4~8\",\"gt8\",\"gt8\",\"gt8\",\"gt8\",\"gt8\",\"gt8\",\"less1\",\"less1\",\"less1\",\"less1\",\"less1\",\"never\",\"less1\",\"less1\",\"less1\",\"less1\",\"less1\",\"less1\",\"less1\",\"less1\",\"less1\",\"4~8\",\"4~8\",\"4~8\",\"4~8\",\"4~8\",\"4~8\",\"4~8\",\"4~8\",\"4~8\",\"4~8\",\"4~8\",\"4~8\",\"4~8\",\"4~8\",\"4~8\",\"4~8\",\"less1\",\"1~3\",\"1~3\",\"1~3\",\"1~3\",\"1~3\",\"1~3\",\"1~3\",\"1~3\",\"1~3\",\"1~3\",\"1~3\",\"1~3\",\"1~3\",\"1~3\",\"1~3\",\"1~3\",\"1~3\",\"less1\",\"less1\",\"less1\",\"less1\",\"less1\",\"less1\",\"less1\",\"1~3\",\"1~3\",\"1~3\",\"1~3\",\"1~3\",\"1~3\",\"less1\",\"less1\",\"less1\",\"less1\",\"less1\",\"less1\",\"less1\",\"less1\",\"1~3\",\"1~3\",\"1~3\",\"1~3\",\"1~3\",\"1~3\",\"1~3\",\"1~3\",\"1~3\",\"less1\",\"less1\",\"less1\",\"1~3\",\"1~3\",\"1~3\",\"1~3\",\"1~3\",\"1~3\",\"1~3\",\"1~3\",\"1~3\",\"1~3\",\"1~3\",\"1~3\",\"1~3\",\"less1\",\"less1\",\"less1\",\"less1\",\"less1\",\"less1\",\"less1\",\"less1\",\"less1\",\"4~8\",\"4~8\",\"4~8\",\"4~8\",\"gt8\",\"gt8\",\"gt8\",\"gt8\",\"gt8\",\"gt8\",\"less1\",\"less1\",\"less1\",\"less1\",\"less1\",\"less1\",\"less1\",\"Unknown\",\"Unknown\",\"Unknown\",\"1~3\",\"1~3\",\"1~3\",\"less1\",\"1~3\",\"1~3\",\"1~3\",\"1~3\",\"1~3\",\"1~3\",\"1~3\",\"1~3\",\"1~3\",\"1~3\",\"less1\",\"less1\",\"less1\",\"less1\",\"less1\",\"less1\",\"less1\",\"less1\",\"4~8\",\"4~8\",\"4~8\",\"4~8\",\"4~8\",\"4~8\",\"less1\",\"Unknown\",\"Unknown\",\"Unknown\",\"never\",\"never\",\"never\",\"never\",\"never\",\"never\",\"never\",\"less1\",\"less1\",\"less1\",\"4~8\",\"4~8\",\"4~8\",\"4~8\",\"4~8\",\"4~8\",\"less1\",\"less1\",\"less1\",\"less1\",\"less1\",\"less1\",\"1~3\",\"1~3\",\"1~3\",\"1~3\",\"1~3\",\"never\",\"less1\",\"less1\",\"less1\",\"4~8\",\"4~8\",\"4~8\",\"4~8\",\"4~8\",\"4~8\",\"4~8\",\"4~8\",\"4~8\",\"4~8\",\"4~8\",\"4~8\",\"4~8\",\"4~8\",\"1~3\",\"1~3\",\"1~3\",\"1~3\",\"1~3\",\"4~8\",\"4~8\",\"4~8\",\"4~8\",\"4~8\",\"4~8\",\"less1\",\"4~8\",\"4~8\",\"4~8\",\"4~8\",\"4~8\",\"4~8\",\"4~8\",\"4~8\",\"4~8\",\"1~3\",\"1~3\",\"1~3\",\"1~3\",\"1~3\",\"1~3\",\"1~3\",\"1~3\",\"1~3\",\"1~3\",\"1~3\",\"1~3\",\"1~3\",\"1~3\",\"1~3\",\"1~3\",\"1~3\",\"less1\",\"less1\",\"less1\",\"less1\",\"less1\",\"less1\",\"less1\",\"less1\",\"less1\",\"less1\",\"less1\",\"4~8\",\"4~8\",\"4~8\",\"1~3\",\"1~3\",\"1~3\",\"1~3\",\"1~3\",\"1~3\",\"1~3\",\"never\",\"1~3\",\"1~3\",\"1~3\",\"1~3\",\"1~3\",\"1~3\",\"1~3\",\"1~3\",\"1~3\",\"1~3\",\"1~3\",\"1~3\",\"1~3\",\"1~3\",\"1~3\",\"gt8\",\"gt8\",\"gt8\",\"gt8\",\"gt8\",\"gt8\",\"gt8\",\"4~8\",\"4~8\",\"4~8\",\"4~8\",\"4~8\",\"4~8\",\"4~8\",\"4~8\",\"4~8\",\"less1\",\"gt8\",\"gt8\",\"gt8\",\"gt8\",\"gt8\",\"gt8\",\"gt8\",\"gt8\",\"gt8\",\"gt8\",\"never\",\"less1\",\"less1\",\"less1\",\"less1\",\"less1\",\"gt8\",\"gt8\",\"gt8\",\"gt8\",\"gt8\",\"gt8\",\"gt8\",\"gt8\",\"4~8\",\"4~8\",\"4~8\",\"4~8\",\"4~8\",\"4~8\",\"4~8\",\"4~8\",\"4~8\",\"4~8\",\"4~8\",\"4~8\",\"4~8\",\"never\",\"never\",\"less1\",\"1~3\",\"1~3\",\"1~3\",\"1~3\",\"1~3\",\"1~3\",\"never\",\"never\",\"gt8\",\"gt8\",\"gt8\",\"gt8\",\"gt8\",\"gt8\",\"gt8\",\"gt8\",\"gt8\",\"gt8\",\"less1\",\"less1\",\"less1\",\"less1\",\"less1\",\"less1\",\"less1\",\"gt8\",\"gt8\",\"gt8\",\"gt8\",\"gt8\",\"gt8\",\"gt8\",\"gt8\",\"less1\",\"less1\",\"less1\",\"less1\",\"1~3\",\"1~3\",\"1~3\",\"1~3\",\"1~3\",\"1~3\",\"1~3\",\"1~3\",\"1~3\",\"1~3\",\"1~3\",\"1~3\",\"1~3\",\"1~3\",\"1~3\",\"4~8\",\"4~8\",\"4~8\",\"4~8\",\"4~8\",\"4~8\",\"1~3\",\"1~3\",\"1~3\",\"1~3\",\"1~3\",\"1~3\",\"1~3\",\"1~3\",\"1~3\",\"1~3\",\"1~3\",\"never\",\"never\",\"never\",\"never\",\"never\",\"never\",\"never\",\"4~8\",\"4~8\",\"4~8\",\"4~8\",\"4~8\",\"4~8\",\"4~8\",\"4~8\",\"less1\",\"less1\",\"less1\",\"less1\",\"never\",\"never\",\"never\",\"never\",\"1~3\",\"1~3\",\"1~3\",\"1~3\",\"1~3\",\"1~3\",\"1~3\",\"1~3\",\"1~3\",\"1~3\",\"1~3\",\"1~3\",\"1~3\",\"1~3\",\"1~3\",\"1~3\",\"1~3\",\"1~3\",\"1~3\",\"never\",\"never\",\"never\",\"never\",\"1~3\",\"1~3\",\"1~3\",\"1~3\",\"1~3\",\"1~3\",\"1~3\",\"1~3\",\"1~3\",\"4~8\",\"4~8\",\"4~8\",\"4~8\",\"4~8\",\"4~8\",\"never\",\"never\",\"never\",\"never\",\"1~3\",\"1~3\",\"1~3\",\"1~3\",\"1~3\",\"1~3\",\"1~3\",\"1~3\",\"1~3\",\"1~3\",\"1~3\",\"1~3\",\"1~3\",\"gt8\",\"gt8\",\"gt8\",\"gt8\",\"gt8\",\"gt8\",\"gt8\",\"gt8\",\"gt8\",\"gt8\",\"gt8\",\"1~3\",\"1~3\",\"1~3\",\"1~3\",\"never\",\"never\",\"1~3\",\"1~3\",\"1~3\",\"1~3\",\"1~3\",\"1~3\",\"1~3\",\"1~3\",\"1~3\",\"1~3\",\"1~3\",\"1~3\",\"1~3\",\"4~8\",\"4~8\",\"4~8\",\"4~8\",\"4~8\",\"4~8\",\"4~8\",\"4~8\",\"4~8\",\"less1\",\"less1\",\"less1\",\"less1\",\"less1\",\"less1\",\"less1\",\"less1\",\"less1\",\"less1\",\"less1\",\"less1\",\"less1\",\"less1\",\"less1\",\"1~3\",\"1~3\",\"1~3\",\"1~3\",\"1~3\",\"1~3\",\"1~3\",\"1~3\",\"1~3\",\"1~3\",\"1~3\",\"1~3\",\"1~3\",\"Unknown\",\"Unknown\",\"Unknown\",\"Unknown\",\"Unknown\",\"never\",\"never\",\"never\",\"less1\",\"1~3\",\"1~3\",\"1~3\",\"1~3\",\"1~3\",\"1~3\",\"1~3\",\"1~3\",\"1~3\",\"less1\",\"less1\",\"less1\",\"less1\",\"less1\",\"less1\",\"less1\",\"less1\",\"1~3\",\"1~3\",\"1~3\",\"1~3\",\"1~3\",\"4~8\",\"4~8\",\"4~8\",\"4~8\",\"4~8\",\"4~8\",\"less1\",\"1~3\",\"1~3\",\"1~3\",\"1~3\",\"1~3\",\"1~3\",\"1~3\",\"1~3\",\"1~3\",\"1~3\",\"1~3\",\"1~3\",\"1~3\",\"1~3\",\"1~3\",\"1~3\",\"1~3\",\"1~3\",\"1~3\",\"1~3\",\"1~3\",\"1~3\",\"1~3\",\"1~3\",\"1~3\",\"1~3\",\"1~3\",\"1~3\",\"1~3\",\"1~3\",\"less1\",\"less1\",\"less1\",\"less1\",\"less1\",\"less1\",\"less1\",\"less1\",\"less1\",\"4~8\",\"4~8\",\"4~8\",\"4~8\",\"4~8\",\"4~8\",\"less1\",\"1~3\",\"1~3\",\"1~3\",\"1~3\",\"1~3\",\"1~3\",\"1~3\",\"1~3\",\"1~3\",\"gt8\",\"gt8\",\"gt8\",\"gt8\",\"gt8\",\"gt8\",\"gt8\",\"gt8\",\"less1\",\"less1\",\"less1\",\"less1\",\"less1\",\"less1\",\"less1\",\"less1\",\"less1\",\"never\",\"never\",\"1~3\",\"1~3\",\"1~3\",\"1~3\",\"1~3\",\"less1\",\"less1\",\"less1\",\"less1\",\"less1\",\"less1\",\"less1\",\"less1\",\"less1\",\"less1\",\"less1\",\"gt8\",\"gt8\",\"gt8\",\"gt8\",\"gt8\",\"gt8\",\"gt8\",\"gt8\",\"never\",\"never\",\"never\",\"never\",\"never\",\"never\",\"never\",\"never\",\"never\",\"never\",\"less1\",\"less1\",\"less1\",\"less1\",\"less1\",\"less1\",\"1~3\",\"1~3\",\"1~3\",\"1~3\",\"1~3\",\"1~3\",\"1~3\",\"less1\",\"less1\",\"less1\",\"less1\",\"4~8\",\"4~8\",\"4~8\",\"4~8\",\"4~8\",\"4~8\",\"1~3\",\"1~3\",\"1~3\",\"1~3\",\"1~3\",\"1~3\",\"1~3\",\"1~3\",\"less1\",\"less1\",\"less1\",\"less1\",\"less1\",\"4~8\",\"4~8\",\"4~8\",\"4~8\",\"4~8\",\"gt8\",\"4~8\",\"4~8\",\"4~8\",\"4~8\",\"4~8\",\"4~8\",\"4~8\",\"4~8\",\"4~8\",\"4~8\",\"4~8\",\"gt8\",\"gt8\",\"gt8\",\"never\",\"never\",\"never\",\"gt8\",\"gt8\",\"gt8\",\"gt8\",\"gt8\",\"gt8\",\"gt8\",\"gt8\",\"gt8\",\"gt8\",\"less1\",\"less1\",\"less1\",\"less1\",\"less1\",\"less1\",\"less1\",\"4~8\",\"4~8\",\"4~8\",\"4~8\",\"4~8\",\"4~8\",\"4~8\",\"4~8\",\"4~8\",\"4~8\",\"4~8\",\"4~8\",\"4~8\",\"4~8\",\"4~8\",\"4~8\",\"4~8\",\"1~3\",\"1~3\",\"1~3\",\"1~3\",\"1~3\",\"1~3\",\"1~3\",\"1~3\",\"1~3\",\"Unknown\",\"Unknown\",\"Unknown\",\"Unknown\",\"Unknown\",\"never\",\"1~3\",\"1~3\",\"1~3\",\"1~3\",\"1~3\",\"1~3\",\"4~8\",\"4~8\",\"4~8\",\"4~8\",\"4~8\",\"4~8\",\"4~8\",\"1~3\",\"1~3\",\"1~3\",\"1~3\",\"1~3\",\"1~3\",\"gt8\",\"gt8\",\"gt8\",\"gt8\",\"gt8\",\"1~3\",\"1~3\",\"1~3\",\"1~3\",\"1~3\",\"1~3\",\"4~8\",\"4~8\",\"4~8\",\"4~8\",\"4~8\",\"4~8\",\"4~8\",\"less1\",\"less1\",\"less1\",\"less1\",\"less1\",\"1~3\",\"1~3\",\"1~3\",\"1~3\",\"1~3\",\"1~3\",\"1~3\",\"1~3\",\"1~3\",\"less1\",\"less1\",\"less1\",\"less1\",\"less1\",\"less1\",\"less1\",\"less1\",\"less1\",\"less1\",\"less1\",\"less1\",\"less1\",\"never\",\"never\",\"never\",\"never\",\"never\",\"4~8\",\"4~8\",\"4~8\",\"4~8\",\"4~8\",\"4~8\",\"4~8\",\"4~8\",\"4~8\",\"4~8\",\"4~8\",\"4~8\",\"4~8\",\"4~8\",\"4~8\",\"4~8\",\"1~3\",\"1~3\",\"1~3\",\"1~3\",\"1~3\",\"1~3\",\"1~3\",\"1~3\",\"1~3\",\"1~3\",\"less1\",\"less1\",\"less1\",\"less1\",\"never\",\"never\",\"1~3\",\"1~3\",\"1~3\",\"4~8\",\"4~8\",\"4~8\",\"4~8\",\"4~8\",\"less1\",\"less1\",\"less1\",\"less1\",\"less1\",\"less1\",\"less1\",\"less1\",\"less1\",\"less1\",\"less1\",\"less1\",\"less1\",\"less1\",\"less1\",\"less1\",\"less1\",\"less1\",\"less1\",\"never\",\"gt8\",\"gt8\",\"gt8\",\"gt8\",\"gt8\",\"gt8\",\"gt8\",\"1~3\",\"1~3\",\"1~3\",\"1~3\",\"1~3\",\"1~3\",\"1~3\",\"1~3\",\"1~3\",\"1~3\",\"1~3\",\"1~3\",\"1~3\",\"1~3\",\"1~3\",\"less1\",\"less1\",\"less1\",\"less1\",\"Unknown\",\"Unknown\",\"Unknown\",\"Unknown\",\"Unknown\",\"1~3\",\"1~3\",\"1~3\",\"1~3\",\"1~3\",\"1~3\",\"1~3\",\"1~3\",\"less1\",\"less1\",\"less1\",\"less1\",\"4~8\",\"4~8\",\"never\",\"never\",\"never\",\"never\",\"never\",\"1~3\",\"1~3\",\"1~3\",\"1~3\",\"1~3\",\"less1\",\"less1\",\"less1\",\"less1\",\"less1\",\"1~3\",\"less1\",\"less1\",\"less1\",\"less1\",\"less1\",\"1~3\",\"1~3\",\"1~3\",\"1~3\",\"1~3\",\"1~3\",\"1~3\",\"1~3\",\"never\",\"never\",\"never\",\"never\",\"never\",\"never\",\"never\",\"never\",\"less1\",\"less1\",\"4~8\",\"4~8\",\"4~8\",\"never\",\"never\",\"1~3\",\"gt8\",\"gt8\",\"gt8\",\"gt8\",\"gt8\",\"gt8\",\"1~3\",\"1~3\",\"4~8\",\"4~8\",\"4~8\",\"4~8\",\"4~8\",\"less1\",\"less1\",\"less1\",\"less1\",\"less1\",\"4~8\",\"4~8\",\"4~8\",\"4~8\",\"4~8\",\"4~8\",\"4~8\",\"gt8\",\"gt8\",\"gt8\",\"gt8\",\"less1\",\"less1\",\"less1\",\"less1\",\"less1\",\"less1\",\"less1\",\"less1\",\"less1\",\"less1\",\"less1\",\"less1\",\"less1\",\"less1\",\"less1\",\"less1\",\"less1\",\"1~3\",\"1~3\",\"1~3\",\"1~3\",\"1~3\",\"1~3\",\"less1\",\"less1\",\"less1\",\"less1\",\"less1\",\"never\",\"never\",\"never\",\"never\",\"never\",\"less1\",\"less1\",\"less1\",\"less1\",\"less1\",\"less1\",\"4~8\",\"4~8\",\"4~8\",\"4~8\",\"never\",\"never\",\"never\",\"4~8\",\"4~8\",\"4~8\",\"4~8\",\"4~8\",\"less1\",\"less1\",\"less1\",\"less1\",\"1~3\",\"1~3\",\"1~3\",\"1~3\",\"4~8\",\"4~8\",\"4~8\",\"4~8\",\"4~8\",\"4~8\",\"4~8\",\"4~8\",\"4~8\",\"4~8\",\"4~8\",\"4~8\",\"4~8\",\"4~8\",\"4~8\",\"1~3\",\"1~3\",\"1~3\",\"gt8\",\"gt8\",\"gt8\",\"gt8\",\"gt8\",\"gt8\",\"gt8\",\"gt8\",\"1~3\",\"1~3\",\"1~3\",\"1~3\",\"1~3\",\"1~3\",\"1~3\",\"never\",\"never\",\"1~3\",\"1~3\",\"1~3\",\"1~3\",\"1~3\",\"1~3\",\"4~8\",\"less1\",\"less1\",\"less1\",\"less1\",\"less1\",\"never\",\"never\",\"never\",\"never\",\"1~3\",\"1~3\",\"1~3\",\"1~3\",\"1~3\",\"4~8\",\"4~8\",\"4~8\",\"4~8\",\"4~8\",\"4~8\",\"1~3\",\"1~3\",\"Unknown\",\"Unknown\",\"Unknown\",\"Unknown\",\"never\",\"never\",\"never\",\"less1\",\"less1\",\"less1\",\"less1\",\"1~3\",\"1~3\",\"1~3\",\"1~3\",\"1~3\",\"1~3\",\"1~3\",\"1~3\",\"less1\",\"less1\",\"less1\",\"less1\",\"less1\",\"less1\",\"less1\",\"4~8\",\"4~8\",\"4~8\",\"4~8\",\"4~8\",\"4~8\",\"1~3\",\"1~3\",\"1~3\",\"1~3\",\"1~3\",\"1~3\",\"less1\",\"less1\",\"less1\",\"less1\",\"less1\",\"gt8\",\"gt8\",\"gt8\",\"gt8\",\"less1\",\"less1\",\"less1\",\"less1\",\"less1\",\"less1\",\"less1\",\"less1\",\"1~3\",\"1~3\",\"1~3\",\"1~3\",\"1~3\",\"1~3\",\"gt8\",\"gt8\",\"gt8\",\"gt8\",\"gt8\",\"gt8\",\"never\",\"never\",\"never\",\"less1\",\"less1\",\"less1\",\"less1\",\"less1\",\"less1\",\"less1\",\"less1\",\"less1\",\"1~3\",\"1~3\",\"never\",\"never\",\"never\",\"never\",\"less1\",\"less1\",\"less1\",\"less1\",\"less1\",\"less1\",\"less1\",\"less1\",\"less1\",\"less1\",\"less1\",\"1~3\",\"1~3\",\"1~3\",\"1~3\",\"1~3\",\"less1\",\"less1\",\"less1\",\"less1\",\"less1\",\"1~3\",\"1~3\",\"1~3\",\"1~3\",\"1~3\",\"less1\",\"less1\",\"less1\",\"less1\",\"less1\",\"less1\",\"1~3\",\"4~8\",\"4~8\",\"4~8\",\"4~8\",\"4~8\",\"4~8\",\"never\",\"never\",\"never\",\"never\",\"never\",\"never\",\"never\",\"1~3\",\"1~3\",\"1~3\",\"1~3\",\"1~3\",\"1~3\",\"less1\",\"less1\",\"less1\",\"less1\",\"less1\",\"less1\",\"less1\",\"less1\",\"1~3\",\"1~3\",\"1~3\",\"1~3\",\"4~8\",\"4~8\",\"never\",\"4~8\",\"4~8\",\"4~8\",\"less1\",\"less1\",\"gt8\",\"gt8\",\"gt8\",\"gt8\",\"never\",\"never\",\"never\",\"never\",\"never\",\"never\",\"never\",\"never\",\"less1\",\"less1\",\"less1\",\"less1\",\"gt8\",\"gt8\",\"gt8\",\"1~3\",\"less1\",\"less1\",\"4~8\",\"4~8\",\"4~8\",\"4~8\",\"4~8\",\"4~8\",\"never\",\"never\",\"never\",\"never\",\"never\",\"less1\",\"less1\",\"less1\",\"less1\",\"less1\",\"less1\",\"less1\",\"4~8\",\"4~8\",\"4~8\",\"4~8\",\"4~8\",\"gt8\",\"gt8\",\"less1\",\"less1\",\"less1\",\"4~8\",\"4~8\",\"4~8\",\"4~8\",\"1~3\",\"1~3\",\"1~3\",\"1~3\",\"1~3\",\"1~3\",\"4~8\",\"4~8\",\"4~8\",\"4~8\",\"less1\",\"less1\",\"less1\",\"less1\",\"less1\",\"never\",\"never\",\"never\",\"never\",\"4~8\",\"4~8\",\"4~8\",\"4~8\",\"gt8\",\"gt8\",\"gt8\",\"gt8\",\"gt8\",\"less1\",\"less1\",\"1~3\",\"1~3\",\"4~8\",\"4~8\",\"4~8\",\"4~8\",\"1~3\",\"1~3\",\"1~3\",\"1~3\",\"4~8\",\"4~8\",\"4~8\",\"4~8\",\"4~8\",\"less1\",\"less1\",\"less1\",\"never\",\"1~3\",\"1~3\",\"4~8\",\"4~8\",\"less1\",\"less1\",\"less1\",\"less1\",\"less1\",\"gt8\",\"gt8\",\"gt8\",\"1~3\",\"1~3\",\"1~3\",\"1~3\",\"1~3\",\"1~3\",\"1~3\",\"gt8\",\"gt8\",\"4~8\",\"4~8\",\"4~8\",\"4~8\",\"1~3\",\"less1\",\"less1\",\"less1\",\"1~3\",\"1~3\",\"less1\",\"1~3\",\"1~3\",\"never\",\"4~8\",\"4~8\",\"4~8\",\"4~8\",\"4~8\",\"4~8\",\"4~8\",\"gt8\",\"gt8\",\"less1\",\"4~8\",\"4~8\",\"4~8\",\"4~8\",\"1~3\",\"1~3\",\"1~3\",\"1~3\",\"less1\",\"1~3\",\"1~3\",\"less1\",\"1~3\",\"1~3\",\"1~3\",\"1~3\",\"1~3\",\"gt8\",\"gt8\",\"gt8\",\"4~8\",\"4~8\",\"4~8\",\"never\",\"less1\",\"less1\",\"1~3\",\"1~3\",\"1~3\",\"gt8\",\"gt8\",\"less1\",\"less1\",\"less1\",\"less1\",\"less1\",\"less1\",\"Unknown\",\"1~3\",\"less1\",\"less1\",\"1~3\",\"less1\",\"1~3\",\"1~3\",\"4~8\",\"4~8\",\"4~8\",\"never\",\"never\",\"1~3\",\"less1\",\"gt8\",\"gt8\",\"1~3\",\"1~3\",\"1~3\",\"1~3\",\"gt8\",\"never\",\"never\",\"4~8\",\"less1\",\"less1\",\"less1\",\"less1\",\"less1\",\"less1\",\"never\",\"less1\",\"less1\",\"4~8\",\"4~8\"],\"xaxis\":\"x\",\"yaxis\":\"y\",\"type\":\"histogram\"}],                        {\"template\":{\"data\":{\"histogram2dcontour\":[{\"type\":\"histogram2dcontour\",\"colorbar\":{\"outlinewidth\":0,\"ticks\":\"\"},\"colorscale\":[[0.0,\"#0d0887\"],[0.1111111111111111,\"#46039f\"],[0.2222222222222222,\"#7201a8\"],[0.3333333333333333,\"#9c179e\"],[0.4444444444444444,\"#bd3786\"],[0.5555555555555556,\"#d8576b\"],[0.6666666666666666,\"#ed7953\"],[0.7777777777777778,\"#fb9f3a\"],[0.8888888888888888,\"#fdca26\"],[1.0,\"#f0f921\"]]}],\"choropleth\":[{\"type\":\"choropleth\",\"colorbar\":{\"outlinewidth\":0,\"ticks\":\"\"}}],\"histogram2d\":[{\"type\":\"histogram2d\",\"colorbar\":{\"outlinewidth\":0,\"ticks\":\"\"},\"colorscale\":[[0.0,\"#0d0887\"],[0.1111111111111111,\"#46039f\"],[0.2222222222222222,\"#7201a8\"],[0.3333333333333333,\"#9c179e\"],[0.4444444444444444,\"#bd3786\"],[0.5555555555555556,\"#d8576b\"],[0.6666666666666666,\"#ed7953\"],[0.7777777777777778,\"#fb9f3a\"],[0.8888888888888888,\"#fdca26\"],[1.0,\"#f0f921\"]]}],\"heatmap\":[{\"type\":\"heatmap\",\"colorbar\":{\"outlinewidth\":0,\"ticks\":\"\"},\"colorscale\":[[0.0,\"#0d0887\"],[0.1111111111111111,\"#46039f\"],[0.2222222222222222,\"#7201a8\"],[0.3333333333333333,\"#9c179e\"],[0.4444444444444444,\"#bd3786\"],[0.5555555555555556,\"#d8576b\"],[0.6666666666666666,\"#ed7953\"],[0.7777777777777778,\"#fb9f3a\"],[0.8888888888888888,\"#fdca26\"],[1.0,\"#f0f921\"]]}],\"heatmapgl\":[{\"type\":\"heatmapgl\",\"colorbar\":{\"outlinewidth\":0,\"ticks\":\"\"},\"colorscale\":[[0.0,\"#0d0887\"],[0.1111111111111111,\"#46039f\"],[0.2222222222222222,\"#7201a8\"],[0.3333333333333333,\"#9c179e\"],[0.4444444444444444,\"#bd3786\"],[0.5555555555555556,\"#d8576b\"],[0.6666666666666666,\"#ed7953\"],[0.7777777777777778,\"#fb9f3a\"],[0.8888888888888888,\"#fdca26\"],[1.0,\"#f0f921\"]]}],\"contourcarpet\":[{\"type\":\"contourcarpet\",\"colorbar\":{\"outlinewidth\":0,\"ticks\":\"\"}}],\"contour\":[{\"type\":\"contour\",\"colorbar\":{\"outlinewidth\":0,\"ticks\":\"\"},\"colorscale\":[[0.0,\"#0d0887\"],[0.1111111111111111,\"#46039f\"],[0.2222222222222222,\"#7201a8\"],[0.3333333333333333,\"#9c179e\"],[0.4444444444444444,\"#bd3786\"],[0.5555555555555556,\"#d8576b\"],[0.6666666666666666,\"#ed7953\"],[0.7777777777777778,\"#fb9f3a\"],[0.8888888888888888,\"#fdca26\"],[1.0,\"#f0f921\"]]}],\"surface\":[{\"type\":\"surface\",\"colorbar\":{\"outlinewidth\":0,\"ticks\":\"\"},\"colorscale\":[[0.0,\"#0d0887\"],[0.1111111111111111,\"#46039f\"],[0.2222222222222222,\"#7201a8\"],[0.3333333333333333,\"#9c179e\"],[0.4444444444444444,\"#bd3786\"],[0.5555555555555556,\"#d8576b\"],[0.6666666666666666,\"#ed7953\"],[0.7777777777777778,\"#fb9f3a\"],[0.8888888888888888,\"#fdca26\"],[1.0,\"#f0f921\"]]}],\"mesh3d\":[{\"type\":\"mesh3d\",\"colorbar\":{\"outlinewidth\":0,\"ticks\":\"\"}}],\"scatter\":[{\"fillpattern\":{\"fillmode\":\"overlay\",\"size\":10,\"solidity\":0.2},\"type\":\"scatter\"}],\"parcoords\":[{\"type\":\"parcoords\",\"line\":{\"colorbar\":{\"outlinewidth\":0,\"ticks\":\"\"}}}],\"scatterpolargl\":[{\"type\":\"scatterpolargl\",\"marker\":{\"colorbar\":{\"outlinewidth\":0,\"ticks\":\"\"}}}],\"bar\":[{\"error_x\":{\"color\":\"#2a3f5f\"},\"error_y\":{\"color\":\"#2a3f5f\"},\"marker\":{\"line\":{\"color\":\"#E5ECF6\",\"width\":0.5},\"pattern\":{\"fillmode\":\"overlay\",\"size\":10,\"solidity\":0.2}},\"type\":\"bar\"}],\"scattergeo\":[{\"type\":\"scattergeo\",\"marker\":{\"colorbar\":{\"outlinewidth\":0,\"ticks\":\"\"}}}],\"scatterpolar\":[{\"type\":\"scatterpolar\",\"marker\":{\"colorbar\":{\"outlinewidth\":0,\"ticks\":\"\"}}}],\"histogram\":[{\"marker\":{\"pattern\":{\"fillmode\":\"overlay\",\"size\":10,\"solidity\":0.2}},\"type\":\"histogram\"}],\"scattergl\":[{\"type\":\"scattergl\",\"marker\":{\"colorbar\":{\"outlinewidth\":0,\"ticks\":\"\"}}}],\"scatter3d\":[{\"type\":\"scatter3d\",\"line\":{\"colorbar\":{\"outlinewidth\":0,\"ticks\":\"\"}},\"marker\":{\"colorbar\":{\"outlinewidth\":0,\"ticks\":\"\"}}}],\"scattermapbox\":[{\"type\":\"scattermapbox\",\"marker\":{\"colorbar\":{\"outlinewidth\":0,\"ticks\":\"\"}}}],\"scatterternary\":[{\"type\":\"scatterternary\",\"marker\":{\"colorbar\":{\"outlinewidth\":0,\"ticks\":\"\"}}}],\"scattercarpet\":[{\"type\":\"scattercarpet\",\"marker\":{\"colorbar\":{\"outlinewidth\":0,\"ticks\":\"\"}}}],\"carpet\":[{\"aaxis\":{\"endlinecolor\":\"#2a3f5f\",\"gridcolor\":\"white\",\"linecolor\":\"white\",\"minorgridcolor\":\"white\",\"startlinecolor\":\"#2a3f5f\"},\"baxis\":{\"endlinecolor\":\"#2a3f5f\",\"gridcolor\":\"white\",\"linecolor\":\"white\",\"minorgridcolor\":\"white\",\"startlinecolor\":\"#2a3f5f\"},\"type\":\"carpet\"}],\"table\":[{\"cells\":{\"fill\":{\"color\":\"#EBF0F8\"},\"line\":{\"color\":\"white\"}},\"header\":{\"fill\":{\"color\":\"#C8D4E3\"},\"line\":{\"color\":\"white\"}},\"type\":\"table\"}],\"barpolar\":[{\"marker\":{\"line\":{\"color\":\"#E5ECF6\",\"width\":0.5},\"pattern\":{\"fillmode\":\"overlay\",\"size\":10,\"solidity\":0.2}},\"type\":\"barpolar\"}],\"pie\":[{\"automargin\":true,\"type\":\"pie\"}]},\"layout\":{\"autotypenumbers\":\"strict\",\"colorway\":[\"#636efa\",\"#EF553B\",\"#00cc96\",\"#ab63fa\",\"#FFA15A\",\"#19d3f3\",\"#FF6692\",\"#B6E880\",\"#FF97FF\",\"#FECB52\"],\"font\":{\"color\":\"#2a3f5f\"},\"hovermode\":\"closest\",\"hoverlabel\":{\"align\":\"left\"},\"paper_bgcolor\":\"white\",\"plot_bgcolor\":\"#E5ECF6\",\"polar\":{\"bgcolor\":\"#E5ECF6\",\"angularaxis\":{\"gridcolor\":\"white\",\"linecolor\":\"white\",\"ticks\":\"\"},\"radialaxis\":{\"gridcolor\":\"white\",\"linecolor\":\"white\",\"ticks\":\"\"}},\"ternary\":{\"bgcolor\":\"#E5ECF6\",\"aaxis\":{\"gridcolor\":\"white\",\"linecolor\":\"white\",\"ticks\":\"\"},\"baxis\":{\"gridcolor\":\"white\",\"linecolor\":\"white\",\"ticks\":\"\"},\"caxis\":{\"gridcolor\":\"white\",\"linecolor\":\"white\",\"ticks\":\"\"}},\"coloraxis\":{\"colorbar\":{\"outlinewidth\":0,\"ticks\":\"\"}},\"colorscale\":{\"sequential\":[[0.0,\"#0d0887\"],[0.1111111111111111,\"#46039f\"],[0.2222222222222222,\"#7201a8\"],[0.3333333333333333,\"#9c179e\"],[0.4444444444444444,\"#bd3786\"],[0.5555555555555556,\"#d8576b\"],[0.6666666666666666,\"#ed7953\"],[0.7777777777777778,\"#fb9f3a\"],[0.8888888888888888,\"#fdca26\"],[1.0,\"#f0f921\"]],\"sequentialminus\":[[0.0,\"#0d0887\"],[0.1111111111111111,\"#46039f\"],[0.2222222222222222,\"#7201a8\"],[0.3333333333333333,\"#9c179e\"],[0.4444444444444444,\"#bd3786\"],[0.5555555555555556,\"#d8576b\"],[0.6666666666666666,\"#ed7953\"],[0.7777777777777778,\"#fb9f3a\"],[0.8888888888888888,\"#fdca26\"],[1.0,\"#f0f921\"]],\"diverging\":[[0,\"#8e0152\"],[0.1,\"#c51b7d\"],[0.2,\"#de77ae\"],[0.3,\"#f1b6da\"],[0.4,\"#fde0ef\"],[0.5,\"#f7f7f7\"],[0.6,\"#e6f5d0\"],[0.7,\"#b8e186\"],[0.8,\"#7fbc41\"],[0.9,\"#4d9221\"],[1,\"#276419\"]]},\"xaxis\":{\"gridcolor\":\"white\",\"linecolor\":\"white\",\"ticks\":\"\",\"title\":{\"standoff\":15},\"zerolinecolor\":\"white\",\"automargin\":true,\"zerolinewidth\":2},\"yaxis\":{\"gridcolor\":\"white\",\"linecolor\":\"white\",\"ticks\":\"\",\"title\":{\"standoff\":15},\"zerolinecolor\":\"white\",\"automargin\":true,\"zerolinewidth\":2},\"scene\":{\"xaxis\":{\"backgroundcolor\":\"#E5ECF6\",\"gridcolor\":\"white\",\"linecolor\":\"white\",\"showbackground\":true,\"ticks\":\"\",\"zerolinecolor\":\"white\",\"gridwidth\":2},\"yaxis\":{\"backgroundcolor\":\"#E5ECF6\",\"gridcolor\":\"white\",\"linecolor\":\"white\",\"showbackground\":true,\"ticks\":\"\",\"zerolinecolor\":\"white\",\"gridwidth\":2},\"zaxis\":{\"backgroundcolor\":\"#E5ECF6\",\"gridcolor\":\"white\",\"linecolor\":\"white\",\"showbackground\":true,\"ticks\":\"\",\"zerolinecolor\":\"white\",\"gridwidth\":2}},\"shapedefaults\":{\"line\":{\"color\":\"#2a3f5f\"}},\"annotationdefaults\":{\"arrowcolor\":\"#2a3f5f\",\"arrowhead\":0,\"arrowwidth\":1},\"geo\":{\"bgcolor\":\"white\",\"landcolor\":\"#E5ECF6\",\"subunitcolor\":\"white\",\"showland\":true,\"showlakes\":true,\"lakecolor\":\"white\"},\"title\":{\"x\":0.05},\"mapbox\":{\"style\":\"light\"}}},\"xaxis\":{\"anchor\":\"y\",\"domain\":[0.0,1.0],\"title\":{\"text\":\"CoffeeHouse\"}},\"yaxis\":{\"anchor\":\"x\",\"domain\":[0.0,1.0],\"title\":{\"text\":\"count\"}},\"legend\":{\"title\":{\"text\":\"Y\"},\"tracegroupgap\":0},\"margin\":{\"t\":60},\"barmode\":\"relative\"},                        {\"responsive\": true}                    ).then(function(){\n",
              "                            \n",
              "var gd = document.getElementById('09f5dd41-511e-4b74-b9fe-891560cf9f72');\n",
              "var x = new MutationObserver(function (mutations, observer) {{\n",
              "        var display = window.getComputedStyle(gd).display;\n",
              "        if (!display || display === 'none') {{\n",
              "            console.log([gd, 'removed!']);\n",
              "            Plotly.purge(gd);\n",
              "            observer.disconnect();\n",
              "        }}\n",
              "}});\n",
              "\n",
              "// Listen for the removal of the full notebook cells\n",
              "var notebookContainer = gd.closest('#notebook-container');\n",
              "if (notebookContainer) {{\n",
              "    x.observe(notebookContainer, {childList: true});\n",
              "}}\n",
              "\n",
              "// Listen for the clearing of the current output cell\n",
              "var outputEl = gd.closest('.output');\n",
              "if (outputEl) {{\n",
              "    x.observe(outputEl, {childList: true});\n",
              "}}\n",
              "\n",
              "                        })                };                            </script>        </div>\n",
              "</body>\n",
              "</html>"
            ]
          },
          "metadata": {}
        }
      ],
      "source": [
        "px.histogram(coupons_coffee_house_df, x='CoffeeHouse', color='Y', text_auto=True)"
      ]
    },
    {
      "cell_type": "code",
      "source": [
        "coupons_coffee_house_df['age'].unique()"
      ],
      "metadata": {
        "colab": {
          "base_uri": "https://localhost:8080/"
        },
        "id": "MCwWrQ_EECPM",
        "outputId": "1b8422a8-3231-4277-c9af-cb238515ed38"
      },
      "execution_count": 59,
      "outputs": [
        {
          "output_type": "execute_result",
          "data": {
            "text/plain": [
              "array(['21', '46', '26', '31', '41', '50plus', '36', 'below21'],\n",
              "      dtype=object)"
            ]
          },
          "metadata": {},
          "execution_count": 59
        }
      ]
    },
    {
      "cell_type": "code",
      "execution_count": 70,
      "metadata": {
        "id": "09TUpHGF11of",
        "colab": {
          "base_uri": "https://localhost:8080/"
        },
        "outputId": "2ddcdb6b-40fe-42fd-8f88-634b048d1494"
      },
      "outputs": [
        {
          "output_type": "stream",
          "name": "stdout",
          "text": [
            "Coupon accept rate of drivers who frequent coffee houses more than once a month and are 21 or older: 65.35%\n",
            "Coupon accept rate of drivers who frequent coffee houses more than once a month and under the age of 21: 76.27%\n"
          ]
        }
      ],
      "source": [
        "age_21_over_list = ['46', '26', '31', '41', '50plus', '36', '21']\n",
        "\n",
        "more_than_once_21_over = coupons_coffee_house_df[(coupons_coffee_house_df['CoffeeHouse'].isin(more_than_once_list)) & (coupons_coffee_house_df['age'].isin(age_21_over_list))]['Y'].mean() * 100\n",
        "under_21 = coupons_coffee_house_df[(coupons_coffee_house_df['CoffeeHouse'].isin(more_than_once_list)) & ~(coupons_coffee_house_df['age'].isin(age_21_over_list))]['Y'].mean() * 100\n",
        "\n",
        "print('Coupon accept rate of drivers who frequent coffee houses more than once a month and are 21 or older: ' + str(round(more_than_once_21_over, 2)) + '%')\n",
        "print('Coupon accept rate of drivers who frequent coffee houses more than once a month and under the age of 21: ' + str(round(under_21, 2)) + '%')"
      ]
    },
    {
      "cell_type": "code",
      "source": [
        "fig2 = px.histogram(coupons_coffee_house_df, x='age', color='Y', text_auto=True)\n",
        "fig2.update_xaxes(categoryorder='total ascending')\n",
        "fig2.show()"
      ],
      "metadata": {
        "colab": {
          "base_uri": "https://localhost:8080/",
          "height": 542
        },
        "id": "xmIbnJ_ME7xQ",
        "outputId": "9b6c3a1d-2f17-4b88-a6a8-7e33b1a92b23"
      },
      "execution_count": 67,
      "outputs": [
        {
          "output_type": "display_data",
          "data": {
            "text/html": [
              "<html>\n",
              "<head><meta charset=\"utf-8\" /></head>\n",
              "<body>\n",
              "    <div>            <script src=\"https://cdnjs.cloudflare.com/ajax/libs/mathjax/2.7.5/MathJax.js?config=TeX-AMS-MML_SVG\"></script><script type=\"text/javascript\">if (window.MathJax && window.MathJax.Hub && window.MathJax.Hub.Config) {window.MathJax.Hub.Config({SVG: {font: \"STIX-Web\"}});}</script>                <script type=\"text/javascript\">window.PlotlyConfig = {MathJaxConfig: 'local'};</script>\n",
              "        <script charset=\"utf-8\" src=\"https://cdn.plot.ly/plotly-2.24.1.min.js\"></script>                <div id=\"a992e6cf-3f58-41dd-ad2e-99c401df5b68\" class=\"plotly-graph-div\" style=\"height:525px; width:100%;\"></div>            <script type=\"text/javascript\">                                    window.PLOTLYENV=window.PLOTLYENV || {};                                    if (document.getElementById(\"a992e6cf-3f58-41dd-ad2e-99c401df5b68\")) {                    Plotly.newPlot(                        \"a992e6cf-3f58-41dd-ad2e-99c401df5b68\",                        [{\"alignmentgroup\":\"True\",\"bingroup\":\"x\",\"hovertemplate\":\"Y=0\\u003cbr\\u003eage=%{x}\\u003cbr\\u003ecount=%{y}\\u003cextra\\u003e\\u003c\\u002fextra\\u003e\",\"legendgroup\":\"0\",\"marker\":{\"color\":\"#636efa\",\"pattern\":{\"shape\":\"\"}},\"name\":\"0\",\"offsetgroup\":\"0\",\"orientation\":\"v\",\"showlegend\":true,\"texttemplate\":\"%{value}\",\"x\":[\"21\",\"21\",\"21\",\"21\",\"21\",\"21\",\"21\",\"21\",\"21\",\"21\",\"21\",\"21\",\"21\",\"21\",\"46\",\"46\",\"46\",\"46\",\"46\",\"46\",\"46\",\"46\",\"26\",\"26\",\"26\",\"26\",\"26\",\"26\",\"26\",\"26\",\"26\",\"26\",\"26\",\"26\",\"26\",\"26\",\"26\",\"26\",\"26\",\"21\",\"21\",\"21\",\"21\",\"21\",\"21\",\"21\",\"21\",\"21\",\"21\",\"21\",\"21\",\"21\",\"21\",\"21\",\"21\",\"31\",\"31\",\"31\",\"31\",\"31\",\"41\",\"41\",\"41\",\"41\",\"41\",\"41\",\"21\",\"21\",\"21\",\"31\",\"31\",\"31\",\"31\",\"31\",\"31\",\"31\",\"31\",\"21\",\"21\",\"21\",\"21\",\"21\",\"21\",\"21\",\"21\",\"21\",\"21\",\"50plus\",\"50plus\",\"50plus\",\"50plus\",\"26\",\"26\",\"26\",\"26\",\"26\",\"26\",\"31\",\"31\",\"31\",\"26\",\"26\",\"26\",\"26\",\"26\",\"26\",\"26\",\"26\",\"50plus\",\"50plus\",\"50plus\",\"50plus\",\"50plus\",\"46\",\"46\",\"46\",\"46\",\"46\",\"46\",\"46\",\"26\",\"26\",\"26\",\"26\",\"26\",\"26\",\"26\",\"26\",\"26\",\"26\",\"21\",\"41\",\"41\",\"41\",\"41\",\"41\",\"31\",\"31\",\"31\",\"31\",\"31\",\"31\",\"31\",\"31\",\"36\",\"36\",\"36\",\"36\",\"36\",\"36\",\"36\",\"36\",\"36\",\"36\",\"36\",\"36\",\"36\",\"36\",\"41\",\"41\",\"41\",\"41\",\"41\",\"50plus\",\"26\",\"26\",\"26\",\"46\",\"46\",\"46\",\"46\",\"46\",\"46\",\"46\",\"50plus\",\"50plus\",\"50plus\",\"50plus\",\"50plus\",\"26\",\"26\",\"26\",\"26\",\"26\",\"21\",\"21\",\"21\",\"21\",\"31\",\"31\",\"31\",\"31\",\"21\",\"21\",\"21\",\"36\",\"36\",\"36\",\"31\",\"31\",\"31\",\"31\",\"31\",\"31\",\"50plus\",\"50plus\",\"50plus\",\"50plus\",\"50plus\",\"50plus\",\"50plus\",\"50plus\",\"50plus\",\"50plus\",\"50plus\",\"50plus\",\"50plus\",\"50plus\",\"50plus\",\"31\",\"31\",\"31\",\"31\",\"31\",\"41\",\"41\",\"41\",\"41\",\"41\",\"41\",\"41\",\"41\",\"41\",\"41\",\"36\",\"36\",\"36\",\"31\",\"31\",\"31\",\"31\",\"31\",\"26\",\"26\",\"26\",\"26\",\"26\",\"26\",\"26\",\"31\",\"31\",\"31\",\"31\",\"31\",\"31\",\"31\",\"below21\",\"below21\",\"below21\",\"26\",\"26\",\"26\",\"26\",\"26\",\"50plus\",\"50plus\",\"50plus\",\"50plus\",\"50plus\",\"50plus\",\"50plus\",\"50plus\",\"50plus\",\"50plus\",\"50plus\",\"50plus\",\"50plus\",\"50plus\",\"50plus\",\"21\",\"46\",\"46\",\"46\",\"46\",\"46\",\"26\",\"26\",\"26\",\"50plus\",\"50plus\",\"50plus\",\"50plus\",\"50plus\",\"36\",\"36\",\"36\",\"36\",\"36\",\"46\",\"46\",\"46\",\"46\",\"46\",\"46\",\"46\",\"46\",\"46\",\"46\",\"46\",\"46\",\"46\",\"50plus\",\"50plus\",\"31\",\"31\",\"31\",\"31\",\"31\",\"21\",\"21\",\"21\",\"21\",\"21\",\"21\",\"31\",\"31\",\"31\",\"31\",\"31\",\"31\",\"31\",\"31\",\"31\",\"31\",\"41\",\"41\",\"41\",\"41\",\"26\",\"26\",\"50plus\",\"50plus\",\"50plus\",\"50plus\",\"50plus\",\"50plus\",\"50plus\",\"46\",\"46\",\"46\",\"46\",\"26\",\"26\",\"26\",\"26\",\"26\",\"26\",\"26\",\"26\",\"26\",\"26\",\"26\",\"26\",\"26\",\"26\",\"26\",\"21\",\"21\",\"21\",\"21\",\"36\",\"50plus\",\"50plus\",\"50plus\",\"50plus\",\"50plus\",\"21\",\"21\",\"21\",\"21\",\"21\",\"21\",\"31\",\"31\",\"31\",\"31\",\"31\",\"31\",\"41\",\"41\",\"41\",\"41\",\"41\",\"41\",\"36\",\"36\",\"36\",\"36\",\"36\",\"21\",\"21\",\"21\",\"50plus\",\"50plus\",\"50plus\",\"50plus\",\"50plus\",\"50plus\",\"50plus\",\"26\",\"26\",\"26\",\"26\",\"36\",\"36\",\"36\",\"36\",\"36\",\"36\",\"36\",\"36\",\"26\",\"26\",\"21\",\"21\",\"21\",\"36\",\"21\",\"21\",\"21\",\"21\",\"21\",\"21\",\"21\",\"21\",\"21\",\"21\",\"36\",\"36\",\"36\",\"36\",\"36\",\"36\",\"26\",\"26\",\"26\",\"26\",\"26\",\"26\",\"26\",\"21\",\"21\",\"21\",\"21\",\"21\",\"21\",\"21\",\"21\",\"21\",\"21\",\"41\",\"41\",\"41\",\"41\",\"50plus\",\"50plus\",\"31\",\"31\",\"31\",\"31\",\"31\",\"31\",\"31\",\"31\",\"31\",\"31\",\"31\",\"31\",\"31\",\"21\",\"21\",\"21\",\"21\",\"21\",\"21\",\"21\",\"21\",\"21\",\"21\",\"26\",\"26\",\"26\",\"50plus\",\"50plus\",\"50plus\",\"50plus\",\"50plus\",\"50plus\",\"50plus\",\"21\",\"21\",\"21\",\"21\",\"21\",\"21\",\"21\",\"46\",\"46\",\"46\",\"46\",\"46\",\"46\",\"46\",\"46\",\"21\",\"50plus\",\"50plus\",\"50plus\",\"50plus\",\"50plus\",\"50plus\",\"50plus\",\"50plus\",\"50plus\",\"50plus\",\"41\",\"41\",\"41\",\"46\",\"46\",\"46\",\"46\",\"46\",\"46\",\"46\",\"26\",\"41\",\"41\",\"41\",\"41\",\"41\",\"21\",\"21\",\"21\",\"21\",\"21\",\"21\",\"21\",\"36\",\"36\",\"36\",\"36\",\"36\",\"36\",\"36\",\"36\",\"36\",\"36\",\"50plus\",\"50plus\",\"50plus\",\"50plus\",\"50plus\",\"50plus\",\"50plus\",\"26\",\"26\",\"below21\",\"50plus\",\"50plus\",\"50plus\",\"50plus\",\"50plus\",\"50plus\",\"50plus\",\"21\",\"21\",\"21\",\"21\",\"21\",\"21\",\"21\",\"31\",\"36\",\"36\",\"36\",\"21\",\"31\",\"31\",\"31\",\"31\",\"50plus\",\"50plus\",\"50plus\",\"50plus\",\"31\",\"31\",\"31\",\"31\",\"21\",\"21\",\"21\",\"21\",\"21\",\"21\",\"31\",\"31\",\"31\",\"31\",\"31\",\"31\",\"31\",\"21\",\"21\",\"21\",\"21\",\"21\",\"21\",\"21\",\"21\",\"21\",\"21\",\"41\",\"41\",\"41\",\"26\",\"26\",\"26\",\"26\",\"26\",\"26\",\"26\",\"26\",\"26\",\"50plus\",\"50plus\",\"50plus\",\"50plus\",\"50plus\",\"50plus\",\"50plus\",\"50plus\",\"50plus\",\"50plus\",\"21\",\"41\",\"41\",\"41\",\"41\",\"50plus\",\"50plus\",\"50plus\",\"50plus\",\"50plus\",\"50plus\",\"50plus\",\"50plus\",\"26\",\"26\",\"26\",\"26\",\"26\",\"26\",\"41\",\"41\",\"41\",\"41\",\"41\",\"41\",\"21\",\"21\",\"21\",\"31\",\"31\",\"31\",\"31\",\"21\",\"21\",\"21\",\"21\",\"21\",\"21\",\"36\",\"36\",\"36\",\"36\",\"46\",\"46\",\"46\",\"46\",\"46\",\"46\",\"50plus\",\"26\",\"26\",\"26\",\"50plus\",\"50plus\",\"50plus\",\"50plus\",\"50plus\",\"46\",\"46\",\"26\",\"26\",\"26\",\"26\",\"below21\",\"below21\",\"below21\",\"below21\",\"below21\",\"41\",\"41\",\"41\",\"41\",\"41\",\"41\",\"41\",\"41\",\"41\",\"41\",\"21\",\"21\",\"21\",\"21\",\"21\",\"21\",\"21\",\"21\",\"21\",\"41\",\"41\",\"26\",\"26\",\"26\",\"26\",\"26\",\"26\",\"26\",\"26\",\"26\",\"21\",\"31\",\"26\",\"26\",\"26\",\"26\",\"26\",\"50plus\",\"50plus\",\"50plus\",\"50plus\",\"50plus\",\"50plus\",\"26\",\"41\",\"41\",\"41\",\"41\",\"26\",\"26\",\"26\",\"21\",\"21\",\"21\",\"21\",\"21\",\"21\",\"21\",\"21\",\"50plus\",\"50plus\",\"50plus\",\"50plus\",\"50plus\",\"50plus\",\"21\",\"21\",\"21\",\"21\",\"21\",\"21\",\"21\",\"21\",\"21\",\"21\",\"26\",\"26\",\"26\",\"50plus\",\"50plus\",\"50plus\",\"50plus\",\"50plus\",\"50plus\",\"50plus\",\"50plus\",\"50plus\",\"50plus\",\"26\",\"26\",\"26\",\"26\",\"26\",\"26\",\"26\",\"26\",\"26\",\"26\",\"26\",\"26\",\"26\",\"26\",\"26\",\"21\",\"21\",\"36\",\"36\",\"36\",\"36\",\"36\",\"36\",\"36\",\"36\",\"36\",\"36\",\"50plus\",\"50plus\",\"50plus\",\"31\",\"31\",\"21\",\"21\",\"21\",\"21\",\"21\",\"21\",\"21\",\"21\",\"21\",\"21\",\"21\",\"36\",\"36\",\"36\",\"36\",\"36\",\"36\",\"36\",\"36\",\"36\",\"36\",\"21\",\"21\",\"21\",\"21\",\"21\",\"21\",\"21\",\"21\",\"21\",\"21\",\"31\",\"31\",\"31\",\"31\",\"31\",\"31\",\"31\",\"31\",\"31\",\"31\",\"50plus\",\"50plus\",\"50plus\",\"50plus\",\"50plus\",\"50plus\",\"50plus\",\"50plus\",\"50plus\",\"50plus\",\"50plus\",\"26\",\"26\",\"26\",\"26\",\"26\",\"26\",\"26\",\"41\",\"41\",\"41\",\"41\",\"41\",\"41\",\"21\",\"21\",\"21\",\"21\",\"21\",\"26\",\"26\",\"26\",\"26\",\"26\",\"26\",\"26\",\"26\",\"21\",\"46\",\"46\",\"46\",\"46\",\"46\",\"46\",\"31\",\"31\",\"31\",\"31\",\"31\",\"31\",\"31\",\"31\",\"below21\",\"below21\",\"below21\",\"below21\",\"below21\",\"below21\",\"below21\",\"below21\",\"below21\",\"below21\",\"below21\",\"21\",\"21\",\"21\",\"21\",\"21\",\"21\",\"21\",\"21\",\"21\",\"21\",\"21\",\"36\",\"36\",\"36\",\"36\",\"36\",\"36\",\"36\",\"36\",\"36\",\"36\",\"36\",\"below21\",\"36\",\"36\",\"36\",\"36\",\"36\",\"36\",\"36\",\"36\",\"26\",\"26\",\"36\",\"36\",\"36\",\"46\",\"46\",\"46\",\"46\",\"46\",\"46\",\"31\",\"31\",\"31\",\"31\",\"26\",\"26\",\"36\",\"36\",\"36\",\"36\",\"36\",\"36\",\"36\",\"36\",\"36\",\"36\",\"36\",\"21\",\"21\",\"50plus\",\"50plus\",\"50plus\",\"50plus\",\"below21\",\"below21\",\"below21\",\"below21\",\"31\",\"31\",\"31\",\"31\",\"31\",\"31\",\"31\",\"31\",\"31\",\"21\",\"21\",\"21\",\"21\",\"21\",\"50plus\",\"50plus\",\"50plus\",\"50plus\",\"50plus\",\"50plus\",\"50plus\",\"50plus\",\"50plus\",\"50plus\",\"50plus\",\"50plus\",\"50plus\",\"50plus\",\"50plus\",\"21\",\"21\",\"21\",\"21\",\"31\",\"21\",\"21\",\"21\",\"21\",\"31\",\"31\",\"31\",\"31\",\"31\",\"31\",\"31\",\"21\",\"21\",\"21\",\"21\",\"21\",\"21\",\"21\",\"21\",\"21\",\"21\",\"31\",\"31\",\"31\",\"31\",\"31\",\"31\",\"31\",\"31\",\"21\",\"21\",\"21\",\"21\",\"21\",\"21\",\"21\",\"31\",\"31\",\"31\",\"31\",\"31\",\"31\",\"31\",\"31\",\"31\",\"31\",\"21\",\"21\",\"21\",\"21\",\"21\",\"21\",\"21\",\"21\",\"21\",\"21\",\"21\",\"21\",\"21\",\"21\",\"21\",\"21\",\"21\",\"21\",\"36\",\"36\",\"36\",\"50plus\",\"50plus\",\"50plus\",\"50plus\",\"50plus\",\"50plus\",\"50plus\",\"50plus\",\"50plus\",\"50plus\",\"50plus\",\"50plus\",\"50plus\",\"50plus\",\"50plus\",\"50plus\",\"50plus\",\"50plus\",\"31\",\"31\",\"31\",\"31\",\"31\",\"26\",\"26\",\"26\",\"26\",\"26\",\"26\",\"26\",\"26\",\"26\",\"26\",\"26\",\"50plus\",\"46\",\"46\",\"46\",\"46\",\"21\",\"21\",\"21\",\"21\",\"21\",\"21\",\"21\",\"21\",\"21\",\"21\",\"21\",\"26\",\"26\",\"26\",\"26\",\"26\",\"26\",\"26\",\"26\",\"26\",\"26\",\"26\",\"26\",\"26\",\"26\",\"26\",\"26\",\"26\",\"26\",\"26\",\"26\",\"26\",\"26\",\"26\",\"50plus\",\"50plus\",\"50plus\",\"50plus\",\"50plus\",\"50plus\",\"26\",\"26\",\"26\",\"26\",\"26\",\"26\",\"26\",\"41\",\"41\",\"41\",\"41\",\"41\",\"41\",\"41\",\"41\",\"21\",\"21\",\"21\",\"21\",\"21\",\"21\",\"21\",\"21\",\"21\",\"21\",\"21\",\"50plus\",\"50plus\",\"50plus\",\"50plus\",\"50plus\",\"50plus\",\"50plus\",\"41\",\"36\",\"36\",\"36\",\"36\",\"36\",\"36\",\"36\",\"36\",\"below21\",\"below21\",\"26\",\"26\",\"26\",\"36\",\"36\",\"31\",\"31\",\"31\",\"31\",\"31\",\"31\",\"31\",\"21\",\"26\",\"21\",\"21\",\"21\",\"21\",\"26\",\"41\",\"41\",\"41\",\"41\",\"41\",\"31\",\"31\",\"31\",\"31\",\"31\",\"31\",\"31\",\"31\",\"31\",\"31\",\"31\",\"31\",\"31\",\"31\",\"31\",\"50plus\",\"50plus\",\"26\",\"26\",\"26\",\"26\",\"26\",\"26\",\"26\",\"26\",\"26\",\"26\",\"31\",\"31\",\"31\",\"31\",\"31\",\"31\",\"31\",\"31\",\"31\",\"31\",\"21\",\"21\",\"21\",\"21\",\"21\",\"21\",\"21\",\"21\",\"21\",\"21\",\"21\",\"21\",\"36\",\"36\",\"50plus\",\"50plus\",\"50plus\",\"50plus\",\"50plus\",\"50plus\",\"26\",\"26\",\"26\",\"26\",\"26\",\"26\",\"26\",\"26\",\"26\",\"26\",\"26\",\"21\",\"21\",\"21\",\"21\",\"21\",\"21\",\"21\",\"21\",\"21\",\"21\",\"21\",\"26\",\"26\",\"26\",\"26\",\"26\",\"26\",\"26\",\"26\",\"26\",\"26\",\"26\",\"46\",\"46\",\"46\",\"21\",\"21\",\"21\",\"21\",\"21\",\"31\",\"31\",\"31\",\"31\",\"41\",\"41\",\"41\",\"41\",\"41\",\"41\",\"41\",\"41\",\"36\",\"36\",\"36\",\"31\",\"31\",\"31\",\"31\",\"31\",\"31\",\"31\",\"31\",\"31\",\"36\",\"36\",\"36\",\"36\",\"36\",\"36\",\"36\",\"26\",\"26\",\"26\",\"26\",\"26\",\"26\",\"31\",\"31\",\"31\",\"31\",\"31\",\"26\",\"26\",\"26\",\"26\",\"26\",\"26\",\"26\",\"26\",\"26\",\"41\",\"41\",\"41\",\"41\",\"41\",\"41\",\"41\",\"41\",\"below21\",\"50plus\",\"50plus\",\"41\",\"41\",\"41\",\"41\",\"41\",\"41\",\"41\",\"41\",\"36\",\"36\",\"36\",\"36\",\"36\",\"36\",\"36\",\"36\",\"36\",\"36\",\"36\",\"36\",\"36\",\"36\",\"26\",\"26\",\"26\",\"21\",\"21\",\"21\",\"21\",\"21\",\"21\",\"21\",\"31\",\"31\",\"31\",\"31\",\"21\",\"21\",\"31\",\"31\",\"31\",\"21\",\"26\",\"26\",\"26\",\"26\",\"26\",\"46\",\"46\",\"46\",\"46\",\"46\",\"50plus\",\"41\",\"31\",\"31\",\"36\",\"36\",\"36\",\"31\",\"31\",\"50plus\",\"50plus\",\"26\",\"26\",\"26\",\"26\",\"31\",\"31\",\"31\",\"31\",\"41\",\"41\",\"41\",\"31\",\"31\",\"31\",\"31\",\"50plus\",\"36\",\"36\",\"36\",\"36\",\"36\",\"26\",\"26\",\"26\",\"26\",\"26\",\"26\",\"26\",\"26\",\"26\",\"26\",\"26\",\"26\",\"26\",\"36\",\"26\",\"below21\",\"46\",\"46\",\"26\",\"26\",\"26\",\"50plus\",\"50plus\",\"50plus\",\"31\",\"26\",\"26\",\"26\",\"26\",\"26\",\"26\",\"36\",\"36\",\"36\",\"36\",\"26\",\"below21\",\"below21\",\"below21\",\"below21\",\"below21\",\"50plus\",\"50plus\",\"50plus\",\"50plus\",\"50plus\",\"50plus\",\"36\",\"36\",\"50plus\",\"50plus\",\"50plus\",\"50plus\",\"31\",\"31\",\"31\",\"31\",\"21\",\"21\",\"21\",\"21\",\"21\",\"21\",\"21\",\"21\",\"21\",\"26\",\"36\",\"36\",\"36\",\"36\",\"21\",\"21\",\"31\",\"26\",\"31\",\"31\",\"31\",\"31\",\"31\",\"36\",\"26\",\"26\",\"26\",\"26\",\"26\",\"26\",\"21\",\"31\",\"31\",\"21\",\"21\",\"21\",\"21\",\"21\",\"50plus\",\"50plus\",\"41\",\"41\",\"31\",\"31\",\"31\",\"31\",\"31\",\"31\",\"31\",\"46\",\"46\",\"46\",\"46\",\"46\",\"31\",\"31\",\"31\",\"31\",\"31\",\"50plus\",\"50plus\",\"50plus\",\"50plus\",\"36\",\"36\",\"36\",\"36\",\"36\",\"21\",\"21\",\"26\",\"26\",\"41\",\"26\",\"26\",\"26\",\"26\",\"26\",\"26\",\"50plus\",\"26\",\"26\",\"26\",\"41\",\"41\",\"41\",\"41\",\"41\",\"50plus\",\"50plus\",\"50plus\",\"50plus\",\"46\",\"21\",\"21\",\"36\",\"36\",\"36\",\"36\",\"21\",\"21\",\"21\",\"21\",\"21\",\"50plus\",\"50plus\",\"50plus\",\"50plus\",\"26\",\"41\",\"41\",\"41\",\"26\",\"26\",\"31\",\"31\",\"31\",\"31\",\"31\",\"31\",\"41\",\"41\",\"41\",\"50plus\",\"50plus\",\"50plus\",\"50plus\",\"50plus\",\"50plus\",\"26\",\"26\",\"36\",\"36\",\"31\",\"26\",\"26\",\"26\",\"36\",\"46\",\"31\",\"31\",\"26\",\"26\",\"26\",\"26\",\"26\",\"26\",\"21\",\"below21\",\"31\",\"21\",\"21\",\"21\",\"21\",\"26\",\"26\",\"26\",\"26\",\"26\",\"50plus\",\"50plus\",\"50plus\",\"50plus\",\"50plus\",\"26\",\"26\",\"26\",\"26\",\"26\",\"26\",\"26\",\"46\",\"46\",\"50plus\",\"50plus\",\"50plus\",\"50plus\",\"50plus\",\"50plus\",\"50plus\",\"50plus\",\"50plus\",\"50plus\",\"31\",\"36\",\"36\",\"36\",\"36\",\"31\",\"31\",\"31\",\"31\",\"31\",\"21\",\"21\",\"21\",\"21\",\"21\",\"46\",\"21\",\"41\",\"41\",\"26\",\"50plus\",\"50plus\",\"31\",\"31\",\"31\",\"31\",\"21\",\"50plus\",\"50plus\",\"50plus\",\"36\",\"36\",\"36\",\"36\",\"21\",\"21\",\"21\",\"21\",\"26\",\"26\",\"26\",\"26\",\"26\",\"26\",\"50plus\",\"50plus\",\"50plus\",\"31\",\"31\",\"26\",\"26\",\"26\",\"26\",\"26\",\"36\",\"36\",\"50plus\",\"50plus\",\"50plus\",\"50plus\",\"31\",\"31\",\"31\",\"31\",\"31\",\"31\",\"50plus\",\"31\",\"31\",\"26\",\"26\",\"26\",\"26\",\"26\",\"41\",\"36\",\"31\",\"31\",\"below21\",\"below21\",\"50plus\",\"50plus\",\"50plus\",\"50plus\",\"50plus\",\"50plus\",\"50plus\",\"31\",\"26\",\"26\",\"31\",\"21\",\"21\",\"21\",\"21\",\"21\",\"21\",\"26\",\"26\",\"26\",\"26\",\"26\",\"26\",\"26\",\"41\",\"41\",\"41\",\"41\",\"21\",\"41\",\"31\",\"31\",\"31\",\"31\",\"21\",\"41\",\"below21\",\"21\",\"21\",\"31\",\"31\",\"31\",\"21\",\"36\",\"36\",\"26\",\"26\",\"26\",\"46\",\"36\",\"36\",\"50plus\",\"50plus\",\"41\",\"41\",\"41\",\"below21\",\"below21\",\"26\",\"26\",\"below21\",\"below21\",\"below21\",\"36\",\"36\",\"21\",\"21\",\"36\",\"36\",\"31\",\"31\",\"21\",\"50plus\",\"50plus\",\"31\",\"31\",\"31\",\"31\",\"41\",\"41\",\"41\",\"41\",\"41\",\"below21\",\"below21\",\"31\",\"31\",\"21\",\"21\",\"41\",\"41\",\"41\",\"21\",\"50plus\",\"50plus\",\"21\",\"21\",\"21\",\"21\",\"21\",\"26\",\"26\",\"26\",\"41\",\"41\",\"50plus\",\"26\",\"26\",\"21\",\"21\",\"26\",\"26\",\"26\",\"below21\",\"below21\",\"31\",\"31\",\"50plus\",\"50plus\",\"21\",\"21\",\"21\",\"21\",\"21\",\"21\",\"46\",\"46\",\"46\",\"21\",\"36\",\"36\",\"21\",\"21\",\"21\",\"31\",\"31\",\"26\",\"26\",\"26\",\"26\",\"21\",\"21\",\"26\",\"26\",\"50plus\",\"50plus\",\"36\",\"36\",\"36\",\"31\",\"31\",\"31\",\"31\",\"26\",\"26\",\"36\",\"36\",\"36\",\"31\",\"31\",\"50plus\",\"50plus\",\"41\",\"26\",\"26\",\"26\",\"26\",\"26\",\"26\",\"21\",\"21\",\"21\",\"26\",\"26\",\"21\",\"21\",\"50plus\",\"21\",\"31\",\"31\",\"31\",\"26\",\"26\",\"26\"],\"xaxis\":\"x\",\"yaxis\":\"y\",\"type\":\"histogram\"},{\"alignmentgroup\":\"True\",\"bingroup\":\"x\",\"hovertemplate\":\"Y=1\\u003cbr\\u003eage=%{x}\\u003cbr\\u003ecount=%{y}\\u003cextra\\u003e\\u003c\\u002fextra\\u003e\",\"legendgroup\":\"1\",\"marker\":{\"color\":\"#EF553B\",\"pattern\":{\"shape\":\"\"}},\"name\":\"1\",\"offsetgroup\":\"1\",\"orientation\":\"v\",\"showlegend\":true,\"texttemplate\":\"%{value}\",\"x\":[\"21\",\"21\",\"21\",\"46\",\"46\",\"46\",\"46\",\"46\",\"46\",\"46\",\"46\",\"46\",\"21\",\"21\",\"21\",\"21\",\"21\",\"21\",\"21\",\"21\",\"21\",\"21\",\"26\",\"26\",\"26\",\"26\",\"26\",\"26\",\"26\",\"26\",\"26\",\"26\",\"26\",\"26\",\"26\",\"26\",\"26\",\"26\",\"26\",\"21\",\"21\",\"21\",\"21\",\"21\",\"21\",\"21\",\"21\",\"21\",\"21\",\"21\",\"21\",\"31\",\"31\",\"41\",\"41\",\"41\",\"41\",\"41\",\"41\",\"41\",\"41\",\"21\",\"21\",\"21\",\"21\",\"21\",\"31\",\"31\",\"31\",\"31\",\"31\",\"31\",\"50plus\",\"50plus\",\"50plus\",\"50plus\",\"26\",\"26\",\"26\",\"26\",\"31\",\"31\",\"31\",\"31\",\"31\",\"31\",\"31\",\"26\",\"26\",\"26\",\"26\",\"26\",\"26\",\"26\",\"26\",\"26\",\"26\",\"50plus\",\"50plus\",\"50plus\",\"50plus\",\"50plus\",\"50plus\",\"46\",\"46\",\"46\",\"31\",\"31\",\"31\",\"31\",\"31\",\"31\",\"31\",\"31\",\"31\",\"31\",\"21\",\"21\",\"21\",\"21\",\"21\",\"21\",\"41\",\"41\",\"41\",\"41\",\"41\",\"36\",\"41\",\"41\",\"41\",\"41\",\"41\",\"50plus\",\"50plus\",\"50plus\",\"50plus\",\"50plus\",\"50plus\",\"50plus\",\"26\",\"26\",\"26\",\"26\",\"26\",\"26\",\"26\",\"46\",\"46\",\"46\",\"46\",\"46\",\"46\",\"50plus\",\"50plus\",\"41\",\"41\",\"26\",\"26\",\"26\",\"21\",\"21\",\"21\",\"21\",\"21\",\"21\",\"31\",\"31\",\"31\",\"31\",\"31\",\"31\",\"31\",\"31\",\"31\",\"31\",\"31\",\"31\",\"31\",\"21\",\"21\",\"21\",\"21\",\"21\",\"36\",\"36\",\"36\",\"36\",\"31\",\"50plus\",\"50plus\",\"50plus\",\"31\",\"31\",\"31\",\"41\",\"41\",\"41\",\"41\",\"36\",\"36\",\"36\",\"36\",\"31\",\"31\",\"31\",\"26\",\"26\",\"below21\",\"below21\",\"below21\",\"below21\",\"below21\",\"below21\",\"below21\",\"26\",\"26\",\"26\",\"26\",\"26\",\"50plus\",\"50plus\",\"50plus\",\"21\",\"21\",\"21\",\"21\",\"21\",\"21\",\"21\",\"46\",\"46\",\"46\",\"46\",\"46\",\"26\",\"26\",\"26\",\"26\",\"26\",\"41\",\"41\",\"41\",\"41\",\"41\",\"41\",\"41\",\"41\",\"50plus\",\"50plus\",\"50plus\",\"50plus\",\"50plus\",\"36\",\"36\",\"46\",\"46\",\"46\",\"46\",\"50plus\",\"50plus\",\"50plus\",\"50plus\",\"50plus\",\"50plus\",\"31\",\"31\",\"31\",\"36\",\"36\",\"36\",\"36\",\"36\",\"36\",\"36\",\"21\",\"21\",\"21\",\"21\",\"41\",\"41\",\"41\",\"26\",\"26\",\"26\",\"26\",\"26\",\"26\",\"26\",\"26\",\"26\",\"26\",\"26\",\"26\",\"26\",\"26\",\"26\",\"46\",\"46\",\"46\",\"46\",\"46\",\"46\",\"26\",\"26\",\"26\",\"26\",\"26\",\"26\",\"26\",\"26\",\"26\",\"26\",\"21\",\"21\",\"21\",\"21\",\"36\",\"36\",\"36\",\"36\",\"36\",\"36\",\"50plus\",\"50plus\",\"41\",\"41\",\"41\",\"41\",\"41\",\"41\",\"41\",\"41\",\"41\",\"41\",\"21\",\"21\",\"21\",\"21\",\"21\",\"21\",\"21\",\"21\",\"21\",\"21\",\"21\",\"21\",\"21\",\"21\",\"31\",\"31\",\"31\",\"31\",\"31\",\"31\",\"31\",\"31\",\"31\",\"31\",\"31\",\"31\",\"31\",\"31\",\"41\",\"36\",\"36\",\"21\",\"21\",\"21\",\"21\",\"21\",\"50plus\",\"26\",\"26\",\"26\",\"36\",\"36\",\"36\",\"36\",\"36\",\"36\",\"26\",\"26\",\"26\",\"26\",\"26\",\"26\",\"26\",\"26\",\"21\",\"21\",\"21\",\"21\",\"21\",\"21\",\"21\",\"36\",\"36\",\"36\",\"36\",\"36\",\"36\",\"21\",\"21\",\"21\",\"21\",\"21\",\"21\",\"21\",\"21\",\"21\",\"21\",\"36\",\"36\",\"26\",\"41\",\"41\",\"41\",\"41\",\"41\",\"41\",\"50plus\",\"50plus\",\"50plus\",\"50plus\",\"50plus\",\"50plus\",\"31\",\"31\",\"31\",\"26\",\"21\",\"21\",\"21\",\"21\",\"21\",\"21\",\"21\",\"21\",\"21\",\"21\",\"21\",\"21\",\"21\",\"21\",\"21\",\"21\",\"21\",\"21\",\"21\",\"46\",\"21\",\"21\",\"21\",\"21\",\"21\",\"21\",\"21\",\"21\",\"21\",\"50plus\",\"50plus\",\"50plus\",\"50plus\",\"50plus\",\"50plus\",\"26\",\"26\",\"26\",\"26\",\"26\",\"26\",\"26\",\"26\",\"26\",\"26\",\"50plus\",\"50plus\",\"50plus\",\"50plus\",\"50plus\",\"50plus\",\"50plus\",\"50plus\",\"41\",\"41\",\"41\",\"41\",\"26\",\"26\",\"26\",\"26\",\"26\",\"26\",\"41\",\"41\",\"41\",\"41\",\"41\",\"41\",\"41\",\"41\",\"41\",\"41\",\"21\",\"21\",\"21\",\"26\",\"26\",\"26\",\"26\",\"26\",\"26\",\"26\",\"26\",\"below21\",\"below21\",\"below21\",\"below21\",\"below21\",\"below21\",\"below21\",\"below21\",\"below21\",\"21\",\"21\",\"21\",\"36\",\"36\",\"36\",\"36\",\"21\",\"21\",\"21\",\"21\",\"21\",\"21\",\"21\",\"21\",\"21\",\"31\",\"31\",\"31\",\"50plus\",\"50plus\",\"50plus\",\"31\",\"31\",\"31\",\"21\",\"21\",\"21\",\"21\",\"41\",\"41\",\"41\",\"41\",\"26\",\"26\",\"26\",\"26\",\"26\",\"26\",\"26\",\"26\",\"50plus\",\"21\",\"21\",\"21\",\"41\",\"41\",\"41\",\"41\",\"31\",\"31\",\"31\",\"31\",\"31\",\"31\",\"31\",\"31\",\"31\",\"31\",\"21\",\"21\",\"21\",\"21\",\"31\",\"31\",\"31\",\"31\",\"21\",\"21\",\"21\",\"21\",\"36\",\"36\",\"46\",\"50plus\",\"50plus\",\"50plus\",\"26\",\"26\",\"26\",\"26\",\"26\",\"26\",\"26\",\"50plus\",\"50plus\",\"50plus\",\"46\",\"46\",\"46\",\"46\",\"46\",\"46\",\"26\",\"26\",\"26\",\"26\",\"26\",\"26\",\"below21\",\"below21\",\"below21\",\"below21\",\"below21\",\"41\",\"41\",\"41\",\"41\",\"21\",\"21\",\"21\",\"21\",\"21\",\"21\",\"21\",\"21\",\"21\",\"21\",\"21\",\"21\",\"21\",\"21\",\"21\",\"21\",\"21\",\"21\",\"21\",\"41\",\"41\",\"41\",\"41\",\"41\",\"41\",\"26\",\"21\",\"21\",\"21\",\"21\",\"21\",\"21\",\"21\",\"21\",\"21\",\"31\",\"31\",\"31\",\"31\",\"31\",\"31\",\"26\",\"26\",\"26\",\"26\",\"26\",\"26\",\"26\",\"26\",\"26\",\"26\",\"26\",\"50plus\",\"50plus\",\"50plus\",\"50plus\",\"26\",\"26\",\"26\",\"26\",\"26\",\"26\",\"26\",\"41\",\"41\",\"41\",\"26\",\"26\",\"26\",\"26\",\"26\",\"26\",\"26\",\"50plus\",\"26\",\"26\",\"26\",\"26\",\"26\",\"26\",\"26\",\"21\",\"21\",\"21\",\"21\",\"21\",\"21\",\"21\",\"21\",\"50plus\",\"50plus\",\"50plus\",\"50plus\",\"50plus\",\"50plus\",\"50plus\",\"31\",\"31\",\"31\",\"31\",\"31\",\"31\",\"31\",\"31\",\"31\",\"21\",\"26\",\"26\",\"26\",\"26\",\"26\",\"26\",\"26\",\"26\",\"26\",\"26\",\"26\",\"41\",\"41\",\"41\",\"41\",\"41\",\"26\",\"26\",\"26\",\"26\",\"26\",\"26\",\"26\",\"26\",\"21\",\"21\",\"21\",\"21\",\"21\",\"21\",\"21\",\"21\",\"21\",\"21\",\"21\",\"21\",\"21\",\"46\",\"46\",\"31\",\"21\",\"21\",\"21\",\"21\",\"21\",\"21\",\"21\",\"21\",\"below21\",\"below21\",\"below21\",\"below21\",\"below21\",\"below21\",\"below21\",\"below21\",\"below21\",\"below21\",\"26\",\"26\",\"26\",\"26\",\"26\",\"26\",\"26\",\"36\",\"36\",\"36\",\"36\",\"36\",\"36\",\"36\",\"36\",\"46\",\"46\",\"46\",\"46\",\"31\",\"31\",\"31\",\"31\",\"31\",\"31\",\"26\",\"26\",\"26\",\"26\",\"26\",\"26\",\"26\",\"26\",\"26\",\"21\",\"21\",\"21\",\"21\",\"21\",\"21\",\"50plus\",\"50plus\",\"50plus\",\"50plus\",\"below21\",\"below21\",\"below21\",\"below21\",\"below21\",\"below21\",\"below21\",\"31\",\"21\",\"21\",\"21\",\"21\",\"21\",\"21\",\"below21\",\"below21\",\"below21\",\"below21\",\"below21\",\"below21\",\"below21\",\"below21\",\"50plus\",\"50plus\",\"50plus\",\"50plus\",\"21\",\"21\",\"21\",\"21\",\"31\",\"31\",\"31\",\"31\",\"31\",\"31\",\"31\",\"21\",\"21\",\"21\",\"21\",\"below21\",\"below21\",\"below21\",\"below21\",\"below21\",\"below21\",\"below21\",\"below21\",\"31\",\"31\",\"31\",\"31\",\"31\",\"31\",\"31\",\"31\",\"31\",\"31\",\"31\",\"31\",\"31\",\"21\",\"21\",\"21\",\"21\",\"21\",\"21\",\"21\",\"21\",\"21\",\"31\",\"21\",\"21\",\"21\",\"21\",\"21\",\"21\",\"21\",\"21\",\"21\",\"21\",\"21\",\"21\",\"21\",\"36\",\"36\",\"36\",\"36\",\"36\",\"36\",\"36\",\"36\",\"36\",\"36\",\"36\",\"21\",\"21\",\"21\",\"21\",\"21\",\"21\",\"36\",\"36\",\"36\",\"36\",\"36\",\"36\",\"36\",\"36\",\"31\",\"31\",\"31\",\"31\",\"31\",\"50plus\",\"50plus\",\"50plus\",\"50plus\",\"50plus\",\"50plus\",\"50plus\",\"50plus\",\"50plus\",\"46\",\"46\",\"46\",\"46\",\"46\",\"46\",\"46\",\"26\",\"26\",\"26\",\"26\",\"26\",\"26\",\"26\",\"26\",\"26\",\"26\",\"26\",\"26\",\"26\",\"26\",\"26\",\"26\",\"26\",\"26\",\"26\",\"26\",\"26\",\"26\",\"26\",\"26\",\"26\",\"26\",\"50plus\",\"50plus\",\"26\",\"50plus\",\"41\",\"41\",\"41\",\"41\",\"41\",\"41\",\"41\",\"41\",\"41\",\"36\",\"36\",\"below21\",\"below21\",\"below21\",\"below21\",\"below21\",\"below21\",\"26\",\"26\",\"26\",\"26\",\"26\",\"36\",\"36\",\"36\",\"36\",\"36\",\"36\",\"31\",\"21\",\"21\",\"21\",\"21\",\"21\",\"21\",\"21\",\"26\",\"26\",\"26\",\"26\",\"26\",\"26\",\"26\",\"26\",\"26\",\"26\",\"21\",\"21\",\"21\",\"21\",\"26\",\"26\",\"26\",\"26\",\"26\",\"26\",\"26\",\"26\",\"26\",\"41\",\"41\",\"41\",\"31\",\"31\",\"31\",\"31\",\"31\",\"31\",\"50plus\",\"50plus\",\"50plus\",\"50plus\",\"50plus\",\"50plus\",\"26\",\"21\",\"21\",\"21\",\"21\",\"21\",\"21\",\"21\",\"21\",\"21\",\"21\",\"21\",\"21\",\"21\",\"21\",\"21\",\"21\",\"21\",\"36\",\"36\",\"36\",\"36\",\"36\",\"36\",\"36\",\"36\",\"36\",\"50plus\",\"50plus\",\"26\",\"26\",\"26\",\"26\",\"26\",\"26\",\"26\",\"26\",\"26\",\"26\",\"26\",\"26\",\"26\",\"26\",\"26\",\"26\",\"50plus\",\"50plus\",\"50plus\",\"50plus\",\"50plus\",\"50plus\",\"50plus\",\"50plus\",\"46\",\"46\",\"46\",\"46\",\"46\",\"46\",\"46\",\"46\",\"46\",\"46\",\"21\",\"21\",\"21\",\"21\",\"21\",\"21\",\"31\",\"31\",\"31\",\"31\",\"31\",\"31\",\"31\",\"41\",\"41\",\"41\",\"41\",\"41\",\"41\",\"41\",\"41\",\"41\",\"41\",\"36\",\"36\",\"36\",\"36\",\"36\",\"36\",\"36\",\"36\",\"31\",\"31\",\"31\",\"31\",\"31\",\"31\",\"31\",\"31\",\"31\",\"31\",\"36\",\"21\",\"21\",\"21\",\"21\",\"21\",\"21\",\"21\",\"21\",\"21\",\"21\",\"21\",\"26\",\"26\",\"26\",\"31\",\"31\",\"31\",\"26\",\"26\",\"26\",\"26\",\"26\",\"26\",\"26\",\"26\",\"26\",\"26\",\"26\",\"26\",\"26\",\"26\",\"26\",\"26\",\"26\",\"36\",\"36\",\"36\",\"36\",\"36\",\"36\",\"36\",\"36\",\"36\",\"36\",\"below21\",\"below21\",\"below21\",\"below21\",\"below21\",\"below21\",\"below21\",\"50plus\",\"50plus\",\"50plus\",\"50plus\",\"50plus\",\"50plus\",\"41\",\"41\",\"41\",\"36\",\"36\",\"36\",\"36\",\"36\",\"36\",\"26\",\"26\",\"26\",\"26\",\"26\",\"26\",\"26\",\"26\",\"26\",\"26\",\"26\",\"26\",\"26\",\"21\",\"21\",\"21\",\"21\",\"21\",\"21\",\"21\",\"21\",\"21\",\"21\",\"21\",\"31\",\"31\",\"31\",\"31\",\"31\",\"31\",\"21\",\"21\",\"21\",\"21\",\"21\",\"21\",\"21\",\"31\",\"31\",\"31\",\"31\",\"31\",\"21\",\"21\",\"21\",\"21\",\"21\",\"21\",\"21\",\"21\",\"21\",\"26\",\"26\",\"26\",\"26\",\"26\",\"26\",\"26\",\"26\",\"26\",\"26\",\"26\",\"26\",\"26\",\"46\",\"46\",\"46\",\"46\",\"46\",\"50plus\",\"50plus\",\"50plus\",\"50plus\",\"50plus\",\"50plus\",\"50plus\",\"50plus\",\"21\",\"21\",\"21\",\"21\",\"21\",\"21\",\"21\",\"21\",\"31\",\"31\",\"31\",\"31\",\"31\",\"31\",\"41\",\"41\",\"41\",\"41\",\"31\",\"31\",\"31\",\"31\",\"36\",\"36\",\"31\",\"31\",\"31\",\"50plus\",\"50plus\",\"50plus\",\"50plus\",\"50plus\",\"21\",\"21\",\"21\",\"21\",\"21\",\"21\",\"26\",\"26\",\"26\",\"26\",\"26\",\"26\",\"26\",\"26\",\"26\",\"31\",\"31\",\"41\",\"41\",\"31\",\"46\",\"46\",\"46\",\"46\",\"46\",\"46\",\"46\",\"50plus\",\"50plus\",\"50plus\",\"50plus\",\"50plus\",\"50plus\",\"50plus\",\"50plus\",\"50plus\",\"26\",\"26\",\"26\",\"26\",\"26\",\"26\",\"36\",\"36\",\"36\",\"36\",\"26\",\"26\",\"26\",\"26\",\"26\",\"below21\",\"below21\",\"below21\",\"below21\",\"below21\",\"46\",\"46\",\"46\",\"26\",\"26\",\"26\",\"26\",\"50plus\",\"50plus\",\"31\",\"31\",\"31\",\"31\",\"26\",\"41\",\"41\",\"41\",\"41\",\"41\",\"36\",\"36\",\"36\",\"36\",\"36\",\"below21\",\"26\",\"26\",\"26\",\"26\",\"26\",\"36\",\"36\",\"36\",\"36\",\"36\",\"50plus\",\"50plus\",\"50plus\",\"50plus\",\"50plus\",\"50plus\",\"36\",\"36\",\"36\",\"36\",\"36\",\"50plus\",\"50plus\",\"31\",\"31\",\"31\",\"21\",\"21\",\"21\",\"26\",\"26\",\"26\",\"26\",\"26\",\"26\",\"36\",\"36\",\"21\",\"21\",\"21\",\"21\",\"21\",\"31\",\"31\",\"31\",\"31\",\"31\",\"50plus\",\"50plus\",\"50plus\",\"50plus\",\"50plus\",\"50plus\",\"50plus\",\"26\",\"26\",\"26\",\"26\",\"26\",\"26\",\"26\",\"26\",\"26\",\"26\",\"26\",\"26\",\"26\",\"26\",\"26\",\"26\",\"26\",\"36\",\"36\",\"36\",\"36\",\"21\",\"21\",\"21\",\"21\",\"21\",\"21\",\"31\",\"31\",\"31\",\"31\",\"31\",\"21\",\"21\",\"50plus\",\"50plus\",\"50plus\",\"41\",\"41\",\"41\",\"46\",\"46\",\"46\",\"46\",\"46\",\"46\",\"46\",\"50plus\",\"50plus\",\"50plus\",\"50plus\",\"50plus\",\"50plus\",\"50plus\",\"50plus\",\"21\",\"21\",\"21\",\"21\",\"26\",\"26\",\"26\",\"26\",\"41\",\"41\",\"41\",\"41\",\"50plus\",\"50plus\",\"50plus\",\"50plus\",\"50plus\",\"50plus\",\"50plus\",\"50plus\",\"50plus\",\"50plus\",\"50plus\",\"26\",\"26\",\"26\",\"50plus\",\"50plus\",\"50plus\",\"50plus\",\"50plus\",\"50plus\",\"50plus\",\"50plus\",\"46\",\"46\",\"46\",\"46\",\"21\",\"21\",\"21\",\"36\",\"36\",\"21\",\"21\",\"21\",\"21\",\"21\",\"21\",\"50plus\",\"26\",\"26\",\"26\",\"26\",\"26\",\"41\",\"41\",\"41\",\"41\",\"26\",\"26\",\"26\",\"26\",\"26\",\"31\",\"31\",\"31\",\"31\",\"31\",\"31\",\"41\",\"41\",\"26\",\"26\",\"26\",\"26\",\"36\",\"36\",\"36\",\"31\",\"31\",\"31\",\"31\",\"26\",\"26\",\"26\",\"26\",\"26\",\"26\",\"26\",\"26\",\"26\",\"26\",\"26\",\"26\",\"36\",\"36\",\"36\",\"31\",\"31\",\"31\",\"31\",\"31\",\"31\",\"21\",\"21\",\"21\",\"21\",\"21\",\"21\",\"46\",\"46\",\"46\",\"46\",\"46\",\"below21\",\"below21\",\"below21\",\"below21\",\"21\",\"21\",\"21\",\"21\",\"31\",\"31\",\"31\",\"31\",\"26\",\"26\",\"26\",\"26\",\"26\",\"26\",\"21\",\"21\",\"21\",\"21\",\"21\",\"21\",\"below21\",\"below21\",\"below21\",\"31\",\"31\",\"31\",\"26\",\"26\",\"below21\",\"below21\",\"below21\",\"below21\",\"46\",\"46\",\"below21\",\"below21\",\"below21\",\"below21\",\"21\",\"21\",\"21\",\"21\",\"36\",\"36\",\"36\",\"36\",\"50plus\",\"50plus\",\"50plus\",\"31\",\"31\",\"31\",\"31\",\"31\",\"31\",\"31\",\"31\",\"31\",\"31\",\"below21\",\"below21\",\"below21\",\"below21\",\"below21\",\"31\",\"31\",\"31\",\"31\",\"31\",\"31\",\"31\",\"46\",\"46\",\"46\",\"21\",\"21\",\"21\",\"21\",\"21\",\"21\",\"21\",\"41\",\"41\",\"41\",\"46\",\"46\",\"46\",\"46\",\"26\",\"26\",\"50plus\",\"50plus\",\"50plus\",\"50plus\",\"46\",\"46\",\"46\",\"46\",\"21\",\"21\",\"21\",\"21\",\"50plus\",\"50plus\",\"36\",\"36\",\"36\",\"36\",\"21\",\"21\",\"21\",\"21\",\"21\",\"21\",\"31\",\"31\",\"31\",\"31\",\"21\",\"21\",\"21\",\"21\",\"36\",\"36\",\"36\",\"36\",\"26\",\"26\",\"26\",\"50plus\",\"31\",\"31\",\"36\",\"36\",\"36\",\"36\",\"36\",\"36\",\"31\",\"31\",\"31\",\"31\",\"31\",\"36\",\"36\",\"36\",\"36\",\"31\",\"31\",\"31\",\"below21\",\"below21\",\"below21\",\"below21\",\"below21\",\"31\",\"31\",\"50plus\",\"50plus\",\"50plus\",\"31\",\"31\",\"31\",\"31\",\"21\",\"21\",\"21\",\"21\",\"21\",\"21\",\"21\",\"21\",\"21\",\"21\",\"41\",\"41\",\"41\",\"41\",\"41\",\"26\",\"26\",\"26\",\"26\",\"21\",\"21\",\"21\",\"21\",\"36\",\"36\",\"36\",\"36\",\"36\",\"31\",\"31\",\"below21\",\"below21\",\"50plus\",\"50plus\",\"50plus\",\"50plus\",\"26\",\"26\",\"26\",\"26\",\"31\",\"31\",\"31\",\"31\",\"31\",\"31\",\"31\",\"31\",\"21\",\"21\",\"21\",\"26\",\"26\",\"41\",\"41\",\"21\",\"21\",\"21\",\"41\",\"41\",\"41\",\"31\",\"31\",\"31\",\"31\",\"31\",\"31\",\"31\",\"21\",\"21\",\"41\",\"41\",\"below21\",\"below21\",\"21\",\"31\",\"31\",\"31\",\"21\",\"21\",\"36\",\"46\",\"46\",\"36\",\"50plus\",\"50plus\",\"50plus\",\"21\",\"21\",\"21\",\"50plus\",\"below21\",\"26\",\"36\",\"31\",\"31\",\"31\",\"21\",\"36\",\"50plus\",\"50plus\",\"50plus\",\"31\",\"21\",\"21\",\"50plus\",\"31\",\"31\",\"41\",\"below21\",\"below21\",\"below21\",\"below21\",\"31\",\"36\",\"36\",\"36\",\"21\",\"21\",\"21\",\"41\",\"41\",\"41\",\"50plus\",\"21\",\"41\",\"36\",\"36\",\"36\",\"50plus\",\"50plus\",\"26\",\"21\",\"below21\",\"31\",\"50plus\",\"21\",\"21\",\"21\",\"46\",\"46\",\"46\",\"21\",\"21\",\"36\",\"31\",\"26\",\"26\",\"21\",\"50plus\",\"50plus\",\"50plus\",\"26\",\"50plus\",\"31\",\"31\",\"26\",\"31\",\"50plus\",\"41\",\"41\",\"26\",\"21\",\"50plus\",\"50plus\",\"21\",\"21\"],\"xaxis\":\"x\",\"yaxis\":\"y\",\"type\":\"histogram\"}],                        {\"template\":{\"data\":{\"histogram2dcontour\":[{\"type\":\"histogram2dcontour\",\"colorbar\":{\"outlinewidth\":0,\"ticks\":\"\"},\"colorscale\":[[0.0,\"#0d0887\"],[0.1111111111111111,\"#46039f\"],[0.2222222222222222,\"#7201a8\"],[0.3333333333333333,\"#9c179e\"],[0.4444444444444444,\"#bd3786\"],[0.5555555555555556,\"#d8576b\"],[0.6666666666666666,\"#ed7953\"],[0.7777777777777778,\"#fb9f3a\"],[0.8888888888888888,\"#fdca26\"],[1.0,\"#f0f921\"]]}],\"choropleth\":[{\"type\":\"choropleth\",\"colorbar\":{\"outlinewidth\":0,\"ticks\":\"\"}}],\"histogram2d\":[{\"type\":\"histogram2d\",\"colorbar\":{\"outlinewidth\":0,\"ticks\":\"\"},\"colorscale\":[[0.0,\"#0d0887\"],[0.1111111111111111,\"#46039f\"],[0.2222222222222222,\"#7201a8\"],[0.3333333333333333,\"#9c179e\"],[0.4444444444444444,\"#bd3786\"],[0.5555555555555556,\"#d8576b\"],[0.6666666666666666,\"#ed7953\"],[0.7777777777777778,\"#fb9f3a\"],[0.8888888888888888,\"#fdca26\"],[1.0,\"#f0f921\"]]}],\"heatmap\":[{\"type\":\"heatmap\",\"colorbar\":{\"outlinewidth\":0,\"ticks\":\"\"},\"colorscale\":[[0.0,\"#0d0887\"],[0.1111111111111111,\"#46039f\"],[0.2222222222222222,\"#7201a8\"],[0.3333333333333333,\"#9c179e\"],[0.4444444444444444,\"#bd3786\"],[0.5555555555555556,\"#d8576b\"],[0.6666666666666666,\"#ed7953\"],[0.7777777777777778,\"#fb9f3a\"],[0.8888888888888888,\"#fdca26\"],[1.0,\"#f0f921\"]]}],\"heatmapgl\":[{\"type\":\"heatmapgl\",\"colorbar\":{\"outlinewidth\":0,\"ticks\":\"\"},\"colorscale\":[[0.0,\"#0d0887\"],[0.1111111111111111,\"#46039f\"],[0.2222222222222222,\"#7201a8\"],[0.3333333333333333,\"#9c179e\"],[0.4444444444444444,\"#bd3786\"],[0.5555555555555556,\"#d8576b\"],[0.6666666666666666,\"#ed7953\"],[0.7777777777777778,\"#fb9f3a\"],[0.8888888888888888,\"#fdca26\"],[1.0,\"#f0f921\"]]}],\"contourcarpet\":[{\"type\":\"contourcarpet\",\"colorbar\":{\"outlinewidth\":0,\"ticks\":\"\"}}],\"contour\":[{\"type\":\"contour\",\"colorbar\":{\"outlinewidth\":0,\"ticks\":\"\"},\"colorscale\":[[0.0,\"#0d0887\"],[0.1111111111111111,\"#46039f\"],[0.2222222222222222,\"#7201a8\"],[0.3333333333333333,\"#9c179e\"],[0.4444444444444444,\"#bd3786\"],[0.5555555555555556,\"#d8576b\"],[0.6666666666666666,\"#ed7953\"],[0.7777777777777778,\"#fb9f3a\"],[0.8888888888888888,\"#fdca26\"],[1.0,\"#f0f921\"]]}],\"surface\":[{\"type\":\"surface\",\"colorbar\":{\"outlinewidth\":0,\"ticks\":\"\"},\"colorscale\":[[0.0,\"#0d0887\"],[0.1111111111111111,\"#46039f\"],[0.2222222222222222,\"#7201a8\"],[0.3333333333333333,\"#9c179e\"],[0.4444444444444444,\"#bd3786\"],[0.5555555555555556,\"#d8576b\"],[0.6666666666666666,\"#ed7953\"],[0.7777777777777778,\"#fb9f3a\"],[0.8888888888888888,\"#fdca26\"],[1.0,\"#f0f921\"]]}],\"mesh3d\":[{\"type\":\"mesh3d\",\"colorbar\":{\"outlinewidth\":0,\"ticks\":\"\"}}],\"scatter\":[{\"fillpattern\":{\"fillmode\":\"overlay\",\"size\":10,\"solidity\":0.2},\"type\":\"scatter\"}],\"parcoords\":[{\"type\":\"parcoords\",\"line\":{\"colorbar\":{\"outlinewidth\":0,\"ticks\":\"\"}}}],\"scatterpolargl\":[{\"type\":\"scatterpolargl\",\"marker\":{\"colorbar\":{\"outlinewidth\":0,\"ticks\":\"\"}}}],\"bar\":[{\"error_x\":{\"color\":\"#2a3f5f\"},\"error_y\":{\"color\":\"#2a3f5f\"},\"marker\":{\"line\":{\"color\":\"#E5ECF6\",\"width\":0.5},\"pattern\":{\"fillmode\":\"overlay\",\"size\":10,\"solidity\":0.2}},\"type\":\"bar\"}],\"scattergeo\":[{\"type\":\"scattergeo\",\"marker\":{\"colorbar\":{\"outlinewidth\":0,\"ticks\":\"\"}}}],\"scatterpolar\":[{\"type\":\"scatterpolar\",\"marker\":{\"colorbar\":{\"outlinewidth\":0,\"ticks\":\"\"}}}],\"histogram\":[{\"marker\":{\"pattern\":{\"fillmode\":\"overlay\",\"size\":10,\"solidity\":0.2}},\"type\":\"histogram\"}],\"scattergl\":[{\"type\":\"scattergl\",\"marker\":{\"colorbar\":{\"outlinewidth\":0,\"ticks\":\"\"}}}],\"scatter3d\":[{\"type\":\"scatter3d\",\"line\":{\"colorbar\":{\"outlinewidth\":0,\"ticks\":\"\"}},\"marker\":{\"colorbar\":{\"outlinewidth\":0,\"ticks\":\"\"}}}],\"scattermapbox\":[{\"type\":\"scattermapbox\",\"marker\":{\"colorbar\":{\"outlinewidth\":0,\"ticks\":\"\"}}}],\"scatterternary\":[{\"type\":\"scatterternary\",\"marker\":{\"colorbar\":{\"outlinewidth\":0,\"ticks\":\"\"}}}],\"scattercarpet\":[{\"type\":\"scattercarpet\",\"marker\":{\"colorbar\":{\"outlinewidth\":0,\"ticks\":\"\"}}}],\"carpet\":[{\"aaxis\":{\"endlinecolor\":\"#2a3f5f\",\"gridcolor\":\"white\",\"linecolor\":\"white\",\"minorgridcolor\":\"white\",\"startlinecolor\":\"#2a3f5f\"},\"baxis\":{\"endlinecolor\":\"#2a3f5f\",\"gridcolor\":\"white\",\"linecolor\":\"white\",\"minorgridcolor\":\"white\",\"startlinecolor\":\"#2a3f5f\"},\"type\":\"carpet\"}],\"table\":[{\"cells\":{\"fill\":{\"color\":\"#EBF0F8\"},\"line\":{\"color\":\"white\"}},\"header\":{\"fill\":{\"color\":\"#C8D4E3\"},\"line\":{\"color\":\"white\"}},\"type\":\"table\"}],\"barpolar\":[{\"marker\":{\"line\":{\"color\":\"#E5ECF6\",\"width\":0.5},\"pattern\":{\"fillmode\":\"overlay\",\"size\":10,\"solidity\":0.2}},\"type\":\"barpolar\"}],\"pie\":[{\"automargin\":true,\"type\":\"pie\"}]},\"layout\":{\"autotypenumbers\":\"strict\",\"colorway\":[\"#636efa\",\"#EF553B\",\"#00cc96\",\"#ab63fa\",\"#FFA15A\",\"#19d3f3\",\"#FF6692\",\"#B6E880\",\"#FF97FF\",\"#FECB52\"],\"font\":{\"color\":\"#2a3f5f\"},\"hovermode\":\"closest\",\"hoverlabel\":{\"align\":\"left\"},\"paper_bgcolor\":\"white\",\"plot_bgcolor\":\"#E5ECF6\",\"polar\":{\"bgcolor\":\"#E5ECF6\",\"angularaxis\":{\"gridcolor\":\"white\",\"linecolor\":\"white\",\"ticks\":\"\"},\"radialaxis\":{\"gridcolor\":\"white\",\"linecolor\":\"white\",\"ticks\":\"\"}},\"ternary\":{\"bgcolor\":\"#E5ECF6\",\"aaxis\":{\"gridcolor\":\"white\",\"linecolor\":\"white\",\"ticks\":\"\"},\"baxis\":{\"gridcolor\":\"white\",\"linecolor\":\"white\",\"ticks\":\"\"},\"caxis\":{\"gridcolor\":\"white\",\"linecolor\":\"white\",\"ticks\":\"\"}},\"coloraxis\":{\"colorbar\":{\"outlinewidth\":0,\"ticks\":\"\"}},\"colorscale\":{\"sequential\":[[0.0,\"#0d0887\"],[0.1111111111111111,\"#46039f\"],[0.2222222222222222,\"#7201a8\"],[0.3333333333333333,\"#9c179e\"],[0.4444444444444444,\"#bd3786\"],[0.5555555555555556,\"#d8576b\"],[0.6666666666666666,\"#ed7953\"],[0.7777777777777778,\"#fb9f3a\"],[0.8888888888888888,\"#fdca26\"],[1.0,\"#f0f921\"]],\"sequentialminus\":[[0.0,\"#0d0887\"],[0.1111111111111111,\"#46039f\"],[0.2222222222222222,\"#7201a8\"],[0.3333333333333333,\"#9c179e\"],[0.4444444444444444,\"#bd3786\"],[0.5555555555555556,\"#d8576b\"],[0.6666666666666666,\"#ed7953\"],[0.7777777777777778,\"#fb9f3a\"],[0.8888888888888888,\"#fdca26\"],[1.0,\"#f0f921\"]],\"diverging\":[[0,\"#8e0152\"],[0.1,\"#c51b7d\"],[0.2,\"#de77ae\"],[0.3,\"#f1b6da\"],[0.4,\"#fde0ef\"],[0.5,\"#f7f7f7\"],[0.6,\"#e6f5d0\"],[0.7,\"#b8e186\"],[0.8,\"#7fbc41\"],[0.9,\"#4d9221\"],[1,\"#276419\"]]},\"xaxis\":{\"gridcolor\":\"white\",\"linecolor\":\"white\",\"ticks\":\"\",\"title\":{\"standoff\":15},\"zerolinecolor\":\"white\",\"automargin\":true,\"zerolinewidth\":2},\"yaxis\":{\"gridcolor\":\"white\",\"linecolor\":\"white\",\"ticks\":\"\",\"title\":{\"standoff\":15},\"zerolinecolor\":\"white\",\"automargin\":true,\"zerolinewidth\":2},\"scene\":{\"xaxis\":{\"backgroundcolor\":\"#E5ECF6\",\"gridcolor\":\"white\",\"linecolor\":\"white\",\"showbackground\":true,\"ticks\":\"\",\"zerolinecolor\":\"white\",\"gridwidth\":2},\"yaxis\":{\"backgroundcolor\":\"#E5ECF6\",\"gridcolor\":\"white\",\"linecolor\":\"white\",\"showbackground\":true,\"ticks\":\"\",\"zerolinecolor\":\"white\",\"gridwidth\":2},\"zaxis\":{\"backgroundcolor\":\"#E5ECF6\",\"gridcolor\":\"white\",\"linecolor\":\"white\",\"showbackground\":true,\"ticks\":\"\",\"zerolinecolor\":\"white\",\"gridwidth\":2}},\"shapedefaults\":{\"line\":{\"color\":\"#2a3f5f\"}},\"annotationdefaults\":{\"arrowcolor\":\"#2a3f5f\",\"arrowhead\":0,\"arrowwidth\":1},\"geo\":{\"bgcolor\":\"white\",\"landcolor\":\"#E5ECF6\",\"subunitcolor\":\"white\",\"showland\":true,\"showlakes\":true,\"lakecolor\":\"white\"},\"title\":{\"x\":0.05},\"mapbox\":{\"style\":\"light\"}}},\"xaxis\":{\"anchor\":\"y\",\"domain\":[0.0,1.0],\"title\":{\"text\":\"age\"},\"categoryorder\":\"total ascending\"},\"yaxis\":{\"anchor\":\"x\",\"domain\":[0.0,1.0],\"title\":{\"text\":\"count\"}},\"legend\":{\"title\":{\"text\":\"Y\"},\"tracegroupgap\":0},\"margin\":{\"t\":60},\"barmode\":\"relative\"},                        {\"responsive\": true}                    ).then(function(){\n",
              "                            \n",
              "var gd = document.getElementById('a992e6cf-3f58-41dd-ad2e-99c401df5b68');\n",
              "var x = new MutationObserver(function (mutations, observer) {{\n",
              "        var display = window.getComputedStyle(gd).display;\n",
              "        if (!display || display === 'none') {{\n",
              "            console.log([gd, 'removed!']);\n",
              "            Plotly.purge(gd);\n",
              "            observer.disconnect();\n",
              "        }}\n",
              "}});\n",
              "\n",
              "// Listen for the removal of the full notebook cells\n",
              "var notebookContainer = gd.closest('#notebook-container');\n",
              "if (notebookContainer) {{\n",
              "    x.observe(notebookContainer, {childList: true});\n",
              "}}\n",
              "\n",
              "// Listen for the clearing of the current output cell\n",
              "var outputEl = gd.closest('.output');\n",
              "if (outputEl) {{\n",
              "    x.observe(outputEl, {childList: true});\n",
              "}}\n",
              "\n",
              "                        })                };                            </script>        </div>\n",
              "</body>\n",
              "</html>"
            ]
          },
          "metadata": {}
        }
      ]
    },
    {
      "cell_type": "code",
      "source": [
        "fig2 = px.histogram(coupons_coffee_house_df, x='occupation', color='Y', text_auto=True)\n",
        "fig2.update_xaxes(categoryorder='total ascending')\n",
        "fig2.show()"
      ],
      "metadata": {
        "colab": {
          "base_uri": "https://localhost:8080/",
          "height": 542
        },
        "id": "D47hRfaLGBGF",
        "outputId": "97a82fbc-a675-4911-b209-9e298651ac60"
      },
      "execution_count": 71,
      "outputs": [
        {
          "output_type": "display_data",
          "data": {
            "text/html": [
              "<html>\n",
              "<head><meta charset=\"utf-8\" /></head>\n",
              "<body>\n",
              "    <div>            <script src=\"https://cdnjs.cloudflare.com/ajax/libs/mathjax/2.7.5/MathJax.js?config=TeX-AMS-MML_SVG\"></script><script type=\"text/javascript\">if (window.MathJax && window.MathJax.Hub && window.MathJax.Hub.Config) {window.MathJax.Hub.Config({SVG: {font: \"STIX-Web\"}});}</script>                <script type=\"text/javascript\">window.PlotlyConfig = {MathJaxConfig: 'local'};</script>\n",
              "        <script charset=\"utf-8\" src=\"https://cdn.plot.ly/plotly-2.24.1.min.js\"></script>                <div id=\"b8917abc-9711-4b5d-85fd-08ff8ad02f50\" class=\"plotly-graph-div\" style=\"height:525px; width:100%;\"></div>            <script type=\"text/javascript\">                                    window.PLOTLYENV=window.PLOTLYENV || {};                                    if (document.getElementById(\"b8917abc-9711-4b5d-85fd-08ff8ad02f50\")) {                    Plotly.newPlot(                        \"b8917abc-9711-4b5d-85fd-08ff8ad02f50\",                        [{\"alignmentgroup\":\"True\",\"bingroup\":\"x\",\"hovertemplate\":\"Y=0\\u003cbr\\u003eoccupation=%{x}\\u003cbr\\u003ecount=%{y}\\u003cextra\\u003e\\u003c\\u002fextra\\u003e\",\"legendgroup\":\"0\",\"marker\":{\"color\":\"#636efa\",\"pattern\":{\"shape\":\"\"}},\"name\":\"0\",\"offsetgroup\":\"0\",\"orientation\":\"v\",\"showlegend\":true,\"texttemplate\":\"%{value}\",\"x\":[\"Unemployed\",\"Unemployed\",\"Unemployed\",\"Unemployed\",\"Architecture & Engineering\",\"Architecture & Engineering\",\"Architecture & Engineering\",\"Architecture & Engineering\",\"Architecture & Engineering\",\"Architecture & Engineering\",\"Architecture & Engineering\",\"Architecture & Engineering\",\"Architecture & Engineering\",\"Architecture & Engineering\",\"Student\",\"Student\",\"Student\",\"Student\",\"Student\",\"Education&Training&Library\",\"Education&Training&Library\",\"Education&Training&Library\",\"Student\",\"Student\",\"Student\",\"Student\",\"Student\",\"Unemployed\",\"Unemployed\",\"Unemployed\",\"Unemployed\",\"Healthcare Support\",\"Healthcare Support\",\"Healthcare Support\",\"Healthcare Support\",\"Healthcare Support\",\"Healthcare Support\",\"Healthcare Support\",\"Healthcare Support\",\"Sales & Related\",\"Sales & Related\",\"Sales & Related\",\"Sales & Related\",\"Sales & Related\",\"Sales & Related\",\"Sales & Related\",\"Sales & Related\",\"Sales & Related\",\"Sales & Related\",\"Management\",\"Management\",\"Unemployed\",\"Unemployed\",\"Unemployed\",\"Unemployed\",\"Unemployed\",\"Unemployed\",\"Unemployed\",\"Unemployed\",\"Unemployed\",\"Education&Training&Library\",\"Education&Training&Library\",\"Education&Training&Library\",\"Education&Training&Library\",\"Education&Training&Library\",\"Education&Training&Library\",\"Student\",\"Student\",\"Student\",\"Computer & Mathematical\",\"Computer & Mathematical\",\"Computer & Mathematical\",\"Computer & Mathematical\",\"Life Physical Social Science\",\"Life Physical Social Science\",\"Life Physical Social Science\",\"Life Physical Social Science\",\"Student\",\"Student\",\"Student\",\"Student\",\"Student\",\"Student\",\"Student\",\"Student\",\"Student\",\"Student\",\"Personal Care & Service\",\"Personal Care & Service\",\"Personal Care & Service\",\"Personal Care & Service\",\"Computer & Mathematical\",\"Computer & Mathematical\",\"Computer & Mathematical\",\"Computer & Mathematical\",\"Computer & Mathematical\",\"Computer & Mathematical\",\"Management\",\"Management\",\"Management\",\"Unemployed\",\"Community & Social Services\",\"Community & Social Services\",\"Community & Social Services\",\"Community & Social Services\",\"Community & Social Services\",\"Community & Social Services\",\"Community & Social Services\",\"Management\",\"Management\",\"Sales & Related\",\"Sales & Related\",\"Sales & Related\",\"Arts Design Entertainment Sports & Media\",\"Arts Design Entertainment Sports & Media\",\"Arts Design Entertainment Sports & Media\",\"Arts Design Entertainment Sports & Media\",\"Arts Design Entertainment Sports & Media\",\"Arts Design Entertainment Sports & Media\",\"Arts Design Entertainment Sports & Media\",\"Office & Administrative Support\",\"Office & Administrative Support\",\"Office & Administrative Support\",\"Office & Administrative Support\",\"Office & Administrative Support\",\"Office & Administrative Support\",\"Office & Administrative Support\",\"Office & Administrative Support\",\"Office & Administrative Support\",\"Office & Administrative Support\",\"Student\",\"Office & Administrative Support\",\"Office & Administrative Support\",\"Office & Administrative Support\",\"Office & Administrative Support\",\"Office & Administrative Support\",\"Construction & Extraction\",\"Construction & Extraction\",\"Construction & Extraction\",\"Construction & Extraction\",\"Construction & Extraction\",\"Construction & Extraction\",\"Construction & Extraction\",\"Construction & Extraction\",\"Management\",\"Management\",\"Management\",\"Management\",\"Management\",\"Management\",\"Education&Training&Library\",\"Education&Training&Library\",\"Education&Training&Library\",\"Education&Training&Library\",\"Education&Training&Library\",\"Education&Training&Library\",\"Education&Training&Library\",\"Education&Training&Library\",\"Sales & Related\",\"Sales & Related\",\"Sales & Related\",\"Sales & Related\",\"Sales & Related\",\"Healthcare Support\",\"Legal\",\"Legal\",\"Legal\",\"Sales & Related\",\"Sales & Related\",\"Sales & Related\",\"Sales & Related\",\"Sales & Related\",\"Sales & Related\",\"Computer & Mathematical\",\"Retired\",\"Retired\",\"Retired\",\"Retired\",\"Retired\",\"Community & Social Services\",\"Community & Social Services\",\"Community & Social Services\",\"Community & Social Services\",\"Community & Social Services\",\"Office & Administrative Support\",\"Office & Administrative Support\",\"Office & Administrative Support\",\"Office & Administrative Support\",\"Life Physical Social Science\",\"Life Physical Social Science\",\"Life Physical Social Science\",\"Life Physical Social Science\",\"Architecture & Engineering\",\"Architecture & Engineering\",\"Architecture & Engineering\",\"Healthcare Practitioners & Technical\",\"Healthcare Practitioners & Technical\",\"Healthcare Practitioners & Technical\",\"Arts Design Entertainment Sports & Media\",\"Arts Design Entertainment Sports & Media\",\"Arts Design Entertainment Sports & Media\",\"Arts Design Entertainment Sports & Media\",\"Arts Design Entertainment Sports & Media\",\"Arts Design Entertainment Sports & Media\",\"Retired\",\"Retired\",\"Retired\",\"Retired\",\"Retired\",\"Retired\",\"Retired\",\"Retired\",\"Retired\",\"Retired\",\"Retired\",\"Retired\",\"Retired\",\"Retired\",\"Retired\",\"Office & Administrative Support\",\"Office & Administrative Support\",\"Office & Administrative Support\",\"Office & Administrative Support\",\"Office & Administrative Support\",\"Arts Design Entertainment Sports & Media\",\"Arts Design Entertainment Sports & Media\",\"Arts Design Entertainment Sports & Media\",\"Arts Design Entertainment Sports & Media\",\"Arts Design Entertainment Sports & Media\",\"Arts Design Entertainment Sports & Media\",\"Unemployed\",\"Unemployed\",\"Unemployed\",\"Unemployed\",\"Unemployed\",\"Unemployed\",\"Unemployed\",\"Computer & Mathematical\",\"Computer & Mathematical\",\"Computer & Mathematical\",\"Computer & Mathematical\",\"Computer & Mathematical\",\"Computer & Mathematical\",\"Computer & Mathematical\",\"Computer & Mathematical\",\"Computer & Mathematical\",\"Computer & Mathematical\",\"Computer & Mathematical\",\"Computer & Mathematical\",\"Sales & Related\",\"Sales & Related\",\"Sales & Related\",\"Sales & Related\",\"Sales & Related\",\"Sales & Related\",\"Sales & Related\",\"Student\",\"Student\",\"Student\",\"Sales & Related\",\"Sales & Related\",\"Sales & Related\",\"Sales & Related\",\"Sales & Related\",\"Construction & Extraction\",\"Construction & Extraction\",\"Construction & Extraction\",\"Construction & Extraction\",\"Construction & Extraction\",\"Construction & Extraction\",\"Construction & Extraction\",\"Construction & Extraction\",\"Retired\",\"Retired\",\"Retired\",\"Retired\",\"Retired\",\"Retired\",\"Retired\",\"Student\",\"Sales & Related\",\"Sales & Related\",\"Sales & Related\",\"Sales & Related\",\"Sales & Related\",\"Sales & Related\",\"Sales & Related\",\"Sales & Related\",\"Retired\",\"Retired\",\"Retired\",\"Retired\",\"Retired\",\"Education&Training&Library\",\"Education&Training&Library\",\"Education&Training&Library\",\"Education&Training&Library\",\"Education&Training&Library\",\"Sales & Related\",\"Sales & Related\",\"Sales & Related\",\"Sales & Related\",\"Sales & Related\",\"Sales & Related\",\"Sales & Related\",\"Sales & Related\",\"Sales & Related\",\"Sales & Related\",\"Management\",\"Management\",\"Management\",\"Retired\",\"Retired\",\"Legal\",\"Legal\",\"Legal\",\"Legal\",\"Legal\",\"Arts Design Entertainment Sports & Media\",\"Arts Design Entertainment Sports & Media\",\"Arts Design Entertainment Sports & Media\",\"Arts Design Entertainment Sports & Media\",\"Arts Design Entertainment Sports & Media\",\"Arts Design Entertainment Sports & Media\",\"Computer & Mathematical\",\"Computer & Mathematical\",\"Computer & Mathematical\",\"Computer & Mathematical\",\"Computer & Mathematical\",\"Computer & Mathematical\",\"Computer & Mathematical\",\"Computer & Mathematical\",\"Computer & Mathematical\",\"Computer & Mathematical\",\"Architecture & Engineering\",\"Architecture & Engineering\",\"Architecture & Engineering\",\"Architecture & Engineering\",\"Unemployed\",\"Unemployed\",\"Personal Care & Service\",\"Personal Care & Service\",\"Personal Care & Service\",\"Personal Care & Service\",\"Personal Care & Service\",\"Personal Care & Service\",\"Personal Care & Service\",\"Management\",\"Management\",\"Management\",\"Management\",\"Unemployed\",\"Unemployed\",\"Unemployed\",\"Unemployed\",\"Unemployed\",\"Computer & Mathematical\",\"Computer & Mathematical\",\"Computer & Mathematical\",\"Computer & Mathematical\",\"Computer & Mathematical\",\"Computer & Mathematical\",\"Computer & Mathematical\",\"Computer & Mathematical\",\"Education&Training&Library\",\"Education&Training&Library\",\"Student\",\"Student\",\"Student\",\"Student\",\"Unemployed\",\"Retired\",\"Retired\",\"Retired\",\"Retired\",\"Retired\",\"Architecture & Engineering\",\"Architecture & Engineering\",\"Architecture & Engineering\",\"Architecture & Engineering\",\"Student\",\"Student\",\"Unemployed\",\"Unemployed\",\"Unemployed\",\"Unemployed\",\"Transportation & Material Moving\",\"Transportation & Material Moving\",\"Education&Training&Library\",\"Education&Training&Library\",\"Education&Training&Library\",\"Education&Training&Library\",\"Education&Training&Library\",\"Education&Training&Library\",\"Management\",\"Management\",\"Management\",\"Management\",\"Management\",\"Management\",\"Management\",\"Management\",\"Legal\",\"Legal\",\"Legal\",\"Legal\",\"Legal\",\"Legal\",\"Legal\",\"Management\",\"Management\",\"Management\",\"Management\",\"Arts Design Entertainment Sports & Media\",\"Arts Design Entertainment Sports & Media\",\"Arts Design Entertainment Sports & Media\",\"Arts Design Entertainment Sports & Media\",\"Student\",\"Student\",\"Student\",\"Student\",\"Unemployed\",\"Unemployed\",\"Life Physical Social Science\",\"Life Physical Social Science\",\"Life Physical Social Science\",\"Business & Financial\",\"Student\",\"Student\",\"Sales & Related\",\"Sales & Related\",\"Sales & Related\",\"Sales & Related\",\"Sales & Related\",\"Sales & Related\",\"Sales & Related\",\"Sales & Related\",\"Protective Service\",\"Protective Service\",\"Protective Service\",\"Protective Service\",\"Protective Service\",\"Protective Service\",\"Management\",\"Management\",\"Management\",\"Management\",\"Management\",\"Management\",\"Management\",\"Computer & Mathematical\",\"Computer & Mathematical\",\"Computer & Mathematical\",\"Computer & Mathematical\",\"Computer & Mathematical\",\"Computer & Mathematical\",\"Computer & Mathematical\",\"Computer & Mathematical\",\"Computer & Mathematical\",\"Computer & Mathematical\",\"Office & Administrative Support\",\"Office & Administrative Support\",\"Office & Administrative Support\",\"Office & Administrative Support\",\"Computer & Mathematical\",\"Computer & Mathematical\",\"Sales & Related\",\"Sales & Related\",\"Sales & Related\",\"Sales & Related\",\"Sales & Related\",\"Sales & Related\",\"Sales & Related\",\"Sales & Related\",\"Education&Training&Library\",\"Education&Training&Library\",\"Education&Training&Library\",\"Education&Training&Library\",\"Education&Training&Library\",\"Management\",\"Management\",\"Management\",\"Management\",\"Management\",\"Management\",\"Management\",\"Management\",\"Management\",\"Management\",\"Computer & Mathematical\",\"Computer & Mathematical\",\"Computer & Mathematical\",\"Transportation & Material Moving\",\"Transportation & Material Moving\",\"Transportation & Material Moving\",\"Transportation & Material Moving\",\"Transportation & Material Moving\",\"Transportation & Material Moving\",\"Transportation & Material Moving\",\"Arts Design Entertainment Sports & Media\",\"Arts Design Entertainment Sports & Media\",\"Management\",\"Management\",\"Unemployed\",\"Unemployed\",\"Unemployed\",\"Management\",\"Management\",\"Management\",\"Management\",\"Management\",\"Management\",\"Management\",\"Management\",\"Student\",\"Management\",\"Education&Training&Library\",\"Education&Training&Library\",\"Education&Training&Library\",\"Education&Training&Library\",\"Education&Training&Library\",\"Education&Training&Library\",\"Office & Administrative Support\",\"Office & Administrative Support\",\"Office & Administrative Support\",\"Legal\",\"Legal\",\"Legal\",\"Management\",\"Management\",\"Management\",\"Management\",\"Management\",\"Management\",\"Management\",\"Architecture & Engineering\",\"Transportation & Material Moving\",\"Education&Training&Library\",\"Education&Training&Library\",\"Education&Training&Library\",\"Education&Training&Library\",\"Computer & Mathematical\",\"Computer & Mathematical\",\"Computer & Mathematical\",\"Computer & Mathematical\",\"Computer & Mathematical\",\"Computer & Mathematical\",\"Computer & Mathematical\",\"Sales & Related\",\"Sales & Related\",\"Sales & Related\",\"Sales & Related\",\"Sales & Related\",\"Sales & Related\",\"Sales & Related\",\"Sales & Related\",\"Sales & Related\",\"Sales & Related\",\"Education&Training&Library\",\"Education&Training&Library\",\"Education&Training&Library\",\"Education&Training&Library\",\"Education&Training&Library\",\"Education&Training&Library\",\"Education&Training&Library\",\"Unemployed\",\"Unemployed\",\"Student\",\"Life Physical Social Science\",\"Life Physical Social Science\",\"Life Physical Social Science\",\"Life Physical Social Science\",\"Life Physical Social Science\",\"Life Physical Social Science\",\"Life Physical Social Science\",\"Student\",\"Student\",\"Student\",\"Student\",\"Student\",\"Student\",\"Student\",\"Business & Financial\",\"Education&Training&Library\",\"Education&Training&Library\",\"Education&Training&Library\",\"Computer & Mathematical\",\"Business & Financial\",\"Business & Financial\",\"Business & Financial\",\"Business & Financial\",\"Computer & Mathematical\",\"Computer & Mathematical\",\"Computer & Mathematical\",\"Computer & Mathematical\",\"Computer & Mathematical\",\"Computer & Mathematical\",\"Computer & Mathematical\",\"Computer & Mathematical\",\"Protective Service\",\"Protective Service\",\"Protective Service\",\"Protective Service\",\"Protective Service\",\"Protective Service\",\"Food Preparation & Serving Related\",\"Food Preparation & Serving Related\",\"Food Preparation & Serving Related\",\"Food Preparation & Serving Related\",\"Food Preparation & Serving Related\",\"Food Preparation & Serving Related\",\"Food Preparation & Serving Related\",\"Student\",\"Student\",\"Student\",\"Student\",\"Student\",\"Student\",\"Student\",\"Student\",\"Student\",\"Student\",\"Computer & Mathematical\",\"Computer & Mathematical\",\"Computer & Mathematical\",\"Unemployed\",\"Unemployed\",\"Unemployed\",\"Unemployed\",\"Unemployed\",\"Unemployed\",\"Unemployed\",\"Unemployed\",\"Computer & Mathematical\",\"Installation Maintenance & Repair\",\"Installation Maintenance & Repair\",\"Installation Maintenance & Repair\",\"Installation Maintenance & Repair\",\"Installation Maintenance & Repair\",\"Installation Maintenance & Repair\",\"Installation Maintenance & Repair\",\"Installation Maintenance & Repair\",\"Installation Maintenance & Repair\",\"Installation Maintenance & Repair\",\"Unemployed\",\"Management\",\"Management\",\"Management\",\"Management\",\"Retired\",\"Retired\",\"Retired\",\"Retired\",\"Retired\",\"Retired\",\"Retired\",\"Retired\",\"Arts Design Entertainment Sports & Media\",\"Arts Design Entertainment Sports & Media\",\"Arts Design Entertainment Sports & Media\",\"Arts Design Entertainment Sports & Media\",\"Arts Design Entertainment Sports & Media\",\"Arts Design Entertainment Sports & Media\",\"Business & Financial\",\"Business & Financial\",\"Business & Financial\",\"Business & Financial\",\"Business & Financial\",\"Business & Financial\",\"Unemployed\",\"Unemployed\",\"Unemployed\",\"Computer & Mathematical\",\"Computer & Mathematical\",\"Computer & Mathematical\",\"Computer & Mathematical\",\"Student\",\"Student\",\"Student\",\"Student\",\"Student\",\"Student\",\"Life Physical Social Science\",\"Life Physical Social Science\",\"Life Physical Social Science\",\"Life Physical Social Science\",\"Business & Financial\",\"Business & Financial\",\"Business & Financial\",\"Business & Financial\",\"Business & Financial\",\"Business & Financial\",\"Computer & Mathematical\",\"Sales & Related\",\"Sales & Related\",\"Sales & Related\",\"Protective Service\",\"Protective Service\",\"Protective Service\",\"Protective Service\",\"Protective Service\",\"Arts Design Entertainment Sports & Media\",\"Arts Design Entertainment Sports & Media\",\"Office & Administrative Support\",\"Office & Administrative Support\",\"Office & Administrative Support\",\"Office & Administrative Support\",\"Student\",\"Student\",\"Student\",\"Student\",\"Student\",\"Unemployed\",\"Unemployed\",\"Unemployed\",\"Unemployed\",\"Unemployed\",\"Unemployed\",\"Protective Service\",\"Protective Service\",\"Protective Service\",\"Protective Service\",\"Student\",\"Student\",\"Student\",\"Student\",\"Arts Design Entertainment Sports & Media\",\"Arts Design Entertainment Sports & Media\",\"Arts Design Entertainment Sports & Media\",\"Arts Design Entertainment Sports & Media\",\"Arts Design Entertainment Sports & Media\",\"Management\",\"Management\",\"Retired\",\"Retired\",\"Retired\",\"Retired\",\"Retired\",\"Retired\",\"Retired\",\"Retired\",\"Retired\",\"Student\",\"Sales & Related\",\"Life Physical Social Science\",\"Life Physical Social Science\",\"Life Physical Social Science\",\"Business & Financial\",\"Business & Financial\",\"Sales & Related\",\"Sales & Related\",\"Sales & Related\",\"Sales & Related\",\"Sales & Related\",\"Sales & Related\",\"Food Preparation & Serving Related\",\"Management\",\"Management\",\"Management\",\"Management\",\"Food Preparation & Serving Related\",\"Food Preparation & Serving Related\",\"Food Preparation & Serving Related\",\"Education&Training&Library\",\"Education&Training&Library\",\"Education&Training&Library\",\"Education&Training&Library\",\"Education&Training&Library\",\"Education&Training&Library\",\"Education&Training&Library\",\"Education&Training&Library\",\"Arts Design Entertainment Sports & Media\",\"Arts Design Entertainment Sports & Media\",\"Arts Design Entertainment Sports & Media\",\"Arts Design Entertainment Sports & Media\",\"Arts Design Entertainment Sports & Media\",\"Arts Design Entertainment Sports & Media\",\"Sales & Related\",\"Sales & Related\",\"Sales & Related\",\"Sales & Related\",\"Sales & Related\",\"Sales & Related\",\"Sales & Related\",\"Sales & Related\",\"Sales & Related\",\"Sales & Related\",\"Healthcare Practitioners & Technical\",\"Healthcare Practitioners & Technical\",\"Healthcare Practitioners & Technical\",\"Computer & Mathematical\",\"Computer & Mathematical\",\"Computer & Mathematical\",\"Computer & Mathematical\",\"Computer & Mathematical\",\"Computer & Mathematical\",\"Computer & Mathematical\",\"Computer & Mathematical\",\"Computer & Mathematical\",\"Computer & Mathematical\",\"Arts Design Entertainment Sports & Media\",\"Arts Design Entertainment Sports & Media\",\"Arts Design Entertainment Sports & Media\",\"Arts Design Entertainment Sports & Media\",\"Arts Design Entertainment Sports & Media\",\"Arts Design Entertainment Sports & Media\",\"Arts Design Entertainment Sports & Media\",\"Arts Design Entertainment Sports & Media\",\"Arts Design Entertainment Sports & Media\",\"Arts Design Entertainment Sports & Media\",\"Computer & Mathematical\",\"Computer & Mathematical\",\"Computer & Mathematical\",\"Computer & Mathematical\",\"Computer & Mathematical\",\"Arts Design Entertainment Sports & Media\",\"Arts Design Entertainment Sports & Media\",\"Business & Financial\",\"Business & Financial\",\"Business & Financial\",\"Business & Financial\",\"Business & Financial\",\"Business & Financial\",\"Business & Financial\",\"Business & Financial\",\"Business & Financial\",\"Business & Financial\",\"Education&Training&Library\",\"Education&Training&Library\",\"Education&Training&Library\",\"Management\",\"Management\",\"Sales & Related\",\"Sales & Related\",\"Sales & Related\",\"Sales & Related\",\"Sales & Related\",\"Sales & Related\",\"Sales & Related\",\"Sales & Related\",\"Sales & Related\",\"Sales & Related\",\"Sales & Related\",\"Computer & Mathematical\",\"Computer & Mathematical\",\"Computer & Mathematical\",\"Computer & Mathematical\",\"Computer & Mathematical\",\"Computer & Mathematical\",\"Computer & Mathematical\",\"Computer & Mathematical\",\"Computer & Mathematical\",\"Computer & Mathematical\",\"Student\",\"Student\",\"Student\",\"Student\",\"Student\",\"Student\",\"Student\",\"Student\",\"Student\",\"Student\",\"Computer & Mathematical\",\"Computer & Mathematical\",\"Computer & Mathematical\",\"Computer & Mathematical\",\"Computer & Mathematical\",\"Computer & Mathematical\",\"Computer & Mathematical\",\"Computer & Mathematical\",\"Computer & Mathematical\",\"Computer & Mathematical\",\"Unemployed\",\"Unemployed\",\"Unemployed\",\"Unemployed\",\"Unemployed\",\"Unemployed\",\"Unemployed\",\"Unemployed\",\"Unemployed\",\"Unemployed\",\"Unemployed\",\"Unemployed\",\"Unemployed\",\"Unemployed\",\"Unemployed\",\"Unemployed\",\"Unemployed\",\"Unemployed\",\"Computer & Mathematical\",\"Computer & Mathematical\",\"Computer & Mathematical\",\"Computer & Mathematical\",\"Computer & Mathematical\",\"Computer & Mathematical\",\"Student\",\"Student\",\"Student\",\"Student\",\"Student\",\"Education&Training&Library\",\"Education&Training&Library\",\"Education&Training&Library\",\"Education&Training&Library\",\"Education&Training&Library\",\"Education&Training&Library\",\"Education&Training&Library\",\"Education&Training&Library\",\"Education&Training&Library\",\"Protective Service\",\"Protective Service\",\"Protective Service\",\"Protective Service\",\"Protective Service\",\"Protective Service\",\"Sales & Related\",\"Sales & Related\",\"Sales & Related\",\"Sales & Related\",\"Sales & Related\",\"Sales & Related\",\"Sales & Related\",\"Sales & Related\",\"Unemployed\",\"Unemployed\",\"Unemployed\",\"Unemployed\",\"Unemployed\",\"Unemployed\",\"Unemployed\",\"Unemployed\",\"Unemployed\",\"Unemployed\",\"Unemployed\",\"Student\",\"Student\",\"Student\",\"Student\",\"Student\",\"Life Physical Social Science\",\"Life Physical Social Science\",\"Life Physical Social Science\",\"Life Physical Social Science\",\"Life Physical Social Science\",\"Life Physical Social Science\",\"Computer & Mathematical\",\"Computer & Mathematical\",\"Computer & Mathematical\",\"Computer & Mathematical\",\"Computer & Mathematical\",\"Computer & Mathematical\",\"Computer & Mathematical\",\"Computer & Mathematical\",\"Computer & Mathematical\",\"Computer & Mathematical\",\"Computer & Mathematical\",\"Student\",\"Education&Training&Library\",\"Education&Training&Library\",\"Education&Training&Library\",\"Education&Training&Library\",\"Education&Training&Library\",\"Education&Training&Library\",\"Education&Training&Library\",\"Education&Training&Library\",\"Unemployed\",\"Unemployed\",\"Legal\",\"Legal\",\"Legal\",\"Personal Care & Service\",\"Personal Care & Service\",\"Personal Care & Service\",\"Personal Care & Service\",\"Personal Care & Service\",\"Personal Care & Service\",\"Office & Administrative Support\",\"Office & Administrative Support\",\"Office & Administrative Support\",\"Office & Administrative Support\",\"Education&Training&Library\",\"Education&Training&Library\",\"Education&Training&Library\",\"Education&Training&Library\",\"Education&Training&Library\",\"Education&Training&Library\",\"Education&Training&Library\",\"Education&Training&Library\",\"Education&Training&Library\",\"Education&Training&Library\",\"Education&Training&Library\",\"Education&Training&Library\",\"Education&Training&Library\",\"Student\",\"Student\",\"Sales & Related\",\"Sales & Related\",\"Sales & Related\",\"Sales & Related\",\"Student\",\"Student\",\"Student\",\"Student\",\"Community & Social Services\",\"Community & Social Services\",\"Community & Social Services\",\"Community & Social Services\",\"Community & Social Services\",\"Community & Social Services\",\"Community & Social Services\",\"Community & Social Services\",\"Community & Social Services\",\"Student\",\"Student\",\"Student\",\"Student\",\"Student\",\"Retired\",\"Retired\",\"Retired\",\"Retired\",\"Retired\",\"Retired\",\"Retired\",\"Retired\",\"Unemployed\",\"Unemployed\",\"Unemployed\",\"Unemployed\",\"Unemployed\",\"Unemployed\",\"Unemployed\",\"Student\",\"Student\",\"Student\",\"Student\",\"Community & Social Services\",\"Sales & Related\",\"Sales & Related\",\"Sales & Related\",\"Sales & Related\",\"Management\",\"Management\",\"Management\",\"Management\",\"Management\",\"Management\",\"Arts Design Entertainment Sports & Media\",\"Food Preparation & Serving Related\",\"Food Preparation & Serving Related\",\"Food Preparation & Serving Related\",\"Food Preparation & Serving Related\",\"Food Preparation & Serving Related\",\"Food Preparation & Serving Related\",\"Food Preparation & Serving Related\",\"Food Preparation & Serving Related\",\"Food Preparation & Serving Related\",\"Food Preparation & Serving Related\",\"Production Occupations\",\"Production Occupations\",\"Production Occupations\",\"Production Occupations\",\"Production Occupations\",\"Production Occupations\",\"Production Occupations\",\"Production Occupations\",\"Sales & Related\",\"Sales & Related\",\"Unemployed\",\"Unemployed\",\"Unemployed\",\"Unemployed\",\"Unemployed\",\"Unemployed\",\"Unemployed\",\"Unemployed\",\"Unemployed\",\"Unemployed\",\"Unemployed\",\"Unemployed\",\"Unemployed\",\"Unemployed\",\"Unemployed\",\"Unemployed\",\"Unemployed\",\"Unemployed\",\"Unemployed\",\"Student\",\"Student\",\"Student\",\"Student\",\"Student\",\"Student\",\"Student\",\"Student\",\"Student\",\"Student\",\"Student\",\"Student\",\"Student\",\"Student\",\"Arts Design Entertainment Sports & Media\",\"Arts Design Entertainment Sports & Media\",\"Arts Design Entertainment Sports & Media\",\"Education&Training&Library\",\"Education&Training&Library\",\"Education&Training&Library\",\"Education&Training&Library\",\"Education&Training&Library\",\"Education&Training&Library\",\"Education&Training&Library\",\"Education&Training&Library\",\"Management\",\"Management\",\"Management\",\"Management\",\"Management\",\"Management\",\"Management\",\"Management\",\"Management\",\"Management\",\"Education&Training&Library\",\"Education&Training&Library\",\"Education&Training&Library\",\"Education&Training&Library\",\"Education&Training&Library\",\"Legal\",\"Legal\",\"Legal\",\"Legal\",\"Legal\",\"Legal\",\"Legal\",\"Legal\",\"Legal\",\"Legal\",\"Legal\",\"Retired\",\"Transportation & Material Moving\",\"Transportation & Material Moving\",\"Transportation & Material Moving\",\"Transportation & Material Moving\",\"Business & Financial\",\"Business & Financial\",\"Business & Financial\",\"Business & Financial\",\"Business & Financial\",\"Business & Financial\",\"Business & Financial\",\"Business & Financial\",\"Business & Financial\",\"Business & Financial\",\"Business & Financial\",\"Student\",\"Student\",\"Student\",\"Office & Administrative Support\",\"Office & Administrative Support\",\"Office & Administrative Support\",\"Office & Administrative Support\",\"Office & Administrative Support\",\"Office & Administrative Support\",\"Office & Administrative Support\",\"Office & Administrative Support\",\"Business & Financial\",\"Business & Financial\",\"Business & Financial\",\"Education&Training&Library\",\"Education&Training&Library\",\"Education&Training&Library\",\"Education&Training&Library\",\"Education&Training&Library\",\"Education&Training&Library\",\"Personal Care & Service\",\"Personal Care & Service\",\"Personal Care & Service\",\"Unemployed\",\"Unemployed\",\"Unemployed\",\"Unemployed\",\"Unemployed\",\"Unemployed\",\"Sales & Related\",\"Sales & Related\",\"Sales & Related\",\"Sales & Related\",\"Sales & Related\",\"Sales & Related\",\"Sales & Related\",\"Business & Financial\",\"Business & Financial\",\"Business & Financial\",\"Business & Financial\",\"Business & Financial\",\"Business & Financial\",\"Business & Financial\",\"Business & Financial\",\"Education&Training&Library\",\"Education&Training&Library\",\"Education&Training&Library\",\"Education&Training&Library\",\"Education&Training&Library\",\"Education&Training&Library\",\"Education&Training&Library\",\"Education&Training&Library\",\"Education&Training&Library\",\"Education&Training&Library\",\"Education&Training&Library\",\"Management\",\"Management\",\"Management\",\"Management\",\"Management\",\"Management\",\"Management\",\"Education&Training&Library\",\"Transportation & Material Moving\",\"Transportation & Material Moving\",\"Transportation & Material Moving\",\"Transportation & Material Moving\",\"Transportation & Material Moving\",\"Transportation & Material Moving\",\"Transportation & Material Moving\",\"Transportation & Material Moving\",\"Student\",\"Student\",\"Management\",\"Management\",\"Management\",\"Education&Training&Library\",\"Education&Training&Library\",\"Production Occupations\",\"Production Occupations\",\"Production Occupations\",\"Production Occupations\",\"Production Occupations\",\"Production Occupations\",\"Production Occupations\",\"Student\",\"Unemployed\",\"Student\",\"Student\",\"Student\",\"Student\",\"Computer & Mathematical\",\"Sales & Related\",\"Sales & Related\",\"Sales & Related\",\"Sales & Related\",\"Sales & Related\",\"Management\",\"Management\",\"Management\",\"Management\",\"Management\",\"Management\",\"Management\",\"Management\",\"Management\",\"Management\",\"Management\",\"Architecture & Engineering\",\"Architecture & Engineering\",\"Architecture & Engineering\",\"Architecture & Engineering\",\"Arts Design Entertainment Sports & Media\",\"Arts Design Entertainment Sports & Media\",\"Community & Social Services\",\"Community & Social Services\",\"Community & Social Services\",\"Community & Social Services\",\"Community & Social Services\",\"Community & Social Services\",\"Community & Social Services\",\"Community & Social Services\",\"Community & Social Services\",\"Community & Social Services\",\"Management\",\"Management\",\"Management\",\"Management\",\"Management\",\"Management\",\"Management\",\"Management\",\"Management\",\"Management\",\"Unemployed\",\"Unemployed\",\"Unemployed\",\"Unemployed\",\"Unemployed\",\"Unemployed\",\"Unemployed\",\"Unemployed\",\"Unemployed\",\"Unemployed\",\"Unemployed\",\"Unemployed\",\"Sales & Related\",\"Sales & Related\",\"Retired\",\"Retired\",\"Retired\",\"Retired\",\"Retired\",\"Retired\",\"Unemployed\",\"Unemployed\",\"Unemployed\",\"Management\",\"Management\",\"Management\",\"Unemployed\",\"Unemployed\",\"Unemployed\",\"Unemployed\",\"Unemployed\",\"Food Preparation & Serving Related\",\"Food Preparation & Serving Related\",\"Food Preparation & Serving Related\",\"Food Preparation & Serving Related\",\"Food Preparation & Serving Related\",\"Food Preparation & Serving Related\",\"Food Preparation & Serving Related\",\"Food Preparation & Serving Related\",\"Food Preparation & Serving Related\",\"Food Preparation & Serving Related\",\"Food Preparation & Serving Related\",\"Computer & Mathematical\",\"Computer & Mathematical\",\"Computer & Mathematical\",\"Computer & Mathematical\",\"Computer & Mathematical\",\"Computer & Mathematical\",\"Computer & Mathematical\",\"Computer & Mathematical\",\"Computer & Mathematical\",\"Computer & Mathematical\",\"Computer & Mathematical\",\"Retired\",\"Retired\",\"Retired\",\"Sales & Related\",\"Sales & Related\",\"Sales & Related\",\"Sales & Related\",\"Sales & Related\",\"Computer & Mathematical\",\"Computer & Mathematical\",\"Computer & Mathematical\",\"Computer & Mathematical\",\"Arts Design Entertainment Sports & Media\",\"Arts Design Entertainment Sports & Media\",\"Arts Design Entertainment Sports & Media\",\"Arts Design Entertainment Sports & Media\",\"Arts Design Entertainment Sports & Media\",\"Arts Design Entertainment Sports & Media\",\"Arts Design Entertainment Sports & Media\",\"Arts Design Entertainment Sports & Media\",\"Computer & Mathematical\",\"Computer & Mathematical\",\"Computer & Mathematical\",\"Computer & Mathematical\",\"Computer & Mathematical\",\"Computer & Mathematical\",\"Computer & Mathematical\",\"Computer & Mathematical\",\"Computer & Mathematical\",\"Computer & Mathematical\",\"Computer & Mathematical\",\"Computer & Mathematical\",\"Student\",\"Student\",\"Student\",\"Student\",\"Student\",\"Student\",\"Student\",\"Management\",\"Management\",\"Management\",\"Management\",\"Management\",\"Management\",\"Unemployed\",\"Unemployed\",\"Unemployed\",\"Unemployed\",\"Unemployed\",\"Office & Administrative Support\",\"Office & Administrative Support\",\"Office & Administrative Support\",\"Office & Administrative Support\",\"Office & Administrative Support\",\"Office & Administrative Support\",\"Office & Administrative Support\",\"Office & Administrative Support\",\"Unemployed\",\"Sales & Related\",\"Sales & Related\",\"Sales & Related\",\"Sales & Related\",\"Sales & Related\",\"Sales & Related\",\"Sales & Related\",\"Sales & Related\",\"Student\",\"Community & Social Services\",\"Community & Social Services\",\"Office & Administrative Support\",\"Office & Administrative Support\",\"Office & Administrative Support\",\"Office & Administrative Support\",\"Office & Administrative Support\",\"Office & Administrative Support\",\"Office & Administrative Support\",\"Office & Administrative Support\",\"Management\",\"Management\",\"Management\",\"Management\",\"Management\",\"Sales & Related\",\"Sales & Related\",\"Sales & Related\",\"Sales & Related\",\"Sales & Related\",\"Sales & Related\",\"Sales & Related\",\"Sales & Related\",\"Sales & Related\",\"Business & Financial\",\"Business & Financial\",\"Transportation & Material Moving\",\"Student\",\"Student\",\"Student\",\"Unemployed\",\"Unemployed\",\"Unemployed\",\"Unemployed\",\"Unemployed\",\"Unemployed\",\"Unemployed\",\"Unemployed\",\"Unemployed\",\"Unemployed\",\"Arts Design Entertainment Sports & Media\",\"Arts Design Entertainment Sports & Media\",\"Arts Design Entertainment Sports & Media\",\"Unemployed\",\"Unemployed\",\"Unemployed\",\"Unemployed\",\"Unemployed\",\"Unemployed\",\"Unemployed\",\"Unemployed\",\"Unemployed\",\"Unemployed\",\"Unemployed\",\"Unemployed\",\"Business & Financial\",\"Computer & Mathematical\",\"Computer & Mathematical\",\"Computer & Mathematical\",\"Computer & Mathematical\",\"Computer & Mathematical\",\"Education&Training&Library\",\"Education&Training&Library\",\"Retired\",\"Retired\",\"Building & Grounds Cleaning & Maintenance\",\"Building & Grounds Cleaning & Maintenance\",\"Transportation & Material Moving\",\"Transportation & Material Moving\",\"Education&Training&Library\",\"Education&Training&Library\",\"Education&Training&Library\",\"Education&Training&Library\",\"Personal Care & Service\",\"Personal Care & Service\",\"Personal Care & Service\",\"Construction & Extraction\",\"Construction & Extraction\",\"Construction & Extraction\",\"Construction & Extraction\",\"Arts Design Entertainment Sports & Media\",\"Unemployed\",\"Unemployed\",\"Unemployed\",\"Unemployed\",\"Unemployed\",\"Sales & Related\",\"Sales & Related\",\"Sales & Related\",\"Sales & Related\",\"Sales & Related\",\"Sales & Related\",\"Office & Administrative Support\",\"Office & Administrative Support\",\"Office & Administrative Support\",\"Office & Administrative Support\",\"Office & Administrative Support\",\"Office & Administrative Support\",\"Office & Administrative Support\",\"Building & Grounds Cleaning & Maintenance\",\"Education&Training&Library\",\"Student\",\"Management\",\"Management\",\"Computer & Mathematical\",\"Computer & Mathematical\",\"Computer & Mathematical\",\"Sales & Related\",\"Sales & Related\",\"Sales & Related\",\"Life Physical Social Science\",\"Unemployed\",\"Unemployed\",\"Unemployed\",\"Unemployed\",\"Unemployed\",\"Unemployed\",\"Healthcare Practitioners & Technical\",\"Healthcare Practitioners & Technical\",\"Healthcare Practitioners & Technical\",\"Healthcare Practitioners & Technical\",\"Arts Design Entertainment Sports & Media\",\"Healthcare Support\",\"Healthcare Support\",\"Healthcare Support\",\"Healthcare Support\",\"Healthcare Support\",\"Transportation & Material Moving\",\"Transportation & Material Moving\",\"Transportation & Material Moving\",\"Retired\",\"Retired\",\"Retired\",\"Construction & Extraction\",\"Construction & Extraction\",\"Retired\",\"Retired\",\"Retired\",\"Retired\",\"Unemployed\",\"Unemployed\",\"Unemployed\",\"Unemployed\",\"Sales & Related\",\"Sales & Related\",\"Sales & Related\",\"Sales & Related\",\"Business & Financial\",\"Business & Financial\",\"Business & Financial\",\"Business & Financial\",\"Business & Financial\",\"Unemployed\",\"Management\",\"Management\",\"Management\",\"Management\",\"Unemployed\",\"Unemployed\",\"Computer & Mathematical\",\"Computer & Mathematical\",\"Computer & Mathematical\",\"Computer & Mathematical\",\"Computer & Mathematical\",\"Computer & Mathematical\",\"Computer & Mathematical\",\"Business & Financial\",\"Management\",\"Management\",\"Management\",\"Management\",\"Management\",\"Management\",\"Unemployed\",\"Unemployed\",\"Unemployed\",\"Management\",\"Management\",\"Management\",\"Management\",\"Management\",\"Education&Training&Library\",\"Education&Training&Library\",\"Education&Training&Library\",\"Education&Training&Library\",\"Office & Administrative Support\",\"Office & Administrative Support\",\"Office & Administrative Support\",\"Office & Administrative Support\",\"Office & Administrative Support\",\"Office & Administrative Support\",\"Office & Administrative Support\",\"Unemployed\",\"Unemployed\",\"Unemployed\",\"Construction & Extraction\",\"Construction & Extraction\",\"Installation Maintenance & Repair\",\"Installation Maintenance & Repair\",\"Installation Maintenance & Repair\",\"Installation Maintenance & Repair\",\"Installation Maintenance & Repair\",\"Installation Maintenance & Repair\",\"Installation Maintenance & Repair\",\"Installation Maintenance & Repair\",\"Installation Maintenance & Repair\",\"Healthcare Practitioners & Technical\",\"Healthcare Practitioners & Technical\",\"Healthcare Practitioners & Technical\",\"Healthcare Practitioners & Technical\",\"Healthcare Practitioners & Technical\",\"Computer & Mathematical\",\"Computer & Mathematical\",\"Architecture & Engineering\",\"Architecture & Engineering\",\"Computer & Mathematical\",\"Sales & Related\",\"Sales & Related\",\"Sales & Related\",\"Sales & Related\",\"Sales & Related\",\"Sales & Related\",\"Education&Training&Library\",\"Food Preparation & Serving Related\",\"Food Preparation & Serving Related\",\"Food Preparation & Serving Related\",\"Farming Fishing & Forestry\",\"Farming Fishing & Forestry\",\"Farming Fishing & Forestry\",\"Farming Fishing & Forestry\",\"Farming Fishing & Forestry\",\"Personal Care & Service\",\"Business & Financial\",\"Business & Financial\",\"Business & Financial\",\"Management\",\"Student\",\"Student\",\"Unemployed\",\"Unemployed\",\"Unemployed\",\"Unemployed\",\"Unemployed\",\"Education&Training&Library\",\"Education&Training&Library\",\"Education&Training&Library\",\"Education&Training&Library\",\"Office & Administrative Support\",\"Office & Administrative Support\",\"Office & Administrative Support\",\"Office & Administrative Support\",\"Unemployed\",\"Arts Design Entertainment Sports & Media\",\"Arts Design Entertainment Sports & Media\",\"Arts Design Entertainment Sports & Media\",\"Business & Financial\",\"Business & Financial\",\"Arts Design Entertainment Sports & Media\",\"Arts Design Entertainment Sports & Media\",\"Arts Design Entertainment Sports & Media\",\"Arts Design Entertainment Sports & Media\",\"Arts Design Entertainment Sports & Media\",\"Arts Design Entertainment Sports & Media\",\"Business & Financial\",\"Business & Financial\",\"Business & Financial\",\"Education&Training&Library\",\"Education&Training&Library\",\"Education&Training&Library\",\"Education&Training&Library\",\"Education&Training&Library\",\"Education&Training&Library\",\"Computer & Mathematical\",\"Computer & Mathematical\",\"Computer & Mathematical\",\"Computer & Mathematical\",\"Arts Design Entertainment Sports & Media\",\"Computer & Mathematical\",\"Healthcare Support\",\"Management\",\"Unemployed\",\"Transportation & Material Moving\",\"Computer & Mathematical\",\"Computer & Mathematical\",\"Sales & Related\",\"Sales & Related\",\"Sales & Related\",\"Sales & Related\",\"Sales & Related\",\"Sales & Related\",\"Student\",\"Student\",\"Office & Administrative Support\",\"Legal\",\"Legal\",\"Legal\",\"Legal\",\"Sales & Related\",\"Sales & Related\",\"Sales & Related\",\"Sales & Related\",\"Sales & Related\",\"Office & Administrative Support\",\"Office & Administrative Support\",\"Office & Administrative Support\",\"Office & Administrative Support\",\"Office & Administrative Support\",\"Computer & Mathematical\",\"Computer & Mathematical\",\"Computer & Mathematical\",\"Computer & Mathematical\",\"Healthcare Support\",\"Healthcare Support\",\"Healthcare Support\",\"Office & Administrative Support\",\"Office & Administrative Support\",\"Retired\",\"Retired\",\"Retired\",\"Retired\",\"Unemployed\",\"Unemployed\",\"Unemployed\",\"Unemployed\",\"Retired\",\"Retired\",\"Computer & Mathematical\",\"Computer & Mathematical\",\"Computer & Mathematical\",\"Computer & Mathematical\",\"Computer & Mathematical\",\"Computer & Mathematical\",\"Computer & Mathematical\",\"Computer & Mathematical\",\"Computer & Mathematical\",\"Computer & Mathematical\",\"Community & Social Services\",\"Community & Social Services\",\"Community & Social Services\",\"Community & Social Services\",\"Community & Social Services\",\"Production Occupations\",\"Student\",\"Production Occupations\",\"Production Occupations\",\"Unemployed\",\"Education&Training&Library\",\"Education&Training&Library\",\"Office & Administrative Support\",\"Office & Administrative Support\",\"Office & Administrative Support\",\"Office & Administrative Support\",\"Sales & Related\",\"Sales & Related\",\"Sales & Related\",\"Sales & Related\",\"Office & Administrative Support\",\"Office & Administrative Support\",\"Office & Administrative Support\",\"Computer & Mathematical\",\"Student\",\"Student\",\"Student\",\"Office & Administrative Support\",\"Community & Social Services\",\"Community & Social Services\",\"Community & Social Services\",\"Community & Social Services\",\"Community & Social Services\",\"Community & Social Services\",\"Unemployed\",\"Unemployed\",\"Unemployed\",\"Arts Design Entertainment Sports & Media\",\"Arts Design Entertainment Sports & Media\",\"Office & Administrative Support\",\"Office & Administrative Support\",\"Office & Administrative Support\",\"Office & Administrative Support\",\"Office & Administrative Support\",\"Computer & Mathematical\",\"Computer & Mathematical\",\"Food Preparation & Serving Related\",\"Food Preparation & Serving Related\",\"Food Preparation & Serving Related\",\"Food Preparation & Serving Related\",\"Computer & Mathematical\",\"Computer & Mathematical\",\"Student\",\"Student\",\"Student\",\"Student\",\"Legal\",\"Unemployed\",\"Unemployed\",\"Computer & Mathematical\",\"Computer & Mathematical\",\"Computer & Mathematical\",\"Computer & Mathematical\",\"Computer & Mathematical\",\"Arts Design Entertainment Sports & Media\",\"Office & Administrative Support\",\"Student\",\"Student\",\"Student\",\"Student\",\"Unemployed\",\"Unemployed\",\"Retired\",\"Retired\",\"Retired\",\"Retired\",\"Retired\",\"Unemployed\",\"Arts Design Entertainment Sports & Media\",\"Arts Design Entertainment Sports & Media\",\"Food Preparation & Serving Related\",\"Protective Service\",\"Protective Service\",\"Protective Service\",\"Student\",\"Student\",\"Student\",\"Unemployed\",\"Unemployed\",\"Unemployed\",\"Unemployed\",\"Unemployed\",\"Unemployed\",\"Management\",\"Healthcare Support\",\"Healthcare Support\",\"Healthcare Support\",\"Healthcare Support\",\"Unemployed\",\"Food Preparation & Serving Related\",\"Computer & Mathematical\",\"Legal\",\"Legal\",\"Legal\",\"Sales & Related\",\"Business & Financial\",\"Student\",\"Student\",\"Student\",\"Computer & Mathematical\",\"Computer & Mathematical\",\"Computer & Mathematical\",\"Student\",\"Food Preparation & Serving Related\",\"Food Preparation & Serving Related\",\"Unemployed\",\"Unemployed\",\"Unemployed\",\"Sales & Related\",\"Unemployed\",\"Unemployed\",\"Management\",\"Management\",\"Computer & Mathematical\",\"Computer & Mathematical\",\"Computer & Mathematical\",\"Education&Training&Library\",\"Education&Training&Library\",\"Student\",\"Student\",\"Student\",\"Student\",\"Student\",\"Unemployed\",\"Unemployed\",\"Student\",\"Student\",\"Education&Training&Library\",\"Education&Training&Library\",\"Unemployed\",\"Unemployed\",\"Unemployed\",\"Retired\",\"Retired\",\"Sales & Related\",\"Sales & Related\",\"Sales & Related\",\"Sales & Related\",\"Education&Training&Library\",\"Education&Training&Library\",\"Education&Training&Library\",\"Arts Design Entertainment Sports & Media\",\"Arts Design Entertainment Sports & Media\",\"Student\",\"Student\",\"Healthcare Practitioners & Technical\",\"Healthcare Practitioners & Technical\",\"Student\",\"Student\",\"Business & Financial\",\"Business & Financial\",\"Business & Financial\",\"Student\",\"Sales & Related\",\"Sales & Related\",\"Arts Design Entertainment Sports & Media\",\"Arts Design Entertainment Sports & Media\",\"Arts Design Entertainment Sports & Media\",\"Unemployed\",\"Unemployed\",\"Office & Administrative Support\",\"Office & Administrative Support\",\"Office & Administrative Support\",\"Unemployed\",\"Unemployed\",\"Healthcare Support\",\"Healthcare Practitioners & Technical\",\"Healthcare Practitioners & Technical\",\"Sales & Related\",\"Sales & Related\",\"Unemployed\",\"Unemployed\",\"Unemployed\",\"Student\",\"Student\",\"Computer & Mathematical\",\"Computer & Mathematical\",\"Education&Training&Library\",\"Education&Training&Library\",\"Unemployed\",\"Unemployed\",\"Student\",\"Legal\",\"Legal\",\"Legal\",\"Community & Social Services\",\"Community & Social Services\",\"Community & Social Services\",\"Office & Administrative Support\",\"Unemployed\",\"Unemployed\",\"Unemployed\",\"Unemployed\",\"Unemployed\",\"Arts Design Entertainment Sports & Media\",\"Arts Design Entertainment Sports & Media\",\"Unemployed\",\"Unemployed\",\"Computer & Mathematical\",\"Computer & Mathematical\",\"Healthcare Support\",\"Healthcare Support\",\"Unemployed\",\"Unemployed\",\"Retired\",\"Retired\",\"Unemployed\",\"Unemployed\",\"Unemployed\",\"Computer & Mathematical\",\"Computer & Mathematical\",\"Education&Training&Library\",\"Education&Training&Library\",\"Unemployed\",\"Unemployed\",\"Education&Training&Library\",\"Education&Training&Library\",\"Education&Training&Library\",\"Protective Service\",\"Protective Service\",\"Unemployed\",\"Unemployed\",\"Sales & Related\",\"Office & Administrative Support\",\"Office & Administrative Support\",\"Office & Administrative Support\",\"Sales & Related\",\"Sales & Related\",\"Sales & Related\",\"Food Preparation & Serving Related\",\"Food Preparation & Serving Related\",\"Food Preparation & Serving Related\",\"Office & Administrative Support\",\"Office & Administrative Support\",\"Student\",\"Student\",\"Personal Care & Service\",\"Unemployed\",\"Business & Financial\",\"Business & Financial\",\"Business & Financial\",\"Sales & Related\",\"Sales & Related\",\"Sales & Related\"],\"xaxis\":\"x\",\"yaxis\":\"y\",\"type\":\"histogram\"},{\"alignmentgroup\":\"True\",\"bingroup\":\"x\",\"hovertemplate\":\"Y=1\\u003cbr\\u003eoccupation=%{x}\\u003cbr\\u003ecount=%{y}\\u003cextra\\u003e\\u003c\\u002fextra\\u003e\",\"legendgroup\":\"1\",\"marker\":{\"color\":\"#EF553B\",\"pattern\":{\"shape\":\"\"}},\"name\":\"1\",\"offsetgroup\":\"1\",\"orientation\":\"v\",\"showlegend\":true,\"texttemplate\":\"%{value}\",\"x\":[\"Unemployed\",\"Unemployed\",\"Unemployed\",\"Student\",\"Student\",\"Student\",\"Student\",\"Student\",\"Education&Training&Library\",\"Education&Training&Library\",\"Education&Training&Library\",\"Education&Training&Library\",\"Student\",\"Student\",\"Student\",\"Student\",\"Student\",\"Student\",\"Student\",\"Student\",\"Student\",\"Student\",\"Student\",\"Student\",\"Student\",\"Student\",\"Student\",\"Unemployed\",\"Unemployed\",\"Unemployed\",\"Healthcare Support\",\"Healthcare Support\",\"Healthcare Practitioners & Technical\",\"Healthcare Practitioners & Technical\",\"Healthcare Practitioners & Technical\",\"Healthcare Practitioners & Technical\",\"Healthcare Practitioners & Technical\",\"Healthcare Practitioners & Technical\",\"Healthcare Practitioners & Technical\",\"Management\",\"Management\",\"Management\",\"Management\",\"Management\",\"Management\",\"Unemployed\",\"Unemployed\",\"Unemployed\",\"Unemployed\",\"Unemployed\",\"Unemployed\",\"Unemployed\",\"Unemployed\",\"Arts Design Entertainment Sports & Media\",\"Arts Design Entertainment Sports & Media\",\"Arts Design Entertainment Sports & Media\",\"Arts Design Entertainment Sports & Media\",\"Arts Design Entertainment Sports & Media\",\"Arts Design Entertainment Sports & Media\",\"Arts Design Entertainment Sports & Media\",\"Education&Training&Library\",\"Student\",\"Student\",\"Student\",\"Student\",\"Student\",\"Computer & Mathematical\",\"Computer & Mathematical\",\"Computer & Mathematical\",\"Life Physical Social Science\",\"Life Physical Social Science\",\"Life Physical Social Science\",\"Personal Care & Service\",\"Personal Care & Service\",\"Personal Care & Service\",\"Personal Care & Service\",\"Computer & Mathematical\",\"Computer & Mathematical\",\"Computer & Mathematical\",\"Computer & Mathematical\",\"Management\",\"Management\",\"Management\",\"Management\",\"Management\",\"Management\",\"Management\",\"Unemployed\",\"Unemployed\",\"Unemployed\",\"Unemployed\",\"Unemployed\",\"Unemployed\",\"Unemployed\",\"Unemployed\",\"Unemployed\",\"Community & Social Services\",\"Management\",\"Management\",\"Sales & Related\",\"Sales & Related\",\"Sales & Related\",\"Sales & Related\",\"Arts Design Entertainment Sports & Media\",\"Arts Design Entertainment Sports & Media\",\"Arts Design Entertainment Sports & Media\",\"Sales & Related\",\"Sales & Related\",\"Sales & Related\",\"Sales & Related\",\"Sales & Related\",\"Sales & Related\",\"Sales & Related\",\"Sales & Related\",\"Sales & Related\",\"Sales & Related\",\"Student\",\"Student\",\"Student\",\"Student\",\"Student\",\"Student\",\"Office & Administrative Support\",\"Office & Administrative Support\",\"Office & Administrative Support\",\"Office & Administrative Support\",\"Office & Administrative Support\",\"Management\",\"Sales & Related\",\"Sales & Related\",\"Sales & Related\",\"Sales & Related\",\"Sales & Related\",\"Healthcare Support\",\"Healthcare Support\",\"Healthcare Support\",\"Healthcare Support\",\"Healthcare Support\",\"Healthcare Support\",\"Healthcare Support\",\"Legal\",\"Legal\",\"Legal\",\"Legal\",\"Legal\",\"Legal\",\"Legal\",\"Sales & Related\",\"Computer & Mathematical\",\"Computer & Mathematical\",\"Computer & Mathematical\",\"Computer & Mathematical\",\"Computer & Mathematical\",\"Retired\",\"Retired\",\"Unemployed\",\"Unemployed\",\"Community & Social Services\",\"Community & Social Services\",\"Community & Social Services\",\"Office & Administrative Support\",\"Office & Administrative Support\",\"Office & Administrative Support\",\"Office & Administrative Support\",\"Office & Administrative Support\",\"Office & Administrative Support\",\"Education&Training&Library\",\"Education&Training&Library\",\"Education&Training&Library\",\"Education&Training&Library\",\"Education&Training&Library\",\"Education&Training&Library\",\"Education&Training&Library\",\"Life Physical Social Science\",\"Life Physical Social Science\",\"Life Physical Social Science\",\"Life Physical Social Science\",\"Life Physical Social Science\",\"Life Physical Social Science\",\"Architecture & Engineering\",\"Architecture & Engineering\",\"Architecture & Engineering\",\"Architecture & Engineering\",\"Architecture & Engineering\",\"Healthcare Practitioners & Technical\",\"Healthcare Practitioners & Technical\",\"Healthcare Practitioners & Technical\",\"Healthcare Practitioners & Technical\",\"Arts Design Entertainment Sports & Media\",\"Retired\",\"Retired\",\"Retired\",\"Office & Administrative Support\",\"Office & Administrative Support\",\"Office & Administrative Support\",\"Arts Design Entertainment Sports & Media\",\"Unemployed\",\"Unemployed\",\"Unemployed\",\"Unemployed\",\"Unemployed\",\"Unemployed\",\"Unemployed\",\"Computer & Mathematical\",\"Computer & Mathematical\",\"Computer & Mathematical\",\"Computer & Mathematical\",\"Computer & Mathematical\",\"Student\",\"Student\",\"Student\",\"Student\",\"Student\",\"Student\",\"Student\",\"Sales & Related\",\"Sales & Related\",\"Sales & Related\",\"Sales & Related\",\"Sales & Related\",\"Construction & Extraction\",\"Construction & Extraction\",\"Retired\",\"Student\",\"Student\",\"Student\",\"Student\",\"Student\",\"Student\",\"Student\",\"Sales & Related\",\"Sales & Related\",\"Sales & Related\",\"Sales & Related\",\"Sales & Related\",\"Sales & Related\",\"Sales & Related\",\"Sales & Related\",\"Sales & Related\",\"Sales & Related\",\"Computer & Mathematical\",\"Computer & Mathematical\",\"Computer & Mathematical\",\"Computer & Mathematical\",\"Computer & Mathematical\",\"Computer & Mathematical\",\"Computer & Mathematical\",\"Computer & Mathematical\",\"Retired\",\"Retired\",\"Retired\",\"Retired\",\"Retired\",\"Education&Training&Library\",\"Education&Training&Library\",\"Management\",\"Management\",\"Management\",\"Management\",\"Retired\",\"Retired\",\"Retired\",\"Retired\",\"Retired\",\"Retired\",\"Legal\",\"Legal\",\"Legal\",\"Construction & Extraction\",\"Construction & Extraction\",\"Construction & Extraction\",\"Construction & Extraction\",\"Construction & Extraction\",\"Construction & Extraction\",\"Construction & Extraction\",\"Arts Design Entertainment Sports & Media\",\"Arts Design Entertainment Sports & Media\",\"Arts Design Entertainment Sports & Media\",\"Arts Design Entertainment Sports & Media\",\"Architecture & Engineering\",\"Architecture & Engineering\",\"Architecture & Engineering\",\"Healthcare Practitioners & Technical\",\"Healthcare Practitioners & Technical\",\"Healthcare Practitioners & Technical\",\"Healthcare Practitioners & Technical\",\"Healthcare Practitioners & Technical\",\"Healthcare Practitioners & Technical\",\"Healthcare Practitioners & Technical\",\"Healthcare Practitioners & Technical\",\"Healthcare Practitioners & Technical\",\"Healthcare Practitioners & Technical\",\"Unemployed\",\"Unemployed\",\"Unemployed\",\"Unemployed\",\"Unemployed\",\"Management\",\"Management\",\"Management\",\"Management\",\"Management\",\"Management\",\"Unemployed\",\"Unemployed\",\"Education&Training&Library\",\"Education&Training&Library\",\"Education&Training&Library\",\"Education&Training&Library\",\"Education&Training&Library\",\"Education&Training&Library\",\"Education&Training&Library\",\"Education&Training&Library\",\"Student\",\"Student\",\"Student\",\"Student\",\"Unemployed\",\"Unemployed\",\"Unemployed\",\"Unemployed\",\"Unemployed\",\"Unemployed\",\"Retired\",\"Retired\",\"Installation Maintenance & Repair\",\"Installation Maintenance & Repair\",\"Installation Maintenance & Repair\",\"Installation Maintenance & Repair\",\"Installation Maintenance & Repair\",\"Installation Maintenance & Repair\",\"Installation Maintenance & Repair\",\"Installation Maintenance & Repair\",\"Installation Maintenance & Repair\",\"Installation Maintenance & Repair\",\"Architecture & Engineering\",\"Architecture & Engineering\",\"Architecture & Engineering\",\"Architecture & Engineering\",\"Architecture & Engineering\",\"Architecture & Engineering\",\"Student\",\"Student\",\"Student\",\"Student\",\"Student\",\"Student\",\"Student\",\"Student\",\"Unemployed\",\"Unemployed\",\"Unemployed\",\"Unemployed\",\"Unemployed\",\"Unemployed\",\"Transportation & Material Moving\",\"Transportation & Material Moving\",\"Transportation & Material Moving\",\"Transportation & Material Moving\",\"Transportation & Material Moving\",\"Transportation & Material Moving\",\"Transportation & Material Moving\",\"Transportation & Material Moving\",\"Education&Training&Library\",\"Management\",\"Management\",\"Management\",\"Management\",\"Management\",\"Management\",\"Management\",\"Legal\",\"Management\",\"Management\",\"Management\",\"Arts Design Entertainment Sports & Media\",\"Arts Design Entertainment Sports & Media\",\"Arts Design Entertainment Sports & Media\",\"Student\",\"Student\",\"Student\",\"Unemployed\",\"Unemployed\",\"Unemployed\",\"Unemployed\",\"Unemployed\",\"Unemployed\",\"Unemployed\",\"Unemployed\",\"Life Physical Social Science\",\"Life Physical Social Science\",\"Life Physical Social Science\",\"Life Physical Social Science\",\"Life Physical Social Science\",\"Life Physical Social Science\",\"Life Physical Social Science\",\"Business & Financial\",\"Business & Financial\",\"Business & Financial\",\"Business & Financial\",\"Business & Financial\",\"Business & Financial\",\"Student\",\"Student\",\"Student\",\"Student\",\"Student\",\"Student\",\"Student\",\"Student\",\"Sales & Related\",\"Sales & Related\",\"Protective Service\",\"Protective Service\",\"Management\",\"Office & Administrative Support\",\"Office & Administrative Support\",\"Office & Administrative Support\",\"Office & Administrative Support\",\"Office & Administrative Support\",\"Office & Administrative Support\",\"Computer & Mathematical\",\"Computer & Mathematical\",\"Computer & Mathematical\",\"Computer & Mathematical\",\"Computer & Mathematical\",\"Computer & Mathematical\",\"Sales & Related\",\"Education&Training&Library\",\"Education&Training&Library\",\"Computer & Mathematical\",\"Arts Design Entertainment Sports & Media\",\"Arts Design Entertainment Sports & Media\",\"Arts Design Entertainment Sports & Media\",\"Arts Design Entertainment Sports & Media\",\"Arts Design Entertainment Sports & Media\",\"Arts Design Entertainment Sports & Media\",\"Arts Design Entertainment Sports & Media\",\"Arts Design Entertainment Sports & Media\",\"Management\",\"Management\",\"Management\",\"Management\",\"Management\",\"Management\",\"Unemployed\",\"Unemployed\",\"Unemployed\",\"Unemployed\",\"Unemployed\",\"Management\",\"Student\",\"Student\",\"Student\",\"Student\",\"Student\",\"Student\",\"Student\",\"Student\",\"Student\",\"Management\",\"Management\",\"Management\",\"Management\",\"Management\",\"Management\",\"Office & Administrative Support\",\"Office & Administrative Support\",\"Office & Administrative Support\",\"Office & Administrative Support\",\"Office & Administrative Support\",\"Office & Administrative Support\",\"Office & Administrative Support\",\"Office & Administrative Support\",\"Office & Administrative Support\",\"Office & Administrative Support\",\"Education&Training&Library\",\"Office & Administrative Support\",\"Office & Administrative Support\",\"Office & Administrative Support\",\"Office & Administrative Support\",\"Office & Administrative Support\",\"Office & Administrative Support\",\"Office & Administrative Support\",\"Legal\",\"Legal\",\"Legal\",\"Legal\",\"Architecture & Engineering\",\"Architecture & Engineering\",\"Architecture & Engineering\",\"Architecture & Engineering\",\"Architecture & Engineering\",\"Architecture & Engineering\",\"Transportation & Material Moving\",\"Transportation & Material Moving\",\"Transportation & Material Moving\",\"Transportation & Material Moving\",\"Transportation & Material Moving\",\"Transportation & Material Moving\",\"Transportation & Material Moving\",\"Education&Training&Library\",\"Education&Training&Library\",\"Education&Training&Library\",\"Computer & Mathematical\",\"Computer & Mathematical\",\"Computer & Mathematical\",\"Unemployed\",\"Unemployed\",\"Unemployed\",\"Unemployed\",\"Unemployed\",\"Unemployed\",\"Unemployed\",\"Unemployed\",\"Student\",\"Student\",\"Student\",\"Student\",\"Student\",\"Student\",\"Student\",\"Student\",\"Student\",\"Student\",\"Student\",\"Student\",\"Education&Training&Library\",\"Education&Training&Library\",\"Education&Training&Library\",\"Education&Training&Library\",\"Computer & Mathematical\",\"Computer & Mathematical\",\"Computer & Mathematical\",\"Computer & Mathematical\",\"Computer & Mathematical\",\"Computer & Mathematical\",\"Computer & Mathematical\",\"Computer & Mathematical\",\"Computer & Mathematical\",\"Business & Financial\",\"Business & Financial\",\"Business & Financial\",\"Computer & Mathematical\",\"Computer & Mathematical\",\"Computer & Mathematical\",\"Computer & Mathematical\",\"Computer & Mathematical\",\"Computer & Mathematical\",\"Protective Service\",\"Protective Service\",\"Protective Service\",\"Protective Service\",\"Computer & Mathematical\",\"Computer & Mathematical\",\"Computer & Mathematical\",\"Computer & Mathematical\",\"Unemployed\",\"Unemployed\",\"Computer & Mathematical\",\"Computer & Mathematical\",\"Computer & Mathematical\",\"Computer & Mathematical\",\"Computer & Mathematical\",\"Computer & Mathematical\",\"Installation Maintenance & Repair\",\"Unemployed\",\"Unemployed\",\"Unemployed\",\"Management\",\"Management\",\"Management\",\"Business & Financial\",\"Healthcare Support\",\"Healthcare Support\",\"Healthcare Support\",\"Healthcare Support\",\"Healthcare Support\",\"Healthcare Support\",\"Healthcare Support\",\"Healthcare Support\",\"Healthcare Support\",\"Healthcare Support\",\"Unemployed\",\"Unemployed\",\"Unemployed\",\"Unemployed\",\"Computer & Mathematical\",\"Computer & Mathematical\",\"Computer & Mathematical\",\"Computer & Mathematical\",\"Student\",\"Student\",\"Student\",\"Student\",\"Life Physical Social Science\",\"Life Physical Social Science\",\"Business & Financial\",\"Computer & Mathematical\",\"Computer & Mathematical\",\"Computer & Mathematical\",\"Sales & Related\",\"Sales & Related\",\"Sales & Related\",\"Sales & Related\",\"Sales & Related\",\"Sales & Related\",\"Sales & Related\",\"Protective Service\",\"Protective Service\",\"Protective Service\",\"Arts Design Entertainment Sports & Media\",\"Arts Design Entertainment Sports & Media\",\"Arts Design Entertainment Sports & Media\",\"Arts Design Entertainment Sports & Media\",\"Arts Design Entertainment Sports & Media\",\"Arts Design Entertainment Sports & Media\",\"Office & Administrative Support\",\"Office & Administrative Support\",\"Office & Administrative Support\",\"Office & Administrative Support\",\"Office & Administrative Support\",\"Office & Administrative Support\",\"Student\",\"Student\",\"Student\",\"Student\",\"Student\",\"Unemployed\",\"Protective Service\",\"Protective Service\",\"Protective Service\",\"Student\",\"Student\",\"Student\",\"Student\",\"Student\",\"Student\",\"Student\",\"Student\",\"Student\",\"Student\",\"Student\",\"Student\",\"Student\",\"Student\",\"Arts Design Entertainment Sports & Media\",\"Arts Design Entertainment Sports & Media\",\"Arts Design Entertainment Sports & Media\",\"Arts Design Entertainment Sports & Media\",\"Arts Design Entertainment Sports & Media\",\"Management\",\"Management\",\"Management\",\"Management\",\"Management\",\"Management\",\"Retired\",\"Student\",\"Student\",\"Student\",\"Student\",\"Student\",\"Student\",\"Student\",\"Student\",\"Student\",\"Sales & Related\",\"Sales & Related\",\"Sales & Related\",\"Sales & Related\",\"Sales & Related\",\"Sales & Related\",\"Life Physical Social Science\",\"Life Physical Social Science\",\"Life Physical Social Science\",\"Life Physical Social Science\",\"Life Physical Social Science\",\"Business & Financial\",\"Business & Financial\",\"Business & Financial\",\"Business & Financial\",\"Business & Financial\",\"Business & Financial\",\"Sales & Related\",\"Sales & Related\",\"Sales & Related\",\"Sales & Related\",\"Food Preparation & Serving Related\",\"Food Preparation & Serving Related\",\"Food Preparation & Serving Related\",\"Food Preparation & Serving Related\",\"Food Preparation & Serving Related\",\"Food Preparation & Serving Related\",\"Food Preparation & Serving Related\",\"Management\",\"Management\",\"Management\",\"Food Preparation & Serving Related\",\"Food Preparation & Serving Related\",\"Food Preparation & Serving Related\",\"Food Preparation & Serving Related\",\"Food Preparation & Serving Related\",\"Food Preparation & Serving Related\",\"Food Preparation & Serving Related\",\"Arts Design Entertainment Sports & Media\",\"Healthcare Practitioners & Technical\",\"Healthcare Practitioners & Technical\",\"Healthcare Practitioners & Technical\",\"Healthcare Practitioners & Technical\",\"Healthcare Practitioners & Technical\",\"Computer & Mathematical\",\"Computer & Mathematical\",\"Arts Design Entertainment Sports & Media\",\"Arts Design Entertainment Sports & Media\",\"Arts Design Entertainment Sports & Media\",\"Arts Design Entertainment Sports & Media\",\"Arts Design Entertainment Sports & Media\",\"Arts Design Entertainment Sports & Media\",\"Arts Design Entertainment Sports & Media\",\"Arts Design Entertainment Sports & Media\",\"Education&Training&Library\",\"Education&Training&Library\",\"Education&Training&Library\",\"Education&Training&Library\",\"Education&Training&Library\",\"Education&Training&Library\",\"Education&Training&Library\",\"Management\",\"Management\",\"Management\",\"Management\",\"Management\",\"Management\",\"Management\",\"Management\",\"Management\",\"Student\",\"Protective Service\",\"Protective Service\",\"Protective Service\",\"Protective Service\",\"Protective Service\",\"Protective Service\",\"Protective Service\",\"Protective Service\",\"Protective Service\",\"Protective Service\",\"Unemployed\",\"Computer & Mathematical\",\"Computer & Mathematical\",\"Computer & Mathematical\",\"Computer & Mathematical\",\"Computer & Mathematical\",\"Management\",\"Management\",\"Management\",\"Management\",\"Management\",\"Management\",\"Management\",\"Management\",\"Student\",\"Student\",\"Student\",\"Education&Training&Library\",\"Education&Training&Library\",\"Education&Training&Library\",\"Education&Training&Library\",\"Education&Training&Library\",\"Education&Training&Library\",\"Education&Training&Library\",\"Education&Training&Library\",\"Education&Training&Library\",\"Education&Training&Library\",\"Protective Service\",\"Protective Service\",\"Sales & Related\",\"Student\",\"Student\",\"Student\",\"Student\",\"Student\",\"Student\",\"Life Physical Social Science\",\"Life Physical Social Science\",\"Student\",\"Student\",\"Student\",\"Student\",\"Student\",\"Student\",\"Student\",\"Student\",\"Student\",\"Student\",\"Unemployed\",\"Unemployed\",\"Unemployed\",\"Unemployed\",\"Unemployed\",\"Unemployed\",\"Unemployed\",\"Legal\",\"Legal\",\"Legal\",\"Legal\",\"Legal\",\"Legal\",\"Legal\",\"Legal\",\"Personal Care & Service\",\"Personal Care & Service\",\"Personal Care & Service\",\"Personal Care & Service\",\"Office & Administrative Support\",\"Office & Administrative Support\",\"Office & Administrative Support\",\"Office & Administrative Support\",\"Office & Administrative Support\",\"Office & Administrative Support\",\"Education&Training&Library\",\"Education&Training&Library\",\"Education&Training&Library\",\"Education&Training&Library\",\"Education&Training&Library\",\"Education&Training&Library\",\"Education&Training&Library\",\"Education&Training&Library\",\"Education&Training&Library\",\"Student\",\"Student\",\"Student\",\"Student\",\"Student\",\"Student\",\"Sales & Related\",\"Sales & Related\",\"Sales & Related\",\"Sales & Related\",\"Student\",\"Student\",\"Student\",\"Student\",\"Student\",\"Student\",\"Student\",\"Community & Social Services\",\"Student\",\"Student\",\"Student\",\"Student\",\"Student\",\"Student\",\"Student\",\"Student\",\"Student\",\"Student\",\"Student\",\"Student\",\"Student\",\"Student\",\"Unemployed\",\"Unemployed\",\"Unemployed\",\"Unemployed\",\"Student\",\"Student\",\"Student\",\"Student\",\"Community & Social Services\",\"Community & Social Services\",\"Community & Social Services\",\"Community & Social Services\",\"Community & Social Services\",\"Community & Social Services\",\"Community & Social Services\",\"Sales & Related\",\"Sales & Related\",\"Sales & Related\",\"Sales & Related\",\"Student\",\"Student\",\"Student\",\"Student\",\"Student\",\"Student\",\"Student\",\"Student\",\"Management\",\"Management\",\"Management\",\"Management\",\"Arts Design Entertainment Sports & Media\",\"Arts Design Entertainment Sports & Media\",\"Arts Design Entertainment Sports & Media\",\"Arts Design Entertainment Sports & Media\",\"Arts Design Entertainment Sports & Media\",\"Arts Design Entertainment Sports & Media\",\"Arts Design Entertainment Sports & Media\",\"Arts Design Entertainment Sports & Media\",\"Arts Design Entertainment Sports & Media\",\"Sales & Related\",\"Sales & Related\",\"Sales & Related\",\"Sales & Related\",\"Sales & Related\",\"Sales & Related\",\"Unemployed\",\"Unemployed\",\"Unemployed\",\"Unemployed\",\"Computer & Mathematical\",\"Computer & Mathematical\",\"Computer & Mathematical\",\"Computer & Mathematical\",\"Computer & Mathematical\",\"Computer & Mathematical\",\"Computer & Mathematical\",\"Computer & Mathematical\",\"Computer & Mathematical\",\"Computer & Mathematical\",\"Computer & Mathematical\",\"Computer & Mathematical\",\"Computer & Mathematical\",\"Healthcare Practitioners & Technical\",\"Healthcare Practitioners & Technical\",\"Healthcare Practitioners & Technical\",\"Healthcare Practitioners & Technical\",\"Healthcare Practitioners & Technical\",\"Healthcare Practitioners & Technical\",\"Healthcare Practitioners & Technical\",\"Healthcare Practitioners & Technical\",\"Healthcare Practitioners & Technical\",\"Healthcare Practitioners & Technical\",\"Healthcare Practitioners & Technical\",\"Unemployed\",\"Unemployed\",\"Unemployed\",\"Unemployed\",\"Student\",\"Student\",\"Arts Design Entertainment Sports & Media\",\"Arts Design Entertainment Sports & Media\",\"Arts Design Entertainment Sports & Media\",\"Arts Design Entertainment Sports & Media\",\"Arts Design Entertainment Sports & Media\",\"Arts Design Entertainment Sports & Media\",\"Arts Design Entertainment Sports & Media\",\"Arts Design Entertainment Sports & Media\",\"Education&Training&Library\",\"Education&Training&Library\",\"Education&Training&Library\",\"Education&Training&Library\",\"Education&Training&Library\",\"Retired\",\"Retired\",\"Retired\",\"Retired\",\"Retired\",\"Retired\",\"Retired\",\"Retired\",\"Retired\",\"Transportation & Material Moving\",\"Transportation & Material Moving\",\"Transportation & Material Moving\",\"Transportation & Material Moving\",\"Transportation & Material Moving\",\"Transportation & Material Moving\",\"Transportation & Material Moving\",\"Student\",\"Student\",\"Student\",\"Student\",\"Student\",\"Student\",\"Student\",\"Student\",\"Office & Administrative Support\",\"Office & Administrative Support\",\"Office & Administrative Support\",\"Business & Financial\",\"Business & Financial\",\"Business & Financial\",\"Business & Financial\",\"Business & Financial\",\"Education&Training&Library\",\"Education&Training&Library\",\"Education&Training&Library\",\"Education&Training&Library\",\"Education&Training&Library\",\"Personal Care & Service\",\"Personal Care & Service\",\"Personal Care & Service\",\"Personal Care & Service\",\"Personal Care & Service\",\"Unemployed\",\"Unemployed\",\"Sales & Related\",\"Management\",\"Education&Training&Library\",\"Education&Training&Library\",\"Education&Training&Library\",\"Education&Training&Library\",\"Education&Training&Library\",\"Education&Training&Library\",\"Education&Training&Library\",\"Education&Training&Library\",\"Education&Training&Library\",\"Transportation & Material Moving\",\"Transportation & Material Moving\",\"Student\",\"Student\",\"Student\",\"Student\",\"Student\",\"Student\",\"Management\",\"Management\",\"Management\",\"Management\",\"Management\",\"Education&Training&Library\",\"Education&Training&Library\",\"Education&Training&Library\",\"Education&Training&Library\",\"Education&Training&Library\",\"Education&Training&Library\",\"Production Occupations\",\"Student\",\"Student\",\"Student\",\"Student\",\"Student\",\"Student\",\"Student\",\"Unemployed\",\"Unemployed\",\"Unemployed\",\"Unemployed\",\"Unemployed\",\"Unemployed\",\"Unemployed\",\"Unemployed\",\"Unemployed\",\"Unemployed\",\"Student\",\"Student\",\"Student\",\"Student\",\"Computer & Mathematical\",\"Computer & Mathematical\",\"Computer & Mathematical\",\"Computer & Mathematical\",\"Computer & Mathematical\",\"Computer & Mathematical\",\"Computer & Mathematical\",\"Computer & Mathematical\",\"Computer & Mathematical\",\"Sales & Related\",\"Sales & Related\",\"Sales & Related\",\"Architecture & Engineering\",\"Architecture & Engineering\",\"Architecture & Engineering\",\"Architecture & Engineering\",\"Architecture & Engineering\",\"Architecture & Engineering\",\"Arts Design Entertainment Sports & Media\",\"Arts Design Entertainment Sports & Media\",\"Arts Design Entertainment Sports & Media\",\"Arts Design Entertainment Sports & Media\",\"Arts Design Entertainment Sports & Media\",\"Arts Design Entertainment Sports & Media\",\"Community & Social Services\",\"Unemployed\",\"Unemployed\",\"Unemployed\",\"Unemployed\",\"Unemployed\",\"Unemployed\",\"Unemployed\",\"Unemployed\",\"Unemployed\",\"Student\",\"Student\",\"Student\",\"Student\",\"Student\",\"Student\",\"Student\",\"Student\",\"Sales & Related\",\"Sales & Related\",\"Sales & Related\",\"Sales & Related\",\"Sales & Related\",\"Sales & Related\",\"Sales & Related\",\"Sales & Related\",\"Sales & Related\",\"Retired\",\"Retired\",\"Unemployed\",\"Unemployed\",\"Unemployed\",\"Unemployed\",\"Unemployed\",\"Management\",\"Management\",\"Management\",\"Management\",\"Management\",\"Management\",\"Management\",\"Management\",\"Unemployed\",\"Unemployed\",\"Unemployed\",\"Unemployed\",\"Unemployed\",\"Unemployed\",\"Unemployed\",\"Unemployed\",\"Unemployed\",\"Unemployed\",\"Unemployed\",\"Retired\",\"Retired\",\"Retired\",\"Retired\",\"Retired\",\"Retired\",\"Retired\",\"Retired\",\"Retired\",\"Retired\",\"Sales & Related\",\"Sales & Related\",\"Sales & Related\",\"Sales & Related\",\"Sales & Related\",\"Sales & Related\",\"Computer & Mathematical\",\"Computer & Mathematical\",\"Computer & Mathematical\",\"Computer & Mathematical\",\"Computer & Mathematical\",\"Computer & Mathematical\",\"Computer & Mathematical\",\"Arts Design Entertainment Sports & Media\",\"Arts Design Entertainment Sports & Media\",\"Arts Design Entertainment Sports & Media\",\"Arts Design Entertainment Sports & Media\",\"Arts Design Entertainment Sports & Media\",\"Arts Design Entertainment Sports & Media\",\"Arts Design Entertainment Sports & Media\",\"Arts Design Entertainment Sports & Media\",\"Arts Design Entertainment Sports & Media\",\"Arts Design Entertainment Sports & Media\",\"Computer & Mathematical\",\"Computer & Mathematical\",\"Computer & Mathematical\",\"Computer & Mathematical\",\"Computer & Mathematical\",\"Computer & Mathematical\",\"Computer & Mathematical\",\"Computer & Mathematical\",\"Computer & Mathematical\",\"Computer & Mathematical\",\"Computer & Mathematical\",\"Computer & Mathematical\",\"Computer & Mathematical\",\"Computer & Mathematical\",\"Computer & Mathematical\",\"Computer & Mathematical\",\"Computer & Mathematical\",\"Computer & Mathematical\",\"Student\",\"Unemployed\",\"Unemployed\",\"Unemployed\",\"Unemployed\",\"Unemployed\",\"Unemployed\",\"Unemployed\",\"Unemployed\",\"Unemployed\",\"Unemployed\",\"Unemployed\",\"Management\",\"Management\",\"Management\",\"Unemployed\",\"Unemployed\",\"Unemployed\",\"Computer & Mathematical\",\"Computer & Mathematical\",\"Computer & Mathematical\",\"Computer & Mathematical\",\"Computer & Mathematical\",\"Computer & Mathematical\",\"Computer & Mathematical\",\"Computer & Mathematical\",\"Computer & Mathematical\",\"Computer & Mathematical\",\"Unemployed\",\"Unemployed\",\"Unemployed\",\"Unemployed\",\"Unemployed\",\"Unemployed\",\"Unemployed\",\"Retired\",\"Retired\",\"Retired\",\"Retired\",\"Retired\",\"Retired\",\"Retired\",\"Retired\",\"Retired\",\"Retired\",\"Student\",\"Student\",\"Student\",\"Student\",\"Student\",\"Student\",\"Student\",\"Community & Social Services\",\"Community & Social Services\",\"Community & Social Services\",\"Community & Social Services\",\"Community & Social Services\",\"Community & Social Services\",\"Office & Administrative Support\",\"Office & Administrative Support\",\"Office & Administrative Support\",\"Management\",\"Management\",\"Management\",\"Management\",\"Management\",\"Sales & Related\",\"Business & Financial\",\"Business & Financial\",\"Business & Financial\",\"Business & Financial\",\"Business & Financial\",\"Business & Financial\",\"Transportation & Material Moving\",\"Transportation & Material Moving\",\"Transportation & Material Moving\",\"Transportation & Material Moving\",\"Transportation & Material Moving\",\"Transportation & Material Moving\",\"Transportation & Material Moving\",\"Student\",\"Student\",\"Student\",\"Student\",\"Student\",\"Student\",\"Unemployed\",\"Unemployed\",\"Unemployed\",\"Unemployed\",\"Unemployed\",\"Unemployed\",\"Unemployed\",\"Unemployed\",\"Unemployed\",\"Unemployed\",\"Unemployed\",\"Unemployed\",\"Unemployed\",\"Unemployed\",\"Unemployed\",\"Unemployed\",\"Unemployed\",\"Unemployed\",\"Arts Design Entertainment Sports & Media\",\"Arts Design Entertainment Sports & Media\",\"Arts Design Entertainment Sports & Media\",\"Arts Design Entertainment Sports & Media\",\"Arts Design Entertainment Sports & Media\",\"Unemployed\",\"Unemployed\",\"Unemployed\",\"Unemployed\",\"Unemployed\",\"Unemployed\",\"Unemployed\",\"Unemployed\",\"Unemployed\",\"Unemployed\",\"Unemployed\",\"Unemployed\",\"Management\",\"Management\",\"Management\",\"Management\",\"Management\",\"Management\",\"Management\",\"Management\",\"Management\",\"Management\",\"Unemployed\",\"Unemployed\",\"Unemployed\",\"Unemployed\",\"Unemployed\",\"Unemployed\",\"Unemployed\",\"Unemployed\",\"Unemployed\",\"Unemployed\",\"Unemployed\",\"Unemployed\",\"Unemployed\",\"Sales & Related\",\"Sales & Related\",\"Sales & Related\",\"Sales & Related\",\"Sales & Related\",\"Sales & Related\",\"Sales & Related\",\"Sales & Related\",\"Sales & Related\",\"Sales & Related\",\"Sales & Related\",\"Sales & Related\",\"Sales & Related\",\"Sales & Related\",\"Business & Financial\",\"Business & Financial\",\"Business & Financial\",\"Business & Financial\",\"Computer & Mathematical\",\"Computer & Mathematical\",\"Computer & Mathematical\",\"Computer & Mathematical\",\"Computer & Mathematical\",\"Computer & Mathematical\",\"Education&Training&Library\",\"Education&Training&Library\",\"Education&Training&Library\",\"Retired\",\"Retired\",\"Retired\",\"Retired\",\"Retired\",\"Sales & Related\",\"Sales & Related\",\"Sales & Related\",\"Sales & Related\",\"Sales & Related\",\"Sales & Related\",\"Building & Grounds Cleaning & Maintenance\",\"Building & Grounds Cleaning & Maintenance\",\"Building & Grounds Cleaning & Maintenance\",\"Building & Grounds Cleaning & Maintenance\",\"Transportation & Material Moving\",\"Transportation & Material Moving\",\"Transportation & Material Moving\",\"Transportation & Material Moving\",\"Transportation & Material Moving\",\"Education&Training&Library\",\"Education&Training&Library\",\"Personal Care & Service\",\"Personal Care & Service\",\"Construction & Extraction\",\"Computer & Mathematical\",\"Computer & Mathematical\",\"Computer & Mathematical\",\"Computer & Mathematical\",\"Computer & Mathematical\",\"Computer & Mathematical\",\"Computer & Mathematical\",\"Arts Design Entertainment Sports & Media\",\"Arts Design Entertainment Sports & Media\",\"Arts Design Entertainment Sports & Media\",\"Arts Design Entertainment Sports & Media\",\"Healthcare Practitioners & Technical\",\"Healthcare Practitioners & Technical\",\"Healthcare Practitioners & Technical\",\"Healthcare Practitioners & Technical\",\"Healthcare Practitioners & Technical\",\"Unemployed\",\"Unemployed\",\"Unemployed\",\"Unemployed\",\"Unemployed\",\"Unemployed\",\"Building & Grounds Cleaning & Maintenance\",\"Building & Grounds Cleaning & Maintenance\",\"Building & Grounds Cleaning & Maintenance\",\"Building & Grounds Cleaning & Maintenance\",\"Education&Training&Library\",\"Education&Training&Library\",\"Education&Training&Library\",\"Education&Training&Library\",\"Education&Training&Library\",\"Student\",\"Student\",\"Student\",\"Student\",\"Student\",\"Management\",\"Management\",\"Management\",\"Computer & Mathematical\",\"Computer & Mathematical\",\"Computer & Mathematical\",\"Computer & Mathematical\",\"Sales & Related\",\"Sales & Related\",\"Life Physical Social Science\",\"Life Physical Social Science\",\"Life Physical Social Science\",\"Life Physical Social Science\",\"Unemployed\",\"Unemployed\",\"Unemployed\",\"Unemployed\",\"Unemployed\",\"Unemployed\",\"Healthcare Practitioners & Technical\",\"Healthcare Practitioners & Technical\",\"Healthcare Practitioners & Technical\",\"Healthcare Practitioners & Technical\",\"Healthcare Practitioners & Technical\",\"Healthcare Support\",\"Computer & Mathematical\",\"Computer & Mathematical\",\"Computer & Mathematical\",\"Computer & Mathematical\",\"Computer & Mathematical\",\"Computer & Mathematical\",\"Computer & Mathematical\",\"Computer & Mathematical\",\"Computer & Mathematical\",\"Computer & Mathematical\",\"Transportation & Material Moving\",\"Transportation & Material Moving\",\"Transportation & Material Moving\",\"Retired\",\"Retired\",\"Retired\",\"Construction & Extraction\",\"Construction & Extraction\",\"Construction & Extraction\",\"Construction & Extraction\",\"Construction & Extraction\",\"Retired\",\"Retired\",\"Unemployed\",\"Unemployed\",\"Unemployed\",\"Sales & Related\",\"Sales & Related\",\"Business & Financial\",\"Unemployed\",\"Unemployed\",\"Unemployed\",\"Unemployed\",\"Unemployed\",\"Unemployed\",\"Management\",\"Management\",\"Unemployed\",\"Unemployed\",\"Unemployed\",\"Unemployed\",\"Unemployed\",\"Computer & Mathematical\",\"Computer & Mathematical\",\"Computer & Mathematical\",\"Computer & Mathematical\",\"Computer & Mathematical\",\"Office & Administrative Support\",\"Office & Administrative Support\",\"Office & Administrative Support\",\"Office & Administrative Support\",\"Office & Administrative Support\",\"Office & Administrative Support\",\"Office & Administrative Support\",\"Computer & Mathematical\",\"Computer & Mathematical\",\"Computer & Mathematical\",\"Computer & Mathematical\",\"Education&Training&Library\",\"Education&Training&Library\",\"Education&Training&Library\",\"Education&Training&Library\",\"Education&Training&Library\",\"Education&Training&Library\",\"Healthcare Support\",\"Healthcare Support\",\"Healthcare Support\",\"Healthcare Support\",\"Healthcare Support\",\"Healthcare Support\",\"Healthcare Support\",\"Business & Financial\",\"Business & Financial\",\"Business & Financial\",\"Business & Financial\",\"Unemployed\",\"Unemployed\",\"Unemployed\",\"Unemployed\",\"Unemployed\",\"Unemployed\",\"Unemployed\",\"Unemployed\",\"Unemployed\",\"Unemployed\",\"Unemployed\",\"Management\",\"Management\",\"Education&Training&Library\",\"Education&Training&Library\",\"Education&Training&Library\",\"Education&Training&Library\",\"Education&Training&Library\",\"Education&Training&Library\",\"Unemployed\",\"Unemployed\",\"Unemployed\",\"Construction & Extraction\",\"Construction & Extraction\",\"Construction & Extraction\",\"Construction & Extraction\",\"Installation Maintenance & Repair\",\"Installation Maintenance & Repair\",\"Installation Maintenance & Repair\",\"Education&Training&Library\",\"Education&Training&Library\",\"Education&Training&Library\",\"Education&Training&Library\",\"Education&Training&Library\",\"Computer & Mathematical\",\"Computer & Mathematical\",\"Computer & Mathematical\",\"Computer & Mathematical\",\"Architecture & Engineering\",\"Architecture & Engineering\",\"Architecture & Engineering\",\"Architecture & Engineering\",\"Computer & Mathematical\",\"Computer & Mathematical\",\"Computer & Mathematical\",\"Computer & Mathematical\",\"Education&Training&Library\",\"Education&Training&Library\",\"Education&Training&Library\",\"Education&Training&Library\",\"Installation Maintenance & Repair\",\"Installation Maintenance & Repair\",\"Installation Maintenance & Repair\",\"Installation Maintenance & Repair\",\"Installation Maintenance & Repair\",\"Installation Maintenance & Repair\",\"Installation Maintenance & Repair\",\"Food Preparation & Serving Related\",\"Food Preparation & Serving Related\",\"Food Preparation & Serving Related\",\"Personal Care & Service\",\"Personal Care & Service\",\"Personal Care & Service\",\"Personal Care & Service\",\"Business & Financial\",\"Business & Financial\",\"Business & Financial\",\"Business & Financial\",\"Management\",\"Management\",\"Management\",\"Management\",\"Student\",\"Student\",\"Student\",\"Unemployed\",\"Unemployed\",\"Unemployed\",\"Unemployed\",\"Unemployed\",\"Unemployed\",\"Education&Training&Library\",\"Education&Training&Library\",\"Office & Administrative Support\",\"Unemployed\",\"Unemployed\",\"Unemployed\",\"Unemployed\",\"Unemployed\",\"Arts Design Entertainment Sports & Media\",\"Arts Design Entertainment Sports & Media\",\"Arts Design Entertainment Sports & Media\",\"Arts Design Entertainment Sports & Media\",\"Business & Financial\",\"Business & Financial\",\"Business & Financial\",\"Business & Financial\",\"Business & Financial\",\"Business & Financial\",\"Business & Financial\",\"Business & Financial\",\"Business & Financial\",\"Business & Financial\",\"Business & Financial\",\"Business & Financial\",\"Business & Financial\",\"Computer & Mathematical\",\"Computer & Mathematical\",\"Computer & Mathematical\",\"Computer & Mathematical\",\"Computer & Mathematical\",\"Computer & Mathematical\",\"Computer & Mathematical\",\"Arts Design Entertainment Sports & Media\",\"Arts Design Entertainment Sports & Media\",\"Arts Design Entertainment Sports & Media\",\"Arts Design Entertainment Sports & Media\",\"Computer & Mathematical\",\"Computer & Mathematical\",\"Computer & Mathematical\",\"Computer & Mathematical\",\"Computer & Mathematical\",\"Healthcare Support\",\"Healthcare Support\",\"Healthcare Support\",\"Management\",\"Management\",\"Management\",\"Management\",\"Unemployed\",\"Unemployed\",\"Unemployed\",\"Student\",\"Student\",\"Student\",\"Student\",\"Student\",\"Student\",\"Food Preparation & Serving Related\",\"Food Preparation & Serving Related\",\"Food Preparation & Serving Related\",\"Food Preparation & Serving Related\",\"Food Preparation & Serving Related\",\"Food Preparation & Serving Related\",\"Transportation & Material Moving\",\"Transportation & Material Moving\",\"Transportation & Material Moving\",\"Transportation & Material Moving\",\"Transportation & Material Moving\",\"Food Preparation & Serving Related\",\"Food Preparation & Serving Related\",\"Food Preparation & Serving Related\",\"Food Preparation & Serving Related\",\"Student\",\"Student\",\"Student\",\"Student\",\"Computer & Mathematical\",\"Computer & Mathematical\",\"Computer & Mathematical\",\"Computer & Mathematical\",\"Computer & Mathematical\",\"Computer & Mathematical\",\"Computer & Mathematical\",\"Computer & Mathematical\",\"Computer & Mathematical\",\"Computer & Mathematical\",\"Student\",\"Student\",\"Student\",\"Student\",\"Student\",\"Student\",\"Student\",\"Student\",\"Student\",\"Office & Administrative Support\",\"Office & Administrative Support\",\"Office & Administrative Support\",\"Healthcare Support\",\"Healthcare Support\",\"Student\",\"Student\",\"Student\",\"Student\",\"Office & Administrative Support\",\"Office & Administrative Support\",\"Student\",\"Student\",\"Student\",\"Student\",\"Unemployed\",\"Unemployed\",\"Unemployed\",\"Unemployed\",\"Business & Financial\",\"Business & Financial\",\"Business & Financial\",\"Business & Financial\",\"Retired\",\"Retired\",\"Retired\",\"Computer & Mathematical\",\"Computer & Mathematical\",\"Computer & Mathematical\",\"Computer & Mathematical\",\"Computer & Mathematical\",\"Sales & Related\",\"Sales & Related\",\"Sales & Related\",\"Sales & Related\",\"Sales & Related\",\"Student\",\"Student\",\"Student\",\"Student\",\"Student\",\"Farming Fishing & Forestry\",\"Farming Fishing & Forestry\",\"Farming Fishing & Forestry\",\"Farming Fishing & Forestry\",\"Farming Fishing & Forestry\",\"Farming Fishing & Forestry\",\"Computer & Mathematical\",\"Production Occupations\",\"Production Occupations\",\"Production Occupations\",\"Student\",\"Student\",\"Student\",\"Student\",\"Student\",\"Student\",\"Student\",\"Production Occupations\",\"Production Occupations\",\"Production Occupations\",\"Office & Administrative Support\",\"Office & Administrative Support\",\"Office & Administrative Support\",\"Office & Administrative Support\",\"Unemployed\",\"Unemployed\",\"Education&Training&Library\",\"Education&Training&Library\",\"Education&Training&Library\",\"Education&Training&Library\",\"Unemployed\",\"Unemployed\",\"Unemployed\",\"Unemployed\",\"Sales & Related\",\"Sales & Related\",\"Sales & Related\",\"Sales & Related\",\"Sales & Related\",\"Sales & Related\",\"Office & Administrative Support\",\"Computer & Mathematical\",\"Computer & Mathematical\",\"Computer & Mathematical\",\"Student\",\"Student\",\"Business & Financial\",\"Business & Financial\",\"Business & Financial\",\"Business & Financial\",\"Education&Training&Library\",\"Education&Training&Library\",\"Education&Training&Library\",\"Education&Training&Library\",\"Office & Administrative Support\",\"Office & Administrative Support\",\"Office & Administrative Support\",\"Office & Administrative Support\",\"Sales & Related\",\"Sales & Related\",\"Sales & Related\",\"Sales & Related\",\"Community & Social Services\",\"Community & Social Services\",\"Community & Social Services\",\"Unemployed\",\"Arts Design Entertainment Sports & Media\",\"Arts Design Entertainment Sports & Media\",\"Healthcare Practitioners & Technical\",\"Healthcare Practitioners & Technical\",\"Healthcare Practitioners & Technical\",\"Healthcare Practitioners & Technical\",\"Healthcare Practitioners & Technical\",\"Healthcare Practitioners & Technical\",\"Architecture & Engineering\",\"Architecture & Engineering\",\"Architecture & Engineering\",\"Architecture & Engineering\",\"Architecture & Engineering\",\"Computer & Mathematical\",\"Computer & Mathematical\",\"Computer & Mathematical\",\"Computer & Mathematical\",\"Computer & Mathematical\",\"Computer & Mathematical\",\"Computer & Mathematical\",\"Student\",\"Student\",\"Student\",\"Student\",\"Student\",\"Student\",\"Student\",\"Legal\",\"Legal\",\"Legal\",\"Unemployed\",\"Unemployed\",\"Unemployed\",\"Unemployed\",\"Unemployed\",\"Unemployed\",\"Unemployed\",\"Unemployed\",\"Unemployed\",\"Unemployed\",\"Personal Care & Service\",\"Personal Care & Service\",\"Personal Care & Service\",\"Personal Care & Service\",\"Arts Design Entertainment Sports & Media\",\"Arts Design Entertainment Sports & Media\",\"Arts Design Entertainment Sports & Media\",\"Arts Design Entertainment Sports & Media\",\"Arts Design Entertainment Sports & Media\",\"Community & Social Services\",\"Community & Social Services\",\"Community & Social Services\",\"Community & Social Services\",\"Unemployed\",\"Unemployed\",\"Unemployed\",\"Unemployed\",\"Office & Administrative Support\",\"Office & Administrative Support\",\"Office & Administrative Support\",\"Office & Administrative Support\",\"Office & Administrative Support\",\"Student\",\"Student\",\"Student\",\"Student\",\"Unemployed\",\"Unemployed\",\"Unemployed\",\"Unemployed\",\"Installation Maintenance & Repair\",\"Installation Maintenance & Repair\",\"Installation Maintenance & Repair\",\"Installation Maintenance & Repair\",\"Unemployed\",\"Unemployed\",\"Unemployed\",\"Unemployed\",\"Unemployed\",\"Food Preparation & Serving Related\",\"Food Preparation & Serving Related\",\"Food Preparation & Serving Related\",\"Protective Service\",\"Student\",\"Student\",\"Management\",\"Management\",\"Healthcare Support\",\"Healthcare Support\",\"Unemployed\",\"Unemployed\",\"Unemployed\",\"Food Preparation & Serving Related\",\"Food Preparation & Serving Related\",\"Food Preparation & Serving Related\",\"Computer & Mathematical\",\"Computer & Mathematical\",\"Computer & Mathematical\",\"Computer & Mathematical\",\"Healthcare Support\",\"Healthcare Support\",\"Healthcare Support\",\"Sales & Related\",\"Sales & Related\",\"Business & Financial\",\"Business & Financial\",\"Student\",\"Student\",\"Student\",\"Student\",\"Student\",\"Student\",\"Student\",\"Student\",\"Food Preparation & Serving Related\",\"Sales & Related\",\"Sales & Related\",\"Unemployed\",\"Production Occupations\",\"Production Occupations\",\"Production Occupations\",\"Computer & Mathematical\",\"Computer & Mathematical\",\"Computer & Mathematical\",\"Management\",\"Education&Training&Library\",\"Student\",\"Unemployed\",\"Transportation & Material Moving\",\"Transportation & Material Moving\",\"Transportation & Material Moving\",\"Student\",\"Education&Training&Library\",\"Food Preparation & Serving Related\",\"Food Preparation & Serving Related\",\"Food Preparation & Serving Related\",\"Unemployed\",\"Unemployed\",\"Unemployed\",\"Retired\",\"Sales & Related\",\"Sales & Related\",\"Arts Design Entertainment Sports & Media\",\"Student\",\"Student\",\"Student\",\"Student\",\"Healthcare Practitioners & Technical\",\"Construction & Extraction\",\"Construction & Extraction\",\"Construction & Extraction\",\"Student\",\"Student\",\"Student\",\"Management\",\"Management\",\"Management\",\"Sales & Related\",\"Unemployed\",\"Unemployed\",\"Computer & Mathematical\",\"Computer & Mathematical\",\"Computer & Mathematical\",\"Healthcare Support\",\"Healthcare Support\",\"Healthcare Practitioners & Technical\",\"Sales & Related\",\"Student\",\"Computer & Mathematical\",\"Education&Training&Library\",\"Unemployed\",\"Student\",\"Student\",\"Business & Financial\",\"Business & Financial\",\"Business & Financial\",\"Office & Administrative Support\",\"Office & Administrative Support\",\"Unemployed\",\"Arts Design Entertainment Sports & Media\",\"Unemployed\",\"Computer & Mathematical\",\"Healthcare Support\",\"Business & Financial\",\"Business & Financial\",\"Business & Financial\",\"Unemployed\",\"Retired\",\"Computer & Mathematical\",\"Education&Training&Library\",\"Unemployed\",\"Protective Service\",\"Unemployed\",\"Sales & Related\",\"Sales & Related\",\"Office & Administrative Support\",\"Student\",\"Personal Care & Service\",\"Personal Care & Service\",\"Unemployed\",\"Unemployed\"],\"xaxis\":\"x\",\"yaxis\":\"y\",\"type\":\"histogram\"}],                        {\"template\":{\"data\":{\"histogram2dcontour\":[{\"type\":\"histogram2dcontour\",\"colorbar\":{\"outlinewidth\":0,\"ticks\":\"\"},\"colorscale\":[[0.0,\"#0d0887\"],[0.1111111111111111,\"#46039f\"],[0.2222222222222222,\"#7201a8\"],[0.3333333333333333,\"#9c179e\"],[0.4444444444444444,\"#bd3786\"],[0.5555555555555556,\"#d8576b\"],[0.6666666666666666,\"#ed7953\"],[0.7777777777777778,\"#fb9f3a\"],[0.8888888888888888,\"#fdca26\"],[1.0,\"#f0f921\"]]}],\"choropleth\":[{\"type\":\"choropleth\",\"colorbar\":{\"outlinewidth\":0,\"ticks\":\"\"}}],\"histogram2d\":[{\"type\":\"histogram2d\",\"colorbar\":{\"outlinewidth\":0,\"ticks\":\"\"},\"colorscale\":[[0.0,\"#0d0887\"],[0.1111111111111111,\"#46039f\"],[0.2222222222222222,\"#7201a8\"],[0.3333333333333333,\"#9c179e\"],[0.4444444444444444,\"#bd3786\"],[0.5555555555555556,\"#d8576b\"],[0.6666666666666666,\"#ed7953\"],[0.7777777777777778,\"#fb9f3a\"],[0.8888888888888888,\"#fdca26\"],[1.0,\"#f0f921\"]]}],\"heatmap\":[{\"type\":\"heatmap\",\"colorbar\":{\"outlinewidth\":0,\"ticks\":\"\"},\"colorscale\":[[0.0,\"#0d0887\"],[0.1111111111111111,\"#46039f\"],[0.2222222222222222,\"#7201a8\"],[0.3333333333333333,\"#9c179e\"],[0.4444444444444444,\"#bd3786\"],[0.5555555555555556,\"#d8576b\"],[0.6666666666666666,\"#ed7953\"],[0.7777777777777778,\"#fb9f3a\"],[0.8888888888888888,\"#fdca26\"],[1.0,\"#f0f921\"]]}],\"heatmapgl\":[{\"type\":\"heatmapgl\",\"colorbar\":{\"outlinewidth\":0,\"ticks\":\"\"},\"colorscale\":[[0.0,\"#0d0887\"],[0.1111111111111111,\"#46039f\"],[0.2222222222222222,\"#7201a8\"],[0.3333333333333333,\"#9c179e\"],[0.4444444444444444,\"#bd3786\"],[0.5555555555555556,\"#d8576b\"],[0.6666666666666666,\"#ed7953\"],[0.7777777777777778,\"#fb9f3a\"],[0.8888888888888888,\"#fdca26\"],[1.0,\"#f0f921\"]]}],\"contourcarpet\":[{\"type\":\"contourcarpet\",\"colorbar\":{\"outlinewidth\":0,\"ticks\":\"\"}}],\"contour\":[{\"type\":\"contour\",\"colorbar\":{\"outlinewidth\":0,\"ticks\":\"\"},\"colorscale\":[[0.0,\"#0d0887\"],[0.1111111111111111,\"#46039f\"],[0.2222222222222222,\"#7201a8\"],[0.3333333333333333,\"#9c179e\"],[0.4444444444444444,\"#bd3786\"],[0.5555555555555556,\"#d8576b\"],[0.6666666666666666,\"#ed7953\"],[0.7777777777777778,\"#fb9f3a\"],[0.8888888888888888,\"#fdca26\"],[1.0,\"#f0f921\"]]}],\"surface\":[{\"type\":\"surface\",\"colorbar\":{\"outlinewidth\":0,\"ticks\":\"\"},\"colorscale\":[[0.0,\"#0d0887\"],[0.1111111111111111,\"#46039f\"],[0.2222222222222222,\"#7201a8\"],[0.3333333333333333,\"#9c179e\"],[0.4444444444444444,\"#bd3786\"],[0.5555555555555556,\"#d8576b\"],[0.6666666666666666,\"#ed7953\"],[0.7777777777777778,\"#fb9f3a\"],[0.8888888888888888,\"#fdca26\"],[1.0,\"#f0f921\"]]}],\"mesh3d\":[{\"type\":\"mesh3d\",\"colorbar\":{\"outlinewidth\":0,\"ticks\":\"\"}}],\"scatter\":[{\"fillpattern\":{\"fillmode\":\"overlay\",\"size\":10,\"solidity\":0.2},\"type\":\"scatter\"}],\"parcoords\":[{\"type\":\"parcoords\",\"line\":{\"colorbar\":{\"outlinewidth\":0,\"ticks\":\"\"}}}],\"scatterpolargl\":[{\"type\":\"scatterpolargl\",\"marker\":{\"colorbar\":{\"outlinewidth\":0,\"ticks\":\"\"}}}],\"bar\":[{\"error_x\":{\"color\":\"#2a3f5f\"},\"error_y\":{\"color\":\"#2a3f5f\"},\"marker\":{\"line\":{\"color\":\"#E5ECF6\",\"width\":0.5},\"pattern\":{\"fillmode\":\"overlay\",\"size\":10,\"solidity\":0.2}},\"type\":\"bar\"}],\"scattergeo\":[{\"type\":\"scattergeo\",\"marker\":{\"colorbar\":{\"outlinewidth\":0,\"ticks\":\"\"}}}],\"scatterpolar\":[{\"type\":\"scatterpolar\",\"marker\":{\"colorbar\":{\"outlinewidth\":0,\"ticks\":\"\"}}}],\"histogram\":[{\"marker\":{\"pattern\":{\"fillmode\":\"overlay\",\"size\":10,\"solidity\":0.2}},\"type\":\"histogram\"}],\"scattergl\":[{\"type\":\"scattergl\",\"marker\":{\"colorbar\":{\"outlinewidth\":0,\"ticks\":\"\"}}}],\"scatter3d\":[{\"type\":\"scatter3d\",\"line\":{\"colorbar\":{\"outlinewidth\":0,\"ticks\":\"\"}},\"marker\":{\"colorbar\":{\"outlinewidth\":0,\"ticks\":\"\"}}}],\"scattermapbox\":[{\"type\":\"scattermapbox\",\"marker\":{\"colorbar\":{\"outlinewidth\":0,\"ticks\":\"\"}}}],\"scatterternary\":[{\"type\":\"scatterternary\",\"marker\":{\"colorbar\":{\"outlinewidth\":0,\"ticks\":\"\"}}}],\"scattercarpet\":[{\"type\":\"scattercarpet\",\"marker\":{\"colorbar\":{\"outlinewidth\":0,\"ticks\":\"\"}}}],\"carpet\":[{\"aaxis\":{\"endlinecolor\":\"#2a3f5f\",\"gridcolor\":\"white\",\"linecolor\":\"white\",\"minorgridcolor\":\"white\",\"startlinecolor\":\"#2a3f5f\"},\"baxis\":{\"endlinecolor\":\"#2a3f5f\",\"gridcolor\":\"white\",\"linecolor\":\"white\",\"minorgridcolor\":\"white\",\"startlinecolor\":\"#2a3f5f\"},\"type\":\"carpet\"}],\"table\":[{\"cells\":{\"fill\":{\"color\":\"#EBF0F8\"},\"line\":{\"color\":\"white\"}},\"header\":{\"fill\":{\"color\":\"#C8D4E3\"},\"line\":{\"color\":\"white\"}},\"type\":\"table\"}],\"barpolar\":[{\"marker\":{\"line\":{\"color\":\"#E5ECF6\",\"width\":0.5},\"pattern\":{\"fillmode\":\"overlay\",\"size\":10,\"solidity\":0.2}},\"type\":\"barpolar\"}],\"pie\":[{\"automargin\":true,\"type\":\"pie\"}]},\"layout\":{\"autotypenumbers\":\"strict\",\"colorway\":[\"#636efa\",\"#EF553B\",\"#00cc96\",\"#ab63fa\",\"#FFA15A\",\"#19d3f3\",\"#FF6692\",\"#B6E880\",\"#FF97FF\",\"#FECB52\"],\"font\":{\"color\":\"#2a3f5f\"},\"hovermode\":\"closest\",\"hoverlabel\":{\"align\":\"left\"},\"paper_bgcolor\":\"white\",\"plot_bgcolor\":\"#E5ECF6\",\"polar\":{\"bgcolor\":\"#E5ECF6\",\"angularaxis\":{\"gridcolor\":\"white\",\"linecolor\":\"white\",\"ticks\":\"\"},\"radialaxis\":{\"gridcolor\":\"white\",\"linecolor\":\"white\",\"ticks\":\"\"}},\"ternary\":{\"bgcolor\":\"#E5ECF6\",\"aaxis\":{\"gridcolor\":\"white\",\"linecolor\":\"white\",\"ticks\":\"\"},\"baxis\":{\"gridcolor\":\"white\",\"linecolor\":\"white\",\"ticks\":\"\"},\"caxis\":{\"gridcolor\":\"white\",\"linecolor\":\"white\",\"ticks\":\"\"}},\"coloraxis\":{\"colorbar\":{\"outlinewidth\":0,\"ticks\":\"\"}},\"colorscale\":{\"sequential\":[[0.0,\"#0d0887\"],[0.1111111111111111,\"#46039f\"],[0.2222222222222222,\"#7201a8\"],[0.3333333333333333,\"#9c179e\"],[0.4444444444444444,\"#bd3786\"],[0.5555555555555556,\"#d8576b\"],[0.6666666666666666,\"#ed7953\"],[0.7777777777777778,\"#fb9f3a\"],[0.8888888888888888,\"#fdca26\"],[1.0,\"#f0f921\"]],\"sequentialminus\":[[0.0,\"#0d0887\"],[0.1111111111111111,\"#46039f\"],[0.2222222222222222,\"#7201a8\"],[0.3333333333333333,\"#9c179e\"],[0.4444444444444444,\"#bd3786\"],[0.5555555555555556,\"#d8576b\"],[0.6666666666666666,\"#ed7953\"],[0.7777777777777778,\"#fb9f3a\"],[0.8888888888888888,\"#fdca26\"],[1.0,\"#f0f921\"]],\"diverging\":[[0,\"#8e0152\"],[0.1,\"#c51b7d\"],[0.2,\"#de77ae\"],[0.3,\"#f1b6da\"],[0.4,\"#fde0ef\"],[0.5,\"#f7f7f7\"],[0.6,\"#e6f5d0\"],[0.7,\"#b8e186\"],[0.8,\"#7fbc41\"],[0.9,\"#4d9221\"],[1,\"#276419\"]]},\"xaxis\":{\"gridcolor\":\"white\",\"linecolor\":\"white\",\"ticks\":\"\",\"title\":{\"standoff\":15},\"zerolinecolor\":\"white\",\"automargin\":true,\"zerolinewidth\":2},\"yaxis\":{\"gridcolor\":\"white\",\"linecolor\":\"white\",\"ticks\":\"\",\"title\":{\"standoff\":15},\"zerolinecolor\":\"white\",\"automargin\":true,\"zerolinewidth\":2},\"scene\":{\"xaxis\":{\"backgroundcolor\":\"#E5ECF6\",\"gridcolor\":\"white\",\"linecolor\":\"white\",\"showbackground\":true,\"ticks\":\"\",\"zerolinecolor\":\"white\",\"gridwidth\":2},\"yaxis\":{\"backgroundcolor\":\"#E5ECF6\",\"gridcolor\":\"white\",\"linecolor\":\"white\",\"showbackground\":true,\"ticks\":\"\",\"zerolinecolor\":\"white\",\"gridwidth\":2},\"zaxis\":{\"backgroundcolor\":\"#E5ECF6\",\"gridcolor\":\"white\",\"linecolor\":\"white\",\"showbackground\":true,\"ticks\":\"\",\"zerolinecolor\":\"white\",\"gridwidth\":2}},\"shapedefaults\":{\"line\":{\"color\":\"#2a3f5f\"}},\"annotationdefaults\":{\"arrowcolor\":\"#2a3f5f\",\"arrowhead\":0,\"arrowwidth\":1},\"geo\":{\"bgcolor\":\"white\",\"landcolor\":\"#E5ECF6\",\"subunitcolor\":\"white\",\"showland\":true,\"showlakes\":true,\"lakecolor\":\"white\"},\"title\":{\"x\":0.05},\"mapbox\":{\"style\":\"light\"}}},\"xaxis\":{\"anchor\":\"y\",\"domain\":[0.0,1.0],\"title\":{\"text\":\"occupation\"},\"categoryorder\":\"total ascending\"},\"yaxis\":{\"anchor\":\"x\",\"domain\":[0.0,1.0],\"title\":{\"text\":\"count\"}},\"legend\":{\"title\":{\"text\":\"Y\"},\"tracegroupgap\":0},\"margin\":{\"t\":60},\"barmode\":\"relative\"},                        {\"responsive\": true}                    ).then(function(){\n",
              "                            \n",
              "var gd = document.getElementById('b8917abc-9711-4b5d-85fd-08ff8ad02f50');\n",
              "var x = new MutationObserver(function (mutations, observer) {{\n",
              "        var display = window.getComputedStyle(gd).display;\n",
              "        if (!display || display === 'none') {{\n",
              "            console.log([gd, 'removed!']);\n",
              "            Plotly.purge(gd);\n",
              "            observer.disconnect();\n",
              "        }}\n",
              "}});\n",
              "\n",
              "// Listen for the removal of the full notebook cells\n",
              "var notebookContainer = gd.closest('#notebook-container');\n",
              "if (notebookContainer) {{\n",
              "    x.observe(notebookContainer, {childList: true});\n",
              "}}\n",
              "\n",
              "// Listen for the clearing of the current output cell\n",
              "var outputEl = gd.closest('.output');\n",
              "if (outputEl) {{\n",
              "    x.observe(outputEl, {childList: true});\n",
              "}}\n",
              "\n",
              "                        })                };                            </script>        </div>\n",
              "</body>\n",
              "</html>"
            ]
          },
          "metadata": {}
        }
      ]
    },
    {
      "cell_type": "code",
      "source": [
        "coupons_coffee_house_df.groupby(['occupation'])['Y'].mean().sort_values(ascending=True)"
      ],
      "metadata": {
        "colab": {
          "base_uri": "https://localhost:8080/"
        },
        "id": "lFwBsIwPGaQk",
        "outputId": "11d9fd6e-fd26-4cb9-9fde-2e74e51c636e"
      },
      "execution_count": 100,
      "outputs": [
        {
          "output_type": "execute_result",
          "data": {
            "text/plain": [
              "occupation\n",
              "Community & Social Services                  0.351351\n",
              "Production Occupations                       0.357143\n",
              "Legal                                        0.376812\n",
              "Sales & Related                              0.391549\n",
              "Retired                                      0.402439\n",
              "Office & Administrative Support              0.431472\n",
              "Education&Training&Library                   0.435811\n",
              "Food Preparation & Serving Related           0.445783\n",
              "Protective Service                           0.448276\n",
              "Management                                   0.456376\n",
              "Life Physical Social Science                 0.475410\n",
              "Construction & Extraction                    0.478261\n",
              "Business & Financial                         0.479452\n",
              "Personal Care & Service                      0.500000\n",
              "Computer & Mathematical                      0.503341\n",
              "Arts Design Entertainment Sports & Media     0.507177\n",
              "Unemployed                                   0.542105\n",
              "Farming Fishing & Forestry                   0.545455\n",
              "Architecture & Engineering                   0.555556\n",
              "Installation Maintenance & Repair            0.568182\n",
              "Healthcare Support                           0.615385\n",
              "Transportation & Material Moving             0.618421\n",
              "Student                                      0.625251\n",
              "Building & Grounds Cleaning & Maintenance    0.727273\n",
              "Healthcare Practitioners & Technical         0.743243\n",
              "Name: Y, dtype: float64"
            ]
          },
          "metadata": {},
          "execution_count": 100
        }
      ]
    },
    {
      "cell_type": "code",
      "source": [
        "more_than_once_unemployed = coupons_coffee_house_df[(coupons_coffee_house_df['CoffeeHouse'].isin(more_than_once_list)) & (coupons_coffee_house_df['occupation'].isin(['Unemployed']))]['Y'].mean() * 100\n",
        "more_than_once_employed = coupons_coffee_house_df[(coupons_coffee_house_df['CoffeeHouse'].isin(more_than_once_list)) & ~(coupons_coffee_house_df['occupation'].isin(['Unemployed']))]['Y'].mean() * 100\n",
        "\n",
        "print('Coupon accept rate of drivers who frequent coffee houses more than once and are unemployed: ' + str(round(more_than_once_unemployed, 2)) + '%')\n",
        "print('Coupon accept rate of drivers who frequent coffee houses more than once and are employed: ' + str(round(more_than_once_employed, 2)) + '%')"
      ],
      "metadata": {
        "colab": {
          "base_uri": "https://localhost:8080/"
        },
        "id": "SlU2aXguGwjt",
        "outputId": "c87aadf0-343e-4375-a813-35a16e9a8112"
      },
      "execution_count": 124,
      "outputs": [
        {
          "output_type": "stream",
          "name": "stdout",
          "text": [
            "Coupon accept rate of drivers who frequent coffee houses more than once and are unemployed: 72.83%\n",
            "Coupon accept rate of drivers who frequent coffee houses more than once and are employed: 64.99%\n"
          ]
        }
      ]
    },
    {
      "cell_type": "markdown",
      "source": [
        "Hypothesis based on these obeservations: People who frequent coffee houses at least once a month are more likely to accept coffee house coupons. People frequent coffee houses at least once a month and are under 21 are more likely to accept coffee house coupons. People who frequent coffee houses at least once a month and are unemployed are more likely to accept coffee house coupons."
      ],
      "metadata": {
        "id": "geYTjG-yPf6V"
      }
    }
  ],
  "metadata": {
    "kernelspec": {
      "display_name": "Python 3",
      "language": "python",
      "name": "python3"
    },
    "language_info": {
      "codemirror_mode": {
        "name": "ipython",
        "version": 3
      },
      "file_extension": ".py",
      "mimetype": "text/x-python",
      "name": "python",
      "nbconvert_exporter": "python",
      "pygments_lexer": "ipython3",
      "version": "3.8.8"
    },
    "colab": {
      "provenance": []
    }
  },
  "nbformat": 4,
  "nbformat_minor": 0
}